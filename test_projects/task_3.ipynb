{
 "cells": [
  {
   "cell_type": "markdown",
   "id": "d290baea-21dd-434c-a670-68c6cecb8fbf",
   "metadata": {},
   "source": [
    "# Задание 3"
   ]
  },
  {
   "cell_type": "code",
   "execution_count": 173,
   "id": "24eb17e4-6be1-414a-879f-1c376012456b",
   "metadata": {},
   "outputs": [
    {
     "name": "stdout",
     "output_type": "stream",
     "text": [
      "The lab_black extension is already loaded. To reload it, use:\n",
      "  %reload_ext lab_black\n"
     ]
    }
   ],
   "source": [
    "import pandas as pd\n",
    "import numpy as np\n",
    "from geopy.distance import geodesic as GD\n",
    "\n",
    "pd.options.mode.chained_assignment = None\n",
    "\n",
    "%load_ext lab_black"
   ]
  },
  {
   "cell_type": "code",
   "execution_count": 174,
   "id": "a44e9a35-91ea-4789-b7ab-ede06cd2ccab",
   "metadata": {},
   "outputs": [],
   "source": [
    "# загрузка и очистка данных\n",
    "df_ves = pd.read_csv(\"/home/sk27/repo/eremeev/test_projects/ves_test.csv\").reset_index(\n",
    "    drop=True\n",
    ")\n",
    "df_ves.drop_duplicates(inplace=True)"
   ]
  },
  {
   "cell_type": "code",
   "execution_count": 175,
   "id": "7e66504c-508f-4ed6-ba86-ca45918f2d4c",
   "metadata": {},
   "outputs": [
    {
     "name": "stdout",
     "output_type": "stream",
     "text": [
      "CPU times: user 2.56 s, sys: 2.09 ms, total: 2.56 s\n",
      "Wall time: 2.57 s\n"
     ]
    }
   ],
   "source": [
    "%%time\n",
    "\n",
    "# пустой dataframe для аккумулирования результатов\n",
    "df_result = pd.DataFrame()\n",
    "# кластеризация в разрезе идентификатора орудия лова\n",
    "for oper in list(set(df_ves.id_oper)):\n",
    "    # фильтр по орудию лова\n",
    "    df_ves_oper = df_ves.loc[(df_ves.id_oper == oper)]\n",
    "    # присвоение каждому судну своего собственного номера кластера - на этом этапе число кластеров равно числу судов (или наоборот, как вам угодно)\n",
    "    df_ves_oper[\"cluster\"] = df_ves_oper.groupby(\"id_ves\")[\"id_ves\"].ngroup()\n",
    "    # соединение данных по принипу декартова произведения (\"каждое с каждым\")\n",
    "    df_cross = df_ves_oper.merge(df_ves_oper, how=\"cross\")\n",
    "    # рассчёт расстояний между судами в каждой паре\n",
    "    df_cross[\"dist\"] = df_cross.apply(\n",
    "        lambda row: GD(\n",
    "            (row[\"latitude_x\"], row[\"longitude_x\"]),\n",
    "            (row[\"latitude_y\"], row[\"longitude_y\"]),\n",
    "        ).km\n",
    "        / 1.852,\n",
    "        axis=1,\n",
    "    )\n",
    "    # фильтрафия полученных данных, оставляя строки, в которых расстояние не более 5 морских миль и коды судов различаются,\n",
    "    # удаление дубликатов записей\n",
    "    df_cross = (\n",
    "        df_cross[\n",
    "            (df_cross[\"dist\"] <= 5) & (df_cross[\"id_ves_x\"] != df_cross[\"id_ves_y\"])\n",
    "        ][[\"id_ves_x\", \"id_ves_y\", \"cluster_x\", \"cluster_y\", \"dist\"]]\n",
    "        .drop_duplicates()\n",
    "        .reset_index(drop=True)\n",
    "    )\n",
    "    # создание словря, в котором каждому следующему коду судна сопоставляется код кластера\n",
    "    # судна, находящегося от него на расстоянии не более 5 морских миль, если это судно уже\n",
    "    # встречалось, иначе код кластера не изменяется\n",
    "    cluster_dict = {}\n",
    "    for index, row in df_cross.iterrows():\n",
    "        if index == 0:\n",
    "            cluster_dict[row[\"id_ves_x\"]] = row[\"cluster_x\"]\n",
    "            cluster_dict[row[\"id_ves_y\"]] = row[\"cluster_x\"]\n",
    "        else:\n",
    "            if (\n",
    "                row[\"id_ves_x\"] in cluster_dict.keys()\n",
    "                and row[\"id_ves_y\"] not in cluster_dict.keys()\n",
    "            ):\n",
    "                cluster_dict[row[\"id_ves_y\"]] = row[\"cluster_x\"]\n",
    "            elif row[\"id_ves_x\"] not in cluster_dict.keys():\n",
    "                cluster_dict[row[\"id_ves_x\"]] = row[\"cluster_x\"]\n",
    "                cluster_dict[row[\"id_ves_y\"]] = row[\"cluster_x\"]\n",
    "            else:\n",
    "                pass\n",
    "    # изменение значения кодов кластеров в первоначальном наборе данных для текущего орудия лова\n",
    "    for key, value in cluster_dict.items():\n",
    "        df_ves_oper[\"cluster\"].where(\n",
    "            ~(df_ves_oper[\"id_ves\"] == key), other=value, inplace=True\n",
    "        )\n",
    "    # присоедниение данных к результирующему dataframe\n",
    "    df_result = pd.concat([df_result, df_ves_oper]).reset_index(drop=True)\n",
    "# формирование уникального идентификатора для каждого кластера\n",
    "df_result[\"cluster\"] = df_result.apply(\n",
    "    lambda row: str(int(row[\"id_oper\"])) + str(int(row[\"cluster\"])), axis=1\n",
    ")"
   ]
  },
  {
   "cell_type": "code",
   "execution_count": 180,
   "id": "40a943f0-9121-48bc-9463-d9723067d6de",
   "metadata": {},
   "outputs": [
    {
     "data": {
      "text/plain": [
       "93"
      ]
     },
     "execution_count": 180,
     "metadata": {},
     "output_type": "execute_result"
    }
   ],
   "source": [
    "df_result.cluster.unique().shape[0]"
   ]
  },
  {
   "cell_type": "code",
   "execution_count": null,
   "id": "2ef98e30-c9f5-4496-ae61-046bd04bba87",
   "metadata": {},
   "outputs": [],
   "source": []
  }
 ],
 "metadata": {
  "kernelspec": {
   "display_name": "Python 3 (ipykernel)",
   "language": "python",
   "name": "python3"
  },
  "language_info": {
   "codemirror_mode": {
    "name": "ipython",
    "version": 3
   },
   "file_extension": ".py",
   "mimetype": "text/x-python",
   "name": "python",
   "nbconvert_exporter": "python",
   "pygments_lexer": "ipython3",
   "version": "3.8.13"
  },
  "widgets": {
   "application/vnd.jupyter.widget-state+json": {
    "state": {
     "008b03763b75439293475671aec96a81": {
      "model_module": "@jupyter-widgets/base",
      "model_module_version": "1.2.0",
      "model_name": "LayoutModel",
      "state": {}
     },
     "51c50235a5fd48789aac180d2afda7e7": {
      "model_module": "@jupyter-widgets/base",
      "model_module_version": "1.2.0",
      "model_name": "LayoutModel",
      "state": {}
     },
     "5bd6d279d9a941dcb387c70e8c358e4f": {
      "model_module": "mitosheet",
      "model_module_version": "^0.1.455",
      "model_name": "ExampleModel",
      "state": {
       "_model_module_version": "^0.1.455",
       "_view_module_version": "^0.1.455",
       "analysis_data_json": "{\"analysisName\": \"id-jkvhwlftar\", \"analysisToReplay\": null, \"code\": [], \"stepSummaryList\": [{\"step_id\": \"initialize\", \"step_idx\": 0, \"step_type\": \"initialize\", \"step_display_name\": \"Created a mitosheet\", \"step_description\": \"Created a new mitosheet\"}], \"currStepIdx\": 0, \"dataTypeInTool\": \"personal\", \"graphDataDict\": {}, \"updateEventCount\": 2, \"renderCount\": 1, \"lastResult\": null, \"experiment\": {\"experiment_id\": \"installer_communication_and_time_to_value\", \"variant\": \"B\"}}",
       "layout": "IPY_MODEL_b833f2c9e8044cf99c718d6db5c8ba78",
       "sheet_data_json": "[{\"dfName\": \"pd.DataFrame(df_result.groupby([\\\"id_oper\\\"\", \"dfSource\": \"passed\", \"numRows\": 93, \"numColumns\": 1, \"data\": [{\"columnID\": \"id_ves\", \"columnHeader\": \"id_ves\", \"columnDtype\": \"int64\", \"columnData\": [3, 1, 1, 1, 1, 1, 1, 1, 1, 1, 1, 1, 2, 1, 1, 16, 4, 1, 1, 1, 1, 2, 2, 2, 3, 6, 2, 2, 1, 1, 1, 1, 1, 4, 1, 2, 2, 1, 2, 2, 2, 2, 1, 3, 3, 1, 1, 1, 1, 1, 2, 1, 1, 3, 1, 1, 1, 1, 1, 1, 2, 1, 1, 1, 2, 1, 1, 1, 1, 1, 1, 1, 1, 10, 1, 1, 1, 1, 1, 1, 1, 1, 1, 1, 1, 1, 1, 1, 1, 1, 1, 1, 1]}], \"columnIDsMap\": {\"id_ves\": \"id_ves\"}, \"columnSpreadsheetCodeMap\": {\"id_ves\": \"\"}, \"columnFiltersMap\": {\"id_ves\": {\"operator\": \"And\", \"filters\": []}}, \"columnDtypeMap\": {\"id_ves\": \"int64\"}, \"index\": [[11, 0], [11, 3], [11, 4], [12, 2], [12, 3], [12, 4], [12, 6], [12, 7], [12, 8], [12, 9], [12, 10], [12, 14], [12, 16], [12, 19], [12, 21], [12, 23], [12, 24], [12, 27], [12, 28], [12, 30], [12, 31], [12, 33], [12, 35], [12, 36], [12, 39], [12, 40], [12, 42], [12, 43], [12, 51], [12, 53], [12, 54], [12, 56], [12, 57], [12, 58], [12, 59], [12, 60], [12, 62], [12, 66], [12, 67], [12, 69], [12, 70], [12, 71], [12, 72], [12, 74], [12, 76], [12, 78], [12, 79], [12, 80], [12, 81], [12, 84], [12, 89], [12, 90], [12, 91], [12, 93], [12, 98], [12, 99], [16, 0], [16, 1], [16, 2], [16, 4], [16, 5], [16, 6], [16, 7], [16, 8], [16, 9], [16, 10], [16, 11], [16, 12], [16, 13], [16, 14], [16, 15], [16, 17], [16, 24], [16, 28], [16, 29], [17, 0], [18, 0], [18, 1], [18, 2], [18, 3], [18, 4], [18, 5], [20, 0], [20, 1], [20, 2], [20, 3], [20, 4], [20, 5], [20, 6], [20, 7], [20, 8], [20, 9], [20, 10]], \"dfFormat\": {\"columns\": {}, \"headers\": {}, \"rows\": {\"even\": {}, \"odd\": {}}, \"border\": {}, \"conditional_formats\": []}, \"conditionalFormattingResult\": {\"invalid_conditional_formats\": {}, \"results\": {}}}]",
       "user_profile_json": "{\"userEmail\": \"sk27101971@yandex.ru\", \"receivedTours\": [\"Intro\"], \"receivedChecklists\": {}, \"isPro\": false, \"telemetryEnabled\": true, \"excelImportEnabled\": true, \"isLocalDeployment\": true, \"shouldUpgradeMitosheet\": false, \"numUsages\": 23, \"mitoConfig\": {\"mec_version\": 1, \"support_email\": \"founders@sagacollab.com\"}}"
      }
     },
     "9e69c649e5c94c80afadc9eac405c717": {
      "model_module": "@jupyter-widgets/base",
      "model_module_version": "1.2.0",
      "model_name": "LayoutModel",
      "state": {}
     },
     "b3977a49eec646e7856501022f02d373": {
      "model_module": "mitosheet",
      "model_module_version": "^0.1.455",
      "model_name": "ExampleModel",
      "state": {
       "_model_module_version": "^0.1.455",
       "_view_module_version": "^0.1.455",
       "analysis_data_json": "{\"analysisName\": \"id-dlpojvuncg\", \"analysisToReplay\": null, \"code\": [], \"stepSummaryList\": [{\"step_id\": \"initialize\", \"step_idx\": 0, \"step_type\": \"initialize\", \"step_display_name\": \"Created a mitosheet\", \"step_description\": \"Created a new mitosheet\"}], \"currStepIdx\": 0, \"dataTypeInTool\": \"personal\", \"graphDataDict\": {}, \"updateEventCount\": 2, \"renderCount\": 1, \"lastResult\": null, \"experiment\": {\"experiment_id\": \"installer_communication_and_time_to_value\", \"variant\": \"B\"}}",
       "layout": "IPY_MODEL_51c50235a5fd48789aac180d2afda7e7",
       "sheet_data_json": "[{\"dfName\": \"df_result\", \"dfSource\": \"passed\", \"numRows\": 153, \"numColumns\": 5, \"data\": [{\"columnID\": \"id_ves\", \"columnHeader\": \"id_ves\", \"columnDtype\": \"int64\", \"columnData\": [11091, 10750, 10852, 10941, 15018, 30108, 11767, 46363, 13041, 10237, 13102, 10552, 10183, 10959, 11116, 11200, 11738, 10518, 13841, 11015, 13866, 11820, 11308, 11532, 13074, 10209, 11530, 11533, 13028, 10256, 10023, 11314, 13853, 20443, 46294, 22177, 10184, 11306, 11535, 11310, 13049, 10083, 13953, 11319, 13854, 13080, 10640, 12019, 11315, 11318, 11316, 11320, 11317, 30100, 17683, 10563, 11275, 11651, 12016, 12099, 12114, 12197, 13013, 46231, 46271, 46287, 46376, 10018, 10019, 10020, 10069, 10078, 10239, 10274, 10360, 10377, 10408, 10452, 10483, 10520, 10524, 10686, 10846, 10909, 10932, 10960, 11016, 11285, 11429, 11673, 11762, 11781, 12009, 12125, 14035, 14042, 14043, 15020, 15022, 20074, 20440, 20601, 10531, 10697, 14028, 10160, 11403, 13326, 11705, 11682, 11409, 11459, 11107, 11174, 11404, 11829, 12161, 27449, 10519, 10260, 10420, 10963, 11411, 17056, 27450, 46175, 12559, 13542, 13543, 13544, 13706, 13712, 13713, 17070, 17071, 46237, 13493, 11869, 13043, 13672, 46181, 46274, 10201, 10231, 10393, 13919, 15024, 15040, 15051, 15054, 15060, 27464, 30446]}, {\"columnID\": \"latitude\", \"columnHeader\": \"latitude\", \"columnDtype\": \"float64\", \"columnData\": [51.66, 51.56, 51.58, 51.56, 51.65, 56.7, 58.68, 57.45, 57.93, 57.2, 56.96, 56.68, 56.3, 58.38, 58.63, 56.76, 58.6, 56.3, 56.73, 56.53, 56.71, 58.55, 56.58, 56.51, 56.88, 57.8, 56.71, 58.65, 56.55, 56.63, 56.95, 57.05, 58.5, 56.76, 56.68, 51.01, 56.18, 56.7, 56.8, 56.7, 57.8, 56.18, 51.25, 56.65, 56.71, 56.73, 56.8, 58.48, 56.71, 56.7, 57.0, 56.6, 56.51, 56.63, 56.68, 56.15, 56.75, 52.55, 51.53, 51.56, 56.71, 56.53, 56.76, 56.66, 58.63, 56.75, 59.0, 56.56, 58.65, 56.61, 55.9, 58.43, 58.5, 56.48, 57.76, 56.53, 56.23, 57.0, 56.13, 57.01, 57.63, 57.91, 54.91, 56.63, 57.91, 56.53, 56.7, 56.66, 56.7, 56.2, 56.1, 56.96, 56.6, 56.23, 57.3, 56.65, 57.75, 56.91, 56.56, 58.5, 56.08, 57.03, 56.11, 56.88, 55.88, 54.46, 55.33, 54.63, 55.13, 54.75, 51.46, 51.26, 52.5, 52.1, 51.95, 51.15, 52.18, 52.48, 51.51, 55.31, 54.16, 54.83, 55.21, 54.3, 51.63, 51.78, 51.63, 51.63, 51.63, 51.63, 51.63, 51.63, 51.63, 51.63, 51.63, 56.0, 53.86, 56.73, 57.1, 50.41, 56.38, 56.06, 55.81, 54.81, 53.93, 55.0, 49.93, 53.18, 55.05, 53.98, 54.35, 57.3, 55.6]}, {\"columnID\": \"longitude\", \"columnHeader\": \"longitude\", \"columnDtype\": \"float64\", \"columnData\": [155.4, 155.18, 155.15, 155.26, 154.88, 148.53, 156.26, 151.76, 152.76, 151.15, 150.83, 149.81, 149.36, 155.7, 156.13, 149.83, 156.1, 149.63, 149.96, 149.58, 150.75, 155.98, 149.9, 148.86, 148.81, 150.33, 149.88, 156.16, 150.05, 149.86, 150.1, 148.93, 155.83, 148.41, 149.86, 157.06, 149.7, 149.23, 149.66, 149.31, 151.96, 149.48, 156.23, 149.88, 149.88, 149.91, 148.51, 155.86, 149.48, 148.68, 148.96, 149.86, 149.53, 149.46, 149.86, 151.15, 149.8, 155.88, 156.0, 155.91, 149.75, 149.3, 148.6, 149.85, 156.21, 149.91, 156.86, 149.9, 156.18, 150.5, 150.96, 155.85, 155.93, 149.23, 152.03, 149.9, 150.98, 150.83, 151.15, 150.73, 152.15, 152.83, 153.28, 149.85, 152.33, 150.08, 149.83, 149.83, 149.36, 151.0, 150.91, 154.4, 149.81, 150.83, 151.28, 149.95, 152.1, 149.91, 149.85, 155.93, 151.11, 151.05, 151.13, 153.05, 154.23, 155.58, 155.01, 155.53, 155.51, 155.08, 156.33, 157.53, 155.36, 155.53, 155.61, 155.95, 155.46, 155.38, 156.33, 155.45, 155.61, 155.58, 155.45, 155.68, 155.73, 155.7, 155.7, 155.7, 155.7, 155.7, 155.7, 155.7, 155.7, 155.7, 155.7, 152.41, 152.71, 151.96, 152.7, 154.75, 152.06, 152.4, 153.9, 154.18, 154.36, 154.06, 154.83, 154.56, 151.81, 150.33, 151.03, 153.71, 153.53]}, {\"columnID\": \"id_oper\", \"columnHeader\": \"id_oper\", \"columnDtype\": \"int64\", \"columnData\": [11, 11, 11, 11, 11, 12, 12, 12, 12, 12, 12, 12, 12, 12, 12, 12, 12, 12, 12, 12, 12, 12, 12, 12, 12, 12, 12, 12, 12, 12, 12, 12, 12, 12, 12, 12, 12, 12, 12, 12, 12, 12, 12, 12, 12, 12, 12, 12, 12, 12, 12, 12, 12, 12, 12, 12, 12, 12, 12, 12, 12, 12, 12, 12, 12, 12, 12, 12, 12, 12, 12, 12, 12, 12, 12, 12, 12, 12, 12, 12, 12, 12, 12, 12, 12, 12, 12, 12, 12, 12, 12, 12, 12, 12, 12, 12, 12, 12, 12, 12, 12, 12, 12, 12, 12, 16, 16, 16, 16, 16, 16, 16, 16, 16, 16, 16, 16, 16, 16, 16, 16, 16, 16, 16, 16, 16, 16, 16, 16, 16, 16, 16, 16, 16, 16, 17, 18, 18, 18, 18, 18, 18, 20, 20, 20, 20, 20, 20, 20, 20, 20, 20, 20]}, {\"columnID\": \"cluster\", \"columnHeader\": \"cluster\", \"columnDtype\": \"int64\", \"columnData\": [3, 0, 0, 0, 4, 93, 58, 98, 70, 10, 74, 23, 7, 31, 35, 23, 35, 19, 36, 33, 78, 56, 40, 51, 72, 9, 23, 58, 69, 40, 3, 42, 76, 89, 23, 91, 8, 39, 53, 39, 71, 6, 79, 23, 23, 23, 89, 76, 43, 93, 42, 40, 33, 43, 23, 24, 23, 54, 62, 62, 23, 67, 93, 23, 58, 36, 99, 40, 58, 2, 4, 76, 60, 67, 71, 40, 16, 74, 24, 74, 21, 70, 28, 23, 30, 69, 23, 23, 39, 16, 57, 59, 23, 66, 81, 23, 14, 84, 40, 60, 24, 90, 24, 27, 80, 0, 7, 17, 13, 12, 9, 11, 5, 6, 8, 14, 15, 5, 9, 1, 2, 4, 10, 24, 28, 29, 28, 28, 28, 28, 28, 28, 28, 28, 28, 0, 2, 0, 1, 3, 4, 5, 0, 1, 2, 3, 4, 5, 6, 7, 8, 9, 10]}], \"columnIDsMap\": {\"id_ves\": \"id_ves\", \"latitude\": \"latitude\", \"longitude\": \"longitude\", \"id_oper\": \"id_oper\", \"cluster\": \"cluster\"}, \"columnSpreadsheetCodeMap\": {\"id_ves\": \"\", \"latitude\": \"\", \"longitude\": \"\", \"id_oper\": \"\", \"cluster\": \"\"}, \"columnFiltersMap\": {\"id_ves\": {\"operator\": \"And\", \"filters\": []}, \"latitude\": {\"operator\": \"And\", \"filters\": []}, \"longitude\": {\"operator\": \"And\", \"filters\": []}, \"id_oper\": {\"operator\": \"And\", \"filters\": []}, \"cluster\": {\"operator\": \"And\", \"filters\": []}}, \"columnDtypeMap\": {\"id_ves\": \"int64\", \"latitude\": \"float64\", \"longitude\": \"float64\", \"id_oper\": \"int64\", \"cluster\": \"int64\"}, \"index\": [37, 104, 106, 109, 125, 1, 2, 3, 6, 8, 9, 10, 11, 12, 13, 15, 16, 17, 18, 20, 21, 22, 23, 24, 26, 27, 28, 29, 30, 31, 32, 33, 34, 35, 36, 38, 39, 40, 41, 42, 43, 44, 45, 46, 47, 48, 49, 50, 52, 53, 55, 56, 57, 58, 59, 62, 65, 67, 69, 70, 71, 73, 74, 77, 79, 81, 82, 84, 85, 86, 87, 88, 91, 93, 94, 95, 97, 99, 100, 101, 102, 103, 105, 107, 108, 110, 112, 113, 115, 116, 117, 118, 119, 120, 122, 123, 124, 126, 127, 133, 134, 135, 140, 141, 142, 0, 4, 14, 19, 54, 60, 61, 63, 64, 66, 68, 72, 75, 83, 92, 98, 111, 114, 138, 139, 143, 144, 145, 146, 147, 148, 149, 150, 151, 152, 78, 5, 7, 25, 51, 76, 80, 89, 90, 96, 121, 128, 129, 130, 131, 132, 136, 137], \"dfFormat\": {\"columns\": {}, \"headers\": {}, \"rows\": {\"even\": {}, \"odd\": {}}, \"border\": {}, \"conditional_formats\": []}, \"conditionalFormattingResult\": {\"invalid_conditional_formats\": {}, \"results\": {}}}]",
       "user_profile_json": "{\"userEmail\": \"sk27101971@yandex.ru\", \"receivedTours\": [\"Intro\"], \"receivedChecklists\": {}, \"isPro\": false, \"telemetryEnabled\": true, \"excelImportEnabled\": true, \"isLocalDeployment\": true, \"shouldUpgradeMitosheet\": false, \"numUsages\": 23, \"mitoConfig\": {\"mec_version\": 1, \"support_email\": \"founders@sagacollab.com\"}}"
      }
     },
     "b833f2c9e8044cf99c718d6db5c8ba78": {
      "model_module": "@jupyter-widgets/base",
      "model_module_version": "1.2.0",
      "model_name": "LayoutModel",
      "state": {}
     },
     "c259406c80674e90959b4142d8405157": {
      "model_module": "mitosheet",
      "model_module_version": "^0.1.455",
      "model_name": "ExampleModel",
      "state": {
       "_model_module_version": "^0.1.455",
       "_view_module_version": "^0.1.455",
       "analysis_data_json": "{\"analysisName\": \"id-adldeespfc\", \"analysisToReplay\": null, \"code\": [], \"stepSummaryList\": [{\"step_id\": \"initialize\", \"step_idx\": 0, \"step_type\": \"initialize\", \"step_display_name\": \"Created a mitosheet\", \"step_description\": \"Created a new mitosheet\"}], \"currStepIdx\": 0, \"dataTypeInTool\": \"personal\", \"graphDataDict\": {}, \"updateEventCount\": 2, \"renderCount\": 1, \"lastResult\": null, \"experiment\": {\"experiment_id\": \"installer_communication_and_time_to_value\", \"variant\": \"B\"}}",
       "layout": "IPY_MODEL_9e69c649e5c94c80afadc9eac405c717",
       "sheet_data_json": "[{\"dfName\": \"pd.DataFrame(df_result.groupby(\\\"cluster\\\"\", \"dfSource\": \"passed\", \"numRows\": 93, \"numColumns\": 1, \"data\": [{\"columnID\": \"id_ves\", \"columnHeader\": \"id_ves\", \"columnDtype\": \"int64\", \"columnData\": [3, 1, 1, 1, 1, 2, 1, 1, 1, 16, 4, 1, 1, 1, 1, 1, 2, 2, 2, 3, 1, 6, 2, 2, 1, 1, 1, 1, 1, 4, 1, 1, 2, 2, 1, 2, 2, 1, 2, 2, 1, 3, 3, 1, 1, 1, 1, 1, 1, 2, 1, 1, 1, 3, 1, 1, 1, 1, 1, 1, 1, 1, 1, 1, 1, 1, 1, 10, 1, 1, 2, 1, 1, 1, 2, 1, 1, 1, 1, 1, 1, 1, 1, 1, 1, 1, 1, 1, 1, 1, 1, 1, 1]}], \"columnIDsMap\": {\"id_ves\": \"id_ves\"}, \"columnSpreadsheetCodeMap\": {\"id_ves\": \"\"}, \"columnFiltersMap\": {\"id_ves\": {\"operator\": \"And\", \"filters\": []}}, \"columnDtypeMap\": {\"id_ves\": \"int64\"}, \"index\": [\"110\", \"113\", \"114\", \"1210\", \"1214\", \"1216\", \"1219\", \"122\", \"1221\", \"1223\", \"1224\", \"1227\", \"1228\", \"123\", \"1230\", \"1231\", \"1233\", \"1235\", \"1236\", \"1239\", \"124\", \"1240\", \"1242\", \"1243\", \"1251\", \"1253\", \"1254\", \"1256\", \"1257\", \"1258\", \"1259\", \"126\", \"1260\", \"1262\", \"1266\", \"1267\", \"1269\", \"127\", \"1270\", \"1271\", \"1272\", \"1274\", \"1276\", \"1278\", \"1279\", \"128\", \"1280\", \"1281\", \"1284\", \"1289\", \"129\", \"1290\", \"1291\", \"1293\", \"1298\", \"1299\", \"160\", \"161\", \"1610\", \"1611\", \"1612\", \"1613\", \"1614\", \"1615\", \"1617\", \"162\", \"1624\", \"1628\", \"1629\", \"164\", \"165\", \"166\", \"167\", \"168\", \"169\", \"170\", \"180\", \"181\", \"182\", \"183\", \"184\", \"185\", \"200\", \"201\", \"2010\", \"202\", \"203\", \"204\", \"205\", \"206\", \"207\", \"208\", \"209\"], \"dfFormat\": {\"columns\": {}, \"headers\": {}, \"rows\": {\"even\": {}, \"odd\": {}}, \"border\": {}, \"conditional_formats\": []}, \"conditionalFormattingResult\": {\"invalid_conditional_formats\": {}, \"results\": {}}}]",
       "user_profile_json": "{\"userEmail\": \"sk27101971@yandex.ru\", \"receivedTours\": [\"Intro\"], \"receivedChecklists\": {}, \"isPro\": false, \"telemetryEnabled\": true, \"excelImportEnabled\": true, \"isLocalDeployment\": true, \"shouldUpgradeMitosheet\": false, \"numUsages\": 23, \"mitoConfig\": {\"mec_version\": 1, \"support_email\": \"founders@sagacollab.com\"}}"
      }
     },
     "cfd4361a0a0a4c539a1b69c640ba0d75": {
      "model_module": "mitosheet",
      "model_module_version": "^0.1.455",
      "model_name": "ExampleModel",
      "state": {
       "_model_module_version": "^0.1.455",
       "_view_module_version": "^0.1.455",
       "analysis_data_json": "{\"analysisName\": \"id-dqqgqwohev\", \"analysisToReplay\": null, \"code\": [], \"stepSummaryList\": [{\"step_id\": \"initialize\", \"step_idx\": 0, \"step_type\": \"initialize\", \"step_display_name\": \"Created a mitosheet\", \"step_description\": \"Created a new mitosheet\"}], \"currStepIdx\": 0, \"dataTypeInTool\": \"personal\", \"graphDataDict\": {}, \"updateEventCount\": 2, \"renderCount\": 1, \"lastResult\": null, \"experiment\": {\"experiment_id\": \"installer_communication_and_time_to_value\", \"variant\": \"B\"}}",
       "layout": "IPY_MODEL_008b03763b75439293475671aec96a81",
       "sheet_data_json": "[{\"dfName\": \"pd.DataFrame(df_result.groupby(\\\"cluster\\\"\", \"dfSource\": \"passed\", \"numRows\": 93, \"numColumns\": 1, \"data\": [{\"columnID\": \"id_ves\", \"columnHeader\": \"id_ves\", \"columnDtype\": \"int64\", \"columnData\": [3, 1, 1, 1, 1, 2, 1, 1, 1, 16, 4, 1, 1, 1, 1, 1, 2, 2, 2, 3, 1, 6, 2, 2, 1, 1, 1, 1, 1, 4, 1, 1, 2, 2, 1, 2, 2, 1, 2, 2, 1, 3, 3, 1, 1, 1, 1, 1, 1, 2, 1, 1, 1, 3, 1, 1, 1, 1, 1, 1, 1, 1, 1, 1, 1, 1, 1, 10, 1, 1, 2, 1, 1, 1, 2, 1, 1, 1, 1, 1, 1, 1, 1, 1, 1, 1, 1, 1, 1, 1, 1, 1, 1]}], \"columnIDsMap\": {\"id_ves\": \"id_ves\"}, \"columnSpreadsheetCodeMap\": {\"id_ves\": \"\"}, \"columnFiltersMap\": {\"id_ves\": {\"operator\": \"And\", \"filters\": []}}, \"columnDtypeMap\": {\"id_ves\": \"int64\"}, \"index\": [\"11-0\", \"11-3\", \"11-4\", \"12-10\", \"12-14\", \"12-16\", \"12-19\", \"12-2\", \"12-21\", \"12-23\", \"12-24\", \"12-27\", \"12-28\", \"12-3\", \"12-30\", \"12-31\", \"12-33\", \"12-35\", \"12-36\", \"12-39\", \"12-4\", \"12-40\", \"12-42\", \"12-43\", \"12-51\", \"12-53\", \"12-54\", \"12-56\", \"12-57\", \"12-58\", \"12-59\", \"12-6\", \"12-60\", \"12-62\", \"12-66\", \"12-67\", \"12-69\", \"12-7\", \"12-70\", \"12-71\", \"12-72\", \"12-74\", \"12-76\", \"12-78\", \"12-79\", \"12-8\", \"12-80\", \"12-81\", \"12-84\", \"12-89\", \"12-9\", \"12-90\", \"12-91\", \"12-93\", \"12-98\", \"12-99\", \"16-0\", \"16-1\", \"16-10\", \"16-11\", \"16-12\", \"16-13\", \"16-14\", \"16-15\", \"16-17\", \"16-2\", \"16-24\", \"16-28\", \"16-29\", \"16-4\", \"16-5\", \"16-6\", \"16-7\", \"16-8\", \"16-9\", \"17-0\", \"18-0\", \"18-1\", \"18-2\", \"18-3\", \"18-4\", \"18-5\", \"20-0\", \"20-1\", \"20-10\", \"20-2\", \"20-3\", \"20-4\", \"20-5\", \"20-6\", \"20-7\", \"20-8\", \"20-9\"], \"dfFormat\": {\"columns\": {}, \"headers\": {}, \"rows\": {\"even\": {}, \"odd\": {}}, \"border\": {}, \"conditional_formats\": []}, \"conditionalFormattingResult\": {\"invalid_conditional_formats\": {}, \"results\": {}}}]",
       "user_profile_json": "{\"userEmail\": \"sk27101971@yandex.ru\", \"receivedTours\": [\"Intro\"], \"receivedChecklists\": {}, \"isPro\": false, \"telemetryEnabled\": true, \"excelImportEnabled\": true, \"isLocalDeployment\": true, \"shouldUpgradeMitosheet\": false, \"numUsages\": 23, \"mitoConfig\": {\"mec_version\": 1, \"support_email\": \"founders@sagacollab.com\"}}"
      }
     }
    },
    "version_major": 2,
    "version_minor": 0
   }
  }
 },
 "nbformat": 4,
 "nbformat_minor": 5
}
