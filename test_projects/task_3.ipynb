{
 "cells": [
  {
   "cell_type": "markdown",
   "id": "d290baea-21dd-434c-a670-68c6cecb8fbf",
   "metadata": {},
   "source": [
    "# Кластеризация судов"
   ]
  },
  {
   "cell_type": "code",
   "execution_count": 1,
   "id": "24eb17e4-6be1-414a-879f-1c376012456b",
   "metadata": {},
   "outputs": [],
   "source": [
    "import pandas as pd\n",
    "import numpy as np\n",
    "from geopy.distance import geodesic as GD\n",
    "\n",
    "pd.options.mode.chained_assignment = None\n",
    "\n",
    "%load_ext lab_black"
   ]
  },
  {
   "cell_type": "code",
   "execution_count": 2,
   "id": "a44e9a35-91ea-4789-b7ab-ede06cd2ccab",
   "metadata": {},
   "outputs": [],
   "source": [
    "# загрузка и очистка данных\n",
    "df_ves = pd.read_csv(\"/home/sk27/repo/eremeev/test_projects/ves_test.csv\").reset_index(\n",
    "    drop=True\n",
    ")\n",
    "df_ves.drop_duplicates(inplace=True)"
   ]
  },
  {
   "cell_type": "code",
   "execution_count": 3,
   "id": "7e66504c-508f-4ed6-ba86-ca45918f2d4c",
   "metadata": {},
   "outputs": [
    {
     "name": "stdout",
     "output_type": "stream",
     "text": [
      "CPU times: user 2.4 s, sys: 11 ms, total: 2.42 s\n",
      "Wall time: 2.41 s\n"
     ]
    }
   ],
   "source": [
    "%%time\n",
    "\n",
    "# пустой dataframe для аккумулирования результатов\n",
    "df_result = pd.DataFrame()\n",
    "# кластеризация в разрезе идентификатора орудия лова\n",
    "for oper in list(set(df_ves.id_oper)):\n",
    "    # фильтр по орудию лова\n",
    "    df_ves_oper = df_ves.loc[(df_ves.id_oper == oper)]\n",
    "    # присвоение каждому судну своего собственного номера кластера - на этом этапе число кластеров равно числу судов (или наоборот, как вам угодно)\n",
    "    df_ves_oper[\"cluster\"] = df_ves_oper.groupby(\"id_ves\")[\"id_ves\"].ngroup()\n",
    "    # соединение данных по принипу декартова произведения (\"каждое с каждым\")\n",
    "    df_cross = df_ves_oper.merge(df_ves_oper, how=\"cross\")\n",
    "    # рассчёт расстояний между судами в каждой паре\n",
    "    df_cross[\"dist\"] = df_cross.apply(\n",
    "        lambda row: GD(\n",
    "            (row[\"latitude_x\"], row[\"longitude_x\"]),\n",
    "            (row[\"latitude_y\"], row[\"longitude_y\"]),\n",
    "        ).km\n",
    "        / 1.852,\n",
    "        axis=1,\n",
    "    )\n",
    "    # фильтрафия полученных данных, оставляя строки, в которых расстояние не более 5 морских миль и коды судов различаются,\n",
    "    # удаление дубликатов записей\n",
    "    df_cross = (\n",
    "        df_cross[\n",
    "            (df_cross[\"dist\"] <= 5) & (df_cross[\"id_ves_x\"] != df_cross[\"id_ves_y\"])\n",
    "        ][[\"id_ves_x\", \"id_ves_y\", \"cluster_x\", \"cluster_y\", \"dist\"]]\n",
    "        .drop_duplicates()\n",
    "        .reset_index(drop=True)\n",
    "    )\n",
    "    # создание словря, в котором каждому следующему коду судна сопоставляется код кластера\n",
    "    # судна, находящегося от него на расстоянии не более 5 морских миль, если это судно уже\n",
    "    # встречалось, иначе код кластера не изменяется\n",
    "    cluster_dict = {}\n",
    "    for index, row in df_cross.iterrows():\n",
    "        if index == 0:\n",
    "            cluster_dict[row[\"id_ves_x\"]] = row[\"cluster_x\"]\n",
    "            cluster_dict[row[\"id_ves_y\"]] = row[\"cluster_x\"]\n",
    "        else:\n",
    "            if (\n",
    "                row[\"id_ves_x\"] in cluster_dict.keys()\n",
    "                and row[\"id_ves_y\"] not in cluster_dict.keys()\n",
    "            ):\n",
    "                cluster_dict[row[\"id_ves_y\"]] = row[\"cluster_x\"]\n",
    "            elif row[\"id_ves_x\"] not in cluster_dict.keys():\n",
    "                cluster_dict[row[\"id_ves_x\"]] = row[\"cluster_x\"]\n",
    "                cluster_dict[row[\"id_ves_y\"]] = row[\"cluster_x\"]\n",
    "            else:\n",
    "                pass\n",
    "    # изменение значения кодов кластеров в первоначальном наборе данных для текущего орудия лова\n",
    "    for key, value in cluster_dict.items():\n",
    "        df_ves_oper[\"cluster\"].where(\n",
    "            ~(df_ves_oper[\"id_ves\"] == key), other=value, inplace=True\n",
    "        )\n",
    "    # присоедниение данных к результирующему dataframe\n",
    "    df_result = pd.concat([df_result, df_ves_oper]).reset_index(drop=True)\n",
    "# формирование уникального идентификатора для каждого кластера\n",
    "df_result[\"cluster\"] = df_result.apply(\n",
    "    lambda row: str(int(row[\"id_oper\"])) + str(int(row[\"cluster\"])), axis=1\n",
    ")"
   ]
  },
  {
   "cell_type": "code",
   "execution_count": 4,
   "id": "40a943f0-9121-48bc-9463-d9723067d6de",
   "metadata": {},
   "outputs": [
    {
     "data": {
      "text/plain": [
       "93"
      ]
     },
     "execution_count": 4,
     "metadata": {},
     "output_type": "execute_result"
    }
   ],
   "source": [
    "df_result.cluster.unique().shape[0]"
   ]
  },
  {
   "cell_type": "code",
   "execution_count": 17,
   "id": "2ef98e30-c9f5-4496-ae61-046bd04bba87",
   "metadata": {},
   "outputs": [
    {
     "data": {
      "text/html": [
       "<div><div id=f8b8387e-e886-4553-b482-afbea4758aa2 style=\"display:none; background-color:#9D6CFF; color:white; width:200px; height:30px; padding-left:5px; border-radius:4px; flex-direction:row; justify-content:space-around; align-items:center;\" onmouseover=\"this.style.backgroundColor='#BA9BF8'\" onmouseout=\"this.style.backgroundColor='#9D6CFF'\" onclick=\"window.commands?.execute('create-mitosheet-from-dataframe-output');\">See Full Dataframe in Mito</div> <script> if (window.commands?.hasCommand('create-mitosheet-from-dataframe-output')) document.getElementById('f8b8387e-e886-4553-b482-afbea4758aa2').style.display = 'flex' </script> <table border=\"1\" class=\"dataframe\">\n",
       "  <thead>\n",
       "    <tr style=\"text-align: right;\">\n",
       "      <th></th>\n",
       "      <th>id_ves</th>\n",
       "    </tr>\n",
       "    <tr>\n",
       "      <th>cluster</th>\n",
       "      <th></th>\n",
       "    </tr>\n",
       "  </thead>\n",
       "  <tbody>\n",
       "    <tr>\n",
       "      <th>110</th>\n",
       "      <td>3</td>\n",
       "    </tr>\n",
       "    <tr>\n",
       "      <th>113</th>\n",
       "      <td>1</td>\n",
       "    </tr>\n",
       "    <tr>\n",
       "      <th>114</th>\n",
       "      <td>1</td>\n",
       "    </tr>\n",
       "    <tr>\n",
       "      <th>1210</th>\n",
       "      <td>1</td>\n",
       "    </tr>\n",
       "    <tr>\n",
       "      <th>1214</th>\n",
       "      <td>1</td>\n",
       "    </tr>\n",
       "    <tr>\n",
       "      <th>...</th>\n",
       "      <td>...</td>\n",
       "    </tr>\n",
       "    <tr>\n",
       "      <th>205</th>\n",
       "      <td>1</td>\n",
       "    </tr>\n",
       "    <tr>\n",
       "      <th>206</th>\n",
       "      <td>1</td>\n",
       "    </tr>\n",
       "    <tr>\n",
       "      <th>207</th>\n",
       "      <td>1</td>\n",
       "    </tr>\n",
       "    <tr>\n",
       "      <th>208</th>\n",
       "      <td>1</td>\n",
       "    </tr>\n",
       "    <tr>\n",
       "      <th>209</th>\n",
       "      <td>1</td>\n",
       "    </tr>\n",
       "  </tbody>\n",
       "</table></div>"
      ],
      "text/plain": [
       "         id_ves\n",
       "cluster        \n",
       "110           3\n",
       "113           1\n",
       "114           1\n",
       "1210          1\n",
       "1214          1\n",
       "...         ...\n",
       "205           1\n",
       "206           1\n",
       "207           1\n",
       "208           1\n",
       "209           1\n",
       "\n",
       "[93 rows x 1 columns]"
      ]
     },
     "execution_count": 17,
     "metadata": {},
     "output_type": "execute_result"
    }
   ],
   "source": [
    "pd.DataFrame(df_result.groupby(\"cluster\").id_ves.count())"
   ]
  },
  {
   "cell_type": "code",
   "execution_count": 13,
   "id": "89e10500-6f27-4b5d-ab82-1420f289c141",
   "metadata": {},
   "outputs": [
    {
     "data": {
      "text/html": [
       "<div><div id=f8887569-5189-400a-9ef2-d5e06f1a8b9e style=\"display:none; background-color:#9D6CFF; color:white; width:200px; height:30px; padding-left:5px; border-radius:4px; flex-direction:row; justify-content:space-around; align-items:center;\" onmouseover=\"this.style.backgroundColor='#BA9BF8'\" onmouseout=\"this.style.backgroundColor='#9D6CFF'\" onclick=\"window.commands?.execute('create-mitosheet-from-dataframe-output');\">See Full Dataframe in Mito</div> <script> if (window.commands?.hasCommand('create-mitosheet-from-dataframe-output')) document.getElementById('f8887569-5189-400a-9ef2-d5e06f1a8b9e').style.display = 'flex' </script> <table border=\"1\" class=\"dataframe\">\n",
       "  <thead>\n",
       "    <tr style=\"text-align: right;\">\n",
       "      <th></th>\n",
       "      <th>id_ves</th>\n",
       "      <th>latitude</th>\n",
       "      <th>longitude</th>\n",
       "      <th>id_oper</th>\n",
       "      <th>cluster</th>\n",
       "    </tr>\n",
       "  </thead>\n",
       "  <tbody>\n",
       "    <tr>\n",
       "      <th>6</th>\n",
       "      <td>11767</td>\n",
       "      <td>58.68</td>\n",
       "      <td>156.26</td>\n",
       "      <td>12</td>\n",
       "      <td>1258</td>\n",
       "    </tr>\n",
       "    <tr>\n",
       "      <th>27</th>\n",
       "      <td>11533</td>\n",
       "      <td>58.65</td>\n",
       "      <td>156.16</td>\n",
       "      <td>12</td>\n",
       "      <td>1258</td>\n",
       "    </tr>\n",
       "    <tr>\n",
       "      <th>64</th>\n",
       "      <td>46271</td>\n",
       "      <td>58.63</td>\n",
       "      <td>156.21</td>\n",
       "      <td>12</td>\n",
       "      <td>1258</td>\n",
       "    </tr>\n",
       "    <tr>\n",
       "      <th>68</th>\n",
       "      <td>10019</td>\n",
       "      <td>58.65</td>\n",
       "      <td>156.18</td>\n",
       "      <td>12</td>\n",
       "      <td>1258</td>\n",
       "    </tr>\n",
       "  </tbody>\n",
       "</table></div>"
      ],
      "text/plain": [
       "    id_ves  latitude  longitude  id_oper cluster\n",
       "6    11767     58.68     156.26       12    1258\n",
       "27   11533     58.65     156.16       12    1258\n",
       "64   46271     58.63     156.21       12    1258\n",
       "68   10019     58.65     156.18       12    1258"
      ]
     },
     "execution_count": 13,
     "metadata": {},
     "output_type": "execute_result"
    }
   ],
   "source": [
    "# например, кластер \"1258\"\n",
    "df_result.loc[df_result.cluster == \"1258\"]"
   ]
  },
  {
   "cell_type": "code",
   "execution_count": 4,
   "id": "d1765c87-28a6-411c-a2fa-21eeb3905e99",
   "metadata": {},
   "outputs": [
    {
     "name": "stderr",
     "output_type": "stream",
     "text": [
      "Found ffmpeg: /opt/yandex/browser-beta/libffmpeg.so\n",
      "\tavcodec: 3873892\n",
      "\tavformat: 3872868\n",
      "\tavutil: 3741797\n",
      "FFmpeg version is too old. Need:\n",
      "\tavcodec: 3877988\n",
      "\tavformat: 3874916\n",
      "\tavutil: 3744868\n"
     ]
    },
    {
     "name": "stdout",
     "output_type": "stream",
     "text": [
      "find_ffmpeg failed, using the integrated library.\n"
     ]
    },
    {
     "name": "stderr",
     "output_type": "stream",
     "text": [
      "[190145:190145:0324/224549.274341:ERROR:isolated_origin_util.cc(74)] Ignoring port number in isolated origin: chrome://custo\n"
     ]
    },
    {
     "name": "stdout",
     "output_type": "stream",
     "text": [
      "Окно или вкладка откроются в текущем сеансе браузера.\n"
     ]
    }
   ],
   "source": [
    "import antigravity"
   ]
  },
  {
   "cell_type": "code",
   "execution_count": null,
   "id": "37d6cc44-f2a4-4e12-974a-323425d3dc69",
   "metadata": {},
   "outputs": [],
   "source": []
  }
 ],
 "metadata": {
  "kernelspec": {
   "display_name": "Python 3 (ipykernel)",
   "language": "python",
   "name": "python3"
  },
  "language_info": {
   "codemirror_mode": {
    "name": "ipython",
    "version": 3
   },
   "file_extension": ".py",
   "mimetype": "text/x-python",
   "name": "python",
   "nbconvert_exporter": "python",
   "pygments_lexer": "ipython3",
   "version": "3.8.13"
  },
  "widgets": {
   "application/vnd.jupyter.widget-state+json": {
    "state": {},
    "version_major": 2,
    "version_minor": 0
   }
  }
 },
 "nbformat": 4,
 "nbformat_minor": 5
}
