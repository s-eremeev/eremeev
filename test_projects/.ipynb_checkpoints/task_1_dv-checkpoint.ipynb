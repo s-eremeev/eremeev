{
 "cells": [
  {
   "cell_type": "markdown",
   "metadata": {},
   "source": [
    "## Работа [Дмитрия Воеводина](https://discord.com/channels/967161582662615071/1080120728852107304/1087017003589574757)"
   ]
  },
  {
   "cell_type": "code",
   "execution_count": null,
   "metadata": {
    "id": "GO0Cwfm3Mklk"
   },
   "outputs": [],
   "source": [
    "import pandas as pd\n",
    "import numpy as np"
   ]
  },
  {
   "cell_type": "code",
   "execution_count": 8,
   "metadata": {
    "colab": {
     "base_uri": "https://localhost:8080/"
    },
    "id": "EP1PuAmSNfaK",
    "outputId": "db90abae-4e90-4f73-fe9c-b1fd6e25b3b1"
   },
   "outputs": [
    {
     "data": {
      "text/plain": [
       "793"
      ]
     },
     "execution_count": 8,
     "metadata": {},
     "output_type": "execute_result"
    }
   ],
   "source": [
    "df= pd.read_csv(\n",
    "    \"/home/sk27/repo/eremeev/test_projects/new.csv\", index_col=0\n",
    ").reset_index(drop=True)\n",
    "len(df)"
   ]
  },
  {
   "cell_type": "code",
   "execution_count": 9,
   "metadata": {
    "id": "lHrd9mRbNJ2V"
   },
   "outputs": [],
   "source": [
    "df_sort=df[df['sold_quantity']<0] # Сортируем по отрицательным позициям (отмененным)"
   ]
  },
  {
   "cell_type": "code",
   "execution_count": 10,
   "metadata": {
    "id": "LAAEgmnFQTRS"
   },
   "outputs": [
    {
     "name": "stdout",
     "output_type": "stream",
     "text": [
      "CPU times: user 17.7 ms, sys: 0 ns, total: 17.7 ms\n",
      "Wall time: 17 ms\n"
     ]
    }
   ],
   "source": [
    "%%time\n",
    "\n",
    "for i in df_sort.index:  # Перебераем индексы отмененных позиций\n",
    "    f=df_sort.at[i,'product']\n",
    "    t=0\n",
    "    for j in range(i,0,-1):   # Перебераем индексы в обратном порядке\n",
    "        if df.at[j,'product']==f:\n",
    "            t=t+1\n",
    "            if t!=3: # Ищем только 2 ближайшие строчки - отмену и покупку \n",
    "                # print(j, df.at[j,'sold_quantity'])   # Если наименование товара совпадает с отмененным - удаляем\n",
    "                df.drop([j],axis=0,inplace=True)        \n",
    "            else:\n",
    "                break "
   ]
  },
  {
   "cell_type": "code",
   "execution_count": 5,
   "metadata": {
    "colab": {
     "base_uri": "https://localhost:8080/"
    },
    "id": "YfxmCddjH7BW",
    "outputId": "2ba07d28-2fed-4b7d-cdfa-13534493101d"
   },
   "outputs": [
    {
     "data": {
      "text/plain": [
       "787"
      ]
     },
     "execution_count": 5,
     "metadata": {},
     "output_type": "execute_result"
    }
   ],
   "source": [
    "len(df)"
   ]
  },
  {
   "cell_type": "code",
   "execution_count": 6,
   "metadata": {},
   "outputs": [
    {
     "data": {
      "text/plain": [
       "'Крымская Вода питьевая н/газ 1,0л ПЭТ'"
      ]
     },
     "execution_count": 6,
     "metadata": {},
     "output_type": "execute_result"
    }
   ],
   "source": [
    "f"
   ]
  },
  {
   "cell_type": "code",
   "execution_count": null,
   "metadata": {},
   "outputs": [],
   "source": []
  }
 ],
 "metadata": {
  "colab": {
   "provenance": []
  },
  "kernelspec": {
   "display_name": "Python 3 (ipykernel)",
   "language": "python",
   "name": "python3"
  },
  "language_info": {
   "codemirror_mode": {
    "name": "ipython",
    "version": 3
   },
   "file_extension": ".py",
   "mimetype": "text/x-python",
   "name": "python",
   "nbconvert_exporter": "python",
   "pygments_lexer": "ipython3",
   "version": "3.8.13"
  },
  "widgets": {
   "application/vnd.jupyter.widget-state+json": {
    "state": {},
    "version_major": 2,
    "version_minor": 0
   }
  }
 },
 "nbformat": 4,
 "nbformat_minor": 4
}
