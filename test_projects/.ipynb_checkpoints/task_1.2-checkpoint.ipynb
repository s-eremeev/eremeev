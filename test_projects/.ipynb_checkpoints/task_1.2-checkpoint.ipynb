{
 "cells": [
  {
   "cell_type": "markdown",
   "id": "d290baea-21dd-434c-a670-68c6cecb8fbf",
   "metadata": {},
   "source": [
    "# Задание 1.2"
   ]
  },
  {
   "cell_type": "code",
   "execution_count": 1,
   "id": "24eb17e4-6be1-414a-879f-1c376012456b",
   "metadata": {},
   "outputs": [],
   "source": [
    "import pandas as pd\n",
    "import numpy as np\n",
    "from statistics import median\n",
    "import math\n",
    "from sklearn.metrics import mean_squared_error\n",
    "import matplotlib.pyplot as plt\n",
    "\n",
    "%load_ext lab_black"
   ]
  },
  {
   "cell_type": "markdown",
   "id": "6ed89c54-c1a2-4d54-b7e6-bace920cb16b",
   "metadata": {},
   "source": [
    "### Задача медленно превращается в маленькое, но весьма аналитическое исследование."
   ]
  },
  {
   "cell_type": "code",
   "execution_count": 2,
   "id": "6ab43780-e34f-4e3e-8c67-2a779a822b4b",
   "metadata": {},
   "outputs": [],
   "source": [
    "# загрузим данные\n",
    "df_center = pd.read_csv(\"/home/sk27/repo/eremeev/test_projects/call_center_data.csv\")"
   ]
  },
  {
   "cell_type": "code",
   "execution_count": 3,
   "id": "2ca7cd66-3345-48c6-a64a-654c545403b4",
   "metadata": {
    "tags": []
   },
   "outputs": [
    {
     "name": "stdout",
     "output_type": "stream",
     "text": [
      "<class 'pandas.core.frame.DataFrame'>\n",
      "RangeIndex: 196782 entries, 0 to 196781\n",
      "Data columns (total 3 columns):\n",
      " #   Column    Non-Null Count   Dtype         \n",
      "---  ------    --------------   -----         \n",
      " 0   action    196782 non-null  int64         \n",
      " 1   user_id   196782 non-null  int64         \n",
      " 2   datetime  196782 non-null  datetime64[ns]\n",
      "dtypes: datetime64[ns](1), int64(2)\n",
      "memory usage: 4.5 MB\n"
     ]
    }
   ],
   "source": [
    "# преобразуем формат данных о дате и времени совершения операции\n",
    "df_center[\"datetime\"] = df_center[\"date\"] + \" \" + df_center[\"time\"]\n",
    "df_center[\"datetime\"] = df_center[\"datetime\"].astype(\"datetime64[ns]\")\n",
    "df_center.drop([\"date\", \"time\"], axis=1, inplace=True)\n",
    "df_center.info()"
   ]
  },
  {
   "cell_type": "markdown",
   "id": "8b44243d-0838-4f3a-a92e-2a3a304fd6f4",
   "metadata": {},
   "source": [
    "Тут важное замечание: ранее я исходил из того, что время, прошедшее между последовательными операциями  пользователя, это время выполнения **первой** операции. Но это не так. Время, прошедшее между двумя операциями пользователя, это время выполнения **второй** операции."
   ]
  },
  {
   "cell_type": "code",
   "execution_count": 4,
   "id": "3b8922bf-2e80-46ed-8f47-443eabc7c2cd",
   "metadata": {},
   "outputs": [
    {
     "data": {
      "text/html": [
       "<div><div id=3a8d9942-b013-497c-941f-9d4deee650ba style=\"display:none; background-color:#9D6CFF; color:white; width:200px; height:30px; padding-left:5px; border-radius:4px; flex-direction:row; justify-content:space-around; align-items:center;\" onmouseover=\"this.style.backgroundColor='#BA9BF8'\" onmouseout=\"this.style.backgroundColor='#9D6CFF'\" onclick=\"window.commands?.execute('create-mitosheet-from-dataframe-output');\">See Full Dataframe in Mito</div> <script> if (window.commands?.hasCommand('create-mitosheet-from-dataframe-output')) document.getElementById('3a8d9942-b013-497c-941f-9d4deee650ba').style.display = 'flex' </script> <table border=\"1\" class=\"dataframe\">\n",
       "  <thead>\n",
       "    <tr style=\"text-align: right;\">\n",
       "      <th></th>\n",
       "      <th>user_id</th>\n",
       "      <th>datetime</th>\n",
       "      <th>t</th>\n",
       "    </tr>\n",
       "  </thead>\n",
       "  <tbody>\n",
       "    <tr>\n",
       "      <th>32532</th>\n",
       "      <td>38830</td>\n",
       "      <td>2018-01-03 09:33:26</td>\n",
       "      <td>2</td>\n",
       "    </tr>\n",
       "    <tr>\n",
       "      <th>32533</th>\n",
       "      <td>38830</td>\n",
       "      <td>2018-01-03 14:10:03</td>\n",
       "      <td>2</td>\n",
       "    </tr>\n",
       "    <tr>\n",
       "      <th>32534</th>\n",
       "      <td>38830</td>\n",
       "      <td>2018-01-03 14:11:13</td>\n",
       "      <td>2</td>\n",
       "    </tr>\n",
       "    <tr>\n",
       "      <th>32535</th>\n",
       "      <td>38830</td>\n",
       "      <td>2018-01-03 14:11:59</td>\n",
       "      <td>2</td>\n",
       "    </tr>\n",
       "    <tr>\n",
       "      <th>32536</th>\n",
       "      <td>38830</td>\n",
       "      <td>2018-01-03 14:12:47</td>\n",
       "      <td>2</td>\n",
       "    </tr>\n",
       "    <tr>\n",
       "      <th>...</th>\n",
       "      <td>...</td>\n",
       "      <td>...</td>\n",
       "      <td>...</td>\n",
       "    </tr>\n",
       "    <tr>\n",
       "      <th>84828</th>\n",
       "      <td>39037</td>\n",
       "      <td>2018-01-17 16:00:17</td>\n",
       "      <td>2</td>\n",
       "    </tr>\n",
       "    <tr>\n",
       "      <th>84829</th>\n",
       "      <td>39037</td>\n",
       "      <td>2018-01-18 12:07:58</td>\n",
       "      <td>2</td>\n",
       "    </tr>\n",
       "    <tr>\n",
       "      <th>84830</th>\n",
       "      <td>39037</td>\n",
       "      <td>2018-01-22 15:33:32</td>\n",
       "      <td>2</td>\n",
       "    </tr>\n",
       "    <tr>\n",
       "      <th>84831</th>\n",
       "      <td>39037</td>\n",
       "      <td>2018-01-23 11:13:57</td>\n",
       "      <td>2</td>\n",
       "    </tr>\n",
       "    <tr>\n",
       "      <th>84832</th>\n",
       "      <td>39037</td>\n",
       "      <td>2018-01-23 17:18:09</td>\n",
       "      <td>2</td>\n",
       "    </tr>\n",
       "  </tbody>\n",
       "</table></div>"
      ],
      "text/plain": [
       "       user_id            datetime  t\n",
       "32532    38830 2018-01-03 09:33:26  2\n",
       "32533    38830 2018-01-03 14:10:03  2\n",
       "32534    38830 2018-01-03 14:11:13  2\n",
       "32535    38830 2018-01-03 14:11:59  2\n",
       "32536    38830 2018-01-03 14:12:47  2\n",
       "...        ...                 ... ..\n",
       "84828    39037 2018-01-17 16:00:17  2\n",
       "84829    39037 2018-01-18 12:07:58  2\n",
       "84830    39037 2018-01-22 15:33:32  2\n",
       "84831    39037 2018-01-23 11:13:57  2\n",
       "84832    39037 2018-01-23 17:18:09  2\n",
       "\n",
       "[127 rows x 3 columns]"
      ]
     },
     "execution_count": 4,
     "metadata": {},
     "output_type": "execute_result"
    }
   ],
   "source": [
    "# Сгруппируем датафрейм по пользователю, посчитав уникальные значения datetime\n",
    "a = df_center.groupby(\"user_id\")[\"datetime\"].value_counts().reset_index(name=\"t\")\n",
    "\n",
    "# Выведем строки, в которых количество уникальных значений > 1\n",
    "a.loc[a[\"t\"] > 1]"
   ]
  },
  {
   "cell_type": "code",
   "execution_count": 5,
   "id": "c0df1970-9a95-465f-b74a-f187d9acfc14",
   "metadata": {},
   "outputs": [
    {
     "data": {
      "text/html": [
       "<div><div id=e26d367a-52fb-4371-a090-4c844bd5691f style=\"display:none; background-color:#9D6CFF; color:white; width:200px; height:30px; padding-left:5px; border-radius:4px; flex-direction:row; justify-content:space-around; align-items:center;\" onmouseover=\"this.style.backgroundColor='#BA9BF8'\" onmouseout=\"this.style.backgroundColor='#9D6CFF'\" onclick=\"window.commands?.execute('create-mitosheet-from-dataframe-output');\">See Full Dataframe in Mito</div> <script> if (window.commands?.hasCommand('create-mitosheet-from-dataframe-output')) document.getElementById('e26d367a-52fb-4371-a090-4c844bd5691f').style.display = 'flex' </script> <table border=\"1\" class=\"dataframe\">\n",
       "  <thead>\n",
       "    <tr style=\"text-align: right;\">\n",
       "      <th></th>\n",
       "      <th>action</th>\n",
       "      <th>user_id</th>\n",
       "      <th>datetime</th>\n",
       "    </tr>\n",
       "  </thead>\n",
       "  <tbody>\n",
       "    <tr>\n",
       "      <th>1454</th>\n",
       "      <td>14</td>\n",
       "      <td>38830</td>\n",
       "      <td>2018-01-03 09:33:26</td>\n",
       "    </tr>\n",
       "    <tr>\n",
       "      <th>1455</th>\n",
       "      <td>2006</td>\n",
       "      <td>38830</td>\n",
       "      <td>2018-01-03 09:33:26</td>\n",
       "    </tr>\n",
       "  </tbody>\n",
       "</table></div>"
      ],
      "text/plain": [
       "      action  user_id            datetime\n",
       "1454      14    38830 2018-01-03 09:33:26\n",
       "1455    2006    38830 2018-01-03 09:33:26"
      ]
     },
     "execution_count": 5,
     "metadata": {},
     "output_type": "execute_result"
    }
   ],
   "source": [
    "# например\n",
    "df_center[(df_center.user_id == 38830) & (df_center.datetime == \"2018-01-03 09:33:26\")]"
   ]
  },
  {
   "cell_type": "code",
   "execution_count": 6,
   "id": "ccb19461-018c-4f47-9e4d-37018c9c8ee6",
   "metadata": {},
   "outputs": [
    {
     "data": {
      "text/html": [
       "<div><div id=b1000e6f-2cc9-4609-8f7d-c323a09278b8 style=\"display:none; background-color:#9D6CFF; color:white; width:200px; height:30px; padding-left:5px; border-radius:4px; flex-direction:row; justify-content:space-around; align-items:center;\" onmouseover=\"this.style.backgroundColor='#BA9BF8'\" onmouseout=\"this.style.backgroundColor='#9D6CFF'\" onclick=\"window.commands?.execute('create-mitosheet-from-dataframe-output');\">See Full Dataframe in Mito</div> <script> if (window.commands?.hasCommand('create-mitosheet-from-dataframe-output')) document.getElementById('b1000e6f-2cc9-4609-8f7d-c323a09278b8').style.display = 'flex' </script> <table border=\"1\" class=\"dataframe\">\n",
       "  <thead>\n",
       "    <tr style=\"text-align: right;\">\n",
       "      <th></th>\n",
       "      <th>action</th>\n",
       "      <th>user_id</th>\n",
       "      <th>datetime</th>\n",
       "    </tr>\n",
       "  </thead>\n",
       "  <tbody>\n",
       "    <tr>\n",
       "      <th>1450</th>\n",
       "      <td>2010</td>\n",
       "      <td>39217</td>\n",
       "      <td>2018-01-03 09:33:15</td>\n",
       "    </tr>\n",
       "    <tr>\n",
       "      <th>1451</th>\n",
       "      <td>2010</td>\n",
       "      <td>39217</td>\n",
       "      <td>2018-01-03 09:33:19</td>\n",
       "    </tr>\n",
       "    <tr>\n",
       "      <th>1452</th>\n",
       "      <td>14</td>\n",
       "      <td>38830</td>\n",
       "      <td>2018-01-03 09:33:23</td>\n",
       "    </tr>\n",
       "    <tr>\n",
       "      <th>1453</th>\n",
       "      <td>2010</td>\n",
       "      <td>39217</td>\n",
       "      <td>2018-01-03 09:33:24</td>\n",
       "    </tr>\n",
       "    <tr>\n",
       "      <th>1454</th>\n",
       "      <td>14</td>\n",
       "      <td>38830</td>\n",
       "      <td>2018-01-03 09:33:26</td>\n",
       "    </tr>\n",
       "    <tr>\n",
       "      <th>1455</th>\n",
       "      <td>2006</td>\n",
       "      <td>38830</td>\n",
       "      <td>2018-01-03 09:33:26</td>\n",
       "    </tr>\n",
       "    <tr>\n",
       "      <th>1456</th>\n",
       "      <td>14</td>\n",
       "      <td>38830</td>\n",
       "      <td>2018-01-03 09:33:28</td>\n",
       "    </tr>\n",
       "  </tbody>\n",
       "</table></div>"
      ],
      "text/plain": [
       "      action  user_id            datetime\n",
       "1450    2010    39217 2018-01-03 09:33:15\n",
       "1451    2010    39217 2018-01-03 09:33:19\n",
       "1452      14    38830 2018-01-03 09:33:23\n",
       "1453    2010    39217 2018-01-03 09:33:24\n",
       "1454      14    38830 2018-01-03 09:33:26\n",
       "1455    2006    38830 2018-01-03 09:33:26\n",
       "1456      14    38830 2018-01-03 09:33:28"
      ]
     },
     "execution_count": 6,
     "metadata": {},
     "output_type": "execute_result"
    }
   ],
   "source": [
    "# чем же занимался юзер 38830 прежде, чем завершить одновременно два действия?\n",
    "df_center[1450:1457]\n",
    "# в 2018-01-03 09:33:23 этот гений многозадачности завершил действие 14, а спустя 3 секунды в его умелых руках уже совершены действия 14 и 2006. Нет, ну молодец же!"
   ]
  },
  {
   "cell_type": "markdown",
   "id": "3300b0e4-2d78-49b7-abb3-af7bc533ce78",
   "metadata": {},
   "source": [
    "Молодец-то он, конечно, молодец, спору нет. Но что было бы с продолжительностью действий 14 и 2006, если бы пользователь совершал их раздельно?   \n",
    "[А вариантов у него было тока два](https://yandex.ru/video/preview/15357449719244388992):\n",
    "* он осьминог-[амбидекстр](https://ru.wikipedia.org/wiki/Амбидекстрия), и тогда продолжительность действий не изменилась бы;\n",
    "* он не столь талантлив, и тогда каждое из двух действий он выполнил бы с иной продолжительностью, чем оба действия совместно. \n",
    "\n",
    "Где же истина? На основании имеющихся данных мы не сумеем этого достоверно определить.    \n",
    "Давайте, наконец, уже порассуждаем:\n",
    "* пользователь завершает некторое действие \"а\" и, побуждаемый стремнением к максимизации личной продуктивности, незамедлительно переходит к совершению следующего действия \"б\" - такова модель;\n",
    "* одноременно с началом выполнения действия \"б\", а может быть в процессе его (тут мы тоже не можем быть совершенно уверены) наш продуктивный пользователь начинает выполнять ещё одно действие: возможно \"в\", а возможно, и вновь \"а\", почему бы нет?;\n",
    "* и, наконец, одновременно завершает выполение действия \"б\" и... вот этого второго, может быть \"в\", а может быть \"а\".\n",
    "\n",
    "Слишком! Слишком много сомнений порождают эти дубли! Их нужно исключить, исключить совсем - но как?   \n",
    "Просто удалить (чего они, строго говоря, и заслуживают) нельзя, ведь момент их совершения становится моментом начала следующего действия.   \n",
    "#### **Поступим вот как**: заменим все действия, завершённые одновременно, некоторой фикцией, действием с мистическим значением идентификатора [666](https://ru.wikipedia.org/wiki/Число_зверя)."
   ]
  },
  {
   "cell_type": "code",
   "execution_count": 7,
   "id": "6c8016b4-9f1d-4750-b2c7-530808076002",
   "metadata": {},
   "outputs": [
    {
     "name": "stdout",
     "output_type": "stream",
     "text": [
      "Тем более, что этих многозадачных юзеров не так и много, всего 3.\n"
     ]
    }
   ],
   "source": [
    "row_double = a.loc[a[\"t\"] > 1]\n",
    "print(\n",
    "    f\"Тем более, что этих многозадачных юзеров не так и много, всего {len(row_double.user_id.unique())}.\"\n",
    ")"
   ]
  },
  {
   "cell_type": "code",
   "execution_count": 8,
   "id": "a60efc66-9428-4878-b65e-ee567f62ee11",
   "metadata": {},
   "outputs": [],
   "source": [
    "# для исключения ошибок поместим моменты времени, в которые многозадачные юзеры совершали свои делишки, в словарь\n",
    "dict_d = {}\n",
    "for _ in list(row_double.user_id.unique()):\n",
    "    local_list = row_double[row_double.user_id == _].datetime.to_list()\n",
    "    dict_d[_] = local_list\n",
    "\n",
    "# проведём замену\n",
    "for key, value in dict_d.items():\n",
    "    for dt in value:\n",
    "        df_center.loc[\n",
    "            (df_center.user_id == key) & (df_center.datetime == dt), \"action\"\n",
    "        ] = 666\n",
    "\n",
    "# в результате в исходном наборе образовались полные дубликаты строк. Удалим их, оставив только первые\n",
    "df_center.drop_duplicates(inplace=True)\n",
    "df_center.reset_index(drop=True, inplace=True)"
   ]
  },
  {
   "cell_type": "code",
   "execution_count": 9,
   "id": "c0bfecf4-4318-4be0-9989-731a480d3a88",
   "metadata": {},
   "outputs": [
    {
     "data": {
      "text/html": [
       "<div><div id=58ee7edf-fdbc-4766-aab0-750cc6300249 style=\"display:none; background-color:#9D6CFF; color:white; width:200px; height:30px; padding-left:5px; border-radius:4px; flex-direction:row; justify-content:space-around; align-items:center;\" onmouseover=\"this.style.backgroundColor='#BA9BF8'\" onmouseout=\"this.style.backgroundColor='#9D6CFF'\" onclick=\"window.commands?.execute('create-mitosheet-from-dataframe-output');\">See Full Dataframe in Mito</div> <script> if (window.commands?.hasCommand('create-mitosheet-from-dataframe-output')) document.getElementById('58ee7edf-fdbc-4766-aab0-750cc6300249').style.display = 'flex' </script> <table border=\"1\" class=\"dataframe\">\n",
       "  <thead>\n",
       "    <tr style=\"text-align: right;\">\n",
       "      <th></th>\n",
       "      <th>user_id</th>\n",
       "      <th>action</th>\n",
       "      <th>datetime</th>\n",
       "      <th>t</th>\n",
       "    </tr>\n",
       "  </thead>\n",
       "  <tbody>\n",
       "  </tbody>\n",
       "</table></div>"
      ],
      "text/plain": [
       "Empty DataFrame\n",
       "Columns: [user_id, action, datetime, t]\n",
       "Index: []"
      ]
     },
     "execution_count": 9,
     "metadata": {},
     "output_type": "execute_result"
    }
   ],
   "source": [
    "# проверим - действий, завершённых в один момент времени, нет\n",
    "a = (\n",
    "    df_center.groupby([\"user_id\", \"action\"])[\"datetime\"]\n",
    "    .value_counts()\n",
    "    .reset_index(name=\"t\")\n",
    ")\n",
    "a.loc[a[\"t\"] > 1]"
   ]
  },
  {
   "cell_type": "code",
   "execution_count": 10,
   "id": "f88afb1d-3514-4963-b761-8135aeac8088",
   "metadata": {},
   "outputs": [
    {
     "data": {
      "text/html": [
       "<div><div id=7d43422c-4ffc-43b8-b259-24e72544335d style=\"display:none; background-color:#9D6CFF; color:white; width:200px; height:30px; padding-left:5px; border-radius:4px; flex-direction:row; justify-content:space-around; align-items:center;\" onmouseover=\"this.style.backgroundColor='#BA9BF8'\" onmouseout=\"this.style.backgroundColor='#9D6CFF'\" onclick=\"window.commands?.execute('create-mitosheet-from-dataframe-output');\">See Full Dataframe in Mito</div> <script> if (window.commands?.hasCommand('create-mitosheet-from-dataframe-output')) document.getElementById('7d43422c-4ffc-43b8-b259-24e72544335d').style.display = 'flex' </script> <table border=\"1\" class=\"dataframe\">\n",
       "  <thead>\n",
       "    <tr style=\"text-align: right;\">\n",
       "      <th></th>\n",
       "      <th>action</th>\n",
       "      <th>user_id</th>\n",
       "      <th>datetime</th>\n",
       "    </tr>\n",
       "  </thead>\n",
       "  <tbody>\n",
       "    <tr>\n",
       "      <th>1454</th>\n",
       "      <td>666</td>\n",
       "      <td>38830</td>\n",
       "      <td>2018-01-03 09:33:26</td>\n",
       "    </tr>\n",
       "  </tbody>\n",
       "</table></div>"
      ],
      "text/plain": [
       "      action  user_id            datetime\n",
       "1454     666    38830 2018-01-03 09:33:26"
      ]
     },
     "execution_count": 10,
     "metadata": {},
     "output_type": "execute_result"
    }
   ],
   "source": [
    "# вернёмся к ранее рассмотреному примеру\n",
    "df_center[(df_center.user_id == 38830) & (df_center.datetime == \"2018-01-03 09:33:26\")]"
   ]
  },
  {
   "cell_type": "markdown",
   "id": "78d0bc91-e8c1-4f0b-9042-4d2e38ccd921",
   "metadata": {},
   "source": [
    "Цель достингута, с данными всё хорошо."
   ]
  },
  {
   "cell_type": "code",
   "execution_count": 11,
   "id": "796fb906-04c2-48a5-ae8a-8c77cbec599c",
   "metadata": {},
   "outputs": [
    {
     "name": "stdout",
     "output_type": "stream",
     "text": [
      "<class 'pandas.core.frame.DataFrame'>\n",
      "RangeIndex: 196655 entries, 0 to 196654\n",
      "Data columns (total 3 columns):\n",
      " #   Column    Non-Null Count   Dtype         \n",
      "---  ------    --------------   -----         \n",
      " 0   action    196655 non-null  int64         \n",
      " 1   user_id   196655 non-null  int64         \n",
      " 2   datetime  196655 non-null  datetime64[ns]\n",
      "dtypes: datetime64[ns](1), int64(2)\n",
      "memory usage: 4.5 MB\n"
     ]
    }
   ],
   "source": [
    "df_center.info()"
   ]
  },
  {
   "cell_type": "code",
   "execution_count": 12,
   "id": "dea74859-5cd8-447b-a86e-9dd808d97ce9",
   "metadata": {},
   "outputs": [
    {
     "name": "stdout",
     "output_type": "stream",
     "text": [
      "CPU times: user 3min 20s, sys: 368 ms, total: 3min 20s\n",
      "Wall time: 3min 20s\n"
     ]
    }
   ],
   "source": [
    "%%time\n",
    "\n",
    "# возьмём уже существующий код и перепишем его таким образом, чтобы рассчитанная delta сопоставлялась второй операции\n",
    "\n",
    "df_res = pd.DataFrame()\n",
    "for unit in df_center.user_id.unique():\n",
    "    df_result = pd.DataFrame()\n",
    "    df_test = df_center[df_center[\"user_id\"] == unit].reset_index(drop=True)\n",
    "    df_test = df_test.sort_values(\"datetime\").reset_index(drop=True)\n",
    "    for _ in range(1, df_test.shape[0]):\n",
    "        delta = (\n",
    "            df_test.loc[_, \"datetime\"] - df_test.loc[_ - 1, \"datetime\"]\n",
    "        ).total_seconds()\n",
    "        if delta <= 1200:\n",
    "            row = {\n",
    "                \"action\": (df_test.loc[_, \"action\"]),\n",
    "                \"duration\": delta,\n",
    "            }  # изменение здесь!\n",
    "            df_result = df_result.append(row, ignore_index=True)\n",
    "    df_res = pd.concat([df_res, df_result]).reset_index(drop=True)\n",
    "df_res.action = df_res.action.astype(\"int\")\n",
    "df_res = df_res.groupby(\"action\").median(\"duration\")"
   ]
  },
  {
   "cell_type": "code",
   "execution_count": 13,
   "id": "c1d2e17e-d4a6-4b1d-9132-d683560083a5",
   "metadata": {},
   "outputs": [],
   "source": [
    "df_res.reset_index(inplace=True)"
   ]
  },
  {
   "cell_type": "code",
   "execution_count": 15,
   "id": "9b84702b-1d03-4d6f-8783-d6a8853b0ba4",
   "metadata": {},
   "outputs": [
    {
     "data": {
      "text/html": [
       "<div><div id=72b73a4c-3c70-4ef7-a3ef-b19046fbda25 style=\"display:none; background-color:#9D6CFF; color:white; width:200px; height:30px; padding-left:5px; border-radius:4px; flex-direction:row; justify-content:space-around; align-items:center;\" onmouseover=\"this.style.backgroundColor='#BA9BF8'\" onmouseout=\"this.style.backgroundColor='#9D6CFF'\" onclick=\"window.commands?.execute('create-mitosheet-from-dataframe-output');\">See Full Dataframe in Mito</div> <script> if (window.commands?.hasCommand('create-mitosheet-from-dataframe-output')) document.getElementById('72b73a4c-3c70-4ef7-a3ef-b19046fbda25').style.display = 'flex' </script> <table border=\"1\" class=\"dataframe\">\n",
       "  <thead>\n",
       "    <tr style=\"text-align: right;\">\n",
       "      <th></th>\n",
       "      <th>action</th>\n",
       "      <th>duration</th>\n",
       "    </tr>\n",
       "  </thead>\n",
       "  <tbody>\n",
       "    <tr>\n",
       "      <th>27</th>\n",
       "      <td>666</td>\n",
       "      <td>4.0</td>\n",
       "    </tr>\n",
       "  </tbody>\n",
       "</table></div>"
      ],
      "text/plain": [
       "    action  duration\n",
       "27     666       4.0"
      ]
     },
     "execution_count": 15,
     "metadata": {},
     "output_type": "execute_result"
    }
   ],
   "source": [
    "# в том числе в результирующие данные попало и наше фиктивное \"действие 666\", но сейчас этим можно пренебречь\n",
    "df_res[(df_res.action == 666)]"
   ]
  },
  {
   "cell_type": "code",
   "execution_count": 16,
   "id": "c6630ab7-e7d0-4595-a342-02124c27ace0",
   "metadata": {},
   "outputs": [
    {
     "data": {
      "text/html": [
       "<div><div id=ec551282-fe17-4a68-baad-2e12f94ef640 style=\"display:none; background-color:#9D6CFF; color:white; width:200px; height:30px; padding-left:5px; border-radius:4px; flex-direction:row; justify-content:space-around; align-items:center;\" onmouseover=\"this.style.backgroundColor='#BA9BF8'\" onmouseout=\"this.style.backgroundColor='#9D6CFF'\" onclick=\"window.commands?.execute('create-mitosheet-from-dataframe-output');\">See Full Dataframe in Mito</div> <script> if (window.commands?.hasCommand('create-mitosheet-from-dataframe-output')) document.getElementById('ec551282-fe17-4a68-baad-2e12f94ef640').style.display = 'flex' </script> <table border=\"1\" class=\"dataframe\">\n",
       "  <thead>\n",
       "    <tr style=\"text-align: right;\">\n",
       "      <th></th>\n",
       "      <th>action</th>\n",
       "      <th>duration</th>\n",
       "    </tr>\n",
       "  </thead>\n",
       "  <tbody>\n",
       "    <tr>\n",
       "      <th>0</th>\n",
       "      <td>0</td>\n",
       "      <td>96.0</td>\n",
       "    </tr>\n",
       "    <tr>\n",
       "      <th>1</th>\n",
       "      <td>1</td>\n",
       "      <td>17.0</td>\n",
       "    </tr>\n",
       "    <tr>\n",
       "      <th>2</th>\n",
       "      <td>2</td>\n",
       "      <td>37.0</td>\n",
       "    </tr>\n",
       "    <tr>\n",
       "      <th>3</th>\n",
       "      <td>4</td>\n",
       "      <td>22.5</td>\n",
       "    </tr>\n",
       "    <tr>\n",
       "      <th>4</th>\n",
       "      <td>6</td>\n",
       "      <td>12.0</td>\n",
       "    </tr>\n",
       "    <tr>\n",
       "      <th>...</th>\n",
       "      <td>...</td>\n",
       "      <td>...</td>\n",
       "    </tr>\n",
       "    <tr>\n",
       "      <th>39</th>\n",
       "      <td>3330</td>\n",
       "      <td>121.0</td>\n",
       "    </tr>\n",
       "    <tr>\n",
       "      <th>40</th>\n",
       "      <td>9001</td>\n",
       "      <td>20.0</td>\n",
       "    </tr>\n",
       "    <tr>\n",
       "      <th>41</th>\n",
       "      <td>9002</td>\n",
       "      <td>42.0</td>\n",
       "    </tr>\n",
       "    <tr>\n",
       "      <th>42</th>\n",
       "      <td>9003</td>\n",
       "      <td>2.0</td>\n",
       "    </tr>\n",
       "    <tr>\n",
       "      <th>43</th>\n",
       "      <td>9008</td>\n",
       "      <td>171.5</td>\n",
       "    </tr>\n",
       "  </tbody>\n",
       "</table></div>"
      ],
      "text/plain": [
       "    action  duration\n",
       "0        0      96.0\n",
       "1        1      17.0\n",
       "2        2      37.0\n",
       "3        4      22.5\n",
       "4        6      12.0\n",
       "5        7      14.0\n",
       "6        8      11.0\n",
       "7        9      74.0\n",
       "8       14       3.0\n",
       "9       15      12.0\n",
       "10      16      28.0\n",
       "11      19      21.0\n",
       "12      21     101.5\n",
       "13      22     126.0\n",
       "14      27      24.0\n",
       "15      31      10.0\n",
       "16      37      13.0\n",
       "17      41       2.0\n",
       "18     267       3.0\n",
       "19     290      71.0\n",
       "20     292     114.5\n",
       "21     293     103.0\n",
       "22     294      26.0\n",
       "23     298      21.0\n",
       "24     299       4.0\n",
       "25     416      12.0\n",
       "26     552       5.0\n",
       "27     666       4.0\n",
       "28     758       1.0\n",
       "29     759       1.0\n",
       "30     860     143.5\n",
       "31     861       6.0\n",
       "32    2001      20.0\n",
       "33    2002       8.0\n",
       "34    2003      17.0\n",
       "35    2006       3.0\n",
       "36    2007       3.0\n",
       "37    2010      28.0\n",
       "38    2013     432.0\n",
       "39    3330     121.0\n",
       "40    9001      20.0\n",
       "41    9002      42.0\n",
       "42    9003       2.0\n",
       "43    9008     171.5"
      ]
     },
     "execution_count": 16,
     "metadata": {},
     "output_type": "execute_result"
    }
   ],
   "source": [
    "df_res"
   ]
  },
  {
   "cell_type": "code",
   "execution_count": 17,
   "id": "4db5796d-0293-497d-b10e-97c6857faa68",
   "metadata": {},
   "outputs": [],
   "source": [
    "# теперь отсортируем исходные данные по: а) пользователю; б) дате-времени\n",
    "df_center_sorted = df_center.sort_values([\"user_id\", \"datetime\"]).reset_index(drop=True)"
   ]
  },
  {
   "cell_type": "code",
   "execution_count": 18,
   "id": "f4256b9d-439f-416b-b35a-911e06b88806",
   "metadata": {},
   "outputs": [
    {
     "data": {
      "text/html": [
       "<div><div id=78b849d7-b37f-4b1e-a1bf-3751f35c32d2 style=\"display:none; background-color:#9D6CFF; color:white; width:200px; height:30px; padding-left:5px; border-radius:4px; flex-direction:row; justify-content:space-around; align-items:center;\" onmouseover=\"this.style.backgroundColor='#BA9BF8'\" onmouseout=\"this.style.backgroundColor='#9D6CFF'\" onclick=\"window.commands?.execute('create-mitosheet-from-dataframe-output');\">See Full Dataframe in Mito</div> <script> if (window.commands?.hasCommand('create-mitosheet-from-dataframe-output')) document.getElementById('78b849d7-b37f-4b1e-a1bf-3751f35c32d2').style.display = 'flex' </script> <table border=\"1\" class=\"dataframe\">\n",
       "  <thead>\n",
       "    <tr style=\"text-align: right;\">\n",
       "      <th></th>\n",
       "      <th>action</th>\n",
       "      <th>user_id</th>\n",
       "      <th>datetime</th>\n",
       "    </tr>\n",
       "  </thead>\n",
       "  <tbody>\n",
       "    <tr>\n",
       "      <th>0</th>\n",
       "      <td>15</td>\n",
       "      <td>30134</td>\n",
       "      <td>2018-01-03 14:50:14</td>\n",
       "    </tr>\n",
       "    <tr>\n",
       "      <th>1</th>\n",
       "      <td>2006</td>\n",
       "      <td>30134</td>\n",
       "      <td>2018-01-03 15:58:07</td>\n",
       "    </tr>\n",
       "    <tr>\n",
       "      <th>2</th>\n",
       "      <td>2006</td>\n",
       "      <td>30134</td>\n",
       "      <td>2018-01-03 15:58:14</td>\n",
       "    </tr>\n",
       "    <tr>\n",
       "      <th>3</th>\n",
       "      <td>2006</td>\n",
       "      <td>30134</td>\n",
       "      <td>2018-01-03 15:58:19</td>\n",
       "    </tr>\n",
       "    <tr>\n",
       "      <th>4</th>\n",
       "      <td>2006</td>\n",
       "      <td>30134</td>\n",
       "      <td>2018-01-03 15:58:29</td>\n",
       "    </tr>\n",
       "    <tr>\n",
       "      <th>...</th>\n",
       "      <td>...</td>\n",
       "      <td>...</td>\n",
       "      <td>...</td>\n",
       "    </tr>\n",
       "    <tr>\n",
       "      <th>196650</th>\n",
       "      <td>2001</td>\n",
       "      <td>40138</td>\n",
       "      <td>2018-01-30 18:06:18</td>\n",
       "    </tr>\n",
       "    <tr>\n",
       "      <th>196651</th>\n",
       "      <td>2003</td>\n",
       "      <td>40138</td>\n",
       "      <td>2018-01-30 18:08:13</td>\n",
       "    </tr>\n",
       "    <tr>\n",
       "      <th>196652</th>\n",
       "      <td>2003</td>\n",
       "      <td>40138</td>\n",
       "      <td>2018-01-30 18:08:17</td>\n",
       "    </tr>\n",
       "    <tr>\n",
       "      <th>196653</th>\n",
       "      <td>2003</td>\n",
       "      <td>40138</td>\n",
       "      <td>2018-01-30 18:08:21</td>\n",
       "    </tr>\n",
       "    <tr>\n",
       "      <th>196654</th>\n",
       "      <td>2003</td>\n",
       "      <td>40138</td>\n",
       "      <td>2018-01-30 18:08:24</td>\n",
       "    </tr>\n",
       "  </tbody>\n",
       "</table></div>"
      ],
      "text/plain": [
       "        action  user_id            datetime\n",
       "0           15    30134 2018-01-03 14:50:14\n",
       "1         2006    30134 2018-01-03 15:58:07\n",
       "2         2006    30134 2018-01-03 15:58:14\n",
       "3         2006    30134 2018-01-03 15:58:19\n",
       "4         2006    30134 2018-01-03 15:58:29\n",
       "...        ...      ...                 ...\n",
       "196650    2001    40138 2018-01-30 18:06:18\n",
       "196651    2003    40138 2018-01-30 18:08:13\n",
       "196652    2003    40138 2018-01-30 18:08:17\n",
       "196653    2003    40138 2018-01-30 18:08:21\n",
       "196654    2003    40138 2018-01-30 18:08:24\n",
       "\n",
       "[196655 rows x 3 columns]"
      ]
     },
     "execution_count": 18,
     "metadata": {},
     "output_type": "execute_result"
    }
   ],
   "source": [
    "df_center_sorted"
   ]
  },
  {
   "cell_type": "code",
   "execution_count": 19,
   "id": "77b08f1b-f9bd-4f3b-8b95-2b5d23068289",
   "metadata": {},
   "outputs": [
    {
     "name": "stdout",
     "output_type": "stream",
     "text": [
      "CPU times: user 4min 20s, sys: 1.7 s, total: 4min 22s\n",
      "Wall time: 4min 22s\n"
     ]
    }
   ],
   "source": [
    "%%time\n",
    "\n",
    "df_res_0 = pd.DataFrame()\n",
    "for _ in range(1, df_center_sorted.shape[0]):\n",
    "    if df_center_sorted.loc[_, \"user_id\"] == df_center_sorted.loc[_ - 1, \"user_id\"]:\n",
    "        delta = (\n",
    "            df_center_sorted.loc[_, \"datetime\"]\n",
    "            - df_center_sorted.loc[_ - 1, \"datetime\"]\n",
    "        ).total_seconds()\n",
    "        if delta <= 1200:\n",
    "            row = {\n",
    "                \"action\": (df_center_sorted.loc[_, \"action\"]),\n",
    "                \"duration\": delta,\n",
    "            }\n",
    "        else:\n",
    "            pass\n",
    "        df_res_0 = df_res_0.append(row, ignore_index=True)\n",
    "    else:\n",
    "        pass"
   ]
  },
  {
   "cell_type": "code",
   "execution_count": 20,
   "id": "8d2007be-e341-4832-ad55-3301248e17f3",
   "metadata": {},
   "outputs": [],
   "source": [
    "df_res_0.action = df_res_0.action.astype(\"int\")\n",
    "df_res_0 = df_res_0.groupby(\"action\").median(\"duration\")"
   ]
  },
  {
   "cell_type": "code",
   "execution_count": 21,
   "id": "30a3c4bf-c550-4ddb-b1bd-9ac01f72247b",
   "metadata": {},
   "outputs": [],
   "source": [
    "df_res_0.reset_index(inplace=True)"
   ]
  },
  {
   "cell_type": "code",
   "execution_count": 22,
   "id": "d47414cf-060b-4e09-9587-3fb07687055b",
   "metadata": {},
   "outputs": [
    {
     "data": {
      "text/html": [
       "<div><div id=9f2f280e-9f5e-4f84-9c2b-4ec1e4cb905d style=\"display:none; background-color:#9D6CFF; color:white; width:200px; height:30px; padding-left:5px; border-radius:4px; flex-direction:row; justify-content:space-around; align-items:center;\" onmouseover=\"this.style.backgroundColor='#BA9BF8'\" onmouseout=\"this.style.backgroundColor='#9D6CFF'\" onclick=\"window.commands?.execute('create-mitosheet-from-dataframe-output');\">See Full Dataframe in Mito</div> <script> if (window.commands?.hasCommand('create-mitosheet-from-dataframe-output')) document.getElementById('9f2f280e-9f5e-4f84-9c2b-4ec1e4cb905d').style.display = 'flex' </script> <table border=\"1\" class=\"dataframe\">\n",
       "  <thead>\n",
       "    <tr style=\"text-align: right;\">\n",
       "      <th></th>\n",
       "      <th>action</th>\n",
       "      <th>duration</th>\n",
       "    </tr>\n",
       "  </thead>\n",
       "  <tbody>\n",
       "    <tr>\n",
       "      <th>0</th>\n",
       "      <td>0</td>\n",
       "      <td>96.0</td>\n",
       "    </tr>\n",
       "    <tr>\n",
       "      <th>1</th>\n",
       "      <td>1</td>\n",
       "      <td>17.0</td>\n",
       "    </tr>\n",
       "    <tr>\n",
       "      <th>2</th>\n",
       "      <td>2</td>\n",
       "      <td>34.0</td>\n",
       "    </tr>\n",
       "    <tr>\n",
       "      <th>3</th>\n",
       "      <td>4</td>\n",
       "      <td>22.5</td>\n",
       "    </tr>\n",
       "    <tr>\n",
       "      <th>4</th>\n",
       "      <td>6</td>\n",
       "      <td>12.0</td>\n",
       "    </tr>\n",
       "    <tr>\n",
       "      <th>...</th>\n",
       "      <td>...</td>\n",
       "      <td>...</td>\n",
       "    </tr>\n",
       "    <tr>\n",
       "      <th>39</th>\n",
       "      <td>3330</td>\n",
       "      <td>121.0</td>\n",
       "    </tr>\n",
       "    <tr>\n",
       "      <th>40</th>\n",
       "      <td>9001</td>\n",
       "      <td>20.0</td>\n",
       "    </tr>\n",
       "    <tr>\n",
       "      <th>41</th>\n",
       "      <td>9002</td>\n",
       "      <td>43.0</td>\n",
       "    </tr>\n",
       "    <tr>\n",
       "      <th>42</th>\n",
       "      <td>9003</td>\n",
       "      <td>2.0</td>\n",
       "    </tr>\n",
       "    <tr>\n",
       "      <th>43</th>\n",
       "      <td>9008</td>\n",
       "      <td>171.5</td>\n",
       "    </tr>\n",
       "  </tbody>\n",
       "</table></div>"
      ],
      "text/plain": [
       "    action  duration\n",
       "0        0      96.0\n",
       "1        1      17.0\n",
       "2        2      34.0\n",
       "3        4      22.5\n",
       "4        6      12.0\n",
       "5        7      14.0\n",
       "6        8      11.0\n",
       "7        9      73.5\n",
       "8       14       3.0\n",
       "9       15      12.0\n",
       "10      16      29.0\n",
       "11      19      23.0\n",
       "12      21     101.0\n",
       "13      22     134.0\n",
       "14      27      28.0\n",
       "15      31      10.0\n",
       "16      37      13.0\n",
       "17      41       2.0\n",
       "18     267       4.0\n",
       "19     290      73.0\n",
       "20     292     103.0\n",
       "21     293     107.5\n",
       "22     294      26.0\n",
       "23     298      21.0\n",
       "24     299       4.0\n",
       "25     416      12.0\n",
       "26     552       5.0\n",
       "27     666       4.0\n",
       "28     758       1.0\n",
       "29     759       1.0\n",
       "30     860     143.0\n",
       "31     861       6.0\n",
       "32    2001      20.0\n",
       "33    2002       8.0\n",
       "34    2003      17.0\n",
       "35    2006       3.0\n",
       "36    2007       3.0\n",
       "37    2010      28.0\n",
       "38    2013     432.0\n",
       "39    3330     121.0\n",
       "40    9001      20.0\n",
       "41    9002      43.0\n",
       "42    9003       2.0\n",
       "43    9008     171.5"
      ]
     },
     "execution_count": 22,
     "metadata": {},
     "output_type": "execute_result"
    }
   ],
   "source": [
    "df_res_0"
   ]
  },
  {
   "cell_type": "markdown",
   "id": "8ab0fb8b-757b-40b0-a782-8d4de2bfaf9b",
   "metadata": {},
   "source": [
    "**Интересно, что код с циклом отработал за 3min 20s, а код без цикла за 4min 22s.**"
   ]
  },
  {
   "cell_type": "code",
   "execution_count": 23,
   "id": "f77ed761-5814-4ef9-9db9-afcd294b386e",
   "metadata": {},
   "outputs": [],
   "source": [
    "# объединим результаты работы обоих алгоритмов и удалим фиктивное действие 666\n",
    "df_duration = df_res.merge(df_res_0, on=[\"action\"], how=\"inner\")\n",
    "df_duration = df_duration[df_duration.action != 666]"
   ]
  },
  {
   "cell_type": "code",
   "execution_count": 24,
   "id": "48003b6d-2919-4f09-9b9f-e4867472d0d1",
   "metadata": {},
   "outputs": [],
   "source": [
    "df_duration.rename(\n",
    "    columns={\"duration_x\": \"duration_cycle\", \"duration_y\": \"duration_line\"},\n",
    "    inplace=True,\n",
    ")"
   ]
  },
  {
   "cell_type": "code",
   "execution_count": 25,
   "id": "49f5746e-3807-4aed-bdd7-fe2ba8ad678f",
   "metadata": {},
   "outputs": [
    {
     "data": {
      "text/html": [
       "<div><div id=08daa8fc-2e13-40f3-bdc9-abfbc8137463 style=\"display:none; background-color:#9D6CFF; color:white; width:200px; height:30px; padding-left:5px; border-radius:4px; flex-direction:row; justify-content:space-around; align-items:center;\" onmouseover=\"this.style.backgroundColor='#BA9BF8'\" onmouseout=\"this.style.backgroundColor='#9D6CFF'\" onclick=\"window.commands?.execute('create-mitosheet-from-dataframe-output');\">See Full Dataframe in Mito</div> <script> if (window.commands?.hasCommand('create-mitosheet-from-dataframe-output')) document.getElementById('08daa8fc-2e13-40f3-bdc9-abfbc8137463').style.display = 'flex' </script> <table border=\"1\" class=\"dataframe\">\n",
       "  <thead>\n",
       "    <tr style=\"text-align: right;\">\n",
       "      <th></th>\n",
       "      <th>action</th>\n",
       "      <th>duration_cycle</th>\n",
       "      <th>duration_line</th>\n",
       "    </tr>\n",
       "  </thead>\n",
       "  <tbody>\n",
       "    <tr>\n",
       "      <th>0</th>\n",
       "      <td>0</td>\n",
       "      <td>96.0</td>\n",
       "      <td>96.0</td>\n",
       "    </tr>\n",
       "    <tr>\n",
       "      <th>1</th>\n",
       "      <td>1</td>\n",
       "      <td>17.0</td>\n",
       "      <td>17.0</td>\n",
       "    </tr>\n",
       "    <tr>\n",
       "      <th>2</th>\n",
       "      <td>2</td>\n",
       "      <td>37.0</td>\n",
       "      <td>34.0</td>\n",
       "    </tr>\n",
       "    <tr>\n",
       "      <th>3</th>\n",
       "      <td>4</td>\n",
       "      <td>22.5</td>\n",
       "      <td>22.5</td>\n",
       "    </tr>\n",
       "    <tr>\n",
       "      <th>4</th>\n",
       "      <td>6</td>\n",
       "      <td>12.0</td>\n",
       "      <td>12.0</td>\n",
       "    </tr>\n",
       "    <tr>\n",
       "      <th>...</th>\n",
       "      <td>...</td>\n",
       "      <td>...</td>\n",
       "      <td>...</td>\n",
       "    </tr>\n",
       "    <tr>\n",
       "      <th>39</th>\n",
       "      <td>3330</td>\n",
       "      <td>121.0</td>\n",
       "      <td>121.0</td>\n",
       "    </tr>\n",
       "    <tr>\n",
       "      <th>40</th>\n",
       "      <td>9001</td>\n",
       "      <td>20.0</td>\n",
       "      <td>20.0</td>\n",
       "    </tr>\n",
       "    <tr>\n",
       "      <th>41</th>\n",
       "      <td>9002</td>\n",
       "      <td>42.0</td>\n",
       "      <td>43.0</td>\n",
       "    </tr>\n",
       "    <tr>\n",
       "      <th>42</th>\n",
       "      <td>9003</td>\n",
       "      <td>2.0</td>\n",
       "      <td>2.0</td>\n",
       "    </tr>\n",
       "    <tr>\n",
       "      <th>43</th>\n",
       "      <td>9008</td>\n",
       "      <td>171.5</td>\n",
       "      <td>171.5</td>\n",
       "    </tr>\n",
       "  </tbody>\n",
       "</table></div>"
      ],
      "text/plain": [
       "    action  duration_cycle  duration_line\n",
       "0        0            96.0           96.0\n",
       "1        1            17.0           17.0\n",
       "2        2            37.0           34.0\n",
       "3        4            22.5           22.5\n",
       "4        6            12.0           12.0\n",
       "5        7            14.0           14.0\n",
       "6        8            11.0           11.0\n",
       "7        9            74.0           73.5\n",
       "8       14             3.0            3.0\n",
       "9       15            12.0           12.0\n",
       "10      16            28.0           29.0\n",
       "11      19            21.0           23.0\n",
       "12      21           101.5          101.0\n",
       "13      22           126.0          134.0\n",
       "14      27            24.0           28.0\n",
       "15      31            10.0           10.0\n",
       "16      37            13.0           13.0\n",
       "17      41             2.0            2.0\n",
       "18     267             3.0            4.0\n",
       "19     290            71.0           73.0\n",
       "20     292           114.5          103.0\n",
       "21     293           103.0          107.5\n",
       "22     294            26.0           26.0\n",
       "23     298            21.0           21.0\n",
       "24     299             4.0            4.0\n",
       "25     416            12.0           12.0\n",
       "26     552             5.0            5.0\n",
       "28     758             1.0            1.0\n",
       "29     759             1.0            1.0\n",
       "30     860           143.5          143.0\n",
       "31     861             6.0            6.0\n",
       "32    2001            20.0           20.0\n",
       "33    2002             8.0            8.0\n",
       "34    2003            17.0           17.0\n",
       "35    2006             3.0            3.0\n",
       "36    2007             3.0            3.0\n",
       "37    2010            28.0           28.0\n",
       "38    2013           432.0          432.0\n",
       "39    3330           121.0          121.0\n",
       "40    9001            20.0           20.0\n",
       "41    9002            42.0           43.0\n",
       "42    9003             2.0            2.0\n",
       "43    9008           171.5          171.5"
      ]
     },
     "execution_count": 25,
     "metadata": {},
     "output_type": "execute_result"
    }
   ],
   "source": [
    "# результат применения обоих алгоритмов\n",
    "df_duration"
   ]
  },
  {
   "cell_type": "code",
   "execution_count": 26,
   "id": "c9a5ae41-a64f-4a79-b305-19940efa28de",
   "metadata": {},
   "outputs": [],
   "source": [
    "df_duration[\"delta_time\"] = df_duration.duration_cycle - df_duration.duration_line"
   ]
  },
  {
   "cell_type": "code",
   "execution_count": 27,
   "id": "7f6ca2c9-b0c4-4510-8d55-8d702e63d3db",
   "metadata": {},
   "outputs": [
    {
     "data": {
      "text/html": [
       "<div><div id=3234130b-3f8c-4a77-bd9b-aef1f06012bd style=\"display:none; background-color:#9D6CFF; color:white; width:200px; height:30px; padding-left:5px; border-radius:4px; flex-direction:row; justify-content:space-around; align-items:center;\" onmouseover=\"this.style.backgroundColor='#BA9BF8'\" onmouseout=\"this.style.backgroundColor='#9D6CFF'\" onclick=\"window.commands?.execute('create-mitosheet-from-dataframe-output');\">See Full Dataframe in Mito</div> <script> if (window.commands?.hasCommand('create-mitosheet-from-dataframe-output')) document.getElementById('3234130b-3f8c-4a77-bd9b-aef1f06012bd').style.display = 'flex' </script> <table border=\"1\" class=\"dataframe\">\n",
       "  <thead>\n",
       "    <tr style=\"text-align: right;\">\n",
       "      <th></th>\n",
       "      <th>action</th>\n",
       "      <th>duration_cycle</th>\n",
       "      <th>duration_line</th>\n",
       "      <th>delta_time</th>\n",
       "    </tr>\n",
       "  </thead>\n",
       "  <tbody>\n",
       "    <tr>\n",
       "      <th>0</th>\n",
       "      <td>2</td>\n",
       "      <td>37.0</td>\n",
       "      <td>34.0</td>\n",
       "      <td>3.0</td>\n",
       "    </tr>\n",
       "    <tr>\n",
       "      <th>1</th>\n",
       "      <td>9</td>\n",
       "      <td>74.0</td>\n",
       "      <td>73.5</td>\n",
       "      <td>0.5</td>\n",
       "    </tr>\n",
       "    <tr>\n",
       "      <th>2</th>\n",
       "      <td>16</td>\n",
       "      <td>28.0</td>\n",
       "      <td>29.0</td>\n",
       "      <td>-1.0</td>\n",
       "    </tr>\n",
       "    <tr>\n",
       "      <th>3</th>\n",
       "      <td>19</td>\n",
       "      <td>21.0</td>\n",
       "      <td>23.0</td>\n",
       "      <td>-2.0</td>\n",
       "    </tr>\n",
       "    <tr>\n",
       "      <th>4</th>\n",
       "      <td>21</td>\n",
       "      <td>101.5</td>\n",
       "      <td>101.0</td>\n",
       "      <td>0.5</td>\n",
       "    </tr>\n",
       "    <tr>\n",
       "      <th>...</th>\n",
       "      <td>...</td>\n",
       "      <td>...</td>\n",
       "      <td>...</td>\n",
       "      <td>...</td>\n",
       "    </tr>\n",
       "    <tr>\n",
       "      <th>8</th>\n",
       "      <td>290</td>\n",
       "      <td>71.0</td>\n",
       "      <td>73.0</td>\n",
       "      <td>-2.0</td>\n",
       "    </tr>\n",
       "    <tr>\n",
       "      <th>9</th>\n",
       "      <td>292</td>\n",
       "      <td>114.5</td>\n",
       "      <td>103.0</td>\n",
       "      <td>11.5</td>\n",
       "    </tr>\n",
       "    <tr>\n",
       "      <th>10</th>\n",
       "      <td>293</td>\n",
       "      <td>103.0</td>\n",
       "      <td>107.5</td>\n",
       "      <td>-4.5</td>\n",
       "    </tr>\n",
       "    <tr>\n",
       "      <th>11</th>\n",
       "      <td>860</td>\n",
       "      <td>143.5</td>\n",
       "      <td>143.0</td>\n",
       "      <td>0.5</td>\n",
       "    </tr>\n",
       "    <tr>\n",
       "      <th>12</th>\n",
       "      <td>9002</td>\n",
       "      <td>42.0</td>\n",
       "      <td>43.0</td>\n",
       "      <td>-1.0</td>\n",
       "    </tr>\n",
       "  </tbody>\n",
       "</table></div>"
      ],
      "text/plain": [
       "    action  duration_cycle  duration_line  delta_time\n",
       "0        2            37.0           34.0         3.0\n",
       "1        9            74.0           73.5         0.5\n",
       "2       16            28.0           29.0        -1.0\n",
       "3       19            21.0           23.0        -2.0\n",
       "4       21           101.5          101.0         0.5\n",
       "5       22           126.0          134.0        -8.0\n",
       "6       27            24.0           28.0        -4.0\n",
       "7      267             3.0            4.0        -1.0\n",
       "8      290            71.0           73.0        -2.0\n",
       "9      292           114.5          103.0        11.5\n",
       "10     293           103.0          107.5        -4.5\n",
       "11     860           143.5          143.0         0.5\n",
       "12    9002            42.0           43.0        -1.0"
      ]
     },
     "execution_count": 27,
     "metadata": {},
     "output_type": "execute_result"
    }
   ],
   "source": [
    "# сравнение результатов работы двух алгоритмов\n",
    "df_duration.loc[df_duration.delta_time != 0].reset_index(drop=True)"
   ]
  },
  {
   "cell_type": "code",
   "execution_count": 103,
   "id": "42009f9a-8757-4797-89cd-cc8753ccceeb",
   "metadata": {},
   "outputs": [
    {
     "data": {
      "image/png": "[encoded data removed]",
      "text/plain": [
       "<Figure size 1400x900 with 1 Axes>"
      ]
     },
     "metadata": {},
     "output_type": "display_data"
    }
   ],
   "source": [
    "# визуализируем данные\n",
    "df_duration.plot(\n",
    "    x=\"action\",\n",
    "    y=[\"duration_cycle\", \"duration_line\"],\n",
    "    kind=\"bar\",\n",
    "    rot=90,\n",
    "    fontsize=9,\n",
    "    figsize=(14, 9),\n",
    ")\n",
    "plt.show()"
   ]
  },
  {
   "cell_type": "code",
   "execution_count": 94,
   "id": "e22ef404-6f10-42a2-85c3-9332762a95ca",
   "metadata": {},
   "outputs": [
    {
     "name": "stdout",
     "output_type": "stream",
     "text": [
      "Коэффициент линейной корреляции Пирсона: 0.999\n",
      "Среднее расхождение результатов: -0.17 сек\n",
      "Среднеквадратичная ошибка: 2.3991002101166634\n"
     ]
    }
   ],
   "source": [
    "corr = df_duration[\"duration_cycle\"].corr(df_duration[\"duration_line\"])\n",
    "rmse = math.sqrt(\n",
    "    mean_squared_error(df_duration[\"duration_cycle\"], df_duration[\"duration_line\"])\n",
    ")\n",
    "print(f\"Коэффициент линейной корреляции Пирсона: {corr.round(3)}\")\n",
    "print(f\"Среднее расхождение результатов: {df_duration.delta_time.mean().round(2)} сек\")\n",
    "print(f\"Среднеквадратичная ошибка: {rmse}\")"
   ]
  },
  {
   "cell_type": "markdown",
   "id": "efc0cecb-d0ed-4aaf-bbc8-d0dfc7012a0f",
   "metadata": {},
   "source": [
    "Осталось понять, почему всё так произошло?\n",
    "![](https://ua.edufuture.biz/wp-content/uploads/2019/04/2-9.jpg)"
   ]
  }
 ],
 "metadata": {
  "kernelspec": {
   "display_name": "Python 3 (ipykernel)",
   "language": "python",
   "name": "python3"
  },
  "language_info": {
   "codemirror_mode": {
    "name": "ipython",
    "version": 3
   },
   "file_extension": ".py",
   "mimetype": "text/x-python",
   "name": "python",
   "nbconvert_exporter": "python",
   "pygments_lexer": "ipython3",
   "version": "3.8.13"
  },
  "widgets": {
   "application/vnd.jupyter.widget-state+json": {
    "state": {},
    "version_major": 2,
    "version_minor": 0
   }
  }
 },
 "nbformat": 4,
 "nbformat_minor": 5
}
