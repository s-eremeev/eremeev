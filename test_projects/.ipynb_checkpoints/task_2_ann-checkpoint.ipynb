{
 "cells": [
  {
   "cell_type": "markdown",
   "id": "c1b1d69d-f284-4ee2-9ab6-63474ac298f8",
   "metadata": {},
   "source": [
    "## Работа Анны Коврижкиной, [InData](https://useindata.com/)"
   ]
  },
  {
   "cell_type": "code",
   "execution_count": 2,
   "id": "0d9157f6",
   "metadata": {},
   "outputs": [],
   "source": [
    "import pandas as pd\n",
    "import numpy as np\n",
    "import time"
   ]
  },
  {
   "cell_type": "code",
   "execution_count": 7,
   "id": "2298ded4",
   "metadata": {},
   "outputs": [],
   "source": [
    "sales = pd.read_csv(\"/home/sk27/repo/eremeev/test_projects/new.csv\",index_col=0)"
   ]
  },
  {
   "cell_type": "code",
   "execution_count": 8,
   "id": "0e58e072-54bd-4a2c-9752-e4bfdc062d89",
   "metadata": {},
   "outputs": [
    {
     "data": {
      "text/html": [
       "<div><div id=4988376b-4825-4e00-8606-f5bb22a4544c style=\"display:none; background-color:#9D6CFF; color:white; width:200px; height:30px; padding-left:5px; border-radius:4px; flex-direction:row; justify-content:space-around; align-items:center;\" onmouseover=\"this.style.backgroundColor='#BA9BF8'\" onmouseout=\"this.style.backgroundColor='#9D6CFF'\" onclick=\"window.commands?.execute('create-mitosheet-from-dataframe-output');\">See Full Dataframe in Mito</div> <script> if (window.commands?.hasCommand('create-mitosheet-from-dataframe-output')) document.getElementById('4988376b-4825-4e00-8606-f5bb22a4544c').style.display = 'flex' </script> <table border=\"1\" class=\"dataframe\">\n",
       "  <thead>\n",
       "    <tr style=\"text-align: right;\">\n",
       "      <th></th>\n",
       "      <th>date</th>\n",
       "      <th>receipt</th>\n",
       "      <th>product</th>\n",
       "      <th>group_of_products</th>\n",
       "      <th>store</th>\n",
       "      <th>city</th>\n",
       "      <th>sold_quantity</th>\n",
       "      <th>tunover_VAT</th>\n",
       "      <th>purchase_price_VAT</th>\n",
       "      <th>purchase_cost_VAT</th>\n",
       "      <th>margin_VAT</th>\n",
       "      <th>profit</th>\n",
       "    </tr>\n",
       "  </thead>\n",
       "  <tbody>\n",
       "    <tr>\n",
       "      <th>2673</th>\n",
       "      <td>2018-05-01 00:00:00</td>\n",
       "      <td>Чек ККМ ГС00-029452 от 01.05.2018 5:43:42</td>\n",
       "      <td>Энерг.нап. Ягуар Фри 0,5 л ж/б</td>\n",
       "      <td>ЭНЕРГЕТИЧЕСКИЕ НАПИТКИ</td>\n",
       "      <td>АЗС № 1</td>\n",
       "      <td>Симферополь г</td>\n",
       "      <td>2</td>\n",
       "      <td>110.0</td>\n",
       "      <td>38.02</td>\n",
       "      <td>76.04</td>\n",
       "      <td>33.96</td>\n",
       "      <td>16.98</td>\n",
       "    </tr>\n",
       "    <tr>\n",
       "      <th>2674</th>\n",
       "      <td>2018-05-01 00:00:00</td>\n",
       "      <td>Чек ККМ ГС00-029469 от 01.05.2018 8:37:13</td>\n",
       "      <td>Средство для разжигания огня Simex 0.25 л</td>\n",
       "      <td>Товары для отдыха</td>\n",
       "      <td>АЗС № 1</td>\n",
       "      <td>Симферополь г</td>\n",
       "      <td>1</td>\n",
       "      <td>60.0</td>\n",
       "      <td>24.00</td>\n",
       "      <td>24.00</td>\n",
       "      <td>36.00</td>\n",
       "      <td>36.00</td>\n",
       "    </tr>\n",
       "    <tr>\n",
       "      <th>2675</th>\n",
       "      <td>2018-05-01 00:00:00</td>\n",
       "      <td>Чек ККМ ГС00-029495 от 01.05.2018 9:45:43</td>\n",
       "      <td>Средство для разжигания огня Simex 0.25 л</td>\n",
       "      <td>Товары для отдыха</td>\n",
       "      <td>АЗС № 1</td>\n",
       "      <td>Симферополь г</td>\n",
       "      <td>1</td>\n",
       "      <td>60.0</td>\n",
       "      <td>24.00</td>\n",
       "      <td>24.00</td>\n",
       "      <td>36.00</td>\n",
       "      <td>36.00</td>\n",
       "    </tr>\n",
       "    <tr>\n",
       "      <th>2676</th>\n",
       "      <td>2018-05-01 00:00:00</td>\n",
       "      <td>Чек ККМ ГС00-029495 от 01.05.2018 9:45:43</td>\n",
       "      <td>Уголь древесный 15л</td>\n",
       "      <td>Товары для отдыха</td>\n",
       "      <td>АЗС № 1</td>\n",
       "      <td>Симферополь г</td>\n",
       "      <td>1</td>\n",
       "      <td>150.0</td>\n",
       "      <td>95.00</td>\n",
       "      <td>95.00</td>\n",
       "      <td>55.00</td>\n",
       "      <td>55.00</td>\n",
       "    </tr>\n",
       "    <tr>\n",
       "      <th>2677</th>\n",
       "      <td>2018-05-01 00:00:00</td>\n",
       "      <td>Чек ККМ ГС00-029500 от 01.05.2018 10:08:45</td>\n",
       "      <td>X-FREEZE Red Антифриз, кан.1 кг.</td>\n",
       "      <td>Эксплуатационные жидкости (тосолы, антифризы)</td>\n",
       "      <td>АЗС № 1</td>\n",
       "      <td>Симферополь г</td>\n",
       "      <td>3</td>\n",
       "      <td>390.0</td>\n",
       "      <td>85.00</td>\n",
       "      <td>255.00</td>\n",
       "      <td>135.00</td>\n",
       "      <td>45.00</td>\n",
       "    </tr>\n",
       "  </tbody>\n",
       "</table></div>"
      ],
      "text/plain": [
       "                     date                                     receipt  \\\n",
       "2673  2018-05-01 00:00:00   Чек ККМ ГС00-029452 от 01.05.2018 5:43:42   \n",
       "2674  2018-05-01 00:00:00   Чек ККМ ГС00-029469 от 01.05.2018 8:37:13   \n",
       "2675  2018-05-01 00:00:00   Чек ККМ ГС00-029495 от 01.05.2018 9:45:43   \n",
       "2676  2018-05-01 00:00:00   Чек ККМ ГС00-029495 от 01.05.2018 9:45:43   \n",
       "2677  2018-05-01 00:00:00  Чек ККМ ГС00-029500 от 01.05.2018 10:08:45   \n",
       "\n",
       "                                        product  \\\n",
       "2673             Энерг.нап. Ягуар Фри 0,5 л ж/б   \n",
       "2674  Средство для разжигания огня Simex 0.25 л   \n",
       "2675  Средство для разжигания огня Simex 0.25 л   \n",
       "2676                        Уголь древесный 15л   \n",
       "2677           X-FREEZE Red Антифриз, кан.1 кг.   \n",
       "\n",
       "                                  group_of_products    store           city  \\\n",
       "2673                         ЭНЕРГЕТИЧЕСКИЕ НАПИТКИ  АЗС № 1  Симферополь г   \n",
       "2674                              Товары для отдыха  АЗС № 1  Симферополь г   \n",
       "2675                              Товары для отдыха  АЗС № 1  Симферополь г   \n",
       "2676                              Товары для отдыха  АЗС № 1  Симферополь г   \n",
       "2677  Эксплуатационные жидкости (тосолы, антифризы)  АЗС № 1  Симферополь г   \n",
       "\n",
       "      sold_quantity  tunover_VAT  purchase_price_VAT  purchase_cost_VAT  \\\n",
       "2673              2        110.0               38.02              76.04   \n",
       "2674              1         60.0               24.00              24.00   \n",
       "2675              1         60.0               24.00              24.00   \n",
       "2676              1        150.0               95.00              95.00   \n",
       "2677              3        390.0               85.00             255.00   \n",
       "\n",
       "      margin_VAT  profit  \n",
       "2673       33.96   16.98  \n",
       "2674       36.00   36.00  \n",
       "2675       36.00   36.00  \n",
       "2676       55.00   55.00  \n",
       "2677      135.00   45.00  "
      ]
     },
     "execution_count": 8,
     "metadata": {},
     "output_type": "execute_result"
    }
   ],
   "source": [
    "sales.head()"
   ]
  },
  {
   "cell_type": "code",
   "execution_count": 9,
   "id": "d4dfe245-98a1-4b83-98c0-f00ddb6d4b19",
   "metadata": {},
   "outputs": [],
   "source": [
    "# Сохраним возвраты в отдельный датафрейм storno\n",
    "storno = sales.loc[(sales.sold_quantity < 0)]"
   ]
  },
  {
   "cell_type": "code",
   "execution_count": 23,
   "id": "c7e1460b-e64c-40e9-960f-ef3a5d6627de",
   "metadata": {},
   "outputs": [
    {
     "name": "stdout",
     "output_type": "stream",
     "text": [
      "<class 'pandas.core.frame.DataFrame'>\n",
      "Int64Index: 3 entries, 3075 to 3270\n",
      "Data columns (total 12 columns):\n",
      " #   Column              Non-Null Count  Dtype  \n",
      "---  ------              --------------  -----  \n",
      " 0   date                3 non-null      object \n",
      " 1   receipt_st          3 non-null      object \n",
      " 2   product             3 non-null      object \n",
      " 3   group_of_products   3 non-null      object \n",
      " 4   store               3 non-null      object \n",
      " 5   city                3 non-null      object \n",
      " 6   sold_quantity       3 non-null      int64  \n",
      " 7   tunover_VAT         3 non-null      float64\n",
      " 8   purchase_price_VAT  3 non-null      float64\n",
      " 9   purchase_cost_VAT   3 non-null      float64\n",
      " 10  margin_VAT          3 non-null      float64\n",
      " 11  profit              3 non-null      float64\n",
      "dtypes: float64(5), int64(1), object(6)\n",
      "memory usage: 312.0+ bytes\n"
     ]
    }
   ],
   "source": [
    "storno.info()"
   ]
  },
  {
   "cell_type": "code",
   "execution_count": 10,
   "id": "75c5753d-5168-4959-b59f-882511c90ce9",
   "metadata": {},
   "outputs": [],
   "source": [
    "# Очистим sales от возвратов\n",
    "sales = sales.loc[~(sales.sold_quantity < 0)]"
   ]
  },
  {
   "cell_type": "code",
   "execution_count": 11,
   "id": "15186048-4428-424a-b76a-fd68b98a495b",
   "metadata": {},
   "outputs": [],
   "source": [
    "# Пересчитаем показатели в sales\n",
    "sales['purchase_cost_VAT'] = sales['purchase_price_VAT'] * sales['sold_quantity']\n",
    "sales['margin_VAT'] = sales['tunover_VAT'] - sales['purchase_cost_VAT']\n",
    "sales['profit'] = sales['tunover_VAT'] / sales['sold_quantity']"
   ]
  },
  {
   "cell_type": "code",
   "execution_count": 12,
   "id": "4484f774-12d8-4d3b-86e4-cc74f2373876",
   "metadata": {},
   "outputs": [],
   "source": [
    "# Уберем минусы в столбцах 'sold_quantity' и 'tunover_VAT' \n",
    "storno['sold_quantity'] = -1 * storno['sold_quantity'].loc[storno['sold_quantity'] < 0]\n",
    "storno['tunover_VAT'] = -1 * storno['tunover_VAT'].loc[storno['tunover_VAT'] < 0]"
   ]
  },
  {
   "cell_type": "code",
   "execution_count": 13,
   "id": "d9013cfd-4d54-403b-b676-ffb53145c4be",
   "metadata": {},
   "outputs": [
    {
     "name": "stderr",
     "output_type": "stream",
     "text": [
      "/home/sk27/.local/lib/python3.8/site-packages/pandas/core/indexing.py:1732: SettingWithCopyWarning: \n",
      "A value is trying to be set on a copy of a slice from a DataFrame\n",
      "\n",
      "See the caveats in the documentation: https://pandas.pydata.org/pandas-docs/stable/user_guide/indexing.html#returning-a-view-versus-a-copy\n",
      "  self._setitem_single_block(indexer, value, name)\n"
     ]
    }
   ],
   "source": [
    "# Заполним отсутствующие значения в столбце 'tunover_VAT' нолями\n",
    "storno.tunover_VAT.loc[storno.tunover_VAT.isna()] = 0"
   ]
  },
  {
   "cell_type": "code",
   "execution_count": 14,
   "id": "dac419be-ccc1-4bf3-8ee1-6deefd73ed71",
   "metadata": {},
   "outputs": [],
   "source": [
    "# Заново пересчитаем показатели в storno\n",
    "storno['purchase_cost_VAT'] = storno['purchase_price_VAT'] * storno['sold_quantity']\n",
    "storno['margin_VAT'] = storno['tunover_VAT'] - storno['purchase_cost_VAT']\n",
    "storno['profit'] = storno['tunover_VAT'] / storno['sold_quantity']"
   ]
  },
  {
   "cell_type": "code",
   "execution_count": 24,
   "id": "1947c8ba-3009-4549-91d0-0c9db39a7ef8",
   "metadata": {},
   "outputs": [
    {
     "name": "stdout",
     "output_type": "stream",
     "text": [
      "<class 'pandas.core.frame.DataFrame'>\n",
      "Int64Index: 3 entries, 3075 to 3270\n",
      "Data columns (total 12 columns):\n",
      " #   Column              Non-Null Count  Dtype  \n",
      "---  ------              --------------  -----  \n",
      " 0   date                3 non-null      object \n",
      " 1   receipt_st          3 non-null      object \n",
      " 2   product             3 non-null      object \n",
      " 3   group_of_products   3 non-null      object \n",
      " 4   store               3 non-null      object \n",
      " 5   city                3 non-null      object \n",
      " 6   sold_quantity       3 non-null      int64  \n",
      " 7   tunover_VAT         3 non-null      float64\n",
      " 8   purchase_price_VAT  3 non-null      float64\n",
      " 9   purchase_cost_VAT   3 non-null      float64\n",
      " 10  margin_VAT          3 non-null      float64\n",
      " 11  profit              3 non-null      float64\n",
      "dtypes: float64(5), int64(1), object(6)\n",
      "memory usage: 312.0+ bytes\n"
     ]
    }
   ],
   "source": [
    "storno.info()"
   ]
  },
  {
   "cell_type": "code",
   "execution_count": 15,
   "id": "cc64ee17-5286-49d3-8acd-5b30905d3a3d",
   "metadata": {},
   "outputs": [],
   "source": [
    "# Переименуем столбцы 'receipt' и 'time', чтобы они не участвовали в pd.merge\n",
    "storno.rename(columns={'receipt':'receipt_st', 'time':'time_st'}, inplace=True)"
   ]
  },
  {
   "cell_type": "code",
   "execution_count": 20,
   "id": "b0ba5d21-7bd9-42f0-95dc-eff29e456791",
   "metadata": {},
   "outputs": [
    {
     "data": {
      "text/html": [
       "<div><div id=c5a10ce6-551a-49b7-ba29-7fc891278821 style=\"display:none; background-color:#9D6CFF; color:white; width:200px; height:30px; padding-left:5px; border-radius:4px; flex-direction:row; justify-content:space-around; align-items:center;\" onmouseover=\"this.style.backgroundColor='#BA9BF8'\" onmouseout=\"this.style.backgroundColor='#9D6CFF'\" onclick=\"window.commands?.execute('create-mitosheet-from-dataframe-output');\">See Full Dataframe in Mito</div> <script> if (window.commands?.hasCommand('create-mitosheet-from-dataframe-output')) document.getElementById('c5a10ce6-551a-49b7-ba29-7fc891278821').style.display = 'flex' </script> <table border=\"1\" class=\"dataframe\">\n",
       "  <thead>\n",
       "    <tr style=\"text-align: right;\">\n",
       "      <th></th>\n",
       "      <th>date</th>\n",
       "      <th>receipt_st</th>\n",
       "      <th>product</th>\n",
       "      <th>group_of_products</th>\n",
       "      <th>store</th>\n",
       "      <th>city</th>\n",
       "      <th>sold_quantity</th>\n",
       "      <th>tunover_VAT</th>\n",
       "      <th>purchase_price_VAT</th>\n",
       "      <th>purchase_cost_VAT</th>\n",
       "      <th>margin_VAT</th>\n",
       "      <th>profit</th>\n",
       "    </tr>\n",
       "  </thead>\n",
       "  <tbody>\n",
       "    <tr>\n",
       "      <th>3075</th>\n",
       "      <td>2018-05-16 00:00:00</td>\n",
       "      <td>Чек ККМ ГС00-034277 от 16.05.2018 20:14:40</td>\n",
       "      <td>Масло трансмис. Роснефть 75 W 90 Kinetic GL-4/GL-5 1 л</td>\n",
       "      <td>Моторные масла</td>\n",
       "      <td>АЗС № 1</td>\n",
       "      <td>Симферополь г</td>\n",
       "      <td>2</td>\n",
       "      <td>700.0</td>\n",
       "      <td>249.00</td>\n",
       "      <td>498.00</td>\n",
       "      <td>202.00</td>\n",
       "      <td>350.0</td>\n",
       "    </tr>\n",
       "    <tr>\n",
       "      <th>3259</th>\n",
       "      <td>2018-05-23 00:00:00</td>\n",
       "      <td>Чек ККМ ГС00-036419 от 23.05.2018 19:29:27</td>\n",
       "      <td>ИВ Лимонад Сливочный 0,6 л стекло</td>\n",
       "      <td>ВКУСОВАЯ, СЛАДКАЯ ВОДА, НАПИТКИ</td>\n",
       "      <td>АЗС № 1</td>\n",
       "      <td>Симферополь г</td>\n",
       "      <td>1</td>\n",
       "      <td>90.0</td>\n",
       "      <td>54.66</td>\n",
       "      <td>54.66</td>\n",
       "      <td>35.34</td>\n",
       "      <td>90.0</td>\n",
       "    </tr>\n",
       "    <tr>\n",
       "      <th>3270</th>\n",
       "      <td>2018-05-24 00:00:00</td>\n",
       "      <td>Чек ККМ ГС00-036571 от 24.05.2018 12:08:34</td>\n",
       "      <td>Крымская Вода питьевая н/газ 1,0л ПЭТ</td>\n",
       "      <td>БЕЛАЯ ВОДА</td>\n",
       "      <td>АЗС № 1</td>\n",
       "      <td>Симферополь г</td>\n",
       "      <td>50</td>\n",
       "      <td>1750.0</td>\n",
       "      <td>20.78</td>\n",
       "      <td>1039.00</td>\n",
       "      <td>711.00</td>\n",
       "      <td>35.0</td>\n",
       "    </tr>\n",
       "  </tbody>\n",
       "</table></div>"
      ],
      "text/plain": [
       "                     date                                  receipt_st  \\\n",
       "3075  2018-05-16 00:00:00  Чек ККМ ГС00-034277 от 16.05.2018 20:14:40   \n",
       "3259  2018-05-23 00:00:00  Чек ККМ ГС00-036419 от 23.05.2018 19:29:27   \n",
       "3270  2018-05-24 00:00:00  Чек ККМ ГС00-036571 от 24.05.2018 12:08:34   \n",
       "\n",
       "                                                product  \\\n",
       "3075  Масло трансмис. Роснефть 75 W 90 Kinetic GL-4/...   \n",
       "3259                  ИВ Лимонад Сливочный 0,6 л стекло   \n",
       "3270              Крымская Вода питьевая н/газ 1,0л ПЭТ   \n",
       "\n",
       "                    group_of_products    store           city  sold_quantity  \\\n",
       "3075                   Моторные масла  АЗС № 1  Симферополь г              2   \n",
       "3259  ВКУСОВАЯ, СЛАДКАЯ ВОДА, НАПИТКИ  АЗС № 1  Симферополь г              1   \n",
       "3270                       БЕЛАЯ ВОДА  АЗС № 1  Симферополь г             50   \n",
       "\n",
       "      tunover_VAT  purchase_price_VAT  purchase_cost_VAT  margin_VAT  profit  \n",
       "3075        700.0              249.00             498.00      202.00   350.0  \n",
       "3259         90.0               54.66              54.66       35.34    90.0  \n",
       "3270       1750.0               20.78            1039.00      711.00    35.0  "
      ]
     },
     "execution_count": 20,
     "metadata": {},
     "output_type": "execute_result"
    }
   ],
   "source": [
    "storno"
   ]
  },
  {
   "cell_type": "code",
   "execution_count": 16,
   "id": "499bf9a9-2dda-4558-958b-088b27dcdc42",
   "metadata": {},
   "outputs": [],
   "source": [
    "# Соединим две таблицы\n",
    "storno1 = pd.merge(storno, sales, how='left')"
   ]
  },
  {
   "cell_type": "code",
   "execution_count": 19,
   "id": "db200eee-1e5a-43eb-a37a-f0946bedc98b",
   "metadata": {},
   "outputs": [
    {
     "data": {
      "text/html": [
       "<div><div id=05984115-737e-48db-ae31-af0309cdf6b6 style=\"display:none; background-color:#9D6CFF; color:white; width:200px; height:30px; padding-left:5px; border-radius:4px; flex-direction:row; justify-content:space-around; align-items:center;\" onmouseover=\"this.style.backgroundColor='#BA9BF8'\" onmouseout=\"this.style.backgroundColor='#9D6CFF'\" onclick=\"window.commands?.execute('create-mitosheet-from-dataframe-output');\">See Full Dataframe in Mito</div> <script> if (window.commands?.hasCommand('create-mitosheet-from-dataframe-output')) document.getElementById('05984115-737e-48db-ae31-af0309cdf6b6').style.display = 'flex' </script> <table border=\"1\" class=\"dataframe\">\n",
       "  <thead>\n",
       "    <tr style=\"text-align: right;\">\n",
       "      <th></th>\n",
       "      <th>date</th>\n",
       "      <th>receipt_st</th>\n",
       "      <th>product</th>\n",
       "      <th>group_of_products</th>\n",
       "      <th>store</th>\n",
       "      <th>city</th>\n",
       "      <th>sold_quantity</th>\n",
       "      <th>tunover_VAT</th>\n",
       "      <th>purchase_price_VAT</th>\n",
       "      <th>purchase_cost_VAT</th>\n",
       "      <th>margin_VAT</th>\n",
       "      <th>profit</th>\n",
       "      <th>receipt</th>\n",
       "    </tr>\n",
       "  </thead>\n",
       "  <tbody>\n",
       "    <tr>\n",
       "      <th>0</th>\n",
       "      <td>2018-05-16 00:00:00</td>\n",
       "      <td>Чек ККМ ГС00-034277 от 16.05.2018 20:14:40</td>\n",
       "      <td>Масло трансмис. Роснефть 75 W 90 Kinetic GL-4/GL-5 1 л</td>\n",
       "      <td>Моторные масла</td>\n",
       "      <td>АЗС № 1</td>\n",
       "      <td>Симферополь г</td>\n",
       "      <td>2</td>\n",
       "      <td>700.0</td>\n",
       "      <td>249.00</td>\n",
       "      <td>498.00</td>\n",
       "      <td>202.00</td>\n",
       "      <td>350.0</td>\n",
       "      <td>Чек ККМ ГС00-034268 от 16.05.2018 19:42:50</td>\n",
       "    </tr>\n",
       "    <tr>\n",
       "      <th>1</th>\n",
       "      <td>2018-05-23 00:00:00</td>\n",
       "      <td>Чек ККМ ГС00-036419 от 23.05.2018 19:29:27</td>\n",
       "      <td>ИВ Лимонад Сливочный 0,6 л стекло</td>\n",
       "      <td>ВКУСОВАЯ, СЛАДКАЯ ВОДА, НАПИТКИ</td>\n",
       "      <td>АЗС № 1</td>\n",
       "      <td>Симферополь г</td>\n",
       "      <td>1</td>\n",
       "      <td>90.0</td>\n",
       "      <td>54.66</td>\n",
       "      <td>54.66</td>\n",
       "      <td>35.34</td>\n",
       "      <td>90.0</td>\n",
       "      <td>Чек ККМ ГС00-036390 от 23.05.2018 14:01:15</td>\n",
       "    </tr>\n",
       "    <tr>\n",
       "      <th>2</th>\n",
       "      <td>2018-05-23 00:00:00</td>\n",
       "      <td>Чек ККМ ГС00-036419 от 23.05.2018 19:29:27</td>\n",
       "      <td>ИВ Лимонад Сливочный 0,6 л стекло</td>\n",
       "      <td>ВКУСОВАЯ, СЛАДКАЯ ВОДА, НАПИТКИ</td>\n",
       "      <td>АЗС № 1</td>\n",
       "      <td>Симферополь г</td>\n",
       "      <td>1</td>\n",
       "      <td>90.0</td>\n",
       "      <td>54.66</td>\n",
       "      <td>54.66</td>\n",
       "      <td>35.34</td>\n",
       "      <td>90.0</td>\n",
       "      <td>Чек ККМ ГС00-036396 от 23.05.2018 14:26:15</td>\n",
       "    </tr>\n",
       "    <tr>\n",
       "      <th>3</th>\n",
       "      <td>2018-05-23 00:00:00</td>\n",
       "      <td>Чек ККМ ГС00-036419 от 23.05.2018 19:29:27</td>\n",
       "      <td>ИВ Лимонад Сливочный 0,6 л стекло</td>\n",
       "      <td>ВКУСОВАЯ, СЛАДКАЯ ВОДА, НАПИТКИ</td>\n",
       "      <td>АЗС № 1</td>\n",
       "      <td>Симферополь г</td>\n",
       "      <td>1</td>\n",
       "      <td>90.0</td>\n",
       "      <td>54.66</td>\n",
       "      <td>54.66</td>\n",
       "      <td>35.34</td>\n",
       "      <td>90.0</td>\n",
       "      <td>Чек ККМ ГС00-036420 от 23.05.2018 19:31:10</td>\n",
       "    </tr>\n",
       "    <tr>\n",
       "      <th>4</th>\n",
       "      <td>2018-05-24 00:00:00</td>\n",
       "      <td>Чек ККМ ГС00-036571 от 24.05.2018 12:08:34</td>\n",
       "      <td>Крымская Вода питьевая н/газ 1,0л ПЭТ</td>\n",
       "      <td>БЕЛАЯ ВОДА</td>\n",
       "      <td>АЗС № 1</td>\n",
       "      <td>Симферополь г</td>\n",
       "      <td>50</td>\n",
       "      <td>1750.0</td>\n",
       "      <td>20.78</td>\n",
       "      <td>1039.00</td>\n",
       "      <td>711.00</td>\n",
       "      <td>35.0</td>\n",
       "      <td>Чек ККМ ГС00-036569 от 24.05.2018 12:04:55</td>\n",
       "    </tr>\n",
       "  </tbody>\n",
       "</table></div>"
      ],
      "text/plain": [
       "                  date                                  receipt_st  \\\n",
       "0  2018-05-16 00:00:00  Чек ККМ ГС00-034277 от 16.05.2018 20:14:40   \n",
       "1  2018-05-23 00:00:00  Чек ККМ ГС00-036419 от 23.05.2018 19:29:27   \n",
       "2  2018-05-23 00:00:00  Чек ККМ ГС00-036419 от 23.05.2018 19:29:27   \n",
       "3  2018-05-23 00:00:00  Чек ККМ ГС00-036419 от 23.05.2018 19:29:27   \n",
       "4  2018-05-24 00:00:00  Чек ККМ ГС00-036571 от 24.05.2018 12:08:34   \n",
       "\n",
       "                                             product  \\\n",
       "0  Масло трансмис. Роснефть 75 W 90 Kinetic GL-4/...   \n",
       "1                  ИВ Лимонад Сливочный 0,6 л стекло   \n",
       "2                  ИВ Лимонад Сливочный 0,6 л стекло   \n",
       "3                  ИВ Лимонад Сливочный 0,6 л стекло   \n",
       "4              Крымская Вода питьевая н/газ 1,0л ПЭТ   \n",
       "\n",
       "                 group_of_products    store           city  sold_quantity  \\\n",
       "0                   Моторные масла  АЗС № 1  Симферополь г              2   \n",
       "1  ВКУСОВАЯ, СЛАДКАЯ ВОДА, НАПИТКИ  АЗС № 1  Симферополь г              1   \n",
       "2  ВКУСОВАЯ, СЛАДКАЯ ВОДА, НАПИТКИ  АЗС № 1  Симферополь г              1   \n",
       "3  ВКУСОВАЯ, СЛАДКАЯ ВОДА, НАПИТКИ  АЗС № 1  Симферополь г              1   \n",
       "4                       БЕЛАЯ ВОДА  АЗС № 1  Симферополь г             50   \n",
       "\n",
       "   tunover_VAT  purchase_price_VAT  purchase_cost_VAT  margin_VAT  profit  \\\n",
       "0        700.0              249.00             498.00      202.00   350.0   \n",
       "1         90.0               54.66              54.66       35.34    90.0   \n",
       "2         90.0               54.66              54.66       35.34    90.0   \n",
       "3         90.0               54.66              54.66       35.34    90.0   \n",
       "4       1750.0               20.78            1039.00      711.00    35.0   \n",
       "\n",
       "                                      receipt  \n",
       "0  Чек ККМ ГС00-034268 от 16.05.2018 19:42:50  \n",
       "1  Чек ККМ ГС00-036390 от 23.05.2018 14:01:15  \n",
       "2  Чек ККМ ГС00-036396 от 23.05.2018 14:26:15  \n",
       "3  Чек ККМ ГС00-036420 от 23.05.2018 19:31:10  \n",
       "4  Чек ККМ ГС00-036569 от 24.05.2018 12:04:55  "
      ]
     },
     "execution_count": 19,
     "metadata": {},
     "output_type": "execute_result"
    }
   ],
   "source": [
    "storno1"
   ]
  },
  {
   "cell_type": "code",
   "execution_count": 17,
   "id": "96e4d673-12d3-4663-a046-e382ddc35da0",
   "metadata": {},
   "outputs": [],
   "source": [
    "# Удалим строку, в которой отсутствует значение в столбце 'receipt'\n",
    "storno1 = storno1.loc[~storno1.receipt.isna()]"
   ]
  },
  {
   "cell_type": "code",
   "execution_count": 18,
   "id": "2efff8c9-fd8d-4269-aea9-6c113f3ffc80",
   "metadata": {},
   "outputs": [
    {
     "ename": "KeyError",
     "evalue": "'time_st'",
     "output_type": "error",
     "traceback": [
      "\u001b[0;31m---------------------------------------------------------------------------\u001b[0m",
      "\u001b[0;31mKeyError\u001b[0m                                  Traceback (most recent call last)",
      "File \u001b[0;32m~/.local/lib/python3.8/site-packages/pandas/core/indexes/base.py:3361\u001b[0m, in \u001b[0;36mIndex.get_loc\u001b[0;34m(self, key, method, tolerance)\u001b[0m\n\u001b[1;32m   3360\u001b[0m \u001b[38;5;28;01mtry\u001b[39;00m:\n\u001b[0;32m-> 3361\u001b[0m     \u001b[38;5;28;01mreturn\u001b[39;00m \u001b[38;5;28;43mself\u001b[39;49m\u001b[38;5;241;43m.\u001b[39;49m\u001b[43m_engine\u001b[49m\u001b[38;5;241;43m.\u001b[39;49m\u001b[43mget_loc\u001b[49m\u001b[43m(\u001b[49m\u001b[43mcasted_key\u001b[49m\u001b[43m)\u001b[49m\n\u001b[1;32m   3362\u001b[0m \u001b[38;5;28;01mexcept\u001b[39;00m \u001b[38;5;167;01mKeyError\u001b[39;00m \u001b[38;5;28;01mas\u001b[39;00m err:\n",
      "File \u001b[0;32m~/.local/lib/python3.8/site-packages/pandas/_libs/index.pyx:76\u001b[0m, in \u001b[0;36mpandas._libs.index.IndexEngine.get_loc\u001b[0;34m()\u001b[0m\n",
      "File \u001b[0;32m~/.local/lib/python3.8/site-packages/pandas/_libs/index.pyx:108\u001b[0m, in \u001b[0;36mpandas._libs.index.IndexEngine.get_loc\u001b[0;34m()\u001b[0m\n",
      "File \u001b[0;32mpandas/_libs/hashtable_class_helper.pxi:5198\u001b[0m, in \u001b[0;36mpandas._libs.hashtable.PyObjectHashTable.get_item\u001b[0;34m()\u001b[0m\n",
      "File \u001b[0;32mpandas/_libs/hashtable_class_helper.pxi:5206\u001b[0m, in \u001b[0;36mpandas._libs.hashtable.PyObjectHashTable.get_item\u001b[0;34m()\u001b[0m\n",
      "\u001b[0;31mKeyError\u001b[0m: 'time_st'",
      "\nThe above exception was the direct cause of the following exception:\n",
      "\u001b[0;31mKeyError\u001b[0m                                  Traceback (most recent call last)",
      "Cell \u001b[0;32mIn [18], line 3\u001b[0m\n\u001b[1;32m      1\u001b[0m \u001b[38;5;66;03m# Оставим только строки, где значение'time_st' > 'time' \u001b[39;00m\n\u001b[1;32m      2\u001b[0m \u001b[38;5;66;03m# (время возврата товара должно быть больше времени его покупки)\u001b[39;00m\n\u001b[0;32m----> 3\u001b[0m storno1 \u001b[38;5;241m=\u001b[39m storno1\u001b[38;5;241m.\u001b[39mloc[\u001b[43mstorno1\u001b[49m\u001b[43m[\u001b[49m\u001b[38;5;124;43m'\u001b[39;49m\u001b[38;5;124;43mtime_st\u001b[39;49m\u001b[38;5;124;43m'\u001b[39;49m\u001b[43m]\u001b[49m \u001b[38;5;241m>\u001b[39m storno1[\u001b[38;5;124m'\u001b[39m\u001b[38;5;124mtime\u001b[39m\u001b[38;5;124m'\u001b[39m]]\n",
      "File \u001b[0;32m~/.local/lib/python3.8/site-packages/pandas/core/frame.py:3455\u001b[0m, in \u001b[0;36mDataFrame.__getitem__\u001b[0;34m(self, key)\u001b[0m\n\u001b[1;32m   3453\u001b[0m \u001b[38;5;28;01mif\u001b[39;00m \u001b[38;5;28mself\u001b[39m\u001b[38;5;241m.\u001b[39mcolumns\u001b[38;5;241m.\u001b[39mnlevels \u001b[38;5;241m>\u001b[39m \u001b[38;5;241m1\u001b[39m:\n\u001b[1;32m   3454\u001b[0m     \u001b[38;5;28;01mreturn\u001b[39;00m \u001b[38;5;28mself\u001b[39m\u001b[38;5;241m.\u001b[39m_getitem_multilevel(key)\n\u001b[0;32m-> 3455\u001b[0m indexer \u001b[38;5;241m=\u001b[39m \u001b[38;5;28;43mself\u001b[39;49m\u001b[38;5;241;43m.\u001b[39;49m\u001b[43mcolumns\u001b[49m\u001b[38;5;241;43m.\u001b[39;49m\u001b[43mget_loc\u001b[49m\u001b[43m(\u001b[49m\u001b[43mkey\u001b[49m\u001b[43m)\u001b[49m\n\u001b[1;32m   3456\u001b[0m \u001b[38;5;28;01mif\u001b[39;00m is_integer(indexer):\n\u001b[1;32m   3457\u001b[0m     indexer \u001b[38;5;241m=\u001b[39m [indexer]\n",
      "File \u001b[0;32m~/.local/lib/python3.8/site-packages/pandas/core/indexes/base.py:3363\u001b[0m, in \u001b[0;36mIndex.get_loc\u001b[0;34m(self, key, method, tolerance)\u001b[0m\n\u001b[1;32m   3361\u001b[0m         \u001b[38;5;28;01mreturn\u001b[39;00m \u001b[38;5;28mself\u001b[39m\u001b[38;5;241m.\u001b[39m_engine\u001b[38;5;241m.\u001b[39mget_loc(casted_key)\n\u001b[1;32m   3362\u001b[0m     \u001b[38;5;28;01mexcept\u001b[39;00m \u001b[38;5;167;01mKeyError\u001b[39;00m \u001b[38;5;28;01mas\u001b[39;00m err:\n\u001b[0;32m-> 3363\u001b[0m         \u001b[38;5;28;01mraise\u001b[39;00m \u001b[38;5;167;01mKeyError\u001b[39;00m(key) \u001b[38;5;28;01mfrom\u001b[39;00m \u001b[38;5;21;01merr\u001b[39;00m\n\u001b[1;32m   3365\u001b[0m \u001b[38;5;28;01mif\u001b[39;00m is_scalar(key) \u001b[38;5;129;01mand\u001b[39;00m isna(key) \u001b[38;5;129;01mand\u001b[39;00m \u001b[38;5;129;01mnot\u001b[39;00m \u001b[38;5;28mself\u001b[39m\u001b[38;5;241m.\u001b[39mhasnans:\n\u001b[1;32m   3366\u001b[0m     \u001b[38;5;28;01mraise\u001b[39;00m \u001b[38;5;167;01mKeyError\u001b[39;00m(key)\n",
      "\u001b[0;31mKeyError\u001b[0m: 'time_st'"
     ]
    }
   ],
   "source": [
    "# Оставим только строки, где значение'time_st' > 'time' \n",
    "# (время возврата товара должно быть больше времени его покупки)\n",
    "storno1 = storno1.loc[storno1['time_st'] > storno1['time']]"
   ]
  },
  {
   "cell_type": "code",
   "execution_count": 6,
   "id": "c9e06a12-7545-4be9-8e54-19706f0eaea2",
   "metadata": {},
   "outputs": [
    {
     "name": "stderr",
     "output_type": "stream",
     "text": [
      "/home/sk27/.local/lib/python3.8/site-packages/pandas/core/frame.py:3607: SettingWithCopyWarning: \n",
      "A value is trying to be set on a copy of a slice from a DataFrame.\n",
      "Try using .loc[row_indexer,col_indexer] = value instead\n",
      "\n",
      "See the caveats in the documentation: https://pandas.pydata.org/pandas-docs/stable/user_guide/indexing.html#returning-a-view-versus-a-copy\n",
      "  self._set_item(key, value)\n",
      "/home/sk27/.local/lib/python3.8/site-packages/pandas/core/indexing.py:1732: SettingWithCopyWarning: \n",
      "A value is trying to be set on a copy of a slice from a DataFrame\n",
      "\n",
      "See the caveats in the documentation: https://pandas.pydata.org/pandas-docs/stable/user_guide/indexing.html#returning-a-view-versus-a-copy\n",
      "  self._setitem_single_block(indexer, value, name)\n",
      "/home/sk27/.local/lib/python3.8/site-packages/pandas/core/frame.py:5034: SettingWithCopyWarning: \n",
      "A value is trying to be set on a copy of a slice from a DataFrame\n",
      "\n",
      "See the caveats in the documentation: https://pandas.pydata.org/pandas-docs/stable/user_guide/indexing.html#returning-a-view-versus-a-copy\n",
      "  return super().rename(\n"
     ]
    },
    {
     "ename": "KeyError",
     "evalue": "'time_st'",
     "output_type": "error",
     "traceback": [
      "\u001b[0;31m---------------------------------------------------------------------------\u001b[0m",
      "\u001b[0;31mKeyError\u001b[0m                                  Traceback (most recent call last)",
      "File \u001b[0;32m~/.local/lib/python3.8/site-packages/pandas/core/indexes/base.py:3361\u001b[0m, in \u001b[0;36mIndex.get_loc\u001b[0;34m(self, key, method, tolerance)\u001b[0m\n\u001b[1;32m   3360\u001b[0m \u001b[38;5;28;01mtry\u001b[39;00m:\n\u001b[0;32m-> 3361\u001b[0m     \u001b[38;5;28;01mreturn\u001b[39;00m \u001b[38;5;28;43mself\u001b[39;49m\u001b[38;5;241;43m.\u001b[39;49m\u001b[43m_engine\u001b[49m\u001b[38;5;241;43m.\u001b[39;49m\u001b[43mget_loc\u001b[49m\u001b[43m(\u001b[49m\u001b[43mcasted_key\u001b[49m\u001b[43m)\u001b[49m\n\u001b[1;32m   3362\u001b[0m \u001b[38;5;28;01mexcept\u001b[39;00m \u001b[38;5;167;01mKeyError\u001b[39;00m \u001b[38;5;28;01mas\u001b[39;00m err:\n",
      "File \u001b[0;32m~/.local/lib/python3.8/site-packages/pandas/_libs/index.pyx:76\u001b[0m, in \u001b[0;36mpandas._libs.index.IndexEngine.get_loc\u001b[0;34m()\u001b[0m\n",
      "File \u001b[0;32m~/.local/lib/python3.8/site-packages/pandas/_libs/index.pyx:108\u001b[0m, in \u001b[0;36mpandas._libs.index.IndexEngine.get_loc\u001b[0;34m()\u001b[0m\n",
      "File \u001b[0;32mpandas/_libs/hashtable_class_helper.pxi:5198\u001b[0m, in \u001b[0;36mpandas._libs.hashtable.PyObjectHashTable.get_item\u001b[0;34m()\u001b[0m\n",
      "File \u001b[0;32mpandas/_libs/hashtable_class_helper.pxi:5206\u001b[0m, in \u001b[0;36mpandas._libs.hashtable.PyObjectHashTable.get_item\u001b[0;34m()\u001b[0m\n",
      "\u001b[0;31mKeyError\u001b[0m: 'time_st'",
      "\nThe above exception was the direct cause of the following exception:\n",
      "\u001b[0;31mKeyError\u001b[0m                                  Traceback (most recent call last)",
      "File \u001b[0;32m<timed exec>:35\u001b[0m\n",
      "File \u001b[0;32m~/.local/lib/python3.8/site-packages/pandas/core/frame.py:3455\u001b[0m, in \u001b[0;36mDataFrame.__getitem__\u001b[0;34m(self, key)\u001b[0m\n\u001b[1;32m   3453\u001b[0m \u001b[38;5;28;01mif\u001b[39;00m \u001b[38;5;28mself\u001b[39m\u001b[38;5;241m.\u001b[39mcolumns\u001b[38;5;241m.\u001b[39mnlevels \u001b[38;5;241m>\u001b[39m \u001b[38;5;241m1\u001b[39m:\n\u001b[1;32m   3454\u001b[0m     \u001b[38;5;28;01mreturn\u001b[39;00m \u001b[38;5;28mself\u001b[39m\u001b[38;5;241m.\u001b[39m_getitem_multilevel(key)\n\u001b[0;32m-> 3455\u001b[0m indexer \u001b[38;5;241m=\u001b[39m \u001b[38;5;28;43mself\u001b[39;49m\u001b[38;5;241;43m.\u001b[39;49m\u001b[43mcolumns\u001b[49m\u001b[38;5;241;43m.\u001b[39;49m\u001b[43mget_loc\u001b[49m\u001b[43m(\u001b[49m\u001b[43mkey\u001b[49m\u001b[43m)\u001b[49m\n\u001b[1;32m   3456\u001b[0m \u001b[38;5;28;01mif\u001b[39;00m is_integer(indexer):\n\u001b[1;32m   3457\u001b[0m     indexer \u001b[38;5;241m=\u001b[39m [indexer]\n",
      "File \u001b[0;32m~/.local/lib/python3.8/site-packages/pandas/core/indexes/base.py:3363\u001b[0m, in \u001b[0;36mIndex.get_loc\u001b[0;34m(self, key, method, tolerance)\u001b[0m\n\u001b[1;32m   3361\u001b[0m         \u001b[38;5;28;01mreturn\u001b[39;00m \u001b[38;5;28mself\u001b[39m\u001b[38;5;241m.\u001b[39m_engine\u001b[38;5;241m.\u001b[39mget_loc(casted_key)\n\u001b[1;32m   3362\u001b[0m     \u001b[38;5;28;01mexcept\u001b[39;00m \u001b[38;5;167;01mKeyError\u001b[39;00m \u001b[38;5;28;01mas\u001b[39;00m err:\n\u001b[0;32m-> 3363\u001b[0m         \u001b[38;5;28;01mraise\u001b[39;00m \u001b[38;5;167;01mKeyError\u001b[39;00m(key) \u001b[38;5;28;01mfrom\u001b[39;00m \u001b[38;5;21;01merr\u001b[39;00m\n\u001b[1;32m   3365\u001b[0m \u001b[38;5;28;01mif\u001b[39;00m is_scalar(key) \u001b[38;5;129;01mand\u001b[39;00m isna(key) \u001b[38;5;129;01mand\u001b[39;00m \u001b[38;5;129;01mnot\u001b[39;00m \u001b[38;5;28mself\u001b[39m\u001b[38;5;241m.\u001b[39mhasnans:\n\u001b[1;32m   3366\u001b[0m     \u001b[38;5;28;01mraise\u001b[39;00m \u001b[38;5;167;01mKeyError\u001b[39;00m(key)\n",
      "\u001b[0;31mKeyError\u001b[0m: 'time_st'"
     ]
    }
   ],
   "source": [
    "# Удалим дубликаты, образовавшиеся в результате объединения, оставив последнюю строку\n",
    "storno1.drop_duplicates (subset=['date', 'product', 'group_of_products', 'store', 'city',\n",
    "                                 'sold_quantity', 'tunover_VAT', 'purchase_price_VAT',\n",
    "                                 'purchase_cost_VAT', 'margin_VAT', 'profit', 'receipt_st'], \n",
    "                         keep = 'last', inplace = True)\n",
    "\n",
    "# Удалим лишние столбцы\n",
    "storno1.drop(['time_st', 'receipt_st'], axis = 1, inplace = True)\n",
    "\n",
    "# Изменим порядок следования столбцов в storno1\n",
    "storno1 = storno1[['date', 'receipt', 'product', 'group_of_products', 'store', 'city', 'sold_quantity', 'tunover_VAT',\n",
    "                   'purchase_price_VAT', 'purchase_cost_VAT', 'margin_VAT', 'profit', 'time']]\n",
    "\n",
    "# Присоединим storno1 к датафрейму sales\n",
    "sales = sales.append(storno1, ignore_index=True)\n",
    "\n",
    "# выведем строки-дубликаты\n",
    "print(sales.loc[sales.duplicated(keep = False)].size)\n",
    "\n",
    "# Удалим строки-дубликаты\n",
    "sales = sales.drop_duplicates(keep=False)"
   ]
  },
  {
   "cell_type": "code",
   "execution_count": 6,
   "id": "060bb265",
   "metadata": {},
   "outputs": [],
   "source": [
    "df_gas = pd.read_csv('C:/Users/Asus/Desktop/ПРОЕКТЫ/КРЫМ/2023/ФИНАЛ/sales_test.csv')"
   ]
  },
  {
   "cell_type": "code",
   "execution_count": 7,
   "id": "276b2f85",
   "metadata": {},
   "outputs": [
    {
     "name": "stdout",
     "output_type": "stream",
     "text": [
      "Wall time: 1min 41s\n"
     ]
    }
   ],
   "source": [
    "%%time\n",
    "\n",
    "df_gas[\"date\"] = df_gas[\"date\"].astype(\"datetime64[ns]\")\n",
    "index_list = []\n",
    "for index, row in df_gas.iterrows():\n",
    "    if row[\"tunover_VAT\"] < 0:\n",
    "        index_list.append(index)\n",
    "        id_ = index - 1\n",
    "        while True:\n",
    "            if (\n",
    "                df_gas.loc[id_, \"city\"] == df_gas.loc[index, \"city\"]\n",
    "                and df_gas.loc[id_, \"product\"] == df_gas.loc[index, \"product\"]\n",
    "                and df_gas.loc[id_, \"group_of_products\"]\n",
    "                == df_gas.loc[index, \"group_of_products\"]\n",
    "                and df_gas.loc[id_, \"store\"] == df_gas.loc[index, \"store\"]\n",
    "                and df_gas.loc[id_, \"tunover_VAT\"] == -df_gas.loc[index, \"tunover_VAT\"]\n",
    "                and df_gas.loc[id_, \"purchase_cost_VAT\"]\n",
    "                == -df_gas.loc[index, \"purchase_cost_VAT\"]\n",
    "            ):\n",
    "                index_list.append(id_)\n",
    "                break\n",
    "            else:\n",
    "                id_ -= 1"
   ]
  }
 ],
 "metadata": {
  "kernelspec": {
   "display_name": "Python 3 (ipykernel)",
   "language": "python",
   "name": "python3"
  },
  "language_info": {
   "codemirror_mode": {
    "name": "ipython",
    "version": 3
   },
   "file_extension": ".py",
   "mimetype": "text/x-python",
   "name": "python",
   "nbconvert_exporter": "python",
   "pygments_lexer": "ipython3",
   "version": "3.8.13"
  },
  "widgets": {
   "application/vnd.jupyter.widget-state+json": {
    "state": {},
    "version_major": 2,
    "version_minor": 0
   }
  }
 },
 "nbformat": 4,
 "nbformat_minor": 5
}
