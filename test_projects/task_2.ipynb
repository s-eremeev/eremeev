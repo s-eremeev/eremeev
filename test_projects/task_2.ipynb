{
 "cells": [
  {
   "cell_type": "markdown",
   "id": "d290baea-21dd-434c-a670-68c6cecb8fbf",
   "metadata": {},
   "source": [
    "# Задание 2"
   ]
  },
  {
   "cell_type": "code",
   "execution_count": 93,
   "id": "24eb17e4-6be1-414a-879f-1c376012456b",
   "metadata": {},
   "outputs": [
    {
     "name": "stdout",
     "output_type": "stream",
     "text": [
      "The lab_black extension is already loaded. To reload it, use:\n",
      "  %reload_ext lab_black\n"
     ]
    }
   ],
   "source": [
    "import pandas as pd\n",
    "import numpy as np\n",
    "\n",
    "%load_ext lab_black"
   ]
  },
  {
   "cell_type": "code",
   "execution_count": 100,
   "id": "6ab43780-e34f-4e3e-8c67-2a779a822b4b",
   "metadata": {},
   "outputs": [],
   "source": [
    "# загрузим данные\n",
    "df_gas = pd.read_csv(\n",
    "    \"/home/sk27/repo/eremeev/test_projects/new.csv\", index_col=0\n",
    ").reset_index(drop=True)"
   ]
  },
  {
   "cell_type": "code",
   "execution_count": 102,
   "id": "82d728e2-0334-4211-9d97-5075c92b9827",
   "metadata": {},
   "outputs": [
    {
     "data": {
      "text/html": [
       "<div><div id=f43e6888-3118-46b5-8662-deb5317b3818 style=\"display:none; background-color:#9D6CFF; color:white; width:200px; height:30px; padding-left:5px; border-radius:4px; flex-direction:row; justify-content:space-around; align-items:center;\" onmouseover=\"this.style.backgroundColor='#BA9BF8'\" onmouseout=\"this.style.backgroundColor='#9D6CFF'\" onclick=\"window.commands?.execute('create-mitosheet-from-dataframe-output');\">See Full Dataframe in Mito</div> <script> if (window.commands?.hasCommand('create-mitosheet-from-dataframe-output')) document.getElementById('f43e6888-3118-46b5-8662-deb5317b3818').style.display = 'flex' </script> <table border=\"1\" class=\"dataframe\">\n",
       "  <thead>\n",
       "    <tr style=\"text-align: right;\">\n",
       "      <th></th>\n",
       "      <th>date</th>\n",
       "      <th>receipt</th>\n",
       "      <th>product</th>\n",
       "      <th>group_of_products</th>\n",
       "      <th>store</th>\n",
       "      <th>city</th>\n",
       "      <th>sold_quantity</th>\n",
       "      <th>tunover_VAT</th>\n",
       "      <th>purchase_price_VAT</th>\n",
       "      <th>purchase_cost_VAT</th>\n",
       "      <th>margin_VAT</th>\n",
       "      <th>profit</th>\n",
       "    </tr>\n",
       "  </thead>\n",
       "  <tbody>\n",
       "    <tr>\n",
       "      <th>0</th>\n",
       "      <td>2018-05-01 00:00:00</td>\n",
       "      <td>Чек ККМ ГС00-029452 от 01.05.2018 5:43:42</td>\n",
       "      <td>Энерг.нап. Ягуар Фри 0,5 л ж/б</td>\n",
       "      <td>ЭНЕРГЕТИЧЕСКИЕ НАПИТКИ</td>\n",
       "      <td>АЗС № 1</td>\n",
       "      <td>Симферополь г</td>\n",
       "      <td>2</td>\n",
       "      <td>110.0</td>\n",
       "      <td>38.02</td>\n",
       "      <td>76.04</td>\n",
       "      <td>33.96</td>\n",
       "      <td>16.98</td>\n",
       "    </tr>\n",
       "    <tr>\n",
       "      <th>1</th>\n",
       "      <td>2018-05-01 00:00:00</td>\n",
       "      <td>Чек ККМ ГС00-029469 от 01.05.2018 8:37:13</td>\n",
       "      <td>Средство для разжигания огня Simex 0.25 л</td>\n",
       "      <td>Товары для отдыха</td>\n",
       "      <td>АЗС № 1</td>\n",
       "      <td>Симферополь г</td>\n",
       "      <td>1</td>\n",
       "      <td>60.0</td>\n",
       "      <td>24.00</td>\n",
       "      <td>24.00</td>\n",
       "      <td>36.00</td>\n",
       "      <td>36.00</td>\n",
       "    </tr>\n",
       "    <tr>\n",
       "      <th>2</th>\n",
       "      <td>2018-05-01 00:00:00</td>\n",
       "      <td>Чек ККМ ГС00-029495 от 01.05.2018 9:45:43</td>\n",
       "      <td>Средство для разжигания огня Simex 0.25 л</td>\n",
       "      <td>Товары для отдыха</td>\n",
       "      <td>АЗС № 1</td>\n",
       "      <td>Симферополь г</td>\n",
       "      <td>1</td>\n",
       "      <td>60.0</td>\n",
       "      <td>24.00</td>\n",
       "      <td>24.00</td>\n",
       "      <td>36.00</td>\n",
       "      <td>36.00</td>\n",
       "    </tr>\n",
       "  </tbody>\n",
       "</table></div>"
      ],
      "text/plain": [
       "                  date                                    receipt  \\\n",
       "0  2018-05-01 00:00:00  Чек ККМ ГС00-029452 от 01.05.2018 5:43:42   \n",
       "1  2018-05-01 00:00:00  Чек ККМ ГС00-029469 от 01.05.2018 8:37:13   \n",
       "2  2018-05-01 00:00:00  Чек ККМ ГС00-029495 от 01.05.2018 9:45:43   \n",
       "\n",
       "                                     product       group_of_products    store  \\\n",
       "0             Энерг.нап. Ягуар Фри 0,5 л ж/б  ЭНЕРГЕТИЧЕСКИЕ НАПИТКИ  АЗС № 1   \n",
       "1  Средство для разжигания огня Simex 0.25 л       Товары для отдыха  АЗС № 1   \n",
       "2  Средство для разжигания огня Simex 0.25 л       Товары для отдыха  АЗС № 1   \n",
       "\n",
       "            city  sold_quantity  tunover_VAT  purchase_price_VAT  \\\n",
       "0  Симферополь г              2        110.0               38.02   \n",
       "1  Симферополь г              1         60.0               24.00   \n",
       "2  Симферополь г              1         60.0               24.00   \n",
       "\n",
       "   purchase_cost_VAT  margin_VAT  profit  \n",
       "0              76.04       33.96   16.98  \n",
       "1              24.00       36.00   36.00  \n",
       "2              24.00       36.00   36.00  "
      ]
     },
     "execution_count": 102,
     "metadata": {},
     "output_type": "execute_result"
    }
   ],
   "source": [
    "df_gas.head(3)"
   ]
  },
  {
   "cell_type": "markdown",
   "id": "0160269c-7ef8-4431-97ff-2ef634c3c208",
   "metadata": {},
   "source": [
    "### Вариант 1 с циклом"
   ]
  },
  {
   "cell_type": "code",
   "execution_count": 103,
   "id": "2ea0327f-a91b-4ad4-abad-fb7ee0e255b2",
   "metadata": {},
   "outputs": [
    {
     "name": "stdout",
     "output_type": "stream",
     "text": [
      "CPU times: user 129 ms, sys: 3.99 ms, total: 133 ms\n",
      "Wall time: 130 ms\n"
     ]
    }
   ],
   "source": [
    "%%time\n",
    "\n",
    "df_gas[\"date\"] = df_gas[\"date\"].astype(\"datetime64[ns]\")\n",
    "index_list = []\n",
    "for index, row in df_gas.iterrows():\n",
    "    if row[\"tunover_VAT\"] < 0:\n",
    "        index_list.append(index)\n",
    "        id_ = index - 1\n",
    "        while True:\n",
    "            if (\n",
    "                df_gas.loc[id_, \"city\"] == df_gas.loc[index, \"city\"]\n",
    "                and df_gas.loc[id_, \"product\"] == df_gas.loc[index, \"product\"]\n",
    "                and df_gas.loc[id_, \"group_of_products\"]\n",
    "                == df_gas.loc[index, \"group_of_products\"]\n",
    "                and df_gas.loc[id_, \"store\"] == df_gas.loc[index, \"store\"]\n",
    "                and df_gas.loc[id_, \"tunover_VAT\"] == -df_gas.loc[index, \"tunover_VAT\"]\n",
    "                and df_gas.loc[id_, \"purchase_cost_VAT\"]\n",
    "                == -df_gas.loc[index, \"purchase_cost_VAT\"]\n",
    "            ):\n",
    "                index_list.append(id_)\n",
    "                break\n",
    "            else:\n",
    "                id_ -= 1"
   ]
  },
  {
   "cell_type": "code",
   "execution_count": 104,
   "id": "c4877f65-7999-4b69-93df-a7fcbfa71b63",
   "metadata": {},
   "outputs": [
    {
     "data": {
      "text/plain": [
       "[402, 401, 586, 577, 597, 596]"
      ]
     },
     "execution_count": 104,
     "metadata": {},
     "output_type": "execute_result"
    }
   ],
   "source": [
    "index_list"
   ]
  },
  {
   "cell_type": "markdown",
   "id": "713499ed-fe02-4d85-b7d7-0d5c2aa497a8",
   "metadata": {},
   "source": [
    "### Вариант 2 антисортировка"
   ]
  },
  {
   "cell_type": "code",
   "execution_count": 107,
   "id": "9f7f2063-53fc-4faf-8982-c4e786972dd1",
   "metadata": {},
   "outputs": [
    {
     "name": "stdout",
     "output_type": "stream",
     "text": [
      "CPU times: user 128 ms, sys: 0 ns, total: 128 ms\n",
      "Wall time: 128 ms\n"
     ]
    }
   ],
   "source": [
    "%%time\n",
    "\n",
    "# сотрируем dataframe по индексу в обратом порядке\n",
    "# теперь запись об отмене покупки будет располагаться ближе к началу списка, чем запись о покупке\n",
    "df_gas = df_gas.sort_index(ascending=False)\n",
    "# сохраняем реквизиты покупки из первой строки в список\n",
    "list_del = [\n",
    "    df_gas.loc[df_gas.shape[0] - 1, \"product\"],\n",
    "    df_gas.loc[df_gas.shape[0] - 1, \"store\"],\n",
    "    df_gas.loc[df_gas.shape[0] - 1, \"city\"],\n",
    "    df_gas.loc[df_gas.shape[0] - 1, \"sold_quantity\"],\n",
    "]\n",
    "# создаём пустой список для хранения индексов обречённых строк\n",
    "index_list = []\n",
    "# проходим по списку от максимального индекса к минимальному\n",
    "for index, row in df_gas.iterrows():\n",
    "    # если количество товара отрицательное (возврат):\n",
    "    # а) заменяем элементы list_del на реквизиты этой \"покупки\":\n",
    "    # б) сохраняем индекс строки в список обрачённых строк\n",
    "    if row[\"sold_quantity\"] < 0:\n",
    "        list_del = [\n",
    "            df_gas.loc[index, \"product\"],\n",
    "            df_gas.loc[index, \"store\"],\n",
    "            df_gas.loc[index, \"city\"],\n",
    "            df_gas.loc[index, \"sold_quantity\"],\n",
    "        ]\n",
    "        index_list.append(index)\n",
    "    # если реквизиты покупки совпадают с хранящимися в list_del, а количество товара противоположно:\n",
    "    # а) сохраняем индекс строки в список обрачённых строк\n",
    "    # б) очищаем list_del\n",
    "    if (\n",
    "        row[\"product\"] == list_del[0]\n",
    "        and row[\"store\"] == list_del[1]\n",
    "        and row[\"city\"] == list_del[2]\n",
    "        and row[\"sold_quantity\"] == -list_del[3]\n",
    "    ):\n",
    "        index_list.append(index)\n",
    "        list_del = [0, 0, 0, 0]"
   ]
  },
  {
   "cell_type": "code",
   "execution_count": 108,
   "id": "dbb7c27f-fc51-4ef8-ae75-75a01049267d",
   "metadata": {},
   "outputs": [
    {
     "data": {
      "text/plain": [
       "[597, 596, 586, 577, 402, 401]"
      ]
     },
     "execution_count": 108,
     "metadata": {},
     "output_type": "execute_result"
    }
   ],
   "source": [
    "index_list"
   ]
  },
  {
   "cell_type": "code",
   "execution_count": null,
   "id": "9c5da300-72c8-4f04-8530-725c551f12a2",
   "metadata": {},
   "outputs": [],
   "source": []
  }
 ],
 "metadata": {
  "kernelspec": {
   "display_name": "Python 3 (ipykernel)",
   "language": "python",
   "name": "python3"
  },
  "language_info": {
   "codemirror_mode": {
    "name": "ipython",
    "version": 3
   },
   "file_extension": ".py",
   "mimetype": "text/x-python",
   "name": "python",
   "nbconvert_exporter": "python",
   "pygments_lexer": "ipython3",
   "version": "3.8.13"
  },
  "widgets": {
   "application/vnd.jupyter.widget-state+json": {
    "state": {},
    "version_major": 2,
    "version_minor": 0
   }
  }
 },
 "nbformat": 4,
 "nbformat_minor": 5
}
