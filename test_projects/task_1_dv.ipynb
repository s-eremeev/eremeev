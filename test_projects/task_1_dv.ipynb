{
 "cells": [
  {
   "cell_type": "markdown",
   "metadata": {},
   "source": [
    "## Работа [Дмитрия Воеводина](https://discord.com/channels/967161582662615071/1080120728852107304/1087017003589574757)"
   ]
  },
  {
   "cell_type": "code",
   "execution_count": null,
   "metadata": {
    "id": "GO0Cwfm3Mklk"
   },
   "outputs": [],
   "source": [
    "import pandas as pd\n",
    "import numpy as np"
   ]
  },
  {
   "cell_type": "code",
   "execution_count": 8,
   "metadata": {
    "colab": {
     "base_uri": "https://localhost:8080/"
    },
    "id": "EP1PuAmSNfaK",
    "outputId": "db90abae-4e90-4f73-fe9c-b1fd6e25b3b1"
   },
   "outputs": [
    {
     "data": {
      "text/plain": [
       "793"
      ]
     },
     "execution_count": 8,
     "metadata": {},
     "output_type": "execute_result"
    }
   ],
   "source": [
    "df= pd.read_csv(\n",
    "    \"/home/sk27/repo/eremeev/test_projects/new.csv\", index_col=0\n",
    ").reset_index(drop=True)\n",
    "len(df)"
   ]
  },
  {
   "cell_type": "code",
   "execution_count": 9,
   "metadata": {
    "id": "lHrd9mRbNJ2V"
   },
   "outputs": [],
   "source": [
    "df_sort=df[df['sold_quantity']<0] # Сортируем по отрицательным позициям (отмененным)"
   ]
  },
  {
   "cell_type": "code",
   "execution_count": 10,
   "metadata": {
    "id": "LAAEgmnFQTRS"
   },
   "outputs": [
    {
     "name": "stdout",
     "output_type": "stream",
     "text": [
      "CPU times: user 17.7 ms, sys: 0 ns, total: 17.7 ms\n",
      "Wall time: 17 ms\n"
     ]
    }
   ],
   "source": [
    "%%time\n",
    "\n",
    "for i in df_sort.index:  # Перебераем индексы отмененных позиций\n",
    "    f=df_sort.at[i,'product']\n",
    "    t=0\n",
    "    for j in range(i,0,-1):   # Перебераем индексы в обратном порядке\n",
    "        if df.at[j,'product']==f:\n",
    "            t=t+1\n",
    "            if t!=3: # Ищем только 2 ближайшие строчки - отмену и покупку \n",
    "                # print(j, df.at[j,'sold_quantity'])   # Если наименование товара совпадает с отмененным - удаляем\n",
    "                df.drop([j],axis=0,inplace=True)        \n",
    "            else:\n",
    "                break "
   ]
  },
  {
   "cell_type": "code",
   "execution_count": 5,
   "metadata": {
    "colab": {
     "base_uri": "https://localhost:8080/"
    },
    "id": "YfxmCddjH7BW",
    "outputId": "2ba07d28-2fed-4b7d-cdfa-13534493101d"
   },
   "outputs": [
    {
     "data": {
      "text/plain": [
       "787"
      ]
     },
     "execution_count": 5,
     "metadata": {},
     "output_type": "execute_result"
    }
   ],
   "source": [
    "len(df)"
   ]
  },
  {
   "cell_type": "code",
   "execution_count": 6,
   "metadata": {},
   "outputs": [
    {
     "data": {
      "text/plain": [
       "'Крымская Вода питьевая н/газ 1,0л ПЭТ'"
      ]
     },
     "execution_count": 6,
     "metadata": {},
     "output_type": "execute_result"
    }
   ],
   "source": [
    "f"
   ]
  },
  {
   "cell_type": "code",
   "execution_count": 11,
   "metadata": {},
   "outputs": [
    {
     "data": {
      "text/html": [
       "<div><div id=487cef4a-4191-4ad9-bb55-429ef43e5523 style=\"display:none; background-color:#9D6CFF; color:white; width:200px; height:30px; padding-left:5px; border-radius:4px; flex-direction:row; justify-content:space-around; align-items:center;\" onmouseover=\"this.style.backgroundColor='#BA9BF8'\" onmouseout=\"this.style.backgroundColor='#9D6CFF'\" onclick=\"window.commands?.execute('create-mitosheet-from-dataframe-output');\">See Full Dataframe in Mito</div> <script> if (window.commands?.hasCommand('create-mitosheet-from-dataframe-output')) document.getElementById('487cef4a-4191-4ad9-bb55-429ef43e5523').style.display = 'flex' </script> <table border=\"1\" class=\"dataframe\">\n",
       "  <thead>\n",
       "    <tr style=\"text-align: right;\">\n",
       "      <th></th>\n",
       "      <th>date</th>\n",
       "      <th>receipt</th>\n",
       "      <th>product</th>\n",
       "      <th>group_of_products</th>\n",
       "      <th>store</th>\n",
       "      <th>city</th>\n",
       "      <th>sold_quantity</th>\n",
       "      <th>tunover_VAT</th>\n",
       "      <th>purchase_price_VAT</th>\n",
       "      <th>purchase_cost_VAT</th>\n",
       "      <th>margin_VAT</th>\n",
       "      <th>profit</th>\n",
       "    </tr>\n",
       "  </thead>\n",
       "  <tbody>\n",
       "    <tr>\n",
       "      <th>402</th>\n",
       "      <td>2018-05-16 00:00:00</td>\n",
       "      <td>Чек ККМ ГС00-034277 от 16.05.2018 20:14:40</td>\n",
       "      <td>Масло трансмис. Роснефть 75 W 90 Kinetic GL-4/GL-5 1 л</td>\n",
       "      <td>Моторные масла</td>\n",
       "      <td>АЗС № 1</td>\n",
       "      <td>Симферополь г</td>\n",
       "      <td>-2</td>\n",
       "      <td>-700.0</td>\n",
       "      <td>249.00</td>\n",
       "      <td>-498.00</td>\n",
       "      <td>-202.00</td>\n",
       "      <td>101.00</td>\n",
       "    </tr>\n",
       "    <tr>\n",
       "      <th>586</th>\n",
       "      <td>2018-05-23 00:00:00</td>\n",
       "      <td>Чек ККМ ГС00-036419 от 23.05.2018 19:29:27</td>\n",
       "      <td>ИВ Лимонад Сливочный 0,6 л стекло</td>\n",
       "      <td>ВКУСОВАЯ, СЛАДКАЯ ВОДА, НАПИТКИ</td>\n",
       "      <td>АЗС № 1</td>\n",
       "      <td>Симферополь г</td>\n",
       "      <td>-1</td>\n",
       "      <td>-90.0</td>\n",
       "      <td>54.66</td>\n",
       "      <td>-54.66</td>\n",
       "      <td>-35.34</td>\n",
       "      <td>35.34</td>\n",
       "    </tr>\n",
       "    <tr>\n",
       "      <th>597</th>\n",
       "      <td>2018-05-24 00:00:00</td>\n",
       "      <td>Чек ККМ ГС00-036571 от 24.05.2018 12:08:34</td>\n",
       "      <td>Крымская Вода питьевая н/газ 1,0л ПЭТ</td>\n",
       "      <td>БЕЛАЯ ВОДА</td>\n",
       "      <td>АЗС № 1</td>\n",
       "      <td>Симферополь г</td>\n",
       "      <td>-50</td>\n",
       "      <td>-1750.0</td>\n",
       "      <td>20.78</td>\n",
       "      <td>-1039.00</td>\n",
       "      <td>-711.00</td>\n",
       "      <td>14.22</td>\n",
       "    </tr>\n",
       "  </tbody>\n",
       "</table></div>"
      ],
      "text/plain": [
       "                    date                                     receipt  \\\n",
       "402  2018-05-16 00:00:00  Чек ККМ ГС00-034277 от 16.05.2018 20:14:40   \n",
       "586  2018-05-23 00:00:00  Чек ККМ ГС00-036419 от 23.05.2018 19:29:27   \n",
       "597  2018-05-24 00:00:00  Чек ККМ ГС00-036571 от 24.05.2018 12:08:34   \n",
       "\n",
       "                                               product  \\\n",
       "402  Масло трансмис. Роснефть 75 W 90 Kinetic GL-4/...   \n",
       "586                  ИВ Лимонад Сливочный 0,6 л стекло   \n",
       "597              Крымская Вода питьевая н/газ 1,0л ПЭТ   \n",
       "\n",
       "                   group_of_products    store           city  sold_quantity  \\\n",
       "402                   Моторные масла  АЗС № 1  Симферополь г             -2   \n",
       "586  ВКУСОВАЯ, СЛАДКАЯ ВОДА, НАПИТКИ  АЗС № 1  Симферополь г             -1   \n",
       "597                       БЕЛАЯ ВОДА  АЗС № 1  Симферополь г            -50   \n",
       "\n",
       "     tunover_VAT  purchase_price_VAT  purchase_cost_VAT  margin_VAT  profit  \n",
       "402       -700.0              249.00            -498.00     -202.00  101.00  \n",
       "586        -90.0               54.66             -54.66      -35.34   35.34  \n",
       "597      -1750.0               20.78           -1039.00     -711.00   14.22  "
      ]
     },
     "execution_count": 11,
     "metadata": {},
     "output_type": "execute_result"
    }
   ],
   "source": [
    "df_sort"
   ]
  },
  {
   "cell_type": "code",
   "execution_count": null,
   "metadata": {},
   "outputs": [],
   "source": []
  }
 ],
 "metadata": {
  "colab": {
   "provenance": []
  },
  "kernelspec": {
   "display_name": "Python 3 (ipykernel)",
   "language": "python",
   "name": "python3"
  },
  "language_info": {
   "codemirror_mode": {
    "name": "ipython",
    "version": 3
   },
   "file_extension": ".py",
   "mimetype": "text/x-python",
   "name": "python",
   "nbconvert_exporter": "python",
   "pygments_lexer": "ipython3",
   "version": "3.8.13"
  },
  "widgets": {
   "application/vnd.jupyter.widget-state+json": {
    "state": {},
    "version_major": 2,
    "version_minor": 0
   }
  }
 },
 "nbformat": 4,
 "nbformat_minor": 4
}
