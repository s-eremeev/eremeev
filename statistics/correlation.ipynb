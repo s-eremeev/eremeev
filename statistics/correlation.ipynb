{
 "cells": [
  {
   "cell_type": "markdown",
   "id": "204d7f8a-17cc-4960-8acf-211311071e94",
   "metadata": {},
   "source": [
    "# **Отчёт о выполнении домашнего задания к лекции «Корреляция и корреляционный анализ»**\n",
    "\n",
    "![](https://drive.google.com/uc?export=view&id=1rsVDD0YJocRYoP-EDazcwzoPnxJ3g9Sb)"
   ]
  },
  {
   "cell_type": "markdown",
   "id": "c60a5e50-45fd-4315-a9f9-c4cd660b4cf9",
   "metadata": {},
   "source": [
    "> Рекомендую ознакомиться вот с этим [материалом](http://www.machinelearning.ru/wiki/index.php?title=Анализ_регрессионных_остатков_(пример)) для более подробного изучения графиков остатков\n",
    "\n",
    "> А вот эти материалы пригодятся для понимания оптимизации моделей и дальнейшего погружения в тему:\n",
    "\n",
    "> [1.](https://blog.quantinsti.com/linear-regression-models-scikit-learn/)   \n",
    "> [2.](http://pavelbazin.com/post/linear-regression-hyperparameters/)"
   ]
  },
  {
   "cell_type": "code",
   "execution_count": 197,
   "id": "cb5f8443-83ea-430e-8a5f-5f78de6f7822",
   "metadata": {},
   "outputs": [
    {
     "name": "stdout",
     "output_type": "stream",
     "text": [
      "The lab_black extension is already loaded. To reload it, use:\n",
      "  %reload_ext lab_black\n"
     ]
    }
   ],
   "source": [
    "import numpy as np\n",
    "import pandas as pd\n",
    "# import matplotlib.pyplot as plt\n",
    "import seaborn as sns\n",
    "from pylab import rcParams\n",
    "from sklearn.linear_model import LinearRegression\n",
    "from sklearn.model_selection import train_test_split\n",
    "from sklearn.metrics import mean_squared_error\n",
    "from sklearn.linear_model import LogisticRegression\n",
    "\n",
    "%load_ext lab_black\n",
    "rcParams[\"figure.figsize\"] = 11, 7"
   ]
  },
  {
   "cell_type": "markdown",
   "id": "3e1e1a2f-588e-47b6-8931-644cb19ad200",
   "metadata": {},
   "source": [
    "## В датасете [Mortality and Water Hardness](https://www.kaggle.com/ukveteran/mortality-and-water-hardness) содержатся данные по средней годовой смертности на 100000 населения и концентрации кальция в питьевой воде для 61 большого города в Англии и Уэльсе. Города дополнительно поделены на северные и южные.\n",
    "\n",
    "## **Задание 1.**\n",
    "## Ответить на вопрос: есть ли связь между жёсткостью воды и средней годовой смертностью?\n",
    "\n",
    "- построить точечный график;   \n",
    "- рассчитаитать коэффициенты корреляции Пирсона и Спирмена;   \n",
    "- построить модель линейной регрессии;   \n",
    "- рассчитать коэффициент детерминации;   \n",
    "- вывести график остатков.   \n",
    "\n",
    "## **Задание 2.**\n",
    "## Ответить на вопрос: сохраняется ли аналогичная зависимость для северных и южных городов по отдельности?   \n",
    "\n",
    "- разделить данные на 2 группы;   \n",
    "- повторить аналогичные шаги из пункта 1 для каждой группы по отдельности."
   ]
  },
  {
   "cell_type": "markdown",
   "id": "4ddcf6df-78ec-4756-a7cf-0cc341e72ea2",
   "metadata": {},
   "source": [
    "<div class=\"alert alert-block alert-info\">\n",
    "\n",
    "## **Задание 1**"
   ]
  },
  {
   "cell_type": "code",
   "execution_count": 198,
   "id": "84210b50-8739-4bdb-a174-905233fcae7a",
   "metadata": {},
   "outputs": [],
   "source": [
    "# загрузка данных\n",
    "df_mortality = pd.read_csv(\"/home/sk27/learning/STPY-37/corr/water.csv\", index_col=0)"
   ]
  },
  {
   "cell_type": "code",
   "execution_count": 199,
   "id": "b5137c03-00cc-4cf9-9a7a-b8fe42895697",
   "metadata": {},
   "outputs": [
    {
     "data": {
      "text/html": [
       "<div>\n",
       "<style scoped>\n",
       "    .dataframe tbody tr th:only-of-type {\n",
       "        vertical-align: middle;\n",
       "    }\n",
       "\n",
       "    .dataframe tbody tr th {\n",
       "        vertical-align: top;\n",
       "    }\n",
       "\n",
       "    .dataframe thead th {\n",
       "        text-align: right;\n",
       "    }\n",
       "</style>\n",
       "<table border=\"1\" class=\"dataframe\">\n",
       "  <thead>\n",
       "    <tr style=\"text-align: right;\">\n",
       "      <th></th>\n",
       "      <th>location</th>\n",
       "      <th>town</th>\n",
       "      <th>mortality</th>\n",
       "      <th>hardness</th>\n",
       "    </tr>\n",
       "  </thead>\n",
       "  <tbody>\n",
       "    <tr>\n",
       "      <th>1</th>\n",
       "      <td>South</td>\n",
       "      <td>Bath</td>\n",
       "      <td>1247</td>\n",
       "      <td>105</td>\n",
       "    </tr>\n",
       "    <tr>\n",
       "      <th>2</th>\n",
       "      <td>North</td>\n",
       "      <td>Birkenhead</td>\n",
       "      <td>1668</td>\n",
       "      <td>17</td>\n",
       "    </tr>\n",
       "    <tr>\n",
       "      <th>3</th>\n",
       "      <td>South</td>\n",
       "      <td>Birmingham</td>\n",
       "      <td>1466</td>\n",
       "      <td>5</td>\n",
       "    </tr>\n",
       "    <tr>\n",
       "      <th>4</th>\n",
       "      <td>North</td>\n",
       "      <td>Blackburn</td>\n",
       "      <td>1800</td>\n",
       "      <td>14</td>\n",
       "    </tr>\n",
       "    <tr>\n",
       "      <th>5</th>\n",
       "      <td>North</td>\n",
       "      <td>Blackpool</td>\n",
       "      <td>1609</td>\n",
       "      <td>18</td>\n",
       "    </tr>\n",
       "    <tr>\n",
       "      <th>...</th>\n",
       "      <td>...</td>\n",
       "      <td>...</td>\n",
       "      <td>...</td>\n",
       "      <td>...</td>\n",
       "    </tr>\n",
       "    <tr>\n",
       "      <th>57</th>\n",
       "      <td>South</td>\n",
       "      <td>Walsall</td>\n",
       "      <td>1527</td>\n",
       "      <td>60</td>\n",
       "    </tr>\n",
       "    <tr>\n",
       "      <th>58</th>\n",
       "      <td>South</td>\n",
       "      <td>West Bromwich</td>\n",
       "      <td>1627</td>\n",
       "      <td>53</td>\n",
       "    </tr>\n",
       "    <tr>\n",
       "      <th>59</th>\n",
       "      <td>South</td>\n",
       "      <td>West Ham</td>\n",
       "      <td>1486</td>\n",
       "      <td>122</td>\n",
       "    </tr>\n",
       "    <tr>\n",
       "      <th>60</th>\n",
       "      <td>South</td>\n",
       "      <td>Wolverhampton</td>\n",
       "      <td>1485</td>\n",
       "      <td>81</td>\n",
       "    </tr>\n",
       "    <tr>\n",
       "      <th>61</th>\n",
       "      <td>North</td>\n",
       "      <td>York</td>\n",
       "      <td>1378</td>\n",
       "      <td>71</td>\n",
       "    </tr>\n",
       "  </tbody>\n",
       "</table>\n",
       "<p>61 rows × 4 columns</p>\n",
       "</div>"
      ],
      "text/plain": [
       "   location           town  mortality  hardness\n",
       "1     South           Bath       1247       105\n",
       "2     North     Birkenhead       1668        17\n",
       "3     South     Birmingham       1466         5\n",
       "4     North      Blackburn       1800        14\n",
       "5     North      Blackpool       1609        18\n",
       "..      ...            ...        ...       ...\n",
       "57    South        Walsall       1527        60\n",
       "58    South  West Bromwich       1627        53\n",
       "59    South       West Ham       1486       122\n",
       "60    South  Wolverhampton       1485        81\n",
       "61    North           York       1378        71\n",
       "\n",
       "[61 rows x 4 columns]"
      ]
     },
     "execution_count": 199,
     "metadata": {},
     "output_type": "execute_result"
    }
   ],
   "source": [
    "df_mortality"
   ]
  },
  {
   "cell_type": "code",
   "execution_count": 200,
   "id": "14346c72-fb6e-457c-a2d4-e26101751aea",
   "metadata": {},
   "outputs": [
    {
     "name": "stdout",
     "output_type": "stream",
     "text": [
      "<class 'pandas.core.frame.DataFrame'>\n",
      "Int64Index: 61 entries, 1 to 61\n",
      "Data columns (total 4 columns):\n",
      " #   Column     Non-Null Count  Dtype \n",
      "---  ------     --------------  ----- \n",
      " 0   location   61 non-null     object\n",
      " 1   town       61 non-null     object\n",
      " 2   mortality  61 non-null     int64 \n",
      " 3   hardness   61 non-null     int64 \n",
      "dtypes: int64(2), object(2)\n",
      "memory usage: 2.4+ KB\n"
     ]
    }
   ],
   "source": [
    "# формат и состав данных\n",
    "df_mortality.info()"
   ]
  },
  {
   "cell_type": "markdown",
   "id": "337bdd51-b741-4382-82ac-d3e8978ba2f1",
   "metadata": {},
   "source": [
    "### Задача состоит в объяснении уровня сметроности величиной жёсткости воды. В связи с этим в качестве независимой перемнной рассматриваем hardness, в качстве зависимой mortality."
   ]
  },
  {
   "cell_type": "code",
   "execution_count": 201,
   "id": "6988cc76-1769-48e1-a96b-775e32239192",
   "metadata": {},
   "outputs": [
    {
     "data": {
      "image/png": "[encoded data removed]",
      "text/plain": [
       "<Figure size 1100x700 with 1 Axes>"
      ]
     },
     "metadata": {},
     "output_type": "display_data"
    }
   ],
   "source": [
    "# точечный график\n",
    "fig, ax = plt.subplots()\n",
    "color_dict = dict({\"North\": \"blue\", \"South\": \"red\"})\n",
    "sns.scatterplot(\n",
    "    ax=ax,\n",
    "    data=df_mortality,\n",
    "    x=\"hardness\",\n",
    "    y=\"mortality\",\n",
    "    hue=\"location\",\n",
    "    palette=color_dict,\n",
    "    legend=\"full\",\n",
    ")\n",
    "ax.set_xlabel(\n",
    "    \"жёсткость воды\",\n",
    "    size=12,\n",
    ")\n",
    "ax.set_ylabel(\"показатель смертности\", size=12)\n",
    "ax.set_title(\n",
    "    \"зависимость между концентрацией кальция в питьевой воде\\nи средней годовой смерностью на 100 000 населения\",\n",
    "    size=16,\n",
    ")\n",
    "plt.show()"
   ]
  },
  {
   "cell_type": "code",
   "execution_count": 202,
   "id": "ee64425c-ecc3-492c-9291-b64271cad7cb",
   "metadata": {},
   "outputs": [
    {
     "data": {
      "image/png": "[encoded data removed]",
      "text/plain": [
       "<Figure size 600x600 with 3 Axes>"
      ]
     },
     "metadata": {},
     "output_type": "display_data"
    }
   ],
   "source": [
    "color_dict = dict({\"North\": \"blue\", \"South\": \"red\"})\n",
    "sns.jointplot(\n",
    "    x=\"hardness\",\n",
    "    y=\"mortality\",\n",
    "    data=df_mortality,\n",
    "    hue=\"location\",\n",
    "    palette=color_dict,\n",
    ")\n",
    "plt.show()"
   ]
  },
  {
   "cell_type": "code",
   "execution_count": 203,
   "id": "d80c6969-c16d-43b7-900a-c451ccb404fa",
   "metadata": {},
   "outputs": [
    {
     "data": {
      "image/png": "[encoded data removed]",
      "text/plain": [
       "<Figure size 1100x700 with 1 Axes>"
      ]
     },
     "metadata": {},
     "output_type": "display_data"
    }
   ],
   "source": [
    "fig, ax = plt.subplots()\n",
    "sns.boxplot(ax=ax, x=df_mortality.mortality)\n",
    "ax.set_title(\n",
    "    \"разброс средней годовой смерности на 100 000 населения\",\n",
    "    size=16,\n",
    ")\n",
    "plt.show()"
   ]
  },
  {
   "cell_type": "markdown",
   "id": "8d252de2-e081-47bf-b758-bff000e0bc15",
   "metadata": {},
   "source": [
    "### Взаимосвязь, конечно, пристутствует, но разброс значений весьма велик. На высокую точность прогнозировыания с использованием модели линейной регрессии рассчитывать не стоит.\n",
    "### Стройную картину портит Север. Очевидно, что там присутствуют неизученные факторы, повышающие размах показателя смертности в районах с низкой жёсткостью воды."
   ]
  },
  {
   "cell_type": "code",
   "execution_count": 227,
   "id": "426540d5-31b9-455e-877a-c2fdce4cf7fc",
   "metadata": {},
   "outputs": [
    {
     "name": "stdout",
     "output_type": "stream",
     "text": [
      "Коэффициент корреляции Пирсона: -0.65485\n",
      "Коэффициент корреляции Спирмана: -0.63166\n"
     ]
    }
   ],
   "source": [
    "# коэффициент корреляции Пирсона\n",
    "corr_pirson = df_mortality[[\"hardness\", \"mortality\"]].corr().min()[0].round(5)\n",
    "print(f\"Коэффициент корреляции Пирсона: {corr_pirson}\")\n",
    "# коэффициент корреляции Спирмана\n",
    "corr_spearman = (\n",
    "    df_mortality[[\"hardness\", \"mortality\"]].corr(method=\"spearman\").min()[0].round(5)\n",
    ")\n",
    "print(f\"Коэффициент корреляции Спирмана: {corr_spearman}\")"
   ]
  },
  {
   "cell_type": "code",
   "execution_count": 228,
   "id": "0906139e-990d-44d2-84d3-9b5b2f50df1a",
   "metadata": {},
   "outputs": [
    {
     "data": {
      "text/html": [
       "<style>#sk-container-id-13 {color: black;background-color: white;}#sk-container-id-13 pre{padding: 0;}#sk-container-id-13 div.sk-toggleable {background-color: white;}#sk-container-id-13 label.sk-toggleable__label {cursor: pointer;display: block;width: 100%;margin-bottom: 0;padding: 0.3em;box-sizing: border-box;text-align: center;}#sk-container-id-13 label.sk-toggleable__label-arrow:before {content: \"▸\";float: left;margin-right: 0.25em;color: #696969;}#sk-container-id-13 label.sk-toggleable__label-arrow:hover:before {color: black;}#sk-container-id-13 div.sk-estimator:hover label.sk-toggleable__label-arrow:before {color: black;}#sk-container-id-13 div.sk-toggleable__content {max-height: 0;max-width: 0;overflow: hidden;text-align: left;background-color: #f0f8ff;}#sk-container-id-13 div.sk-toggleable__content pre {margin: 0.2em;color: black;border-radius: 0.25em;background-color: #f0f8ff;}#sk-container-id-13 input.sk-toggleable__control:checked~div.sk-toggleable__content {max-height: 200px;max-width: 100%;overflow: auto;}#sk-container-id-13 input.sk-toggleable__control:checked~label.sk-toggleable__label-arrow:before {content: \"▾\";}#sk-container-id-13 div.sk-estimator input.sk-toggleable__control:checked~label.sk-toggleable__label {background-color: #d4ebff;}#sk-container-id-13 div.sk-label input.sk-toggleable__control:checked~label.sk-toggleable__label {background-color: #d4ebff;}#sk-container-id-13 input.sk-hidden--visually {border: 0;clip: rect(1px 1px 1px 1px);clip: rect(1px, 1px, 1px, 1px);height: 1px;margin: -1px;overflow: hidden;padding: 0;position: absolute;width: 1px;}#sk-container-id-13 div.sk-estimator {font-family: monospace;background-color: #f0f8ff;border: 1px dotted black;border-radius: 0.25em;box-sizing: border-box;margin-bottom: 0.5em;}#sk-container-id-13 div.sk-estimator:hover {background-color: #d4ebff;}#sk-container-id-13 div.sk-parallel-item::after {content: \"\";width: 100%;border-bottom: 1px solid gray;flex-grow: 1;}#sk-container-id-13 div.sk-label:hover label.sk-toggleable__label {background-color: #d4ebff;}#sk-container-id-13 div.sk-serial::before {content: \"\";position: absolute;border-left: 1px solid gray;box-sizing: border-box;top: 0;bottom: 0;left: 50%;z-index: 0;}#sk-container-id-13 div.sk-serial {display: flex;flex-direction: column;align-items: center;background-color: white;padding-right: 0.2em;padding-left: 0.2em;position: relative;}#sk-container-id-13 div.sk-item {position: relative;z-index: 1;}#sk-container-id-13 div.sk-parallel {display: flex;align-items: stretch;justify-content: center;background-color: white;position: relative;}#sk-container-id-13 div.sk-item::before, #sk-container-id-13 div.sk-parallel-item::before {content: \"\";position: absolute;border-left: 1px solid gray;box-sizing: border-box;top: 0;bottom: 0;left: 50%;z-index: -1;}#sk-container-id-13 div.sk-parallel-item {display: flex;flex-direction: column;z-index: 1;position: relative;background-color: white;}#sk-container-id-13 div.sk-parallel-item:first-child::after {align-self: flex-end;width: 50%;}#sk-container-id-13 div.sk-parallel-item:last-child::after {align-self: flex-start;width: 50%;}#sk-container-id-13 div.sk-parallel-item:only-child::after {width: 0;}#sk-container-id-13 div.sk-dashed-wrapped {border: 1px dashed gray;margin: 0 0.4em 0.5em 0.4em;box-sizing: border-box;padding-bottom: 0.4em;background-color: white;}#sk-container-id-13 div.sk-label label {font-family: monospace;font-weight: bold;display: inline-block;line-height: 1.2em;}#sk-container-id-13 div.sk-label-container {text-align: center;}#sk-container-id-13 div.sk-container {/* jupyter's `normalize.less` sets `[hidden] { display: none; }` but bootstrap.min.css set `[hidden] { display: none !important; }` so we also need the `!important` here to be able to override the default hidden behavior on the sphinx rendered scikit-learn.org. See: https://github.com/scikit-learn/scikit-learn/issues/21755 */display: inline-block !important;position: relative;}#sk-container-id-13 div.sk-text-repr-fallback {display: none;}</style><div id=\"sk-container-id-13\" class=\"sk-top-container\"><div class=\"sk-text-repr-fallback\"><pre>LinearRegression()</pre><b>In a Jupyter environment, please rerun this cell to show the HTML representation or trust the notebook. <br />On GitHub, the HTML representation is unable to render, please try loading this page with nbviewer.org.</b></div><div class=\"sk-container\" hidden><div class=\"sk-item\"><div class=\"sk-estimator sk-toggleable\"><input class=\"sk-toggleable__control sk-hidden--visually\" id=\"sk-estimator-id-13\" type=\"checkbox\" checked><label for=\"sk-estimator-id-13\" class=\"sk-toggleable__label sk-toggleable__label-arrow\">LinearRegression</label><div class=\"sk-toggleable__content\"><pre>LinearRegression()</pre></div></div></div></div></div>"
      ],
      "text/plain": [
       "LinearRegression()"
      ]
     },
     "execution_count": 228,
     "metadata": {},
     "output_type": "execute_result"
    }
   ],
   "source": [
    "# линейная регрессия\n",
    "X, y = df_mortality[[\"hardness\"]], df_mortality[\"mortality\"]\n",
    "X_train, X_test, y_train, y_test = train_test_split(\n",
    "    X, y, test_size=0.2, random_state=27\n",
    ")\n",
    "model = LinearRegression()\n",
    "model.fit(X_train, y_train)"
   ]
  },
  {
   "cell_type": "code",
   "execution_count": 229,
   "id": "33c06400-1b02-4b78-b4e2-804399105aeb",
   "metadata": {},
   "outputs": [
    {
     "name": "stdout",
     "output_type": "stream",
     "text": [
      "MSE обучающей выборки: 19920.742141872503\n",
      "MSE тестовой выборки: 20481.698566505027\n",
      "Отношение MSE: 0.97\n"
     ]
    }
   ],
   "source": [
    "# проверим качество модели сравнением среднеквадратического отклонения в предсказанных данных по обучающей и тестовой выборкам\n",
    "print(f\"MSE обучающей выборки: {mean_squared_error(y_train, model.predict(X_train))}\")\n",
    "print(f\"MSE тестовой выборки: {mean_squared_error(y_test, model.predict(X_test))}\")\n",
    "print(\n",
    "    f\"Отношение MSE: {(mean_squared_error(y_train, model.predict(X_train)) / mean_squared_error(y_test, model.predict(X_test))).round(2)}\"\n",
    ")"
   ]
  },
  {
   "cell_type": "code",
   "execution_count": 230,
   "id": "3f780dc5-a04c-4aee-ae41-1f1b004d7132",
   "metadata": {},
   "outputs": [
    {
     "name": "stdout",
     "output_type": "stream",
     "text": [
      "Коэффициент детерминации: 0.34922354865540517\n"
     ]
    }
   ],
   "source": [
    "print(f\"Коэффициент детерминации: {model.score(X_test, y_test)}\")"
   ]
  },
  {
   "cell_type": "markdown",
   "id": "2543511e-6321-4a65-85ce-667dc523a100",
   "metadata": {},
   "source": [
    "#### О. Булыгин:\n",
    "> я бы особо отметил в выводах, что при разделении датасета данных просто остается очень мало для построения адекватной модели, это как раз и видно по коэффициентам детерминации (мы тут не можем с уверенностью судить о наличии/отсутствии взаимосвязи)."
   ]
  },
  {
   "cell_type": "markdown",
   "id": "85c3077a-250d-4b19-b1c5-badf43a9c2b0",
   "metadata": {},
   "source": [
    "### Возможно, использование location в качестве дополнительного предиктора повысит точность прогноза? Тем более, что про особенность Севера уже было сказано. "
   ]
  },
  {
   "cell_type": "code",
   "execution_count": 231,
   "id": "ba2b9dcd-3f02-4594-9572-1fcacb0b2387",
   "metadata": {},
   "outputs": [],
   "source": [
    "df_mortality_2 = df_mortality.replace({\"location\": {\"North\": 0, \"South\": 1}})"
   ]
  },
  {
   "cell_type": "code",
   "execution_count": 232,
   "id": "fe740c8a-c81e-43f4-911f-1e5854e9b912",
   "metadata": {},
   "outputs": [
    {
     "data": {
      "text/html": [
       "<div>\n",
       "<style scoped>\n",
       "    .dataframe tbody tr th:only-of-type {\n",
       "        vertical-align: middle;\n",
       "    }\n",
       "\n",
       "    .dataframe tbody tr th {\n",
       "        vertical-align: top;\n",
       "    }\n",
       "\n",
       "    .dataframe thead th {\n",
       "        text-align: right;\n",
       "    }\n",
       "</style>\n",
       "<table border=\"1\" class=\"dataframe\">\n",
       "  <thead>\n",
       "    <tr style=\"text-align: right;\">\n",
       "      <th></th>\n",
       "      <th>location</th>\n",
       "      <th>town</th>\n",
       "      <th>mortality</th>\n",
       "      <th>hardness</th>\n",
       "      <th>predict_mortality</th>\n",
       "      <th>predict_mortality_2</th>\n",
       "      <th>residual</th>\n",
       "      <th>residual_2</th>\n",
       "    </tr>\n",
       "  </thead>\n",
       "  <tbody>\n",
       "    <tr>\n",
       "      <th>1</th>\n",
       "      <td>1</td>\n",
       "      <td>Bath</td>\n",
       "      <td>1247</td>\n",
       "      <td>105</td>\n",
       "      <td>1322.0</td>\n",
       "      <td>1292.0</td>\n",
       "      <td>-75.0</td>\n",
       "      <td>-45.0</td>\n",
       "    </tr>\n",
       "    <tr>\n",
       "      <th>2</th>\n",
       "      <td>0</td>\n",
       "      <td>Birkenhead</td>\n",
       "      <td>1668</td>\n",
       "      <td>17</td>\n",
       "      <td>1605.0</td>\n",
       "      <td>1652.0</td>\n",
       "      <td>63.0</td>\n",
       "      <td>16.0</td>\n",
       "    </tr>\n",
       "    <tr>\n",
       "      <th>3</th>\n",
       "      <td>1</td>\n",
       "      <td>Birmingham</td>\n",
       "      <td>1466</td>\n",
       "      <td>5</td>\n",
       "      <td>1644.0</td>\n",
       "      <td>1516.0</td>\n",
       "      <td>-178.0</td>\n",
       "      <td>-50.0</td>\n",
       "    </tr>\n",
       "    <tr>\n",
       "      <th>4</th>\n",
       "      <td>0</td>\n",
       "      <td>Blackburn</td>\n",
       "      <td>1800</td>\n",
       "      <td>14</td>\n",
       "      <td>1615.0</td>\n",
       "      <td>1659.0</td>\n",
       "      <td>185.0</td>\n",
       "      <td>141.0</td>\n",
       "    </tr>\n",
       "    <tr>\n",
       "      <th>5</th>\n",
       "      <td>0</td>\n",
       "      <td>Blackpool</td>\n",
       "      <td>1609</td>\n",
       "      <td>18</td>\n",
       "      <td>1602.0</td>\n",
       "      <td>1650.0</td>\n",
       "      <td>7.0</td>\n",
       "      <td>-41.0</td>\n",
       "    </tr>\n",
       "    <tr>\n",
       "      <th>...</th>\n",
       "      <td>...</td>\n",
       "      <td>...</td>\n",
       "      <td>...</td>\n",
       "      <td>...</td>\n",
       "      <td>...</td>\n",
       "      <td>...</td>\n",
       "      <td>...</td>\n",
       "      <td>...</td>\n",
       "    </tr>\n",
       "    <tr>\n",
       "      <th>57</th>\n",
       "      <td>1</td>\n",
       "      <td>Walsall</td>\n",
       "      <td>1527</td>\n",
       "      <td>60</td>\n",
       "      <td>1467.0</td>\n",
       "      <td>1393.0</td>\n",
       "      <td>60.0</td>\n",
       "      <td>134.0</td>\n",
       "    </tr>\n",
       "    <tr>\n",
       "      <th>58</th>\n",
       "      <td>1</td>\n",
       "      <td>West Bromwich</td>\n",
       "      <td>1627</td>\n",
       "      <td>53</td>\n",
       "      <td>1490.0</td>\n",
       "      <td>1408.0</td>\n",
       "      <td>137.0</td>\n",
       "      <td>219.0</td>\n",
       "    </tr>\n",
       "    <tr>\n",
       "      <th>59</th>\n",
       "      <td>1</td>\n",
       "      <td>West Ham</td>\n",
       "      <td>1486</td>\n",
       "      <td>122</td>\n",
       "      <td>1268.0</td>\n",
       "      <td>1254.0</td>\n",
       "      <td>218.0</td>\n",
       "      <td>232.0</td>\n",
       "    </tr>\n",
       "    <tr>\n",
       "      <th>60</th>\n",
       "      <td>1</td>\n",
       "      <td>Wolverhampton</td>\n",
       "      <td>1485</td>\n",
       "      <td>81</td>\n",
       "      <td>1399.0</td>\n",
       "      <td>1346.0</td>\n",
       "      <td>86.0</td>\n",
       "      <td>139.0</td>\n",
       "    </tr>\n",
       "    <tr>\n",
       "      <th>61</th>\n",
       "      <td>0</td>\n",
       "      <td>York</td>\n",
       "      <td>1378</td>\n",
       "      <td>71</td>\n",
       "      <td>1432.0</td>\n",
       "      <td>1531.0</td>\n",
       "      <td>-54.0</td>\n",
       "      <td>-153.0</td>\n",
       "    </tr>\n",
       "  </tbody>\n",
       "</table>\n",
       "<p>61 rows × 8 columns</p>\n",
       "</div>"
      ],
      "text/plain": [
       "    location           town  mortality  hardness  predict_mortality  \\\n",
       "1          1           Bath       1247       105             1322.0   \n",
       "2          0     Birkenhead       1668        17             1605.0   \n",
       "3          1     Birmingham       1466         5             1644.0   \n",
       "4          0      Blackburn       1800        14             1615.0   \n",
       "5          0      Blackpool       1609        18             1602.0   \n",
       "..       ...            ...        ...       ...                ...   \n",
       "57         1        Walsall       1527        60             1467.0   \n",
       "58         1  West Bromwich       1627        53             1490.0   \n",
       "59         1       West Ham       1486       122             1268.0   \n",
       "60         1  Wolverhampton       1485        81             1399.0   \n",
       "61         0           York       1378        71             1432.0   \n",
       "\n",
       "    predict_mortality_2  residual  residual_2  \n",
       "1                1292.0     -75.0       -45.0  \n",
       "2                1652.0      63.0        16.0  \n",
       "3                1516.0    -178.0       -50.0  \n",
       "4                1659.0     185.0       141.0  \n",
       "5                1650.0       7.0       -41.0  \n",
       "..                  ...       ...         ...  \n",
       "57               1393.0      60.0       134.0  \n",
       "58               1408.0     137.0       219.0  \n",
       "59               1254.0     218.0       232.0  \n",
       "60               1346.0      86.0       139.0  \n",
       "61               1531.0     -54.0      -153.0  \n",
       "\n",
       "[61 rows x 8 columns]"
      ]
     },
     "execution_count": 232,
     "metadata": {},
     "output_type": "execute_result"
    }
   ],
   "source": [
    "df_mortality_2"
   ]
  },
  {
   "cell_type": "code",
   "execution_count": 233,
   "id": "c814fd11-3c01-4f4f-b49a-701963757a47",
   "metadata": {},
   "outputs": [
    {
     "data": {
      "text/html": [
       "<style>#sk-container-id-14 {color: black;background-color: white;}#sk-container-id-14 pre{padding: 0;}#sk-container-id-14 div.sk-toggleable {background-color: white;}#sk-container-id-14 label.sk-toggleable__label {cursor: pointer;display: block;width: 100%;margin-bottom: 0;padding: 0.3em;box-sizing: border-box;text-align: center;}#sk-container-id-14 label.sk-toggleable__label-arrow:before {content: \"▸\";float: left;margin-right: 0.25em;color: #696969;}#sk-container-id-14 label.sk-toggleable__label-arrow:hover:before {color: black;}#sk-container-id-14 div.sk-estimator:hover label.sk-toggleable__label-arrow:before {color: black;}#sk-container-id-14 div.sk-toggleable__content {max-height: 0;max-width: 0;overflow: hidden;text-align: left;background-color: #f0f8ff;}#sk-container-id-14 div.sk-toggleable__content pre {margin: 0.2em;color: black;border-radius: 0.25em;background-color: #f0f8ff;}#sk-container-id-14 input.sk-toggleable__control:checked~div.sk-toggleable__content {max-height: 200px;max-width: 100%;overflow: auto;}#sk-container-id-14 input.sk-toggleable__control:checked~label.sk-toggleable__label-arrow:before {content: \"▾\";}#sk-container-id-14 div.sk-estimator input.sk-toggleable__control:checked~label.sk-toggleable__label {background-color: #d4ebff;}#sk-container-id-14 div.sk-label input.sk-toggleable__control:checked~label.sk-toggleable__label {background-color: #d4ebff;}#sk-container-id-14 input.sk-hidden--visually {border: 0;clip: rect(1px 1px 1px 1px);clip: rect(1px, 1px, 1px, 1px);height: 1px;margin: -1px;overflow: hidden;padding: 0;position: absolute;width: 1px;}#sk-container-id-14 div.sk-estimator {font-family: monospace;background-color: #f0f8ff;border: 1px dotted black;border-radius: 0.25em;box-sizing: border-box;margin-bottom: 0.5em;}#sk-container-id-14 div.sk-estimator:hover {background-color: #d4ebff;}#sk-container-id-14 div.sk-parallel-item::after {content: \"\";width: 100%;border-bottom: 1px solid gray;flex-grow: 1;}#sk-container-id-14 div.sk-label:hover label.sk-toggleable__label {background-color: #d4ebff;}#sk-container-id-14 div.sk-serial::before {content: \"\";position: absolute;border-left: 1px solid gray;box-sizing: border-box;top: 0;bottom: 0;left: 50%;z-index: 0;}#sk-container-id-14 div.sk-serial {display: flex;flex-direction: column;align-items: center;background-color: white;padding-right: 0.2em;padding-left: 0.2em;position: relative;}#sk-container-id-14 div.sk-item {position: relative;z-index: 1;}#sk-container-id-14 div.sk-parallel {display: flex;align-items: stretch;justify-content: center;background-color: white;position: relative;}#sk-container-id-14 div.sk-item::before, #sk-container-id-14 div.sk-parallel-item::before {content: \"\";position: absolute;border-left: 1px solid gray;box-sizing: border-box;top: 0;bottom: 0;left: 50%;z-index: -1;}#sk-container-id-14 div.sk-parallel-item {display: flex;flex-direction: column;z-index: 1;position: relative;background-color: white;}#sk-container-id-14 div.sk-parallel-item:first-child::after {align-self: flex-end;width: 50%;}#sk-container-id-14 div.sk-parallel-item:last-child::after {align-self: flex-start;width: 50%;}#sk-container-id-14 div.sk-parallel-item:only-child::after {width: 0;}#sk-container-id-14 div.sk-dashed-wrapped {border: 1px dashed gray;margin: 0 0.4em 0.5em 0.4em;box-sizing: border-box;padding-bottom: 0.4em;background-color: white;}#sk-container-id-14 div.sk-label label {font-family: monospace;font-weight: bold;display: inline-block;line-height: 1.2em;}#sk-container-id-14 div.sk-label-container {text-align: center;}#sk-container-id-14 div.sk-container {/* jupyter's `normalize.less` sets `[hidden] { display: none; }` but bootstrap.min.css set `[hidden] { display: none !important; }` so we also need the `!important` here to be able to override the default hidden behavior on the sphinx rendered scikit-learn.org. See: https://github.com/scikit-learn/scikit-learn/issues/21755 */display: inline-block !important;position: relative;}#sk-container-id-14 div.sk-text-repr-fallback {display: none;}</style><div id=\"sk-container-id-14\" class=\"sk-top-container\"><div class=\"sk-text-repr-fallback\"><pre>LinearRegression()</pre><b>In a Jupyter environment, please rerun this cell to show the HTML representation or trust the notebook. <br />On GitHub, the HTML representation is unable to render, please try loading this page with nbviewer.org.</b></div><div class=\"sk-container\" hidden><div class=\"sk-item\"><div class=\"sk-estimator sk-toggleable\"><input class=\"sk-toggleable__control sk-hidden--visually\" id=\"sk-estimator-id-14\" type=\"checkbox\" checked><label for=\"sk-estimator-id-14\" class=\"sk-toggleable__label sk-toggleable__label-arrow\">LinearRegression</label><div class=\"sk-toggleable__content\"><pre>LinearRegression()</pre></div></div></div></div></div>"
      ],
      "text/plain": [
       "LinearRegression()"
      ]
     },
     "execution_count": 233,
     "metadata": {},
     "output_type": "execute_result"
    }
   ],
   "source": [
    "X_2, y_2 = df_mortality_2[[\"location\", \"hardness\"]], df_mortality_2[\"mortality\"]\n",
    "X_train_2, X_test_2, y_train_2, y_test_2 = train_test_split(\n",
    "    X_2, y_2, test_size=0.2, random_state=27\n",
    ")\n",
    "model_2 = LinearRegression()\n",
    "model_2.fit(X_train_2, y_train_2)"
   ]
  },
  {
   "cell_type": "code",
   "execution_count": 234,
   "id": "ace869de-ee1c-4601-b6a4-e262aef9295f",
   "metadata": {},
   "outputs": [
    {
     "name": "stdout",
     "output_type": "stream",
     "text": [
      "MSE обучающей выборки: 14695.628428899196\n",
      "MSE тестовой выборки: 12895.209014114469\n",
      "Отношение MSE: 1.14\n"
     ]
    }
   ],
   "source": [
    "print(\n",
    "    f\"MSE обучающей выборки: {mean_squared_error(y_train_2, model_2.predict(X_train_2))}\"\n",
    ")\n",
    "print(\n",
    "    f\"MSE тестовой выборки: {mean_squared_error(y_test_2, model_2.predict(X_test_2))}\"\n",
    ")\n",
    "print(\n",
    "    f\"Отношение MSE: {(mean_squared_error(y_train_2, model_2.predict(X_train_2)) / mean_squared_error(y_test_2, model_2.predict(X_test_2))).round(2)}\"\n",
    ")"
   ]
  },
  {
   "cell_type": "code",
   "execution_count": 235,
   "id": "164de604-e1f7-4ef2-9d07-92e11297aeb6",
   "metadata": {},
   "outputs": [
    {
     "name": "stdout",
     "output_type": "stream",
     "text": [
      "Коэффициент детерминации: 0.590273319651524\n"
     ]
    }
   ],
   "source": [
    "print(f\"Коэффициент детерминации: {model_2.score(X_test_2, y_test_2)}\")"
   ]
  },
  {
   "cell_type": "markdown",
   "id": "6474b584-e54f-49c9-b6e0-2fcaea29cdd6",
   "metadata": {},
   "source": [
    "### Несколько лучше. Рассмотрим оба варианта"
   ]
  },
  {
   "cell_type": "code",
   "execution_count": 236,
   "id": "b0edcaf9-5516-456f-8b7a-bdc443316354",
   "metadata": {},
   "outputs": [],
   "source": [
    "df_mortality[\"predict_mortality\"] = model.predict(df_mortality[[\"hardness\"]]).round(0)"
   ]
  },
  {
   "cell_type": "code",
   "execution_count": 237,
   "id": "4908eda9-4a7e-4ad4-bf51-2c0e4628e806",
   "metadata": {},
   "outputs": [],
   "source": [
    "df_mortality[\"predict_mortality_2\"] = model_2.predict(\n",
    "    df_mortality_2[[\"location\", \"hardness\"]]\n",
    ").round(0)"
   ]
  },
  {
   "cell_type": "code",
   "execution_count": 238,
   "id": "f6e46207-b658-467a-9245-134fa5a48229",
   "metadata": {},
   "outputs": [],
   "source": [
    "# вычислим остатки\n",
    "df_mortality[\"residual\"] = df_mortality.mortality - df_mortality.predict_mortality\n",
    "df_mortality[\"residual_2\"] = df_mortality.mortality - df_mortality.predict_mortality_2"
   ]
  },
  {
   "cell_type": "markdown",
   "id": "3144d5e9-5d46-4008-9822-cc50ef3d5101",
   "metadata": {},
   "source": [
    "### График остатков"
   ]
  },
  {
   "cell_type": "code",
   "execution_count": 239,
   "id": "36141c3f-eb4f-4ef8-ad19-d62784f1039d",
   "metadata": {},
   "outputs": [
    {
     "data": {
      "text/html": [
       "<div>\n",
       "<style scoped>\n",
       "    .dataframe tbody tr th:only-of-type {\n",
       "        vertical-align: middle;\n",
       "    }\n",
       "\n",
       "    .dataframe tbody tr th {\n",
       "        vertical-align: top;\n",
       "    }\n",
       "\n",
       "    .dataframe thead th {\n",
       "        text-align: right;\n",
       "    }\n",
       "</style>\n",
       "<table border=\"1\" class=\"dataframe\">\n",
       "  <thead>\n",
       "    <tr style=\"text-align: right;\">\n",
       "      <th></th>\n",
       "      <th>location</th>\n",
       "      <th>town</th>\n",
       "      <th>mortality</th>\n",
       "      <th>hardness</th>\n",
       "      <th>predict_mortality</th>\n",
       "      <th>predict_mortality_2</th>\n",
       "      <th>residual</th>\n",
       "      <th>residual_2</th>\n",
       "    </tr>\n",
       "  </thead>\n",
       "  <tbody>\n",
       "    <tr>\n",
       "      <th>1</th>\n",
       "      <td>South</td>\n",
       "      <td>Bath</td>\n",
       "      <td>1247</td>\n",
       "      <td>105</td>\n",
       "      <td>1322.0</td>\n",
       "      <td>1292.0</td>\n",
       "      <td>-75.0</td>\n",
       "      <td>-45.0</td>\n",
       "    </tr>\n",
       "    <tr>\n",
       "      <th>2</th>\n",
       "      <td>North</td>\n",
       "      <td>Birkenhead</td>\n",
       "      <td>1668</td>\n",
       "      <td>17</td>\n",
       "      <td>1605.0</td>\n",
       "      <td>1652.0</td>\n",
       "      <td>63.0</td>\n",
       "      <td>16.0</td>\n",
       "    </tr>\n",
       "    <tr>\n",
       "      <th>3</th>\n",
       "      <td>South</td>\n",
       "      <td>Birmingham</td>\n",
       "      <td>1466</td>\n",
       "      <td>5</td>\n",
       "      <td>1644.0</td>\n",
       "      <td>1516.0</td>\n",
       "      <td>-178.0</td>\n",
       "      <td>-50.0</td>\n",
       "    </tr>\n",
       "    <tr>\n",
       "      <th>4</th>\n",
       "      <td>North</td>\n",
       "      <td>Blackburn</td>\n",
       "      <td>1800</td>\n",
       "      <td>14</td>\n",
       "      <td>1615.0</td>\n",
       "      <td>1659.0</td>\n",
       "      <td>185.0</td>\n",
       "      <td>141.0</td>\n",
       "    </tr>\n",
       "    <tr>\n",
       "      <th>5</th>\n",
       "      <td>North</td>\n",
       "      <td>Blackpool</td>\n",
       "      <td>1609</td>\n",
       "      <td>18</td>\n",
       "      <td>1602.0</td>\n",
       "      <td>1650.0</td>\n",
       "      <td>7.0</td>\n",
       "      <td>-41.0</td>\n",
       "    </tr>\n",
       "    <tr>\n",
       "      <th>...</th>\n",
       "      <td>...</td>\n",
       "      <td>...</td>\n",
       "      <td>...</td>\n",
       "      <td>...</td>\n",
       "      <td>...</td>\n",
       "      <td>...</td>\n",
       "      <td>...</td>\n",
       "      <td>...</td>\n",
       "    </tr>\n",
       "    <tr>\n",
       "      <th>57</th>\n",
       "      <td>South</td>\n",
       "      <td>Walsall</td>\n",
       "      <td>1527</td>\n",
       "      <td>60</td>\n",
       "      <td>1467.0</td>\n",
       "      <td>1393.0</td>\n",
       "      <td>60.0</td>\n",
       "      <td>134.0</td>\n",
       "    </tr>\n",
       "    <tr>\n",
       "      <th>58</th>\n",
       "      <td>South</td>\n",
       "      <td>West Bromwich</td>\n",
       "      <td>1627</td>\n",
       "      <td>53</td>\n",
       "      <td>1490.0</td>\n",
       "      <td>1408.0</td>\n",
       "      <td>137.0</td>\n",
       "      <td>219.0</td>\n",
       "    </tr>\n",
       "    <tr>\n",
       "      <th>59</th>\n",
       "      <td>South</td>\n",
       "      <td>West Ham</td>\n",
       "      <td>1486</td>\n",
       "      <td>122</td>\n",
       "      <td>1268.0</td>\n",
       "      <td>1254.0</td>\n",
       "      <td>218.0</td>\n",
       "      <td>232.0</td>\n",
       "    </tr>\n",
       "    <tr>\n",
       "      <th>60</th>\n",
       "      <td>South</td>\n",
       "      <td>Wolverhampton</td>\n",
       "      <td>1485</td>\n",
       "      <td>81</td>\n",
       "      <td>1399.0</td>\n",
       "      <td>1346.0</td>\n",
       "      <td>86.0</td>\n",
       "      <td>139.0</td>\n",
       "    </tr>\n",
       "    <tr>\n",
       "      <th>61</th>\n",
       "      <td>North</td>\n",
       "      <td>York</td>\n",
       "      <td>1378</td>\n",
       "      <td>71</td>\n",
       "      <td>1432.0</td>\n",
       "      <td>1531.0</td>\n",
       "      <td>-54.0</td>\n",
       "      <td>-153.0</td>\n",
       "    </tr>\n",
       "  </tbody>\n",
       "</table>\n",
       "<p>61 rows × 8 columns</p>\n",
       "</div>"
      ],
      "text/plain": [
       "   location           town  mortality  hardness  predict_mortality  \\\n",
       "1     South           Bath       1247       105             1322.0   \n",
       "2     North     Birkenhead       1668        17             1605.0   \n",
       "3     South     Birmingham       1466         5             1644.0   \n",
       "4     North      Blackburn       1800        14             1615.0   \n",
       "5     North      Blackpool       1609        18             1602.0   \n",
       "..      ...            ...        ...       ...                ...   \n",
       "57    South        Walsall       1527        60             1467.0   \n",
       "58    South  West Bromwich       1627        53             1490.0   \n",
       "59    South       West Ham       1486       122             1268.0   \n",
       "60    South  Wolverhampton       1485        81             1399.0   \n",
       "61    North           York       1378        71             1432.0   \n",
       "\n",
       "    predict_mortality_2  residual  residual_2  \n",
       "1                1292.0     -75.0       -45.0  \n",
       "2                1652.0      63.0        16.0  \n",
       "3                1516.0    -178.0       -50.0  \n",
       "4                1659.0     185.0       141.0  \n",
       "5                1650.0       7.0       -41.0  \n",
       "..                  ...       ...         ...  \n",
       "57               1393.0      60.0       134.0  \n",
       "58               1408.0     137.0       219.0  \n",
       "59               1254.0     218.0       232.0  \n",
       "60               1346.0      86.0       139.0  \n",
       "61               1531.0     -54.0      -153.0  \n",
       "\n",
       "[61 rows x 8 columns]"
      ]
     },
     "execution_count": 239,
     "metadata": {},
     "output_type": "execute_result"
    }
   ],
   "source": [
    "df_mortality"
   ]
  },
  {
   "cell_type": "code",
   "execution_count": 240,
   "id": "c4d42c62-adcb-4718-8d75-453c25ff261f",
   "metadata": {},
   "outputs": [
    {
     "data": {
      "image/png": "[encoded data removed]",
      "text/plain": [
       "<Figure size 590.25x500 with 1 Axes>"
      ]
     },
     "metadata": {},
     "output_type": "display_data"
    },
    {
     "data": {
      "image/png": "[encoded data removed]",
      "text/plain": [
       "<Figure size 590.25x500 with 1 Axes>"
      ]
     },
     "metadata": {},
     "output_type": "display_data"
    }
   ],
   "source": [
    "sns.lmplot(x=\"hardness\", y=\"residual\", hue=\"location\", data=df_mortality)\n",
    "sns.lmplot(x=\"hardness\", y=\"residual_2\", hue=\"location\", data=df_mortality)\n",
    "plt.show()"
   ]
  },
  {
   "cell_type": "markdown",
   "id": "bbfb26f7-785b-4b4e-b674-75a89746ebea",
   "metadata": {},
   "source": [
    "<div class=\"alert alert-block alert-info\">\n",
    "\n",
    "## **Задание 2**"
   ]
  },
  {
   "cell_type": "markdown",
   "id": "5b08d4c5-65c4-4ca9-af12-ae87c3b7d8bc",
   "metadata": {},
   "source": [
    "### Косвенно мы уже ответили на вопрос второго задания: при использовании location в качестве предиктора в модели линейной регрессии качество прогноза несколько улучшилось. В случае, если бы в одном из регионов взаимосвязь отсутствовала, такого улучшения бы не наблюдалось."
   ]
  },
  {
   "cell_type": "markdown",
   "id": "25ae71b3-76bb-4778-a6ff-744de47896a5",
   "metadata": {},
   "source": [
    "### Весьма удачно, что значение локации принимает всего два значения. Это позволяет применить для оценки наличия взаимосвязи между смертностью и жёсткостью воды раздельно для каждого региона следующий подход: с использованием логистической регрессии спрогнозировать локацию, используя в качестве предикторов значения смертности и жёсткости воды, а затем сравнить предсказанные значения локации с фактическими."
   ]
  },
  {
   "cell_type": "code",
   "execution_count": 241,
   "id": "aedf8f6b-740e-4295-998e-a70d90115f8c",
   "metadata": {},
   "outputs": [
    {
     "data": {
      "text/html": [
       "<div>\n",
       "<style scoped>\n",
       "    .dataframe tbody tr th:only-of-type {\n",
       "        vertical-align: middle;\n",
       "    }\n",
       "\n",
       "    .dataframe tbody tr th {\n",
       "        vertical-align: top;\n",
       "    }\n",
       "\n",
       "    .dataframe thead th {\n",
       "        text-align: right;\n",
       "    }\n",
       "</style>\n",
       "<table border=\"1\" class=\"dataframe\">\n",
       "  <thead>\n",
       "    <tr style=\"text-align: right;\">\n",
       "      <th></th>\n",
       "      <th>location</th>\n",
       "      <th>town</th>\n",
       "      <th>mortality</th>\n",
       "      <th>hardness</th>\n",
       "      <th>predict_mortality</th>\n",
       "      <th>predict_mortality_2</th>\n",
       "      <th>residual</th>\n",
       "      <th>residual_2</th>\n",
       "    </tr>\n",
       "  </thead>\n",
       "  <tbody>\n",
       "    <tr>\n",
       "      <th>1</th>\n",
       "      <td>1</td>\n",
       "      <td>Bath</td>\n",
       "      <td>1247</td>\n",
       "      <td>105</td>\n",
       "      <td>1322.0</td>\n",
       "      <td>1292.0</td>\n",
       "      <td>-75.0</td>\n",
       "      <td>-45.0</td>\n",
       "    </tr>\n",
       "    <tr>\n",
       "      <th>2</th>\n",
       "      <td>0</td>\n",
       "      <td>Birkenhead</td>\n",
       "      <td>1668</td>\n",
       "      <td>17</td>\n",
       "      <td>1605.0</td>\n",
       "      <td>1652.0</td>\n",
       "      <td>63.0</td>\n",
       "      <td>16.0</td>\n",
       "    </tr>\n",
       "    <tr>\n",
       "      <th>3</th>\n",
       "      <td>1</td>\n",
       "      <td>Birmingham</td>\n",
       "      <td>1466</td>\n",
       "      <td>5</td>\n",
       "      <td>1644.0</td>\n",
       "      <td>1516.0</td>\n",
       "      <td>-178.0</td>\n",
       "      <td>-50.0</td>\n",
       "    </tr>\n",
       "    <tr>\n",
       "      <th>4</th>\n",
       "      <td>0</td>\n",
       "      <td>Blackburn</td>\n",
       "      <td>1800</td>\n",
       "      <td>14</td>\n",
       "      <td>1615.0</td>\n",
       "      <td>1659.0</td>\n",
       "      <td>185.0</td>\n",
       "      <td>141.0</td>\n",
       "    </tr>\n",
       "    <tr>\n",
       "      <th>5</th>\n",
       "      <td>0</td>\n",
       "      <td>Blackpool</td>\n",
       "      <td>1609</td>\n",
       "      <td>18</td>\n",
       "      <td>1602.0</td>\n",
       "      <td>1650.0</td>\n",
       "      <td>7.0</td>\n",
       "      <td>-41.0</td>\n",
       "    </tr>\n",
       "    <tr>\n",
       "      <th>...</th>\n",
       "      <td>...</td>\n",
       "      <td>...</td>\n",
       "      <td>...</td>\n",
       "      <td>...</td>\n",
       "      <td>...</td>\n",
       "      <td>...</td>\n",
       "      <td>...</td>\n",
       "      <td>...</td>\n",
       "    </tr>\n",
       "    <tr>\n",
       "      <th>57</th>\n",
       "      <td>1</td>\n",
       "      <td>Walsall</td>\n",
       "      <td>1527</td>\n",
       "      <td>60</td>\n",
       "      <td>1467.0</td>\n",
       "      <td>1393.0</td>\n",
       "      <td>60.0</td>\n",
       "      <td>134.0</td>\n",
       "    </tr>\n",
       "    <tr>\n",
       "      <th>58</th>\n",
       "      <td>1</td>\n",
       "      <td>West Bromwich</td>\n",
       "      <td>1627</td>\n",
       "      <td>53</td>\n",
       "      <td>1490.0</td>\n",
       "      <td>1408.0</td>\n",
       "      <td>137.0</td>\n",
       "      <td>219.0</td>\n",
       "    </tr>\n",
       "    <tr>\n",
       "      <th>59</th>\n",
       "      <td>1</td>\n",
       "      <td>West Ham</td>\n",
       "      <td>1486</td>\n",
       "      <td>122</td>\n",
       "      <td>1268.0</td>\n",
       "      <td>1254.0</td>\n",
       "      <td>218.0</td>\n",
       "      <td>232.0</td>\n",
       "    </tr>\n",
       "    <tr>\n",
       "      <th>60</th>\n",
       "      <td>1</td>\n",
       "      <td>Wolverhampton</td>\n",
       "      <td>1485</td>\n",
       "      <td>81</td>\n",
       "      <td>1399.0</td>\n",
       "      <td>1346.0</td>\n",
       "      <td>86.0</td>\n",
       "      <td>139.0</td>\n",
       "    </tr>\n",
       "    <tr>\n",
       "      <th>61</th>\n",
       "      <td>0</td>\n",
       "      <td>York</td>\n",
       "      <td>1378</td>\n",
       "      <td>71</td>\n",
       "      <td>1432.0</td>\n",
       "      <td>1531.0</td>\n",
       "      <td>-54.0</td>\n",
       "      <td>-153.0</td>\n",
       "    </tr>\n",
       "  </tbody>\n",
       "</table>\n",
       "<p>61 rows × 8 columns</p>\n",
       "</div>"
      ],
      "text/plain": [
       "    location           town  mortality  hardness  predict_mortality  \\\n",
       "1          1           Bath       1247       105             1322.0   \n",
       "2          0     Birkenhead       1668        17             1605.0   \n",
       "3          1     Birmingham       1466         5             1644.0   \n",
       "4          0      Blackburn       1800        14             1615.0   \n",
       "5          0      Blackpool       1609        18             1602.0   \n",
       "..       ...            ...        ...       ...                ...   \n",
       "57         1        Walsall       1527        60             1467.0   \n",
       "58         1  West Bromwich       1627        53             1490.0   \n",
       "59         1       West Ham       1486       122             1268.0   \n",
       "60         1  Wolverhampton       1485        81             1399.0   \n",
       "61         0           York       1378        71             1432.0   \n",
       "\n",
       "    predict_mortality_2  residual  residual_2  \n",
       "1                1292.0     -75.0       -45.0  \n",
       "2                1652.0      63.0        16.0  \n",
       "3                1516.0    -178.0       -50.0  \n",
       "4                1659.0     185.0       141.0  \n",
       "5                1650.0       7.0       -41.0  \n",
       "..                  ...       ...         ...  \n",
       "57               1393.0      60.0       134.0  \n",
       "58               1408.0     137.0       219.0  \n",
       "59               1254.0     218.0       232.0  \n",
       "60               1346.0      86.0       139.0  \n",
       "61               1531.0     -54.0      -153.0  \n",
       "\n",
       "[61 rows x 8 columns]"
      ]
     },
     "execution_count": 241,
     "metadata": {},
     "output_type": "execute_result"
    }
   ],
   "source": [
    "df_mortality_2"
   ]
  },
  {
   "cell_type": "code",
   "execution_count": 242,
   "id": "13408cff-9d9d-4f97-943f-cf86067261d6",
   "metadata": {},
   "outputs": [
    {
     "data": {
      "text/html": [
       "<style>#sk-container-id-15 {color: black;background-color: white;}#sk-container-id-15 pre{padding: 0;}#sk-container-id-15 div.sk-toggleable {background-color: white;}#sk-container-id-15 label.sk-toggleable__label {cursor: pointer;display: block;width: 100%;margin-bottom: 0;padding: 0.3em;box-sizing: border-box;text-align: center;}#sk-container-id-15 label.sk-toggleable__label-arrow:before {content: \"▸\";float: left;margin-right: 0.25em;color: #696969;}#sk-container-id-15 label.sk-toggleable__label-arrow:hover:before {color: black;}#sk-container-id-15 div.sk-estimator:hover label.sk-toggleable__label-arrow:before {color: black;}#sk-container-id-15 div.sk-toggleable__content {max-height: 0;max-width: 0;overflow: hidden;text-align: left;background-color: #f0f8ff;}#sk-container-id-15 div.sk-toggleable__content pre {margin: 0.2em;color: black;border-radius: 0.25em;background-color: #f0f8ff;}#sk-container-id-15 input.sk-toggleable__control:checked~div.sk-toggleable__content {max-height: 200px;max-width: 100%;overflow: auto;}#sk-container-id-15 input.sk-toggleable__control:checked~label.sk-toggleable__label-arrow:before {content: \"▾\";}#sk-container-id-15 div.sk-estimator input.sk-toggleable__control:checked~label.sk-toggleable__label {background-color: #d4ebff;}#sk-container-id-15 div.sk-label input.sk-toggleable__control:checked~label.sk-toggleable__label {background-color: #d4ebff;}#sk-container-id-15 input.sk-hidden--visually {border: 0;clip: rect(1px 1px 1px 1px);clip: rect(1px, 1px, 1px, 1px);height: 1px;margin: -1px;overflow: hidden;padding: 0;position: absolute;width: 1px;}#sk-container-id-15 div.sk-estimator {font-family: monospace;background-color: #f0f8ff;border: 1px dotted black;border-radius: 0.25em;box-sizing: border-box;margin-bottom: 0.5em;}#sk-container-id-15 div.sk-estimator:hover {background-color: #d4ebff;}#sk-container-id-15 div.sk-parallel-item::after {content: \"\";width: 100%;border-bottom: 1px solid gray;flex-grow: 1;}#sk-container-id-15 div.sk-label:hover label.sk-toggleable__label {background-color: #d4ebff;}#sk-container-id-15 div.sk-serial::before {content: \"\";position: absolute;border-left: 1px solid gray;box-sizing: border-box;top: 0;bottom: 0;left: 50%;z-index: 0;}#sk-container-id-15 div.sk-serial {display: flex;flex-direction: column;align-items: center;background-color: white;padding-right: 0.2em;padding-left: 0.2em;position: relative;}#sk-container-id-15 div.sk-item {position: relative;z-index: 1;}#sk-container-id-15 div.sk-parallel {display: flex;align-items: stretch;justify-content: center;background-color: white;position: relative;}#sk-container-id-15 div.sk-item::before, #sk-container-id-15 div.sk-parallel-item::before {content: \"\";position: absolute;border-left: 1px solid gray;box-sizing: border-box;top: 0;bottom: 0;left: 50%;z-index: -1;}#sk-container-id-15 div.sk-parallel-item {display: flex;flex-direction: column;z-index: 1;position: relative;background-color: white;}#sk-container-id-15 div.sk-parallel-item:first-child::after {align-self: flex-end;width: 50%;}#sk-container-id-15 div.sk-parallel-item:last-child::after {align-self: flex-start;width: 50%;}#sk-container-id-15 div.sk-parallel-item:only-child::after {width: 0;}#sk-container-id-15 div.sk-dashed-wrapped {border: 1px dashed gray;margin: 0 0.4em 0.5em 0.4em;box-sizing: border-box;padding-bottom: 0.4em;background-color: white;}#sk-container-id-15 div.sk-label label {font-family: monospace;font-weight: bold;display: inline-block;line-height: 1.2em;}#sk-container-id-15 div.sk-label-container {text-align: center;}#sk-container-id-15 div.sk-container {/* jupyter's `normalize.less` sets `[hidden] { display: none; }` but bootstrap.min.css set `[hidden] { display: none !important; }` so we also need the `!important` here to be able to override the default hidden behavior on the sphinx rendered scikit-learn.org. See: https://github.com/scikit-learn/scikit-learn/issues/21755 */display: inline-block !important;position: relative;}#sk-container-id-15 div.sk-text-repr-fallback {display: none;}</style><div id=\"sk-container-id-15\" class=\"sk-top-container\"><div class=\"sk-text-repr-fallback\"><pre>LogisticRegression()</pre><b>In a Jupyter environment, please rerun this cell to show the HTML representation or trust the notebook. <br />On GitHub, the HTML representation is unable to render, please try loading this page with nbviewer.org.</b></div><div class=\"sk-container\" hidden><div class=\"sk-item\"><div class=\"sk-estimator sk-toggleable\"><input class=\"sk-toggleable__control sk-hidden--visually\" id=\"sk-estimator-id-15\" type=\"checkbox\" checked><label for=\"sk-estimator-id-15\" class=\"sk-toggleable__label sk-toggleable__label-arrow\">LogisticRegression</label><div class=\"sk-toggleable__content\"><pre>LogisticRegression()</pre></div></div></div></div></div>"
      ],
      "text/plain": [
       "LogisticRegression()"
      ]
     },
     "execution_count": 242,
     "metadata": {},
     "output_type": "execute_result"
    }
   ],
   "source": [
    "# постоим и обучим модель логистической регрессии\n",
    "X, y = df_mortality_2[[\"mortality\", \"hardness\"]], df_mortality_2[\"location\"]\n",
    "X_train_l, X_test_l, y_train_l, y_test_l = train_test_split(\n",
    "    X, y, test_size=0.2, random_state=27\n",
    ")\n",
    "model_l = LogisticRegression()\n",
    "model_l.fit(X_train_l, y_train_l)"
   ]
  },
  {
   "cell_type": "code",
   "execution_count": 243,
   "id": "bf416a7a-ad2a-40db-9a9a-f638d7cb777f",
   "metadata": {},
   "outputs": [],
   "source": [
    "# используем модель для прогнозирования\n",
    "df_mortality_2.insert(\n",
    "    1,\n",
    "    \"location_predict\",\n",
    "    model_l.predict(df_mortality_2[[\"mortality\", \"hardness\"]]).round(0),\n",
    ")\n",
    "df_mortality_2[\"location_error\"] = (\n",
    "    df_mortality_2.location != df_mortality_2.location_predict\n",
    ")"
   ]
  },
  {
   "cell_type": "code",
   "execution_count": 244,
   "id": "ef486c18-e94e-4966-a97c-968214b024b5",
   "metadata": {},
   "outputs": [
    {
     "data": {
      "text/html": [
       "<div>\n",
       "<style scoped>\n",
       "    .dataframe tbody tr th:only-of-type {\n",
       "        vertical-align: middle;\n",
       "    }\n",
       "\n",
       "    .dataframe tbody tr th {\n",
       "        vertical-align: top;\n",
       "    }\n",
       "\n",
       "    .dataframe thead th {\n",
       "        text-align: right;\n",
       "    }\n",
       "</style>\n",
       "<table border=\"1\" class=\"dataframe\">\n",
       "  <thead>\n",
       "    <tr style=\"text-align: right;\">\n",
       "      <th></th>\n",
       "      <th>location</th>\n",
       "      <th>location_predict</th>\n",
       "      <th>town</th>\n",
       "      <th>mortality</th>\n",
       "      <th>hardness</th>\n",
       "      <th>predict_mortality</th>\n",
       "      <th>predict_mortality_2</th>\n",
       "      <th>residual</th>\n",
       "      <th>residual_2</th>\n",
       "      <th>location_error</th>\n",
       "    </tr>\n",
       "  </thead>\n",
       "  <tbody>\n",
       "    <tr>\n",
       "      <th>1</th>\n",
       "      <td>1</td>\n",
       "      <td>1</td>\n",
       "      <td>Bath</td>\n",
       "      <td>1247</td>\n",
       "      <td>105</td>\n",
       "      <td>1322.0</td>\n",
       "      <td>1292.0</td>\n",
       "      <td>-75.0</td>\n",
       "      <td>-45.0</td>\n",
       "      <td>False</td>\n",
       "    </tr>\n",
       "    <tr>\n",
       "      <th>2</th>\n",
       "      <td>0</td>\n",
       "      <td>0</td>\n",
       "      <td>Birkenhead</td>\n",
       "      <td>1668</td>\n",
       "      <td>17</td>\n",
       "      <td>1605.0</td>\n",
       "      <td>1652.0</td>\n",
       "      <td>63.0</td>\n",
       "      <td>16.0</td>\n",
       "      <td>False</td>\n",
       "    </tr>\n",
       "    <tr>\n",
       "      <th>3</th>\n",
       "      <td>1</td>\n",
       "      <td>1</td>\n",
       "      <td>Birmingham</td>\n",
       "      <td>1466</td>\n",
       "      <td>5</td>\n",
       "      <td>1644.0</td>\n",
       "      <td>1516.0</td>\n",
       "      <td>-178.0</td>\n",
       "      <td>-50.0</td>\n",
       "      <td>False</td>\n",
       "    </tr>\n",
       "    <tr>\n",
       "      <th>4</th>\n",
       "      <td>0</td>\n",
       "      <td>0</td>\n",
       "      <td>Blackburn</td>\n",
       "      <td>1800</td>\n",
       "      <td>14</td>\n",
       "      <td>1615.0</td>\n",
       "      <td>1659.0</td>\n",
       "      <td>185.0</td>\n",
       "      <td>141.0</td>\n",
       "      <td>False</td>\n",
       "    </tr>\n",
       "    <tr>\n",
       "      <th>5</th>\n",
       "      <td>0</td>\n",
       "      <td>0</td>\n",
       "      <td>Blackpool</td>\n",
       "      <td>1609</td>\n",
       "      <td>18</td>\n",
       "      <td>1602.0</td>\n",
       "      <td>1650.0</td>\n",
       "      <td>7.0</td>\n",
       "      <td>-41.0</td>\n",
       "      <td>False</td>\n",
       "    </tr>\n",
       "    <tr>\n",
       "      <th>...</th>\n",
       "      <td>...</td>\n",
       "      <td>...</td>\n",
       "      <td>...</td>\n",
       "      <td>...</td>\n",
       "      <td>...</td>\n",
       "      <td>...</td>\n",
       "      <td>...</td>\n",
       "      <td>...</td>\n",
       "      <td>...</td>\n",
       "      <td>...</td>\n",
       "    </tr>\n",
       "    <tr>\n",
       "      <th>57</th>\n",
       "      <td>1</td>\n",
       "      <td>0</td>\n",
       "      <td>Walsall</td>\n",
       "      <td>1527</td>\n",
       "      <td>60</td>\n",
       "      <td>1467.0</td>\n",
       "      <td>1393.0</td>\n",
       "      <td>60.0</td>\n",
       "      <td>134.0</td>\n",
       "      <td>True</td>\n",
       "    </tr>\n",
       "    <tr>\n",
       "      <th>58</th>\n",
       "      <td>1</td>\n",
       "      <td>0</td>\n",
       "      <td>West Bromwich</td>\n",
       "      <td>1627</td>\n",
       "      <td>53</td>\n",
       "      <td>1490.0</td>\n",
       "      <td>1408.0</td>\n",
       "      <td>137.0</td>\n",
       "      <td>219.0</td>\n",
       "      <td>True</td>\n",
       "    </tr>\n",
       "    <tr>\n",
       "      <th>59</th>\n",
       "      <td>1</td>\n",
       "      <td>1</td>\n",
       "      <td>West Ham</td>\n",
       "      <td>1486</td>\n",
       "      <td>122</td>\n",
       "      <td>1268.0</td>\n",
       "      <td>1254.0</td>\n",
       "      <td>218.0</td>\n",
       "      <td>232.0</td>\n",
       "      <td>False</td>\n",
       "    </tr>\n",
       "    <tr>\n",
       "      <th>60</th>\n",
       "      <td>1</td>\n",
       "      <td>1</td>\n",
       "      <td>Wolverhampton</td>\n",
       "      <td>1485</td>\n",
       "      <td>81</td>\n",
       "      <td>1399.0</td>\n",
       "      <td>1346.0</td>\n",
       "      <td>86.0</td>\n",
       "      <td>139.0</td>\n",
       "      <td>False</td>\n",
       "    </tr>\n",
       "    <tr>\n",
       "      <th>61</th>\n",
       "      <td>0</td>\n",
       "      <td>1</td>\n",
       "      <td>York</td>\n",
       "      <td>1378</td>\n",
       "      <td>71</td>\n",
       "      <td>1432.0</td>\n",
       "      <td>1531.0</td>\n",
       "      <td>-54.0</td>\n",
       "      <td>-153.0</td>\n",
       "      <td>True</td>\n",
       "    </tr>\n",
       "  </tbody>\n",
       "</table>\n",
       "<p>61 rows × 10 columns</p>\n",
       "</div>"
      ],
      "text/plain": [
       "    location  location_predict           town  mortality  hardness  \\\n",
       "1          1                 1           Bath       1247       105   \n",
       "2          0                 0     Birkenhead       1668        17   \n",
       "3          1                 1     Birmingham       1466         5   \n",
       "4          0                 0      Blackburn       1800        14   \n",
       "5          0                 0      Blackpool       1609        18   \n",
       "..       ...               ...            ...        ...       ...   \n",
       "57         1                 0        Walsall       1527        60   \n",
       "58         1                 0  West Bromwich       1627        53   \n",
       "59         1                 1       West Ham       1486       122   \n",
       "60         1                 1  Wolverhampton       1485        81   \n",
       "61         0                 1           York       1378        71   \n",
       "\n",
       "    predict_mortality  predict_mortality_2  residual  residual_2  \\\n",
       "1              1322.0               1292.0     -75.0       -45.0   \n",
       "2              1605.0               1652.0      63.0        16.0   \n",
       "3              1644.0               1516.0    -178.0       -50.0   \n",
       "4              1615.0               1659.0     185.0       141.0   \n",
       "5              1602.0               1650.0       7.0       -41.0   \n",
       "..                ...                  ...       ...         ...   \n",
       "57             1467.0               1393.0      60.0       134.0   \n",
       "58             1490.0               1408.0     137.0       219.0   \n",
       "59             1268.0               1254.0     218.0       232.0   \n",
       "60             1399.0               1346.0      86.0       139.0   \n",
       "61             1432.0               1531.0     -54.0      -153.0   \n",
       "\n",
       "    location_error  \n",
       "1            False  \n",
       "2            False  \n",
       "3            False  \n",
       "4            False  \n",
       "5            False  \n",
       "..             ...  \n",
       "57            True  \n",
       "58            True  \n",
       "59           False  \n",
       "60           False  \n",
       "61            True  \n",
       "\n",
       "[61 rows x 10 columns]"
      ]
     },
     "execution_count": 244,
     "metadata": {},
     "output_type": "execute_result"
    }
   ],
   "source": [
    "df_mortality_2"
   ]
  },
  {
   "cell_type": "code",
   "execution_count": 245,
   "id": "df58d4a2-f943-4911-b156-55d865959402",
   "metadata": {},
   "outputs": [
    {
     "name": "stdout",
     "output_type": "stream",
     "text": [
      "Коэффициент корреляции Пирсона: 0.62984\n",
      "Коэффициент корреляции Спирмана: 0.62984\n"
     ]
    }
   ],
   "source": [
    "# коэффициент корреляции Пирсона\n",
    "corr_pirson_locftion = (\n",
    "    df_mortality_2[[\"location\", \"location_predict\"]].corr().min()[0].round(5)\n",
    ")\n",
    "print(f\"Коэффициент корреляции Пирсона: {corr_pirson_locftion}\")\n",
    "# коэффициент корреляции Спирмана\n",
    "corr_spearman_locftion = (\n",
    "    df_mortality_2[[\"location\", \"location_predict\"]]\n",
    "    .corr(method=\"spearman\")\n",
    "    .min()[0]\n",
    "    .round(5)\n",
    ")\n",
    "print(f\"Коэффициент корреляции Спирмана: {corr_spearman_locftion}\")"
   ]
  },
  {
   "cell_type": "markdown",
   "id": "7e7ead9c-bb62-428f-946b-91d2d9cb1c2a",
   "metadata": {},
   "source": [
    "### Оценим долю ошибочных прогнозов, полученных с применением модели логистической регрессии, для каждой локации."
   ]
  },
  {
   "cell_type": "code",
   "execution_count": 246,
   "id": "91de6d0a-c2c3-4e23-990e-ab9b6c044748",
   "metadata": {},
   "outputs": [],
   "source": [
    "df_location_error = (\n",
    "    df_mortality_2.groupby([\"location\", \"location_error\"]).count().reset_index()\n",
    ")"
   ]
  },
  {
   "cell_type": "code",
   "execution_count": 247,
   "id": "1137dde0-36e7-4ca6-974a-419e27a69a98",
   "metadata": {},
   "outputs": [],
   "source": [
    "df_location_error = df_location_error[\n",
    "    [\"location\", \"location_error\", \"location_predict\"]\n",
    "].rename({\"location_predict\": \"count\"}, axis=1)"
   ]
  },
  {
   "cell_type": "code",
   "execution_count": 248,
   "id": "fb2ce101-4239-47f2-910d-82eda59afbbb",
   "metadata": {},
   "outputs": [
    {
     "name": "stdout",
     "output_type": "stream",
     "text": [
      "Доля неверных прогнозов для локации North: 0.14\n",
      "Доля неверных прогнозов для локации South: 0.23\n"
     ]
    }
   ],
   "source": [
    "df_result = pd.DataFrame()\n",
    "for location in df_location_error.location.unique():\n",
    "    loct = \"North\" if location == 0 else \"South\"\n",
    "    df_result = pd.DataFrame(\n",
    "        df_location_error[\n",
    "            (df_location_error.location == location)\n",
    "            & (df_location_error.location_error == True)\n",
    "        ][\"count\"]\n",
    "        / df_location_error[df_location_error.location == location][\"count\"].sum()\n",
    "    )\n",
    "    print(f\"Доля неверных прогнозов для локации {loct}: {df_result.sum()[0].round(2)}\")"
   ]
  },
  {
   "cell_type": "markdown",
   "id": "a2ee2073-eed4-4c54-91ec-8dbf9d4a9f7f",
   "metadata": {},
   "source": [
    "### На основании проведёного анализа можно сделать вывод о том, что выявленная зависимость между смертностью и жёсткостью воды присутствует как в северных, так и в южных городах."
   ]
  },
  {
   "cell_type": "code",
   "execution_count": 1,
   "id": "5b570631-8f3b-46f1-82a4-db43b421c704",
   "metadata": {},
   "outputs": [
    {
     "name": "stdout",
     "output_type": "stream",
     "text": [
      "Collecting sweetviz\n",
      "  Downloading sweetviz-2.1.4-py3-none-any.whl (15.1 MB)\n",
      "\u001b[2K     \u001b[90m━━━━━━━━━━━━━━━━━━━━━━━━━━━━━━━━━━━━━━━━\u001b[0m \u001b[32m15.1/15.1 MB\u001b[0m \u001b[31m3.9 MB/s\u001b[0m eta \u001b[36m0:00:00\u001b[0m00:01\u001b[0m00:01\u001b[0mm\n",
      "\u001b[?25hRequirement already satisfied: jinja2>=2.11.1 in /home/sk27/.config/jupyterlab-desktop/jlab_server/lib/python3.8/site-packages (from sweetviz) (3.1.2)\n",
      "Requirement already satisfied: importlib-resources>=1.2.0 in /home/sk27/.config/jupyterlab-desktop/jlab_server/lib/python3.8/site-packages (from sweetviz) (5.9.0)\n",
      "Requirement already satisfied: numpy>=1.16.0 in /home/sk27/.config/jupyterlab-desktop/jlab_server/lib/python3.8/site-packages (from sweetviz) (1.23.2)\n",
      "Requirement already satisfied: pandas!=1.0.0,!=1.0.1,!=1.0.2,>=0.25.3 in /home/sk27/.local/lib/python3.8/site-packages (from sweetviz) (1.3.0)\n",
      "Requirement already satisfied: scipy>=1.3.2 in /home/sk27/.config/jupyterlab-desktop/jlab_server/lib/python3.8/site-packages (from sweetviz) (1.9.1)\n",
      "Requirement already satisfied: tqdm>=4.43.0 in /home/sk27/.config/jupyterlab-desktop/jlab_server/lib/python3.8/site-packages (from sweetviz) (4.64.1)\n",
      "Requirement already satisfied: matplotlib>=3.1.3 in /home/sk27/.config/jupyterlab-desktop/jlab_server/lib/python3.8/site-packages (from sweetviz) (3.5.3)\n",
      "Requirement already satisfied: zipp>=3.1.0 in /home/sk27/.config/jupyterlab-desktop/jlab_server/lib/python3.8/site-packages (from importlib-resources>=1.2.0->sweetviz) (3.8.1)\n",
      "Requirement already satisfied: MarkupSafe>=2.0 in /home/sk27/.config/jupyterlab-desktop/jlab_server/lib/python3.8/site-packages (from jinja2>=2.11.1->sweetviz) (2.1.1)\n",
      "Requirement already satisfied: fonttools>=4.22.0 in /home/sk27/.config/jupyterlab-desktop/jlab_server/lib/python3.8/site-packages (from matplotlib>=3.1.3->sweetviz) (4.37.1)\n",
      "Requirement already satisfied: python-dateutil>=2.7 in /home/sk27/.config/jupyterlab-desktop/jlab_server/lib/python3.8/site-packages (from matplotlib>=3.1.3->sweetviz) (2.8.2)\n",
      "Requirement already satisfied: pyparsing>=2.2.1 in /home/sk27/.config/jupyterlab-desktop/jlab_server/lib/python3.8/site-packages (from matplotlib>=3.1.3->sweetviz) (3.0.9)\n",
      "Requirement already satisfied: cycler>=0.10 in /home/sk27/.config/jupyterlab-desktop/jlab_server/lib/python3.8/site-packages (from matplotlib>=3.1.3->sweetviz) (0.11.0)\n",
      "Requirement already satisfied: packaging>=20.0 in /home/sk27/.config/jupyterlab-desktop/jlab_server/lib/python3.8/site-packages (from matplotlib>=3.1.3->sweetviz) (21.3)\n",
      "Requirement already satisfied: pillow>=6.2.0 in /home/sk27/.config/jupyterlab-desktop/jlab_server/lib/python3.8/site-packages (from matplotlib>=3.1.3->sweetviz) (9.2.0)\n",
      "Requirement already satisfied: kiwisolver>=1.0.1 in /home/sk27/.config/jupyterlab-desktop/jlab_server/lib/python3.8/site-packages (from matplotlib>=3.1.3->sweetviz) (1.4.4)\n",
      "Requirement already satisfied: pytz>=2017.3 in /home/sk27/.config/jupyterlab-desktop/jlab_server/lib/python3.8/site-packages (from pandas!=1.0.0,!=1.0.1,!=1.0.2,>=0.25.3->sweetviz) (2022.2.1)\n",
      "Requirement already satisfied: six>=1.5 in /home/sk27/.config/jupyterlab-desktop/jlab_server/lib/python3.8/site-packages (from python-dateutil>=2.7->matplotlib>=3.1.3->sweetviz) (1.16.0)\n",
      "Installing collected packages: sweetviz\n",
      "Successfully installed sweetviz-2.1.4\n"
     ]
    }
   ],
   "source": [
    "!pip install sweetviz"
   ]
  },
  {
   "cell_type": "code",
   "execution_count": null,
   "id": "c110cb9c-cd7b-4b03-af1c-b15034a22a01",
   "metadata": {},
   "outputs": [],
   "source": []
  }
 ],
 "metadata": {
  "kernelspec": {
   "display_name": "Python 3 (ipykernel)",
   "language": "python",
   "name": "python3"
  },
  "language_info": {
   "codemirror_mode": {
    "name": "ipython",
    "version": 3
   },
   "file_extension": ".py",
   "mimetype": "text/x-python",
   "name": "python",
   "nbconvert_exporter": "python",
   "pygments_lexer": "ipython3",
   "version": "3.8.13"
  },
  "widgets": {
   "application/vnd.jupyter.widget-state+json": {
    "state": {},
    "version_major": 2,
    "version_minor": 0
   }
  }
 },
 "nbformat": 4,
 "nbformat_minor": 5
}
