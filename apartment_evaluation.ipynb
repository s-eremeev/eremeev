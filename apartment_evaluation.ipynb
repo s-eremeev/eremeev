{
 "cells": [
  {
   "cell_type": "markdown",
   "metadata": {
    "id": "JsYHMFD1VJ3V"
   },
   "source": [
    "# Прогноз стоимости квартиры моих знакомых из г. Петропавловска-Камчатского"
   ]
  },
  {
   "cell_type": "markdown",
   "metadata": {
    "id": "VppuD-6-VRPJ"
   },
   "source": [
    "загружаем необходимые библиотеки"
   ]
  },
  {
   "cell_type": "code",
   "execution_count": 1,
   "metadata": {
    "id": "fBSwLD3cTLJH"
   },
   "outputs": [],
   "source": [
    "import pandas as pd\n",
    "from sklearn.linear_model import LinearRegression\n",
    "from sklearn.model_selection import train_test_split\n",
    "from sklearn.metrics import mean_squared_error"
   ]
  },
  {
   "cell_type": "markdown",
   "metadata": {
    "id": "r9boKzHrVafV"
   },
   "source": [
    "## Исходные данные:\n",
    "### из базы Циан получена информация о находящихся в продаже квартирах (вторичный рынок) в Петропавловске-Камчатском и в близлежащих населённых пунктах - Дальнем, Нагорном, и т.п.\n",
    "Объявления сгруппированы по территориальному признаку, оказывающими влияние на цену картиры и отнесены к одному из 15 районов: центр, ул. Чубарова с окрестностями, населённые пункты Петропавловск-Камчтского городского округа, Горизонт, КП, Моховая (включая 10-11 км), ул. Океанская, населёные пункты Елизовского района, ул. Рябикова с окрестностями, Северо-Восток, Серголазка (от КП до Космонавтов и Фестивальной), СРВ-ЖБФ, ул. Солнечная с окрестностями, мкр Завойко, ул. Зеркальная, ул. Владивостокская с окрестностями (от ост. УВД до 5 километра примерно).\n",
    "\n",
    "Также к значимым признакам отнесено количество комнат, общая площадьквартиры, этаж, на котром находится квартира и общее количество этажей в доме, тип сделки (свободная/альтернативная), возможность ипотеки, наличие ремонта (полный, косметический), наличие и количество балконов и лоджий, количество и тип (совмещённый/раздельный) санузлов, наличие стационального телефона.\n",
    "\n",
    "В базе Циан отсутствует информация о годе постройки домов и материале стен, к сожалению."
   ]
  },
  {
   "cell_type": "code",
   "execution_count": 2,
   "metadata": {
    "id": "lbh9pStcVZRX"
   },
   "outputs": [],
   "source": [
    "df = pd.read_csv(r'https://docs.google.com/spreadsheets/d/e/2PACX-1vRlV_-keB5GeDNU8M_ijQeMGokUqLnyiAm7Yh0XygD7ddn_6Kx5d0wn16ooLG2UBNx3Ui3lzUKU1tGn/pub?gid=1057764682&single=true&output=csv', sep = ',').drop(columns = ['id'], axis = 1)\n"
   ]
  },
  {
   "cell_type": "code",
   "execution_count": 3,
   "metadata": {
    "colab": {
     "base_uri": "https://localhost:8080/",
     "height": 424
    },
    "id": "iGcc4DvPVf9o",
    "outputId": "7a5792b8-6646-42b7-c674-85d01f92ba11"
   },
   "outputs": [
    {
     "data": {
      "text/html": [
       "<div>\n",
       "<style scoped>\n",
       "    .dataframe tbody tr th:only-of-type {\n",
       "        vertical-align: middle;\n",
       "    }\n",
       "\n",
       "    .dataframe tbody tr th {\n",
       "        vertical-align: top;\n",
       "    }\n",
       "\n",
       "    .dataframe thead th {\n",
       "        text-align: right;\n",
       "    }\n",
       "</style>\n",
       "<table border=\"1\" class=\"dataframe\">\n",
       "  <thead>\n",
       "    <tr style=\"text-align: right;\">\n",
       "      <th></th>\n",
       "      <th>cen</th>\n",
       "      <th>chu</th>\n",
       "      <th>dal</th>\n",
       "      <th>gor</th>\n",
       "      <th>kpl</th>\n",
       "      <th>moh</th>\n",
       "      <th>oke</th>\n",
       "      <th>pri</th>\n",
       "      <th>ryb</th>\n",
       "      <th>s_v</th>\n",
       "      <th>...</th>\n",
       "      <th>free</th>\n",
       "      <th>alt</th>\n",
       "      <th>mort</th>\n",
       "      <th>ren_full</th>\n",
       "      <th>ren_cosm</th>\n",
       "      <th>balcony</th>\n",
       "      <th>loggia</th>\n",
       "      <th>wc</th>\n",
       "      <th>wc_sep</th>\n",
       "      <th>tel</th>\n",
       "    </tr>\n",
       "  </thead>\n",
       "  <tbody>\n",
       "    <tr>\n",
       "      <th>0</th>\n",
       "      <td>0</td>\n",
       "      <td>0</td>\n",
       "      <td>0</td>\n",
       "      <td>1</td>\n",
       "      <td>0</td>\n",
       "      <td>0</td>\n",
       "      <td>0</td>\n",
       "      <td>0</td>\n",
       "      <td>0</td>\n",
       "      <td>0</td>\n",
       "      <td>...</td>\n",
       "      <td>1</td>\n",
       "      <td>0</td>\n",
       "      <td>0</td>\n",
       "      <td>0</td>\n",
       "      <td>0</td>\n",
       "      <td>0</td>\n",
       "      <td>0</td>\n",
       "      <td>0</td>\n",
       "      <td>1</td>\n",
       "      <td>1</td>\n",
       "    </tr>\n",
       "    <tr>\n",
       "      <th>1</th>\n",
       "      <td>0</td>\n",
       "      <td>0</td>\n",
       "      <td>0</td>\n",
       "      <td>1</td>\n",
       "      <td>0</td>\n",
       "      <td>0</td>\n",
       "      <td>0</td>\n",
       "      <td>0</td>\n",
       "      <td>0</td>\n",
       "      <td>0</td>\n",
       "      <td>...</td>\n",
       "      <td>1</td>\n",
       "      <td>0</td>\n",
       "      <td>0</td>\n",
       "      <td>0</td>\n",
       "      <td>1</td>\n",
       "      <td>0</td>\n",
       "      <td>0</td>\n",
       "      <td>0</td>\n",
       "      <td>1</td>\n",
       "      <td>1</td>\n",
       "    </tr>\n",
       "    <tr>\n",
       "      <th>2</th>\n",
       "      <td>0</td>\n",
       "      <td>0</td>\n",
       "      <td>0</td>\n",
       "      <td>1</td>\n",
       "      <td>0</td>\n",
       "      <td>0</td>\n",
       "      <td>0</td>\n",
       "      <td>0</td>\n",
       "      <td>0</td>\n",
       "      <td>0</td>\n",
       "      <td>...</td>\n",
       "      <td>1</td>\n",
       "      <td>0</td>\n",
       "      <td>0</td>\n",
       "      <td>0</td>\n",
       "      <td>0</td>\n",
       "      <td>1</td>\n",
       "      <td>0</td>\n",
       "      <td>1</td>\n",
       "      <td>0</td>\n",
       "      <td>1</td>\n",
       "    </tr>\n",
       "    <tr>\n",
       "      <th>3</th>\n",
       "      <td>0</td>\n",
       "      <td>0</td>\n",
       "      <td>0</td>\n",
       "      <td>1</td>\n",
       "      <td>0</td>\n",
       "      <td>0</td>\n",
       "      <td>0</td>\n",
       "      <td>0</td>\n",
       "      <td>0</td>\n",
       "      <td>0</td>\n",
       "      <td>...</td>\n",
       "      <td>1</td>\n",
       "      <td>0</td>\n",
       "      <td>0</td>\n",
       "      <td>0</td>\n",
       "      <td>0</td>\n",
       "      <td>0</td>\n",
       "      <td>0</td>\n",
       "      <td>0</td>\n",
       "      <td>1</td>\n",
       "      <td>1</td>\n",
       "    </tr>\n",
       "    <tr>\n",
       "      <th>4</th>\n",
       "      <td>0</td>\n",
       "      <td>0</td>\n",
       "      <td>0</td>\n",
       "      <td>1</td>\n",
       "      <td>0</td>\n",
       "      <td>0</td>\n",
       "      <td>0</td>\n",
       "      <td>0</td>\n",
       "      <td>0</td>\n",
       "      <td>0</td>\n",
       "      <td>...</td>\n",
       "      <td>1</td>\n",
       "      <td>0</td>\n",
       "      <td>0</td>\n",
       "      <td>0</td>\n",
       "      <td>1</td>\n",
       "      <td>1</td>\n",
       "      <td>0</td>\n",
       "      <td>0</td>\n",
       "      <td>1</td>\n",
       "      <td>1</td>\n",
       "    </tr>\n",
       "    <tr>\n",
       "      <th>...</th>\n",
       "      <td>...</td>\n",
       "      <td>...</td>\n",
       "      <td>...</td>\n",
       "      <td>...</td>\n",
       "      <td>...</td>\n",
       "      <td>...</td>\n",
       "      <td>...</td>\n",
       "      <td>...</td>\n",
       "      <td>...</td>\n",
       "      <td>...</td>\n",
       "      <td>...</td>\n",
       "      <td>...</td>\n",
       "      <td>...</td>\n",
       "      <td>...</td>\n",
       "      <td>...</td>\n",
       "      <td>...</td>\n",
       "      <td>...</td>\n",
       "      <td>...</td>\n",
       "      <td>...</td>\n",
       "      <td>...</td>\n",
       "      <td>...</td>\n",
       "    </tr>\n",
       "    <tr>\n",
       "      <th>425</th>\n",
       "      <td>0</td>\n",
       "      <td>1</td>\n",
       "      <td>0</td>\n",
       "      <td>0</td>\n",
       "      <td>0</td>\n",
       "      <td>0</td>\n",
       "      <td>0</td>\n",
       "      <td>0</td>\n",
       "      <td>0</td>\n",
       "      <td>0</td>\n",
       "      <td>...</td>\n",
       "      <td>1</td>\n",
       "      <td>0</td>\n",
       "      <td>1</td>\n",
       "      <td>1</td>\n",
       "      <td>0</td>\n",
       "      <td>0</td>\n",
       "      <td>0</td>\n",
       "      <td>1</td>\n",
       "      <td>0</td>\n",
       "      <td>1</td>\n",
       "    </tr>\n",
       "    <tr>\n",
       "      <th>426</th>\n",
       "      <td>0</td>\n",
       "      <td>1</td>\n",
       "      <td>0</td>\n",
       "      <td>0</td>\n",
       "      <td>0</td>\n",
       "      <td>0</td>\n",
       "      <td>0</td>\n",
       "      <td>0</td>\n",
       "      <td>0</td>\n",
       "      <td>0</td>\n",
       "      <td>...</td>\n",
       "      <td>1</td>\n",
       "      <td>0</td>\n",
       "      <td>1</td>\n",
       "      <td>1</td>\n",
       "      <td>0</td>\n",
       "      <td>1</td>\n",
       "      <td>0</td>\n",
       "      <td>1</td>\n",
       "      <td>0</td>\n",
       "      <td>0</td>\n",
       "    </tr>\n",
       "    <tr>\n",
       "      <th>427</th>\n",
       "      <td>0</td>\n",
       "      <td>1</td>\n",
       "      <td>0</td>\n",
       "      <td>0</td>\n",
       "      <td>0</td>\n",
       "      <td>0</td>\n",
       "      <td>0</td>\n",
       "      <td>0</td>\n",
       "      <td>0</td>\n",
       "      <td>0</td>\n",
       "      <td>...</td>\n",
       "      <td>1</td>\n",
       "      <td>0</td>\n",
       "      <td>1</td>\n",
       "      <td>0</td>\n",
       "      <td>1</td>\n",
       "      <td>1</td>\n",
       "      <td>0</td>\n",
       "      <td>1</td>\n",
       "      <td>0</td>\n",
       "      <td>0</td>\n",
       "    </tr>\n",
       "    <tr>\n",
       "      <th>428</th>\n",
       "      <td>0</td>\n",
       "      <td>1</td>\n",
       "      <td>0</td>\n",
       "      <td>0</td>\n",
       "      <td>0</td>\n",
       "      <td>0</td>\n",
       "      <td>0</td>\n",
       "      <td>0</td>\n",
       "      <td>0</td>\n",
       "      <td>0</td>\n",
       "      <td>...</td>\n",
       "      <td>1</td>\n",
       "      <td>0</td>\n",
       "      <td>1</td>\n",
       "      <td>0</td>\n",
       "      <td>1</td>\n",
       "      <td>1</td>\n",
       "      <td>1</td>\n",
       "      <td>0</td>\n",
       "      <td>1</td>\n",
       "      <td>0</td>\n",
       "    </tr>\n",
       "    <tr>\n",
       "      <th>429</th>\n",
       "      <td>0</td>\n",
       "      <td>1</td>\n",
       "      <td>0</td>\n",
       "      <td>0</td>\n",
       "      <td>0</td>\n",
       "      <td>0</td>\n",
       "      <td>0</td>\n",
       "      <td>0</td>\n",
       "      <td>0</td>\n",
       "      <td>0</td>\n",
       "      <td>...</td>\n",
       "      <td>1</td>\n",
       "      <td>0</td>\n",
       "      <td>1</td>\n",
       "      <td>0</td>\n",
       "      <td>1</td>\n",
       "      <td>0</td>\n",
       "      <td>0</td>\n",
       "      <td>1</td>\n",
       "      <td>0</td>\n",
       "      <td>0</td>\n",
       "    </tr>\n",
       "  </tbody>\n",
       "</table>\n",
       "<p>430 rows × 30 columns</p>\n",
       "</div>"
      ],
      "text/plain": [
       "     cen  chu  dal  gor  kpl  moh  oke  pri  ryb  s_v  ...  free  alt  mort  \\\n",
       "0      0    0    0    1    0    0    0    0    0    0  ...     1    0     0   \n",
       "1      0    0    0    1    0    0    0    0    0    0  ...     1    0     0   \n",
       "2      0    0    0    1    0    0    0    0    0    0  ...     1    0     0   \n",
       "3      0    0    0    1    0    0    0    0    0    0  ...     1    0     0   \n",
       "4      0    0    0    1    0    0    0    0    0    0  ...     1    0     0   \n",
       "..   ...  ...  ...  ...  ...  ...  ...  ...  ...  ...  ...   ...  ...   ...   \n",
       "425    0    1    0    0    0    0    0    0    0    0  ...     1    0     1   \n",
       "426    0    1    0    0    0    0    0    0    0    0  ...     1    0     1   \n",
       "427    0    1    0    0    0    0    0    0    0    0  ...     1    0     1   \n",
       "428    0    1    0    0    0    0    0    0    0    0  ...     1    0     1   \n",
       "429    0    1    0    0    0    0    0    0    0    0  ...     1    0     1   \n",
       "\n",
       "     ren_full  ren_cosm  balcony  loggia  wc  wc_sep  tel  \n",
       "0           0         0        0       0   0       1    1  \n",
       "1           0         1        0       0   0       1    1  \n",
       "2           0         0        1       0   1       0    1  \n",
       "3           0         0        0       0   0       1    1  \n",
       "4           0         1        1       0   0       1    1  \n",
       "..        ...       ...      ...     ...  ..     ...  ...  \n",
       "425         1         0        0       0   1       0    1  \n",
       "426         1         0        1       0   1       0    0  \n",
       "427         0         1        1       0   1       0    0  \n",
       "428         0         1        1       1   0       1    0  \n",
       "429         0         1        0       0   1       0    0  \n",
       "\n",
       "[430 rows x 30 columns]"
      ]
     },
     "execution_count": 3,
     "metadata": {},
     "output_type": "execute_result"
    }
   ],
   "source": [
    "df"
   ]
  },
  {
   "cell_type": "markdown",
   "metadata": {
    "id": "-pzxLlvWWZ-S"
   },
   "source": [
    "## Смотрим статистику, что нет пропусков и отсуствующих значений"
   ]
  },
  {
   "cell_type": "code",
   "execution_count": 4,
   "metadata": {
    "colab": {
     "base_uri": "https://localhost:8080/"
    },
    "id": "l8q8x0y8197G",
    "outputId": "8932b021-7b38-4b3b-9b43-6a5ae6723a18"
   },
   "outputs": [
    {
     "name": "stdout",
     "output_type": "stream",
     "text": [
      "<class 'pandas.core.frame.DataFrame'>\n",
      "RangeIndex: 430 entries, 0 to 429\n",
      "Data columns (total 30 columns):\n",
      " #   Column    Non-Null Count  Dtype  \n",
      "---  ------    --------------  -----  \n",
      " 0   cen       430 non-null    int64  \n",
      " 1   chu       430 non-null    int64  \n",
      " 2   dal       430 non-null    int64  \n",
      " 3   gor       430 non-null    int64  \n",
      " 4   kpl       430 non-null    int64  \n",
      " 5   moh       430 non-null    int64  \n",
      " 6   oke       430 non-null    int64  \n",
      " 7   pri       430 non-null    int64  \n",
      " 8   ryb       430 non-null    int64  \n",
      " 9   s_v       430 non-null    int64  \n",
      " 10  ser       430 non-null    int64  \n",
      " 11  srv       430 non-null    int64  \n",
      " 12  sun       430 non-null    int64  \n",
      " 13  zav       430 non-null    int64  \n",
      " 14  zer       430 non-null    int64  \n",
      " 15  rooms     430 non-null    int64  \n",
      " 16  squ       430 non-null    float64\n",
      " 17  fl_a      430 non-null    int64  \n",
      " 18  fl_h      430 non-null    int64  \n",
      " 19  price     430 non-null    float64\n",
      " 20  free      430 non-null    int64  \n",
      " 21  alt       430 non-null    int64  \n",
      " 22  mort      430 non-null    int64  \n",
      " 23  ren_full  430 non-null    int64  \n",
      " 24  ren_cosm  430 non-null    int64  \n",
      " 25  balcony   430 non-null    int64  \n",
      " 26  loggia    430 non-null    int64  \n",
      " 27  wc        430 non-null    int64  \n",
      " 28  wc_sep    430 non-null    int64  \n",
      " 29  tel       430 non-null    int64  \n",
      "dtypes: float64(2), int64(28)\n",
      "memory usage: 100.9 KB\n"
     ]
    }
   ],
   "source": [
    "df.info()"
   ]
  },
  {
   "cell_type": "code",
   "execution_count": 5,
   "metadata": {
    "colab": {
     "base_uri": "https://localhost:8080/",
     "height": 364
    },
    "id": "qR07UV-sVgi7",
    "outputId": "bd5e034c-05eb-40b2-e398-14cefd338fd0"
   },
   "outputs": [
    {
     "data": {
      "text/html": [
       "<div>\n",
       "<style scoped>\n",
       "    .dataframe tbody tr th:only-of-type {\n",
       "        vertical-align: middle;\n",
       "    }\n",
       "\n",
       "    .dataframe tbody tr th {\n",
       "        vertical-align: top;\n",
       "    }\n",
       "\n",
       "    .dataframe thead th {\n",
       "        text-align: right;\n",
       "    }\n",
       "</style>\n",
       "<table border=\"1\" class=\"dataframe\">\n",
       "  <thead>\n",
       "    <tr style=\"text-align: right;\">\n",
       "      <th></th>\n",
       "      <th>cen</th>\n",
       "      <th>chu</th>\n",
       "      <th>dal</th>\n",
       "      <th>gor</th>\n",
       "      <th>kpl</th>\n",
       "      <th>moh</th>\n",
       "      <th>oke</th>\n",
       "      <th>pri</th>\n",
       "      <th>ryb</th>\n",
       "      <th>s_v</th>\n",
       "      <th>...</th>\n",
       "      <th>free</th>\n",
       "      <th>alt</th>\n",
       "      <th>mort</th>\n",
       "      <th>ren_full</th>\n",
       "      <th>ren_cosm</th>\n",
       "      <th>balcony</th>\n",
       "      <th>loggia</th>\n",
       "      <th>wc</th>\n",
       "      <th>wc_sep</th>\n",
       "      <th>tel</th>\n",
       "    </tr>\n",
       "  </thead>\n",
       "  <tbody>\n",
       "    <tr>\n",
       "      <th>count</th>\n",
       "      <td>430.000000</td>\n",
       "      <td>430.000000</td>\n",
       "      <td>430.000000</td>\n",
       "      <td>430.000000</td>\n",
       "      <td>430.000000</td>\n",
       "      <td>430.000000</td>\n",
       "      <td>430.000000</td>\n",
       "      <td>430.000000</td>\n",
       "      <td>430.000000</td>\n",
       "      <td>430.000000</td>\n",
       "      <td>...</td>\n",
       "      <td>430.000000</td>\n",
       "      <td>430.000000</td>\n",
       "      <td>430.000000</td>\n",
       "      <td>430.000000</td>\n",
       "      <td>430.000000</td>\n",
       "      <td>430.000000</td>\n",
       "      <td>430.000000</td>\n",
       "      <td>430.000000</td>\n",
       "      <td>430.000000</td>\n",
       "      <td>430.000000</td>\n",
       "    </tr>\n",
       "    <tr>\n",
       "      <th>mean</th>\n",
       "      <td>0.127907</td>\n",
       "      <td>0.053488</td>\n",
       "      <td>0.027907</td>\n",
       "      <td>0.120930</td>\n",
       "      <td>0.037209</td>\n",
       "      <td>0.072093</td>\n",
       "      <td>0.055814</td>\n",
       "      <td>0.030233</td>\n",
       "      <td>0.030233</td>\n",
       "      <td>0.097674</td>\n",
       "      <td>...</td>\n",
       "      <td>0.981395</td>\n",
       "      <td>0.018605</td>\n",
       "      <td>0.383721</td>\n",
       "      <td>0.141860</td>\n",
       "      <td>0.555814</td>\n",
       "      <td>0.537209</td>\n",
       "      <td>0.062791</td>\n",
       "      <td>0.604651</td>\n",
       "      <td>0.481395</td>\n",
       "      <td>0.355814</td>\n",
       "    </tr>\n",
       "    <tr>\n",
       "      <th>std</th>\n",
       "      <td>0.334375</td>\n",
       "      <td>0.225267</td>\n",
       "      <td>0.164898</td>\n",
       "      <td>0.326426</td>\n",
       "      <td>0.189495</td>\n",
       "      <td>0.258943</td>\n",
       "      <td>0.229829</td>\n",
       "      <td>0.171426</td>\n",
       "      <td>0.171426</td>\n",
       "      <td>0.297220</td>\n",
       "      <td>...</td>\n",
       "      <td>0.135281</td>\n",
       "      <td>0.135281</td>\n",
       "      <td>0.486858</td>\n",
       "      <td>0.349313</td>\n",
       "      <td>0.497454</td>\n",
       "      <td>0.543889</td>\n",
       "      <td>0.302687</td>\n",
       "      <td>0.512753</td>\n",
       "      <td>0.609465</td>\n",
       "      <td>0.479317</td>\n",
       "    </tr>\n",
       "    <tr>\n",
       "      <th>min</th>\n",
       "      <td>0.000000</td>\n",
       "      <td>0.000000</td>\n",
       "      <td>0.000000</td>\n",
       "      <td>0.000000</td>\n",
       "      <td>0.000000</td>\n",
       "      <td>0.000000</td>\n",
       "      <td>0.000000</td>\n",
       "      <td>0.000000</td>\n",
       "      <td>0.000000</td>\n",
       "      <td>0.000000</td>\n",
       "      <td>...</td>\n",
       "      <td>0.000000</td>\n",
       "      <td>0.000000</td>\n",
       "      <td>0.000000</td>\n",
       "      <td>0.000000</td>\n",
       "      <td>0.000000</td>\n",
       "      <td>0.000000</td>\n",
       "      <td>0.000000</td>\n",
       "      <td>0.000000</td>\n",
       "      <td>0.000000</td>\n",
       "      <td>0.000000</td>\n",
       "    </tr>\n",
       "    <tr>\n",
       "      <th>25%</th>\n",
       "      <td>0.000000</td>\n",
       "      <td>0.000000</td>\n",
       "      <td>0.000000</td>\n",
       "      <td>0.000000</td>\n",
       "      <td>0.000000</td>\n",
       "      <td>0.000000</td>\n",
       "      <td>0.000000</td>\n",
       "      <td>0.000000</td>\n",
       "      <td>0.000000</td>\n",
       "      <td>0.000000</td>\n",
       "      <td>...</td>\n",
       "      <td>1.000000</td>\n",
       "      <td>0.000000</td>\n",
       "      <td>0.000000</td>\n",
       "      <td>0.000000</td>\n",
       "      <td>0.000000</td>\n",
       "      <td>0.000000</td>\n",
       "      <td>0.000000</td>\n",
       "      <td>0.000000</td>\n",
       "      <td>0.000000</td>\n",
       "      <td>0.000000</td>\n",
       "    </tr>\n",
       "    <tr>\n",
       "      <th>50%</th>\n",
       "      <td>0.000000</td>\n",
       "      <td>0.000000</td>\n",
       "      <td>0.000000</td>\n",
       "      <td>0.000000</td>\n",
       "      <td>0.000000</td>\n",
       "      <td>0.000000</td>\n",
       "      <td>0.000000</td>\n",
       "      <td>0.000000</td>\n",
       "      <td>0.000000</td>\n",
       "      <td>0.000000</td>\n",
       "      <td>...</td>\n",
       "      <td>1.000000</td>\n",
       "      <td>0.000000</td>\n",
       "      <td>0.000000</td>\n",
       "      <td>0.000000</td>\n",
       "      <td>1.000000</td>\n",
       "      <td>1.000000</td>\n",
       "      <td>0.000000</td>\n",
       "      <td>1.000000</td>\n",
       "      <td>0.000000</td>\n",
       "      <td>0.000000</td>\n",
       "    </tr>\n",
       "    <tr>\n",
       "      <th>75%</th>\n",
       "      <td>0.000000</td>\n",
       "      <td>0.000000</td>\n",
       "      <td>0.000000</td>\n",
       "      <td>0.000000</td>\n",
       "      <td>0.000000</td>\n",
       "      <td>0.000000</td>\n",
       "      <td>0.000000</td>\n",
       "      <td>0.000000</td>\n",
       "      <td>0.000000</td>\n",
       "      <td>0.000000</td>\n",
       "      <td>...</td>\n",
       "      <td>1.000000</td>\n",
       "      <td>0.000000</td>\n",
       "      <td>1.000000</td>\n",
       "      <td>0.000000</td>\n",
       "      <td>1.000000</td>\n",
       "      <td>1.000000</td>\n",
       "      <td>0.000000</td>\n",
       "      <td>1.000000</td>\n",
       "      <td>1.000000</td>\n",
       "      <td>1.000000</td>\n",
       "    </tr>\n",
       "    <tr>\n",
       "      <th>max</th>\n",
       "      <td>1.000000</td>\n",
       "      <td>1.000000</td>\n",
       "      <td>1.000000</td>\n",
       "      <td>1.000000</td>\n",
       "      <td>1.000000</td>\n",
       "      <td>1.000000</td>\n",
       "      <td>1.000000</td>\n",
       "      <td>1.000000</td>\n",
       "      <td>1.000000</td>\n",
       "      <td>1.000000</td>\n",
       "      <td>...</td>\n",
       "      <td>1.000000</td>\n",
       "      <td>1.000000</td>\n",
       "      <td>1.000000</td>\n",
       "      <td>1.000000</td>\n",
       "      <td>1.000000</td>\n",
       "      <td>3.000000</td>\n",
       "      <td>4.000000</td>\n",
       "      <td>2.000000</td>\n",
       "      <td>4.000000</td>\n",
       "      <td>1.000000</td>\n",
       "    </tr>\n",
       "  </tbody>\n",
       "</table>\n",
       "<p>8 rows × 30 columns</p>\n",
       "</div>"
      ],
      "text/plain": [
       "              cen         chu         dal         gor         kpl         moh  \\\n",
       "count  430.000000  430.000000  430.000000  430.000000  430.000000  430.000000   \n",
       "mean     0.127907    0.053488    0.027907    0.120930    0.037209    0.072093   \n",
       "std      0.334375    0.225267    0.164898    0.326426    0.189495    0.258943   \n",
       "min      0.000000    0.000000    0.000000    0.000000    0.000000    0.000000   \n",
       "25%      0.000000    0.000000    0.000000    0.000000    0.000000    0.000000   \n",
       "50%      0.000000    0.000000    0.000000    0.000000    0.000000    0.000000   \n",
       "75%      0.000000    0.000000    0.000000    0.000000    0.000000    0.000000   \n",
       "max      1.000000    1.000000    1.000000    1.000000    1.000000    1.000000   \n",
       "\n",
       "              oke         pri         ryb         s_v  ...        free  \\\n",
       "count  430.000000  430.000000  430.000000  430.000000  ...  430.000000   \n",
       "mean     0.055814    0.030233    0.030233    0.097674  ...    0.981395   \n",
       "std      0.229829    0.171426    0.171426    0.297220  ...    0.135281   \n",
       "min      0.000000    0.000000    0.000000    0.000000  ...    0.000000   \n",
       "25%      0.000000    0.000000    0.000000    0.000000  ...    1.000000   \n",
       "50%      0.000000    0.000000    0.000000    0.000000  ...    1.000000   \n",
       "75%      0.000000    0.000000    0.000000    0.000000  ...    1.000000   \n",
       "max      1.000000    1.000000    1.000000    1.000000  ...    1.000000   \n",
       "\n",
       "              alt        mort    ren_full    ren_cosm     balcony      loggia  \\\n",
       "count  430.000000  430.000000  430.000000  430.000000  430.000000  430.000000   \n",
       "mean     0.018605    0.383721    0.141860    0.555814    0.537209    0.062791   \n",
       "std      0.135281    0.486858    0.349313    0.497454    0.543889    0.302687   \n",
       "min      0.000000    0.000000    0.000000    0.000000    0.000000    0.000000   \n",
       "25%      0.000000    0.000000    0.000000    0.000000    0.000000    0.000000   \n",
       "50%      0.000000    0.000000    0.000000    1.000000    1.000000    0.000000   \n",
       "75%      0.000000    1.000000    0.000000    1.000000    1.000000    0.000000   \n",
       "max      1.000000    1.000000    1.000000    1.000000    3.000000    4.000000   \n",
       "\n",
       "               wc      wc_sep         tel  \n",
       "count  430.000000  430.000000  430.000000  \n",
       "mean     0.604651    0.481395    0.355814  \n",
       "std      0.512753    0.609465    0.479317  \n",
       "min      0.000000    0.000000    0.000000  \n",
       "25%      0.000000    0.000000    0.000000  \n",
       "50%      1.000000    0.000000    0.000000  \n",
       "75%      1.000000    1.000000    1.000000  \n",
       "max      2.000000    4.000000    1.000000  \n",
       "\n",
       "[8 rows x 30 columns]"
      ]
     },
     "execution_count": 5,
     "metadata": {},
     "output_type": "execute_result"
    }
   ],
   "source": [
    "df.describe()"
   ]
  },
  {
   "cell_type": "markdown",
   "metadata": {
    "id": "kIeBuYJTWv6Q"
   },
   "source": [
    "## Формируем признаки и целевую переменную"
   ]
  },
  {
   "cell_type": "code",
   "execution_count": 6,
   "metadata": {
    "id": "dFHL5omIWzur"
   },
   "outputs": [],
   "source": [
    "X = df[['cen', 'chu', 'dal', 'gor', 'kpl', 'moh', 'oke', 'pri', 'ryb', 's_v', 'ser', 'srv', 'sun', 'zav', 'zer',\t'rooms',\t'squ',\t'fl_a',\t'fl_h', 'free',\t'alt',\t'mort',\t'ren_full',\t'ren_cosm',\t'balcony',\t'loggia',\t'wc',\t'wc_sep',\t'tel']]\n",
    "y = df['price']"
   ]
  },
  {
   "cell_type": "markdown",
   "metadata": {
    "id": "IdWsgcmeWgb5"
   },
   "source": [
    "## Разделяем данные на выборку для обучения/проверки"
   ]
  },
  {
   "cell_type": "code",
   "execution_count": 7,
   "metadata": {
    "id": "BSLwWV8ZWexo"
   },
   "outputs": [],
   "source": [
    "X_train, X_test, y_train, y_test = train_test_split(X, y, test_size=0.2)"
   ]
  },
  {
   "cell_type": "markdown",
   "metadata": {
    "id": "DqSI5M-UW9-K"
   },
   "source": [
    "## Создаем и обучаем модель линейной регресии"
   ]
  },
  {
   "cell_type": "code",
   "execution_count": 8,
   "metadata": {
    "id": "rcFwyjbOW8ep"
   },
   "outputs": [],
   "source": [
    "lr = LinearRegression()"
   ]
  },
  {
   "cell_type": "code",
   "execution_count": 9,
   "metadata": {
    "colab": {
     "base_uri": "https://localhost:8080/"
    },
    "id": "VlQF4MIzVJka",
    "outputId": "048bdc7e-5be4-4a3f-a618-a1dfae2f5644"
   },
   "outputs": [
    {
     "data": {
      "text/plain": [
       "LinearRegression()"
      ]
     },
     "execution_count": 9,
     "metadata": {},
     "output_type": "execute_result"
    }
   ],
   "source": [
    "lr.fit(X_train, y_train)"
   ]
  },
  {
   "cell_type": "code",
   "execution_count": 10,
   "metadata": {
    "colab": {
     "base_uri": "https://localhost:8080/"
    },
    "id": "OGFElgDPVUNr",
    "outputId": "936b827e-ff6b-460a-f8ae-631f4f16b8dc"
   },
   "outputs": [
    {
     "data": {
      "text/plain": [
       "array([ 1401251.66121935,  1091849.86943074, -1732763.12734504,\n",
       "         586942.60545683,   532058.6919797 ,   772924.2846788 ,\n",
       "        -443706.34055222,    16745.8307728 , -1008526.23980808,\n",
       "        1653185.76378755,   417053.19050623,  -918181.81579168,\n",
       "        -430033.24384308, -2397114.70937194,   458313.57888001,\n",
       "          23197.21931477,   101454.06224448,    62222.33699735,\n",
       "         182242.31477091,   243629.39068628,  -243629.39068628,\n",
       "         139385.25256559,  1433811.13170885,   594660.63986547,\n",
       "         193660.70612229,   512907.77240975,   514618.07218251,\n",
       "         415615.86920591,  -215890.63668241])"
      ]
     },
     "execution_count": 10,
     "metadata": {},
     "output_type": "execute_result"
    }
   ],
   "source": [
    "lr.coef_"
   ]
  },
  {
   "cell_type": "markdown",
   "metadata": {
    "id": "BodvxJhTXGCE"
   },
   "source": [
    "## Получаем предсказание и оцениваем качество"
   ]
  },
  {
   "cell_type": "code",
   "execution_count": 11,
   "metadata": {
    "colab": {
     "base_uri": "https://localhost:8080/"
    },
    "id": "j4nP_m7rXDZG",
    "outputId": "f2b0eda4-33e7-46a4-c8fd-caf8e5bbd33c"
   },
   "outputs": [
    {
     "data": {
      "text/plain": [
       "array([ 6539060.247138  ,  5235991.89051982,  3961225.5978828 ,\n",
       "        6292416.16482496,  7677693.28819862,  7490270.55438017,\n",
       "        5988003.20758925,  6535507.71832247,  6415085.17139758,\n",
       "        6948036.21542237,  2911481.46059982,  4518227.81124508,\n",
       "        3926480.88611995,  3529927.58389895,  6710066.96332316,\n",
       "        4101100.03052929,  5833702.27729722,  8401379.0197112 ,\n",
       "        7330002.10556055,  6170708.91001828,  7088929.76265663,\n",
       "        5145684.9084689 ,  4145191.96280436,  4586005.644131  ,\n",
       "        3119337.27189854,  5506744.74587128,  6271416.05595229,\n",
       "        5437844.76315143,  6566131.81273833,  5682373.03891925,\n",
       "        5503141.90328334,  6954444.64283548,  6052897.13753247,\n",
       "        5379494.28174703,  3915742.80799463,  6847713.28493434,\n",
       "        7322955.82652776,  5156976.24258456,  8130651.34182957,\n",
       "        7819245.1377251 ,  4932872.43417554,  9352860.59528029,\n",
       "        5869589.90515103,  7705007.13859598,  4067419.82683925,\n",
       "        5059413.90634121,  5246101.16145181,  5252541.29529709,\n",
       "        6612881.11734241,  6075820.66033655,  3047499.03310822,\n",
       "        7899597.29007971,  3741948.55232743,  7112864.10552687,\n",
       "        4851283.2229607 ,  5081080.80887807,  8015793.96902557,\n",
       "        5996861.22206099,  9363784.64073982,  4794262.86884514,\n",
       "        8471962.25185659,  9542625.71980537,  7015117.15113159,\n",
       "        3924015.3239798 ,  5003425.98134927,  2828459.48966394,\n",
       "        8652145.4477073 ,  4629662.06559928,  3076711.22817181,\n",
       "        3395337.50367979, 16267700.03225391,  8506527.8008297 ,\n",
       "        6100793.02606437,  7093817.83530981,  4432024.33828304,\n",
       "        9670118.93259982,  5655100.93910763,  6345839.52484857,\n",
       "        6860271.10313194,  6571324.59006311,  7700683.89994884,\n",
       "        4546773.91888387,  5168245.4404645 ,  4738152.54367094,\n",
       "        5460137.44962662,  5010553.10664197])"
      ]
     },
     "execution_count": 11,
     "metadata": {},
     "output_type": "execute_result"
    }
   ],
   "source": [
    "lr.predict(X_test)"
   ]
  },
  {
   "cell_type": "code",
   "execution_count": 12,
   "metadata": {
    "colab": {
     "base_uri": "https://localhost:8080/"
    },
    "id": "SJkGSm-jXOrj",
    "outputId": "cfeaebe2-19ab-4e19-d093-b8a9911138e0"
   },
   "outputs": [
    {
     "data": {
      "text/plain": [
       "1269994801229.2554"
      ]
     },
     "execution_count": 12,
     "metadata": {},
     "output_type": "execute_result"
    }
   ],
   "source": [
    "# Оценим качество, при помощи метода mean_squared_error для тестовой выборки\n",
    "mean_squared_error(y_test, lr.predict(X_test))"
   ]
  },
  {
   "cell_type": "code",
   "execution_count": 13,
   "metadata": {
    "colab": {
     "base_uri": "https://localhost:8080/"
    },
    "id": "rLxR0uVJ0D4w",
    "outputId": "ecda414f-3d01-452e-cf53-c498b6b3f5cc"
   },
   "outputs": [
    {
     "data": {
      "text/plain": [
       "1691731039876.366"
      ]
     },
     "execution_count": 13,
     "metadata": {},
     "output_type": "execute_result"
    }
   ],
   "source": [
    "mean_squared_error(y_train, lr.predict(X_train))"
   ]
  },
  {
   "cell_type": "markdown",
   "metadata": {
    "id": "RwVK1ery4nv2"
   },
   "source": [
    "## Делаем оценку для конкретной квартиры:"
   ]
  },
  {
   "cell_type": "code",
   "execution_count": 14,
   "metadata": {
    "id": "tq4emdcH51HV"
   },
   "outputs": [],
   "source": [
    "data = [{\n",
    "    \"cen\": 0,\n",
    "    \"chu\": 0,\n",
    "    \"dal\": 0,\n",
    "    \"gor\": 0,\n",
    "    \"kpl\": 0,\n",
    "    \"moh\": 0,\n",
    "    \"oke\": 0,\n",
    "    \"pri\": 0,\n",
    "    \"ryb\": 0,\n",
    "    \"s_v\": 1,\n",
    "    \"ser\": 0,\n",
    "    \"srv\": 0,\n",
    "    \"sun\": 0,\n",
    "    \"zav\": 0,\n",
    "    \"zer\": 0,\n",
    "    \"rooms\": 4,\n",
    "    \"squ\": 92,\n",
    "    \"fl_a\": 3,\n",
    "    \"fl_h\": 5,\n",
    "    \"free\": 1,\n",
    "    \"alt\": 0,\n",
    "    \"mort\": 1,\n",
    "    \"ren_full\": 1,\n",
    "    \"ren_cosm\": 0,\n",
    "    \"balcony\": 2,\n",
    "    \"loggia\": 0,\n",
    "    \"wc\": 0,\n",
    "    \"wc_sep\": 1,\n",
    "    \"tel\": 1\n",
    "}]"
   ]
  },
  {
   "cell_type": "code",
   "execution_count": 15,
   "metadata": {
    "colab": {
     "base_uri": "https://localhost:8080/",
     "height": 81
    },
    "id": "d7KVpaTb4qZJ",
    "outputId": "8b09fbb9-fe43-4b9e-a543-5c69aacef069"
   },
   "outputs": [
    {
     "data": {
      "text/html": [
       "<div>\n",
       "<style scoped>\n",
       "    .dataframe tbody tr th:only-of-type {\n",
       "        vertical-align: middle;\n",
       "    }\n",
       "\n",
       "    .dataframe tbody tr th {\n",
       "        vertical-align: top;\n",
       "    }\n",
       "\n",
       "    .dataframe thead th {\n",
       "        text-align: right;\n",
       "    }\n",
       "</style>\n",
       "<table border=\"1\" class=\"dataframe\">\n",
       "  <thead>\n",
       "    <tr style=\"text-align: right;\">\n",
       "      <th></th>\n",
       "      <th>cen</th>\n",
       "      <th>chu</th>\n",
       "      <th>dal</th>\n",
       "      <th>gor</th>\n",
       "      <th>kpl</th>\n",
       "      <th>moh</th>\n",
       "      <th>oke</th>\n",
       "      <th>pri</th>\n",
       "      <th>ryb</th>\n",
       "      <th>s_v</th>\n",
       "      <th>...</th>\n",
       "      <th>free</th>\n",
       "      <th>alt</th>\n",
       "      <th>mort</th>\n",
       "      <th>ren_full</th>\n",
       "      <th>ren_cosm</th>\n",
       "      <th>balcony</th>\n",
       "      <th>loggia</th>\n",
       "      <th>wc</th>\n",
       "      <th>wc_sep</th>\n",
       "      <th>tel</th>\n",
       "    </tr>\n",
       "  </thead>\n",
       "  <tbody>\n",
       "    <tr>\n",
       "      <th>0</th>\n",
       "      <td>0</td>\n",
       "      <td>0</td>\n",
       "      <td>0</td>\n",
       "      <td>0</td>\n",
       "      <td>0</td>\n",
       "      <td>0</td>\n",
       "      <td>0</td>\n",
       "      <td>0</td>\n",
       "      <td>0</td>\n",
       "      <td>1</td>\n",
       "      <td>...</td>\n",
       "      <td>1</td>\n",
       "      <td>0</td>\n",
       "      <td>1</td>\n",
       "      <td>1</td>\n",
       "      <td>0</td>\n",
       "      <td>2</td>\n",
       "      <td>0</td>\n",
       "      <td>0</td>\n",
       "      <td>1</td>\n",
       "      <td>1</td>\n",
       "    </tr>\n",
       "  </tbody>\n",
       "</table>\n",
       "<p>1 rows × 29 columns</p>\n",
       "</div>"
      ],
      "text/plain": [
       "   cen  chu  dal  gor  kpl  moh  oke  pri  ryb  s_v  ...  free  alt  mort  \\\n",
       "0    0    0    0    0    0    0    0    0    0    1  ...     1    0     1   \n",
       "\n",
       "   ren_full  ren_cosm  balcony  loggia  wc  wc_sep  tel  \n",
       "0         1         0        2       0   0       1    1  \n",
       "\n",
       "[1 rows x 29 columns]"
      ]
     },
     "execution_count": 15,
     "metadata": {},
     "output_type": "execute_result"
    }
   ],
   "source": [
    "df_person = pd.DataFrame(data)\n",
    "df_person.head()"
   ]
  },
  {
   "cell_type": "code",
   "execution_count": 16,
   "metadata": {
    "colab": {
     "base_uri": "https://localhost:8080/"
    },
    "id": "mbH0lpNa4uMQ",
    "outputId": "9c42c61c-4da3-4c0d-921a-295aed75506e"
   },
   "outputs": [
    {
     "data": {
      "text/plain": [
       "array([12404914.54926067])"
      ]
     },
     "execution_count": 16,
     "metadata": {},
     "output_type": "execute_result"
    }
   ],
   "source": [
    "lr.predict(df_person)"
   ]
  },
  {
   "cell_type": "code",
   "execution_count": null,
   "metadata": {
    "id": "bcxI6IvEfhKy"
   },
   "outputs": [],
   "source": []
  }
 ],
 "metadata": {
  "colab": {
   "collapsed_sections": [],
   "name": "мимо сошникова дома я без шуток не хожу.ipynb\"",
   "provenance": []
  },
  "kernelspec": {
   "display_name": "Python 3 (ipykernel)",
   "language": "python",
   "name": "python3"
  },
  "language_info": {
   "codemirror_mode": {
    "name": "ipython",
    "version": 3
   },
   "file_extension": ".py",
   "mimetype": "text/x-python",
   "name": "python",
   "nbconvert_exporter": "python",
   "pygments_lexer": "ipython3",
   "version": "3.8.13"
  },
  "toc": {
   "base_numbering": 1,
   "nav_menu": {},
   "number_sections": true,
   "sideBar": true,
   "skip_h1_title": false,
   "title_cell": "Table of Contents",
   "title_sidebar": "Contents",
   "toc_cell": false,
   "toc_position": {},
   "toc_section_display": true,
   "toc_window_display": false
  },
  "widgets": {
   "application/vnd.jupyter.widget-state+json": {
    "state": {},
    "version_major": 2,
    "version_minor": 0
   }
  }
 },
 "nbformat": 4,
 "nbformat_minor": 4
}
