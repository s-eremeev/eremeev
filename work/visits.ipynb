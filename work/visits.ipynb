{
 "cells": [
  {
   "cell_type": "markdown",
   "id": "d290baea-21dd-434c-a670-68c6cecb8fbf",
   "metadata": {},
   "source": [
    "# Посещение врачей"
   ]
  },
  {
   "cell_type": "code",
   "execution_count": 123,
   "id": "24eb17e4-6be1-414a-879f-1c376012456b",
   "metadata": {
    "tags": []
   },
   "outputs": [
    {
     "name": "stdout",
     "output_type": "stream",
     "text": [
      "The lab_black extension is already loaded. To reload it, use:\n",
      "  %reload_ext lab_black\n"
     ]
    }
   ],
   "source": [
    "import pandas as pd\n",
    "import numpy as np\n",
    "\n",
    "# игнорирование предупреждения о формате при импорте из excel\n",
    "import warnings\n",
    "\n",
    "warnings.simplefilter(\"ignore\")\n",
    "\n",
    "%load_ext lab_black"
   ]
  },
  {
   "cell_type": "markdown",
   "id": "4ef231ba-9d09-4771-a1bc-e8a1611a015d",
   "metadata": {},
   "source": [
    "ISO-8859-1"
   ]
  },
  {
   "cell_type": "markdown",
   "id": "2c529f0e-3dee-4025-b8a1-9e77dcb7d47c",
   "metadata": {},
   "source": [
    "# Если нестандартные кодировки:"
   ]
  },
  {
   "cell_type": "code",
   "execution_count": 19,
   "id": "dfd15b40-c608-4e49-af63-3505dff710ac",
   "metadata": {},
   "outputs": [],
   "source": [
    "# загрузка файла для ЕАО !!!\n",
    "df_data = pd.read_csv(\n",
    "    \"/home/sk27/work/med/data/source.csv\",\n",
    "    sep=\";\",\n",
    "    encoding=\"utf-16\",\n",
    "    low_memory=False,\n",
    ")"
   ]
  },
  {
   "cell_type": "code",
   "execution_count": 20,
   "id": "05944539-176f-4eb5-908d-fac3d3adc572",
   "metadata": {},
   "outputs": [],
   "source": [
    "# загрузка справочников\n",
    "f_032 = pd.read_excel(\"/home/sk27/work/med/data/F032.xlsx\")\n",
    "v_021 = pd.read_excel(\"/home/sk27/work/med/data/V021.xlsx\")\n",
    "v_002 = pd.read_excel(\"/home/sk27/work/med/data/V002.xlsx\")\n",
    "v_006 = pd.read_excel(\"/home/sk27/work/med/data/V006.xlsx\")\n",
    "v_025 = pd.read_excel(\"/home/sk27/work/med/data/V025.xlsx\")\n",
    "oid_data = pd.read_excel(\"/home/sk27/work/med/data/oid_data.xlsx\")\n",
    "\n",
    "# актуализация справочников\n",
    "f_032 = f_032[[\"OKTMO_P\", \"SUBJ\"]].drop_duplicates().reset_index(drop=True)\n",
    "v_021 = v_021[v_021[\"DATEEND\"].isna()]\n",
    "v_002 = v_002[v_002[\"DATEEND\"].isna()]\n",
    "v_006 = v_006[v_006[\"DATEEND\"].isna()]\n",
    "v_025 = v_025[v_025[\"DATEEND\"].isna()]"
   ]
  },
  {
   "cell_type": "markdown",
   "id": "e419a3fa-a489-4ae8-bb3e-30541bbd24b7",
   "metadata": {},
   "source": [
    "## Заголовок добавить вручную\n",
    "### Переходить сразу к расшифровке кодов"
   ]
  },
  {
   "cell_type": "code",
   "execution_count": 21,
   "id": "615632e0-26b7-4ed0-8bf2-e9a4a7b77f52",
   "metadata": {},
   "outputs": [
    {
     "data": {
      "text/html": [
       "<div><div id=c74040ef-38f7-4e6d-ba2f-b57309f5165f style=\"display:none; background-color:#9D6CFF; color:white; width:200px; height:30px; padding-left:5px; border-radius:4px; flex-direction:row; justify-content:space-around; align-items:center;\" onmouseover=\"this.style.backgroundColor='#BA9BF8'\" onmouseout=\"this.style.backgroundColor='#9D6CFF'\" onclick=\"window.commands?.execute('create-mitosheet-from-dataframe-output');\">See Full Dataframe in Mito</div> <script> if (window.commands?.hasCommand('create-mitosheet-from-dataframe-output')) document.getElementById('c74040ef-38f7-4e6d-ba2f-b57309f5165f').style.display = 'flex' </script> <table border=\"1\" class=\"dataframe\">\n",
       "  <thead>\n",
       "    <tr style=\"text-align: right;\">\n",
       "      <th></th>\n",
       "      <th>year</th>\n",
       "      <th>month</th>\n",
       "      <th>region</th>\n",
       "      <th>oktmo</th>\n",
       "      <th>clinic</th>\n",
       "      <th>oid</th>\n",
       "      <th>depart</th>\n",
       "      <th>branch</th>\n",
       "      <th>doctor_specialty</th>\n",
       "      <th>doctor_profile</th>\n",
       "      <th>...</th>\n",
       "      <th>purpose</th>\n",
       "      <th>service_id</th>\n",
       "      <th>usl_service_id</th>\n",
       "      <th>usl_doctor_specialty</th>\n",
       "      <th>usl_clinic</th>\n",
       "      <th>usl_depart</th>\n",
       "      <th>sl_id</th>\n",
       "      <th>code_usl</th>\n",
       "      <th>kol_usl</th>\n",
       "      <th>yet_sum</th>\n",
       "    </tr>\n",
       "  </thead>\n",
       "  <tbody>\n",
       "    <tr>\n",
       "      <th>0</th>\n",
       "      <td>2023</td>\n",
       "      <td>1</td>\n",
       "      <td>99</td>\n",
       "      <td>99000000000</td>\n",
       "      <td>790001</td>\n",
       "      <td>1.2.643.5.1.13.13.12.2.79.8850</td>\n",
       "      <td>79000100</td>\n",
       "      <td>NaN</td>\n",
       "      <td>24</td>\n",
       "      <td>28</td>\n",
       "      <td>...</td>\n",
       "      <td>1.0</td>\n",
       "      <td>B01.014.001</td>\n",
       "      <td>137-097-107 64</td>\n",
       "      <td>24</td>\n",
       "      <td>790001</td>\n",
       "      <td>79000100</td>\n",
       "      <td>1</td>\n",
       "      <td>1</td>\n",
       "      <td>1</td>\n",
       "      <td>NaN</td>\n",
       "    </tr>\n",
       "    <tr>\n",
       "      <th>1</th>\n",
       "      <td>2023</td>\n",
       "      <td>1</td>\n",
       "      <td>99</td>\n",
       "      <td>99000000000</td>\n",
       "      <td>790001</td>\n",
       "      <td>1.2.643.5.1.13.13.12.2.79.8850</td>\n",
       "      <td>79000100</td>\n",
       "      <td>NaN</td>\n",
       "      <td>24</td>\n",
       "      <td>28</td>\n",
       "      <td>...</td>\n",
       "      <td>1.3</td>\n",
       "      <td>R03.03.102.001</td>\n",
       "      <td>137-097-107 64</td>\n",
       "      <td>24</td>\n",
       "      <td>790001</td>\n",
       "      <td>79000100</td>\n",
       "      <td>1</td>\n",
       "      <td>1</td>\n",
       "      <td>1</td>\n",
       "      <td>NaN</td>\n",
       "    </tr>\n",
       "    <tr>\n",
       "      <th>2</th>\n",
       "      <td>2023</td>\n",
       "      <td>1</td>\n",
       "      <td>99</td>\n",
       "      <td>99000000000</td>\n",
       "      <td>790001</td>\n",
       "      <td>1.2.643.5.1.13.13.12.2.79.8850</td>\n",
       "      <td>79000100</td>\n",
       "      <td>NaN</td>\n",
       "      <td>24</td>\n",
       "      <td>28</td>\n",
       "      <td>...</td>\n",
       "      <td>1.0</td>\n",
       "      <td>B01.014.001</td>\n",
       "      <td>137-097-107 64</td>\n",
       "      <td>24</td>\n",
       "      <td>790001</td>\n",
       "      <td>79000100</td>\n",
       "      <td>10</td>\n",
       "      <td>1</td>\n",
       "      <td>1</td>\n",
       "      <td>NaN</td>\n",
       "    </tr>\n",
       "    <tr>\n",
       "      <th>3</th>\n",
       "      <td>2023</td>\n",
       "      <td>1</td>\n",
       "      <td>99</td>\n",
       "      <td>99000000000</td>\n",
       "      <td>790001</td>\n",
       "      <td>1.2.643.5.1.13.13.12.2.79.8850</td>\n",
       "      <td>79000100</td>\n",
       "      <td>NaN</td>\n",
       "      <td>24</td>\n",
       "      <td>28</td>\n",
       "      <td>...</td>\n",
       "      <td>3.0</td>\n",
       "      <td>B01.014.002</td>\n",
       "      <td>137-097-107 64</td>\n",
       "      <td>24</td>\n",
       "      <td>790001</td>\n",
       "      <td>79000100</td>\n",
       "      <td>12</td>\n",
       "      <td>5</td>\n",
       "      <td>1</td>\n",
       "      <td>NaN</td>\n",
       "    </tr>\n",
       "    <tr>\n",
       "      <th>4</th>\n",
       "      <td>2023</td>\n",
       "      <td>1</td>\n",
       "      <td>99</td>\n",
       "      <td>99000000000</td>\n",
       "      <td>790001</td>\n",
       "      <td>1.2.643.5.1.13.13.12.2.79.8850</td>\n",
       "      <td>79000100</td>\n",
       "      <td>NaN</td>\n",
       "      <td>24</td>\n",
       "      <td>28</td>\n",
       "      <td>...</td>\n",
       "      <td>3.0</td>\n",
       "      <td>B01.014.002</td>\n",
       "      <td>138-993-968 45</td>\n",
       "      <td>24</td>\n",
       "      <td>790001</td>\n",
       "      <td>79000100</td>\n",
       "      <td>2</td>\n",
       "      <td>15</td>\n",
       "      <td>1</td>\n",
       "      <td>NaN</td>\n",
       "    </tr>\n",
       "    <tr>\n",
       "      <th>...</th>\n",
       "      <td>...</td>\n",
       "      <td>...</td>\n",
       "      <td>...</td>\n",
       "      <td>...</td>\n",
       "      <td>...</td>\n",
       "      <td>...</td>\n",
       "      <td>...</td>\n",
       "      <td>...</td>\n",
       "      <td>...</td>\n",
       "      <td>...</td>\n",
       "      <td>...</td>\n",
       "      <td>...</td>\n",
       "      <td>...</td>\n",
       "      <td>...</td>\n",
       "      <td>...</td>\n",
       "      <td>...</td>\n",
       "      <td>...</td>\n",
       "      <td>...</td>\n",
       "      <td>...</td>\n",
       "      <td>...</td>\n",
       "      <td>...</td>\n",
       "    </tr>\n",
       "    <tr>\n",
       "      <th>25405</th>\n",
       "      <td>2023</td>\n",
       "      <td>2</td>\n",
       "      <td>99</td>\n",
       "      <td>99000000000</td>\n",
       "      <td>790021</td>\n",
       "      <td>1.2.643.5.1.13.13.12.2.79.8838</td>\n",
       "      <td>79002100</td>\n",
       "      <td>NaN</td>\n",
       "      <td>41</td>\n",
       "      <td>60</td>\n",
       "      <td>...</td>\n",
       "      <td>1.0</td>\n",
       "      <td>B01.027.001</td>\n",
       "      <td>17717264189</td>\n",
       "      <td>41</td>\n",
       "      <td>790021</td>\n",
       "      <td>79002100</td>\n",
       "      <td>2</td>\n",
       "      <td>3</td>\n",
       "      <td>1</td>\n",
       "      <td>NaN</td>\n",
       "    </tr>\n",
       "    <tr>\n",
       "      <th>25406</th>\n",
       "      <td>2023</td>\n",
       "      <td>2</td>\n",
       "      <td>99</td>\n",
       "      <td>99000000000</td>\n",
       "      <td>790021</td>\n",
       "      <td>1.2.643.5.1.13.13.12.2.79.8838</td>\n",
       "      <td>79002100</td>\n",
       "      <td>NaN</td>\n",
       "      <td>45</td>\n",
       "      <td>162</td>\n",
       "      <td>...</td>\n",
       "      <td>1.0</td>\n",
       "      <td>B01.028.001</td>\n",
       "      <td>13109077827</td>\n",
       "      <td>45</td>\n",
       "      <td>790021</td>\n",
       "      <td>79002100</td>\n",
       "      <td>1</td>\n",
       "      <td>1</td>\n",
       "      <td>1</td>\n",
       "      <td>NaN</td>\n",
       "    </tr>\n",
       "    <tr>\n",
       "      <th>25407</th>\n",
       "      <td>2023</td>\n",
       "      <td>2</td>\n",
       "      <td>99</td>\n",
       "      <td>99000000000</td>\n",
       "      <td>790021</td>\n",
       "      <td>1.2.643.5.1.13.13.12.2.79.8838</td>\n",
       "      <td>79002100</td>\n",
       "      <td>NaN</td>\n",
       "      <td>76</td>\n",
       "      <td>97</td>\n",
       "      <td>...</td>\n",
       "      <td>1.0</td>\n",
       "      <td>B01.047.001</td>\n",
       "      <td>6180038532</td>\n",
       "      <td>76</td>\n",
       "      <td>790021</td>\n",
       "      <td>79002100</td>\n",
       "      <td>1</td>\n",
       "      <td>1</td>\n",
       "      <td>1</td>\n",
       "      <td>NaN</td>\n",
       "    </tr>\n",
       "    <tr>\n",
       "      <th>25408</th>\n",
       "      <td>2023</td>\n",
       "      <td>2</td>\n",
       "      <td>99</td>\n",
       "      <td>99000000000</td>\n",
       "      <td>790021</td>\n",
       "      <td>1.2.643.5.1.13.13.12.2.79.8838</td>\n",
       "      <td>79002100</td>\n",
       "      <td>NaN</td>\n",
       "      <td>76</td>\n",
       "      <td>97</td>\n",
       "      <td>...</td>\n",
       "      <td>1.0</td>\n",
       "      <td>B01.047.001</td>\n",
       "      <td>6180038532</td>\n",
       "      <td>76</td>\n",
       "      <td>790021</td>\n",
       "      <td>79002100</td>\n",
       "      <td>1</td>\n",
       "      <td>1</td>\n",
       "      <td>1</td>\n",
       "      <td>NaN</td>\n",
       "    </tr>\n",
       "    <tr>\n",
       "      <th>25409</th>\n",
       "      <td>2023</td>\n",
       "      <td>2</td>\n",
       "      <td>99</td>\n",
       "      <td>99000000000</td>\n",
       "      <td>790021</td>\n",
       "      <td>1.2.643.5.1.13.13.12.2.79.8838</td>\n",
       "      <td>79002100</td>\n",
       "      <td>NaN</td>\n",
       "      <td>206</td>\n",
       "      <td>42</td>\n",
       "      <td>...</td>\n",
       "      <td>2.6</td>\n",
       "      <td>26.73</td>\n",
       "      <td>7044889275</td>\n",
       "      <td>206</td>\n",
       "      <td>790021</td>\n",
       "      <td>79002100</td>\n",
       "      <td>240</td>\n",
       "      <td>1</td>\n",
       "      <td>1</td>\n",
       "      <td>NaN</td>\n",
       "    </tr>\n",
       "  </tbody>\n",
       "</table></div>"
      ],
      "text/plain": [
       "       year  month  region        oktmo  clinic  \\\n",
       "0      2023      1      99  99000000000  790001   \n",
       "1      2023      1      99  99000000000  790001   \n",
       "2      2023      1      99  99000000000  790001   \n",
       "3      2023      1      99  99000000000  790001   \n",
       "4      2023      1      99  99000000000  790001   \n",
       "...     ...    ...     ...          ...     ...   \n",
       "25405  2023      2      99  99000000000  790021   \n",
       "25406  2023      2      99  99000000000  790021   \n",
       "25407  2023      2      99  99000000000  790021   \n",
       "25408  2023      2      99  99000000000  790021   \n",
       "25409  2023      2      99  99000000000  790021   \n",
       "\n",
       "                                  oid    depart  branch  doctor_specialty  \\\n",
       "0      1.2.643.5.1.13.13.12.2.79.8850  79000100     NaN                24   \n",
       "1      1.2.643.5.1.13.13.12.2.79.8850  79000100     NaN                24   \n",
       "2      1.2.643.5.1.13.13.12.2.79.8850  79000100     NaN                24   \n",
       "3      1.2.643.5.1.13.13.12.2.79.8850  79000100     NaN                24   \n",
       "4      1.2.643.5.1.13.13.12.2.79.8850  79000100     NaN                24   \n",
       "...                               ...       ...     ...               ...   \n",
       "25405  1.2.643.5.1.13.13.12.2.79.8838  79002100     NaN                41   \n",
       "25406  1.2.643.5.1.13.13.12.2.79.8838  79002100     NaN                45   \n",
       "25407  1.2.643.5.1.13.13.12.2.79.8838  79002100     NaN                76   \n",
       "25408  1.2.643.5.1.13.13.12.2.79.8838  79002100     NaN                76   \n",
       "25409  1.2.643.5.1.13.13.12.2.79.8838  79002100     NaN               206   \n",
       "\n",
       "       doctor_profile  ...  purpose      service_id  usl_service_id  \\\n",
       "0                  28  ...      1.0     B01.014.001  137-097-107 64   \n",
       "1                  28  ...      1.3  R03.03.102.001  137-097-107 64   \n",
       "2                  28  ...      1.0     B01.014.001  137-097-107 64   \n",
       "3                  28  ...      3.0     B01.014.002  137-097-107 64   \n",
       "4                  28  ...      3.0     B01.014.002  138-993-968 45   \n",
       "...               ...  ...      ...             ...             ...   \n",
       "25405              60  ...      1.0     B01.027.001     17717264189   \n",
       "25406             162  ...      1.0     B01.028.001     13109077827   \n",
       "25407              97  ...      1.0     B01.047.001      6180038532   \n",
       "25408              97  ...      1.0     B01.047.001      6180038532   \n",
       "25409              42  ...      2.6           26.73      7044889275   \n",
       "\n",
       "       usl_doctor_specialty usl_clinic usl_depart  sl_id  code_usl  kol_usl  \\\n",
       "0                        24     790001   79000100      1         1        1   \n",
       "1                        24     790001   79000100      1         1        1   \n",
       "2                        24     790001   79000100     10         1        1   \n",
       "3                        24     790001   79000100     12         5        1   \n",
       "4                        24     790001   79000100      2        15        1   \n",
       "...                     ...        ...        ...    ...       ...      ...   \n",
       "25405                    41     790021   79002100      2         3        1   \n",
       "25406                    45     790021   79002100      1         1        1   \n",
       "25407                    76     790021   79002100      1         1        1   \n",
       "25408                    76     790021   79002100      1         1        1   \n",
       "25409                   206     790021   79002100    240         1        1   \n",
       "\n",
       "       yet_sum  \n",
       "0          NaN  \n",
       "1          NaN  \n",
       "2          NaN  \n",
       "3          NaN  \n",
       "4          NaN  \n",
       "...        ...  \n",
       "25405      NaN  \n",
       "25406      NaN  \n",
       "25407      NaN  \n",
       "25408      NaN  \n",
       "25409      NaN  \n",
       "\n",
       "[25410 rows x 23 columns]"
      ]
     },
     "execution_count": 21,
     "metadata": {},
     "output_type": "execute_result"
    }
   ],
   "source": [
    "df_data"
   ]
  },
  {
   "cell_type": "code",
   "execution_count": 22,
   "id": "ad636aca-b6a7-498c-a605-3f5d8348037e",
   "metadata": {},
   "outputs": [
    {
     "data": {
      "text/plain": [
       "(25410, 23)"
      ]
     },
     "execution_count": 22,
     "metadata": {},
     "output_type": "execute_result"
    }
   ],
   "source": [
    "df_data.shape"
   ]
  },
  {
   "cell_type": "code",
   "execution_count": 23,
   "id": "4af68e53-d3af-4f69-a929-ce1f035f6088",
   "metadata": {},
   "outputs": [
    {
     "data": {
      "text/html": [
       "<div><div id=a72965ad-f1dc-441c-9cde-ad92c2d78f71 style=\"display:none; background-color:#9D6CFF; color:white; width:200px; height:30px; padding-left:5px; border-radius:4px; flex-direction:row; justify-content:space-around; align-items:center;\" onmouseover=\"this.style.backgroundColor='#BA9BF8'\" onmouseout=\"this.style.backgroundColor='#9D6CFF'\" onclick=\"window.commands?.execute('create-mitosheet-from-dataframe-output');\">See Full Dataframe in Mito</div> <script> if (window.commands?.hasCommand('create-mitosheet-from-dataframe-output')) document.getElementById('a72965ad-f1dc-441c-9cde-ad92c2d78f71').style.display = 'flex' </script> <table border=\"1\" class=\"dataframe\">\n",
       "  <thead>\n",
       "    <tr style=\"text-align: right;\">\n",
       "      <th></th>\n",
       "      <th>year</th>\n",
       "      <th>month</th>\n",
       "      <th>region</th>\n",
       "      <th>oktmo</th>\n",
       "      <th>clinic</th>\n",
       "      <th>oid</th>\n",
       "      <th>depart</th>\n",
       "      <th>branch</th>\n",
       "      <th>doctor_specialty</th>\n",
       "      <th>doctor_profile</th>\n",
       "      <th>...</th>\n",
       "      <th>purpose</th>\n",
       "      <th>service_id</th>\n",
       "      <th>usl_service_id</th>\n",
       "      <th>usl_doctor_specialty</th>\n",
       "      <th>usl_clinic</th>\n",
       "      <th>usl_depart</th>\n",
       "      <th>sl_id</th>\n",
       "      <th>code_usl</th>\n",
       "      <th>kol_usl</th>\n",
       "      <th>yet_sum</th>\n",
       "    </tr>\n",
       "  </thead>\n",
       "  <tbody>\n",
       "  </tbody>\n",
       "</table></div>"
      ],
      "text/plain": [
       "Empty DataFrame\n",
       "Columns: [year, month, region, oktmo, clinic, oid, depart, branch, doctor_specialty, doctor_profile, terms, doctor_id, diagnosis, purpose, service_id, usl_service_id, usl_doctor_specialty, usl_clinic, usl_depart, sl_id, code_usl, kol_usl, yet_sum]\n",
       "Index: []\n",
       "\n",
       "[0 rows x 23 columns]"
      ]
     },
     "execution_count": 23,
     "metadata": {},
     "output_type": "execute_result"
    }
   ],
   "source": [
    "df_data[df_data.duplicated()]"
   ]
  },
  {
   "cell_type": "code",
   "execution_count": 24,
   "id": "c837c91f-de30-4adb-a82d-c0c82397f50e",
   "metadata": {},
   "outputs": [
    {
     "data": {
      "text/plain": [
       "(0, 23)"
      ]
     },
     "execution_count": 24,
     "metadata": {},
     "output_type": "execute_result"
    }
   ],
   "source": [
    "df_data[df_data.duplicated()].shape"
   ]
  },
  {
   "cell_type": "markdown",
   "id": "b837ec80-0b8a-44a6-acc0-d8701519dd94",
   "metadata": {},
   "source": [
    "# Обычные кодировки\n",
    "## 1. Подготовка данных"
   ]
  },
  {
   "cell_type": "code",
   "execution_count": 124,
   "id": "651721e7-f9a3-413a-b2bc-4aa9e2a852a1",
   "metadata": {},
   "outputs": [
    {
     "name": "stdout",
     "output_type": "stream",
     "text": [
      "CPU times: user 5 µs, sys: 1 µs, total: 6 µs\n",
      "Wall time: 9.3 µs\n"
     ]
    }
   ],
   "source": [
    "%time\n",
    "\n",
    "# загрузка справочников\n",
    "f_032 = pd.read_excel(\"/home/sk27/work/med/data/F032.xlsx\")\n",
    "v_021 = pd.read_excel(\"/home/sk27/work/med/data/V021.xlsx\")\n",
    "v_002 = pd.read_excel(\"/home/sk27/work/med/data/V002.xlsx\")\n",
    "v_006 = pd.read_excel(\"/home/sk27/work/med/data/V006.xlsx\")\n",
    "v_025 = pd.read_excel(\"/home/sk27/work/med/data/V025.xlsx\")\n",
    "oid_data = pd.read_excel(\"/home/sk27/work/med/data/oid_data.xlsx\")\n",
    "\n",
    "# актуализация справочников\n",
    "f_032 = f_032[[\"OKTMO_P\", \"SUBJ\"]].drop_duplicates().reset_index(drop=True)\n",
    "v_021 = v_021[v_021[\"DATEEND\"].isna()]\n",
    "v_002 = v_002[v_002[\"DATEEND\"].isna()]\n",
    "v_006 = v_006[v_006[\"DATEEND\"].isna()]\n",
    "v_025 = v_025[v_025[\"DATEEND\"].isna()]"
   ]
  },
  {
   "cell_type": "code",
   "execution_count": 125,
   "id": "4b1653a3-e607-485e-8da5-a2cf7db52ea3",
   "metadata": {},
   "outputs": [
    {
     "name": "stdout",
     "output_type": "stream",
     "text": [
      "CPU times: user 1min 54s, sys: 7.02 s, total: 2min 1s\n",
      "Wall time: 2min 2s\n"
     ]
    }
   ],
   "source": [
    "%%time\n",
    "\n",
    "# вспомогательные функции\n",
    "\n",
    "def oktmo(o):\n",
    "    \"\"\"\n",
    "    функция дополняет код ОКТМО до 11 символов или до 10 символов без ведущего 0\n",
    "    \"\"\"\n",
    "    if len(str(o)) == 1:\n",
    "        l = 9\n",
    "    else:\n",
    "        l = 11-len(str(o))\n",
    "    return int(str(o) + \"0\"*(l))\n",
    "    \n",
    "def visit_count(row):\n",
    "    \"\"\"\n",
    "    функция определяет количество посещений согласно условиям\n",
    "    \"\"\"\n",
    "    if row[\"purpose\"] >= 3:\n",
    "        res = row[\"code_usl\"] * row[\"kol_usl\"]\n",
    "    else:\n",
    "        res = row[\"sl_id\"]\n",
    "    if np.isnan(res):\n",
    "        return \"не определено\"\n",
    "    else:\n",
    "        return res\n",
    "    \n",
    "# добавление в файл данных строки заголовков\n",
    "with open(\"/home/sk27/work/med/data/source.csv\", \"r\") as f:\n",
    "    first_line = next(f).strip()\n",
    "    if first_line[0:4] != \"year\":\n",
    "        with open(\n",
    "            \"/home/sk27/work/med/data/source.csv\", \"r\", encoding=\"ISO-8859-1\"\n",
    "        ) as original:\n",
    "            data = original.read()\n",
    "        with open(\"/home/sk27/work/med/data/source.csv\", \"w\") as modified:\n",
    "            modified.write(\n",
    "                \"year;month;region;clinic;oid;depart;branch;doctor_specialty;doctor_profile;terms;doctor_id;diagnosis;purpose;service_id;usl_service_id;usl_doctor_specialty;usl_clinic;usl_depart;sl_id;code_usl;kol_usl;yet_sum\\n\"\n",
    "                + data\n",
    "            )\n",
    "    else:\n",
    "        pass\n",
    "\n",
    "# загрузка файла\n",
    "df_data = pd.read_csv(\n",
    "    \"/home/sk27/work/med/data/source.csv\",\n",
    "    sep=\";\",\n",
    "    encoding=\"ISO-8859-1\",\n",
    "    low_memory=False,\n",
    ")\n",
    "\n",
    "# УДАЛЕНИЕ ДУБЛИКАТОВ СТРОК\n",
    "# df_data = df_data.drop_duplicates()\n",
    "\n",
    "# удаление кавычек\n",
    "for i, col in enumerate(df_data.columns):\n",
    "    df_data.iloc[:, i] = df_data.iloc[:, i].astype(\"str\").str.replace('\"', \"\")\n",
    "# df_data = df_data.apply(pd.to_numeric, errors=\"ignore\")\n",
    "\n",
    "# замена ВСЕХ запятых точками\n",
    "for i, col in enumerate(df_data.columns):\n",
    "    df_data.iloc[:, i] = df_data.iloc[:, i].astype(\"str\").str.replace(',', \".\")\n",
    "df_data = df_data.apply(pd.to_numeric, errors=\"ignore\")\n",
    "\n",
    "# вставка столбца ОКТМО\n",
    "df_data.insert(3, \"oktmo\", df_data[\"region\"].apply(oktmo))\n",
    "\n",
    "# проверка загруженных данных\n",
    "\n",
    "# а) проверка количества столбцов - их должно быть именно 23 вместе с добавленным мной столбцом ОКТМО\n",
    "if df_data.shape[1] > 23:\n",
    "    print(f\"Количество полей в файле (их {df_data.shape[1]}) не соответствует форме отчёта, должно быть 23.\")\n",
    "else:\n",
    "    pass\n",
    "\n",
    "# б) проверка столбца terms на \"только 3\"\n",
    "try:\n",
    "    if df_data[\"terms\"].mean() != 3:\n",
    "        print(\n",
    "            \"Нарушено требование об указании в поле 'Условия оказания медпомощи' только значения '3'.\"\n",
    "        )\n",
    "except:\n",
    "    print(\"Не проходит проверка на '3'\")\n",
    "    \n",
    "# расшифровка кодов"
   ]
  },
  {
   "cell_type": "code",
   "execution_count": 126,
   "id": "2b80549b-5006-46e8-a255-13cd8bf925cf",
   "metadata": {},
   "outputs": [
    {
     "data": {
      "text/html": [
       "<div><div id=4d593c1a-19ff-44b0-8302-9308a57e1c23 style=\"display:none; background-color:#9D6CFF; color:white; width:200px; height:30px; padding-left:5px; border-radius:4px; flex-direction:row; justify-content:space-around; align-items:center;\" onmouseover=\"this.style.backgroundColor='#BA9BF8'\" onmouseout=\"this.style.backgroundColor='#9D6CFF'\" onclick=\"window.commands?.execute('create-mitosheet-from-dataframe-output');\">See Full Dataframe in Mito</div> <script> if (window.commands?.hasCommand('create-mitosheet-from-dataframe-output')) document.getElementById('4d593c1a-19ff-44b0-8302-9308a57e1c23').style.display = 'flex' </script> <table border=\"1\" class=\"dataframe\">\n",
       "  <thead>\n",
       "    <tr style=\"text-align: right;\">\n",
       "      <th></th>\n",
       "      <th>year</th>\n",
       "      <th>month</th>\n",
       "      <th>region</th>\n",
       "      <th>oktmo</th>\n",
       "      <th>clinic</th>\n",
       "      <th>oid</th>\n",
       "      <th>depart</th>\n",
       "      <th>branch</th>\n",
       "      <th>doctor_specialty</th>\n",
       "      <th>doctor_profile</th>\n",
       "      <th>...</th>\n",
       "      <th>purpose</th>\n",
       "      <th>service_id</th>\n",
       "      <th>usl_service_id</th>\n",
       "      <th>usl_doctor_specialty</th>\n",
       "      <th>usl_clinic</th>\n",
       "      <th>usl_depart</th>\n",
       "      <th>sl_id</th>\n",
       "      <th>code_usl</th>\n",
       "      <th>kol_usl</th>\n",
       "      <th>yet_sum</th>\n",
       "    </tr>\n",
       "  </thead>\n",
       "  <tbody>\n",
       "    <tr>\n",
       "      <th>0</th>\n",
       "      <td>2023</td>\n",
       "      <td>1</td>\n",
       "      <td>25000</td>\n",
       "      <td>25000000000</td>\n",
       "      <td>380049</td>\n",
       "      <td>1.2.643.5.1.13.13.12.2.38.3568</td>\n",
       "      <td>11</td>\n",
       "      <td>1</td>\n",
       "      <td>76</td>\n",
       "      <td>97</td>\n",
       "      <td>...</td>\n",
       "      <td>3.0</td>\n",
       "      <td>B01.047.001</td>\n",
       "      <td>186</td>\n",
       "      <td>76</td>\n",
       "      <td>380049</td>\n",
       "      <td>11</td>\n",
       "      <td>1</td>\n",
       "      <td>1</td>\n",
       "      <td>1</td>\n",
       "      <td>0.0</td>\n",
       "    </tr>\n",
       "    <tr>\n",
       "      <th>1</th>\n",
       "      <td>2023</td>\n",
       "      <td>1</td>\n",
       "      <td>25000</td>\n",
       "      <td>25000000000</td>\n",
       "      <td>380049</td>\n",
       "      <td>1.2.643.5.1.13.13.12.2.38.3568</td>\n",
       "      <td>11</td>\n",
       "      <td>1</td>\n",
       "      <td>76</td>\n",
       "      <td>97</td>\n",
       "      <td>...</td>\n",
       "      <td>3.0</td>\n",
       "      <td>B01.047.001</td>\n",
       "      <td>192</td>\n",
       "      <td>76</td>\n",
       "      <td>380049</td>\n",
       "      <td>11</td>\n",
       "      <td>1</td>\n",
       "      <td>1</td>\n",
       "      <td>1</td>\n",
       "      <td>0.0</td>\n",
       "    </tr>\n",
       "    <tr>\n",
       "      <th>2</th>\n",
       "      <td>2023</td>\n",
       "      <td>1</td>\n",
       "      <td>25000</td>\n",
       "      <td>25000000000</td>\n",
       "      <td>380049</td>\n",
       "      <td>1.2.643.5.1.13.13.12.2.38.3568</td>\n",
       "      <td>11</td>\n",
       "      <td>1</td>\n",
       "      <td>76</td>\n",
       "      <td>97</td>\n",
       "      <td>...</td>\n",
       "      <td>3.0</td>\n",
       "      <td>B01.047.002</td>\n",
       "      <td>203</td>\n",
       "      <td>76</td>\n",
       "      <td>380049</td>\n",
       "      <td>11</td>\n",
       "      <td>1</td>\n",
       "      <td>1</td>\n",
       "      <td>1</td>\n",
       "      <td>0.0</td>\n",
       "    </tr>\n",
       "    <tr>\n",
       "      <th>3</th>\n",
       "      <td>2023</td>\n",
       "      <td>1</td>\n",
       "      <td>25000</td>\n",
       "      <td>25000000000</td>\n",
       "      <td>380049</td>\n",
       "      <td>1.2.643.5.1.13.13.12.2.38.3568</td>\n",
       "      <td>11</td>\n",
       "      <td>1</td>\n",
       "      <td>76</td>\n",
       "      <td>97</td>\n",
       "      <td>...</td>\n",
       "      <td>3.0</td>\n",
       "      <td>B01.047.002</td>\n",
       "      <td>035</td>\n",
       "      <td>76</td>\n",
       "      <td>380049</td>\n",
       "      <td>11</td>\n",
       "      <td>1</td>\n",
       "      <td>2</td>\n",
       "      <td>2</td>\n",
       "      <td>0.0</td>\n",
       "    </tr>\n",
       "    <tr>\n",
       "      <th>4</th>\n",
       "      <td>2023</td>\n",
       "      <td>1</td>\n",
       "      <td>25000</td>\n",
       "      <td>25000000000</td>\n",
       "      <td>380049</td>\n",
       "      <td>1.2.643.5.1.13.13.12.2.38.3568</td>\n",
       "      <td>11</td>\n",
       "      <td>1</td>\n",
       "      <td>76</td>\n",
       "      <td>97</td>\n",
       "      <td>...</td>\n",
       "      <td>3.0</td>\n",
       "      <td>B01.047.001</td>\n",
       "      <td>035</td>\n",
       "      <td>76</td>\n",
       "      <td>380049</td>\n",
       "      <td>11</td>\n",
       "      <td>1</td>\n",
       "      <td>1</td>\n",
       "      <td>1</td>\n",
       "      <td>0.0</td>\n",
       "    </tr>\n",
       "  </tbody>\n",
       "</table></div>"
      ],
      "text/plain": [
       "   year  month  region        oktmo  clinic                             oid  \\\n",
       "0  2023      1   25000  25000000000  380049  1.2.643.5.1.13.13.12.2.38.3568   \n",
       "1  2023      1   25000  25000000000  380049  1.2.643.5.1.13.13.12.2.38.3568   \n",
       "2  2023      1   25000  25000000000  380049  1.2.643.5.1.13.13.12.2.38.3568   \n",
       "3  2023      1   25000  25000000000  380049  1.2.643.5.1.13.13.12.2.38.3568   \n",
       "4  2023      1   25000  25000000000  380049  1.2.643.5.1.13.13.12.2.38.3568   \n",
       "\n",
       "   depart branch  doctor_specialty  doctor_profile  ...  purpose   service_id  \\\n",
       "0      11      1                76              97  ...      3.0  B01.047.001   \n",
       "1      11      1                76              97  ...      3.0  B01.047.001   \n",
       "2      11      1                76              97  ...      3.0  B01.047.002   \n",
       "3      11      1                76              97  ...      3.0  B01.047.002   \n",
       "4      11      1                76              97  ...      3.0  B01.047.001   \n",
       "\n",
       "  usl_service_id  usl_doctor_specialty usl_clinic usl_depart  sl_id  code_usl  \\\n",
       "0            186                    76     380049         11      1         1   \n",
       "1            192                    76     380049         11      1         1   \n",
       "2            203                    76     380049         11      1         1   \n",
       "3            035                    76     380049         11      1         2   \n",
       "4            035                    76     380049         11      1         1   \n",
       "\n",
       "   kol_usl  yet_sum  \n",
       "0        1      0.0  \n",
       "1        1      0.0  \n",
       "2        1      0.0  \n",
       "3        2      0.0  \n",
       "4        1      0.0  \n",
       "\n",
       "[5 rows x 23 columns]"
      ]
     },
     "execution_count": 126,
     "metadata": {},
     "output_type": "execute_result"
    }
   ],
   "source": [
    "df_data.head()"
   ]
  },
  {
   "cell_type": "code",
   "execution_count": 127,
   "id": "97aa9543-db98-456b-b5bc-a54ae1ddca2a",
   "metadata": {},
   "outputs": [
    {
     "data": {
      "text/plain": [
       "(3692791, 23)"
      ]
     },
     "execution_count": 127,
     "metadata": {},
     "output_type": "execute_result"
    }
   ],
   "source": [
    "df_data.shape"
   ]
  },
  {
   "cell_type": "code",
   "execution_count": 128,
   "id": "7d9a6fb1-aabc-449f-b70a-e266bb9ab76d",
   "metadata": {},
   "outputs": [
    {
     "data": {
      "text/html": [
       "<div><div id=2b0ea401-0aff-4e4d-9a91-9892d2e9d9ba style=\"display:none; background-color:#9D6CFF; color:white; width:200px; height:30px; padding-left:5px; border-radius:4px; flex-direction:row; justify-content:space-around; align-items:center;\" onmouseover=\"this.style.backgroundColor='#BA9BF8'\" onmouseout=\"this.style.backgroundColor='#9D6CFF'\" onclick=\"window.commands?.execute('create-mitosheet-from-dataframe-output');\">See Full Dataframe in Mito</div> <script> if (window.commands?.hasCommand('create-mitosheet-from-dataframe-output')) document.getElementById('2b0ea401-0aff-4e4d-9a91-9892d2e9d9ba').style.display = 'flex' </script> <table border=\"1\" class=\"dataframe\">\n",
       "  <thead>\n",
       "    <tr style=\"text-align: right;\">\n",
       "      <th></th>\n",
       "      <th>year</th>\n",
       "      <th>month</th>\n",
       "      <th>region</th>\n",
       "      <th>oktmo</th>\n",
       "      <th>clinic</th>\n",
       "      <th>oid</th>\n",
       "      <th>depart</th>\n",
       "      <th>branch</th>\n",
       "      <th>doctor_specialty</th>\n",
       "      <th>doctor_profile</th>\n",
       "      <th>...</th>\n",
       "      <th>purpose</th>\n",
       "      <th>service_id</th>\n",
       "      <th>usl_service_id</th>\n",
       "      <th>usl_doctor_specialty</th>\n",
       "      <th>usl_clinic</th>\n",
       "      <th>usl_depart</th>\n",
       "      <th>sl_id</th>\n",
       "      <th>code_usl</th>\n",
       "      <th>kol_usl</th>\n",
       "      <th>yet_sum</th>\n",
       "    </tr>\n",
       "  </thead>\n",
       "  <tbody>\n",
       "    <tr>\n",
       "      <th>6</th>\n",
       "      <td>2023</td>\n",
       "      <td>1</td>\n",
       "      <td>25000</td>\n",
       "      <td>25000000000</td>\n",
       "      <td>380049</td>\n",
       "      <td>1.2.643.5.1.13.13.12.2.38.3568</td>\n",
       "      <td>11</td>\n",
       "      <td>2</td>\n",
       "      <td>76</td>\n",
       "      <td>97</td>\n",
       "      <td>...</td>\n",
       "      <td>3.1</td>\n",
       "      <td>B01.047.001</td>\n",
       "      <td>162</td>\n",
       "      <td>76</td>\n",
       "      <td>380049</td>\n",
       "      <td>11</td>\n",
       "      <td>1</td>\n",
       "      <td>1</td>\n",
       "      <td>1</td>\n",
       "      <td>0.0</td>\n",
       "    </tr>\n",
       "    <tr>\n",
       "      <th>11</th>\n",
       "      <td>2023</td>\n",
       "      <td>1</td>\n",
       "      <td>25000</td>\n",
       "      <td>25000000000</td>\n",
       "      <td>380049</td>\n",
       "      <td>1.2.643.5.1.13.13.12.2.38.3568</td>\n",
       "      <td>11</td>\n",
       "      <td>6</td>\n",
       "      <td>2</td>\n",
       "      <td>136</td>\n",
       "      <td>...</td>\n",
       "      <td>3.1</td>\n",
       "      <td>B01.001.001</td>\n",
       "      <td>171</td>\n",
       "      <td>2</td>\n",
       "      <td>380049</td>\n",
       "      <td>11</td>\n",
       "      <td>1</td>\n",
       "      <td>1</td>\n",
       "      <td>1</td>\n",
       "      <td>0.0</td>\n",
       "    </tr>\n",
       "    <tr>\n",
       "      <th>20</th>\n",
       "      <td>2023</td>\n",
       "      <td>1</td>\n",
       "      <td>25000</td>\n",
       "      <td>25000000000</td>\n",
       "      <td>380049</td>\n",
       "      <td>1.2.643.5.1.13.13.12.2.38.3568</td>\n",
       "      <td>11</td>\n",
       "      <td>2</td>\n",
       "      <td>76</td>\n",
       "      <td>97</td>\n",
       "      <td>...</td>\n",
       "      <td>3.1</td>\n",
       "      <td>B01.047.001</td>\n",
       "      <td>162</td>\n",
       "      <td>76</td>\n",
       "      <td>380049</td>\n",
       "      <td>11</td>\n",
       "      <td>1</td>\n",
       "      <td>1</td>\n",
       "      <td>1</td>\n",
       "      <td>0.0</td>\n",
       "    </tr>\n",
       "    <tr>\n",
       "      <th>22</th>\n",
       "      <td>2023</td>\n",
       "      <td>1</td>\n",
       "      <td>25000</td>\n",
       "      <td>25000000000</td>\n",
       "      <td>380049</td>\n",
       "      <td>1.2.643.5.1.13.13.12.2.38.3568</td>\n",
       "      <td>11</td>\n",
       "      <td>6</td>\n",
       "      <td>2</td>\n",
       "      <td>136</td>\n",
       "      <td>...</td>\n",
       "      <td>3.1</td>\n",
       "      <td>B01.001.001</td>\n",
       "      <td>171</td>\n",
       "      <td>2</td>\n",
       "      <td>380049</td>\n",
       "      <td>11</td>\n",
       "      <td>1</td>\n",
       "      <td>1</td>\n",
       "      <td>1</td>\n",
       "      <td>0.0</td>\n",
       "    </tr>\n",
       "    <tr>\n",
       "      <th>25</th>\n",
       "      <td>2023</td>\n",
       "      <td>1</td>\n",
       "      <td>25000</td>\n",
       "      <td>25000000000</td>\n",
       "      <td>380049</td>\n",
       "      <td>1.2.643.5.1.13.13.12.2.38.3568</td>\n",
       "      <td>11</td>\n",
       "      <td>6</td>\n",
       "      <td>2</td>\n",
       "      <td>136</td>\n",
       "      <td>...</td>\n",
       "      <td>3.1</td>\n",
       "      <td>B01.001.001</td>\n",
       "      <td>171</td>\n",
       "      <td>2</td>\n",
       "      <td>380049</td>\n",
       "      <td>11</td>\n",
       "      <td>1</td>\n",
       "      <td>1</td>\n",
       "      <td>1</td>\n",
       "      <td>0.0</td>\n",
       "    </tr>\n",
       "    <tr>\n",
       "      <th>...</th>\n",
       "      <td>...</td>\n",
       "      <td>...</td>\n",
       "      <td>...</td>\n",
       "      <td>...</td>\n",
       "      <td>...</td>\n",
       "      <td>...</td>\n",
       "      <td>...</td>\n",
       "      <td>...</td>\n",
       "      <td>...</td>\n",
       "      <td>...</td>\n",
       "      <td>...</td>\n",
       "      <td>...</td>\n",
       "      <td>...</td>\n",
       "      <td>...</td>\n",
       "      <td>...</td>\n",
       "      <td>...</td>\n",
       "      <td>...</td>\n",
       "      <td>...</td>\n",
       "      <td>...</td>\n",
       "      <td>...</td>\n",
       "      <td>...</td>\n",
       "    </tr>\n",
       "    <tr>\n",
       "      <th>3692785</th>\n",
       "      <td>2023</td>\n",
       "      <td>2</td>\n",
       "      <td>25000</td>\n",
       "      <td>25000000000</td>\n",
       "      <td>380121</td>\n",
       "      <td>1.2.643.5.1.13.13.12.2.38.3535</td>\n",
       "      <td>998</td>\n",
       "      <td>24</td>\n",
       "      <td>60</td>\n",
       "      <td>78</td>\n",
       "      <td>...</td>\n",
       "      <td>3.0</td>\n",
       "      <td>A06.09.005</td>\n",
       "      <td>210</td>\n",
       "      <td>60</td>\n",
       "      <td>380121</td>\n",
       "      <td>998</td>\n",
       "      <td>1</td>\n",
       "      <td>1</td>\n",
       "      <td>1</td>\n",
       "      <td>0.0</td>\n",
       "    </tr>\n",
       "    <tr>\n",
       "      <th>3692786</th>\n",
       "      <td>2023</td>\n",
       "      <td>2</td>\n",
       "      <td>25000</td>\n",
       "      <td>25000000000</td>\n",
       "      <td>380121</td>\n",
       "      <td>1.2.643.5.1.13.13.12.2.38.3535</td>\n",
       "      <td>998</td>\n",
       "      <td>24</td>\n",
       "      <td>60</td>\n",
       "      <td>78</td>\n",
       "      <td>...</td>\n",
       "      <td>3.0</td>\n",
       "      <td>A06.09.005</td>\n",
       "      <td>139</td>\n",
       "      <td>60</td>\n",
       "      <td>380121</td>\n",
       "      <td>998</td>\n",
       "      <td>1</td>\n",
       "      <td>1</td>\n",
       "      <td>1</td>\n",
       "      <td>0.0</td>\n",
       "    </tr>\n",
       "    <tr>\n",
       "      <th>3692787</th>\n",
       "      <td>2023</td>\n",
       "      <td>2</td>\n",
       "      <td>25000</td>\n",
       "      <td>25000000000</td>\n",
       "      <td>380121</td>\n",
       "      <td>1.2.643.5.1.13.13.12.2.38.3535</td>\n",
       "      <td>998</td>\n",
       "      <td>24</td>\n",
       "      <td>60</td>\n",
       "      <td>78</td>\n",
       "      <td>...</td>\n",
       "      <td>3.0</td>\n",
       "      <td>A06.09.005</td>\n",
       "      <td>207</td>\n",
       "      <td>60</td>\n",
       "      <td>380121</td>\n",
       "      <td>998</td>\n",
       "      <td>1</td>\n",
       "      <td>1</td>\n",
       "      <td>1</td>\n",
       "      <td>0.0</td>\n",
       "    </tr>\n",
       "    <tr>\n",
       "      <th>3692788</th>\n",
       "      <td>2023</td>\n",
       "      <td>2</td>\n",
       "      <td>25000</td>\n",
       "      <td>25000000000</td>\n",
       "      <td>380121</td>\n",
       "      <td>1.2.643.5.1.13.13.12.2.38.3535</td>\n",
       "      <td>998</td>\n",
       "      <td>24</td>\n",
       "      <td>60</td>\n",
       "      <td>78</td>\n",
       "      <td>...</td>\n",
       "      <td>3.0</td>\n",
       "      <td>A06.09.005</td>\n",
       "      <td>207</td>\n",
       "      <td>60</td>\n",
       "      <td>380121</td>\n",
       "      <td>998</td>\n",
       "      <td>1</td>\n",
       "      <td>1</td>\n",
       "      <td>1</td>\n",
       "      <td>0.0</td>\n",
       "    </tr>\n",
       "    <tr>\n",
       "      <th>3692790</th>\n",
       "      <td>2023</td>\n",
       "      <td>2</td>\n",
       "      <td>25000</td>\n",
       "      <td>25000000000</td>\n",
       "      <td>380121</td>\n",
       "      <td>1.2.643.5.1.13.13.12.2.38.3535</td>\n",
       "      <td>998</td>\n",
       "      <td>24</td>\n",
       "      <td>60</td>\n",
       "      <td>78</td>\n",
       "      <td>...</td>\n",
       "      <td>3.0</td>\n",
       "      <td>A06.09.005</td>\n",
       "      <td>207</td>\n",
       "      <td>60</td>\n",
       "      <td>380121</td>\n",
       "      <td>998</td>\n",
       "      <td>1</td>\n",
       "      <td>1</td>\n",
       "      <td>1</td>\n",
       "      <td>0.0</td>\n",
       "    </tr>\n",
       "  </tbody>\n",
       "</table></div>"
      ],
      "text/plain": [
       "         year  month  region        oktmo  clinic  \\\n",
       "6        2023      1   25000  25000000000  380049   \n",
       "11       2023      1   25000  25000000000  380049   \n",
       "20       2023      1   25000  25000000000  380049   \n",
       "22       2023      1   25000  25000000000  380049   \n",
       "25       2023      1   25000  25000000000  380049   \n",
       "...       ...    ...     ...          ...     ...   \n",
       "3692785  2023      2   25000  25000000000  380121   \n",
       "3692786  2023      2   25000  25000000000  380121   \n",
       "3692787  2023      2   25000  25000000000  380121   \n",
       "3692788  2023      2   25000  25000000000  380121   \n",
       "3692790  2023      2   25000  25000000000  380121   \n",
       "\n",
       "                                    oid  depart branch  doctor_specialty  \\\n",
       "6        1.2.643.5.1.13.13.12.2.38.3568      11      2                76   \n",
       "11       1.2.643.5.1.13.13.12.2.38.3568      11      6                 2   \n",
       "20       1.2.643.5.1.13.13.12.2.38.3568      11      2                76   \n",
       "22       1.2.643.5.1.13.13.12.2.38.3568      11      6                 2   \n",
       "25       1.2.643.5.1.13.13.12.2.38.3568      11      6                 2   \n",
       "...                                 ...     ...    ...               ...   \n",
       "3692785  1.2.643.5.1.13.13.12.2.38.3535     998     24                60   \n",
       "3692786  1.2.643.5.1.13.13.12.2.38.3535     998     24                60   \n",
       "3692787  1.2.643.5.1.13.13.12.2.38.3535     998     24                60   \n",
       "3692788  1.2.643.5.1.13.13.12.2.38.3535     998     24                60   \n",
       "3692790  1.2.643.5.1.13.13.12.2.38.3535     998     24                60   \n",
       "\n",
       "         doctor_profile  ...  purpose   service_id usl_service_id  \\\n",
       "6                    97  ...      3.1  B01.047.001            162   \n",
       "11                  136  ...      3.1  B01.001.001            171   \n",
       "20                   97  ...      3.1  B01.047.001            162   \n",
       "22                  136  ...      3.1  B01.001.001            171   \n",
       "25                  136  ...      3.1  B01.001.001            171   \n",
       "...                 ...  ...      ...          ...            ...   \n",
       "3692785              78  ...      3.0   A06.09.005            210   \n",
       "3692786              78  ...      3.0   A06.09.005            139   \n",
       "3692787              78  ...      3.0   A06.09.005            207   \n",
       "3692788              78  ...      3.0   A06.09.005            207   \n",
       "3692790              78  ...      3.0   A06.09.005            207   \n",
       "\n",
       "         usl_doctor_specialty usl_clinic usl_depart  sl_id  code_usl  kol_usl  \\\n",
       "6                          76     380049         11      1         1        1   \n",
       "11                          2     380049         11      1         1        1   \n",
       "20                         76     380049         11      1         1        1   \n",
       "22                          2     380049         11      1         1        1   \n",
       "25                          2     380049         11      1         1        1   \n",
       "...                       ...        ...        ...    ...       ...      ...   \n",
       "3692785                    60     380121        998      1         1        1   \n",
       "3692786                    60     380121        998      1         1        1   \n",
       "3692787                    60     380121        998      1         1        1   \n",
       "3692788                    60     380121        998      1         1        1   \n",
       "3692790                    60     380121        998      1         1        1   \n",
       "\n",
       "         yet_sum  \n",
       "6            0.0  \n",
       "11           0.0  \n",
       "20           0.0  \n",
       "22           0.0  \n",
       "25           0.0  \n",
       "...          ...  \n",
       "3692785      0.0  \n",
       "3692786      0.0  \n",
       "3692787      0.0  \n",
       "3692788      0.0  \n",
       "3692790      0.0  \n",
       "\n",
       "[2999907 rows x 23 columns]"
      ]
     },
     "execution_count": 128,
     "metadata": {},
     "output_type": "execute_result"
    }
   ],
   "source": [
    "df_data[df_data.duplicated()]"
   ]
  },
  {
   "cell_type": "markdown",
   "id": "edd77ae6-135f-4a1b-bb6e-947c4425d31b",
   "metadata": {},
   "source": [
    "## 2. Расшифровка кодов"
   ]
  },
  {
   "cell_type": "code",
   "execution_count": 129,
   "id": "9bfdc26f-5b66-4c52-be48-181c5129a3b5",
   "metadata": {},
   "outputs": [],
   "source": [
    "# расшифорвка названия субьекта Росссийской Федерации\n",
    "df_data = df_data.merge(f_032, left_on=\"oktmo\", right_on=\"OKTMO_P\", how=\"left\")"
   ]
  },
  {
   "cell_type": "code",
   "execution_count": 130,
   "id": "3bdb1b93-7aa0-4c87-a579-4c03ba5e7023",
   "metadata": {},
   "outputs": [],
   "source": [
    "df_data = df_data[\n",
    "    [\n",
    "        \"year\",\n",
    "        \"month\",\n",
    "        \"region\",\n",
    "        \"oktmo\",\n",
    "        \"SUBJ\",\n",
    "        \"clinic\",\n",
    "        \"oid\",\n",
    "        \"depart\",\n",
    "        \"branch\",\n",
    "        \"doctor_specialty\",\n",
    "        \"doctor_profile\",\n",
    "        \"terms\",\n",
    "        \"doctor_id\",\n",
    "        \"diagnosis\",\n",
    "        \"purpose\",\n",
    "        \"service_id\",\n",
    "        \"usl_service_id\",\n",
    "        \"usl_doctor_specialty\",\n",
    "        \"usl_clinic\",\n",
    "        \"usl_depart\",\n",
    "        \"sl_id\",\n",
    "        \"code_usl\",\n",
    "        \"kol_usl\",\n",
    "        \"yet_sum\",\n",
    "    ]\n",
    "].reset_index(drop=True)"
   ]
  },
  {
   "cell_type": "code",
   "execution_count": 131,
   "id": "f57fbf61-1274-409c-b1b4-30398acfece1",
   "metadata": {},
   "outputs": [],
   "source": [
    "# df_data = df_data.drop_duplicates()"
   ]
  },
  {
   "cell_type": "code",
   "execution_count": 132,
   "id": "807f050c-f8de-4965-a861-4ed3c9f1503c",
   "metadata": {},
   "outputs": [
    {
     "data": {
      "text/plain": [
       "(3692791, 24)"
      ]
     },
     "execution_count": 132,
     "metadata": {},
     "output_type": "execute_result"
    }
   ],
   "source": [
    "df_data.shape"
   ]
  },
  {
   "cell_type": "code",
   "execution_count": 133,
   "id": "32ddb08d-c38c-42ef-be93-5f2e3706e55c",
   "metadata": {},
   "outputs": [],
   "source": [
    "# расшифровка наименования (сокращённого) медучреждения\n",
    "df_data = df_data.merge(oid_data, left_on=\"oid\", right_on=\"oid\", how=\"left\")"
   ]
  },
  {
   "cell_type": "code",
   "execution_count": 134,
   "id": "8ec1b46f-5ebd-48e6-a6ed-dd76bdd17aea",
   "metadata": {},
   "outputs": [],
   "source": [
    "df_data = df_data[\n",
    "    [\n",
    "        \"year\",\n",
    "        \"month\",\n",
    "        \"region\",\n",
    "        \"oktmo\",\n",
    "        \"SUBJ\",\n",
    "        \"clinic\",\n",
    "        \"oid\",\n",
    "        \"nameShort\",\n",
    "        \"depart\",\n",
    "        \"branch\",\n",
    "        \"doctor_specialty\",\n",
    "        \"doctor_profile\",\n",
    "        \"terms\",\n",
    "        \"doctor_id\",\n",
    "        \"diagnosis\",\n",
    "        \"purpose\",\n",
    "        \"service_id\",\n",
    "        \"usl_service_id\",\n",
    "        \"usl_doctor_specialty\",\n",
    "        \"usl_clinic\",\n",
    "        \"usl_depart\",\n",
    "        \"sl_id\",\n",
    "        \"code_usl\",\n",
    "        \"kol_usl\",\n",
    "        \"yet_sum\",\n",
    "    ]\n",
    "].reset_index(drop=True)"
   ]
  },
  {
   "cell_type": "code",
   "execution_count": 135,
   "id": "02df0f40-152f-4e01-80ba-140069729c72",
   "metadata": {},
   "outputs": [
    {
     "data": {
      "text/plain": [
       "(3692791, 25)"
      ]
     },
     "execution_count": 135,
     "metadata": {},
     "output_type": "execute_result"
    }
   ],
   "source": [
    "df_data.shape"
   ]
  },
  {
   "cell_type": "code",
   "execution_count": 136,
   "id": "347381a3-07c6-4c2b-8e56-1aea8b2ab8a0",
   "metadata": {},
   "outputs": [],
   "source": [
    "# расшифровка специальности врача\n",
    "df_data = df_data.merge(\n",
    "    v_021, left_on=\"doctor_specialty\", right_on=\"IDSPEC\", how=\"left\"\n",
    ")"
   ]
  },
  {
   "cell_type": "code",
   "execution_count": 137,
   "id": "403b49ac-5953-44a2-83d2-8aa053de781b",
   "metadata": {},
   "outputs": [],
   "source": [
    "df_data = df_data[\n",
    "    [\n",
    "        \"year\",\n",
    "        \"month\",\n",
    "        \"region\",\n",
    "        \"oktmo\",\n",
    "        \"SUBJ\",\n",
    "        \"clinic\",\n",
    "        \"oid\",\n",
    "        \"nameShort\",\n",
    "        \"depart\",\n",
    "        \"branch\",\n",
    "        \"doctor_specialty\",\n",
    "        \"POSTNAME\",\n",
    "        \"doctor_profile\",\n",
    "        \"terms\",\n",
    "        \"doctor_id\",\n",
    "        \"diagnosis\",\n",
    "        \"purpose\",\n",
    "        \"service_id\",\n",
    "        \"usl_service_id\",\n",
    "        \"usl_doctor_specialty\",\n",
    "        \"usl_clinic\",\n",
    "        \"usl_depart\",\n",
    "        \"sl_id\",\n",
    "        \"code_usl\",\n",
    "        \"kol_usl\",\n",
    "        \"yet_sum\",\n",
    "    ]\n",
    "].reset_index(drop=True)"
   ]
  },
  {
   "cell_type": "code",
   "execution_count": 138,
   "id": "2fcc3ec9-bd43-4b35-bae3-1ec75c3553fd",
   "metadata": {},
   "outputs": [
    {
     "data": {
      "text/plain": [
       "(3692791, 26)"
      ]
     },
     "execution_count": 138,
     "metadata": {},
     "output_type": "execute_result"
    }
   ],
   "source": [
    "df_data.shape"
   ]
  },
  {
   "cell_type": "code",
   "execution_count": 139,
   "id": "8d11302c-3bfc-477c-a672-c391b3679d58",
   "metadata": {},
   "outputs": [],
   "source": [
    "# расшифровка профиля врача\n",
    "df_data = df_data.merge(v_002, left_on=\"doctor_profile\", right_on=\"IDPR\", how=\"left\")"
   ]
  },
  {
   "cell_type": "code",
   "execution_count": 140,
   "id": "10d9d482-9e43-46fe-aa76-159b75758f88",
   "metadata": {},
   "outputs": [],
   "source": [
    "df_data = df_data[\n",
    "    [\n",
    "        \"year\",\n",
    "        \"month\",\n",
    "        \"region\",\n",
    "        \"oktmo\",\n",
    "        \"SUBJ\",\n",
    "        \"clinic\",\n",
    "        \"oid\",\n",
    "        \"nameShort\",\n",
    "        \"depart\",\n",
    "        \"branch\",\n",
    "        \"doctor_specialty\",\n",
    "        \"POSTNAME\",\n",
    "        \"doctor_profile\",\n",
    "        \"PRNAME\",\n",
    "        \"terms\",\n",
    "        \"doctor_id\",\n",
    "        \"diagnosis\",\n",
    "        \"purpose\",\n",
    "        \"service_id\",\n",
    "        \"usl_service_id\",\n",
    "        \"usl_doctor_specialty\",\n",
    "        \"usl_clinic\",\n",
    "        \"usl_depart\",\n",
    "        \"sl_id\",\n",
    "        \"code_usl\",\n",
    "        \"kol_usl\",\n",
    "        \"yet_sum\",\n",
    "    ]\n",
    "].reset_index(drop=True)"
   ]
  },
  {
   "cell_type": "code",
   "execution_count": 141,
   "id": "9d371884-92e0-486c-a688-7580e9743bc4",
   "metadata": {},
   "outputs": [
    {
     "data": {
      "text/plain": [
       "(3692791, 27)"
      ]
     },
     "execution_count": 141,
     "metadata": {},
     "output_type": "execute_result"
    }
   ],
   "source": [
    "df_data.shape"
   ]
  },
  {
   "cell_type": "code",
   "execution_count": 142,
   "id": "05663730-8ce7-4429-9613-a14a41ac5393",
   "metadata": {},
   "outputs": [],
   "source": [
    "# расшифровка специальности врача, оказавшего услугу\n",
    "df_data = df_data.merge(\n",
    "    v_021, left_on=\"doctor_specialty\", right_on=\"IDSPEC\", how=\"left\"\n",
    ")"
   ]
  },
  {
   "cell_type": "code",
   "execution_count": 143,
   "id": "4f0d8d07-80ed-4251-b3df-98d6102aa2a6",
   "metadata": {},
   "outputs": [],
   "source": [
    "df_data = df_data[\n",
    "    [\n",
    "        \"year\",\n",
    "        \"month\",\n",
    "        \"region\",\n",
    "        \"oktmo\",\n",
    "        \"SUBJ\",\n",
    "        \"clinic\",\n",
    "        \"oid\",\n",
    "        \"nameShort\",\n",
    "        \"depart\",\n",
    "        \"branch\",\n",
    "        \"doctor_specialty\",\n",
    "        \"POSTNAME_x\",\n",
    "        \"doctor_profile\",\n",
    "        \"PRNAME\",\n",
    "        \"terms\",\n",
    "        \"doctor_id\",\n",
    "        \"diagnosis\",\n",
    "        \"purpose\",\n",
    "        \"service_id\",\n",
    "        \"usl_service_id\",\n",
    "        \"usl_doctor_specialty\",\n",
    "        \"POSTNAME_y\",\n",
    "        \"usl_clinic\",\n",
    "        \"usl_depart\",\n",
    "        \"sl_id\",\n",
    "        \"code_usl\",\n",
    "        \"kol_usl\",\n",
    "        \"yet_sum\",\n",
    "    ]\n",
    "].reset_index(drop=True)"
   ]
  },
  {
   "cell_type": "code",
   "execution_count": 144,
   "id": "85df8f17-0873-411d-aa55-bd2d1b4ceea6",
   "metadata": {},
   "outputs": [
    {
     "data": {
      "text/plain": [
       "(3692791, 28)"
      ]
     },
     "execution_count": 144,
     "metadata": {},
     "output_type": "execute_result"
    }
   ],
   "source": [
    "df_data.shape"
   ]
  },
  {
   "cell_type": "code",
   "execution_count": 145,
   "id": "eb0cf937-55da-4a57-a3f8-3cfaa9bac70b",
   "metadata": {},
   "outputs": [],
   "source": [
    "# расшифровка условий оказания помощи\n",
    "df_data = df_data.merge(v_006, left_on=\"terms\", right_on=\"IDUMP\", how=\"left\")"
   ]
  },
  {
   "cell_type": "code",
   "execution_count": 146,
   "id": "26a887d8-6cc5-484f-9cea-1bd37d010379",
   "metadata": {},
   "outputs": [],
   "source": [
    "df_data = df_data[\n",
    "    [\n",
    "        \"year\",\n",
    "        \"month\",\n",
    "        \"region\",\n",
    "        \"oktmo\",\n",
    "        \"SUBJ\",\n",
    "        \"clinic\",\n",
    "        \"oid\",\n",
    "        \"nameShort\",\n",
    "        \"depart\",\n",
    "        \"branch\",\n",
    "        \"doctor_specialty\",\n",
    "        \"POSTNAME_x\",\n",
    "        \"doctor_profile\",\n",
    "        \"PRNAME\",\n",
    "        \"terms\",\n",
    "        \"UMPNAME\",\n",
    "        \"doctor_id\",\n",
    "        \"diagnosis\",\n",
    "        \"purpose\",\n",
    "        \"service_id\",\n",
    "        \"usl_service_id\",\n",
    "        \"usl_doctor_specialty\",\n",
    "        \"POSTNAME_y\",\n",
    "        \"usl_clinic\",\n",
    "        \"usl_depart\",\n",
    "        \"sl_id\",\n",
    "        \"code_usl\",\n",
    "        \"kol_usl\",\n",
    "        \"yet_sum\",\n",
    "    ]\n",
    "].reset_index(drop=True)"
   ]
  },
  {
   "cell_type": "code",
   "execution_count": 147,
   "id": "04523e97-7db0-441b-b010-a4022607dbd5",
   "metadata": {},
   "outputs": [
    {
     "data": {
      "text/plain": [
       "(3692791, 29)"
      ]
     },
     "execution_count": 147,
     "metadata": {},
     "output_type": "execute_result"
    }
   ],
   "source": [
    "df_data.shape"
   ]
  },
  {
   "cell_type": "code",
   "execution_count": 148,
   "id": "35ef91c7-689d-475b-be60-20df05376159",
   "metadata": {},
   "outputs": [],
   "source": [
    "# расшифровка цели посещения\n",
    "df_data = df_data.merge(v_025, left_on=\"purpose\", right_on=\"IDPC\", how=\"left\")"
   ]
  },
  {
   "cell_type": "code",
   "execution_count": 149,
   "id": "660f1a58-a680-4b2d-8f56-fe918d5b1e52",
   "metadata": {},
   "outputs": [],
   "source": [
    "df_data = df_data[\n",
    "    [\n",
    "        \"year\",\n",
    "        \"month\",\n",
    "        \"region\",\n",
    "        \"oktmo\",\n",
    "        \"SUBJ\",\n",
    "        \"clinic\",\n",
    "        \"oid\",\n",
    "        \"nameShort\",\n",
    "        \"depart\",\n",
    "        \"branch\",\n",
    "        \"doctor_specialty\",\n",
    "        \"POSTNAME_x\",\n",
    "        \"doctor_profile\",\n",
    "        \"PRNAME\",\n",
    "        \"terms\",\n",
    "        \"UMPNAME\",\n",
    "        \"doctor_id\",\n",
    "        \"diagnosis\",\n",
    "        \"purpose\",\n",
    "        \"N_PC\",\n",
    "        \"service_id\",\n",
    "        \"usl_service_id\",\n",
    "        \"usl_doctor_specialty\",\n",
    "        \"POSTNAME_y\",\n",
    "        \"usl_clinic\",\n",
    "        \"usl_depart\",\n",
    "        \"sl_id\",\n",
    "        \"code_usl\",\n",
    "        \"kol_usl\",\n",
    "        \"yet_sum\",\n",
    "    ]\n",
    "].reset_index(drop=True)"
   ]
  },
  {
   "cell_type": "code",
   "execution_count": 150,
   "id": "82dcddba-de95-477b-98aa-b585ff453db7",
   "metadata": {},
   "outputs": [
    {
     "data": {
      "text/plain": [
       "(3692791, 30)"
      ]
     },
     "execution_count": 150,
     "metadata": {},
     "output_type": "execute_result"
    }
   ],
   "source": [
    "df_data.shape"
   ]
  },
  {
   "cell_type": "code",
   "execution_count": 151,
   "id": "29032046-7d56-48f1-b788-bdd901b2b1dd",
   "metadata": {},
   "outputs": [
    {
     "data": {
      "text/html": [
       "<div><div id=e002bd3a-4daa-4c5c-8ce9-de79bf0a5d53 style=\"display:none; background-color:#9D6CFF; color:white; width:200px; height:30px; padding-left:5px; border-radius:4px; flex-direction:row; justify-content:space-around; align-items:center;\" onmouseover=\"this.style.backgroundColor='#BA9BF8'\" onmouseout=\"this.style.backgroundColor='#9D6CFF'\" onclick=\"window.commands?.execute('create-mitosheet-from-dataframe-output');\">See Full Dataframe in Mito</div> <script> if (window.commands?.hasCommand('create-mitosheet-from-dataframe-output')) document.getElementById('e002bd3a-4daa-4c5c-8ce9-de79bf0a5d53').style.display = 'flex' </script> <table border=\"1\" class=\"dataframe\">\n",
       "  <thead>\n",
       "    <tr style=\"text-align: right;\">\n",
       "      <th></th>\n",
       "      <th>year</th>\n",
       "      <th>month</th>\n",
       "      <th>region</th>\n",
       "      <th>oktmo</th>\n",
       "      <th>SUBJ</th>\n",
       "      <th>clinic</th>\n",
       "      <th>oid</th>\n",
       "      <th>nameShort</th>\n",
       "      <th>depart</th>\n",
       "      <th>branch</th>\n",
       "      <th>...</th>\n",
       "      <th>service_id</th>\n",
       "      <th>usl_service_id</th>\n",
       "      <th>usl_doctor_specialty</th>\n",
       "      <th>POSTNAME_y</th>\n",
       "      <th>usl_clinic</th>\n",
       "      <th>usl_depart</th>\n",
       "      <th>sl_id</th>\n",
       "      <th>code_usl</th>\n",
       "      <th>kol_usl</th>\n",
       "      <th>yet_sum</th>\n",
       "    </tr>\n",
       "  </thead>\n",
       "  <tbody>\n",
       "    <tr>\n",
       "      <th>0</th>\n",
       "      <td>2023</td>\n",
       "      <td>1</td>\n",
       "      <td>25000</td>\n",
       "      <td>25000000000</td>\n",
       "      <td>Иркутская область</td>\n",
       "      <td>380049</td>\n",
       "      <td>1.2.643.5.1.13.13.12.2.38.3568</td>\n",
       "      <td>ОГБУЗ \"ИГП №15\"</td>\n",
       "      <td>11</td>\n",
       "      <td>1</td>\n",
       "      <td>...</td>\n",
       "      <td>B01.047.001</td>\n",
       "      <td>186</td>\n",
       "      <td>76</td>\n",
       "      <td>врач-терапевт</td>\n",
       "      <td>380049</td>\n",
       "      <td>11</td>\n",
       "      <td>1</td>\n",
       "      <td>1</td>\n",
       "      <td>1</td>\n",
       "      <td>0.0</td>\n",
       "    </tr>\n",
       "    <tr>\n",
       "      <th>1</th>\n",
       "      <td>2023</td>\n",
       "      <td>1</td>\n",
       "      <td>25000</td>\n",
       "      <td>25000000000</td>\n",
       "      <td>Иркутская область</td>\n",
       "      <td>380049</td>\n",
       "      <td>1.2.643.5.1.13.13.12.2.38.3568</td>\n",
       "      <td>ОГБУЗ \"ИГП №15\"</td>\n",
       "      <td>11</td>\n",
       "      <td>1</td>\n",
       "      <td>...</td>\n",
       "      <td>B01.047.001</td>\n",
       "      <td>192</td>\n",
       "      <td>76</td>\n",
       "      <td>врач-терапевт</td>\n",
       "      <td>380049</td>\n",
       "      <td>11</td>\n",
       "      <td>1</td>\n",
       "      <td>1</td>\n",
       "      <td>1</td>\n",
       "      <td>0.0</td>\n",
       "    </tr>\n",
       "    <tr>\n",
       "      <th>2</th>\n",
       "      <td>2023</td>\n",
       "      <td>1</td>\n",
       "      <td>25000</td>\n",
       "      <td>25000000000</td>\n",
       "      <td>Иркутская область</td>\n",
       "      <td>380049</td>\n",
       "      <td>1.2.643.5.1.13.13.12.2.38.3568</td>\n",
       "      <td>ОГБУЗ \"ИГП №15\"</td>\n",
       "      <td>11</td>\n",
       "      <td>1</td>\n",
       "      <td>...</td>\n",
       "      <td>B01.047.002</td>\n",
       "      <td>203</td>\n",
       "      <td>76</td>\n",
       "      <td>врач-терапевт</td>\n",
       "      <td>380049</td>\n",
       "      <td>11</td>\n",
       "      <td>1</td>\n",
       "      <td>1</td>\n",
       "      <td>1</td>\n",
       "      <td>0.0</td>\n",
       "    </tr>\n",
       "    <tr>\n",
       "      <th>3</th>\n",
       "      <td>2023</td>\n",
       "      <td>1</td>\n",
       "      <td>25000</td>\n",
       "      <td>25000000000</td>\n",
       "      <td>Иркутская область</td>\n",
       "      <td>380049</td>\n",
       "      <td>1.2.643.5.1.13.13.12.2.38.3568</td>\n",
       "      <td>ОГБУЗ \"ИГП №15\"</td>\n",
       "      <td>11</td>\n",
       "      <td>1</td>\n",
       "      <td>...</td>\n",
       "      <td>B01.047.002</td>\n",
       "      <td>035</td>\n",
       "      <td>76</td>\n",
       "      <td>врач-терапевт</td>\n",
       "      <td>380049</td>\n",
       "      <td>11</td>\n",
       "      <td>1</td>\n",
       "      <td>2</td>\n",
       "      <td>2</td>\n",
       "      <td>0.0</td>\n",
       "    </tr>\n",
       "    <tr>\n",
       "      <th>4</th>\n",
       "      <td>2023</td>\n",
       "      <td>1</td>\n",
       "      <td>25000</td>\n",
       "      <td>25000000000</td>\n",
       "      <td>Иркутская область</td>\n",
       "      <td>380049</td>\n",
       "      <td>1.2.643.5.1.13.13.12.2.38.3568</td>\n",
       "      <td>ОГБУЗ \"ИГП №15\"</td>\n",
       "      <td>11</td>\n",
       "      <td>1</td>\n",
       "      <td>...</td>\n",
       "      <td>B01.047.001</td>\n",
       "      <td>035</td>\n",
       "      <td>76</td>\n",
       "      <td>врач-терапевт</td>\n",
       "      <td>380049</td>\n",
       "      <td>11</td>\n",
       "      <td>1</td>\n",
       "      <td>1</td>\n",
       "      <td>1</td>\n",
       "      <td>0.0</td>\n",
       "    </tr>\n",
       "    <tr>\n",
       "      <th>...</th>\n",
       "      <td>...</td>\n",
       "      <td>...</td>\n",
       "      <td>...</td>\n",
       "      <td>...</td>\n",
       "      <td>...</td>\n",
       "      <td>...</td>\n",
       "      <td>...</td>\n",
       "      <td>...</td>\n",
       "      <td>...</td>\n",
       "      <td>...</td>\n",
       "      <td>...</td>\n",
       "      <td>...</td>\n",
       "      <td>...</td>\n",
       "      <td>...</td>\n",
       "      <td>...</td>\n",
       "      <td>...</td>\n",
       "      <td>...</td>\n",
       "      <td>...</td>\n",
       "      <td>...</td>\n",
       "      <td>...</td>\n",
       "      <td>...</td>\n",
       "    </tr>\n",
       "    <tr>\n",
       "      <th>3692786</th>\n",
       "      <td>2023</td>\n",
       "      <td>2</td>\n",
       "      <td>25000</td>\n",
       "      <td>25000000000</td>\n",
       "      <td>Иркутская область</td>\n",
       "      <td>380121</td>\n",
       "      <td>1.2.643.5.1.13.13.12.2.38.3535</td>\n",
       "      <td>ОГАУЗ Братская городская больница 5</td>\n",
       "      <td>998</td>\n",
       "      <td>24</td>\n",
       "      <td>...</td>\n",
       "      <td>A06.09.005</td>\n",
       "      <td>139</td>\n",
       "      <td>60</td>\n",
       "      <td>врач-рентгенолог</td>\n",
       "      <td>380121</td>\n",
       "      <td>998</td>\n",
       "      <td>1</td>\n",
       "      <td>1</td>\n",
       "      <td>1</td>\n",
       "      <td>0.0</td>\n",
       "    </tr>\n",
       "    <tr>\n",
       "      <th>3692787</th>\n",
       "      <td>2023</td>\n",
       "      <td>2</td>\n",
       "      <td>25000</td>\n",
       "      <td>25000000000</td>\n",
       "      <td>Иркутская область</td>\n",
       "      <td>380121</td>\n",
       "      <td>1.2.643.5.1.13.13.12.2.38.3535</td>\n",
       "      <td>ОГАУЗ Братская городская больница 5</td>\n",
       "      <td>998</td>\n",
       "      <td>24</td>\n",
       "      <td>...</td>\n",
       "      <td>A06.09.005</td>\n",
       "      <td>207</td>\n",
       "      <td>60</td>\n",
       "      <td>врач-рентгенолог</td>\n",
       "      <td>380121</td>\n",
       "      <td>998</td>\n",
       "      <td>1</td>\n",
       "      <td>1</td>\n",
       "      <td>1</td>\n",
       "      <td>0.0</td>\n",
       "    </tr>\n",
       "    <tr>\n",
       "      <th>3692788</th>\n",
       "      <td>2023</td>\n",
       "      <td>2</td>\n",
       "      <td>25000</td>\n",
       "      <td>25000000000</td>\n",
       "      <td>Иркутская область</td>\n",
       "      <td>380121</td>\n",
       "      <td>1.2.643.5.1.13.13.12.2.38.3535</td>\n",
       "      <td>ОГАУЗ Братская городская больница 5</td>\n",
       "      <td>998</td>\n",
       "      <td>24</td>\n",
       "      <td>...</td>\n",
       "      <td>A06.09.005</td>\n",
       "      <td>207</td>\n",
       "      <td>60</td>\n",
       "      <td>врач-рентгенолог</td>\n",
       "      <td>380121</td>\n",
       "      <td>998</td>\n",
       "      <td>1</td>\n",
       "      <td>1</td>\n",
       "      <td>1</td>\n",
       "      <td>0.0</td>\n",
       "    </tr>\n",
       "    <tr>\n",
       "      <th>3692789</th>\n",
       "      <td>2023</td>\n",
       "      <td>2</td>\n",
       "      <td>25000</td>\n",
       "      <td>25000000000</td>\n",
       "      <td>Иркутская область</td>\n",
       "      <td>380121</td>\n",
       "      <td>1.2.643.5.1.13.13.12.2.38.3535</td>\n",
       "      <td>ОГАУЗ Братская городская больница 5</td>\n",
       "      <td>998</td>\n",
       "      <td>24</td>\n",
       "      <td>...</td>\n",
       "      <td>A06.09.005</td>\n",
       "      <td>206</td>\n",
       "      <td>60</td>\n",
       "      <td>врач-рентгенолог</td>\n",
       "      <td>380121</td>\n",
       "      <td>998</td>\n",
       "      <td>1</td>\n",
       "      <td>1</td>\n",
       "      <td>1</td>\n",
       "      <td>0.0</td>\n",
       "    </tr>\n",
       "    <tr>\n",
       "      <th>3692790</th>\n",
       "      <td>2023</td>\n",
       "      <td>2</td>\n",
       "      <td>25000</td>\n",
       "      <td>25000000000</td>\n",
       "      <td>Иркутская область</td>\n",
       "      <td>380121</td>\n",
       "      <td>1.2.643.5.1.13.13.12.2.38.3535</td>\n",
       "      <td>ОГАУЗ Братская городская больница 5</td>\n",
       "      <td>998</td>\n",
       "      <td>24</td>\n",
       "      <td>...</td>\n",
       "      <td>A06.09.005</td>\n",
       "      <td>207</td>\n",
       "      <td>60</td>\n",
       "      <td>врач-рентгенолог</td>\n",
       "      <td>380121</td>\n",
       "      <td>998</td>\n",
       "      <td>1</td>\n",
       "      <td>1</td>\n",
       "      <td>1</td>\n",
       "      <td>0.0</td>\n",
       "    </tr>\n",
       "  </tbody>\n",
       "</table></div>"
      ],
      "text/plain": [
       "         year  month  region        oktmo               SUBJ  clinic  \\\n",
       "0        2023      1   25000  25000000000  Иркутская область  380049   \n",
       "1        2023      1   25000  25000000000  Иркутская область  380049   \n",
       "2        2023      1   25000  25000000000  Иркутская область  380049   \n",
       "3        2023      1   25000  25000000000  Иркутская область  380049   \n",
       "4        2023      1   25000  25000000000  Иркутская область  380049   \n",
       "...       ...    ...     ...          ...                ...     ...   \n",
       "3692786  2023      2   25000  25000000000  Иркутская область  380121   \n",
       "3692787  2023      2   25000  25000000000  Иркутская область  380121   \n",
       "3692788  2023      2   25000  25000000000  Иркутская область  380121   \n",
       "3692789  2023      2   25000  25000000000  Иркутская область  380121   \n",
       "3692790  2023      2   25000  25000000000  Иркутская область  380121   \n",
       "\n",
       "                                    oid                            nameShort  \\\n",
       "0        1.2.643.5.1.13.13.12.2.38.3568                      ОГБУЗ \"ИГП №15\"   \n",
       "1        1.2.643.5.1.13.13.12.2.38.3568                      ОГБУЗ \"ИГП №15\"   \n",
       "2        1.2.643.5.1.13.13.12.2.38.3568                      ОГБУЗ \"ИГП №15\"   \n",
       "3        1.2.643.5.1.13.13.12.2.38.3568                      ОГБУЗ \"ИГП №15\"   \n",
       "4        1.2.643.5.1.13.13.12.2.38.3568                      ОГБУЗ \"ИГП №15\"   \n",
       "...                                 ...                                  ...   \n",
       "3692786  1.2.643.5.1.13.13.12.2.38.3535  ОГАУЗ Братская городская больница 5   \n",
       "3692787  1.2.643.5.1.13.13.12.2.38.3535  ОГАУЗ Братская городская больница 5   \n",
       "3692788  1.2.643.5.1.13.13.12.2.38.3535  ОГАУЗ Братская городская больница 5   \n",
       "3692789  1.2.643.5.1.13.13.12.2.38.3535  ОГАУЗ Братская городская больница 5   \n",
       "3692790  1.2.643.5.1.13.13.12.2.38.3535  ОГАУЗ Братская городская больница 5   \n",
       "\n",
       "         depart branch  ...   service_id usl_service_id  usl_doctor_specialty  \\\n",
       "0            11      1  ...  B01.047.001            186                    76   \n",
       "1            11      1  ...  B01.047.001            192                    76   \n",
       "2            11      1  ...  B01.047.002            203                    76   \n",
       "3            11      1  ...  B01.047.002            035                    76   \n",
       "4            11      1  ...  B01.047.001            035                    76   \n",
       "...         ...    ...  ...          ...            ...                   ...   \n",
       "3692786     998     24  ...   A06.09.005            139                    60   \n",
       "3692787     998     24  ...   A06.09.005            207                    60   \n",
       "3692788     998     24  ...   A06.09.005            207                    60   \n",
       "3692789     998     24  ...   A06.09.005            206                    60   \n",
       "3692790     998     24  ...   A06.09.005            207                    60   \n",
       "\n",
       "               POSTNAME_y  usl_clinic usl_depart sl_id code_usl  kol_usl  \\\n",
       "0           врач-терапевт      380049         11     1        1        1   \n",
       "1           врач-терапевт      380049         11     1        1        1   \n",
       "2           врач-терапевт      380049         11     1        1        1   \n",
       "3           врач-терапевт      380049         11     1        2        2   \n",
       "4           врач-терапевт      380049         11     1        1        1   \n",
       "...                   ...         ...        ...   ...      ...      ...   \n",
       "3692786  врач-рентгенолог      380121        998     1        1        1   \n",
       "3692787  врач-рентгенолог      380121        998     1        1        1   \n",
       "3692788  врач-рентгенолог      380121        998     1        1        1   \n",
       "3692789  врач-рентгенолог      380121        998     1        1        1   \n",
       "3692790  врач-рентгенолог      380121        998     1        1        1   \n",
       "\n",
       "        yet_sum  \n",
       "0           0.0  \n",
       "1           0.0  \n",
       "2           0.0  \n",
       "3           0.0  \n",
       "4           0.0  \n",
       "...         ...  \n",
       "3692786     0.0  \n",
       "3692787     0.0  \n",
       "3692788     0.0  \n",
       "3692789     0.0  \n",
       "3692790     0.0  \n",
       "\n",
       "[3692791 rows x 30 columns]"
      ]
     },
     "execution_count": 151,
     "metadata": {},
     "output_type": "execute_result"
    }
   ],
   "source": [
    "df_data"
   ]
  },
  {
   "cell_type": "markdown",
   "id": "82983a0e-f8e0-4d24-b25d-2e32be63cfd8",
   "metadata": {},
   "source": [
    "## 3. Расчёт количества посещений"
   ]
  },
  {
   "cell_type": "code",
   "execution_count": 152,
   "id": "4cb37bc5-1cba-4b19-b8db-360cdf97edd1",
   "metadata": {},
   "outputs": [
    {
     "name": "stdout",
     "output_type": "stream",
     "text": [
      "CPU times: user 52.3 s, sys: 1.11 s, total: 53.4 s\n",
      "Wall time: 53.4 s\n"
     ]
    }
   ],
   "source": [
    "%%time\n",
    "# определение количества посещений\n",
    "df_data[\"visit_count\"] = df_data.apply(visit_count, axis=1)"
   ]
  },
  {
   "cell_type": "code",
   "execution_count": 153,
   "id": "a4c59216-65f1-4f6a-b199-9e6812f4979b",
   "metadata": {},
   "outputs": [
    {
     "data": {
      "text/html": [
       "<div><div id=8635e41c-b4bb-40d3-8838-06ec2f143cf3 style=\"display:none; background-color:#9D6CFF; color:white; width:200px; height:30px; padding-left:5px; border-radius:4px; flex-direction:row; justify-content:space-around; align-items:center;\" onmouseover=\"this.style.backgroundColor='#BA9BF8'\" onmouseout=\"this.style.backgroundColor='#9D6CFF'\" onclick=\"window.commands?.execute('create-mitosheet-from-dataframe-output');\">See Full Dataframe in Mito</div> <script> if (window.commands?.hasCommand('create-mitosheet-from-dataframe-output')) document.getElementById('8635e41c-b4bb-40d3-8838-06ec2f143cf3').style.display = 'flex' </script> <table border=\"1\" class=\"dataframe\">\n",
       "  <thead>\n",
       "    <tr style=\"text-align: right;\">\n",
       "      <th></th>\n",
       "      <th>year</th>\n",
       "      <th>month</th>\n",
       "      <th>region</th>\n",
       "      <th>oktmo</th>\n",
       "      <th>SUBJ</th>\n",
       "      <th>clinic</th>\n",
       "      <th>oid</th>\n",
       "      <th>nameShort</th>\n",
       "      <th>depart</th>\n",
       "      <th>branch</th>\n",
       "      <th>...</th>\n",
       "      <th>usl_service_id</th>\n",
       "      <th>usl_doctor_specialty</th>\n",
       "      <th>POSTNAME_y</th>\n",
       "      <th>usl_clinic</th>\n",
       "      <th>usl_depart</th>\n",
       "      <th>sl_id</th>\n",
       "      <th>code_usl</th>\n",
       "      <th>kol_usl</th>\n",
       "      <th>yet_sum</th>\n",
       "      <th>visit_count</th>\n",
       "    </tr>\n",
       "  </thead>\n",
       "  <tbody>\n",
       "    <tr>\n",
       "      <th>0</th>\n",
       "      <td>2023</td>\n",
       "      <td>1</td>\n",
       "      <td>25000</td>\n",
       "      <td>25000000000</td>\n",
       "      <td>Иркутская область</td>\n",
       "      <td>380049</td>\n",
       "      <td>1.2.643.5.1.13.13.12.2.38.3568</td>\n",
       "      <td>ОГБУЗ \"ИГП №15\"</td>\n",
       "      <td>11</td>\n",
       "      <td>1</td>\n",
       "      <td>...</td>\n",
       "      <td>186</td>\n",
       "      <td>76</td>\n",
       "      <td>врач-терапевт</td>\n",
       "      <td>380049</td>\n",
       "      <td>11</td>\n",
       "      <td>1</td>\n",
       "      <td>1</td>\n",
       "      <td>1</td>\n",
       "      <td>0.0</td>\n",
       "      <td>1</td>\n",
       "    </tr>\n",
       "    <tr>\n",
       "      <th>1</th>\n",
       "      <td>2023</td>\n",
       "      <td>1</td>\n",
       "      <td>25000</td>\n",
       "      <td>25000000000</td>\n",
       "      <td>Иркутская область</td>\n",
       "      <td>380049</td>\n",
       "      <td>1.2.643.5.1.13.13.12.2.38.3568</td>\n",
       "      <td>ОГБУЗ \"ИГП №15\"</td>\n",
       "      <td>11</td>\n",
       "      <td>1</td>\n",
       "      <td>...</td>\n",
       "      <td>192</td>\n",
       "      <td>76</td>\n",
       "      <td>врач-терапевт</td>\n",
       "      <td>380049</td>\n",
       "      <td>11</td>\n",
       "      <td>1</td>\n",
       "      <td>1</td>\n",
       "      <td>1</td>\n",
       "      <td>0.0</td>\n",
       "      <td>1</td>\n",
       "    </tr>\n",
       "    <tr>\n",
       "      <th>2</th>\n",
       "      <td>2023</td>\n",
       "      <td>1</td>\n",
       "      <td>25000</td>\n",
       "      <td>25000000000</td>\n",
       "      <td>Иркутская область</td>\n",
       "      <td>380049</td>\n",
       "      <td>1.2.643.5.1.13.13.12.2.38.3568</td>\n",
       "      <td>ОГБУЗ \"ИГП №15\"</td>\n",
       "      <td>11</td>\n",
       "      <td>1</td>\n",
       "      <td>...</td>\n",
       "      <td>203</td>\n",
       "      <td>76</td>\n",
       "      <td>врач-терапевт</td>\n",
       "      <td>380049</td>\n",
       "      <td>11</td>\n",
       "      <td>1</td>\n",
       "      <td>1</td>\n",
       "      <td>1</td>\n",
       "      <td>0.0</td>\n",
       "      <td>1</td>\n",
       "    </tr>\n",
       "    <tr>\n",
       "      <th>3</th>\n",
       "      <td>2023</td>\n",
       "      <td>1</td>\n",
       "      <td>25000</td>\n",
       "      <td>25000000000</td>\n",
       "      <td>Иркутская область</td>\n",
       "      <td>380049</td>\n",
       "      <td>1.2.643.5.1.13.13.12.2.38.3568</td>\n",
       "      <td>ОГБУЗ \"ИГП №15\"</td>\n",
       "      <td>11</td>\n",
       "      <td>1</td>\n",
       "      <td>...</td>\n",
       "      <td>035</td>\n",
       "      <td>76</td>\n",
       "      <td>врач-терапевт</td>\n",
       "      <td>380049</td>\n",
       "      <td>11</td>\n",
       "      <td>1</td>\n",
       "      <td>2</td>\n",
       "      <td>2</td>\n",
       "      <td>0.0</td>\n",
       "      <td>4</td>\n",
       "    </tr>\n",
       "    <tr>\n",
       "      <th>4</th>\n",
       "      <td>2023</td>\n",
       "      <td>1</td>\n",
       "      <td>25000</td>\n",
       "      <td>25000000000</td>\n",
       "      <td>Иркутская область</td>\n",
       "      <td>380049</td>\n",
       "      <td>1.2.643.5.1.13.13.12.2.38.3568</td>\n",
       "      <td>ОГБУЗ \"ИГП №15\"</td>\n",
       "      <td>11</td>\n",
       "      <td>1</td>\n",
       "      <td>...</td>\n",
       "      <td>035</td>\n",
       "      <td>76</td>\n",
       "      <td>врач-терапевт</td>\n",
       "      <td>380049</td>\n",
       "      <td>11</td>\n",
       "      <td>1</td>\n",
       "      <td>1</td>\n",
       "      <td>1</td>\n",
       "      <td>0.0</td>\n",
       "      <td>1</td>\n",
       "    </tr>\n",
       "    <tr>\n",
       "      <th>...</th>\n",
       "      <td>...</td>\n",
       "      <td>...</td>\n",
       "      <td>...</td>\n",
       "      <td>...</td>\n",
       "      <td>...</td>\n",
       "      <td>...</td>\n",
       "      <td>...</td>\n",
       "      <td>...</td>\n",
       "      <td>...</td>\n",
       "      <td>...</td>\n",
       "      <td>...</td>\n",
       "      <td>...</td>\n",
       "      <td>...</td>\n",
       "      <td>...</td>\n",
       "      <td>...</td>\n",
       "      <td>...</td>\n",
       "      <td>...</td>\n",
       "      <td>...</td>\n",
       "      <td>...</td>\n",
       "      <td>...</td>\n",
       "      <td>...</td>\n",
       "    </tr>\n",
       "    <tr>\n",
       "      <th>3692786</th>\n",
       "      <td>2023</td>\n",
       "      <td>2</td>\n",
       "      <td>25000</td>\n",
       "      <td>25000000000</td>\n",
       "      <td>Иркутская область</td>\n",
       "      <td>380121</td>\n",
       "      <td>1.2.643.5.1.13.13.12.2.38.3535</td>\n",
       "      <td>ОГАУЗ Братская городская больница 5</td>\n",
       "      <td>998</td>\n",
       "      <td>24</td>\n",
       "      <td>...</td>\n",
       "      <td>139</td>\n",
       "      <td>60</td>\n",
       "      <td>врач-рентгенолог</td>\n",
       "      <td>380121</td>\n",
       "      <td>998</td>\n",
       "      <td>1</td>\n",
       "      <td>1</td>\n",
       "      <td>1</td>\n",
       "      <td>0.0</td>\n",
       "      <td>1</td>\n",
       "    </tr>\n",
       "    <tr>\n",
       "      <th>3692787</th>\n",
       "      <td>2023</td>\n",
       "      <td>2</td>\n",
       "      <td>25000</td>\n",
       "      <td>25000000000</td>\n",
       "      <td>Иркутская область</td>\n",
       "      <td>380121</td>\n",
       "      <td>1.2.643.5.1.13.13.12.2.38.3535</td>\n",
       "      <td>ОГАУЗ Братская городская больница 5</td>\n",
       "      <td>998</td>\n",
       "      <td>24</td>\n",
       "      <td>...</td>\n",
       "      <td>207</td>\n",
       "      <td>60</td>\n",
       "      <td>врач-рентгенолог</td>\n",
       "      <td>380121</td>\n",
       "      <td>998</td>\n",
       "      <td>1</td>\n",
       "      <td>1</td>\n",
       "      <td>1</td>\n",
       "      <td>0.0</td>\n",
       "      <td>1</td>\n",
       "    </tr>\n",
       "    <tr>\n",
       "      <th>3692788</th>\n",
       "      <td>2023</td>\n",
       "      <td>2</td>\n",
       "      <td>25000</td>\n",
       "      <td>25000000000</td>\n",
       "      <td>Иркутская область</td>\n",
       "      <td>380121</td>\n",
       "      <td>1.2.643.5.1.13.13.12.2.38.3535</td>\n",
       "      <td>ОГАУЗ Братская городская больница 5</td>\n",
       "      <td>998</td>\n",
       "      <td>24</td>\n",
       "      <td>...</td>\n",
       "      <td>207</td>\n",
       "      <td>60</td>\n",
       "      <td>врач-рентгенолог</td>\n",
       "      <td>380121</td>\n",
       "      <td>998</td>\n",
       "      <td>1</td>\n",
       "      <td>1</td>\n",
       "      <td>1</td>\n",
       "      <td>0.0</td>\n",
       "      <td>1</td>\n",
       "    </tr>\n",
       "    <tr>\n",
       "      <th>3692789</th>\n",
       "      <td>2023</td>\n",
       "      <td>2</td>\n",
       "      <td>25000</td>\n",
       "      <td>25000000000</td>\n",
       "      <td>Иркутская область</td>\n",
       "      <td>380121</td>\n",
       "      <td>1.2.643.5.1.13.13.12.2.38.3535</td>\n",
       "      <td>ОГАУЗ Братская городская больница 5</td>\n",
       "      <td>998</td>\n",
       "      <td>24</td>\n",
       "      <td>...</td>\n",
       "      <td>206</td>\n",
       "      <td>60</td>\n",
       "      <td>врач-рентгенолог</td>\n",
       "      <td>380121</td>\n",
       "      <td>998</td>\n",
       "      <td>1</td>\n",
       "      <td>1</td>\n",
       "      <td>1</td>\n",
       "      <td>0.0</td>\n",
       "      <td>1</td>\n",
       "    </tr>\n",
       "    <tr>\n",
       "      <th>3692790</th>\n",
       "      <td>2023</td>\n",
       "      <td>2</td>\n",
       "      <td>25000</td>\n",
       "      <td>25000000000</td>\n",
       "      <td>Иркутская область</td>\n",
       "      <td>380121</td>\n",
       "      <td>1.2.643.5.1.13.13.12.2.38.3535</td>\n",
       "      <td>ОГАУЗ Братская городская больница 5</td>\n",
       "      <td>998</td>\n",
       "      <td>24</td>\n",
       "      <td>...</td>\n",
       "      <td>207</td>\n",
       "      <td>60</td>\n",
       "      <td>врач-рентгенолог</td>\n",
       "      <td>380121</td>\n",
       "      <td>998</td>\n",
       "      <td>1</td>\n",
       "      <td>1</td>\n",
       "      <td>1</td>\n",
       "      <td>0.0</td>\n",
       "      <td>1</td>\n",
       "    </tr>\n",
       "  </tbody>\n",
       "</table></div>"
      ],
      "text/plain": [
       "         year  month  region        oktmo               SUBJ  clinic  \\\n",
       "0        2023      1   25000  25000000000  Иркутская область  380049   \n",
       "1        2023      1   25000  25000000000  Иркутская область  380049   \n",
       "2        2023      1   25000  25000000000  Иркутская область  380049   \n",
       "3        2023      1   25000  25000000000  Иркутская область  380049   \n",
       "4        2023      1   25000  25000000000  Иркутская область  380049   \n",
       "...       ...    ...     ...          ...                ...     ...   \n",
       "3692786  2023      2   25000  25000000000  Иркутская область  380121   \n",
       "3692787  2023      2   25000  25000000000  Иркутская область  380121   \n",
       "3692788  2023      2   25000  25000000000  Иркутская область  380121   \n",
       "3692789  2023      2   25000  25000000000  Иркутская область  380121   \n",
       "3692790  2023      2   25000  25000000000  Иркутская область  380121   \n",
       "\n",
       "                                    oid                            nameShort  \\\n",
       "0        1.2.643.5.1.13.13.12.2.38.3568                      ОГБУЗ \"ИГП №15\"   \n",
       "1        1.2.643.5.1.13.13.12.2.38.3568                      ОГБУЗ \"ИГП №15\"   \n",
       "2        1.2.643.5.1.13.13.12.2.38.3568                      ОГБУЗ \"ИГП №15\"   \n",
       "3        1.2.643.5.1.13.13.12.2.38.3568                      ОГБУЗ \"ИГП №15\"   \n",
       "4        1.2.643.5.1.13.13.12.2.38.3568                      ОГБУЗ \"ИГП №15\"   \n",
       "...                                 ...                                  ...   \n",
       "3692786  1.2.643.5.1.13.13.12.2.38.3535  ОГАУЗ Братская городская больница 5   \n",
       "3692787  1.2.643.5.1.13.13.12.2.38.3535  ОГАУЗ Братская городская больница 5   \n",
       "3692788  1.2.643.5.1.13.13.12.2.38.3535  ОГАУЗ Братская городская больница 5   \n",
       "3692789  1.2.643.5.1.13.13.12.2.38.3535  ОГАУЗ Братская городская больница 5   \n",
       "3692790  1.2.643.5.1.13.13.12.2.38.3535  ОГАУЗ Братская городская больница 5   \n",
       "\n",
       "         depart branch  ...  usl_service_id usl_doctor_specialty  \\\n",
       "0            11      1  ...             186                   76   \n",
       "1            11      1  ...             192                   76   \n",
       "2            11      1  ...             203                   76   \n",
       "3            11      1  ...             035                   76   \n",
       "4            11      1  ...             035                   76   \n",
       "...         ...    ...  ...             ...                  ...   \n",
       "3692786     998     24  ...             139                   60   \n",
       "3692787     998     24  ...             207                   60   \n",
       "3692788     998     24  ...             207                   60   \n",
       "3692789     998     24  ...             206                   60   \n",
       "3692790     998     24  ...             207                   60   \n",
       "\n",
       "               POSTNAME_y usl_clinic  usl_depart sl_id code_usl kol_usl  \\\n",
       "0           врач-терапевт     380049          11     1        1       1   \n",
       "1           врач-терапевт     380049          11     1        1       1   \n",
       "2           врач-терапевт     380049          11     1        1       1   \n",
       "3           врач-терапевт     380049          11     1        2       2   \n",
       "4           врач-терапевт     380049          11     1        1       1   \n",
       "...                   ...        ...         ...   ...      ...     ...   \n",
       "3692786  врач-рентгенолог     380121         998     1        1       1   \n",
       "3692787  врач-рентгенолог     380121         998     1        1       1   \n",
       "3692788  врач-рентгенолог     380121         998     1        1       1   \n",
       "3692789  врач-рентгенолог     380121         998     1        1       1   \n",
       "3692790  врач-рентгенолог     380121         998     1        1       1   \n",
       "\n",
       "         yet_sum visit_count  \n",
       "0            0.0           1  \n",
       "1            0.0           1  \n",
       "2            0.0           1  \n",
       "3            0.0           4  \n",
       "4            0.0           1  \n",
       "...          ...         ...  \n",
       "3692786      0.0           1  \n",
       "3692787      0.0           1  \n",
       "3692788      0.0           1  \n",
       "3692789      0.0           1  \n",
       "3692790      0.0           1  \n",
       "\n",
       "[3692791 rows x 31 columns]"
      ]
     },
     "execution_count": 153,
     "metadata": {},
     "output_type": "execute_result"
    }
   ],
   "source": [
    "df_data"
   ]
  },
  {
   "cell_type": "markdown",
   "id": "c6290782-425f-44d5-96f7-b0910cde6ac4",
   "metadata": {},
   "source": [
    "## 4. Контроль результатов"
   ]
  },
  {
   "cell_type": "code",
   "execution_count": 154,
   "id": "114ded8f-a7dd-4175-9980-badec522d19e",
   "metadata": {},
   "outputs": [
    {
     "name": "stdout",
     "output_type": "stream",
     "text": [
      "<class 'pandas.core.frame.DataFrame'>\n",
      "RangeIndex: 3692791 entries, 0 to 3692790\n",
      "Data columns (total 31 columns):\n",
      " #   Column                Dtype  \n",
      "---  ------                -----  \n",
      " 0   year                  int64  \n",
      " 1   month                 int64  \n",
      " 2   region                int64  \n",
      " 3   oktmo                 int64  \n",
      " 4   SUBJ                  object \n",
      " 5   clinic                int64  \n",
      " 6   oid                   object \n",
      " 7   nameShort             object \n",
      " 8   depart                int64  \n",
      " 9   branch                object \n",
      " 10  doctor_specialty      int64  \n",
      " 11  POSTNAME_x            object \n",
      " 12  doctor_profile        int64  \n",
      " 13  PRNAME                object \n",
      " 14  terms                 int64  \n",
      " 15  UMPNAME               object \n",
      " 16  doctor_id             object \n",
      " 17  diagnosis             object \n",
      " 18  purpose               float64\n",
      " 19  N_PC                  object \n",
      " 20  service_id            object \n",
      " 21  usl_service_id        object \n",
      " 22  usl_doctor_specialty  int64  \n",
      " 23  POSTNAME_y            object \n",
      " 24  usl_clinic            int64  \n",
      " 25  usl_depart            int64  \n",
      " 26  sl_id                 int64  \n",
      " 27  code_usl              int64  \n",
      " 28  kol_usl               int64  \n",
      " 29  yet_sum               float64\n",
      " 30  visit_count           int64  \n",
      "dtypes: float64(2), int64(16), object(13)\n",
      "memory usage: 873.4+ MB\n"
     ]
    }
   ],
   "source": [
    "# формат данных\n",
    "df_data.info()"
   ]
  },
  {
   "cell_type": "code",
   "execution_count": 155,
   "id": "1637ef76-6f37-4185-8dff-d8694f24b9ef",
   "metadata": {},
   "outputs": [
    {
     "data": {
      "text/html": [
       "<div><div id=d09b3ecf-7c36-4485-b86c-c266805f6c5f style=\"display:none; background-color:#9D6CFF; color:white; width:200px; height:30px; padding-left:5px; border-radius:4px; flex-direction:row; justify-content:space-around; align-items:center;\" onmouseover=\"this.style.backgroundColor='#BA9BF8'\" onmouseout=\"this.style.backgroundColor='#9D6CFF'\" onclick=\"window.commands?.execute('create-mitosheet-from-dataframe-output');\">See Full Dataframe in Mito</div> <script> if (window.commands?.hasCommand('create-mitosheet-from-dataframe-output')) document.getElementById('d09b3ecf-7c36-4485-b86c-c266805f6c5f').style.display = 'flex' </script> <table border=\"1\" class=\"dataframe\">\n",
       "  <thead>\n",
       "    <tr style=\"text-align: right;\">\n",
       "      <th></th>\n",
       "      <th>year</th>\n",
       "      <th>month</th>\n",
       "      <th>region</th>\n",
       "      <th>oktmo</th>\n",
       "      <th>SUBJ</th>\n",
       "      <th>clinic</th>\n",
       "      <th>oid</th>\n",
       "      <th>nameShort</th>\n",
       "      <th>depart</th>\n",
       "      <th>branch</th>\n",
       "      <th>...</th>\n",
       "      <th>usl_service_id</th>\n",
       "      <th>usl_doctor_specialty</th>\n",
       "      <th>POSTNAME_y</th>\n",
       "      <th>usl_clinic</th>\n",
       "      <th>usl_depart</th>\n",
       "      <th>sl_id</th>\n",
       "      <th>code_usl</th>\n",
       "      <th>kol_usl</th>\n",
       "      <th>yet_sum</th>\n",
       "      <th>visit_count</th>\n",
       "    </tr>\n",
       "  </thead>\n",
       "  <tbody>\n",
       "  </tbody>\n",
       "</table></div>"
      ],
      "text/plain": [
       "Empty DataFrame\n",
       "Columns: [year, month, region, oktmo, SUBJ, clinic, oid, nameShort, depart, branch, doctor_specialty, POSTNAME_x, doctor_profile, PRNAME, terms, UMPNAME, doctor_id, diagnosis, purpose, N_PC, service_id, usl_service_id, usl_doctor_specialty, POSTNAME_y, usl_clinic, usl_depart, sl_id, code_usl, kol_usl, yet_sum, visit_count]\n",
       "Index: []\n",
       "\n",
       "[0 rows x 31 columns]"
      ]
     },
     "execution_count": 155,
     "metadata": {},
     "output_type": "execute_result"
    }
   ],
   "source": [
    "# пустые количества посещений\n",
    "df_data[np.isnan(df_data[\"visit_count\"])]"
   ]
  },
  {
   "cell_type": "code",
   "execution_count": 156,
   "id": "1de460e5-ff27-4897-9e9f-a01ee92d0c1b",
   "metadata": {},
   "outputs": [
    {
     "data": {
      "text/html": [
       "<div><div id=8334b350-1928-4edc-aa46-86085cbe42c6 style=\"display:none; background-color:#9D6CFF; color:white; width:200px; height:30px; padding-left:5px; border-radius:4px; flex-direction:row; justify-content:space-around; align-items:center;\" onmouseover=\"this.style.backgroundColor='#BA9BF8'\" onmouseout=\"this.style.backgroundColor='#9D6CFF'\" onclick=\"window.commands?.execute('create-mitosheet-from-dataframe-output');\">See Full Dataframe in Mito</div> <script> if (window.commands?.hasCommand('create-mitosheet-from-dataframe-output')) document.getElementById('8334b350-1928-4edc-aa46-86085cbe42c6').style.display = 'flex' </script> <table border=\"1\" class=\"dataframe\">\n",
       "  <thead>\n",
       "    <tr style=\"text-align: right;\">\n",
       "      <th></th>\n",
       "      <th>year</th>\n",
       "      <th>month</th>\n",
       "      <th>region</th>\n",
       "      <th>oktmo</th>\n",
       "      <th>SUBJ</th>\n",
       "      <th>clinic</th>\n",
       "      <th>oid</th>\n",
       "      <th>nameShort</th>\n",
       "      <th>depart</th>\n",
       "      <th>branch</th>\n",
       "      <th>...</th>\n",
       "      <th>usl_service_id</th>\n",
       "      <th>usl_doctor_specialty</th>\n",
       "      <th>POSTNAME_y</th>\n",
       "      <th>usl_clinic</th>\n",
       "      <th>usl_depart</th>\n",
       "      <th>sl_id</th>\n",
       "      <th>code_usl</th>\n",
       "      <th>kol_usl</th>\n",
       "      <th>yet_sum</th>\n",
       "      <th>visit_count</th>\n",
       "    </tr>\n",
       "  </thead>\n",
       "  <tbody>\n",
       "  </tbody>\n",
       "</table></div>"
      ],
      "text/plain": [
       "Empty DataFrame\n",
       "Columns: [year, month, region, oktmo, SUBJ, clinic, oid, nameShort, depart, branch, doctor_specialty, POSTNAME_x, doctor_profile, PRNAME, terms, UMPNAME, doctor_id, diagnosis, purpose, N_PC, service_id, usl_service_id, usl_doctor_specialty, POSTNAME_y, usl_clinic, usl_depart, sl_id, code_usl, kol_usl, yet_sum, visit_count]\n",
       "Index: []\n",
       "\n",
       "[0 rows x 31 columns]"
      ]
     },
     "execution_count": 156,
     "metadata": {},
     "output_type": "execute_result"
    }
   ],
   "source": [
    "# не определённые количества посещений\n",
    "df_data[df_data[\"visit_count\"] == \"не определено\"]"
   ]
  },
  {
   "cell_type": "code",
   "execution_count": 118,
   "id": "36c5a678-92f5-4985-a7a5-df23b0161dbe",
   "metadata": {},
   "outputs": [],
   "source": [
    "# сохранение результатов на диск\n",
    "df_data.to_csv(\"/home/sk27/work/med/data/result.csv\", encoding=\"utf-8-sig\")"
   ]
  },
  {
   "cell_type": "code",
   "execution_count": null,
   "id": "7b9ba4d7-827f-4861-8ad7-7df39f917693",
   "metadata": {},
   "outputs": [],
   "source": []
  },
  {
   "cell_type": "code",
   "execution_count": 157,
   "id": "0f38fc94-29a7-4fba-b7c7-269b27b1d053",
   "metadata": {},
   "outputs": [
    {
     "data": {
      "text/plain": [
       "5036802"
      ]
     },
     "execution_count": 157,
     "metadata": {},
     "output_type": "execute_result"
    }
   ],
   "source": [
    "df_data[\"visit_count\"].sum()"
   ]
  },
  {
   "cell_type": "code",
   "execution_count": 164,
   "id": "8c371b93-1c97-4e44-b1a3-5e7768e28110",
   "metadata": {},
   "outputs": [],
   "source": [
    "df_data_group = df_data.groupby([\"month\", \"N_PC\"]).agg(\n",
    "    {\n",
    "        \"sl_id\": \"sum\",\n",
    "        \"code_usl\": \"sum\",\n",
    "        \"kol_usl\": \"sum\",\n",
    "        \"yet_sum\": \"sum\",\n",
    "        \"visit_count\": \"sum\",\n",
    "        # \"visit_count\": \"count\",\n",
    "    }\n",
    ")"
   ]
  },
  {
   "cell_type": "code",
   "execution_count": null,
   "id": "eeaa5f82-5790-4f87-818d-1b841846869c",
   "metadata": {},
   "outputs": [],
   "source": [
    "df_data_group"
   ]
  },
  {
   "cell_type": "code",
   "execution_count": 166,
   "id": "d7ed4aaa-78d2-4743-91c2-f03ad8ee784f",
   "metadata": {},
   "outputs": [
    {
     "data": {
      "application/vnd.jupyter.widget-view+json": {
       "model_id": "b4b9ca7c2c924241abe28f9db543e0d4",
       "version_major": 2,
       "version_minor": 0
      },
      "text/plain": [
       "MitoWidget(analysis_data_json='{\"analysisName\": \"id-zsonzxzvux\", \"analysisToReplay\": null, \"code\": [], \"stepSu…"
      ]
     },
     "metadata": {},
     "output_type": "display_data"
    }
   ],
   "source": [
    "import mitosheet\n",
    "\n",
    "mitosheet.sheet(df_data_group, analysis_to_replay=\"id-zsonzxzvux\")"
   ]
  },
  {
   "cell_type": "code",
   "execution_count": null,
   "id": "6b53660c-c289-4e7f-afef-eea85fe626a0",
   "metadata": {},
   "outputs": [],
   "source": []
  },
  {
   "cell_type": "code",
   "execution_count": null,
   "id": "43298bab-1aec-4c47-8b43-3998745afca7",
   "metadata": {},
   "outputs": [],
   "source": []
  },
  {
   "cell_type": "code",
   "execution_count": null,
   "id": "83069751-a110-4acd-9667-375344c90a23",
   "metadata": {},
   "outputs": [],
   "source": []
  },
  {
   "cell_type": "code",
   "execution_count": null,
   "id": "2e85a759-108c-43aa-9f8a-9b6470dac089",
   "metadata": {},
   "outputs": [],
   "source": []
  },
  {
   "cell_type": "code",
   "execution_count": null,
   "id": "300c801a-1174-42dc-8b3f-2869545869be",
   "metadata": {},
   "outputs": [],
   "source": []
  },
  {
   "cell_type": "code",
   "execution_count": null,
   "id": "c635f00e-e10c-463c-87b0-39466c5eced8",
   "metadata": {},
   "outputs": [],
   "source": []
  },
  {
   "cell_type": "code",
   "execution_count": null,
   "id": "0ab236e4-f3bc-437a-b70e-f5138055ba87",
   "metadata": {},
   "outputs": [],
   "source": []
  },
  {
   "cell_type": "markdown",
   "id": "03c7522a-7ee3-46f7-81c6-4a6a92d489c8",
   "metadata": {},
   "source": [
    "## Исследование дубликатов\n",
    "На примере Иркутской области (треш и угар во мраке ада, тащемта)"
   ]
  },
  {
   "cell_type": "code",
   "execution_count": 92,
   "id": "a74ae43c-7c05-487e-ae55-3bdc60abb304",
   "metadata": {},
   "outputs": [],
   "source": [
    "with open(\"/home/sk27/work/med/new/25000_test.csv\", \"r\") as f:\n",
    "    first_line = next(f).strip()\n",
    "    if first_line[0:4] != \"year\":\n",
    "        with open(\n",
    "            \"/home/sk27/work/med/new/25000_test.csv\", \"r\", encoding=\"ISO-8859-1\"\n",
    "        ) as original:\n",
    "            data = original.read()\n",
    "        with open(\"/home/sk27/work/med/new/25000_test.csv\", \"w\") as modified:\n",
    "            modified.write(\n",
    "                \"year;month;region;clinic;oid;depart;branch;doctor_specialty;doctor_profile;terms;doctor_id;diagnosis;purpose;service_id;usl_service_id;usl_doctor_specialty;usl_clinic;usl_depart;sl_id;code_usl;kol_usl;yet_sum\\n\"\n",
    "                + data\n",
    "            )\n",
    "    else:\n",
    "        pass\n",
    "df_test = pd.read_csv(\n",
    "    \"/home/sk27/work/med/new/25000_test.csv\",\n",
    "    sep=\";\",\n",
    "    encoding=\"ISO-8859-1\",\n",
    "    low_memory=False,\n",
    ")"
   ]
  },
  {
   "cell_type": "code",
   "execution_count": 93,
   "id": "9482f795-0b02-46e1-ac44-ce749c490183",
   "metadata": {},
   "outputs": [],
   "source": [
    "# в исходном наборе заменены все пустые значения на 0\n",
    "df_test = df_test.fillna(0)"
   ]
  },
  {
   "cell_type": "code",
   "execution_count": 94,
   "id": "4f3f867a-a64d-4826-9099-5b6dfc327cc3",
   "metadata": {},
   "outputs": [
    {
     "data": {
      "text/plain": [
       "(3692791, 22)"
      ]
     },
     "execution_count": 94,
     "metadata": {},
     "output_type": "execute_result"
    }
   ],
   "source": [
    "df_test.shape"
   ]
  },
  {
   "cell_type": "code",
   "execution_count": 95,
   "id": "c5ca26ea-12bb-4972-8d40-877c877557f9",
   "metadata": {},
   "outputs": [],
   "source": [
    "# df_test[df_test.duplicated()].shape"
   ]
  },
  {
   "cell_type": "code",
   "execution_count": 96,
   "id": "b6e4ab8c-7a5d-4d0e-9505-d7faec5dc045",
   "metadata": {},
   "outputs": [],
   "source": [
    "# df_test_nodup = df_test.drop_duplicates()"
   ]
  },
  {
   "cell_type": "code",
   "execution_count": 97,
   "id": "7858681b-3323-44e6-b4dc-073bef176988",
   "metadata": {},
   "outputs": [],
   "source": [
    "# df_test_nodup.shape"
   ]
  },
  {
   "cell_type": "code",
   "execution_count": null,
   "id": "cbe9c762-340d-45d7-ad65-bfb8fb125cb6",
   "metadata": {},
   "outputs": [],
   "source": [
    "# df_test_nodup"
   ]
  },
  {
   "cell_type": "code",
   "execution_count": null,
   "id": "9507ee93-b9f0-4cb3-b177-af9e7b2dc644",
   "metadata": {},
   "outputs": [],
   "source": []
  },
  {
   "cell_type": "code",
   "execution_count": 98,
   "id": "52ca0329-e448-4603-ac28-d6999e85044a",
   "metadata": {},
   "outputs": [
    {
     "data": {
      "text/plain": [
       "Index(['year', 'month', 'region', 'clinic', 'oid', 'depart', 'branch',\n",
       "       'doctor_specialty', 'doctor_profile', 'terms', 'doctor_id', 'diagnosis',\n",
       "       'purpose', 'service_id', 'usl_service_id', 'usl_doctor_specialty',\n",
       "       'usl_clinic', 'usl_depart', 'sl_id', 'code_usl', 'kol_usl', 'yet_sum'],\n",
       "      dtype='object')"
      ]
     },
     "execution_count": 98,
     "metadata": {},
     "output_type": "execute_result"
    }
   ],
   "source": [
    "df_test.columns"
   ]
  },
  {
   "cell_type": "code",
   "execution_count": 99,
   "id": "fbe6902c-b692-48ec-b86c-2a13c7ad3c7a",
   "metadata": {},
   "outputs": [],
   "source": [
    "# группировка исходного набора по всем атрибутам, помимо значимых для расчёта\n",
    "df_test_group = df_test.groupby(\n",
    "    [\n",
    "        \"year\",\n",
    "        \"month\",\n",
    "        \"region\",\n",
    "        \"clinic\",\n",
    "        \"oid\",\n",
    "        \"depart\",\n",
    "        \"branch\",\n",
    "        \"doctor_specialty\",\n",
    "        \"doctor_profile\",\n",
    "        \"terms\",\n",
    "        \"doctor_id\",\n",
    "        \"diagnosis\",\n",
    "        \"purpose\",\n",
    "        \"service_id\",\n",
    "        \"usl_service_id\",\n",
    "        \"usl_doctor_specialty\",\n",
    "        \"usl_clinic\",\n",
    "        \"usl_depart\",\n",
    "    ]\n",
    ").agg({\"sl_id\": \"sum\", \"code_usl\": \"sum\", \"kol_usl\": \"sum\", \"yet_sum\": \"sum\"})"
   ]
  },
  {
   "cell_type": "code",
   "execution_count": 100,
   "id": "42a7b0d2-929a-4ee8-ab15-d977b75e6c16",
   "metadata": {},
   "outputs": [],
   "source": [
    "# df_test_group"
   ]
  },
  {
   "cell_type": "code",
   "execution_count": 101,
   "id": "833e9718-8d87-40af-b0b5-e28d63981dc2",
   "metadata": {},
   "outputs": [],
   "source": [
    "df_test_group = df_test_group.reset_index()"
   ]
  },
  {
   "cell_type": "code",
   "execution_count": 102,
   "id": "191c1db8-7867-4ecf-9892-ff23e9c94231",
   "metadata": {},
   "outputs": [
    {
     "data": {
      "text/plain": [
       "(624442, 22)"
      ]
     },
     "execution_count": 102,
     "metadata": {},
     "output_type": "execute_result"
    }
   ],
   "source": [
    "df_test_group.shape"
   ]
  },
  {
   "cell_type": "code",
   "execution_count": 103,
   "id": "1e08473a-858c-463f-96ea-5ed73bbf6005",
   "metadata": {},
   "outputs": [
    {
     "data": {
      "text/html": [
       "<div><div id=e79778c0-6537-4ee8-9eb2-6f7fbc3eb27f style=\"display:none; background-color:#9D6CFF; color:white; width:200px; height:30px; padding-left:5px; border-radius:4px; flex-direction:row; justify-content:space-around; align-items:center;\" onmouseover=\"this.style.backgroundColor='#BA9BF8'\" onmouseout=\"this.style.backgroundColor='#9D6CFF'\" onclick=\"window.commands?.execute('create-mitosheet-from-dataframe-output');\">See Full Dataframe in Mito</div> <script> if (window.commands?.hasCommand('create-mitosheet-from-dataframe-output')) document.getElementById('e79778c0-6537-4ee8-9eb2-6f7fbc3eb27f').style.display = 'flex' </script> <table border=\"1\" class=\"dataframe\">\n",
       "  <thead>\n",
       "    <tr style=\"text-align: right;\">\n",
       "      <th></th>\n",
       "      <th>year</th>\n",
       "      <th>month</th>\n",
       "      <th>region</th>\n",
       "      <th>clinic</th>\n",
       "      <th>oid</th>\n",
       "      <th>depart</th>\n",
       "      <th>branch</th>\n",
       "      <th>doctor_specialty</th>\n",
       "      <th>doctor_profile</th>\n",
       "      <th>terms</th>\n",
       "      <th>...</th>\n",
       "      <th>purpose</th>\n",
       "      <th>service_id</th>\n",
       "      <th>usl_service_id</th>\n",
       "      <th>usl_doctor_specialty</th>\n",
       "      <th>usl_clinic</th>\n",
       "      <th>usl_depart</th>\n",
       "      <th>sl_id</th>\n",
       "      <th>code_usl</th>\n",
       "      <th>kol_usl</th>\n",
       "      <th>yet_sum</th>\n",
       "    </tr>\n",
       "  </thead>\n",
       "  <tbody>\n",
       "    <tr>\n",
       "      <th>0</th>\n",
       "      <td>2023</td>\n",
       "      <td>1</td>\n",
       "      <td>25000</td>\n",
       "      <td>380049</td>\n",
       "      <td>1.2.643.5.1.13.13.12.2.38.3568</td>\n",
       "      <td>11</td>\n",
       "      <td>1</td>\n",
       "      <td>76</td>\n",
       "      <td>97</td>\n",
       "      <td>3</td>\n",
       "      <td>...</td>\n",
       "      <td>3.0</td>\n",
       "      <td>B01.047.001</td>\n",
       "      <td>186</td>\n",
       "      <td>76</td>\n",
       "      <td>380049</td>\n",
       "      <td>11</td>\n",
       "      <td>1</td>\n",
       "      <td>1</td>\n",
       "      <td>1</td>\n",
       "      <td>0.0</td>\n",
       "    </tr>\n",
       "    <tr>\n",
       "      <th>1</th>\n",
       "      <td>2023</td>\n",
       "      <td>1</td>\n",
       "      <td>25000</td>\n",
       "      <td>380049</td>\n",
       "      <td>1.2.643.5.1.13.13.12.2.38.3568</td>\n",
       "      <td>11</td>\n",
       "      <td>1</td>\n",
       "      <td>76</td>\n",
       "      <td>97</td>\n",
       "      <td>3</td>\n",
       "      <td>...</td>\n",
       "      <td>3.0</td>\n",
       "      <td>B01.047.001</td>\n",
       "      <td>192</td>\n",
       "      <td>76</td>\n",
       "      <td>380049</td>\n",
       "      <td>11</td>\n",
       "      <td>1</td>\n",
       "      <td>1</td>\n",
       "      <td>1</td>\n",
       "      <td>0.0</td>\n",
       "    </tr>\n",
       "    <tr>\n",
       "      <th>2</th>\n",
       "      <td>2023</td>\n",
       "      <td>1</td>\n",
       "      <td>25000</td>\n",
       "      <td>380049</td>\n",
       "      <td>1.2.643.5.1.13.13.12.2.38.3568</td>\n",
       "      <td>11</td>\n",
       "      <td>1</td>\n",
       "      <td>76</td>\n",
       "      <td>97</td>\n",
       "      <td>3</td>\n",
       "      <td>...</td>\n",
       "      <td>3.0</td>\n",
       "      <td>B01.047.002</td>\n",
       "      <td>203</td>\n",
       "      <td>76</td>\n",
       "      <td>380049</td>\n",
       "      <td>11</td>\n",
       "      <td>1</td>\n",
       "      <td>1</td>\n",
       "      <td>1</td>\n",
       "      <td>0.0</td>\n",
       "    </tr>\n",
       "    <tr>\n",
       "      <th>3</th>\n",
       "      <td>2023</td>\n",
       "      <td>1</td>\n",
       "      <td>25000</td>\n",
       "      <td>380049</td>\n",
       "      <td>1.2.643.5.1.13.13.12.2.38.3568</td>\n",
       "      <td>11</td>\n",
       "      <td>1</td>\n",
       "      <td>76</td>\n",
       "      <td>97</td>\n",
       "      <td>3</td>\n",
       "      <td>...</td>\n",
       "      <td>3.0</td>\n",
       "      <td>B01.047.002</td>\n",
       "      <td>035</td>\n",
       "      <td>76</td>\n",
       "      <td>380049</td>\n",
       "      <td>11</td>\n",
       "      <td>1</td>\n",
       "      <td>2</td>\n",
       "      <td>2</td>\n",
       "      <td>0.0</td>\n",
       "    </tr>\n",
       "    <tr>\n",
       "      <th>4</th>\n",
       "      <td>2023</td>\n",
       "      <td>1</td>\n",
       "      <td>25000</td>\n",
       "      <td>380049</td>\n",
       "      <td>1.2.643.5.1.13.13.12.2.38.3568</td>\n",
       "      <td>11</td>\n",
       "      <td>1</td>\n",
       "      <td>76</td>\n",
       "      <td>97</td>\n",
       "      <td>3</td>\n",
       "      <td>...</td>\n",
       "      <td>3.0</td>\n",
       "      <td>B01.047.001</td>\n",
       "      <td>035</td>\n",
       "      <td>76</td>\n",
       "      <td>380049</td>\n",
       "      <td>11</td>\n",
       "      <td>1</td>\n",
       "      <td>1</td>\n",
       "      <td>1</td>\n",
       "      <td>0.0</td>\n",
       "    </tr>\n",
       "  </tbody>\n",
       "</table></div>"
      ],
      "text/plain": [
       "   year  month  region  clinic                             oid  depart branch  \\\n",
       "0  2023      1   25000  380049  1.2.643.5.1.13.13.12.2.38.3568      11      1   \n",
       "1  2023      1   25000  380049  1.2.643.5.1.13.13.12.2.38.3568      11      1   \n",
       "2  2023      1   25000  380049  1.2.643.5.1.13.13.12.2.38.3568      11      1   \n",
       "3  2023      1   25000  380049  1.2.643.5.1.13.13.12.2.38.3568      11      1   \n",
       "4  2023      1   25000  380049  1.2.643.5.1.13.13.12.2.38.3568      11      1   \n",
       "\n",
       "   doctor_specialty  doctor_profile  terms  ... purpose   service_id  \\\n",
       "0                76              97      3  ...     3.0  B01.047.001   \n",
       "1                76              97      3  ...     3.0  B01.047.001   \n",
       "2                76              97      3  ...     3.0  B01.047.002   \n",
       "3                76              97      3  ...     3.0  B01.047.002   \n",
       "4                76              97      3  ...     3.0  B01.047.001   \n",
       "\n",
       "   usl_service_id usl_doctor_specialty usl_clinic  usl_depart  sl_id  \\\n",
       "0             186                   76     380049          11      1   \n",
       "1             192                   76     380049          11      1   \n",
       "2             203                   76     380049          11      1   \n",
       "3             035                   76     380049          11      1   \n",
       "4             035                   76     380049          11      1   \n",
       "\n",
       "   code_usl  kol_usl  yet_sum  \n",
       "0         1        1      0.0  \n",
       "1         1        1      0.0  \n",
       "2         1        1      0.0  \n",
       "3         2        2      0.0  \n",
       "4         1        1      0.0  \n",
       "\n",
       "[5 rows x 22 columns]"
      ]
     },
     "execution_count": 103,
     "metadata": {},
     "output_type": "execute_result"
    }
   ],
   "source": [
    "df_test.head()"
   ]
  },
  {
   "cell_type": "code",
   "execution_count": 104,
   "id": "b48e22ae-c67b-4a2b-9844-fe68ee1aa836",
   "metadata": {},
   "outputs": [
    {
     "data": {
      "text/html": [
       "<div><div id=5f70ad50-9141-457d-89be-2399df087a73 style=\"display:none; background-color:#9D6CFF; color:white; width:200px; height:30px; padding-left:5px; border-radius:4px; flex-direction:row; justify-content:space-around; align-items:center;\" onmouseover=\"this.style.backgroundColor='#BA9BF8'\" onmouseout=\"this.style.backgroundColor='#9D6CFF'\" onclick=\"window.commands?.execute('create-mitosheet-from-dataframe-output');\">See Full Dataframe in Mito</div> <script> if (window.commands?.hasCommand('create-mitosheet-from-dataframe-output')) document.getElementById('5f70ad50-9141-457d-89be-2399df087a73').style.display = 'flex' </script> <table border=\"1\" class=\"dataframe\">\n",
       "  <thead>\n",
       "    <tr style=\"text-align: right;\">\n",
       "      <th></th>\n",
       "      <th>year</th>\n",
       "      <th>month</th>\n",
       "      <th>region</th>\n",
       "      <th>clinic</th>\n",
       "      <th>oid</th>\n",
       "      <th>depart</th>\n",
       "      <th>branch</th>\n",
       "      <th>doctor_specialty</th>\n",
       "      <th>doctor_profile</th>\n",
       "      <th>terms</th>\n",
       "      <th>...</th>\n",
       "      <th>purpose</th>\n",
       "      <th>service_id</th>\n",
       "      <th>usl_service_id</th>\n",
       "      <th>usl_doctor_specialty</th>\n",
       "      <th>usl_clinic</th>\n",
       "      <th>usl_depart</th>\n",
       "      <th>sl_id</th>\n",
       "      <th>code_usl</th>\n",
       "      <th>kol_usl</th>\n",
       "      <th>yet_sum</th>\n",
       "    </tr>\n",
       "  </thead>\n",
       "  <tbody>\n",
       "    <tr>\n",
       "      <th>0</th>\n",
       "      <td>2023</td>\n",
       "      <td>1</td>\n",
       "      <td>25000</td>\n",
       "      <td>380003</td>\n",
       "      <td>1.2.643.5.1.13.13.12.2.38.3513</td>\n",
       "      <td>319</td>\n",
       "      <td>4</td>\n",
       "      <td>71</td>\n",
       "      <td>85</td>\n",
       "      <td>3</td>\n",
       "      <td>...</td>\n",
       "      <td>3.0</td>\n",
       "      <td>A16.07.002.002</td>\n",
       "      <td>001</td>\n",
       "      <td>71</td>\n",
       "      <td>380003</td>\n",
       "      <td>319</td>\n",
       "      <td>30</td>\n",
       "      <td>37</td>\n",
       "      <td>37</td>\n",
       "      <td>72.15</td>\n",
       "    </tr>\n",
       "    <tr>\n",
       "      <th>1</th>\n",
       "      <td>2023</td>\n",
       "      <td>1</td>\n",
       "      <td>25000</td>\n",
       "      <td>380003</td>\n",
       "      <td>1.2.643.5.1.13.13.12.2.38.3513</td>\n",
       "      <td>319</td>\n",
       "      <td>4</td>\n",
       "      <td>71</td>\n",
       "      <td>85</td>\n",
       "      <td>3</td>\n",
       "      <td>...</td>\n",
       "      <td>3.0</td>\n",
       "      <td>A16.07.002.004</td>\n",
       "      <td>001</td>\n",
       "      <td>71</td>\n",
       "      <td>380003</td>\n",
       "      <td>319</td>\n",
       "      <td>32</td>\n",
       "      <td>42</td>\n",
       "      <td>42</td>\n",
       "      <td>105.00</td>\n",
       "    </tr>\n",
       "    <tr>\n",
       "      <th>2</th>\n",
       "      <td>2023</td>\n",
       "      <td>1</td>\n",
       "      <td>25000</td>\n",
       "      <td>380003</td>\n",
       "      <td>1.2.643.5.1.13.13.12.2.38.3513</td>\n",
       "      <td>319</td>\n",
       "      <td>4</td>\n",
       "      <td>71</td>\n",
       "      <td>85</td>\n",
       "      <td>3</td>\n",
       "      <td>...</td>\n",
       "      <td>3.0</td>\n",
       "      <td>B01.003.004.002</td>\n",
       "      <td>001</td>\n",
       "      <td>71</td>\n",
       "      <td>380003</td>\n",
       "      <td>319</td>\n",
       "      <td>4</td>\n",
       "      <td>6</td>\n",
       "      <td>6</td>\n",
       "      <td>5.76</td>\n",
       "    </tr>\n",
       "    <tr>\n",
       "      <th>3</th>\n",
       "      <td>2023</td>\n",
       "      <td>1</td>\n",
       "      <td>25000</td>\n",
       "      <td>380003</td>\n",
       "      <td>1.2.643.5.1.13.13.12.2.38.3513</td>\n",
       "      <td>319</td>\n",
       "      <td>4</td>\n",
       "      <td>71</td>\n",
       "      <td>85</td>\n",
       "      <td>3</td>\n",
       "      <td>...</td>\n",
       "      <td>3.0</td>\n",
       "      <td>B01.003.004.004</td>\n",
       "      <td>001</td>\n",
       "      <td>71</td>\n",
       "      <td>380003</td>\n",
       "      <td>319</td>\n",
       "      <td>47</td>\n",
       "      <td>69</td>\n",
       "      <td>69</td>\n",
       "      <td>21.39</td>\n",
       "    </tr>\n",
       "    <tr>\n",
       "      <th>4</th>\n",
       "      <td>2023</td>\n",
       "      <td>1</td>\n",
       "      <td>25000</td>\n",
       "      <td>380003</td>\n",
       "      <td>1.2.643.5.1.13.13.12.2.38.3513</td>\n",
       "      <td>319</td>\n",
       "      <td>4</td>\n",
       "      <td>71</td>\n",
       "      <td>85</td>\n",
       "      <td>3</td>\n",
       "      <td>...</td>\n",
       "      <td>3.0</td>\n",
       "      <td>B01.003.004.005</td>\n",
       "      <td>001</td>\n",
       "      <td>71</td>\n",
       "      <td>380003</td>\n",
       "      <td>319</td>\n",
       "      <td>51</td>\n",
       "      <td>79</td>\n",
       "      <td>79</td>\n",
       "      <td>39.50</td>\n",
       "    </tr>\n",
       "  </tbody>\n",
       "</table></div>"
      ],
      "text/plain": [
       "   year  month  region  clinic                             oid  depart branch  \\\n",
       "0  2023      1   25000  380003  1.2.643.5.1.13.13.12.2.38.3513     319      4   \n",
       "1  2023      1   25000  380003  1.2.643.5.1.13.13.12.2.38.3513     319      4   \n",
       "2  2023      1   25000  380003  1.2.643.5.1.13.13.12.2.38.3513     319      4   \n",
       "3  2023      1   25000  380003  1.2.643.5.1.13.13.12.2.38.3513     319      4   \n",
       "4  2023      1   25000  380003  1.2.643.5.1.13.13.12.2.38.3513     319      4   \n",
       "\n",
       "   doctor_specialty  doctor_profile  terms  ... purpose       service_id  \\\n",
       "0                71              85      3  ...     3.0   A16.07.002.002   \n",
       "1                71              85      3  ...     3.0   A16.07.002.004   \n",
       "2                71              85      3  ...     3.0  B01.003.004.002   \n",
       "3                71              85      3  ...     3.0  B01.003.004.004   \n",
       "4                71              85      3  ...     3.0  B01.003.004.005   \n",
       "\n",
       "   usl_service_id usl_doctor_specialty usl_clinic  usl_depart  sl_id  \\\n",
       "0             001                   71     380003         319     30   \n",
       "1             001                   71     380003         319     32   \n",
       "2             001                   71     380003         319      4   \n",
       "3             001                   71     380003         319     47   \n",
       "4             001                   71     380003         319     51   \n",
       "\n",
       "   code_usl  kol_usl  yet_sum  \n",
       "0        37       37    72.15  \n",
       "1        42       42   105.00  \n",
       "2         6        6     5.76  \n",
       "3        69       69    21.39  \n",
       "4        79       79    39.50  \n",
       "\n",
       "[5 rows x 22 columns]"
      ]
     },
     "execution_count": 104,
     "metadata": {},
     "output_type": "execute_result"
    }
   ],
   "source": [
    "df_test_group.head()"
   ]
  },
  {
   "cell_type": "code",
   "execution_count": 105,
   "id": "c052e36a-e9e1-4208-8c90-83938441f601",
   "metadata": {},
   "outputs": [
    {
     "data": {
      "text/plain": [
       "1052398.61"
      ]
     },
     "execution_count": 105,
     "metadata": {},
     "output_type": "execute_result"
    }
   ],
   "source": [
    "df_test[\"yet_sum\"].sum()"
   ]
  },
  {
   "cell_type": "code",
   "execution_count": 106,
   "id": "30a3bc50-1719-4bec-960e-4f2b326ac76d",
   "metadata": {},
   "outputs": [
    {
     "data": {
      "text/plain": [
       "1052398.6100000003"
      ]
     },
     "execution_count": 106,
     "metadata": {},
     "output_type": "execute_result"
    }
   ],
   "source": [
    "df_test_group[\"yet_sum\"].sum()"
   ]
  },
  {
   "cell_type": "code",
   "execution_count": 107,
   "id": "13c3c15d-61f6-44dc-a486-46cc42e4a851",
   "metadata": {},
   "outputs": [],
   "source": [
    "def visit_count(row):\n",
    "    \"\"\"\n",
    "    функция определяет количество посещений согласно условиям\n",
    "    \"\"\"\n",
    "    if row[\"purpose\"] >= 3:\n",
    "        res = row[\"code_usl\"] * row[\"kol_usl\"]\n",
    "    else:\n",
    "        res = row[\"sl_id\"]\n",
    "    if np.isnan(res):\n",
    "        return \"не определено\"\n",
    "    else:\n",
    "        return res"
   ]
  },
  {
   "cell_type": "code",
   "execution_count": 110,
   "id": "70b59b7a-4011-4c31-93f6-330a03947da4",
   "metadata": {},
   "outputs": [
    {
     "name": "stdout",
     "output_type": "stream",
     "text": [
      "CPU times: user 51.5 s, sys: 1.54 s, total: 53 s\n",
      "Wall time: 53 s\n"
     ]
    }
   ],
   "source": [
    "%%time\n",
    "df_test[\"visit_count\"] = df_test.apply(visit_count, axis=1)"
   ]
  },
  {
   "cell_type": "code",
   "execution_count": 109,
   "id": "bd3303da-687b-4228-b8cf-b9334dc5029c",
   "metadata": {},
   "outputs": [
    {
     "name": "stdout",
     "output_type": "stream",
     "text": [
      "CPU times: user 8.52 s, sys: 236 ms, total: 8.75 s\n",
      "Wall time: 8.75 s\n"
     ]
    }
   ],
   "source": [
    "%%time\n",
    "df_test_group[\"visit_count\"] = df_test_group.apply(visit_count, axis=1)"
   ]
  },
  {
   "cell_type": "code",
   "execution_count": 74,
   "id": "9f0f44c8-6239-4be8-a237-83ba37032ad7",
   "metadata": {},
   "outputs": [
    {
     "data": {
      "text/plain": [
       "2.2663098365341425"
      ]
     },
     "execution_count": 74,
     "metadata": {},
     "output_type": "execute_result"
    }
   ],
   "source": [
    "df_test[\"purpose\"].mean()"
   ]
  },
  {
   "cell_type": "code",
   "execution_count": 75,
   "id": "22c3b12d-54a6-4507-8b35-3c6227b979cd",
   "metadata": {},
   "outputs": [
    {
     "data": {
      "text/plain": [
       "2.176660103812422"
      ]
     },
     "execution_count": 75,
     "metadata": {},
     "output_type": "execute_result"
    }
   ],
   "source": [
    "df_test_group[\"purpose\"].mean()"
   ]
  },
  {
   "cell_type": "code",
   "execution_count": 70,
   "id": "332a835b-9910-4fbb-9bfc-d755d64907d6",
   "metadata": {},
   "outputs": [
    {
     "data": {
      "text/plain": [
       "146942"
      ]
     },
     "execution_count": 70,
     "metadata": {},
     "output_type": "execute_result"
    }
   ],
   "source": [
    "df_test[\"purpose\"].count()"
   ]
  },
  {
   "cell_type": "code",
   "execution_count": 71,
   "id": "535b2819-c561-4775-a645-678b8b731e94",
   "metadata": {},
   "outputs": [
    {
     "data": {
      "text/plain": [
       "128501"
      ]
     },
     "execution_count": 71,
     "metadata": {},
     "output_type": "execute_result"
    }
   ],
   "source": [
    "df_test_group[\"purpose\"].count()"
   ]
  },
  {
   "cell_type": "code",
   "execution_count": 111,
   "id": "b884091d-2c7f-4356-a448-42d1ef2a9ff1",
   "metadata": {},
   "outputs": [
    {
     "data": {
      "text/html": [
       "<div><div id=5eff095e-b1c5-4463-a839-b56e4fd62b6e style=\"display:none; background-color:#9D6CFF; color:white; width:200px; height:30px; padding-left:5px; border-radius:4px; flex-direction:row; justify-content:space-around; align-items:center;\" onmouseover=\"this.style.backgroundColor='#BA9BF8'\" onmouseout=\"this.style.backgroundColor='#9D6CFF'\" onclick=\"window.commands?.execute('create-mitosheet-from-dataframe-output');\">See Full Dataframe in Mito</div> <script> if (window.commands?.hasCommand('create-mitosheet-from-dataframe-output')) document.getElementById('5eff095e-b1c5-4463-a839-b56e4fd62b6e').style.display = 'flex' </script> <table border=\"1\" class=\"dataframe\">\n",
       "  <thead>\n",
       "    <tr style=\"text-align: right;\">\n",
       "      <th></th>\n",
       "      <th>sl_id</th>\n",
       "      <th>code_usl</th>\n",
       "      <th>kol_usl</th>\n",
       "      <th>yet_sum</th>\n",
       "      <th>visit_count</th>\n",
       "    </tr>\n",
       "    <tr>\n",
       "      <th>purpose</th>\n",
       "      <th></th>\n",
       "      <th></th>\n",
       "      <th></th>\n",
       "      <th></th>\n",
       "      <th></th>\n",
       "    </tr>\n",
       "  </thead>\n",
       "  <tbody>\n",
       "    <tr>\n",
       "      <th>1.0</th>\n",
       "      <td>267487</td>\n",
       "      <td>272949</td>\n",
       "      <td>334210</td>\n",
       "      <td>117651.36</td>\n",
       "      <td>267487</td>\n",
       "    </tr>\n",
       "    <tr>\n",
       "      <th>1.1</th>\n",
       "      <td>201387</td>\n",
       "      <td>203899</td>\n",
       "      <td>208354</td>\n",
       "      <td>46781.08</td>\n",
       "      <td>201387</td>\n",
       "    </tr>\n",
       "    <tr>\n",
       "      <th>1.2</th>\n",
       "      <td>22338</td>\n",
       "      <td>24869</td>\n",
       "      <td>24869</td>\n",
       "      <td>1.37</td>\n",
       "      <td>22338</td>\n",
       "    </tr>\n",
       "    <tr>\n",
       "      <th>1.3</th>\n",
       "      <td>444850</td>\n",
       "      <td>447814</td>\n",
       "      <td>447817</td>\n",
       "      <td>1.95</td>\n",
       "      <td>444850</td>\n",
       "    </tr>\n",
       "    <tr>\n",
       "      <th>2.1</th>\n",
       "      <td>136</td>\n",
       "      <td>151</td>\n",
       "      <td>151</td>\n",
       "      <td>0.00</td>\n",
       "      <td>136</td>\n",
       "    </tr>\n",
       "    <tr>\n",
       "      <th>2.2</th>\n",
       "      <td>8778</td>\n",
       "      <td>10826</td>\n",
       "      <td>10826</td>\n",
       "      <td>0.00</td>\n",
       "      <td>8778</td>\n",
       "    </tr>\n",
       "    <tr>\n",
       "      <th>2.5</th>\n",
       "      <td>3478</td>\n",
       "      <td>3484</td>\n",
       "      <td>3484</td>\n",
       "      <td>0.00</td>\n",
       "      <td>3478</td>\n",
       "    </tr>\n",
       "    <tr>\n",
       "      <th>2.6</th>\n",
       "      <td>25324</td>\n",
       "      <td>38109</td>\n",
       "      <td>40021</td>\n",
       "      <td>8486.45</td>\n",
       "      <td>25324</td>\n",
       "    </tr>\n",
       "    <tr>\n",
       "      <th>3.0</th>\n",
       "      <td>2089127</td>\n",
       "      <td>2339715</td>\n",
       "      <td>2533296</td>\n",
       "      <td>828633.40</td>\n",
       "      <td>3402538</td>\n",
       "    </tr>\n",
       "    <tr>\n",
       "      <th>3.1</th>\n",
       "      <td>629886</td>\n",
       "      <td>633528</td>\n",
       "      <td>649324</td>\n",
       "      <td>50843.00</td>\n",
       "      <td>660486</td>\n",
       "    </tr>\n",
       "  </tbody>\n",
       "</table></div>"
      ],
      "text/plain": [
       "           sl_id  code_usl  kol_usl    yet_sum  visit_count\n",
       "purpose                                                    \n",
       "1.0       267487    272949   334210  117651.36       267487\n",
       "1.1       201387    203899   208354   46781.08       201387\n",
       "1.2        22338     24869    24869       1.37        22338\n",
       "1.3       444850    447814   447817       1.95       444850\n",
       "2.1          136       151      151       0.00          136\n",
       "2.2         8778     10826    10826       0.00         8778\n",
       "2.5         3478      3484     3484       0.00         3478\n",
       "2.6        25324     38109    40021    8486.45        25324\n",
       "3.0      2089127   2339715  2533296  828633.40      3402538\n",
       "3.1       629886    633528   649324   50843.00       660486"
      ]
     },
     "execution_count": 111,
     "metadata": {},
     "output_type": "execute_result"
    }
   ],
   "source": [
    "df_test.groupby([\"purpose\"]).agg(\n",
    "    {\n",
    "        \"sl_id\": \"sum\",\n",
    "        \"code_usl\": \"sum\",\n",
    "        \"kol_usl\": \"sum\",\n",
    "        \"yet_sum\": \"sum\",\n",
    "        \"visit_count\": \"sum\",\n",
    "        # \"visit_count\": \"count\",\n",
    "    }\n",
    ")"
   ]
  },
  {
   "cell_type": "code",
   "execution_count": 112,
   "id": "a8ef79b9-b0a3-4308-a0ba-f7e4f833fe20",
   "metadata": {},
   "outputs": [
    {
     "data": {
      "text/html": [
       "<div><div id=28d13b4e-3550-40fa-9827-e6dbda2b6217 style=\"display:none; background-color:#9D6CFF; color:white; width:200px; height:30px; padding-left:5px; border-radius:4px; flex-direction:row; justify-content:space-around; align-items:center;\" onmouseover=\"this.style.backgroundColor='#BA9BF8'\" onmouseout=\"this.style.backgroundColor='#9D6CFF'\" onclick=\"window.commands?.execute('create-mitosheet-from-dataframe-output');\">See Full Dataframe in Mito</div> <script> if (window.commands?.hasCommand('create-mitosheet-from-dataframe-output')) document.getElementById('28d13b4e-3550-40fa-9827-e6dbda2b6217').style.display = 'flex' </script> <table border=\"1\" class=\"dataframe\">\n",
       "  <thead>\n",
       "    <tr style=\"text-align: right;\">\n",
       "      <th></th>\n",
       "      <th>sl_id</th>\n",
       "      <th>code_usl</th>\n",
       "      <th>kol_usl</th>\n",
       "      <th>yet_sum</th>\n",
       "      <th>visit_count</th>\n",
       "    </tr>\n",
       "    <tr>\n",
       "      <th>purpose</th>\n",
       "      <th></th>\n",
       "      <th></th>\n",
       "      <th></th>\n",
       "      <th></th>\n",
       "      <th></th>\n",
       "    </tr>\n",
       "  </thead>\n",
       "  <tbody>\n",
       "    <tr>\n",
       "      <th>1.0</th>\n",
       "      <td>267487</td>\n",
       "      <td>272949</td>\n",
       "      <td>334210</td>\n",
       "      <td>117651.36</td>\n",
       "      <td>267487</td>\n",
       "    </tr>\n",
       "    <tr>\n",
       "      <th>1.1</th>\n",
       "      <td>201387</td>\n",
       "      <td>203899</td>\n",
       "      <td>208354</td>\n",
       "      <td>46781.08</td>\n",
       "      <td>201387</td>\n",
       "    </tr>\n",
       "    <tr>\n",
       "      <th>1.2</th>\n",
       "      <td>22338</td>\n",
       "      <td>24869</td>\n",
       "      <td>24869</td>\n",
       "      <td>1.37</td>\n",
       "      <td>22338</td>\n",
       "    </tr>\n",
       "    <tr>\n",
       "      <th>1.3</th>\n",
       "      <td>444850</td>\n",
       "      <td>447814</td>\n",
       "      <td>447817</td>\n",
       "      <td>1.95</td>\n",
       "      <td>444850</td>\n",
       "    </tr>\n",
       "    <tr>\n",
       "      <th>2.1</th>\n",
       "      <td>136</td>\n",
       "      <td>151</td>\n",
       "      <td>151</td>\n",
       "      <td>0.00</td>\n",
       "      <td>136</td>\n",
       "    </tr>\n",
       "    <tr>\n",
       "      <th>2.2</th>\n",
       "      <td>8778</td>\n",
       "      <td>10826</td>\n",
       "      <td>10826</td>\n",
       "      <td>0.00</td>\n",
       "      <td>8778</td>\n",
       "    </tr>\n",
       "    <tr>\n",
       "      <th>2.5</th>\n",
       "      <td>3478</td>\n",
       "      <td>3484</td>\n",
       "      <td>3484</td>\n",
       "      <td>0.00</td>\n",
       "      <td>3478</td>\n",
       "    </tr>\n",
       "    <tr>\n",
       "      <th>2.6</th>\n",
       "      <td>25324</td>\n",
       "      <td>38109</td>\n",
       "      <td>40021</td>\n",
       "      <td>8486.45</td>\n",
       "      <td>25324</td>\n",
       "    </tr>\n",
       "    <tr>\n",
       "      <th>3.0</th>\n",
       "      <td>2089127</td>\n",
       "      <td>2339715</td>\n",
       "      <td>2533296</td>\n",
       "      <td>828633.40</td>\n",
       "      <td>548149806</td>\n",
       "    </tr>\n",
       "    <tr>\n",
       "      <th>3.1</th>\n",
       "      <td>629886</td>\n",
       "      <td>633528</td>\n",
       "      <td>649324</td>\n",
       "      <td>50843.00</td>\n",
       "      <td>79561225</td>\n",
       "    </tr>\n",
       "  </tbody>\n",
       "</table></div>"
      ],
      "text/plain": [
       "           sl_id  code_usl  kol_usl    yet_sum  visit_count\n",
       "purpose                                                    \n",
       "1.0       267487    272949   334210  117651.36       267487\n",
       "1.1       201387    203899   208354   46781.08       201387\n",
       "1.2        22338     24869    24869       1.37        22338\n",
       "1.3       444850    447814   447817       1.95       444850\n",
       "2.1          136       151      151       0.00          136\n",
       "2.2         8778     10826    10826       0.00         8778\n",
       "2.5         3478      3484     3484       0.00         3478\n",
       "2.6        25324     38109    40021    8486.45        25324\n",
       "3.0      2089127   2339715  2533296  828633.40    548149806\n",
       "3.1       629886    633528   649324   50843.00     79561225"
      ]
     },
     "execution_count": 112,
     "metadata": {},
     "output_type": "execute_result"
    }
   ],
   "source": [
    "df_test_group.groupby([\"purpose\"]).agg(\n",
    "    {\n",
    "        \"sl_id\": \"sum\",\n",
    "        \"code_usl\": \"sum\",\n",
    "        \"kol_usl\": \"sum\",\n",
    "        \"yet_sum\": \"sum\",\n",
    "        \"visit_count\": \"sum\",\n",
    "        # \"visit_count\": \"count\",\n",
    "    }\n",
    ")"
   ]
  },
  {
   "cell_type": "code",
   "execution_count": 113,
   "id": "2afc32c7-b46e-403e-bb51-c78f1a60210e",
   "metadata": {},
   "outputs": [
    {
     "data": {
      "text/plain": [
       "161.1002745597551"
      ]
     },
     "execution_count": 113,
     "metadata": {},
     "output_type": "execute_result"
    }
   ],
   "source": [
    "548149806 / 3402538"
   ]
  },
  {
   "cell_type": "code",
   "execution_count": 114,
   "id": "c925d248-010a-4525-9620-c6e7e196b65d",
   "metadata": {},
   "outputs": [
    {
     "data": {
      "text/plain": [
       "120.45860926650981"
      ]
     },
     "execution_count": 114,
     "metadata": {},
     "output_type": "execute_result"
    }
   ],
   "source": [
    "79561225 / 660486"
   ]
  },
  {
   "cell_type": "code",
   "execution_count": 83,
   "id": "404a044c-e480-48ce-9b99-027da7c29311",
   "metadata": {},
   "outputs": [
    {
     "data": {
      "text/plain": [
       "(68348, 23)"
      ]
     },
     "execution_count": 83,
     "metadata": {},
     "output_type": "execute_result"
    }
   ],
   "source": [
    "df_test_group[df_test_group[\"purpose\"] >= 3].shape"
   ]
  },
  {
   "cell_type": "code",
   "execution_count": 84,
   "id": "5a80fb53-2677-4a03-811a-a7a07b5155fe",
   "metadata": {},
   "outputs": [
    {
     "data": {
      "text/plain": [
       "(85610, 23)"
      ]
     },
     "execution_count": 84,
     "metadata": {},
     "output_type": "execute_result"
    }
   ],
   "source": [
    "df_test[df_test[\"purpose\"] >= 3].shape"
   ]
  },
  {
   "cell_type": "code",
   "execution_count": null,
   "id": "651e20fa-454d-41ab-a4a6-f3e01f6783a5",
   "metadata": {},
   "outputs": [],
   "source": []
  },
  {
   "cell_type": "code",
   "execution_count": null,
   "id": "a40b09c2-fcfc-4b12-9124-1ab4eb9c640c",
   "metadata": {},
   "outputs": [],
   "source": []
  },
  {
   "cell_type": "code",
   "execution_count": null,
   "id": "befa8124-78f4-4595-8795-dfd1db690ea9",
   "metadata": {},
   "outputs": [],
   "source": []
  },
  {
   "cell_type": "code",
   "execution_count": null,
   "id": "a5d0a227-4968-4171-a135-a719e36a872b",
   "metadata": {},
   "outputs": [],
   "source": []
  },
  {
   "cell_type": "code",
   "execution_count": null,
   "id": "e7f3faf1-21e6-4e14-84e4-6f517fab8905",
   "metadata": {},
   "outputs": [],
   "source": []
  },
  {
   "cell_type": "code",
   "execution_count": null,
   "id": "4d6fe5c8-4903-45c8-9699-ae20107f5ca2",
   "metadata": {},
   "outputs": [],
   "source": []
  },
  {
   "cell_type": "code",
   "execution_count": null,
   "id": "557906e5-8e0d-4ee6-b8e7-a7aa9e98c8fb",
   "metadata": {},
   "outputs": [],
   "source": []
  },
  {
   "cell_type": "code",
   "execution_count": null,
   "id": "fa422727-2bcb-4889-8a5d-64ececc9d2ce",
   "metadata": {},
   "outputs": [],
   "source": []
  },
  {
   "cell_type": "code",
   "execution_count": 64,
   "id": "eb075687-02c1-4c3d-a809-322eb1201a0f",
   "metadata": {},
   "outputs": [],
   "source": [
    "df_test_nodup[\"visit_count\"] = df_test.apply(visit_count, axis=1)"
   ]
  },
  {
   "cell_type": "code",
   "execution_count": 76,
   "id": "74914446-2653-4dc9-8030-a5f3bd0ed538",
   "metadata": {},
   "outputs": [
    {
     "data": {
      "text/plain": [
       "358095"
      ]
     },
     "execution_count": 76,
     "metadata": {},
     "output_type": "execute_result"
    }
   ],
   "source": [
    "df_test[\"visit_count\"].sum()"
   ]
  },
  {
   "cell_type": "code",
   "execution_count": 77,
   "id": "37d8b2eb-128d-4028-91e3-72ce38da9856",
   "metadata": {},
   "outputs": [
    {
     "data": {
      "text/plain": [
       "483241"
      ]
     },
     "execution_count": 77,
     "metadata": {},
     "output_type": "execute_result"
    }
   ],
   "source": [
    "df_test_group[\"visit_count\"].sum()"
   ]
  },
  {
   "cell_type": "code",
   "execution_count": 67,
   "id": "5ed3d7f7-c675-4bfc-8a96-4ab1d0ad4975",
   "metadata": {},
   "outputs": [
    {
     "data": {
      "text/plain": [
       "357656"
      ]
     },
     "execution_count": 67,
     "metadata": {},
     "output_type": "execute_result"
    }
   ],
   "source": [
    "df_test_nodup[\"visit_count\"].sum()"
   ]
  },
  {
   "cell_type": "code",
   "execution_count": 68,
   "id": "b3a5856e-86ec-4864-91b6-c86bdf19ebdb",
   "metadata": {},
   "outputs": [
    {
     "data": {
      "text/plain": [
       "(146942, 23)"
      ]
     },
     "execution_count": 68,
     "metadata": {},
     "output_type": "execute_result"
    }
   ],
   "source": [
    "df_test.shape"
   ]
  },
  {
   "cell_type": "code",
   "execution_count": 69,
   "id": "3a4b6a61-de19-4698-b4fe-00717c291e31",
   "metadata": {},
   "outputs": [
    {
     "data": {
      "text/plain": [
       "(128501, 23)"
      ]
     },
     "execution_count": 69,
     "metadata": {},
     "output_type": "execute_result"
    }
   ],
   "source": [
    "df_test_group.shape"
   ]
  },
  {
   "cell_type": "code",
   "execution_count": 70,
   "id": "36aa2b70-3a37-43f3-8621-8640bfc51f96",
   "metadata": {},
   "outputs": [
    {
     "data": {
      "text/plain": [
       "(146587, 23)"
      ]
     },
     "execution_count": 70,
     "metadata": {},
     "output_type": "execute_result"
    }
   ],
   "source": [
    "df_test_nodup.shape"
   ]
  },
  {
   "cell_type": "code",
   "execution_count": 72,
   "id": "d9d43931-4831-429c-af1b-839f99ec7dcd",
   "metadata": {},
   "outputs": [
    {
     "data": {
      "text/plain": [
       "count    146942.000000\n",
       "mean          2.436982\n",
       "std           8.576010\n",
       "min           1.000000\n",
       "25%           1.000000\n",
       "50%           1.000000\n",
       "75%           2.000000\n",
       "max        1061.000000\n",
       "Name: visit_count, dtype: float64"
      ]
     },
     "execution_count": 72,
     "metadata": {},
     "output_type": "execute_result"
    }
   ],
   "source": [
    "df_test.visit_count.describe()"
   ]
  },
  {
   "cell_type": "code",
   "execution_count": 73,
   "id": "48e20e65-2eee-4eaf-ba77-00a89aa27ca5",
   "metadata": {},
   "outputs": [
    {
     "data": {
      "text/plain": [
       "count    146587.000000\n",
       "mean          2.439889\n",
       "std           8.586147\n",
       "min           1.000000\n",
       "25%           1.000000\n",
       "50%           1.000000\n",
       "75%           2.000000\n",
       "max        1061.000000\n",
       "Name: visit_count, dtype: float64"
      ]
     },
     "execution_count": 73,
     "metadata": {},
     "output_type": "execute_result"
    }
   ],
   "source": [
    "df_test_nodup.visit_count.describe()"
   ]
  },
  {
   "cell_type": "code",
   "execution_count": 74,
   "id": "b108283b-4fa8-4cb0-b7f0-d3cf9a7b812d",
   "metadata": {},
   "outputs": [
    {
     "data": {
      "text/plain": [
       "count    128501.000000\n",
       "mean          3.760601\n",
       "std          13.629208\n",
       "min           1.000000\n",
       "25%           1.000000\n",
       "50%           1.000000\n",
       "75%           2.000000\n",
       "max        1061.000000\n",
       "Name: visit_count, dtype: float64"
      ]
     },
     "execution_count": 74,
     "metadata": {},
     "output_type": "execute_result"
    }
   ],
   "source": [
    "df_test_group.visit_count.describe()"
   ]
  },
  {
   "cell_type": "code",
   "execution_count": 76,
   "id": "43364b7f-56c5-4921-b798-255624c5275c",
   "metadata": {},
   "outputs": [
    {
     "data": {
      "text/plain": [
       "year                                             2023\n",
       "month                                               2\n",
       "region                                          87000\n",
       "clinic                                         110001\n",
       "oid                     1.2.643.5.1.13.13.12.2.11.724\n",
       "depart                                       11000100\n",
       "branch                                            0.0\n",
       "doctor_specialty                                    2\n",
       "doctor_profile                                    136\n",
       "terms                                               3\n",
       "doctor_id                              035-508-952 59\n",
       "diagnosis                                       D25.9\n",
       "purpose                                           1.0\n",
       "service_id                                B01.001.001\n",
       "usl_service_id                         035-508-952 59\n",
       "usl_doctor_specialty                                2\n",
       "usl_clinic                                     110001\n",
       "usl_depart                                   11000100\n",
       "sl_id                                               4\n",
       "code_usl                                            1\n",
       "kol_usl                                             1\n",
       "yet_sum                                           0.0\n",
       "visit_count                                         4\n",
       "Name: 1, dtype: object"
      ]
     },
     "execution_count": 76,
     "metadata": {},
     "output_type": "execute_result"
    }
   ],
   "source": [
    "df_test.loc[1]"
   ]
  },
  {
   "cell_type": "markdown",
   "id": "6dc0001d-11ac-46c1-b355-f0f7b8782f94",
   "metadata": {},
   "source": [
    "***"
   ]
  },
  {
   "cell_type": "markdown",
   "id": "c3d287f9-d979-4948-9d64-492ee69a1608",
   "metadata": {},
   "source": [
    "[Работа с Excel](https://realpython.com/openpyxl-excel-spreadsheets-python/)"
   ]
  },
  {
   "cell_type": "code",
   "execution_count": 4,
   "id": "ae069074-7add-49a6-bf6c-e583b5bb5f4e",
   "metadata": {},
   "outputs": [],
   "source": [
    "from openpyxl import load_workbook"
   ]
  },
  {
   "cell_type": "code",
   "execution_count": 5,
   "id": "6036a81d-d2e3-4a76-893f-e6677eed4ebd",
   "metadata": {},
   "outputs": [
    {
     "data": {
      "text/plain": [
       "['Справочник']"
      ]
     },
     "execution_count": 5,
     "metadata": {},
     "output_type": "execute_result"
    }
   ],
   "source": [
    "workbook = load_workbook(filename=\"/home/sk27/work/med/data/F032.xlsx\")\n",
    "workbook.sheetnames"
   ]
  },
  {
   "cell_type": "code",
   "execution_count": 7,
   "id": "35425272-37ed-41f1-bcbd-3e9716b1dadf",
   "metadata": {},
   "outputs": [
    {
     "data": {
      "text/plain": [
       "<Worksheet \"Справочник\">"
      ]
     },
     "execution_count": 7,
     "metadata": {},
     "output_type": "execute_result"
    }
   ],
   "source": [
    "sheet = workbook.active\n",
    "sheet"
   ]
  },
  {
   "cell_type": "code",
   "execution_count": 14,
   "id": "3e3f4e1c-773f-4db4-9d14-332556466463",
   "metadata": {},
   "outputs": [
    {
     "name": "stdout",
     "output_type": "stream",
     "text": [
      "('UIDMO', 'IDMO', 'MCOD', 'OKTMO_P', 'SUBJ', 'D_BEGIN', 'D_END', 'NAME_E', 'DATEBEG', 'DATEEND')\n",
      "('01202201101000000', '00003503000000007', '010078', '79000000000', 'Республика Адыгея', datetime.datetime(2021, 8, 19, 0, 0), None, None, datetime.datetime(2022, 1, 1, 0, 0), datetime.datetime(2022, 10, 11, 0, 0))\n"
     ]
    }
   ],
   "source": [
    "for value in sheet.iter_rows(\n",
    "    min_row=1, max_row=2, min_col=1, max_col=10, values_only=True\n",
    "):\n",
    "    print(value)"
   ]
  },
  {
   "cell_type": "code",
   "execution_count": null,
   "id": "7526d484-248a-4e71-a898-adf8e1993dc7",
   "metadata": {},
   "outputs": [],
   "source": []
  }
 ],
 "metadata": {
  "kernelspec": {
   "display_name": "Python 3 (ipykernel)",
   "language": "python",
   "name": "python3"
  },
  "language_info": {
   "codemirror_mode": {
    "name": "ipython",
    "version": 3
   },
   "file_extension": ".py",
   "mimetype": "text/x-python",
   "name": "python",
   "nbconvert_exporter": "python",
   "pygments_lexer": "ipython3",
   "version": "3.8.13"
  },
  "widgets": {
   "application/vnd.jupyter.widget-state+json": {
    "state": {
     "144d49efffd24f8dbe35bba164311cfc": {
      "model_module": "@jupyter-widgets/base",
      "model_module_version": "1.2.0",
      "model_name": "LayoutModel",
      "state": {}
     },
     "9ea9366ba6bf4e46be70e148d58efc7c": {
      "model_module": "@jupyter-widgets/base",
      "model_module_version": "1.2.0",
      "model_name": "LayoutModel",
      "state": {}
     },
     "aa5028afcf8f4121aa9e57b1bb1905d9": {
      "model_module": "@jupyter-widgets/base",
      "model_module_version": "1.2.0",
      "model_name": "LayoutModel",
      "state": {}
     },
     "b4b9ca7c2c924241abe28f9db543e0d4": {
      "model_module": "mitosheet",
      "model_module_version": "^0.1.455",
      "model_name": "ExampleModel",
      "state": {
       "_model_module_version": "^0.1.455",
       "_view_module_version": "^0.1.455",
       "analysis_data_json": "{\"analysisName\": \"id-zsonzxzvux\", \"analysisToReplay\": null, \"code\": [], \"stepSummaryList\": [{\"step_id\": \"initialize\", \"step_idx\": 0, \"step_type\": \"initialize\", \"step_display_name\": \"Created a mitosheet\", \"step_description\": \"Created a new mitosheet\"}], \"currStepIdx\": 0, \"dataTypeInTool\": \"personal\", \"graphDataDict\": {}, \"updateEventCount\": 2, \"renderCount\": 1, \"lastResult\": null, \"experiment\": {\"experiment_id\": \"installer_communication_and_time_to_value\", \"variant\": \"B\"}}",
       "layout": "IPY_MODEL_144d49efffd24f8dbe35bba164311cfc",
       "sheet_data_json": "[{\"dfName\": \"df_data_group\", \"dfSource\": \"passed\", \"numRows\": 20, \"numColumns\": 5, \"data\": [{\"columnID\": \"sl_id\", \"columnHeader\": \"sl_id\", \"columnDtype\": \"int64\", \"columnData\": [10997, 1048, 160976, 3, 974692, 297198, 1908, 97114, 9855, 128993, 11341, 7730, 283874, 133, 1114435, 332688, 1570, 104273, 15469, 138494]}, {\"columnID\": \"code_usl\", \"columnHeader\": \"code_usl\", \"columnDtype\": \"int64\", \"columnData\": [12209, 1048, 162285, 3, 1090257, 298737, 1908, 98138, 14777, 131159, 12660, 9778, 285529, 148, 1249458, 334791, 1576, 105761, 23332, 141790]}, {\"columnID\": \"kol_usl\", \"columnHeader\": \"kol_usl\", \"columnDtype\": \"int64\", \"columnData\": [12209, 1048, 162288, 3, 1189051, 305755, 1908, 100334, 15702, 160567, 12660, 9778, 285529, 148, 1344245, 343569, 1576, 108020, 24319, 173643]}, {\"columnID\": \"yet_sum\", \"columnHeader\": \"yet_sum\", \"columnDtype\": \"float64\", \"columnData\": [0.0, 0.0, 0.0, 0.0, 403376.55, 24564.13, 0.0, 21938.0, 4304.64, 57096.05, 1.37, 0.0, 1.95, 0.0, 425256.85, 26278.87, 0.0, 24843.08, 4181.81, 60555.31]}, {\"columnID\": \"visit_count\", \"columnHeader\": \"visit_count\", \"columnDtype\": \"int64\", \"columnData\": [10997, 1048, 160976, 3, 1599114, 310507, 1908, 97114, 9855, 128993, 11341, 7730, 283874, 133, 1803424, 349979, 1570, 104273, 15469, 138494]}], \"columnIDsMap\": {\"sl_id\": \"sl_id\", \"code_usl\": \"code_usl\", \"kol_usl\": \"kol_usl\", \"yet_sum\": \"yet_sum\", \"visit_count\": \"visit_count\"}, \"columnSpreadsheetCodeMap\": {\"sl_id\": \"\", \"code_usl\": \"\", \"kol_usl\": \"\", \"yet_sum\": \"\", \"visit_count\": \"\"}, \"columnFiltersMap\": {\"sl_id\": {\"operator\": \"And\", \"filters\": []}, \"code_usl\": {\"operator\": \"And\", \"filters\": []}, \"kol_usl\": {\"operator\": \"And\", \"filters\": []}, \"yet_sum\": {\"operator\": \"And\", \"filters\": []}, \"visit_count\": {\"operator\": \"And\", \"filters\": []}}, \"columnDtypeMap\": {\"sl_id\": \"int64\", \"code_usl\": \"int64\", \"kol_usl\": \"int64\", \"yet_sum\": \"float64\", \"visit_count\": \"int64\"}, \"index\": [[1, \"A\\u043a\\u0442\\u0438\\u0432\\u043d\\u043e\\u0435 \\u043f\\u043e\\u0441\\u0435\\u0449\\u0435\\u043d\\u0438\\u0435 \"], [1, \"\\u0414\\u0438\\u0441\\u043f\\u0430\\u043d\\u0441\\u0435\\u0440\\u0438\\u0437\\u0430\\u0446\\u0438\\u044f\"], [1, \"\\u0414\\u0438\\u0441\\u043f\\u0430\\u043d\\u0441\\u0435\\u0440\\u043d\\u043e\\u0435 \\u043d\\u0430\\u0431\\u043b\\u044e\\u0434\\u0435\\u043d\\u0438\\u0435 \"], [1, \"\\u041c\\u0435\\u0434\\u0438\\u0446\\u0438\\u043d\\u0441\\u043a\\u0438\\u0439 \\u043e\\u0441\\u043c\\u043e\\u0442\\u0440 \"], [1, \"\\u041e\\u0431\\u0440\\u0430\\u0449\\u0435\\u043d\\u0438\\u0435 \\u043f\\u043e \\u0437\\u0430\\u0431\\u043e\\u043b\\u0435\\u0432\\u0430\\u043d\\u0438\\u044e\"], [1, \"\\u041e\\u0431\\u0440\\u0430\\u0449\\u0435\\u043d\\u0438\\u0435 \\u0441 \\u043f\\u0440\\u043e\\u0444\\u0438\\u043b\\u0430\\u043a\\u0442\\u0438\\u0447\\u0435\\u0441\\u043a\\u043e\\u0439 \\u0446\\u0435\\u043b\\u044c\\u044e.\"], [1, \"\\u041f\\u0430\\u0442\\u0440\\u043e\\u043d\\u0430\\u0436\"], [1, \"\\u041f\\u043e\\u0441\\u0435\\u0449\\u0435\\u043d\\u0438e \\u0432 \\u043d\\u0435\\u043e\\u0442\\u043b\\u043e\\u0436\\u043d\\u043e\\u0439 \\u0444\\u043e\\u0440\\u043c\\u0435 \"], [1, \"\\u041f\\u043e\\u0441\\u0435\\u0449\\u0435\\u043d\\u0438\\u0435 \\u043f\\u043e \\u0434\\u0440\\u0443\\u0433\\u0438\\u043c \\u043e\\u0431\\u0441\\u0442\\u043e\\u044f\\u0442\\u0435\\u043b\\u044c\\u0441\\u0442\\u0432\\u0430\\u043c \"], [1, \"\\u041f\\u043e\\u0441\\u0435\\u0449\\u0435\\u043d\\u0438\\u0435 \\u043f\\u043e \\u0437\\u0430\\u0431\\u043e\\u043b\\u0435\\u0432\\u0430\\u043d\\u0438\\u044e\"], [2, \"A\\u043a\\u0442\\u0438\\u0432\\u043d\\u043e\\u0435 \\u043f\\u043e\\u0441\\u0435\\u0449\\u0435\\u043d\\u0438\\u0435 \"], [2, \"\\u0414\\u0438\\u0441\\u043f\\u0430\\u043d\\u0441\\u0435\\u0440\\u0438\\u0437\\u0430\\u0446\\u0438\\u044f\"], [2, \"\\u0414\\u0438\\u0441\\u043f\\u0430\\u043d\\u0441\\u0435\\u0440\\u043d\\u043e\\u0435 \\u043d\\u0430\\u0431\\u043b\\u044e\\u0434\\u0435\\u043d\\u0438\\u0435 \"], [2, \"\\u041c\\u0435\\u0434\\u0438\\u0446\\u0438\\u043d\\u0441\\u043a\\u0438\\u0439 \\u043e\\u0441\\u043c\\u043e\\u0442\\u0440 \"], [2, \"\\u041e\\u0431\\u0440\\u0430\\u0449\\u0435\\u043d\\u0438\\u0435 \\u043f\\u043e \\u0437\\u0430\\u0431\\u043e\\u043b\\u0435\\u0432\\u0430\\u043d\\u0438\\u044e\"], [2, \"\\u041e\\u0431\\u0440\\u0430\\u0449\\u0435\\u043d\\u0438\\u0435 \\u0441 \\u043f\\u0440\\u043e\\u0444\\u0438\\u043b\\u0430\\u043a\\u0442\\u0438\\u0447\\u0435\\u0441\\u043a\\u043e\\u0439 \\u0446\\u0435\\u043b\\u044c\\u044e.\"], [2, \"\\u041f\\u0430\\u0442\\u0440\\u043e\\u043d\\u0430\\u0436\"], [2, \"\\u041f\\u043e\\u0441\\u0435\\u0449\\u0435\\u043d\\u0438e \\u0432 \\u043d\\u0435\\u043e\\u0442\\u043b\\u043e\\u0436\\u043d\\u043e\\u0439 \\u0444\\u043e\\u0440\\u043c\\u0435 \"], [2, \"\\u041f\\u043e\\u0441\\u0435\\u0449\\u0435\\u043d\\u0438\\u0435 \\u043f\\u043e \\u0434\\u0440\\u0443\\u0433\\u0438\\u043c \\u043e\\u0431\\u0441\\u0442\\u043e\\u044f\\u0442\\u0435\\u043b\\u044c\\u0441\\u0442\\u0432\\u0430\\u043c \"], [2, \"\\u041f\\u043e\\u0441\\u0435\\u0449\\u0435\\u043d\\u0438\\u0435 \\u043f\\u043e \\u0437\\u0430\\u0431\\u043e\\u043b\\u0435\\u0432\\u0430\\u043d\\u0438\\u044e\"]], \"dfFormat\": {\"columns\": {}, \"headers\": {}, \"rows\": {\"even\": {}, \"odd\": {}}, \"border\": {}, \"conditional_formats\": []}, \"conditionalFormattingResult\": {\"invalid_conditional_formats\": {}, \"results\": {}}}]",
       "user_profile_json": "{\"userEmail\": \"sk27101971@yandex.ru\", \"receivedTours\": [\"Intro\"], \"receivedChecklists\": {}, \"isPro\": false, \"telemetryEnabled\": true, \"excelImportEnabled\": true, \"isLocalDeployment\": true, \"shouldUpgradeMitosheet\": false, \"numUsages\": 7, \"mitoConfig\": {\"mec_version\": 1, \"support_email\": \"founders@sagacollab.com\"}}"
      }
     },
     "dc51be18b9344f33bf7aa46484ea72fa": {
      "model_module": "mitosheet",
      "model_module_version": "^0.1.455",
      "model_name": "ExampleModel",
      "state": {
       "_model_module_version": "^0.1.455",
       "_view_module_version": "^0.1.455",
       "analysis_data_json": "{\"analysisName\": \"id-ruuxsrjwif\", \"analysisToReplay\": null, \"code\": [], \"stepSummaryList\": [{\"step_id\": \"initialize\", \"step_idx\": 0, \"step_type\": \"initialize\", \"step_display_name\": \"Created a mitosheet\", \"step_description\": \"Created a new mitosheet\"}], \"currStepIdx\": 0, \"dataTypeInTool\": \"none\", \"graphDataDict\": {}, \"updateEventCount\": 2, \"renderCount\": 1, \"lastResult\": null, \"experiment\": {\"experiment_id\": \"installer_communication_and_time_to_value\", \"variant\": \"B\"}}",
       "layout": "IPY_MODEL_9ea9366ba6bf4e46be70e148d58efc7c",
       "sheet_data_json": "[]",
       "user_profile_json": "{\"userEmail\": \"sk27101971@yandex.ru\", \"receivedTours\": [\"Intro\"], \"receivedChecklists\": {}, \"isPro\": false, \"telemetryEnabled\": true, \"excelImportEnabled\": true, \"isLocalDeployment\": true, \"shouldUpgradeMitosheet\": false, \"numUsages\": 7, \"mitoConfig\": {\"mec_version\": 1, \"support_email\": \"founders@sagacollab.com\"}}"
      }
     },
     "e96beacea37d401c842c00affc6ed4c4": {
      "model_module": "mitosheet",
      "model_module_version": "^0.1.455",
      "model_name": "ExampleModel",
      "state": {
       "_model_module_version": "^0.1.455",
       "_view_module_version": "^0.1.455",
       "analysis_data_json": "{\"analysisName\": \"id-qalytgiuuq\", \"analysisToReplay\": null, \"code\": [], \"stepSummaryList\": [{\"step_id\": \"initialize\", \"step_idx\": 0, \"step_type\": \"initialize\", \"step_display_name\": \"Created a mitosheet\", \"step_description\": \"Created a new mitosheet\"}], \"currStepIdx\": 0, \"dataTypeInTool\": \"personal\", \"graphDataDict\": {}, \"updateEventCount\": 2, \"renderCount\": 1, \"lastResult\": null, \"experiment\": {\"experiment_id\": \"installer_communication_and_time_to_value\", \"variant\": \"B\"}}",
       "layout": "IPY_MODEL_aa5028afcf8f4121aa9e57b1bb1905d9",
       "sheet_data_json": "[{\"dfName\": \"df_test_nodup\", \"dfSource\": \"passed\", \"numRows\": 146587, \"numColumns\": 22, \"data\": [{\"columnID\": \"year\", \"columnHeader\": \"year\", \"columnDtype\": \"int64\", \"columnData\": [2023, 2023, 2023, 2023, 2023, 2023, 2023, 2023, 2023, 2023, 2023, 2023, 2023, 2023, 2023, 2023, 2023, 2023, 2023, 2023, 2023, 2023, 2023, 2023, 2023, 2023, 2023, 2023, 2023, 2023, 2023, 2023, 2023, 2023, 2023, 2023, 2023, 2023, 2023, 2023, 2023, 2023, 2023, 2023, 2023, 2023, 2023, 2023, 2023, 2023, 2023, 2023, 2023, 2023, 2023, 2023, 2023, 2023, 2023, 2023, 2023, 2023, 2023, 2023, 2023, 2023, 2023, 2023, 2023, 2023, 2023, 2023, 2023, 2023, 2023, 2023, 2023, 2023, 2023, 2023, 2023, 2023, 2023, 2023, 2023, 2023, 2023, 2023, 2023, 2023, 2023, 2023, 2023, 2023, 2023, 2023, 2023, 2023, 2023, 2023, 2023, 2023, 2023, 2023, 2023, 2023, 2023, 2023, 2023, 2023, 2023, 2023, 2023, 2023, 2023, 2023, 2023, 2023, 2023, 2023, 2023, 2023, 2023, 2023, 2023, 2023, 2023, 2023, 2023, 2023, 2023, 2023, 2023, 2023, 2023, 2023, 2023, 2023, 2023, 2023, 2023, 2023, 2023, 2023, 2023, 2023, 2023, 2023, 2023, 2023, 2023, 2023, 2023, 2023, 2023, 2023, 2023, 2023, 2023, 2023, 2023, 2023, 2023, 2023, 2023, 2023, 2023, 2023, 2023, 2023, 2023, 2023, 2023, 2023, 2023, 2023, 2023, 2023, 2023, 2023, 2023, 2023, 2023, 2023, 2023, 2023, 2023, 2023, 2023, 2023, 2023, 2023, 2023, 2023, 2023, 2023, 2023, 2023, 2023, 2023, 2023, 2023, 2023, 2023, 2023, 2023, 2023, 2023, 2023, 2023, 2023, 2023, 2023, 2023, 2023, 2023, 2023, 2023, 2023, 2023, 2023, 2023, 2023, 2023, 2023, 2023, 2023, 2023, 2023, 2023, 2023, 2023, 2023, 2023, 2023, 2023, 2023, 2023, 2023, 2023, 2023, 2023, 2023, 2023, 2023, 2023, 2023, 2023, 2023, 2023, 2023, 2023, 2023, 2023, 2023, 2023, 2023, 2023, 2023, 2023, 2023, 2023, 2023, 2023, 2023, 2023, 2023, 2023, 2023, 2023, 2023, 2023, 2023, 2023, 2023, 2023, 2023, 2023, 2023, 2023, 2023, 2023, 2023, 2023, 2023, 2023, 2023, 2023, 2023, 2023, 2023, 2023, 2023, 2023, 2023, 2023, 2023, 2023, 2023, 2023, 2023, 2023, 2023, 2023, 2023, 2023, 2023, 2023, 2023, 2023, 2023, 2023, 2023, 2023, 2023, 2023, 2023, 2023, 2023, 2023, 2023, 2023, 2023, 2023, 2023, 2023, 2023, 2023, 2023, 2023, 2023, 2023, 2023, 2023, 2023, 2023, 2023, 2023, 2023, 2023, 2023, 2023, 2023, 2023, 2023, 2023, 2023, 2023, 2023, 2023, 2023, 2023, 2023, 2023, 2023, 2023, 2023, 2023, 2023, 2023, 2023, 2023, 2023, 2023, 2023, 2023, 2023, 2023, 2023, 2023, 2023, 2023, 2023, 2023, 2023, 2023, 2023, 2023, 2023, 2023, 2023, 2023, 2023, 2023, 2023, 2023, 2023, 2023, 2023, 2023, 2023, 2023, 2023, 2023, 2023, 2023, 2023, 2023, 2023, 2023, 2023, 2023, 2023, 2023, 2023, 2023, 2023, 2023, 2023, 2023, 2023, 2023, 2023, 2023, 2023, 2023, 2023, 2023, 2023, 2023, 2023, 2023, 2023, 2023, 2023, 2023, 2023, 2023, 2023, 2023, 2023, 2023, 2023, 2023, 2023, 2023, 2023, 2023, 2023, 2023, 2023, 2023, 2023, 2023, 2023, 2023, 2023, 2023, 2023, 2023, 2023, 2023, 2023, 2023, 2023, 2023, 2023, 2023, 2023, 2023, 2023, 2023, 2023, 2023, 2023, 2023, 2023, 2023, 2023, 2023, 2023, 2023, 2023, 2023, 2023, 2023, 2023, 2023, 2023, 2023, 2023, 2023, 2023, 2023, 2023, 2023, 2023, 2023, 2023, 2023, 2023, 2023, 2023, 2023, 2023, 2023, 2023, 2023, 2023, 2023, 2023, 2023, 2023, 2023, 2023, 2023, 2023, 2023, 2023, 2023, 2023, 2023, 2023, 2023, 2023, 2023, 2023, 2023, 2023, 2023, 2023, 2023, 2023, 2023, 2023, 2023, 2023, 2023, 2023, 2023, 2023, 2023, 2023, 2023, 2023, 2023, 2023, 2023, 2023, 2023, 2023, 2023, 2023, 2023, 2023, 2023, 2023, 2023, 2023, 2023, 2023, 2023, 2023, 2023, 2023, 2023, 2023, 2023, 2023, 2023, 2023, 2023, 2023, 2023, 2023, 2023, 2023, 2023, 2023, 2023, 2023, 2023, 2023, 2023, 2023, 2023, 2023, 2023, 2023, 2023, 2023, 2023, 2023, 2023, 2023, 2023, 2023, 2023, 2023, 2023, 2023, 2023, 2023, 2023, 2023, 2023, 2023, 2023, 2023, 2023, 2023, 2023, 2023, 2023, 2023, 2023, 2023, 2023, 2023, 2023, 2023, 2023, 2023, 2023, 2023, 2023, 2023, 2023, 2023, 2023, 2023, 2023, 2023, 2023, 2023, 2023, 2023, 2023, 2023, 2023, 2023, 2023, 2023, 2023, 2023, 2023, 2023, 2023, 2023, 2023, 2023, 2023, 2023, 2023, 2023, 2023, 2023, 2023, 2023, 2023, 2023, 2023, 2023, 2023, 2023, 2023, 2023, 2023, 2023, 2023, 2023, 2023, 2023, 2023, 2023, 2023, 2023, 2023, 2023, 2023, 2023, 2023, 2023, 2023, 2023, 2023, 2023, 2023, 2023, 2023, 2023, 2023, 2023, 2023, 2023, 2023, 2023, 2023, 2023, 2023, 2023, 2023, 2023, 2023, 2023, 2023, 2023, 2023, 2023, 2023, 2023, 2023, 2023, 2023, 2023, 2023, 2023, 2023, 2023, 2023, 2023, 2023, 2023, 2023, 2023, 2023, 2023, 2023, 2023, 2023, 2023, 2023, 2023, 2023, 2023, 2023, 2023, 2023, 2023, 2023, 2023, 2023, 2023, 2023, 2023, 2023, 2023, 2023, 2023, 2023, 2023, 2023, 2023, 2023, 2023, 2023, 2023, 2023, 2023, 2023, 2023, 2023, 2023, 2023, 2023, 2023, 2023, 2023, 2023, 2023, 2023, 2023, 2023, 2023, 2023, 2023, 2023, 2023, 2023, 2023, 2023, 2023, 2023, 2023, 2023, 2023, 2023, 2023, 2023, 2023, 2023, 2023, 2023, 2023, 2023, 2023, 2023, 2023, 2023, 2023, 2023, 2023, 2023, 2023, 2023, 2023, 2023, 2023, 2023, 2023, 2023, 2023, 2023, 2023, 2023, 2023, 2023, 2023, 2023, 2023, 2023, 2023, 2023, 2023, 2023, 2023, 2023, 2023, 2023, 2023, 2023, 2023, 2023, 2023, 2023, 2023, 2023, 2023, 2023, 2023, 2023, 2023, 2023, 2023, 2023, 2023, 2023, 2023, 2023, 2023, 2023, 2023, 2023, 2023, 2023, 2023, 2023, 2023, 2023, 2023, 2023, 2023, 2023, 2023, 2023, 2023, 2023, 2023, 2023, 2023, 2023, 2023, 2023, 2023, 2023, 2023, 2023, 2023, 2023, 2023, 2023, 2023, 2023, 2023, 2023, 2023, 2023, 2023, 2023, 2023, 2023, 2023, 2023, 2023, 2023, 2023, 2023, 2023, 2023, 2023, 2023, 2023, 2023, 2023, 2023, 2023, 2023, 2023, 2023, 2023, 2023, 2023, 2023, 2023, 2023, 2023, 2023, 2023, 2023, 2023, 2023, 2023, 2023, 2023, 2023, 2023, 2023, 2023, 2023, 2023, 2023, 2023, 2023, 2023, 2023, 2023, 2023, 2023, 2023, 2023, 2023, 2023, 2023, 2023, 2023, 2023, 2023, 2023, 2023, 2023, 2023, 2023, 2023, 2023, 2023, 2023, 2023, 2023, 2023, 2023, 2023, 2023, 2023, 2023, 2023, 2023, 2023, 2023, 2023, 2023, 2023, 2023, 2023, 2023, 2023, 2023, 2023, 2023, 2023, 2023, 2023, 2023, 2023, 2023, 2023, 2023, 2023, 2023, 2023, 2023, 2023, 2023, 2023, 2023, 2023, 2023, 2023, 2023, 2023, 2023, 2023, 2023, 2023, 2023, 2023, 2023, 2023, 2023, 2023, 2023, 2023, 2023, 2023, 2023, 2023, 2023, 2023, 2023, 2023, 2023, 2023, 2023, 2023, 2023, 2023, 2023, 2023, 2023, 2023, 2023, 2023, 2023, 2023, 2023, 2023, 2023, 2023, 2023, 2023, 2023, 2023, 2023, 2023, 2023, 2023, 2023, 2023, 2023, 2023, 2023, 2023, 2023, 2023, 2023, 2023, 2023, 2023, 2023, 2023, 2023, 2023, 2023, 2023, 2023, 2023, 2023, 2023, 2023, 2023, 2023, 2023, 2023, 2023, 2023, 2023, 2023, 2023, 2023, 2023, 2023, 2023, 2023, 2023, 2023, 2023, 2023, 2023, 2023, 2023, 2023, 2023, 2023, 2023, 2023, 2023, 2023, 2023, 2023, 2023, 2023, 2023, 2023, 2023, 2023, 2023, 2023, 2023, 2023, 2023, 2023, 2023, 2023, 2023, 2023, 2023, 2023, 2023, 2023, 2023, 2023, 2023, 2023, 2023, 2023, 2023, 2023, 2023, 2023, 2023, 2023, 2023, 2023, 2023, 2023, 2023, 2023, 2023, 2023, 2023, 2023, 2023, 2023, 2023, 2023, 2023, 2023, 2023, 2023, 2023, 2023, 2023, 2023, 2023, 2023, 2023, 2023, 2023, 2023, 2023, 2023, 2023, 2023, 2023, 2023, 2023, 2023, 2023, 2023, 2023, 2023, 2023, 2023, 2023, 2023, 2023, 2023, 2023, 2023, 2023, 2023, 2023, 2023, 2023, 2023, 2023, 2023, 2023, 2023, 2023, 2023, 2023, 2023, 2023, 2023, 2023, 2023, 2023, 2023, 2023, 2023, 2023, 2023, 2023, 2023, 2023, 2023, 2023, 2023, 2023, 2023, 2023, 2023, 2023, 2023, 2023, 2023, 2023, 2023, 2023, 2023, 2023, 2023, 2023, 2023, 2023, 2023, 2023, 2023, 2023, 2023, 2023, 2023, 2023, 2023, 2023, 2023, 2023, 2023, 2023, 2023, 2023, 2023, 2023, 2023, 2023, 2023, 2023, 2023, 2023, 2023, 2023, 2023, 2023, 2023, 2023, 2023, 2023, 2023, 2023, 2023, 2023, 2023, 2023, 2023, 2023, 2023, 2023, 2023, 2023, 2023, 2023, 2023, 2023, 2023, 2023, 2023, 2023, 2023, 2023, 2023, 2023, 2023, 2023, 2023, 2023, 2023, 2023, 2023, 2023, 2023, 2023, 2023, 2023, 2023, 2023, 2023, 2023, 2023, 2023, 2023, 2023, 2023, 2023, 2023, 2023, 2023, 2023, 2023, 2023, 2023, 2023, 2023, 2023, 2023, 2023, 2023, 2023, 2023, 2023, 2023, 2023, 2023, 2023, 2023, 2023, 2023, 2023, 2023, 2023, 2023, 2023, 2023, 2023, 2023, 2023, 2023, 2023, 2023, 2023, 2023, 2023, 2023, 2023, 2023, 2023, 2023, 2023, 2023, 2023, 2023, 2023, 2023, 2023, 2023, 2023, 2023, 2023, 2023, 2023, 2023, 2023, 2023, 2023, 2023, 2023, 2023, 2023, 2023, 2023, 2023, 2023, 2023, 2023, 2023, 2023, 2023, 2023, 2023, 2023, 2023, 2023, 2023, 2023, 2023, 2023, 2023, 2023, 2023, 2023, 2023, 2023, 2023, 2023, 2023, 2023, 2023, 2023, 2023, 2023, 2023, 2023, 2023, 2023, 2023, 2023, 2023, 2023, 2023, 2023, 2023, 2023, 2023, 2023, 2023, 2023, 2023, 2023, 2023, 2023, 2023, 2023, 2023, 2023, 2023, 2023, 2023, 2023, 2023, 2023, 2023, 2023, 2023, 2023, 2023, 2023, 2023, 2023, 2023, 2023, 2023, 2023, 2023, 2023, 2023, 2023, 2023, 2023, 2023, 2023, 2023, 2023, 2023, 2023, 2023, 2023, 2023, 2023, 2023, 2023, 2023, 2023, 2023, 2023, 2023, 2023, 2023, 2023, 2023, 2023, 2023, 2023, 2023, 2023, 2023, 2023, 2023, 2023, 2023, 2023, 2023, 2023, 2023, 2023, 2023, 2023, 2023, 2023, 2023, 2023, 2023, 2023, 2023, 2023, 2023, 2023, 2023, 2023, 2023, 2023, 2023, 2023, 2023, 2023, 2023, 2023, 2023, 2023, 2023, 2023, 2023]}, {\"columnID\": \"month\", \"columnHeader\": \"month\", \"columnDtype\": \"int64\", \"columnData\": [2, 2, 2, 2, 2, 2, 2, 2, 2, 2, 2, 2, 2, 2, 2, 2, 2, 2, 2, 2, 2, 2, 2, 2, 2, 2, 2, 2, 2, 2, 2, 2, 2, 2, 2, 2, 2, 2, 2, 2, 2, 2, 2, 2, 2, 2, 2, 2, 2, 2, 2, 2, 2, 2, 2, 2, 2, 2, 2, 2, 2, 2, 2, 2, 2, 2, 2, 2, 2, 2, 2, 2, 2, 2, 2, 2, 2, 2, 2, 2, 2, 2, 2, 2, 2, 2, 2, 2, 2, 2, 2, 2, 2, 2, 2, 2, 2, 2, 2, 2, 2, 2, 2, 2, 2, 2, 2, 2, 2, 2, 2, 2, 2, 2, 2, 2, 2, 2, 2, 2, 2, 2, 2, 2, 2, 2, 2, 2, 2, 2, 2, 2, 2, 2, 2, 2, 2, 2, 2, 2, 2, 2, 2, 2, 2, 2, 2, 2, 2, 2, 2, 2, 2, 2, 2, 2, 2, 2, 2, 2, 2, 2, 2, 2, 2, 2, 2, 2, 2, 2, 2, 2, 2, 2, 2, 2, 2, 2, 2, 2, 2, 2, 2, 2, 2, 2, 2, 2, 2, 2, 2, 2, 2, 2, 2, 2, 2, 2, 2, 2, 2, 2, 2, 2, 2, 2, 2, 2, 2, 2, 2, 2, 2, 2, 2, 2, 2, 2, 2, 2, 2, 2, 2, 2, 2, 2, 2, 2, 2, 2, 2, 2, 2, 2, 2, 2, 2, 2, 2, 2, 2, 2, 2, 2, 2, 2, 2, 2, 2, 2, 2, 2, 2, 2, 2, 2, 2, 2, 2, 2, 2, 2, 2, 2, 2, 2, 2, 2, 2, 2, 2, 2, 2, 2, 2, 2, 2, 2, 2, 2, 2, 2, 2, 2, 2, 2, 2, 2, 2, 2, 2, 2, 2, 2, 2, 2, 2, 2, 2, 2, 2, 2, 2, 2, 2, 2, 2, 2, 2, 2, 2, 2, 2, 2, 2, 2, 2, 2, 2, 2, 2, 2, 2, 2, 2, 2, 2, 2, 2, 2, 2, 2, 2, 2, 2, 2, 2, 2, 2, 2, 2, 2, 2, 2, 2, 2, 2, 2, 2, 2, 2, 2, 2, 2, 2, 2, 2, 2, 2, 2, 2, 2, 2, 2, 2, 2, 2, 2, 2, 2, 2, 2, 2, 2, 2, 2, 2, 2, 2, 2, 2, 2, 2, 2, 2, 2, 2, 2, 2, 2, 2, 2, 2, 2, 2, 2, 2, 2, 2, 2, 2, 2, 2, 2, 2, 2, 2, 2, 2, 2, 2, 2, 2, 2, 2, 2, 2, 2, 2, 2, 2, 2, 2, 2, 2, 2, 2, 2, 2, 2, 2, 2, 2, 2, 2, 2, 2, 2, 2, 2, 2, 2, 2, 2, 2, 2, 2, 2, 2, 2, 2, 2, 2, 2, 2, 2, 2, 2, 2, 2, 2, 2, 2, 2, 2, 2, 2, 2, 2, 2, 2, 2, 2, 2, 2, 2, 2, 2, 2, 2, 2, 2, 2, 2, 2, 2, 2, 2, 2, 2, 2, 2, 2, 2, 2, 2, 2, 2, 2, 2, 2, 2, 2, 2, 2, 2, 2, 2, 2, 2, 2, 2, 2, 2, 2, 2, 2, 2, 2, 2, 2, 2, 2, 2, 2, 2, 2, 2, 2, 2, 2, 2, 2, 2, 2, 2, 2, 2, 2, 2, 2, 2, 2, 2, 2, 2, 2, 2, 2, 2, 2, 2, 2, 2, 2, 2, 2, 2, 2, 2, 2, 2, 2, 2, 2, 2, 2, 2, 2, 2, 2, 2, 2, 2, 2, 2, 2, 2, 2, 2, 2, 2, 2, 2, 2, 2, 2, 2, 2, 2, 2, 2, 2, 2, 2, 2, 2, 2, 2, 2, 2, 2, 2, 2, 2, 2, 2, 2, 2, 2, 2, 2, 2, 2, 2, 2, 2, 2, 2, 2, 2, 2, 2, 2, 2, 2, 2, 2, 2, 2, 2, 2, 2, 2, 2, 2, 2, 2, 2, 2, 2, 2, 2, 2, 2, 2, 2, 2, 2, 2, 2, 2, 2, 2, 2, 2, 2, 2, 2, 2, 2, 2, 2, 2, 2, 2, 2, 2, 2, 2, 2, 2, 2, 2, 2, 2, 2, 2, 2, 2, 2, 2, 2, 2, 2, 2, 2, 2, 2, 2, 2, 2, 2, 2, 2, 2, 2, 2, 2, 2, 2, 2, 2, 2, 2, 2, 2, 2, 2, 2, 2, 2, 2, 2, 2, 2, 2, 2, 2, 2, 2, 2, 2, 2, 2, 2, 2, 2, 2, 2, 2, 2, 2, 2, 2, 2, 2, 2, 2, 2, 2, 2, 2, 2, 2, 2, 2, 2, 2, 2, 2, 2, 2, 2, 2, 2, 2, 2, 2, 2, 2, 2, 2, 2, 2, 2, 2, 2, 2, 2, 2, 2, 2, 2, 2, 2, 2, 2, 2, 2, 2, 2, 2, 2, 2, 2, 2, 2, 2, 2, 2, 2, 2, 2, 2, 2, 2, 2, 2, 2, 2, 2, 2, 2, 2, 2, 2, 2, 2, 2, 2, 2, 2, 2, 2, 2, 2, 2, 2, 2, 2, 2, 2, 2, 2, 2, 2, 2, 2, 2, 2, 2, 2, 2, 2, 2, 2, 2, 2, 2, 2, 2, 2, 2, 2, 2, 2, 2, 2, 2, 2, 2, 2, 2, 2, 2, 2, 2, 2, 2, 2, 2, 2, 2, 2, 2, 2, 2, 2, 2, 2, 2, 2, 2, 2, 2, 2, 2, 2, 2, 2, 2, 2, 2, 2, 2, 2, 2, 2, 2, 2, 2, 2, 2, 2, 2, 2, 2, 2, 2, 2, 2, 2, 2, 2, 2, 2, 2, 2, 2, 2, 2, 2, 2, 2, 2, 2, 2, 2, 2, 2, 2, 2, 2, 2, 2, 2, 2, 2, 2, 2, 2, 2, 2, 2, 2, 2, 2, 2, 2, 2, 2, 2, 2, 2, 2, 2, 2, 2, 2, 2, 2, 2, 2, 2, 2, 2, 2, 2, 2, 2, 2, 2, 2, 2, 2, 2, 2, 2, 2, 2, 2, 2, 2, 2, 2, 2, 2, 2, 2, 2, 2, 2, 2, 2, 2, 2, 2, 2, 2, 2, 2, 2, 2, 2, 2, 2, 2, 2, 2, 2, 2, 2, 2, 2, 2, 2, 2, 2, 2, 2, 2, 2, 2, 2, 2, 2, 2, 2, 2, 2, 2, 2, 2, 2, 2, 2, 2, 2, 2, 2, 2, 2, 2, 2, 2, 2, 2, 2, 2, 2, 2, 2, 2, 2, 2, 2, 2, 2, 2, 2, 2, 2, 2, 2, 2, 2, 2, 2, 2, 2, 2, 2, 2, 2, 2, 2, 2, 2, 2, 2, 2, 2, 2, 2, 2, 2, 2, 2, 2, 2, 2, 2, 2, 2, 2, 2, 2, 2, 2, 2, 2, 2, 2, 2, 2, 2, 2, 2, 2, 2, 2, 2, 2, 2, 2, 2, 2, 2, 2, 2, 2, 2, 2, 2, 2, 2, 2, 2, 2, 2, 2, 2, 2, 2, 2, 2, 2, 2, 2, 2, 2, 2, 2, 2, 2, 2, 2, 2, 2, 2, 2, 2, 2, 2, 2, 2, 2, 2, 2, 2, 2, 2, 2, 2, 2, 2, 2, 2, 2, 2, 2, 2, 2, 2, 2, 2, 2, 2, 2, 2, 2, 2, 2, 2, 2, 2, 2, 2, 2, 2, 2, 2, 2, 2, 2, 2, 2, 2, 2, 2, 2, 2, 2, 2, 2, 2, 2, 2, 2, 2, 2, 2, 2, 2, 2, 2, 2, 2, 2, 2, 2, 2, 2, 2, 2, 2, 2, 2, 2, 2, 2, 2, 2, 2, 2, 2, 2, 2, 2, 2, 2, 2, 2, 2, 2, 2, 2, 2, 2, 2, 2, 2, 2, 2, 2, 2, 2, 2, 2, 2, 2, 2, 2, 2, 2, 2, 2, 2, 2, 2, 2, 2, 2, 2, 2, 2, 2, 2, 2, 2, 2, 2, 2, 2, 2, 2, 2, 2, 2, 2, 2, 2, 2, 2, 2, 2, 2, 2, 2, 2, 2, 2, 2, 2, 2, 2, 2, 2, 2, 2, 2, 2, 2, 2, 2, 2, 2, 2, 2, 2, 2, 2, 2, 2, 2, 2, 2, 2, 2, 2, 2, 2, 2, 2, 2, 2, 2, 2, 2, 2, 2, 2, 2, 2, 2, 2, 2, 2, 2, 2, 2, 2, 2, 2, 2, 2, 2, 2, 2, 2, 2, 2, 2, 2, 2, 2, 2, 2, 2, 2, 2, 2, 2, 2, 2, 2, 2, 2, 2, 2, 2, 2, 2, 2, 2, 2, 2, 2, 2, 2, 2, 2, 2, 2, 2, 2, 2, 2, 2, 2, 2, 2, 2, 2, 2, 2, 2, 2, 2, 2, 2, 2, 2, 2, 2, 2, 2, 2, 2, 2, 2, 2, 2, 2, 2, 2, 2, 2, 2, 2, 2, 2, 2, 2, 2, 2, 2, 2, 2, 2, 2, 2, 2, 2, 2, 2, 2, 2, 2, 2, 2, 2, 2, 2, 2, 2, 2, 2, 2, 2, 2, 2, 2, 2, 2, 2, 2, 2, 2, 2, 2, 2, 2, 2, 2, 2, 2, 2, 2, 2, 2, 2, 2, 2, 2, 2, 2, 2, 2, 2, 2, 2, 2, 2, 2, 2, 2, 2, 2, 2, 2, 2, 2, 2, 2, 2, 2, 2, 2]}, {\"columnID\": \"region\", \"columnHeader\": \"region\", \"columnDtype\": \"int64\", \"columnData\": [87000, 87000, 87000, 87000, 87000, 87000, 87000, 87000, 87000, 87000, 87000, 87000, 87000, 87000, 87000, 87000, 87000, 87000, 87000, 87000, 87000, 87000, 87000, 87000, 87000, 87000, 87000, 87000, 87000, 87000, 87000, 87000, 87000, 87000, 87000, 87000, 87000, 87000, 87000, 87000, 87000, 87000, 87000, 87000, 87000, 87000, 87000, 87000, 87000, 87000, 87000, 87000, 87000, 87000, 87000, 87000, 87000, 87000, 87000, 87000, 87000, 87000, 87000, 87000, 87000, 87000, 87000, 87000, 87000, 87000, 87000, 87000, 87000, 87000, 87000, 87000, 87000, 87000, 87000, 87000, 87000, 87000, 87000, 87000, 87000, 87000, 87000, 87000, 87000, 87000, 87000, 87000, 87000, 87000, 87000, 87000, 87000, 87000, 87000, 87000, 87000, 87000, 87000, 87000, 87000, 87000, 87000, 87000, 87000, 87000, 87000, 87000, 87000, 87000, 87000, 87000, 87000, 87000, 87000, 87000, 87000, 87000, 87000, 87000, 87000, 87000, 87000, 87000, 87000, 87000, 87000, 87000, 87000, 87000, 87000, 87000, 87000, 87000, 87000, 87000, 87000, 87000, 87000, 87000, 87000, 87000, 87000, 87000, 87000, 87000, 87000, 87000, 87000, 87000, 87000, 87000, 87000, 87000, 87000, 87000, 87000, 87000, 87000, 87000, 87000, 87000, 87000, 87000, 87000, 87000, 87000, 87000, 87000, 87000, 87000, 87000, 87000, 87000, 87000, 87000, 87000, 87000, 87000, 87000, 87000, 87000, 87000, 87000, 87000, 87000, 87000, 87000, 87000, 87000, 87000, 87000, 87000, 87000, 87000, 87000, 87000, 87000, 87000, 87000, 87000, 87000, 87000, 87000, 87000, 87000, 87000, 87000, 87000, 87000, 87000, 87000, 87000, 87000, 87000, 87000, 87000, 87000, 87000, 87000, 87000, 87000, 87000, 87000, 87000, 87000, 87000, 87000, 87000, 87000, 87000, 87000, 87000, 87000, 87000, 87000, 87000, 87000, 87000, 87000, 87000, 87000, 87000, 87000, 87000, 87000, 87000, 87000, 87000, 87000, 87000, 87000, 87000, 87000, 87000, 87000, 87000, 87000, 87000, 87000, 87000, 87000, 87000, 87000, 87000, 87000, 87000, 87000, 87000, 87000, 87000, 87000, 87000, 87000, 87000, 87000, 87000, 87000, 87000, 87000, 87000, 87000, 87000, 87000, 87000, 87000, 87000, 87000, 87000, 87000, 87000, 87000, 87000, 87000, 87000, 87000, 87000, 87000, 87000, 87000, 87000, 87000, 87000, 87000, 87000, 87000, 87000, 87000, 87000, 87000, 87000, 87000, 87000, 87000, 87000, 87000, 87000, 87000, 87000, 87000, 87000, 87000, 87000, 87000, 87000, 87000, 87000, 87000, 87000, 87000, 87000, 87000, 87000, 87000, 87000, 87000, 87000, 87000, 87000, 87000, 87000, 87000, 87000, 87000, 87000, 87000, 87000, 87000, 87000, 87000, 87000, 87000, 87000, 87000, 87000, 87000, 87000, 87000, 87000, 87000, 87000, 87000, 87000, 87000, 87000, 87000, 87000, 87000, 87000, 87000, 87000, 87000, 87000, 87000, 87000, 87000, 87000, 87000, 87000, 87000, 87000, 87000, 87000, 87000, 87000, 87000, 87000, 87000, 87000, 87000, 87000, 87000, 87000, 87000, 87000, 87000, 87000, 87000, 87000, 87000, 87000, 87000, 87000, 87000, 87000, 87000, 87000, 87000, 87000, 87000, 87000, 87000, 87000, 87000, 87000, 87000, 87000, 87000, 87000, 87000, 87000, 87000, 87000, 87000, 87000, 87000, 87000, 87000, 87000, 87000, 87000, 87000, 87000, 87000, 87000, 87000, 87000, 87000, 87000, 87000, 87000, 87000, 87000, 87000, 87000, 87000, 87000, 87000, 87000, 87000, 87000, 87000, 87000, 87000, 87000, 87000, 87000, 87000, 87000, 87000, 87000, 87000, 87000, 87000, 87000, 87000, 87000, 87000, 87000, 87000, 87000, 87000, 87000, 87000, 87000, 87000, 87000, 87000, 87000, 87000, 87000, 87000, 87000, 87000, 87000, 87000, 87000, 87000, 87000, 87000, 87000, 87000, 87000, 87000, 87000, 87000, 87000, 87000, 87000, 87000, 87000, 87000, 87000, 87000, 87000, 87000, 87000, 87000, 87000, 87000, 87000, 87000, 87000, 87000, 87000, 87000, 87000, 87000, 87000, 87000, 87000, 87000, 87000, 87000, 87000, 87000, 87000, 87000, 87000, 87000, 87000, 87000, 87000, 87000, 87000, 87000, 87000, 87000, 87000, 87000, 87000, 87000, 87000, 87000, 87000, 87000, 87000, 87000, 87000, 87000, 87000, 87000, 87000, 87000, 87000, 87000, 87000, 87000, 87000, 87000, 87000, 87000, 87000, 87000, 87000, 87000, 87000, 87000, 87000, 87000, 87000, 87000, 87000, 87000, 87000, 87000, 87000, 87000, 87000, 87000, 87000, 87000, 87000, 87000, 87000, 87000, 87000, 87000, 87000, 87000, 87000, 87000, 87000, 87000, 87000, 87000, 87000, 87000, 87000, 87000, 87000, 87000, 87000, 87000, 87000, 87000, 87000, 87000, 87000, 87000, 87000, 87000, 87000, 87000, 87000, 87000, 87000, 87000, 87000, 87000, 87000, 87000, 87000, 87000, 87000, 87000, 87000, 87000, 87000, 87000, 87000, 87000, 87000, 87000, 87000, 87000, 87000, 87000, 87000, 87000, 87000, 87000, 87000, 87000, 87000, 87000, 87000, 87000, 87000, 87000, 87000, 87000, 87000, 87000, 87000, 87000, 87000, 87000, 87000, 87000, 87000, 87000, 87000, 87000, 87000, 87000, 87000, 87000, 87000, 87000, 87000, 87000, 87000, 87000, 87000, 87000, 87000, 87000, 87000, 87000, 87000, 87000, 87000, 87000, 87000, 87000, 87000, 87000, 87000, 87000, 87000, 87000, 87000, 87000, 87000, 87000, 87000, 87000, 87000, 87000, 87000, 87000, 87000, 87000, 87000, 87000, 87000, 87000, 87000, 87000, 87000, 87000, 87000, 87000, 87000, 87000, 87000, 87000, 87000, 87000, 87000, 87000, 87000, 87000, 87000, 87000, 87000, 87000, 87000, 87000, 87000, 87000, 87000, 87000, 87000, 87000, 87000, 87000, 87000, 87000, 87000, 87000, 87000, 87000, 87000, 87000, 87000, 87000, 87000, 87000, 87000, 87000, 87000, 87000, 87000, 87000, 87000, 87000, 87000, 87000, 87000, 87000, 87000, 87000, 87000, 87000, 87000, 87000, 87000, 87000, 87000, 87000, 87000, 87000, 87000, 87000, 87000, 87000, 87000, 87000, 87000, 87000, 87000, 87000, 87000, 87000, 87000, 87000, 87000, 87000, 87000, 87000, 87000, 87000, 87000, 87000, 87000, 87000, 87000, 87000, 87000, 87000, 87000, 87000, 87000, 87000, 87000, 87000, 87000, 87000, 87000, 87000, 87000, 87000, 87000, 87000, 87000, 87000, 87000, 87000, 87000, 87000, 87000, 87000, 87000, 87000, 87000, 87000, 87000, 87000, 87000, 87000, 87000, 87000, 87000, 87000, 87000, 87000, 87000, 87000, 87000, 87000, 87000, 87000, 87000, 87000, 87000, 87000, 87000, 87000, 87000, 87000, 87000, 87000, 87000, 87000, 87000, 87000, 87000, 87000, 87000, 87000, 87000, 87000, 87000, 87000, 87000, 87000, 87000, 87000, 87000, 87000, 87000, 87000, 87000, 87000, 87000, 87000, 87000, 87000, 87000, 87000, 87000, 87000, 87000, 87000, 87000, 87000, 87000, 87000, 87000, 87000, 87000, 87000, 87000, 87000, 87000, 87000, 87000, 87000, 87000, 87000, 87000, 87000, 87000, 87000, 87000, 87000, 87000, 87000, 87000, 87000, 87000, 87000, 87000, 87000, 87000, 87000, 87000, 87000, 87000, 87000, 87000, 87000, 87000, 87000, 87000, 87000, 87000, 87000, 87000, 87000, 87000, 87000, 87000, 87000, 87000, 87000, 87000, 87000, 87000, 87000, 87000, 87000, 87000, 87000, 87000, 87000, 87000, 87000, 87000, 87000, 87000, 87000, 87000, 87000, 87000, 87000, 87000, 87000, 87000, 87000, 87000, 87000, 87000, 87000, 87000, 87000, 87000, 87000, 87000, 87000, 87000, 87000, 87000, 87000, 87000, 87000, 87000, 87000, 87000, 87000, 87000, 87000, 87000, 87000, 87000, 87000, 87000, 87000, 87000, 87000, 87000, 87000, 87000, 87000, 87000, 87000, 87000, 87000, 87000, 87000, 87000, 87000, 87000, 87000, 87000, 87000, 87000, 87000, 87000, 87000, 87000, 87000, 87000, 87000, 87000, 87000, 87000, 87000, 87000, 87000, 87000, 87000, 87000, 87000, 87000, 87000, 87000, 87000, 87000, 87000, 87000, 87000, 87000, 87000, 87000, 87000, 87000, 87000, 87000, 87000, 87000, 87000, 87000, 87000, 87000, 87000, 87000, 87000, 87000, 87000, 87000, 87000, 87000, 87000, 87000, 87000, 87000, 87000, 87000, 87000, 87000, 87000, 87000, 87000, 87000, 87000, 87000, 87000, 87000, 87000, 87000, 87000, 87000, 87000, 87000, 87000, 87000, 87000, 87000, 87000, 87000, 87000, 87000, 87000, 87000, 87000, 87000, 87000, 87000, 87000, 87000, 87000, 87000, 87000, 87000, 87000, 87000, 87000, 87000, 87000, 87000, 87000, 87000, 87000, 87000, 87000, 87000, 87000, 87000, 87000, 87000, 87000, 87000, 87000, 87000, 87000, 87000, 87000, 87000, 87000, 87000, 87000, 87000, 87000, 87000, 87000, 87000, 87000, 87000, 87000, 87000, 87000, 87000, 87000, 87000, 87000, 87000, 87000, 87000, 87000, 87000, 87000, 87000, 87000, 87000, 87000, 87000, 87000, 87000, 87000, 87000, 87000, 87000, 87000, 87000, 87000, 87000, 87000, 87000, 87000, 87000, 87000, 87000, 87000, 87000, 87000, 87000, 87000, 87000, 87000, 87000, 87000, 87000, 87000, 87000, 87000, 87000, 87000, 87000, 87000, 87000, 87000, 87000, 87000, 87000, 87000, 87000, 87000, 87000, 87000, 87000, 87000, 87000, 87000, 87000, 87000, 87000, 87000, 87000, 87000, 87000, 87000, 87000, 87000, 87000, 87000, 87000, 87000, 87000, 87000, 87000, 87000, 87000, 87000, 87000, 87000, 87000, 87000, 87000, 87000, 87000, 87000, 87000, 87000, 87000, 87000, 87000, 87000, 87000, 87000, 87000, 87000, 87000, 87000, 87000, 87000, 87000, 87000, 87000, 87000, 87000, 87000, 87000, 87000, 87000, 87000, 87000, 87000, 87000, 87000, 87000, 87000, 87000, 87000, 87000, 87000, 87000, 87000, 87000, 87000, 87000, 87000, 87000, 87000, 87000, 87000, 87000, 87000, 87000, 87000, 87000, 87000, 87000, 87000, 87000, 87000, 87000, 87000, 87000, 87000, 87000, 87000, 87000, 87000, 87000, 87000, 87000, 87000, 87000, 87000, 87000, 87000, 87000, 87000, 87000, 87000, 87000, 87000, 87000, 87000, 87000, 87000, 87000, 87000, 87000, 87000, 87000, 87000, 87000, 87000, 87000, 87000, 87000, 87000, 87000, 87000, 87000, 87000, 87000, 87000, 87000, 87000, 87000, 87000, 87000, 87000, 87000, 87000, 87000, 87000, 87000, 87000, 87000, 87000, 87000, 87000, 87000, 87000, 87000, 87000, 87000, 87000, 87000, 87000, 87000, 87000, 87000, 87000, 87000, 87000, 87000, 87000, 87000, 87000, 87000, 87000, 87000, 87000, 87000, 87000, 87000, 87000, 87000, 87000, 87000, 87000, 87000, 87000, 87000, 87000, 87000, 87000, 87000, 87000, 87000, 87000, 87000, 87000, 87000, 87000, 87000, 87000, 87000, 87000, 87000, 87000, 87000, 87000, 87000, 87000, 87000, 87000, 87000, 87000, 87000, 87000, 87000, 87000, 87000, 87000, 87000, 87000, 87000, 87000, 87000, 87000, 87000, 87000, 87000, 87000, 87000, 87000, 87000, 87000, 87000, 87000, 87000, 87000, 87000, 87000, 87000, 87000, 87000, 87000, 87000, 87000, 87000, 87000, 87000, 87000, 87000, 87000, 87000, 87000, 87000, 87000, 87000, 87000, 87000, 87000, 87000, 87000, 87000, 87000, 87000, 87000, 87000, 87000, 87000, 87000, 87000, 87000, 87000, 87000, 87000, 87000, 87000, 87000, 87000, 87000, 87000, 87000, 87000, 87000, 87000, 87000, 87000, 87000, 87000, 87000, 87000, 87000, 87000, 87000, 87000, 87000, 87000, 87000, 87000, 87000, 87000, 87000, 87000, 87000, 87000, 87000, 87000, 87000, 87000, 87000, 87000, 87000, 87000, 87000]}, {\"columnID\": \"clinic\", \"columnHeader\": \"clinic\", \"columnDtype\": \"int64\", \"columnData\": [110001, 110001, 110001, 110001, 110001, 110001, 110001, 110001, 110001, 110001, 110001, 110001, 110001, 110001, 110001, 110001, 110001, 110001, 110001, 110001, 110001, 110001, 110001, 110001, 110001, 110001, 110001, 110001, 110001, 110001, 110001, 110001, 110001, 110001, 110001, 110001, 110001, 110001, 110001, 110001, 110001, 110001, 110001, 110001, 110001, 110001, 110001, 110001, 110001, 110001, 110001, 110001, 110001, 110001, 110001, 110001, 110001, 110001, 110001, 110001, 110001, 110001, 110001, 110001, 110001, 110001, 110001, 110001, 110001, 110001, 110001, 110001, 110001, 110001, 110001, 110001, 110001, 110001, 110001, 110001, 110001, 110001, 110001, 110001, 110001, 110001, 110001, 110001, 110001, 110001, 110001, 110001, 110001, 110001, 110001, 110001, 110001, 110001, 110001, 110001, 110001, 110001, 110001, 110001, 110001, 110001, 110001, 110001, 110001, 110001, 110001, 110001, 110001, 110001, 110001, 110001, 110001, 110001, 110001, 110001, 110001, 110001, 110001, 110001, 110001, 110001, 110001, 110001, 110001, 110001, 110001, 110001, 110001, 110001, 110001, 110001, 110001, 110001, 110001, 110001, 110001, 110001, 110001, 110001, 110001, 110001, 110001, 110001, 110001, 110001, 110001, 110001, 110001, 110001, 110001, 110001, 110001, 110001, 110001, 110001, 110001, 110001, 110001, 110001, 110001, 110001, 110001, 110001, 110001, 110001, 110001, 110001, 110001, 110001, 110001, 110001, 110001, 110001, 110001, 110001, 110001, 110001, 110001, 110001, 110001, 110001, 110001, 110001, 110001, 110001, 110001, 110001, 110001, 110001, 110001, 110001, 110001, 110001, 110001, 110001, 110001, 110001, 110001, 110001, 110001, 110001, 110001, 110001, 110001, 110001, 110001, 110001, 110001, 110001, 110001, 110001, 110001, 110001, 110001, 110001, 110001, 110001, 110001, 110001, 110001, 110001, 110001, 110001, 110001, 110001, 110001, 110001, 110001, 110001, 110001, 110001, 110001, 110001, 110001, 110001, 110001, 110001, 110001, 110001, 110001, 110001, 110001, 110001, 110001, 110001, 110001, 110001, 110001, 110001, 110001, 110001, 110001, 110001, 110001, 110001, 110001, 110001, 110001, 110001, 110001, 110001, 110001, 110001, 110001, 110001, 110001, 110001, 110001, 110001, 110001, 110001, 110001, 110001, 110001, 110001, 110001, 110001, 110001, 110001, 110001, 110001, 110001, 110001, 110001, 110001, 110001, 110001, 110001, 110001, 110001, 110001, 110001, 110001, 110001, 110001, 110001, 110001, 110001, 110001, 110001, 110001, 110001, 110001, 110001, 110001, 110001, 110001, 110001, 110001, 110001, 110001, 110001, 110001, 110001, 110001, 110001, 110001, 110001, 110001, 110001, 110001, 110001, 110001, 110001, 110001, 110001, 110001, 110001, 110001, 110001, 110001, 110001, 110001, 110001, 110001, 110001, 110001, 110001, 110001, 110001, 110001, 110001, 110001, 110001, 110001, 110001, 110001, 110001, 110001, 110001, 110001, 110001, 110001, 110001, 110001, 110001, 110001, 110001, 110001, 110001, 110001, 110001, 110001, 110001, 110001, 110001, 110001, 110001, 110001, 110001, 110001, 110001, 110001, 110001, 110001, 110001, 110001, 110001, 110001, 110001, 110001, 110001, 110001, 110001, 110001, 110001, 110001, 110001, 110001, 110001, 110001, 110001, 110001, 110001, 110001, 110001, 110001, 110001, 110001, 110001, 110001, 110001, 110001, 110001, 110001, 110001, 110001, 110001, 110001, 110001, 110001, 110001, 110001, 110001, 110001, 110001, 110001, 110001, 110001, 110001, 110001, 110001, 110001, 110001, 110001, 110001, 110001, 110001, 110001, 110001, 110001, 110001, 110001, 110001, 110001, 110001, 110001, 110001, 110001, 110001, 110001, 110001, 110001, 110001, 110001, 110001, 110001, 110001, 110001, 110001, 110001, 110001, 110001, 110001, 110001, 110001, 110001, 110001, 110001, 110001, 110001, 110001, 110001, 110001, 110001, 110001, 110001, 110001, 110001, 110001, 110001, 110001, 110001, 110001, 110001, 110001, 110001, 110001, 110001, 110001, 110001, 110001, 110001, 110001, 110001, 110001, 110001, 110001, 110001, 110001, 110001, 110001, 110001, 110001, 110001, 110001, 110001, 110001, 110001, 110001, 110001, 110001, 110001, 110001, 110001, 110001, 110001, 110001, 110001, 110001, 110001, 110001, 110001, 110001, 110001, 110001, 110001, 110001, 110001, 110001, 110001, 110001, 110001, 110001, 110001, 110001, 110001, 110001, 110001, 110001, 110001, 110001, 110001, 110001, 110001, 110001, 110001, 110001, 110001, 110001, 110001, 110001, 110001, 110001, 110001, 110001, 110001, 110001, 110001, 110001, 110001, 110001, 110001, 110001, 110001, 110001, 110001, 110001, 110001, 110001, 110001, 110001, 110001, 110001, 110001, 110001, 110001, 110001, 110001, 110001, 110001, 110001, 110001, 110001, 110001, 110001, 110001, 110001, 110001, 110001, 110001, 110001, 110001, 110001, 110001, 110001, 110001, 110001, 110001, 110001, 110001, 110001, 110001, 110001, 110001, 110001, 110001, 110001, 110001, 110001, 110001, 110001, 110001, 110001, 110001, 110001, 110001, 110001, 110001, 110001, 110001, 110001, 110001, 110001, 110001, 110001, 110001, 110001, 110001, 110001, 110001, 110001, 110001, 110001, 110001, 110001, 110001, 110001, 110001, 110001, 110001, 110001, 110001, 110001, 110001, 110001, 110001, 110001, 110001, 110001, 110001, 110001, 110001, 110001, 110001, 110001, 110001, 110001, 110001, 110001, 110001, 110001, 110001, 110001, 110001, 110001, 110001, 110001, 110001, 110001, 110001, 110001, 110001, 110001, 110001, 110001, 110001, 110001, 110001, 110001, 110001, 110001, 110001, 110001, 110001, 110001, 110001, 110001, 110001, 110001, 110001, 110001, 110001, 110001, 110001, 110001, 110001, 110001, 110001, 110001, 110001, 110001, 110001, 110001, 110001, 110001, 110001, 110001, 110001, 110001, 110001, 110001, 110001, 110001, 110001, 110001, 110001, 110001, 110001, 110001, 110001, 110001, 110001, 110001, 110001, 110001, 110001, 110001, 110001, 110001, 110001, 110001, 110001, 110001, 110001, 110001, 110001, 110001, 110001, 110001, 110001, 110001, 110001, 110001, 110001, 110001, 110001, 110001, 110001, 110001, 110001, 110001, 110001, 110001, 110001, 110001, 110001, 110001, 110001, 110001, 110001, 110001, 110001, 110001, 110001, 110001, 110001, 110001, 110001, 110001, 110001, 110001, 110001, 110001, 110001, 110001, 110001, 110001, 110001, 110001, 110001, 110001, 110001, 110001, 110001, 110001, 110001, 110001, 110001, 110001, 110001, 110001, 110001, 110001, 110001, 110001, 110001, 110001, 110001, 110001, 110001, 110001, 110001, 110001, 110001, 110001, 110001, 110001, 110001, 110001, 110001, 110001, 110001, 110001, 110001, 110001, 110001, 110001, 110001, 110001, 110001, 110001, 110001, 110001, 110001, 110001, 110001, 110001, 110001, 110001, 110001, 110001, 110001, 110001, 110001, 110001, 110001, 110001, 110001, 110001, 110001, 110001, 110001, 110001, 110001, 110001, 110001, 110001, 110001, 110001, 110001, 110001, 110001, 110001, 110001, 110001, 110001, 110001, 110001, 110001, 110001, 110001, 110001, 110001, 110001, 110001, 110001, 110001, 110001, 110001, 110001, 110001, 110001, 110001, 110001, 110001, 110001, 110001, 110001, 110001, 110001, 110001, 110001, 110001, 110001, 110001, 110001, 110001, 110001, 110001, 110001, 110001, 110001, 110001, 110001, 110001, 110001, 110001, 110001, 110001, 110001, 110001, 110001, 110001, 110001, 110001, 110001, 110001, 110001, 110001, 110001, 110001, 110001, 110001, 110001, 110001, 110001, 110001, 110001, 110001, 110001, 110001, 110001, 110001, 110001, 110001, 110001, 110001, 110001, 110001, 110001, 110001, 110001, 110001, 110001, 110001, 110001, 110001, 110001, 110001, 110001, 110001, 110001, 110001, 110001, 110001, 110001, 110001, 110001, 110001, 110001, 110001, 110001, 110001, 110001, 110001, 110001, 110001, 110001, 110001, 110001, 110001, 110001, 110001, 110001, 110001, 110001, 110001, 110001, 110001, 110001, 110001, 110001, 110001, 110001, 110001, 110001, 110001, 110001, 110001, 110001, 110001, 110001, 110001, 110001, 110001, 110001, 110001, 110001, 110001, 110001, 110001, 110001, 110001, 110001, 110001, 110001, 110001, 110001, 110001, 110001, 110001, 110001, 110001, 110001, 110001, 110001, 110001, 110001, 110001, 110001, 110001, 110001, 110001, 110001, 110001, 110001, 110001, 110001, 110001, 110001, 110001, 110001, 110001, 110001, 110001, 110001, 110001, 110001, 110001, 110001, 110001, 110001, 110001, 110001, 110001, 110001, 110001, 110001, 110001, 110001, 110001, 110001, 110001, 110001, 110001, 110001, 110001, 110001, 110001, 110001, 110001, 110001, 110001, 110001, 110001, 110001, 110001, 110001, 110001, 110001, 110001, 110001, 110001, 110001, 110001, 110001, 110001, 110001, 110001, 110001, 110001, 110001, 110001, 110001, 110001, 110001, 110001, 110001, 110001, 110001, 110001, 110001, 110001, 110001, 110001, 110001, 110001, 110001, 110001, 110001, 110001, 110001, 110001, 110001, 110001, 110001, 110001, 110001, 110001, 110001, 110001, 110001, 110001, 110001, 110001, 110001, 110001, 110001, 110001, 110001, 110001, 110001, 110001, 110001, 110001, 110001, 110001, 110001, 110001, 110001, 110001, 110001, 110001, 110001, 110001, 110001, 110001, 110001, 110001, 110001, 110001, 110001, 110001, 110001, 110001, 110001, 110001, 110001, 110001, 110001, 110001, 110001, 110001, 110001, 110001, 110001, 110001, 110001, 110001, 110001, 110001, 110001, 110001, 110001, 110001, 110001, 110001, 110001, 110001, 110001, 110001, 110001, 110001, 110001, 110001, 110001, 110001, 110001, 110001, 110001, 110001, 110001, 110001, 110001, 110001, 110001, 110001, 110001, 110001, 110001, 110001, 110001, 110001, 110001, 110001, 110001, 110001, 110001, 110001, 110001, 110001, 110001, 110001, 110001, 110001, 110001, 110001, 110001, 110001, 110001, 110001, 110001, 110001, 110001, 110001, 110001, 110001, 110001, 110001, 110001, 110001, 110001, 110001, 110001, 110001, 110001, 110001, 110001, 110001, 110001, 110001, 110001, 110001, 110001, 110001, 110001, 110001, 110001, 110001, 110001, 110001, 110001, 110001, 110001, 110001, 110001, 110001, 110001, 110001, 110001, 110001, 110001, 110001, 110001, 110001, 110001, 110001, 110001, 110001, 110001, 110001, 110001, 110001, 110001, 110001, 110001, 110001, 110001, 110001, 110001, 110001, 110001, 110001, 110001, 110001, 110001, 110001, 110001, 110001, 110001, 110001, 110001, 110001, 110001, 110001, 110001, 110001, 110001, 110001, 110001, 110001, 110001, 110001, 110001, 110001, 110001, 110001, 110001, 110001, 110001, 110001, 110001, 110001, 110001, 110001, 110001, 110001, 110001, 110001, 110001, 110001, 110001, 110001, 110001, 110001, 110001, 110001, 110001, 110001, 110001, 110001, 110001, 110001, 110001, 110001, 110001, 110001, 110001, 110001, 110001, 110001, 110001, 110001, 110001, 110001, 110001, 110001, 110001, 110001, 110001, 110001, 110001, 110001, 110001, 110001, 110001, 110001, 110001, 110001, 110001, 110001, 110001, 110001, 110001, 110001, 110001, 110001, 110001, 110001, 110001, 110001, 110001, 110001, 110001, 110001, 110001, 110001, 110001, 110001, 110001, 110001, 110001, 110001, 110001, 110001, 110001, 110001, 110001, 110001, 110001, 110001, 110001, 110001, 110001, 110001, 110001, 110001, 110001, 110001, 110001, 110001, 110001, 110001, 110001, 110001, 110001, 110001, 110001, 110001, 110001, 110001, 110001, 110001, 110001, 110001, 110001, 110001, 110001, 110001, 110001, 110001, 110001, 110001, 110001, 110001, 110001, 110001, 110001, 110001, 110001, 110001, 110001, 110001, 110001, 110001, 110001, 110001, 110001, 110001, 110001, 110001, 110001, 110001, 110001, 110001, 110001, 110001, 110001, 110001, 110001, 110001, 110001, 110001, 110001, 110001, 110001, 110001, 110001, 110001, 110001, 110001, 110001, 110001, 110001, 110001, 110001, 110001, 110001, 110001, 110001, 110001, 110001, 110001, 110001, 110001, 110001, 110001, 110001, 110001, 110001, 110001, 110001, 110001, 110001, 110001, 110001, 110001, 110001, 110001, 110001, 110001, 110001, 110001, 110001, 110001, 110001, 110001, 110001, 110001, 110001, 110001, 110001, 110001, 110001, 110001, 110001, 110001, 110001, 110001, 110001, 110001, 110001, 110001, 110001, 110001, 110001, 110001, 110001, 110001, 110001, 110001, 110001, 110001, 110001]}, {\"columnID\": \"oid\", \"columnHeader\": \"oid\", \"columnDtype\": \"object\", \"columnData\": [\"1.2.643.5.1.13.13.12.2.11.724\", \"1.2.643.5.1.13.13.12.2.11.724\", \"1.2.643.5.1.13.13.12.2.11.724\", \"1.2.643.5.1.13.13.12.2.11.724\", \"1.2.643.5.1.13.13.12.2.11.724\", \"1.2.643.5.1.13.13.12.2.11.724\", \"1.2.643.5.1.13.13.12.2.11.724\", \"1.2.643.5.1.13.13.12.2.11.724\", \"1.2.643.5.1.13.13.12.2.11.724\", \"1.2.643.5.1.13.13.12.2.11.724\", \"1.2.643.5.1.13.13.12.2.11.724\", \"1.2.643.5.1.13.13.12.2.11.724\", \"1.2.643.5.1.13.13.12.2.11.724\", \"1.2.643.5.1.13.13.12.2.11.724\", \"1.2.643.5.1.13.13.12.2.11.724\", \"1.2.643.5.1.13.13.12.2.11.724\", \"1.2.643.5.1.13.13.12.2.11.724\", \"1.2.643.5.1.13.13.12.2.11.724\", \"1.2.643.5.1.13.13.12.2.11.724\", \"1.2.643.5.1.13.13.12.2.11.724\", \"1.2.643.5.1.13.13.12.2.11.724\", \"1.2.643.5.1.13.13.12.2.11.724\", \"1.2.643.5.1.13.13.12.2.11.724\", \"1.2.643.5.1.13.13.12.2.11.724\", \"1.2.643.5.1.13.13.12.2.11.724\", \"1.2.643.5.1.13.13.12.2.11.724\", \"1.2.643.5.1.13.13.12.2.11.724\", \"1.2.643.5.1.13.13.12.2.11.724\", \"1.2.643.5.1.13.13.12.2.11.724\", \"1.2.643.5.1.13.13.12.2.11.724\", \"1.2.643.5.1.13.13.12.2.11.724\", \"1.2.643.5.1.13.13.12.2.11.724\", \"1.2.643.5.1.13.13.12.2.11.724\", \"1.2.643.5.1.13.13.12.2.11.724\", \"1.2.643.5.1.13.13.12.2.11.724\", \"1.2.643.5.1.13.13.12.2.11.724\", \"1.2.643.5.1.13.13.12.2.11.724\", \"1.2.643.5.1.13.13.12.2.11.724\", \"1.2.643.5.1.13.13.12.2.11.724\", \"1.2.643.5.1.13.13.12.2.11.724\", \"1.2.643.5.1.13.13.12.2.11.724\", \"1.2.643.5.1.13.13.12.2.11.724\", \"1.2.643.5.1.13.13.12.2.11.724\", \"1.2.643.5.1.13.13.12.2.11.724\", \"1.2.643.5.1.13.13.12.2.11.724\", \"1.2.643.5.1.13.13.12.2.11.724\", \"1.2.643.5.1.13.13.12.2.11.724\", \"1.2.643.5.1.13.13.12.2.11.724\", \"1.2.643.5.1.13.13.12.2.11.724\", \"1.2.643.5.1.13.13.12.2.11.724\", \"1.2.643.5.1.13.13.12.2.11.724\", \"1.2.643.5.1.13.13.12.2.11.724\", \"1.2.643.5.1.13.13.12.2.11.724\", \"1.2.643.5.1.13.13.12.2.11.724\", \"1.2.643.5.1.13.13.12.2.11.724\", \"1.2.643.5.1.13.13.12.2.11.724\", \"1.2.643.5.1.13.13.12.2.11.724\", \"1.2.643.5.1.13.13.12.2.11.724\", \"1.2.643.5.1.13.13.12.2.11.724\", \"1.2.643.5.1.13.13.12.2.11.724\", \"1.2.643.5.1.13.13.12.2.11.724\", \"1.2.643.5.1.13.13.12.2.11.724\", \"1.2.643.5.1.13.13.12.2.11.724\", \"1.2.643.5.1.13.13.12.2.11.724\", \"1.2.643.5.1.13.13.12.2.11.724\", \"1.2.643.5.1.13.13.12.2.11.724\", \"1.2.643.5.1.13.13.12.2.11.724\", \"1.2.643.5.1.13.13.12.2.11.724\", \"1.2.643.5.1.13.13.12.2.11.724\", \"1.2.643.5.1.13.13.12.2.11.724\", \"1.2.643.5.1.13.13.12.2.11.724\", \"1.2.643.5.1.13.13.12.2.11.724\", \"1.2.643.5.1.13.13.12.2.11.724\", \"1.2.643.5.1.13.13.12.2.11.724\", \"1.2.643.5.1.13.13.12.2.11.724\", \"1.2.643.5.1.13.13.12.2.11.724\", \"1.2.643.5.1.13.13.12.2.11.724\", \"1.2.643.5.1.13.13.12.2.11.724\", \"1.2.643.5.1.13.13.12.2.11.724\", \"1.2.643.5.1.13.13.12.2.11.724\", \"1.2.643.5.1.13.13.12.2.11.724\", \"1.2.643.5.1.13.13.12.2.11.724\", \"1.2.643.5.1.13.13.12.2.11.724\", \"1.2.643.5.1.13.13.12.2.11.724\", \"1.2.643.5.1.13.13.12.2.11.724\", \"1.2.643.5.1.13.13.12.2.11.724\", \"1.2.643.5.1.13.13.12.2.11.724\", \"1.2.643.5.1.13.13.12.2.11.724\", \"1.2.643.5.1.13.13.12.2.11.724\", \"1.2.643.5.1.13.13.12.2.11.724\", \"1.2.643.5.1.13.13.12.2.11.724\", \"1.2.643.5.1.13.13.12.2.11.724\", \"1.2.643.5.1.13.13.12.2.11.724\", \"1.2.643.5.1.13.13.12.2.11.724\", \"1.2.643.5.1.13.13.12.2.11.724\", \"1.2.643.5.1.13.13.12.2.11.724\", \"1.2.643.5.1.13.13.12.2.11.724\", \"1.2.643.5.1.13.13.12.2.11.724\", \"1.2.643.5.1.13.13.12.2.11.724\", \"1.2.643.5.1.13.13.12.2.11.724\", \"1.2.643.5.1.13.13.12.2.11.724\", \"1.2.643.5.1.13.13.12.2.11.724\", \"1.2.643.5.1.13.13.12.2.11.724\", \"1.2.643.5.1.13.13.12.2.11.724\", \"1.2.643.5.1.13.13.12.2.11.724\", \"1.2.643.5.1.13.13.12.2.11.724\", \"1.2.643.5.1.13.13.12.2.11.724\", \"1.2.643.5.1.13.13.12.2.11.724\", \"1.2.643.5.1.13.13.12.2.11.724\", \"1.2.643.5.1.13.13.12.2.11.724\", \"1.2.643.5.1.13.13.12.2.11.724\", \"1.2.643.5.1.13.13.12.2.11.724\", \"1.2.643.5.1.13.13.12.2.11.724\", \"1.2.643.5.1.13.13.12.2.11.724\", \"1.2.643.5.1.13.13.12.2.11.724\", \"1.2.643.5.1.13.13.12.2.11.724\", \"1.2.643.5.1.13.13.12.2.11.724\", \"1.2.643.5.1.13.13.12.2.11.724\", \"1.2.643.5.1.13.13.12.2.11.724\", \"1.2.643.5.1.13.13.12.2.11.724\", \"1.2.643.5.1.13.13.12.2.11.724\", \"1.2.643.5.1.13.13.12.2.11.724\", \"1.2.643.5.1.13.13.12.2.11.724\", \"1.2.643.5.1.13.13.12.2.11.724\", \"1.2.643.5.1.13.13.12.2.11.724\", \"1.2.643.5.1.13.13.12.2.11.724\", \"1.2.643.5.1.13.13.12.2.11.724\", \"1.2.643.5.1.13.13.12.2.11.724\", \"1.2.643.5.1.13.13.12.2.11.724\", \"1.2.643.5.1.13.13.12.2.11.724\", \"1.2.643.5.1.13.13.12.2.11.724\", \"1.2.643.5.1.13.13.12.2.11.724\", \"1.2.643.5.1.13.13.12.2.11.724\", \"1.2.643.5.1.13.13.12.2.11.724\", \"1.2.643.5.1.13.13.12.2.11.724\", \"1.2.643.5.1.13.13.12.2.11.724\", \"1.2.643.5.1.13.13.12.2.11.724\", \"1.2.643.5.1.13.13.12.2.11.724\", \"1.2.643.5.1.13.13.12.2.11.724\", \"1.2.643.5.1.13.13.12.2.11.724\", \"1.2.643.5.1.13.13.12.2.11.724\", \"1.2.643.5.1.13.13.12.2.11.724\", \"1.2.643.5.1.13.13.12.2.11.724\", \"1.2.643.5.1.13.13.12.2.11.724\", \"1.2.643.5.1.13.13.12.2.11.724\", \"1.2.643.5.1.13.13.12.2.11.724\", \"1.2.643.5.1.13.13.12.2.11.724\", \"1.2.643.5.1.13.13.12.2.11.724\", \"1.2.643.5.1.13.13.12.2.11.724\", \"1.2.643.5.1.13.13.12.2.11.724\", \"1.2.643.5.1.13.13.12.2.11.724\", \"1.2.643.5.1.13.13.12.2.11.724\", \"1.2.643.5.1.13.13.12.2.11.724\", \"1.2.643.5.1.13.13.12.2.11.724\", \"1.2.643.5.1.13.13.12.2.11.724\", \"1.2.643.5.1.13.13.12.2.11.724\", \"1.2.643.5.1.13.13.12.2.11.724\", \"1.2.643.5.1.13.13.12.2.11.724\", \"1.2.643.5.1.13.13.12.2.11.724\", \"1.2.643.5.1.13.13.12.2.11.724\", \"1.2.643.5.1.13.13.12.2.11.724\", \"1.2.643.5.1.13.13.12.2.11.724\", \"1.2.643.5.1.13.13.12.2.11.724\", \"1.2.643.5.1.13.13.12.2.11.724\", \"1.2.643.5.1.13.13.12.2.11.724\", \"1.2.643.5.1.13.13.12.2.11.724\", \"1.2.643.5.1.13.13.12.2.11.724\", \"1.2.643.5.1.13.13.12.2.11.724\", \"1.2.643.5.1.13.13.12.2.11.724\", \"1.2.643.5.1.13.13.12.2.11.724\", \"1.2.643.5.1.13.13.12.2.11.724\", \"1.2.643.5.1.13.13.12.2.11.724\", \"1.2.643.5.1.13.13.12.2.11.724\", \"1.2.643.5.1.13.13.12.2.11.724\", \"1.2.643.5.1.13.13.12.2.11.724\", \"1.2.643.5.1.13.13.12.2.11.724\", \"1.2.643.5.1.13.13.12.2.11.724\", \"1.2.643.5.1.13.13.12.2.11.724\", \"1.2.643.5.1.13.13.12.2.11.724\", \"1.2.643.5.1.13.13.12.2.11.724\", \"1.2.643.5.1.13.13.12.2.11.724\", \"1.2.643.5.1.13.13.12.2.11.724\", \"1.2.643.5.1.13.13.12.2.11.724\", \"1.2.643.5.1.13.13.12.2.11.724\", \"1.2.643.5.1.13.13.12.2.11.724\", \"1.2.643.5.1.13.13.12.2.11.724\", \"1.2.643.5.1.13.13.12.2.11.724\", \"1.2.643.5.1.13.13.12.2.11.724\", \"1.2.643.5.1.13.13.12.2.11.724\", \"1.2.643.5.1.13.13.12.2.11.724\", \"1.2.643.5.1.13.13.12.2.11.724\", \"1.2.643.5.1.13.13.12.2.11.724\", \"1.2.643.5.1.13.13.12.2.11.724\", \"1.2.643.5.1.13.13.12.2.11.724\", \"1.2.643.5.1.13.13.12.2.11.724\", \"1.2.643.5.1.13.13.12.2.11.724\", \"1.2.643.5.1.13.13.12.2.11.724\", \"1.2.643.5.1.13.13.12.2.11.724\", \"1.2.643.5.1.13.13.12.2.11.724\", \"1.2.643.5.1.13.13.12.2.11.724\", \"1.2.643.5.1.13.13.12.2.11.724\", \"1.2.643.5.1.13.13.12.2.11.724\", \"1.2.643.5.1.13.13.12.2.11.724\", \"1.2.643.5.1.13.13.12.2.11.724\", \"1.2.643.5.1.13.13.12.2.11.724\", \"1.2.643.5.1.13.13.12.2.11.724\", \"1.2.643.5.1.13.13.12.2.11.724\", \"1.2.643.5.1.13.13.12.2.11.724\", \"1.2.643.5.1.13.13.12.2.11.724\", \"1.2.643.5.1.13.13.12.2.11.724\", \"1.2.643.5.1.13.13.12.2.11.724\", \"1.2.643.5.1.13.13.12.2.11.724\", \"1.2.643.5.1.13.13.12.2.11.724\", \"1.2.643.5.1.13.13.12.2.11.724\", \"1.2.643.5.1.13.13.12.2.11.724\", \"1.2.643.5.1.13.13.12.2.11.724\", \"1.2.643.5.1.13.13.12.2.11.724\", \"1.2.643.5.1.13.13.12.2.11.724\", \"1.2.643.5.1.13.13.12.2.11.724\", \"1.2.643.5.1.13.13.12.2.11.724\", \"1.2.643.5.1.13.13.12.2.11.724\", \"1.2.643.5.1.13.13.12.2.11.724\", \"1.2.643.5.1.13.13.12.2.11.724\", \"1.2.643.5.1.13.13.12.2.11.724\", \"1.2.643.5.1.13.13.12.2.11.724\", \"1.2.643.5.1.13.13.12.2.11.724\", \"1.2.643.5.1.13.13.12.2.11.724\", \"1.2.643.5.1.13.13.12.2.11.724\", \"1.2.643.5.1.13.13.12.2.11.724\", \"1.2.643.5.1.13.13.12.2.11.724\", \"1.2.643.5.1.13.13.12.2.11.724\", \"1.2.643.5.1.13.13.12.2.11.724\", \"1.2.643.5.1.13.13.12.2.11.724\", \"1.2.643.5.1.13.13.12.2.11.724\", \"1.2.643.5.1.13.13.12.2.11.724\", \"1.2.643.5.1.13.13.12.2.11.724\", \"1.2.643.5.1.13.13.12.2.11.724\", \"1.2.643.5.1.13.13.12.2.11.724\", \"1.2.643.5.1.13.13.12.2.11.724\", \"1.2.643.5.1.13.13.12.2.11.724\", \"1.2.643.5.1.13.13.12.2.11.724\", \"1.2.643.5.1.13.13.12.2.11.724\", \"1.2.643.5.1.13.13.12.2.11.724\", \"1.2.643.5.1.13.13.12.2.11.724\", \"1.2.643.5.1.13.13.12.2.11.724\", \"1.2.643.5.1.13.13.12.2.11.724\", \"1.2.643.5.1.13.13.12.2.11.724\", \"1.2.643.5.1.13.13.12.2.11.724\", \"1.2.643.5.1.13.13.12.2.11.724\", \"1.2.643.5.1.13.13.12.2.11.724\", \"1.2.643.5.1.13.13.12.2.11.724\", \"1.2.643.5.1.13.13.12.2.11.724\", \"1.2.643.5.1.13.13.12.2.11.724\", \"1.2.643.5.1.13.13.12.2.11.724\", \"1.2.643.5.1.13.13.12.2.11.724\", \"1.2.643.5.1.13.13.12.2.11.724\", \"1.2.643.5.1.13.13.12.2.11.724\", \"1.2.643.5.1.13.13.12.2.11.724\", \"1.2.643.5.1.13.13.12.2.11.724\", \"1.2.643.5.1.13.13.12.2.11.724\", \"1.2.643.5.1.13.13.12.2.11.724\", \"1.2.643.5.1.13.13.12.2.11.724\", \"1.2.643.5.1.13.13.12.2.11.724\", \"1.2.643.5.1.13.13.12.2.11.724\", \"1.2.643.5.1.13.13.12.2.11.724\", \"1.2.643.5.1.13.13.12.2.11.724\", \"1.2.643.5.1.13.13.12.2.11.724\", \"1.2.643.5.1.13.13.12.2.11.724\", \"1.2.643.5.1.13.13.12.2.11.724\", \"1.2.643.5.1.13.13.12.2.11.724\", \"1.2.643.5.1.13.13.12.2.11.724\", \"1.2.643.5.1.13.13.12.2.11.724\", \"1.2.643.5.1.13.13.12.2.11.724\", \"1.2.643.5.1.13.13.12.2.11.724\", \"1.2.643.5.1.13.13.12.2.11.724\", \"1.2.643.5.1.13.13.12.2.11.724\", \"1.2.643.5.1.13.13.12.2.11.724\", \"1.2.643.5.1.13.13.12.2.11.724\", \"1.2.643.5.1.13.13.12.2.11.724\", \"1.2.643.5.1.13.13.12.2.11.724\", \"1.2.643.5.1.13.13.12.2.11.724\", \"1.2.643.5.1.13.13.12.2.11.724\", \"1.2.643.5.1.13.13.12.2.11.724\", \"1.2.643.5.1.13.13.12.2.11.724\", \"1.2.643.5.1.13.13.12.2.11.724\", \"1.2.643.5.1.13.13.12.2.11.724\", \"1.2.643.5.1.13.13.12.2.11.724\", \"1.2.643.5.1.13.13.12.2.11.724\", \"1.2.643.5.1.13.13.12.2.11.724\", \"1.2.643.5.1.13.13.12.2.11.724\", \"1.2.643.5.1.13.13.12.2.11.724\", \"1.2.643.5.1.13.13.12.2.11.724\", \"1.2.643.5.1.13.13.12.2.11.724\", \"1.2.643.5.1.13.13.12.2.11.724\", \"1.2.643.5.1.13.13.12.2.11.724\", \"1.2.643.5.1.13.13.12.2.11.724\", \"1.2.643.5.1.13.13.12.2.11.724\", \"1.2.643.5.1.13.13.12.2.11.724\", \"1.2.643.5.1.13.13.12.2.11.724\", \"1.2.643.5.1.13.13.12.2.11.724\", \"1.2.643.5.1.13.13.12.2.11.724\", \"1.2.643.5.1.13.13.12.2.11.724\", \"1.2.643.5.1.13.13.12.2.11.724\", \"1.2.643.5.1.13.13.12.2.11.724\", \"1.2.643.5.1.13.13.12.2.11.724\", \"1.2.643.5.1.13.13.12.2.11.724\", \"1.2.643.5.1.13.13.12.2.11.724\", \"1.2.643.5.1.13.13.12.2.11.724\", \"1.2.643.5.1.13.13.12.2.11.724\", \"1.2.643.5.1.13.13.12.2.11.724\", \"1.2.643.5.1.13.13.12.2.11.724\", \"1.2.643.5.1.13.13.12.2.11.724\", \"1.2.643.5.1.13.13.12.2.11.724\", \"1.2.643.5.1.13.13.12.2.11.724\", \"1.2.643.5.1.13.13.12.2.11.724\", \"1.2.643.5.1.13.13.12.2.11.724\", \"1.2.643.5.1.13.13.12.2.11.724\", \"1.2.643.5.1.13.13.12.2.11.724\", \"1.2.643.5.1.13.13.12.2.11.724\", \"1.2.643.5.1.13.13.12.2.11.724\", \"1.2.643.5.1.13.13.12.2.11.724\", \"1.2.643.5.1.13.13.12.2.11.724\", \"1.2.643.5.1.13.13.12.2.11.724\", \"1.2.643.5.1.13.13.12.2.11.724\", \"1.2.643.5.1.13.13.12.2.11.724\", \"1.2.643.5.1.13.13.12.2.11.724\", \"1.2.643.5.1.13.13.12.2.11.724\", \"1.2.643.5.1.13.13.12.2.11.724\", \"1.2.643.5.1.13.13.12.2.11.724\", \"1.2.643.5.1.13.13.12.2.11.724\", \"1.2.643.5.1.13.13.12.2.11.724\", \"1.2.643.5.1.13.13.12.2.11.724\", \"1.2.643.5.1.13.13.12.2.11.724\", \"1.2.643.5.1.13.13.12.2.11.724\", \"1.2.643.5.1.13.13.12.2.11.724\", \"1.2.643.5.1.13.13.12.2.11.724\", \"1.2.643.5.1.13.13.12.2.11.724\", \"1.2.643.5.1.13.13.12.2.11.724\", \"1.2.643.5.1.13.13.12.2.11.724\", \"1.2.643.5.1.13.13.12.2.11.724\", \"1.2.643.5.1.13.13.12.2.11.724\", \"1.2.643.5.1.13.13.12.2.11.724\", \"1.2.643.5.1.13.13.12.2.11.724\", \"1.2.643.5.1.13.13.12.2.11.724\", \"1.2.643.5.1.13.13.12.2.11.724\", \"1.2.643.5.1.13.13.12.2.11.724\", \"1.2.643.5.1.13.13.12.2.11.724\", \"1.2.643.5.1.13.13.12.2.11.724\", \"1.2.643.5.1.13.13.12.2.11.724\", \"1.2.643.5.1.13.13.12.2.11.724\", \"1.2.643.5.1.13.13.12.2.11.724\", \"1.2.643.5.1.13.13.12.2.11.724\", \"1.2.643.5.1.13.13.12.2.11.724\", \"1.2.643.5.1.13.13.12.2.11.724\", \"1.2.643.5.1.13.13.12.2.11.724\", \"1.2.643.5.1.13.13.12.2.11.724\", \"1.2.643.5.1.13.13.12.2.11.724\", \"1.2.643.5.1.13.13.12.2.11.724\", \"1.2.643.5.1.13.13.12.2.11.724\", \"1.2.643.5.1.13.13.12.2.11.724\", \"1.2.643.5.1.13.13.12.2.11.724\", \"1.2.643.5.1.13.13.12.2.11.724\", \"1.2.643.5.1.13.13.12.2.11.724\", \"1.2.643.5.1.13.13.12.2.11.724\", \"1.2.643.5.1.13.13.12.2.11.724\", \"1.2.643.5.1.13.13.12.2.11.724\", \"1.2.643.5.1.13.13.12.2.11.724\", \"1.2.643.5.1.13.13.12.2.11.724\", \"1.2.643.5.1.13.13.12.2.11.724\", \"1.2.643.5.1.13.13.12.2.11.724\", \"1.2.643.5.1.13.13.12.2.11.724\", \"1.2.643.5.1.13.13.12.2.11.724\", \"1.2.643.5.1.13.13.12.2.11.724\", \"1.2.643.5.1.13.13.12.2.11.724\", \"1.2.643.5.1.13.13.12.2.11.724\", \"1.2.643.5.1.13.13.12.2.11.724\", \"1.2.643.5.1.13.13.12.2.11.724\", \"1.2.643.5.1.13.13.12.2.11.724\", \"1.2.643.5.1.13.13.12.2.11.724\", \"1.2.643.5.1.13.13.12.2.11.724\", \"1.2.643.5.1.13.13.12.2.11.724\", \"1.2.643.5.1.13.13.12.2.11.724\", \"1.2.643.5.1.13.13.12.2.11.724\", \"1.2.643.5.1.13.13.12.2.11.724\", \"1.2.643.5.1.13.13.12.2.11.724\", \"1.2.643.5.1.13.13.12.2.11.724\", \"1.2.643.5.1.13.13.12.2.11.724\", \"1.2.643.5.1.13.13.12.2.11.724\", \"1.2.643.5.1.13.13.12.2.11.724\", \"1.2.643.5.1.13.13.12.2.11.724\", \"1.2.643.5.1.13.13.12.2.11.724\", \"1.2.643.5.1.13.13.12.2.11.724\", \"1.2.643.5.1.13.13.12.2.11.724\", \"1.2.643.5.1.13.13.12.2.11.724\", \"1.2.643.5.1.13.13.12.2.11.724\", \"1.2.643.5.1.13.13.12.2.11.724\", \"1.2.643.5.1.13.13.12.2.11.724\", \"1.2.643.5.1.13.13.12.2.11.724\", \"1.2.643.5.1.13.13.12.2.11.724\", \"1.2.643.5.1.13.13.12.2.11.724\", \"1.2.643.5.1.13.13.12.2.11.724\", \"1.2.643.5.1.13.13.12.2.11.724\", \"1.2.643.5.1.13.13.12.2.11.724\", \"1.2.643.5.1.13.13.12.2.11.724\", \"1.2.643.5.1.13.13.12.2.11.724\", \"1.2.643.5.1.13.13.12.2.11.724\", \"1.2.643.5.1.13.13.12.2.11.724\", \"1.2.643.5.1.13.13.12.2.11.724\", \"1.2.643.5.1.13.13.12.2.11.724\", \"1.2.643.5.1.13.13.12.2.11.724\", \"1.2.643.5.1.13.13.12.2.11.724\", \"1.2.643.5.1.13.13.12.2.11.724\", \"1.2.643.5.1.13.13.12.2.11.724\", \"1.2.643.5.1.13.13.12.2.11.724\", \"1.2.643.5.1.13.13.12.2.11.724\", \"1.2.643.5.1.13.13.12.2.11.724\", \"1.2.643.5.1.13.13.12.2.11.724\", \"1.2.643.5.1.13.13.12.2.11.724\", \"1.2.643.5.1.13.13.12.2.11.724\", \"1.2.643.5.1.13.13.12.2.11.724\", \"1.2.643.5.1.13.13.12.2.11.724\", \"1.2.643.5.1.13.13.12.2.11.724\", \"1.2.643.5.1.13.13.12.2.11.724\", \"1.2.643.5.1.13.13.12.2.11.724\", \"1.2.643.5.1.13.13.12.2.11.724\", \"1.2.643.5.1.13.13.12.2.11.724\", \"1.2.643.5.1.13.13.12.2.11.724\", \"1.2.643.5.1.13.13.12.2.11.724\", \"1.2.643.5.1.13.13.12.2.11.724\", \"1.2.643.5.1.13.13.12.2.11.724\", \"1.2.643.5.1.13.13.12.2.11.724\", \"1.2.643.5.1.13.13.12.2.11.724\", \"1.2.643.5.1.13.13.12.2.11.724\", \"1.2.643.5.1.13.13.12.2.11.724\", \"1.2.643.5.1.13.13.12.2.11.724\", \"1.2.643.5.1.13.13.12.2.11.724\", \"1.2.643.5.1.13.13.12.2.11.724\", \"1.2.643.5.1.13.13.12.2.11.724\", \"1.2.643.5.1.13.13.12.2.11.724\", \"1.2.643.5.1.13.13.12.2.11.724\", \"1.2.643.5.1.13.13.12.2.11.724\", \"1.2.643.5.1.13.13.12.2.11.724\", \"1.2.643.5.1.13.13.12.2.11.724\", \"1.2.643.5.1.13.13.12.2.11.724\", \"1.2.643.5.1.13.13.12.2.11.724\", \"1.2.643.5.1.13.13.12.2.11.724\", \"1.2.643.5.1.13.13.12.2.11.724\", \"1.2.643.5.1.13.13.12.2.11.724\", \"1.2.643.5.1.13.13.12.2.11.724\", \"1.2.643.5.1.13.13.12.2.11.724\", \"1.2.643.5.1.13.13.12.2.11.724\", \"1.2.643.5.1.13.13.12.2.11.724\", \"1.2.643.5.1.13.13.12.2.11.724\", \"1.2.643.5.1.13.13.12.2.11.724\", \"1.2.643.5.1.13.13.12.2.11.724\", \"1.2.643.5.1.13.13.12.2.11.724\", \"1.2.643.5.1.13.13.12.2.11.724\", \"1.2.643.5.1.13.13.12.2.11.724\", \"1.2.643.5.1.13.13.12.2.11.724\", \"1.2.643.5.1.13.13.12.2.11.724\", \"1.2.643.5.1.13.13.12.2.11.724\", \"1.2.643.5.1.13.13.12.2.11.724\", \"1.2.643.5.1.13.13.12.2.11.724\", \"1.2.643.5.1.13.13.12.2.11.724\", \"1.2.643.5.1.13.13.12.2.11.724\", \"1.2.643.5.1.13.13.12.2.11.724\", \"1.2.643.5.1.13.13.12.2.11.724\", \"1.2.643.5.1.13.13.12.2.11.724\", \"1.2.643.5.1.13.13.12.2.11.724\", \"1.2.643.5.1.13.13.12.2.11.724\", \"1.2.643.5.1.13.13.12.2.11.724\", \"1.2.643.5.1.13.13.12.2.11.724\", \"1.2.643.5.1.13.13.12.2.11.724\", \"1.2.643.5.1.13.13.12.2.11.724\", \"1.2.643.5.1.13.13.12.2.11.724\", \"1.2.643.5.1.13.13.12.2.11.724\", \"1.2.643.5.1.13.13.12.2.11.724\", \"1.2.643.5.1.13.13.12.2.11.724\", \"1.2.643.5.1.13.13.12.2.11.724\", \"1.2.643.5.1.13.13.12.2.11.724\", \"1.2.643.5.1.13.13.12.2.11.724\", \"1.2.643.5.1.13.13.12.2.11.724\", \"1.2.643.5.1.13.13.12.2.11.724\", \"1.2.643.5.1.13.13.12.2.11.724\", \"1.2.643.5.1.13.13.12.2.11.724\", \"1.2.643.5.1.13.13.12.2.11.724\", \"1.2.643.5.1.13.13.12.2.11.724\", \"1.2.643.5.1.13.13.12.2.11.724\", \"1.2.643.5.1.13.13.12.2.11.724\", \"1.2.643.5.1.13.13.12.2.11.724\", \"1.2.643.5.1.13.13.12.2.11.724\", \"1.2.643.5.1.13.13.12.2.11.724\", \"1.2.643.5.1.13.13.12.2.11.724\", \"1.2.643.5.1.13.13.12.2.11.724\", \"1.2.643.5.1.13.13.12.2.11.724\", \"1.2.643.5.1.13.13.12.2.11.724\", \"1.2.643.5.1.13.13.12.2.11.724\", \"1.2.643.5.1.13.13.12.2.11.724\", \"1.2.643.5.1.13.13.12.2.11.724\", \"1.2.643.5.1.13.13.12.2.11.724\", \"1.2.643.5.1.13.13.12.2.11.724\", \"1.2.643.5.1.13.13.12.2.11.724\", \"1.2.643.5.1.13.13.12.2.11.724\", \"1.2.643.5.1.13.13.12.2.11.724\", \"1.2.643.5.1.13.13.12.2.11.724\", \"1.2.643.5.1.13.13.12.2.11.724\", \"1.2.643.5.1.13.13.12.2.11.724\", \"1.2.643.5.1.13.13.12.2.11.724\", \"1.2.643.5.1.13.13.12.2.11.724\", \"1.2.643.5.1.13.13.12.2.11.724\", \"1.2.643.5.1.13.13.12.2.11.724\", \"1.2.643.5.1.13.13.12.2.11.724\", \"1.2.643.5.1.13.13.12.2.11.724\", \"1.2.643.5.1.13.13.12.2.11.724\", \"1.2.643.5.1.13.13.12.2.11.724\", \"1.2.643.5.1.13.13.12.2.11.724\", \"1.2.643.5.1.13.13.12.2.11.724\", \"1.2.643.5.1.13.13.12.2.11.724\", \"1.2.643.5.1.13.13.12.2.11.724\", \"1.2.643.5.1.13.13.12.2.11.724\", \"1.2.643.5.1.13.13.12.2.11.724\", \"1.2.643.5.1.13.13.12.2.11.724\", \"1.2.643.5.1.13.13.12.2.11.724\", \"1.2.643.5.1.13.13.12.2.11.724\", \"1.2.643.5.1.13.13.12.2.11.724\", \"1.2.643.5.1.13.13.12.2.11.724\", \"1.2.643.5.1.13.13.12.2.11.724\", \"1.2.643.5.1.13.13.12.2.11.724\", \"1.2.643.5.1.13.13.12.2.11.724\", \"1.2.643.5.1.13.13.12.2.11.724\", \"1.2.643.5.1.13.13.12.2.11.724\", \"1.2.643.5.1.13.13.12.2.11.724\", \"1.2.643.5.1.13.13.12.2.11.724\", \"1.2.643.5.1.13.13.12.2.11.724\", \"1.2.643.5.1.13.13.12.2.11.724\", \"1.2.643.5.1.13.13.12.2.11.724\", \"1.2.643.5.1.13.13.12.2.11.724\", \"1.2.643.5.1.13.13.12.2.11.724\", \"1.2.643.5.1.13.13.12.2.11.724\", \"1.2.643.5.1.13.13.12.2.11.724\", \"1.2.643.5.1.13.13.12.2.11.724\", \"1.2.643.5.1.13.13.12.2.11.724\", \"1.2.643.5.1.13.13.12.2.11.724\", \"1.2.643.5.1.13.13.12.2.11.724\", \"1.2.643.5.1.13.13.12.2.11.724\", \"1.2.643.5.1.13.13.12.2.11.724\", \"1.2.643.5.1.13.13.12.2.11.724\", \"1.2.643.5.1.13.13.12.2.11.724\", \"1.2.643.5.1.13.13.12.2.11.724\", \"1.2.643.5.1.13.13.12.2.11.724\", \"1.2.643.5.1.13.13.12.2.11.724\", \"1.2.643.5.1.13.13.12.2.11.724\", \"1.2.643.5.1.13.13.12.2.11.724\", \"1.2.643.5.1.13.13.12.2.11.724\", \"1.2.643.5.1.13.13.12.2.11.724\", \"1.2.643.5.1.13.13.12.2.11.724\", \"1.2.643.5.1.13.13.12.2.11.724\", \"1.2.643.5.1.13.13.12.2.11.724\", \"1.2.643.5.1.13.13.12.2.11.724\", \"1.2.643.5.1.13.13.12.2.11.724\", \"1.2.643.5.1.13.13.12.2.11.724\", \"1.2.643.5.1.13.13.12.2.11.724\", \"1.2.643.5.1.13.13.12.2.11.724\", \"1.2.643.5.1.13.13.12.2.11.724\", \"1.2.643.5.1.13.13.12.2.11.724\", \"1.2.643.5.1.13.13.12.2.11.724\", \"1.2.643.5.1.13.13.12.2.11.724\", \"1.2.643.5.1.13.13.12.2.11.724\", \"1.2.643.5.1.13.13.12.2.11.724\", \"1.2.643.5.1.13.13.12.2.11.724\", \"1.2.643.5.1.13.13.12.2.11.724\", \"1.2.643.5.1.13.13.12.2.11.724\", \"1.2.643.5.1.13.13.12.2.11.724\", \"1.2.643.5.1.13.13.12.2.11.724\", \"1.2.643.5.1.13.13.12.2.11.724\", \"1.2.643.5.1.13.13.12.2.11.724\", \"1.2.643.5.1.13.13.12.2.11.724\", \"1.2.643.5.1.13.13.12.2.11.724\", \"1.2.643.5.1.13.13.12.2.11.724\", \"1.2.643.5.1.13.13.12.2.11.724\", \"1.2.643.5.1.13.13.12.2.11.724\", \"1.2.643.5.1.13.13.12.2.11.724\", \"1.2.643.5.1.13.13.12.2.11.724\", \"1.2.643.5.1.13.13.12.2.11.724\", \"1.2.643.5.1.13.13.12.2.11.724\", \"1.2.643.5.1.13.13.12.2.11.724\", \"1.2.643.5.1.13.13.12.2.11.724\", \"1.2.643.5.1.13.13.12.2.11.724\", \"1.2.643.5.1.13.13.12.2.11.724\", \"1.2.643.5.1.13.13.12.2.11.724\", \"1.2.643.5.1.13.13.12.2.11.724\", \"1.2.643.5.1.13.13.12.2.11.724\", \"1.2.643.5.1.13.13.12.2.11.724\", \"1.2.643.5.1.13.13.12.2.11.724\", \"1.2.643.5.1.13.13.12.2.11.724\", \"1.2.643.5.1.13.13.12.2.11.724\", \"1.2.643.5.1.13.13.12.2.11.724\", \"1.2.643.5.1.13.13.12.2.11.724\", \"1.2.643.5.1.13.13.12.2.11.724\", \"1.2.643.5.1.13.13.12.2.11.724\", \"1.2.643.5.1.13.13.12.2.11.724\", \"1.2.643.5.1.13.13.12.2.11.724\", \"1.2.643.5.1.13.13.12.2.11.724\", \"1.2.643.5.1.13.13.12.2.11.724\", \"1.2.643.5.1.13.13.12.2.11.724\", \"1.2.643.5.1.13.13.12.2.11.724\", \"1.2.643.5.1.13.13.12.2.11.724\", \"1.2.643.5.1.13.13.12.2.11.724\", \"1.2.643.5.1.13.13.12.2.11.724\", \"1.2.643.5.1.13.13.12.2.11.724\", \"1.2.643.5.1.13.13.12.2.11.724\", \"1.2.643.5.1.13.13.12.2.11.724\", \"1.2.643.5.1.13.13.12.2.11.724\", \"1.2.643.5.1.13.13.12.2.11.724\", \"1.2.643.5.1.13.13.12.2.11.724\", \"1.2.643.5.1.13.13.12.2.11.724\", \"1.2.643.5.1.13.13.12.2.11.724\", \"1.2.643.5.1.13.13.12.2.11.724\", \"1.2.643.5.1.13.13.12.2.11.724\", \"1.2.643.5.1.13.13.12.2.11.724\", \"1.2.643.5.1.13.13.12.2.11.724\", \"1.2.643.5.1.13.13.12.2.11.724\", \"1.2.643.5.1.13.13.12.2.11.724\", \"1.2.643.5.1.13.13.12.2.11.724\", \"1.2.643.5.1.13.13.12.2.11.724\", \"1.2.643.5.1.13.13.12.2.11.724\", \"1.2.643.5.1.13.13.12.2.11.724\", \"1.2.643.5.1.13.13.12.2.11.724\", \"1.2.643.5.1.13.13.12.2.11.724\", \"1.2.643.5.1.13.13.12.2.11.724\", \"1.2.643.5.1.13.13.12.2.11.724\", \"1.2.643.5.1.13.13.12.2.11.724\", \"1.2.643.5.1.13.13.12.2.11.724\", \"1.2.643.5.1.13.13.12.2.11.724\", \"1.2.643.5.1.13.13.12.2.11.724\", \"1.2.643.5.1.13.13.12.2.11.724\", \"1.2.643.5.1.13.13.12.2.11.724\", \"1.2.643.5.1.13.13.12.2.11.724\", \"1.2.643.5.1.13.13.12.2.11.724\", \"1.2.643.5.1.13.13.12.2.11.724\", \"1.2.643.5.1.13.13.12.2.11.724\", \"1.2.643.5.1.13.13.12.2.11.724\", \"1.2.643.5.1.13.13.12.2.11.724\", \"1.2.643.5.1.13.13.12.2.11.724\", \"1.2.643.5.1.13.13.12.2.11.724\", \"1.2.643.5.1.13.13.12.2.11.724\", \"1.2.643.5.1.13.13.12.2.11.724\", \"1.2.643.5.1.13.13.12.2.11.724\", \"1.2.643.5.1.13.13.12.2.11.724\", \"1.2.643.5.1.13.13.12.2.11.724\", \"1.2.643.5.1.13.13.12.2.11.724\", \"1.2.643.5.1.13.13.12.2.11.724\", \"1.2.643.5.1.13.13.12.2.11.724\", \"1.2.643.5.1.13.13.12.2.11.724\", \"1.2.643.5.1.13.13.12.2.11.724\", \"1.2.643.5.1.13.13.12.2.11.724\", \"1.2.643.5.1.13.13.12.2.11.724\", \"1.2.643.5.1.13.13.12.2.11.724\", \"1.2.643.5.1.13.13.12.2.11.724\", \"1.2.643.5.1.13.13.12.2.11.724\", \"1.2.643.5.1.13.13.12.2.11.724\", \"1.2.643.5.1.13.13.12.2.11.724\", \"1.2.643.5.1.13.13.12.2.11.724\", \"1.2.643.5.1.13.13.12.2.11.724\", \"1.2.643.5.1.13.13.12.2.11.724\", \"1.2.643.5.1.13.13.12.2.11.724\", \"1.2.643.5.1.13.13.12.2.11.724\", \"1.2.643.5.1.13.13.12.2.11.724\", \"1.2.643.5.1.13.13.12.2.11.724\", \"1.2.643.5.1.13.13.12.2.11.724\", \"1.2.643.5.1.13.13.12.2.11.724\", \"1.2.643.5.1.13.13.12.2.11.724\", \"1.2.643.5.1.13.13.12.2.11.724\", \"1.2.643.5.1.13.13.12.2.11.724\", \"1.2.643.5.1.13.13.12.2.11.724\", \"1.2.643.5.1.13.13.12.2.11.724\", \"1.2.643.5.1.13.13.12.2.11.724\", \"1.2.643.5.1.13.13.12.2.11.724\", \"1.2.643.5.1.13.13.12.2.11.724\", \"1.2.643.5.1.13.13.12.2.11.724\", \"1.2.643.5.1.13.13.12.2.11.724\", \"1.2.643.5.1.13.13.12.2.11.724\", \"1.2.643.5.1.13.13.12.2.11.724\", \"1.2.643.5.1.13.13.12.2.11.724\", \"1.2.643.5.1.13.13.12.2.11.724\", \"1.2.643.5.1.13.13.12.2.11.724\", \"1.2.643.5.1.13.13.12.2.11.724\", \"1.2.643.5.1.13.13.12.2.11.724\", \"1.2.643.5.1.13.13.12.2.11.724\", \"1.2.643.5.1.13.13.12.2.11.724\", \"1.2.643.5.1.13.13.12.2.11.724\", \"1.2.643.5.1.13.13.12.2.11.724\", \"1.2.643.5.1.13.13.12.2.11.724\", \"1.2.643.5.1.13.13.12.2.11.724\", \"1.2.643.5.1.13.13.12.2.11.724\", \"1.2.643.5.1.13.13.12.2.11.724\", \"1.2.643.5.1.13.13.12.2.11.724\", \"1.2.643.5.1.13.13.12.2.11.724\", \"1.2.643.5.1.13.13.12.2.11.724\", \"1.2.643.5.1.13.13.12.2.11.724\", \"1.2.643.5.1.13.13.12.2.11.724\", \"1.2.643.5.1.13.13.12.2.11.724\", \"1.2.643.5.1.13.13.12.2.11.724\", \"1.2.643.5.1.13.13.12.2.11.724\", \"1.2.643.5.1.13.13.12.2.11.724\", \"1.2.643.5.1.13.13.12.2.11.724\", \"1.2.643.5.1.13.13.12.2.11.724\", \"1.2.643.5.1.13.13.12.2.11.724\", \"1.2.643.5.1.13.13.12.2.11.724\", \"1.2.643.5.1.13.13.12.2.11.724\", \"1.2.643.5.1.13.13.12.2.11.724\", \"1.2.643.5.1.13.13.12.2.11.724\", \"1.2.643.5.1.13.13.12.2.11.724\", \"1.2.643.5.1.13.13.12.2.11.724\", \"1.2.643.5.1.13.13.12.2.11.724\", \"1.2.643.5.1.13.13.12.2.11.724\", \"1.2.643.5.1.13.13.12.2.11.724\", \"1.2.643.5.1.13.13.12.2.11.724\", \"1.2.643.5.1.13.13.12.2.11.724\", \"1.2.643.5.1.13.13.12.2.11.724\", \"1.2.643.5.1.13.13.12.2.11.724\", \"1.2.643.5.1.13.13.12.2.11.724\", \"1.2.643.5.1.13.13.12.2.11.724\", \"1.2.643.5.1.13.13.12.2.11.724\", \"1.2.643.5.1.13.13.12.2.11.724\", \"1.2.643.5.1.13.13.12.2.11.724\", \"1.2.643.5.1.13.13.12.2.11.724\", \"1.2.643.5.1.13.13.12.2.11.724\", \"1.2.643.5.1.13.13.12.2.11.724\", \"1.2.643.5.1.13.13.12.2.11.724\", \"1.2.643.5.1.13.13.12.2.11.724\", \"1.2.643.5.1.13.13.12.2.11.724\", \"1.2.643.5.1.13.13.12.2.11.724\", \"1.2.643.5.1.13.13.12.2.11.724\", \"1.2.643.5.1.13.13.12.2.11.724\", \"1.2.643.5.1.13.13.12.2.11.724\", \"1.2.643.5.1.13.13.12.2.11.724\", \"1.2.643.5.1.13.13.12.2.11.724\", \"1.2.643.5.1.13.13.12.2.11.724\", \"1.2.643.5.1.13.13.12.2.11.724\", \"1.2.643.5.1.13.13.12.2.11.724\", \"1.2.643.5.1.13.13.12.2.11.724\", \"1.2.643.5.1.13.13.12.2.11.724\", \"1.2.643.5.1.13.13.12.2.11.724\", \"1.2.643.5.1.13.13.12.2.11.724\", \"1.2.643.5.1.13.13.12.2.11.724\", \"1.2.643.5.1.13.13.12.2.11.724\", \"1.2.643.5.1.13.13.12.2.11.724\", \"1.2.643.5.1.13.13.12.2.11.724\", \"1.2.643.5.1.13.13.12.2.11.724\", \"1.2.643.5.1.13.13.12.2.11.724\", \"1.2.643.5.1.13.13.12.2.11.724\", \"1.2.643.5.1.13.13.12.2.11.724\", \"1.2.643.5.1.13.13.12.2.11.724\", \"1.2.643.5.1.13.13.12.2.11.724\", \"1.2.643.5.1.13.13.12.2.11.724\", \"1.2.643.5.1.13.13.12.2.11.724\", \"1.2.643.5.1.13.13.12.2.11.724\", \"1.2.643.5.1.13.13.12.2.11.724\", \"1.2.643.5.1.13.13.12.2.11.724\", \"1.2.643.5.1.13.13.12.2.11.724\", \"1.2.643.5.1.13.13.12.2.11.724\", \"1.2.643.5.1.13.13.12.2.11.724\", \"1.2.643.5.1.13.13.12.2.11.724\", \"1.2.643.5.1.13.13.12.2.11.724\", \"1.2.643.5.1.13.13.12.2.11.724\", \"1.2.643.5.1.13.13.12.2.11.724\", \"1.2.643.5.1.13.13.12.2.11.724\", \"1.2.643.5.1.13.13.12.2.11.724\", \"1.2.643.5.1.13.13.12.2.11.724\", \"1.2.643.5.1.13.13.12.2.11.724\", \"1.2.643.5.1.13.13.12.2.11.724\", \"1.2.643.5.1.13.13.12.2.11.724\", \"1.2.643.5.1.13.13.12.2.11.724\", \"1.2.643.5.1.13.13.12.2.11.724\", \"1.2.643.5.1.13.13.12.2.11.724\", \"1.2.643.5.1.13.13.12.2.11.724\", \"1.2.643.5.1.13.13.12.2.11.724\", \"1.2.643.5.1.13.13.12.2.11.724\", \"1.2.643.5.1.13.13.12.2.11.724\", \"1.2.643.5.1.13.13.12.2.11.724\", \"1.2.643.5.1.13.13.12.2.11.724\", \"1.2.643.5.1.13.13.12.2.11.724\", \"1.2.643.5.1.13.13.12.2.11.724\", \"1.2.643.5.1.13.13.12.2.11.724\", \"1.2.643.5.1.13.13.12.2.11.724\", \"1.2.643.5.1.13.13.12.2.11.724\", \"1.2.643.5.1.13.13.12.2.11.724\", \"1.2.643.5.1.13.13.12.2.11.724\", \"1.2.643.5.1.13.13.12.2.11.724\", \"1.2.643.5.1.13.13.12.2.11.724\", \"1.2.643.5.1.13.13.12.2.11.724\", \"1.2.643.5.1.13.13.12.2.11.724\", \"1.2.643.5.1.13.13.12.2.11.724\", \"1.2.643.5.1.13.13.12.2.11.724\", \"1.2.643.5.1.13.13.12.2.11.724\", \"1.2.643.5.1.13.13.12.2.11.724\", \"1.2.643.5.1.13.13.12.2.11.724\", \"1.2.643.5.1.13.13.12.2.11.724\", \"1.2.643.5.1.13.13.12.2.11.724\", \"1.2.643.5.1.13.13.12.2.11.724\", \"1.2.643.5.1.13.13.12.2.11.724\", \"1.2.643.5.1.13.13.12.2.11.724\", \"1.2.643.5.1.13.13.12.2.11.724\", \"1.2.643.5.1.13.13.12.2.11.724\", \"1.2.643.5.1.13.13.12.2.11.724\", \"1.2.643.5.1.13.13.12.2.11.724\", \"1.2.643.5.1.13.13.12.2.11.724\", \"1.2.643.5.1.13.13.12.2.11.724\", \"1.2.643.5.1.13.13.12.2.11.724\", \"1.2.643.5.1.13.13.12.2.11.724\", \"1.2.643.5.1.13.13.12.2.11.724\", \"1.2.643.5.1.13.13.12.2.11.724\", \"1.2.643.5.1.13.13.12.2.11.724\", \"1.2.643.5.1.13.13.12.2.11.724\", \"1.2.643.5.1.13.13.12.2.11.724\", \"1.2.643.5.1.13.13.12.2.11.724\", \"1.2.643.5.1.13.13.12.2.11.724\", \"1.2.643.5.1.13.13.12.2.11.724\", \"1.2.643.5.1.13.13.12.2.11.724\", \"1.2.643.5.1.13.13.12.2.11.724\", \"1.2.643.5.1.13.13.12.2.11.724\", \"1.2.643.5.1.13.13.12.2.11.724\", \"1.2.643.5.1.13.13.12.2.11.724\", \"1.2.643.5.1.13.13.12.2.11.724\", \"1.2.643.5.1.13.13.12.2.11.724\", \"1.2.643.5.1.13.13.12.2.11.724\", \"1.2.643.5.1.13.13.12.2.11.724\", \"1.2.643.5.1.13.13.12.2.11.724\", \"1.2.643.5.1.13.13.12.2.11.724\", \"1.2.643.5.1.13.13.12.2.11.724\", \"1.2.643.5.1.13.13.12.2.11.724\", \"1.2.643.5.1.13.13.12.2.11.724\", \"1.2.643.5.1.13.13.12.2.11.724\", \"1.2.643.5.1.13.13.12.2.11.724\", \"1.2.643.5.1.13.13.12.2.11.724\", \"1.2.643.5.1.13.13.12.2.11.724\", \"1.2.643.5.1.13.13.12.2.11.724\", \"1.2.643.5.1.13.13.12.2.11.724\", \"1.2.643.5.1.13.13.12.2.11.724\", \"1.2.643.5.1.13.13.12.2.11.724\", \"1.2.643.5.1.13.13.12.2.11.724\", \"1.2.643.5.1.13.13.12.2.11.724\", \"1.2.643.5.1.13.13.12.2.11.724\", \"1.2.643.5.1.13.13.12.2.11.724\", \"1.2.643.5.1.13.13.12.2.11.724\", \"1.2.643.5.1.13.13.12.2.11.724\", \"1.2.643.5.1.13.13.12.2.11.724\", \"1.2.643.5.1.13.13.12.2.11.724\", \"1.2.643.5.1.13.13.12.2.11.724\", \"1.2.643.5.1.13.13.12.2.11.724\", \"1.2.643.5.1.13.13.12.2.11.724\", \"1.2.643.5.1.13.13.12.2.11.724\", \"1.2.643.5.1.13.13.12.2.11.724\", \"1.2.643.5.1.13.13.12.2.11.724\", \"1.2.643.5.1.13.13.12.2.11.724\", \"1.2.643.5.1.13.13.12.2.11.724\", \"1.2.643.5.1.13.13.12.2.11.724\", \"1.2.643.5.1.13.13.12.2.11.724\", \"1.2.643.5.1.13.13.12.2.11.724\", \"1.2.643.5.1.13.13.12.2.11.724\", \"1.2.643.5.1.13.13.12.2.11.724\", \"1.2.643.5.1.13.13.12.2.11.724\", \"1.2.643.5.1.13.13.12.2.11.724\", \"1.2.643.5.1.13.13.12.2.11.724\", \"1.2.643.5.1.13.13.12.2.11.724\", \"1.2.643.5.1.13.13.12.2.11.724\", \"1.2.643.5.1.13.13.12.2.11.724\", \"1.2.643.5.1.13.13.12.2.11.724\", \"1.2.643.5.1.13.13.12.2.11.724\", \"1.2.643.5.1.13.13.12.2.11.724\", \"1.2.643.5.1.13.13.12.2.11.724\", \"1.2.643.5.1.13.13.12.2.11.724\", \"1.2.643.5.1.13.13.12.2.11.724\", \"1.2.643.5.1.13.13.12.2.11.724\", \"1.2.643.5.1.13.13.12.2.11.724\", \"1.2.643.5.1.13.13.12.2.11.724\", \"1.2.643.5.1.13.13.12.2.11.724\", \"1.2.643.5.1.13.13.12.2.11.724\", \"1.2.643.5.1.13.13.12.2.11.724\", \"1.2.643.5.1.13.13.12.2.11.724\", \"1.2.643.5.1.13.13.12.2.11.724\", \"1.2.643.5.1.13.13.12.2.11.724\", \"1.2.643.5.1.13.13.12.2.11.724\", \"1.2.643.5.1.13.13.12.2.11.724\", \"1.2.643.5.1.13.13.12.2.11.724\", \"1.2.643.5.1.13.13.12.2.11.724\", \"1.2.643.5.1.13.13.12.2.11.724\", \"1.2.643.5.1.13.13.12.2.11.724\", \"1.2.643.5.1.13.13.12.2.11.724\", \"1.2.643.5.1.13.13.12.2.11.724\", \"1.2.643.5.1.13.13.12.2.11.724\", \"1.2.643.5.1.13.13.12.2.11.724\", \"1.2.643.5.1.13.13.12.2.11.724\", \"1.2.643.5.1.13.13.12.2.11.724\", \"1.2.643.5.1.13.13.12.2.11.724\", \"1.2.643.5.1.13.13.12.2.11.724\", \"1.2.643.5.1.13.13.12.2.11.724\", \"1.2.643.5.1.13.13.12.2.11.724\", \"1.2.643.5.1.13.13.12.2.11.724\", \"1.2.643.5.1.13.13.12.2.11.724\", \"1.2.643.5.1.13.13.12.2.11.724\", \"1.2.643.5.1.13.13.12.2.11.724\", \"1.2.643.5.1.13.13.12.2.11.724\", \"1.2.643.5.1.13.13.12.2.11.724\", \"1.2.643.5.1.13.13.12.2.11.724\", \"1.2.643.5.1.13.13.12.2.11.724\", \"1.2.643.5.1.13.13.12.2.11.724\", \"1.2.643.5.1.13.13.12.2.11.724\", \"1.2.643.5.1.13.13.12.2.11.724\", \"1.2.643.5.1.13.13.12.2.11.724\", \"1.2.643.5.1.13.13.12.2.11.724\", \"1.2.643.5.1.13.13.12.2.11.724\", \"1.2.643.5.1.13.13.12.2.11.724\", \"1.2.643.5.1.13.13.12.2.11.724\", \"1.2.643.5.1.13.13.12.2.11.724\", \"1.2.643.5.1.13.13.12.2.11.724\", \"1.2.643.5.1.13.13.12.2.11.724\", \"1.2.643.5.1.13.13.12.2.11.724\", \"1.2.643.5.1.13.13.12.2.11.724\", \"1.2.643.5.1.13.13.12.2.11.724\", \"1.2.643.5.1.13.13.12.2.11.724\", \"1.2.643.5.1.13.13.12.2.11.724\", \"1.2.643.5.1.13.13.12.2.11.724\", \"1.2.643.5.1.13.13.12.2.11.724\", \"1.2.643.5.1.13.13.12.2.11.724\", \"1.2.643.5.1.13.13.12.2.11.724\", \"1.2.643.5.1.13.13.12.2.11.724\", \"1.2.643.5.1.13.13.12.2.11.724\", \"1.2.643.5.1.13.13.12.2.11.724\", \"1.2.643.5.1.13.13.12.2.11.724\", \"1.2.643.5.1.13.13.12.2.11.724\", \"1.2.643.5.1.13.13.12.2.11.724\", \"1.2.643.5.1.13.13.12.2.11.724\", \"1.2.643.5.1.13.13.12.2.11.724\", \"1.2.643.5.1.13.13.12.2.11.724\", \"1.2.643.5.1.13.13.12.2.11.724\", \"1.2.643.5.1.13.13.12.2.11.724\", \"1.2.643.5.1.13.13.12.2.11.724\", \"1.2.643.5.1.13.13.12.2.11.724\", \"1.2.643.5.1.13.13.12.2.11.724\", \"1.2.643.5.1.13.13.12.2.11.724\", \"1.2.643.5.1.13.13.12.2.11.724\", \"1.2.643.5.1.13.13.12.2.11.724\", \"1.2.643.5.1.13.13.12.2.11.724\", \"1.2.643.5.1.13.13.12.2.11.724\", \"1.2.643.5.1.13.13.12.2.11.724\", \"1.2.643.5.1.13.13.12.2.11.724\", \"1.2.643.5.1.13.13.12.2.11.724\", \"1.2.643.5.1.13.13.12.2.11.724\", \"1.2.643.5.1.13.13.12.2.11.724\", \"1.2.643.5.1.13.13.12.2.11.724\", \"1.2.643.5.1.13.13.12.2.11.724\", \"1.2.643.5.1.13.13.12.2.11.724\", \"1.2.643.5.1.13.13.12.2.11.724\", \"1.2.643.5.1.13.13.12.2.11.724\", \"1.2.643.5.1.13.13.12.2.11.724\", \"1.2.643.5.1.13.13.12.2.11.724\", \"1.2.643.5.1.13.13.12.2.11.724\", \"1.2.643.5.1.13.13.12.2.11.724\", \"1.2.643.5.1.13.13.12.2.11.724\", \"1.2.643.5.1.13.13.12.2.11.724\", \"1.2.643.5.1.13.13.12.2.11.724\", \"1.2.643.5.1.13.13.12.2.11.724\", \"1.2.643.5.1.13.13.12.2.11.724\", \"1.2.643.5.1.13.13.12.2.11.724\", \"1.2.643.5.1.13.13.12.2.11.724\", \"1.2.643.5.1.13.13.12.2.11.724\", \"1.2.643.5.1.13.13.12.2.11.724\", \"1.2.643.5.1.13.13.12.2.11.724\", \"1.2.643.5.1.13.13.12.2.11.724\", \"1.2.643.5.1.13.13.12.2.11.724\", \"1.2.643.5.1.13.13.12.2.11.724\", \"1.2.643.5.1.13.13.12.2.11.724\", \"1.2.643.5.1.13.13.12.2.11.724\", \"1.2.643.5.1.13.13.12.2.11.724\", \"1.2.643.5.1.13.13.12.2.11.724\", \"1.2.643.5.1.13.13.12.2.11.724\", \"1.2.643.5.1.13.13.12.2.11.724\", \"1.2.643.5.1.13.13.12.2.11.724\", \"1.2.643.5.1.13.13.12.2.11.724\", \"1.2.643.5.1.13.13.12.2.11.724\", \"1.2.643.5.1.13.13.12.2.11.724\", \"1.2.643.5.1.13.13.12.2.11.724\", \"1.2.643.5.1.13.13.12.2.11.724\", \"1.2.643.5.1.13.13.12.2.11.724\", \"1.2.643.5.1.13.13.12.2.11.724\", \"1.2.643.5.1.13.13.12.2.11.724\", \"1.2.643.5.1.13.13.12.2.11.724\", \"1.2.643.5.1.13.13.12.2.11.724\", \"1.2.643.5.1.13.13.12.2.11.724\", \"1.2.643.5.1.13.13.12.2.11.724\", \"1.2.643.5.1.13.13.12.2.11.724\", \"1.2.643.5.1.13.13.12.2.11.724\", \"1.2.643.5.1.13.13.12.2.11.724\", \"1.2.643.5.1.13.13.12.2.11.724\", \"1.2.643.5.1.13.13.12.2.11.724\", \"1.2.643.5.1.13.13.12.2.11.724\", \"1.2.643.5.1.13.13.12.2.11.724\", \"1.2.643.5.1.13.13.12.2.11.724\", \"1.2.643.5.1.13.13.12.2.11.724\", \"1.2.643.5.1.13.13.12.2.11.724\", \"1.2.643.5.1.13.13.12.2.11.724\", \"1.2.643.5.1.13.13.12.2.11.724\", \"1.2.643.5.1.13.13.12.2.11.724\", \"1.2.643.5.1.13.13.12.2.11.724\", \"1.2.643.5.1.13.13.12.2.11.724\", \"1.2.643.5.1.13.13.12.2.11.724\", \"1.2.643.5.1.13.13.12.2.11.724\", \"1.2.643.5.1.13.13.12.2.11.724\", \"1.2.643.5.1.13.13.12.2.11.724\", \"1.2.643.5.1.13.13.12.2.11.724\", \"1.2.643.5.1.13.13.12.2.11.724\", \"1.2.643.5.1.13.13.12.2.11.724\", \"1.2.643.5.1.13.13.12.2.11.724\", \"1.2.643.5.1.13.13.12.2.11.724\", \"1.2.643.5.1.13.13.12.2.11.724\", \"1.2.643.5.1.13.13.12.2.11.724\", \"1.2.643.5.1.13.13.12.2.11.724\", \"1.2.643.5.1.13.13.12.2.11.724\", \"1.2.643.5.1.13.13.12.2.11.724\", \"1.2.643.5.1.13.13.12.2.11.724\", \"1.2.643.5.1.13.13.12.2.11.724\", \"1.2.643.5.1.13.13.12.2.11.724\", \"1.2.643.5.1.13.13.12.2.11.724\", \"1.2.643.5.1.13.13.12.2.11.724\", \"1.2.643.5.1.13.13.12.2.11.724\", \"1.2.643.5.1.13.13.12.2.11.724\", \"1.2.643.5.1.13.13.12.2.11.724\", \"1.2.643.5.1.13.13.12.2.11.724\", \"1.2.643.5.1.13.13.12.2.11.724\", \"1.2.643.5.1.13.13.12.2.11.724\", \"1.2.643.5.1.13.13.12.2.11.724\", \"1.2.643.5.1.13.13.12.2.11.724\", \"1.2.643.5.1.13.13.12.2.11.724\", \"1.2.643.5.1.13.13.12.2.11.724\", \"1.2.643.5.1.13.13.12.2.11.724\", \"1.2.643.5.1.13.13.12.2.11.724\", \"1.2.643.5.1.13.13.12.2.11.724\", \"1.2.643.5.1.13.13.12.2.11.724\", \"1.2.643.5.1.13.13.12.2.11.724\", \"1.2.643.5.1.13.13.12.2.11.724\", \"1.2.643.5.1.13.13.12.2.11.724\", \"1.2.643.5.1.13.13.12.2.11.724\", \"1.2.643.5.1.13.13.12.2.11.724\", \"1.2.643.5.1.13.13.12.2.11.724\", \"1.2.643.5.1.13.13.12.2.11.724\", \"1.2.643.5.1.13.13.12.2.11.724\", \"1.2.643.5.1.13.13.12.2.11.724\", \"1.2.643.5.1.13.13.12.2.11.724\", \"1.2.643.5.1.13.13.12.2.11.724\", \"1.2.643.5.1.13.13.12.2.11.724\", \"1.2.643.5.1.13.13.12.2.11.724\", \"1.2.643.5.1.13.13.12.2.11.724\", \"1.2.643.5.1.13.13.12.2.11.724\", \"1.2.643.5.1.13.13.12.2.11.724\", \"1.2.643.5.1.13.13.12.2.11.724\", \"1.2.643.5.1.13.13.12.2.11.724\", \"1.2.643.5.1.13.13.12.2.11.724\", \"1.2.643.5.1.13.13.12.2.11.724\", \"1.2.643.5.1.13.13.12.2.11.724\", \"1.2.643.5.1.13.13.12.2.11.724\", \"1.2.643.5.1.13.13.12.2.11.724\", \"1.2.643.5.1.13.13.12.2.11.724\", \"1.2.643.5.1.13.13.12.2.11.724\", \"1.2.643.5.1.13.13.12.2.11.724\", \"1.2.643.5.1.13.13.12.2.11.724\", \"1.2.643.5.1.13.13.12.2.11.724\", \"1.2.643.5.1.13.13.12.2.11.724\", \"1.2.643.5.1.13.13.12.2.11.724\", \"1.2.643.5.1.13.13.12.2.11.724\", \"1.2.643.5.1.13.13.12.2.11.724\", \"1.2.643.5.1.13.13.12.2.11.724\", \"1.2.643.5.1.13.13.12.2.11.724\", \"1.2.643.5.1.13.13.12.2.11.724\", \"1.2.643.5.1.13.13.12.2.11.724\", \"1.2.643.5.1.13.13.12.2.11.724\", \"1.2.643.5.1.13.13.12.2.11.724\", \"1.2.643.5.1.13.13.12.2.11.724\", \"1.2.643.5.1.13.13.12.2.11.724\", \"1.2.643.5.1.13.13.12.2.11.724\", \"1.2.643.5.1.13.13.12.2.11.724\", \"1.2.643.5.1.13.13.12.2.11.724\", \"1.2.643.5.1.13.13.12.2.11.724\", \"1.2.643.5.1.13.13.12.2.11.724\", \"1.2.643.5.1.13.13.12.2.11.724\", \"1.2.643.5.1.13.13.12.2.11.724\", \"1.2.643.5.1.13.13.12.2.11.724\", \"1.2.643.5.1.13.13.12.2.11.724\", \"1.2.643.5.1.13.13.12.2.11.724\", \"1.2.643.5.1.13.13.12.2.11.724\", \"1.2.643.5.1.13.13.12.2.11.724\", \"1.2.643.5.1.13.13.12.2.11.724\", \"1.2.643.5.1.13.13.12.2.11.724\", \"1.2.643.5.1.13.13.12.2.11.724\", \"1.2.643.5.1.13.13.12.2.11.724\", \"1.2.643.5.1.13.13.12.2.11.724\", \"1.2.643.5.1.13.13.12.2.11.724\", \"1.2.643.5.1.13.13.12.2.11.724\", \"1.2.643.5.1.13.13.12.2.11.724\", \"1.2.643.5.1.13.13.12.2.11.724\", \"1.2.643.5.1.13.13.12.2.11.724\", \"1.2.643.5.1.13.13.12.2.11.724\", \"1.2.643.5.1.13.13.12.2.11.724\", \"1.2.643.5.1.13.13.12.2.11.724\", \"1.2.643.5.1.13.13.12.2.11.724\", \"1.2.643.5.1.13.13.12.2.11.724\", \"1.2.643.5.1.13.13.12.2.11.724\", \"1.2.643.5.1.13.13.12.2.11.724\", \"1.2.643.5.1.13.13.12.2.11.724\", \"1.2.643.5.1.13.13.12.2.11.724\", \"1.2.643.5.1.13.13.12.2.11.724\", \"1.2.643.5.1.13.13.12.2.11.724\", \"1.2.643.5.1.13.13.12.2.11.724\", \"1.2.643.5.1.13.13.12.2.11.724\", \"1.2.643.5.1.13.13.12.2.11.724\", \"1.2.643.5.1.13.13.12.2.11.724\", \"1.2.643.5.1.13.13.12.2.11.724\", \"1.2.643.5.1.13.13.12.2.11.724\", \"1.2.643.5.1.13.13.12.2.11.724\", \"1.2.643.5.1.13.13.12.2.11.724\", \"1.2.643.5.1.13.13.12.2.11.724\", \"1.2.643.5.1.13.13.12.2.11.724\", \"1.2.643.5.1.13.13.12.2.11.724\", \"1.2.643.5.1.13.13.12.2.11.724\", \"1.2.643.5.1.13.13.12.2.11.724\", \"1.2.643.5.1.13.13.12.2.11.724\", \"1.2.643.5.1.13.13.12.2.11.724\", \"1.2.643.5.1.13.13.12.2.11.724\", \"1.2.643.5.1.13.13.12.2.11.724\", \"1.2.643.5.1.13.13.12.2.11.724\", \"1.2.643.5.1.13.13.12.2.11.724\", \"1.2.643.5.1.13.13.12.2.11.724\", \"1.2.643.5.1.13.13.12.2.11.724\", \"1.2.643.5.1.13.13.12.2.11.724\", \"1.2.643.5.1.13.13.12.2.11.724\", \"1.2.643.5.1.13.13.12.2.11.724\", \"1.2.643.5.1.13.13.12.2.11.724\", \"1.2.643.5.1.13.13.12.2.11.724\", \"1.2.643.5.1.13.13.12.2.11.724\", \"1.2.643.5.1.13.13.12.2.11.724\", \"1.2.643.5.1.13.13.12.2.11.724\", \"1.2.643.5.1.13.13.12.2.11.724\", \"1.2.643.5.1.13.13.12.2.11.724\", \"1.2.643.5.1.13.13.12.2.11.724\", \"1.2.643.5.1.13.13.12.2.11.724\", \"1.2.643.5.1.13.13.12.2.11.724\", \"1.2.643.5.1.13.13.12.2.11.724\", \"1.2.643.5.1.13.13.12.2.11.724\", \"1.2.643.5.1.13.13.12.2.11.724\", \"1.2.643.5.1.13.13.12.2.11.724\", \"1.2.643.5.1.13.13.12.2.11.724\", \"1.2.643.5.1.13.13.12.2.11.724\", \"1.2.643.5.1.13.13.12.2.11.724\", \"1.2.643.5.1.13.13.12.2.11.724\", \"1.2.643.5.1.13.13.12.2.11.724\", \"1.2.643.5.1.13.13.12.2.11.724\", \"1.2.643.5.1.13.13.12.2.11.724\", \"1.2.643.5.1.13.13.12.2.11.724\", \"1.2.643.5.1.13.13.12.2.11.724\", \"1.2.643.5.1.13.13.12.2.11.724\", \"1.2.643.5.1.13.13.12.2.11.724\", \"1.2.643.5.1.13.13.12.2.11.724\", \"1.2.643.5.1.13.13.12.2.11.724\", \"1.2.643.5.1.13.13.12.2.11.724\", \"1.2.643.5.1.13.13.12.2.11.724\", \"1.2.643.5.1.13.13.12.2.11.724\", \"1.2.643.5.1.13.13.12.2.11.724\", \"1.2.643.5.1.13.13.12.2.11.724\", \"1.2.643.5.1.13.13.12.2.11.724\", \"1.2.643.5.1.13.13.12.2.11.724\", \"1.2.643.5.1.13.13.12.2.11.724\", \"1.2.643.5.1.13.13.12.2.11.724\", \"1.2.643.5.1.13.13.12.2.11.724\", \"1.2.643.5.1.13.13.12.2.11.724\", \"1.2.643.5.1.13.13.12.2.11.724\", \"1.2.643.5.1.13.13.12.2.11.724\", \"1.2.643.5.1.13.13.12.2.11.724\", \"1.2.643.5.1.13.13.12.2.11.724\", \"1.2.643.5.1.13.13.12.2.11.724\", \"1.2.643.5.1.13.13.12.2.11.724\", \"1.2.643.5.1.13.13.12.2.11.724\", \"1.2.643.5.1.13.13.12.2.11.724\", \"1.2.643.5.1.13.13.12.2.11.724\", \"1.2.643.5.1.13.13.12.2.11.724\", \"1.2.643.5.1.13.13.12.2.11.724\", \"1.2.643.5.1.13.13.12.2.11.724\", \"1.2.643.5.1.13.13.12.2.11.724\", \"1.2.643.5.1.13.13.12.2.11.724\", \"1.2.643.5.1.13.13.12.2.11.724\", \"1.2.643.5.1.13.13.12.2.11.724\", \"1.2.643.5.1.13.13.12.2.11.724\", \"1.2.643.5.1.13.13.12.2.11.724\", \"1.2.643.5.1.13.13.12.2.11.724\", \"1.2.643.5.1.13.13.12.2.11.724\", \"1.2.643.5.1.13.13.12.2.11.724\", \"1.2.643.5.1.13.13.12.2.11.724\", \"1.2.643.5.1.13.13.12.2.11.724\", \"1.2.643.5.1.13.13.12.2.11.724\", \"1.2.643.5.1.13.13.12.2.11.724\", \"1.2.643.5.1.13.13.12.2.11.724\", \"1.2.643.5.1.13.13.12.2.11.724\", \"1.2.643.5.1.13.13.12.2.11.724\", \"1.2.643.5.1.13.13.12.2.11.724\", \"1.2.643.5.1.13.13.12.2.11.724\", \"1.2.643.5.1.13.13.12.2.11.724\", \"1.2.643.5.1.13.13.12.2.11.724\", \"1.2.643.5.1.13.13.12.2.11.724\", \"1.2.643.5.1.13.13.12.2.11.724\", \"1.2.643.5.1.13.13.12.2.11.724\", \"1.2.643.5.1.13.13.12.2.11.724\", \"1.2.643.5.1.13.13.12.2.11.724\", \"1.2.643.5.1.13.13.12.2.11.724\", \"1.2.643.5.1.13.13.12.2.11.724\", \"1.2.643.5.1.13.13.12.2.11.724\", \"1.2.643.5.1.13.13.12.2.11.724\", \"1.2.643.5.1.13.13.12.2.11.724\", \"1.2.643.5.1.13.13.12.2.11.724\", \"1.2.643.5.1.13.13.12.2.11.724\", \"1.2.643.5.1.13.13.12.2.11.724\", \"1.2.643.5.1.13.13.12.2.11.724\", \"1.2.643.5.1.13.13.12.2.11.724\", \"1.2.643.5.1.13.13.12.2.11.724\", \"1.2.643.5.1.13.13.12.2.11.724\", \"1.2.643.5.1.13.13.12.2.11.724\", \"1.2.643.5.1.13.13.12.2.11.724\", \"1.2.643.5.1.13.13.12.2.11.724\", \"1.2.643.5.1.13.13.12.2.11.724\", \"1.2.643.5.1.13.13.12.2.11.724\", \"1.2.643.5.1.13.13.12.2.11.724\", \"1.2.643.5.1.13.13.12.2.11.724\", \"1.2.643.5.1.13.13.12.2.11.724\", \"1.2.643.5.1.13.13.12.2.11.724\", \"1.2.643.5.1.13.13.12.2.11.724\", \"1.2.643.5.1.13.13.12.2.11.724\", \"1.2.643.5.1.13.13.12.2.11.724\", \"1.2.643.5.1.13.13.12.2.11.724\", \"1.2.643.5.1.13.13.12.2.11.724\", \"1.2.643.5.1.13.13.12.2.11.724\", \"1.2.643.5.1.13.13.12.2.11.724\", \"1.2.643.5.1.13.13.12.2.11.724\", \"1.2.643.5.1.13.13.12.2.11.724\", \"1.2.643.5.1.13.13.12.2.11.724\", \"1.2.643.5.1.13.13.12.2.11.724\", \"1.2.643.5.1.13.13.12.2.11.724\", \"1.2.643.5.1.13.13.12.2.11.724\", \"1.2.643.5.1.13.13.12.2.11.724\", \"1.2.643.5.1.13.13.12.2.11.724\", \"1.2.643.5.1.13.13.12.2.11.724\", \"1.2.643.5.1.13.13.12.2.11.724\", \"1.2.643.5.1.13.13.12.2.11.724\", \"1.2.643.5.1.13.13.12.2.11.724\", \"1.2.643.5.1.13.13.12.2.11.724\", \"1.2.643.5.1.13.13.12.2.11.724\", \"1.2.643.5.1.13.13.12.2.11.724\", \"1.2.643.5.1.13.13.12.2.11.724\", \"1.2.643.5.1.13.13.12.2.11.724\", \"1.2.643.5.1.13.13.12.2.11.724\", \"1.2.643.5.1.13.13.12.2.11.724\", \"1.2.643.5.1.13.13.12.2.11.724\", \"1.2.643.5.1.13.13.12.2.11.724\", \"1.2.643.5.1.13.13.12.2.11.724\", \"1.2.643.5.1.13.13.12.2.11.724\", \"1.2.643.5.1.13.13.12.2.11.724\", \"1.2.643.5.1.13.13.12.2.11.724\", \"1.2.643.5.1.13.13.12.2.11.724\", \"1.2.643.5.1.13.13.12.2.11.724\", \"1.2.643.5.1.13.13.12.2.11.724\", \"1.2.643.5.1.13.13.12.2.11.724\", \"1.2.643.5.1.13.13.12.2.11.724\", \"1.2.643.5.1.13.13.12.2.11.724\", \"1.2.643.5.1.13.13.12.2.11.724\", \"1.2.643.5.1.13.13.12.2.11.724\", \"1.2.643.5.1.13.13.12.2.11.724\", \"1.2.643.5.1.13.13.12.2.11.724\", \"1.2.643.5.1.13.13.12.2.11.724\", \"1.2.643.5.1.13.13.12.2.11.724\", \"1.2.643.5.1.13.13.12.2.11.724\", \"1.2.643.5.1.13.13.12.2.11.724\", \"1.2.643.5.1.13.13.12.2.11.724\", \"1.2.643.5.1.13.13.12.2.11.724\", \"1.2.643.5.1.13.13.12.2.11.724\", \"1.2.643.5.1.13.13.12.2.11.724\", \"1.2.643.5.1.13.13.12.2.11.724\", \"1.2.643.5.1.13.13.12.2.11.724\", \"1.2.643.5.1.13.13.12.2.11.724\", \"1.2.643.5.1.13.13.12.2.11.724\", \"1.2.643.5.1.13.13.12.2.11.724\", \"1.2.643.5.1.13.13.12.2.11.724\", \"1.2.643.5.1.13.13.12.2.11.724\", \"1.2.643.5.1.13.13.12.2.11.724\", \"1.2.643.5.1.13.13.12.2.11.724\", \"1.2.643.5.1.13.13.12.2.11.724\", \"1.2.643.5.1.13.13.12.2.11.724\", \"1.2.643.5.1.13.13.12.2.11.724\", \"1.2.643.5.1.13.13.12.2.11.724\", \"1.2.643.5.1.13.13.12.2.11.724\", \"1.2.643.5.1.13.13.12.2.11.724\", \"1.2.643.5.1.13.13.12.2.11.724\", \"1.2.643.5.1.13.13.12.2.11.724\", \"1.2.643.5.1.13.13.12.2.11.724\", \"1.2.643.5.1.13.13.12.2.11.724\", \"1.2.643.5.1.13.13.12.2.11.724\", \"1.2.643.5.1.13.13.12.2.11.724\", \"1.2.643.5.1.13.13.12.2.11.724\", \"1.2.643.5.1.13.13.12.2.11.724\", \"1.2.643.5.1.13.13.12.2.11.724\", \"1.2.643.5.1.13.13.12.2.11.724\", \"1.2.643.5.1.13.13.12.2.11.724\", \"1.2.643.5.1.13.13.12.2.11.724\", \"1.2.643.5.1.13.13.12.2.11.724\", \"1.2.643.5.1.13.13.12.2.11.724\", \"1.2.643.5.1.13.13.12.2.11.724\", \"1.2.643.5.1.13.13.12.2.11.724\", \"1.2.643.5.1.13.13.12.2.11.724\", \"1.2.643.5.1.13.13.12.2.11.724\", \"1.2.643.5.1.13.13.12.2.11.724\", \"1.2.643.5.1.13.13.12.2.11.724\", \"1.2.643.5.1.13.13.12.2.11.724\", \"1.2.643.5.1.13.13.12.2.11.724\", \"1.2.643.5.1.13.13.12.2.11.724\", \"1.2.643.5.1.13.13.12.2.11.724\", \"1.2.643.5.1.13.13.12.2.11.724\", \"1.2.643.5.1.13.13.12.2.11.724\", \"1.2.643.5.1.13.13.12.2.11.724\", \"1.2.643.5.1.13.13.12.2.11.724\", \"1.2.643.5.1.13.13.12.2.11.724\", \"1.2.643.5.1.13.13.12.2.11.724\", \"1.2.643.5.1.13.13.12.2.11.724\", \"1.2.643.5.1.13.13.12.2.11.724\", \"1.2.643.5.1.13.13.12.2.11.724\", \"1.2.643.5.1.13.13.12.2.11.724\", \"1.2.643.5.1.13.13.12.2.11.724\", \"1.2.643.5.1.13.13.12.2.11.724\", \"1.2.643.5.1.13.13.12.2.11.724\", \"1.2.643.5.1.13.13.12.2.11.724\", \"1.2.643.5.1.13.13.12.2.11.724\", \"1.2.643.5.1.13.13.12.2.11.724\", \"1.2.643.5.1.13.13.12.2.11.724\", \"1.2.643.5.1.13.13.12.2.11.724\", \"1.2.643.5.1.13.13.12.2.11.724\", \"1.2.643.5.1.13.13.12.2.11.724\", \"1.2.643.5.1.13.13.12.2.11.724\", \"1.2.643.5.1.13.13.12.2.11.724\", \"1.2.643.5.1.13.13.12.2.11.724\", \"1.2.643.5.1.13.13.12.2.11.724\", \"1.2.643.5.1.13.13.12.2.11.724\", \"1.2.643.5.1.13.13.12.2.11.724\", \"1.2.643.5.1.13.13.12.2.11.724\", \"1.2.643.5.1.13.13.12.2.11.724\", \"1.2.643.5.1.13.13.12.2.11.724\", \"1.2.643.5.1.13.13.12.2.11.724\", \"1.2.643.5.1.13.13.12.2.11.724\", \"1.2.643.5.1.13.13.12.2.11.724\", \"1.2.643.5.1.13.13.12.2.11.724\", \"1.2.643.5.1.13.13.12.2.11.724\", \"1.2.643.5.1.13.13.12.2.11.724\", \"1.2.643.5.1.13.13.12.2.11.724\", \"1.2.643.5.1.13.13.12.2.11.724\", \"1.2.643.5.1.13.13.12.2.11.724\", \"1.2.643.5.1.13.13.12.2.11.724\", \"1.2.643.5.1.13.13.12.2.11.724\", \"1.2.643.5.1.13.13.12.2.11.724\", \"1.2.643.5.1.13.13.12.2.11.724\", \"1.2.643.5.1.13.13.12.2.11.724\", \"1.2.643.5.1.13.13.12.2.11.724\", \"1.2.643.5.1.13.13.12.2.11.724\", \"1.2.643.5.1.13.13.12.2.11.724\", \"1.2.643.5.1.13.13.12.2.11.724\", \"1.2.643.5.1.13.13.12.2.11.724\", \"1.2.643.5.1.13.13.12.2.11.724\", \"1.2.643.5.1.13.13.12.2.11.724\", \"1.2.643.5.1.13.13.12.2.11.724\", \"1.2.643.5.1.13.13.12.2.11.724\", \"1.2.643.5.1.13.13.12.2.11.724\", \"1.2.643.5.1.13.13.12.2.11.724\", \"1.2.643.5.1.13.13.12.2.11.724\", \"1.2.643.5.1.13.13.12.2.11.724\", \"1.2.643.5.1.13.13.12.2.11.724\", \"1.2.643.5.1.13.13.12.2.11.724\", \"1.2.643.5.1.13.13.12.2.11.724\", \"1.2.643.5.1.13.13.12.2.11.724\", \"1.2.643.5.1.13.13.12.2.11.724\", \"1.2.643.5.1.13.13.12.2.11.724\", \"1.2.643.5.1.13.13.12.2.11.724\", \"1.2.643.5.1.13.13.12.2.11.724\", \"1.2.643.5.1.13.13.12.2.11.724\", \"1.2.643.5.1.13.13.12.2.11.724\", \"1.2.643.5.1.13.13.12.2.11.724\", \"1.2.643.5.1.13.13.12.2.11.724\", \"1.2.643.5.1.13.13.12.2.11.724\", \"1.2.643.5.1.13.13.12.2.11.724\", \"1.2.643.5.1.13.13.12.2.11.724\", \"1.2.643.5.1.13.13.12.2.11.724\", \"1.2.643.5.1.13.13.12.2.11.724\", \"1.2.643.5.1.13.13.12.2.11.724\", \"1.2.643.5.1.13.13.12.2.11.724\", \"1.2.643.5.1.13.13.12.2.11.724\", \"1.2.643.5.1.13.13.12.2.11.724\", \"1.2.643.5.1.13.13.12.2.11.724\", \"1.2.643.5.1.13.13.12.2.11.724\", \"1.2.643.5.1.13.13.12.2.11.724\", \"1.2.643.5.1.13.13.12.2.11.724\", \"1.2.643.5.1.13.13.12.2.11.724\", \"1.2.643.5.1.13.13.12.2.11.724\", \"1.2.643.5.1.13.13.12.2.11.724\", \"1.2.643.5.1.13.13.12.2.11.724\", \"1.2.643.5.1.13.13.12.2.11.724\", \"1.2.643.5.1.13.13.12.2.11.724\", \"1.2.643.5.1.13.13.12.2.11.724\", \"1.2.643.5.1.13.13.12.2.11.724\", \"1.2.643.5.1.13.13.12.2.11.724\", \"1.2.643.5.1.13.13.12.2.11.724\", \"1.2.643.5.1.13.13.12.2.11.724\", \"1.2.643.5.1.13.13.12.2.11.724\", \"1.2.643.5.1.13.13.12.2.11.724\", \"1.2.643.5.1.13.13.12.2.11.724\", \"1.2.643.5.1.13.13.12.2.11.724\", \"1.2.643.5.1.13.13.12.2.11.724\", \"1.2.643.5.1.13.13.12.2.11.724\", \"1.2.643.5.1.13.13.12.2.11.724\", \"1.2.643.5.1.13.13.12.2.11.724\", \"1.2.643.5.1.13.13.12.2.11.724\", \"1.2.643.5.1.13.13.12.2.11.724\", \"1.2.643.5.1.13.13.12.2.11.724\", \"1.2.643.5.1.13.13.12.2.11.724\", \"1.2.643.5.1.13.13.12.2.11.724\", \"1.2.643.5.1.13.13.12.2.11.724\", \"1.2.643.5.1.13.13.12.2.11.724\", \"1.2.643.5.1.13.13.12.2.11.724\", \"1.2.643.5.1.13.13.12.2.11.724\", \"1.2.643.5.1.13.13.12.2.11.724\", \"1.2.643.5.1.13.13.12.2.11.724\", \"1.2.643.5.1.13.13.12.2.11.724\", \"1.2.643.5.1.13.13.12.2.11.724\", \"1.2.643.5.1.13.13.12.2.11.724\", \"1.2.643.5.1.13.13.12.2.11.724\", \"1.2.643.5.1.13.13.12.2.11.724\", \"1.2.643.5.1.13.13.12.2.11.724\", \"1.2.643.5.1.13.13.12.2.11.724\", \"1.2.643.5.1.13.13.12.2.11.724\", \"1.2.643.5.1.13.13.12.2.11.724\", \"1.2.643.5.1.13.13.12.2.11.724\", \"1.2.643.5.1.13.13.12.2.11.724\", \"1.2.643.5.1.13.13.12.2.11.724\", \"1.2.643.5.1.13.13.12.2.11.724\", \"1.2.643.5.1.13.13.12.2.11.724\", \"1.2.643.5.1.13.13.12.2.11.724\", \"1.2.643.5.1.13.13.12.2.11.724\", \"1.2.643.5.1.13.13.12.2.11.724\", \"1.2.643.5.1.13.13.12.2.11.724\", \"1.2.643.5.1.13.13.12.2.11.724\", \"1.2.643.5.1.13.13.12.2.11.724\", \"1.2.643.5.1.13.13.12.2.11.724\", \"1.2.643.5.1.13.13.12.2.11.724\", \"1.2.643.5.1.13.13.12.2.11.724\", \"1.2.643.5.1.13.13.12.2.11.724\", \"1.2.643.5.1.13.13.12.2.11.724\", \"1.2.643.5.1.13.13.12.2.11.724\", \"1.2.643.5.1.13.13.12.2.11.724\", \"1.2.643.5.1.13.13.12.2.11.724\", \"1.2.643.5.1.13.13.12.2.11.724\", \"1.2.643.5.1.13.13.12.2.11.724\", \"1.2.643.5.1.13.13.12.2.11.724\", \"1.2.643.5.1.13.13.12.2.11.724\", \"1.2.643.5.1.13.13.12.2.11.724\", \"1.2.643.5.1.13.13.12.2.11.724\", \"1.2.643.5.1.13.13.12.2.11.724\", \"1.2.643.5.1.13.13.12.2.11.724\", \"1.2.643.5.1.13.13.12.2.11.724\", \"1.2.643.5.1.13.13.12.2.11.724\", \"1.2.643.5.1.13.13.12.2.11.724\", \"1.2.643.5.1.13.13.12.2.11.724\", \"1.2.643.5.1.13.13.12.2.11.724\", \"1.2.643.5.1.13.13.12.2.11.724\", \"1.2.643.5.1.13.13.12.2.11.724\", \"1.2.643.5.1.13.13.12.2.11.724\", \"1.2.643.5.1.13.13.12.2.11.724\", \"1.2.643.5.1.13.13.12.2.11.724\", \"1.2.643.5.1.13.13.12.2.11.724\", \"1.2.643.5.1.13.13.12.2.11.724\", \"1.2.643.5.1.13.13.12.2.11.724\", \"1.2.643.5.1.13.13.12.2.11.724\", \"1.2.643.5.1.13.13.12.2.11.724\", \"1.2.643.5.1.13.13.12.2.11.724\", \"1.2.643.5.1.13.13.12.2.11.724\", \"1.2.643.5.1.13.13.12.2.11.724\", \"1.2.643.5.1.13.13.12.2.11.724\", \"1.2.643.5.1.13.13.12.2.11.724\", \"1.2.643.5.1.13.13.12.2.11.724\", \"1.2.643.5.1.13.13.12.2.11.724\", \"1.2.643.5.1.13.13.12.2.11.724\", \"1.2.643.5.1.13.13.12.2.11.724\", \"1.2.643.5.1.13.13.12.2.11.724\", \"1.2.643.5.1.13.13.12.2.11.724\", \"1.2.643.5.1.13.13.12.2.11.724\", \"1.2.643.5.1.13.13.12.2.11.724\", \"1.2.643.5.1.13.13.12.2.11.724\", \"1.2.643.5.1.13.13.12.2.11.724\", \"1.2.643.5.1.13.13.12.2.11.724\"]}, {\"columnID\": \"depart\", \"columnHeader\": \"depart\", \"columnDtype\": \"int64\", \"columnData\": [11000100, 11000100, 11000100, 11000100, 11000100, 11000100, 11000100, 11000100, 11000100, 11000100, 11000100, 11000100, 11000100, 11000100, 11000100, 11000100, 11000100, 11000100, 11000100, 11000100, 11000100, 11000100, 11000100, 11000100, 11000100, 11000100, 11000100, 11000100, 11000100, 11000100, 11000100, 11000100, 11000100, 11000100, 11000100, 11000100, 11000100, 11000100, 11000100, 11000100, 11000100, 11000100, 11000100, 11000100, 11000100, 11000100, 11000100, 11000100, 11000100, 11000100, 11000100, 11000100, 11000100, 11000100, 11000100, 11000100, 11000100, 11000100, 11000100, 11000100, 11000100, 11000100, 11000100, 11000100, 11000100, 11000100, 11000100, 11000100, 11000100, 11000100, 11000100, 11000100, 11000100, 11000100, 11000100, 11000100, 11000100, 11000100, 11000100, 11000100, 11000100, 11000100, 11000100, 11000100, 11000100, 11000100, 11000100, 11000100, 11000100, 11000100, 11000100, 11000100, 11000100, 11000100, 11000100, 11000100, 11000100, 11000100, 11000100, 11000100, 11000100, 11000100, 11000100, 11000100, 11000100, 11000100, 11000100, 11000100, 11000100, 11000100, 11000100, 11000100, 11000100, 11000100, 11000100, 11000100, 11000100, 11000100, 11000100, 11000100, 11000100, 11000100, 11000100, 11000100, 11000100, 11000100, 11000100, 11000100, 11000100, 11000100, 11000100, 11000100, 11000100, 11000100, 11000100, 11000100, 11000100, 11000100, 11000100, 11000100, 11000100, 11000100, 11000100, 11000100, 11000100, 11000100, 11000100, 11000100, 11000100, 11000100, 11000100, 11000100, 11000100, 11000100, 11000100, 11000100, 11000100, 11000100, 11000100, 11000100, 11000100, 11000100, 11000100, 11000100, 11000100, 11000100, 11000100, 11000100, 11000100, 11000100, 11000100, 11000100, 11000100, 11000100, 11000100, 11000100, 11000100, 11000100, 11000100, 11000100, 11000100, 11000100, 11000100, 11000100, 11000100, 11000100, 11000100, 11000100, 11000100, 11000100, 11000100, 11000100, 11000100, 11000100, 11000100, 11000100, 11000100, 11000100, 11000100, 11000100, 11000100, 11000100, 11000100, 11000100, 11000100, 11000100, 11000100, 11000100, 11000100, 11000100, 11000100, 11000100, 11000100, 11000100, 11000100, 11000100, 11000100, 11000100, 11000100, 11000100, 11000100, 11000100, 11000100, 11000100, 11000100, 11000100, 11000100, 11000100, 11000100, 11000100, 11000100, 11000100, 11000100, 11000100, 11000100, 11000100, 11000100, 11000100, 11000100, 11000100, 11000100, 11000100, 11000100, 11000100, 11000100, 11000100, 11000100, 11000100, 11000100, 11000100, 11000100, 11000100, 11000100, 11000100, 11000100, 11000100, 11000100, 11000100, 11000100, 11000100, 11000100, 11000100, 11000100, 11000100, 11000100, 11000100, 11000100, 11000100, 11000100, 11000100, 11000100, 11000100, 11000100, 11000100, 11000100, 11000100, 11000100, 11000100, 11000100, 11000100, 11000100, 11000100, 11000100, 11000100, 11000100, 11000100, 11000100, 11000100, 11000100, 11000100, 11000100, 11000100, 11000100, 11000100, 11000100, 11000100, 11000100, 11000100, 11000100, 11000100, 11000100, 11000100, 11000100, 11000100, 11000100, 11000100, 11000100, 11000100, 11000100, 11000100, 11000100, 11000100, 11000100, 11000100, 11000100, 11000100, 11000100, 11000100, 11000100, 11000100, 11000100, 11000100, 11000100, 11000100, 11000100, 11000100, 11000100, 11000100, 11000100, 11000100, 11000100, 11000100, 11000100, 11000100, 11000100, 11000100, 11000100, 11000100, 11000100, 11000100, 11000100, 11000100, 11000100, 11000100, 11000100, 11000100, 11000100, 11000100, 11000100, 11000100, 11000100, 11000100, 11000100, 11000100, 11000100, 11000100, 11000100, 11000100, 11000100, 11000100, 11000100, 11000100, 11000100, 11000100, 11000100, 11000100, 11000100, 11000100, 11000100, 11000100, 11000100, 11000100, 11000100, 11000100, 11000100, 11000100, 11000100, 11000100, 11000100, 11000100, 11000100, 11000100, 11000100, 11000100, 11000100, 11000100, 11000100, 11000100, 11000100, 11000100, 11000100, 11000100, 11000100, 11000100, 11000100, 11000100, 11000100, 11000100, 11000100, 11000100, 11000100, 11000100, 11000100, 11000100, 11000100, 11000100, 11000100, 11000100, 11000100, 11000100, 11000100, 11000100, 11000100, 11000100, 11000100, 11000100, 11000100, 11000100, 11000100, 11000100, 11000100, 11000100, 11000100, 11000100, 11000100, 11000100, 11000100, 11000100, 11000100, 11000100, 11000100, 11000100, 11000100, 11000100, 11000100, 11000100, 11000100, 11000100, 11000100, 11000100, 11000100, 11000100, 11000100, 11000100, 11000100, 11000100, 11000100, 11000100, 11000100, 11000100, 11000100, 11000100, 11000100, 11000100, 11000100, 11000100, 11000100, 11000100, 11000100, 11000100, 11000100, 11000100, 11000100, 11000100, 11000100, 11000100, 11000100, 11000100, 11000100, 11000100, 11000100, 11000100, 11000100, 11000100, 11000100, 11000100, 11000100, 11000100, 11000100, 11000100, 11000100, 11000100, 11000100, 11000100, 11000100, 11000100, 11000100, 11000100, 11000100, 11000100, 11000100, 11000100, 11000100, 11000100, 11000100, 11000100, 11000100, 11000100, 11000100, 11000100, 11000100, 11000100, 11000100, 11000100, 11000100, 11000100, 11000100, 11000100, 11000100, 11000100, 11000100, 11000100, 11000100, 11000100, 11000100, 11000100, 11000100, 11000100, 11000100, 11000100, 11000100, 11000100, 11000100, 11000100, 11000100, 11000100, 11000100, 11000100, 11000100, 11000100, 11000100, 11000100, 11000100, 11000100, 11000100, 11000100, 11000100, 11000100, 11000100, 11000100, 11000100, 11000100, 11000100, 11000100, 11000100, 11000100, 11000100, 11000100, 11000100, 11000100, 11000100, 11000100, 11000100, 11000100, 11000100, 11000100, 11000100, 11000100, 11000100, 11000100, 11000100, 11000100, 11000100, 11000100, 11000100, 11000100, 11000100, 11000100, 11000100, 11000100, 11000100, 11000100, 11000100, 11000100, 11000100, 11000100, 11000100, 11000100, 11000100, 11000100, 11000100, 11000100, 11000100, 11000100, 11000100, 11000100, 11000100, 11000100, 11000100, 11000100, 11000100, 11000100, 11000100, 11000100, 11000100, 11000100, 11000100, 11000100, 11000100, 11000100, 11000100, 11000100, 11000100, 11000100, 11000100, 11000100, 11000100, 11000100, 11000100, 11000100, 11000100, 11000100, 11000100, 11000100, 11000100, 11000100, 11000100, 11000100, 11000100, 11000100, 11000100, 11000100, 11000100, 11000100, 11000100, 11000100, 11000100, 11000100, 11000100, 11000100, 11000100, 11000100, 11000100, 11000100, 11000100, 11000100, 11000100, 11000100, 11000100, 11000100, 11000100, 11000100, 11000100, 11000100, 11000100, 11000100, 11000100, 11000100, 11000100, 11000100, 11000100, 11000100, 11000100, 11000100, 11000100, 11000100, 11000100, 11000100, 11000100, 11000100, 11000100, 11000100, 11000100, 11000100, 11000100, 11000100, 11000100, 11000100, 11000100, 11000100, 11000100, 11000100, 11000100, 11000100, 11000100, 11000100, 11000100, 11000100, 11000100, 11000100, 11000100, 11000100, 11000100, 11000100, 11000100, 11000100, 11000100, 11000100, 11000100, 11000100, 11000100, 11000100, 11000100, 11000100, 11000100, 11000100, 11000100, 11000100, 11000100, 11000100, 11000100, 11000100, 11000100, 11000100, 11000100, 11000100, 11000100, 11000100, 11000100, 11000100, 11000100, 11000100, 11000100, 11000100, 11000100, 11000100, 11000100, 11000100, 11000100, 11000100, 11000100, 11000100, 11000100, 11000100, 11000100, 11000100, 11000100, 11000100, 11000100, 11000100, 11000100, 11000100, 11000100, 11000100, 11000100, 11000100, 11000100, 11000100, 11000100, 11000100, 11000100, 11000100, 11000100, 11000100, 11000100, 11000100, 11000100, 11000100, 11000100, 11000100, 11000100, 11000100, 11000100, 11000100, 11000100, 11000100, 11000100, 11000100, 11000100, 11000100, 11000100, 11000100, 11000100, 11000100, 11000100, 11000100, 11000100, 11000100, 11000100, 11000100, 11000100, 11000100, 11000100, 11000100, 11000100, 11000100, 11000100, 11000100, 11000100, 11000100, 11000100, 11000100, 11000100, 11000100, 11000100, 11000100, 11000100, 11000100, 11000100, 11000100, 11000100, 11000100, 11000100, 11000100, 11000100, 11000100, 11000100, 11000100, 11000100, 11000100, 11000100, 11000100, 11000100, 11000100, 11000100, 11000100, 11000100, 11000100, 11000100, 11000100, 11000100, 11000100, 11000100, 11000100, 11000100, 11000100, 11000100, 11000100, 11000100, 11000100, 11000100, 11000100, 11000100, 11000100, 11000100, 11000100, 11000100, 11000100, 11000100, 11000100, 11000100, 11000100, 11000100, 11000100, 11000100, 11000100, 11000100, 11000100, 11000100, 11000100, 11000100, 11000100, 11000100, 11000100, 11000100, 11000100, 11000100, 11000100, 11000100, 11000100, 11000100, 11000100, 11000100, 11000100, 11000100, 11000100, 11000100, 11000100, 11000100, 11000100, 11000100, 11000100, 11000100, 11000100, 11000100, 11000100, 11000100, 11000100, 11000100, 11000100, 11000100, 11000100, 11000100, 11000100, 11000100, 11000100, 11000100, 11000100, 11000100, 11000100, 11000100, 11000100, 11000100, 11000100, 11000100, 11000100, 11000100, 11000100, 11000100, 11000100, 11000100, 11000100, 11000100, 11000100, 11000100, 11000100, 11000100, 11000100, 11000100, 11000100, 11000100, 11000100, 11000100, 11000100, 11000100, 11000100, 11000100, 11000100, 11000100, 11000100, 11000100, 11000100, 11000100, 11000100, 11000100, 11000100, 11000100, 11000100, 11000100, 11000100, 11000100, 11000100, 11000100, 11000100, 11000100, 11000100, 11000100, 11000100, 11000100, 11000100, 11000100, 11000100, 11000100, 11000100, 11000100, 11000100, 11000100, 11000100, 11000100, 11000100, 11000100, 11000100, 11000100, 11000100, 11000100, 11000100, 11000100, 11000100, 11000100, 11000100, 11000100, 11000100, 11000100, 11000100, 11000100, 11000100, 11000100, 11000100, 11000100, 11000100, 11000100, 11000100, 11000100, 11000100, 11000100, 11000100, 11000100, 11000100, 11000100, 11000100, 11000100, 11000100, 11000100, 11000100, 11000100, 11000100, 11000100, 11000100, 11000100, 11000100, 11000100, 11000100, 11000100, 11000100, 11000100, 11000100, 11000100, 11000100, 11000100, 11000100, 11000100, 11000100, 11000100, 11000100, 11000100, 11000100, 11000100, 11000100, 11000100, 11000100, 11000100, 11000100, 11000100, 11000100, 11000100, 11000100, 11000100, 11000100, 11000100, 11000100, 11000100, 11000100, 11000100, 11000100, 11000100, 11000100, 11000100, 11000100, 11000100, 11000100, 11000100, 11000100, 11000100, 11000100, 11000100, 11000100, 11000100, 11000100, 11000100, 11000100, 11000100, 11000100, 11000100, 11000100, 11000100, 11000100, 11000100, 11000100, 11000100, 11000100, 11000100, 11000100, 11000100, 11000100, 11000100, 11000100, 11000100, 11000100, 11000100, 11000100, 11000100, 11000100, 11000100, 11000100, 11000100, 11000100, 11000100, 11000100, 11000100, 11000100, 11000100, 11000100, 11000100, 11000100, 11000100, 11000100, 11000100, 11000100, 11000100, 11000100, 11000100, 11000100, 11000100, 11000100, 11000100, 11000100, 11000100, 11000100, 11000100, 11000100, 11000100, 11000100, 11000100, 11000100, 11000100, 11000100, 11000100, 11000100, 11000100, 11000100, 11000100, 11000100, 11000100, 11000100, 11000100, 11000100, 11000100, 11000100, 11000100, 11000100, 11000100, 11000100, 11000100, 11000100, 11000100, 11000100, 11000100, 11000100, 11000100, 11000100, 11000100, 11000100, 11000100, 11000100, 11000100, 11000100, 11000100, 11000100, 11000100, 11000100, 11000100, 11000100, 11000100, 11000100, 11000100, 11000100, 11000100, 11000100, 11000100, 11000100, 11000100, 11000100, 11000100, 11000100, 11000100, 11000100, 11000100, 11000100, 11000100, 11000100, 11000100, 11000100, 11000100, 11000100, 11000100, 11000100, 11000100, 11000100, 11000100, 11000100, 11000100, 11000100, 11000100, 11000100, 11000100, 11000100, 11000100, 11000100, 11000100, 11000100, 11000100, 11000100, 11000100, 11000100, 11000100, 11000100, 11000100, 11000100, 11000100, 11000100, 11000100, 11000100, 11000100, 11000100, 11000100, 11000100, 11000100, 11000100, 11000100, 11000100, 11000100, 11000100, 11000100, 11000100, 11000100, 11000100, 11000100, 11000100, 11000100, 11000100, 11000100, 11000100, 11000100, 11000100, 11000100, 11000100, 11000100, 11000100, 11000100, 11000100, 11000100, 11000100, 11000100, 11000100, 11000100, 11000100, 11000100, 11000100, 11000100, 11000100, 11000100, 11000100, 11000100, 11000100, 11000100, 11000100, 11000100, 11000100, 11000100, 11000100, 11000100, 11000100, 11000100, 11000100, 11000100, 11000100, 11000100, 11000100, 11000100, 11000100, 11000100, 11000100, 11000100, 11000100, 11000100, 11000100, 11000100, 11000100, 11000100, 11000100, 11000100, 11000100, 11000100, 11000100, 11000100, 11000100, 11000100, 11000100, 11000100, 11000100, 11000100, 11000100, 11000100, 11000100, 11000100, 11000100, 11000100, 11000100, 11000100, 11000100, 11000100, 11000100, 11000100, 11000100, 11000100, 11000100, 11000100, 11000100, 11000100, 11000100, 11000100, 11000100, 11000100, 11000100, 11000100, 11000100, 11000100, 11000100, 11000100, 11000100, 11000100, 11000100, 11000100, 11000100, 11000100, 11000100, 11000100, 11000100, 11000100, 11000100, 11000100, 11000100, 11000100, 11000100, 11000100, 11000100, 11000100, 11000100, 11000100, 11000100, 11000100, 11000100, 11000100, 11000100, 11000100, 11000100, 11000100, 11000100, 11000100, 11000100, 11000100, 11000100, 11000100, 11000100, 11000100, 11000100, 11000100, 11000100, 11000100, 11000100, 11000100, 11000100, 11000100, 11000100, 11000100, 11000100, 11000100, 11000100, 11000100, 11000100, 11000100, 11000100, 11000100, 11000100, 11000100, 11000100, 11000100, 11000100, 11000100, 11000100, 11000100, 11000100, 11000100, 11000100, 11000100, 11000100, 11000100, 11000100, 11000100, 11000100, 11000100, 11000100, 11000100, 11000100, 11000100, 11000100, 11000100, 11000100, 11000100, 11000100, 11000100, 11000100, 11000100, 11000100, 11000100, 11000100, 11000100, 11000100, 11000100, 11000100, 11000100, 11000100, 11000100, 11000100, 11000100, 11000100, 11000100, 11000100, 11000100, 11000100, 11000100, 11000100, 11000100, 11000100, 11000100, 11000100, 11000100, 11000100, 11000100, 11000100, 11000100, 11000100, 11000100, 11000100, 11000100, 11000100, 11000100, 11000100, 11000100, 11000100, 11000100, 11000100, 11000100, 11000100, 11000100, 11000100, 11000100, 11000100, 11000100, 11000100, 11000100, 11000100, 11000100, 11000100, 11000100, 11000100, 11000100, 11000100, 11000100, 11000100, 11000100, 11000100, 11000100, 11000100, 11000100, 11000100, 11000100, 11000100, 11000100, 11000100, 11000100, 11000100, 11000100, 11000100, 11000100, 11000100, 11000100, 11000100, 11000100, 11000100, 11000100, 11000100, 11000100, 11000100, 11000100, 11000100, 11000100, 11000100, 11000100, 11000100, 11000100, 11000100, 11000100, 11000100, 11000100, 11000100, 11000100, 11000100, 11000100, 11000100, 11000100, 11000100, 11000100, 11000100, 11000100, 11000100, 11000100, 11000100, 11000100, 11000100, 11000100, 11000100, 11000100, 11000100, 11000100, 11000100, 11000100, 11000100, 11000100, 11000100, 11000100, 11000100, 11000100, 11000100, 11000100, 11000100, 11000100, 11000100, 11000100, 11000100, 11000100, 11000100, 11000100, 11000100, 11000100, 11000100, 11000100, 11000100, 11000100, 11000100]}, {\"columnID\": \"branch\", \"columnHeader\": \"branch\", \"columnDtype\": \"float64\", \"columnData\": [0.0, 0.0, 0.0, 0.0, 0.0, 0.0, 0.0, 0.0, 0.0, 0.0, 0.0, 0.0, 0.0, 0.0, 0.0, 0.0, 0.0, 0.0, 0.0, 0.0, 0.0, 0.0, 0.0, 0.0, 0.0, 0.0, 0.0, 0.0, 0.0, 0.0, 0.0, 0.0, 0.0, 0.0, 0.0, 0.0, 0.0, 0.0, 0.0, 0.0, 0.0, 0.0, 0.0, 0.0, 0.0, 0.0, 0.0, 0.0, 0.0, 0.0, 0.0, 0.0, 0.0, 0.0, 0.0, 0.0, 0.0, 0.0, 0.0, 0.0, 0.0, 0.0, 0.0, 0.0, 0.0, 0.0, 0.0, 0.0, 0.0, 0.0, 0.0, 0.0, 0.0, 0.0, 0.0, 0.0, 0.0, 0.0, 0.0, 0.0, 0.0, 0.0, 0.0, 0.0, 0.0, 0.0, 0.0, 0.0, 0.0, 0.0, 0.0, 0.0, 0.0, 0.0, 0.0, 0.0, 0.0, 0.0, 0.0, 0.0, 0.0, 0.0, 0.0, 0.0, 0.0, 0.0, 0.0, 0.0, 0.0, 0.0, 0.0, 0.0, 0.0, 0.0, 0.0, 0.0, 0.0, 0.0, 0.0, 0.0, 0.0, 0.0, 0.0, 0.0, 0.0, 0.0, 0.0, 0.0, 0.0, 0.0, 0.0, 0.0, 0.0, 0.0, 0.0, 0.0, 0.0, 0.0, 0.0, 0.0, 0.0, 0.0, 0.0, 0.0, 0.0, 0.0, 0.0, 0.0, 0.0, 0.0, 0.0, 0.0, 0.0, 0.0, 0.0, 0.0, 0.0, 0.0, 0.0, 0.0, 0.0, 0.0, 0.0, 0.0, 0.0, 0.0, 0.0, 0.0, 0.0, 0.0, 0.0, 0.0, 0.0, 0.0, 0.0, 0.0, 0.0, 0.0, 0.0, 0.0, 0.0, 0.0, 0.0, 0.0, 0.0, 0.0, 0.0, 0.0, 0.0, 0.0, 0.0, 0.0, 0.0, 0.0, 0.0, 0.0, 0.0, 0.0, 0.0, 0.0, 0.0, 0.0, 0.0, 0.0, 0.0, 0.0, 0.0, 0.0, 0.0, 0.0, 0.0, 0.0, 0.0, 0.0, 0.0, 0.0, 0.0, 0.0, 0.0, 0.0, 0.0, 0.0, 0.0, 0.0, 0.0, 0.0, 0.0, 0.0, 0.0, 0.0, 0.0, 0.0, 0.0, 0.0, 0.0, 0.0, 0.0, 0.0, 0.0, 0.0, 0.0, 0.0, 0.0, 0.0, 0.0, 0.0, 0.0, 0.0, 0.0, 0.0, 0.0, 0.0, 0.0, 0.0, 0.0, 0.0, 0.0, 0.0, 0.0, 0.0, 0.0, 0.0, 0.0, 0.0, 0.0, 0.0, 0.0, 0.0, 0.0, 0.0, 0.0, 0.0, 0.0, 0.0, 0.0, 0.0, 0.0, 0.0, 0.0, 0.0, 0.0, 0.0, 0.0, 0.0, 0.0, 0.0, 0.0, 0.0, 0.0, 0.0, 0.0, 0.0, 0.0, 0.0, 0.0, 0.0, 0.0, 0.0, 0.0, 0.0, 0.0, 0.0, 0.0, 0.0, 0.0, 0.0, 0.0, 0.0, 0.0, 0.0, 0.0, 0.0, 0.0, 0.0, 0.0, 0.0, 0.0, 0.0, 0.0, 0.0, 0.0, 0.0, 0.0, 0.0, 0.0, 0.0, 0.0, 0.0, 0.0, 0.0, 0.0, 0.0, 0.0, 0.0, 0.0, 0.0, 0.0, 0.0, 0.0, 0.0, 0.0, 0.0, 0.0, 0.0, 0.0, 0.0, 0.0, 0.0, 0.0, 0.0, 0.0, 0.0, 0.0, 0.0, 0.0, 0.0, 0.0, 0.0, 0.0, 0.0, 0.0, 0.0, 0.0, 0.0, 0.0, 0.0, 0.0, 0.0, 0.0, 0.0, 0.0, 0.0, 0.0, 0.0, 0.0, 0.0, 0.0, 0.0, 0.0, 0.0, 0.0, 0.0, 0.0, 0.0, 0.0, 0.0, 0.0, 0.0, 0.0, 0.0, 0.0, 0.0, 0.0, 0.0, 0.0, 0.0, 0.0, 0.0, 0.0, 0.0, 0.0, 0.0, 0.0, 0.0, 0.0, 0.0, 0.0, 0.0, 0.0, 0.0, 0.0, 0.0, 0.0, 0.0, 0.0, 0.0, 0.0, 0.0, 0.0, 0.0, 0.0, 0.0, 0.0, 0.0, 0.0, 0.0, 0.0, 0.0, 0.0, 0.0, 0.0, 0.0, 0.0, 0.0, 0.0, 0.0, 0.0, 0.0, 0.0, 0.0, 0.0, 0.0, 0.0, 0.0, 0.0, 0.0, 0.0, 0.0, 0.0, 0.0, 0.0, 0.0, 0.0, 0.0, 0.0, 0.0, 0.0, 0.0, 0.0, 0.0, 0.0, 0.0, 0.0, 0.0, 0.0, 0.0, 0.0, 0.0, 0.0, 0.0, 0.0, 0.0, 0.0, 0.0, 0.0, 0.0, 0.0, 0.0, 0.0, 0.0, 0.0, 0.0, 0.0, 0.0, 0.0, 0.0, 0.0, 0.0, 0.0, 0.0, 0.0, 0.0, 0.0, 0.0, 0.0, 0.0, 0.0, 0.0, 0.0, 0.0, 0.0, 0.0, 0.0, 0.0, 0.0, 0.0, 0.0, 0.0, 0.0, 0.0, 0.0, 0.0, 0.0, 0.0, 0.0, 0.0, 0.0, 0.0, 0.0, 0.0, 0.0, 0.0, 0.0, 0.0, 0.0, 0.0, 0.0, 0.0, 0.0, 0.0, 0.0, 0.0, 0.0, 0.0, 0.0, 0.0, 0.0, 0.0, 0.0, 0.0, 0.0, 0.0, 0.0, 0.0, 0.0, 0.0, 0.0, 0.0, 0.0, 0.0, 0.0, 0.0, 0.0, 0.0, 0.0, 0.0, 0.0, 0.0, 0.0, 0.0, 0.0, 0.0, 0.0, 0.0, 0.0, 0.0, 0.0, 0.0, 0.0, 0.0, 0.0, 0.0, 0.0, 0.0, 0.0, 0.0, 0.0, 0.0, 0.0, 0.0, 0.0, 0.0, 0.0, 0.0, 0.0, 0.0, 0.0, 0.0, 0.0, 0.0, 0.0, 0.0, 0.0, 0.0, 0.0, 0.0, 0.0, 0.0, 0.0, 0.0, 0.0, 0.0, 0.0, 0.0, 0.0, 0.0, 0.0, 0.0, 0.0, 0.0, 0.0, 0.0, 0.0, 0.0, 0.0, 0.0, 0.0, 0.0, 0.0, 0.0, 0.0, 0.0, 0.0, 0.0, 0.0, 0.0, 0.0, 0.0, 0.0, 0.0, 0.0, 0.0, 0.0, 0.0, 0.0, 0.0, 0.0, 0.0, 0.0, 0.0, 0.0, 0.0, 0.0, 0.0, 0.0, 0.0, 0.0, 0.0, 0.0, 0.0, 0.0, 0.0, 0.0, 0.0, 0.0, 0.0, 0.0, 0.0, 0.0, 0.0, 0.0, 0.0, 0.0, 0.0, 0.0, 0.0, 0.0, 0.0, 0.0, 0.0, 0.0, 0.0, 0.0, 0.0, 0.0, 0.0, 0.0, 0.0, 0.0, 0.0, 0.0, 0.0, 0.0, 0.0, 0.0, 0.0, 0.0, 0.0, 0.0, 0.0, 0.0, 0.0, 0.0, 0.0, 0.0, 0.0, 0.0, 0.0, 0.0, 0.0, 0.0, 0.0, 0.0, 0.0, 0.0, 0.0, 0.0, 0.0, 0.0, 0.0, 0.0, 0.0, 0.0, 0.0, 0.0, 0.0, 0.0, 0.0, 0.0, 0.0, 0.0, 0.0, 0.0, 0.0, 0.0, 0.0, 0.0, 0.0, 0.0, 0.0, 0.0, 0.0, 0.0, 0.0, 0.0, 0.0, 0.0, 0.0, 0.0, 0.0, 0.0, 0.0, 0.0, 0.0, 0.0, 0.0, 0.0, 0.0, 0.0, 0.0, 0.0, 0.0, 0.0, 0.0, 0.0, 0.0, 0.0, 0.0, 0.0, 0.0, 0.0, 0.0, 0.0, 0.0, 0.0, 0.0, 0.0, 0.0, 0.0, 0.0, 0.0, 0.0, 0.0, 0.0, 0.0, 0.0, 0.0, 0.0, 0.0, 0.0, 0.0, 0.0, 0.0, 0.0, 0.0, 0.0, 0.0, 0.0, 0.0, 0.0, 0.0, 0.0, 0.0, 0.0, 0.0, 0.0, 0.0, 0.0, 0.0, 0.0, 0.0, 0.0, 0.0, 0.0, 0.0, 0.0, 0.0, 0.0, 0.0, 0.0, 0.0, 0.0, 0.0, 0.0, 0.0, 0.0, 0.0, 0.0, 0.0, 0.0, 0.0, 0.0, 0.0, 0.0, 0.0, 0.0, 0.0, 0.0, 0.0, 0.0, 0.0, 0.0, 0.0, 0.0, 0.0, 0.0, 0.0, 0.0, 0.0, 0.0, 0.0, 0.0, 0.0, 0.0, 0.0, 0.0, 0.0, 0.0, 0.0, 0.0, 0.0, 0.0, 0.0, 0.0, 0.0, 0.0, 0.0, 0.0, 0.0, 0.0, 0.0, 0.0, 0.0, 0.0, 0.0, 0.0, 0.0, 0.0, 0.0, 0.0, 0.0, 0.0, 0.0, 0.0, 0.0, 0.0, 0.0, 0.0, 0.0, 0.0, 0.0, 0.0, 0.0, 0.0, 0.0, 0.0, 0.0, 0.0, 0.0, 0.0, 0.0, 0.0, 0.0, 0.0, 0.0, 0.0, 0.0, 0.0, 0.0, 0.0, 0.0, 0.0, 0.0, 0.0, 0.0, 0.0, 0.0, 0.0, 0.0, 0.0, 0.0, 0.0, 0.0, 0.0, 0.0, 0.0, 0.0, 0.0, 0.0, 0.0, 0.0, 0.0, 0.0, 0.0, 0.0, 0.0, 0.0, 0.0, 0.0, 0.0, 0.0, 0.0, 0.0, 0.0, 0.0, 0.0, 0.0, 0.0, 0.0, 0.0, 0.0, 0.0, 0.0, 0.0, 0.0, 0.0, 0.0, 0.0, 0.0, 0.0, 0.0, 0.0, 0.0, 0.0, 0.0, 0.0, 0.0, 0.0, 0.0, 0.0, 0.0, 0.0, 0.0, 0.0, 0.0, 0.0, 0.0, 0.0, 0.0, 0.0, 0.0, 0.0, 0.0, 0.0, 0.0, 0.0, 0.0, 0.0, 0.0, 0.0, 0.0, 0.0, 0.0, 0.0, 0.0, 0.0, 0.0, 0.0, 0.0, 0.0, 0.0, 0.0, 0.0, 0.0, 0.0, 0.0, 0.0, 0.0, 0.0, 0.0, 0.0, 0.0, 0.0, 0.0, 0.0, 0.0, 0.0, 0.0, 0.0, 0.0, 0.0, 0.0, 0.0, 0.0, 0.0, 0.0, 0.0, 0.0, 0.0, 0.0, 0.0, 0.0, 0.0, 0.0, 0.0, 0.0, 0.0, 0.0, 0.0, 0.0, 0.0, 0.0, 0.0, 0.0, 0.0, 0.0, 0.0, 0.0, 0.0, 0.0, 0.0, 0.0, 0.0, 0.0, 0.0, 0.0, 0.0, 0.0, 0.0, 0.0, 0.0, 0.0, 0.0, 0.0, 0.0, 0.0, 0.0, 0.0, 0.0, 0.0, 0.0, 0.0, 0.0, 0.0, 0.0, 0.0, 0.0, 0.0, 0.0, 0.0, 0.0, 0.0, 0.0, 0.0, 0.0, 0.0, 0.0, 0.0, 0.0, 0.0, 0.0, 0.0, 0.0, 0.0, 0.0, 0.0, 0.0, 0.0, 0.0, 0.0, 0.0, 0.0, 0.0, 0.0, 0.0, 0.0, 0.0, 0.0, 0.0, 0.0, 0.0, 0.0, 0.0, 0.0, 0.0, 0.0, 0.0, 0.0, 0.0, 0.0, 0.0, 0.0, 0.0, 0.0, 0.0, 0.0, 0.0, 0.0, 0.0, 0.0, 0.0, 0.0, 0.0, 0.0, 0.0, 0.0, 0.0, 0.0, 0.0, 0.0, 0.0, 0.0, 0.0, 0.0, 0.0, 0.0, 0.0, 0.0, 0.0, 0.0, 0.0, 0.0, 0.0, 0.0, 0.0, 0.0, 0.0, 0.0, 0.0, 0.0, 0.0, 0.0, 0.0, 0.0, 0.0, 0.0, 0.0, 0.0, 0.0, 0.0, 0.0, 0.0, 0.0, 0.0, 0.0, 0.0, 0.0, 0.0, 0.0, 0.0, 0.0, 0.0, 0.0, 0.0, 0.0, 0.0, 0.0, 0.0, 0.0, 0.0, 0.0, 0.0, 0.0, 0.0, 0.0, 0.0, 0.0, 0.0, 0.0, 0.0, 0.0, 0.0, 0.0, 0.0, 0.0, 0.0, 0.0, 0.0, 0.0, 0.0, 0.0, 0.0, 0.0, 0.0, 0.0, 0.0, 0.0, 0.0, 0.0, 0.0, 0.0, 0.0, 0.0, 0.0, 0.0, 0.0, 0.0, 0.0, 0.0, 0.0, 0.0, 0.0, 0.0, 0.0, 0.0, 0.0, 0.0, 0.0, 0.0, 0.0, 0.0, 0.0, 0.0, 0.0, 0.0, 0.0, 0.0, 0.0, 0.0, 0.0, 0.0, 0.0, 0.0, 0.0, 0.0, 0.0, 0.0, 0.0, 0.0, 0.0, 0.0, 0.0, 0.0, 0.0, 0.0, 0.0, 0.0, 0.0, 0.0, 0.0, 0.0, 0.0, 0.0, 0.0, 0.0, 0.0, 0.0, 0.0, 0.0, 0.0, 0.0, 0.0, 0.0, 0.0, 0.0, 0.0, 0.0, 0.0, 0.0, 0.0, 0.0, 0.0, 0.0, 0.0, 0.0, 0.0, 0.0, 0.0, 0.0, 0.0, 0.0, 0.0, 0.0, 0.0, 0.0, 0.0, 0.0, 0.0, 0.0, 0.0, 0.0, 0.0, 0.0, 0.0, 0.0, 0.0, 0.0, 0.0, 0.0, 0.0, 0.0, 0.0, 0.0, 0.0, 0.0, 0.0, 0.0, 0.0, 0.0, 0.0, 0.0, 0.0, 0.0, 0.0, 0.0, 0.0, 0.0, 0.0, 0.0, 0.0, 0.0, 0.0, 0.0, 0.0, 0.0, 0.0, 0.0, 0.0, 0.0, 0.0, 0.0, 0.0, 0.0, 0.0, 0.0, 0.0, 0.0, 0.0, 0.0, 0.0, 0.0, 0.0, 0.0, 0.0, 0.0, 0.0, 0.0, 0.0, 0.0, 0.0, 0.0, 0.0, 0.0, 0.0, 0.0, 0.0, 0.0, 0.0, 0.0, 0.0, 0.0, 0.0, 0.0, 0.0, 0.0, 0.0, 0.0, 0.0, 0.0, 0.0, 0.0, 0.0, 0.0, 0.0, 0.0, 0.0, 0.0, 0.0, 0.0, 0.0, 0.0, 0.0, 0.0, 0.0, 0.0, 0.0, 0.0, 0.0, 0.0, 0.0, 0.0, 0.0, 0.0, 0.0, 0.0, 0.0, 0.0, 0.0, 0.0, 0.0, 0.0, 0.0, 0.0, 0.0, 0.0, 0.0, 0.0, 0.0, 0.0, 0.0, 0.0, 0.0, 0.0, 0.0, 0.0, 0.0, 0.0, 0.0, 0.0, 0.0, 0.0, 0.0, 0.0, 0.0, 0.0, 0.0, 0.0, 0.0, 0.0, 0.0, 0.0, 0.0, 0.0, 0.0, 0.0, 0.0, 0.0, 0.0, 0.0, 0.0, 0.0, 0.0, 0.0, 0.0, 0.0, 0.0, 0.0, 0.0, 0.0, 0.0, 0.0, 0.0, 0.0, 0.0, 0.0, 0.0, 0.0, 0.0, 0.0, 0.0, 0.0, 0.0, 0.0, 0.0, 0.0, 0.0, 0.0, 0.0, 0.0, 0.0, 0.0, 0.0, 0.0, 0.0, 0.0, 0.0, 0.0, 0.0, 0.0, 0.0, 0.0, 0.0, 0.0, 0.0, 0.0, 0.0, 0.0, 0.0, 0.0, 0.0]}, {\"columnID\": \"doctor_specialty\", \"columnHeader\": \"doctor_specialty\", \"columnDtype\": \"int64\", \"columnData\": [2, 2, 2, 2, 2, 2, 2, 2, 2, 2, 2, 2, 2, 2, 2, 2, 2, 2, 2, 2, 2, 2, 2, 2, 2, 2, 2, 2, 2, 2, 2, 2, 2, 2, 2, 2, 2, 2, 2, 2, 2, 2, 2, 2, 2, 2, 2, 2, 2, 2, 2, 2, 2, 2, 2, 2, 2, 2, 2, 2, 2, 2, 2, 2, 2, 2, 2, 2, 2, 2, 2, 2, 2, 2, 2, 2, 2, 2, 2, 2, 2, 2, 2, 2, 2, 2, 2, 2, 2, 2, 2, 2, 2, 2, 2, 2, 2, 2, 2, 2, 2, 2, 2, 2, 2, 2, 2, 2, 2, 2, 2, 2, 2, 2, 2, 2, 2, 2, 2, 2, 2, 2, 2, 2, 2, 2, 2, 2, 2, 2, 2, 2, 2, 2, 2, 2, 2, 2, 2, 2, 2, 2, 2, 2, 2, 2, 2, 2, 2, 2, 2, 2, 2, 2, 2, 2, 2, 2, 2, 2, 2, 2, 2, 2, 2, 2, 2, 17, 17, 17, 17, 17, 17, 17, 17, 17, 17, 17, 17, 17, 17, 17, 17, 17, 17, 17, 17, 17, 17, 17, 17, 17, 17, 17, 17, 17, 35, 35, 35, 35, 35, 35, 35, 35, 35, 35, 35, 35, 35, 35, 35, 35, 35, 35, 35, 35, 35, 35, 35, 35, 35, 35, 35, 35, 35, 35, 35, 35, 35, 35, 35, 35, 35, 35, 35, 35, 35, 35, 35, 35, 35, 35, 35, 35, 35, 35, 35, 35, 35, 35, 35, 35, 35, 35, 35, 35, 35, 35, 35, 35, 35, 35, 35, 35, 35, 35, 35, 35, 35, 35, 35, 35, 35, 35, 35, 35, 35, 35, 35, 35, 35, 35, 35, 35, 35, 35, 35, 35, 35, 35, 35, 35, 35, 35, 35, 35, 35, 35, 35, 35, 35, 35, 35, 35, 35, 35, 35, 35, 35, 41, 41, 41, 41, 41, 41, 41, 41, 41, 41, 41, 41, 41, 41, 41, 41, 41, 41, 41, 41, 41, 41, 41, 41, 41, 41, 41, 41, 41, 41, 41, 41, 41, 41, 41, 41, 41, 45, 45, 45, 45, 45, 45, 45, 45, 45, 45, 45, 45, 45, 45, 45, 45, 45, 45, 45, 45, 45, 45, 45, 45, 45, 45, 45, 45, 45, 45, 45, 45, 45, 45, 45, 45, 45, 45, 45, 45, 45, 45, 45, 45, 45, 46, 46, 46, 46, 46, 46, 46, 46, 46, 46, 46, 46, 46, 46, 46, 46, 46, 46, 46, 46, 46, 46, 46, 46, 46, 46, 46, 46, 46, 46, 46, 46, 46, 46, 46, 46, 46, 46, 46, 46, 46, 46, 46, 46, 46, 46, 46, 46, 46, 46, 46, 46, 46, 46, 46, 46, 46, 46, 46, 46, 46, 46, 46, 46, 46, 46, 46, 46, 46, 46, 46, 46, 46, 46, 46, 46, 46, 46, 46, 46, 46, 46, 46, 46, 46, 46, 46, 46, 46, 46, 46, 46, 46, 46, 46, 46, 46, 46, 46, 46, 46, 46, 49, 49, 49, 49, 49, 49, 49, 49, 49, 49, 49, 49, 49, 49, 49, 49, 49, 49, 49, 49, 49, 49, 49, 49, 49, 49, 49, 49, 49, 49, 49, 49, 49, 49, 49, 49, 49, 49, 49, 49, 49, 49, 49, 49, 49, 49, 49, 49, 49, 49, 49, 49, 49, 49, 49, 49, 49, 49, 49, 49, 49, 49, 49, 49, 49, 49, 49, 49, 49, 49, 49, 49, 49, 49, 49, 49, 49, 49, 49, 49, 49, 49, 49, 49, 49, 49, 49, 49, 49, 49, 49, 49, 49, 49, 49, 49, 49, 49, 49, 49, 49, 49, 49, 49, 49, 49, 49, 49, 49, 49, 49, 49, 49, 49, 49, 49, 49, 49, 49, 49, 49, 49, 49, 49, 49, 49, 49, 49, 49, 49, 49, 49, 49, 49, 49, 49, 49, 49, 49, 49, 49, 49, 49, 49, 49, 49, 49, 49, 49, 49, 49, 49, 49, 49, 49, 49, 49, 49, 49, 49, 49, 49, 49, 49, 49, 49, 49, 49, 49, 49, 49, 49, 49, 49, 49, 49, 49, 49, 49, 49, 49, 49, 49, 49, 49, 49, 49, 49, 49, 49, 49, 49, 49, 49, 49, 49, 49, 49, 49, 49, 49, 49, 49, 49, 49, 49, 49, 49, 49, 49, 49, 49, 49, 49, 49, 49, 49, 49, 49, 49, 49, 49, 49, 49, 49, 49, 49, 49, 49, 49, 49, 49, 49, 49, 49, 49, 49, 49, 49, 49, 49, 49, 49, 49, 49, 49, 49, 49, 49, 49, 49, 49, 49, 49, 49, 49, 49, 49, 49, 49, 49, 49, 49, 49, 49, 49, 49, 49, 49, 49, 49, 49, 49, 49, 49, 49, 49, 49, 49, 49, 49, 49, 49, 49, 49, 49, 49, 49, 49, 49, 49, 49, 49, 49, 49, 49, 49, 49, 49, 49, 49, 49, 49, 49, 49, 49, 49, 49, 49, 49, 49, 49, 49, 49, 49, 49, 49, 49, 49, 76, 76, 76, 76, 76, 76, 76, 76, 76, 76, 76, 76, 76, 76, 76, 76, 76, 76, 76, 76, 76, 76, 76, 76, 76, 76, 76, 76, 76, 76, 76, 76, 76, 76, 76, 76, 76, 76, 76, 76, 76, 76, 76, 76, 76, 76, 76, 76, 76, 76, 76, 76, 76, 76, 76, 76, 76, 76, 76, 76, 76, 76, 76, 76, 76, 76, 76, 76, 76, 76, 76, 76, 76, 76, 76, 76, 76, 76, 76, 76, 76, 76, 76, 76, 76, 76, 76, 76, 76, 76, 76, 76, 76, 76, 76, 76, 76, 76, 76, 76, 76, 76, 76, 76, 76, 76, 76, 76, 76, 76, 76, 76, 76, 76, 76, 76, 76, 76, 76, 76, 76, 76, 76, 76, 76, 76, 76, 76, 76, 76, 76, 76, 76, 76, 76, 76, 76, 76, 76, 76, 76, 76, 76, 76, 76, 76, 76, 76, 76, 76, 76, 76, 76, 76, 76, 76, 76, 76, 76, 76, 76, 76, 76, 76, 76, 76, 76, 76, 76, 76, 76, 76, 76, 76, 76, 76, 76, 76, 76, 76, 76, 76, 76, 76, 76, 76, 76, 76, 76, 76, 76, 76, 76, 76, 76, 76, 76, 76, 76, 76, 76, 76, 76, 76, 76, 76, 76, 76, 76, 76, 76, 76, 76, 76, 76, 76, 76, 76, 76, 76, 76, 76, 76, 76, 76, 76, 76, 76, 76, 76, 76, 76, 76, 76, 76, 76, 76, 76, 76, 76, 76, 76, 76, 76, 76, 76, 76, 76, 76, 76, 76, 76, 76, 76, 76, 76, 76, 76, 76, 76, 76, 76, 76, 76, 76, 76, 76, 76, 76, 76, 76, 76, 76, 76, 76, 76, 76, 76, 76, 76, 76, 76, 76, 76, 76, 76, 76, 76, 76, 76, 76, 76, 76, 76, 76, 76, 76, 76, 76, 76, 76, 76, 76, 76, 76, 76, 76, 76, 76, 76, 76, 76, 76, 76, 76, 76, 76, 76, 76, 76, 76, 76, 76, 76, 76, 76, 76, 76, 76, 76, 76, 76, 76, 76, 76, 76, 76, 76, 76, 76, 76, 76, 76, 76, 76, 76, 76, 76, 76, 76, 76, 76, 76, 76, 76, 76, 76, 76, 76, 76, 76, 76, 76, 76, 76, 76, 76, 76, 76, 76, 76, 76, 76, 76, 76, 76, 76, 76, 76, 76, 76, 76, 76, 76, 76, 76, 76, 76, 76, 76, 76, 76, 76, 76, 76, 76, 76, 76, 76, 76, 76, 76, 76, 76, 76, 76, 76, 76, 76, 76, 76, 76, 76, 76, 76, 76, 76, 76, 76, 76, 76, 76, 76, 76, 76, 76, 76, 76, 76, 76, 76, 76, 76, 76, 76, 76, 76, 76, 76, 76, 76, 76, 76, 76, 76, 76, 76, 90, 90, 90, 90, 90, 90, 90, 90, 90, 90, 90, 90, 90, 90, 90, 90, 90, 90, 90, 90, 90, 90, 90, 90, 90, 90, 90, 90, 90, 90, 90, 90, 90, 90, 90, 90, 90, 90, 90, 90, 90, 90, 90, 90, 90, 90, 90, 90, 90, 90, 90, 90, 90, 90, 90, 90, 90, 90, 90, 90, 90, 90, 90, 90, 90, 90, 90, 90, 90, 90, 90, 90, 90, 90, 90, 90, 90, 90, 90, 90, 90, 90, 90, 90, 90, 90, 90, 90, 90, 90, 90, 90, 90, 90, 90, 90, 90, 90, 90, 90, 90, 90, 90, 90, 90, 90, 90, 90, 90, 90, 90, 90, 90, 90, 90, 90, 90, 90, 90, 90, 90, 90, 90, 90, 90, 90, 90, 90, 90, 90, 90, 90, 90, 90, 90, 90, 90, 90, 90, 90, 90, 90, 90, 90, 90, 90, 90, 90, 90, 90, 90, 90, 90, 90, 90, 90, 90, 90, 90, 90, 90, 90, 90, 90, 90, 90, 90, 90, 90, 90, 90, 90, 90, 90, 90, 90, 90, 90, 90, 90, 90, 90, 90, 90, 90, 90, 90, 90, 90, 90, 90, 90, 90, 90, 90, 90, 90, 90, 90, 90, 90, 90, 90, 90, 90, 90, 90, 90, 90, 90, 90, 90, 90, 90, 90, 90, 90, 90, 90, 90, 90, 90, 90, 90, 90, 90, 90, 90, 90, 90, 90, 90, 90, 90, 90, 90, 90, 90, 90, 90, 90]}, {\"columnID\": \"doctor_profile\", \"columnHeader\": \"doctor_profile\", \"columnDtype\": \"int64\", \"columnData\": [136, 136, 136, 136, 136, 136, 136, 136, 136, 136, 136, 136, 136, 136, 136, 136, 136, 136, 136, 136, 136, 136, 136, 136, 136, 136, 136, 136, 136, 136, 136, 136, 136, 136, 136, 136, 136, 136, 136, 136, 136, 136, 136, 136, 136, 136, 136, 136, 136, 136, 136, 136, 136, 136, 136, 136, 136, 136, 136, 136, 136, 136, 136, 136, 136, 136, 136, 136, 136, 136, 136, 136, 136, 136, 136, 136, 136, 136, 136, 136, 136, 136, 136, 136, 136, 136, 136, 136, 136, 136, 136, 136, 136, 136, 136, 136, 136, 136, 136, 136, 136, 136, 136, 136, 136, 136, 136, 136, 136, 136, 136, 136, 136, 136, 136, 136, 136, 136, 136, 136, 136, 136, 136, 136, 136, 136, 136, 136, 136, 136, 136, 136, 136, 136, 136, 136, 136, 136, 136, 136, 136, 136, 136, 136, 136, 136, 136, 136, 136, 136, 136, 136, 136, 136, 136, 136, 136, 136, 136, 136, 136, 136, 136, 136, 136, 136, 136, 16, 16, 16, 16, 16, 16, 16, 16, 16, 16, 16, 16, 16, 16, 16, 16, 16, 16, 16, 16, 16, 16, 16, 16, 16, 16, 16, 16, 16, 53, 53, 53, 53, 53, 53, 53, 53, 53, 53, 53, 53, 53, 53, 53, 53, 53, 53, 53, 53, 53, 53, 53, 53, 53, 53, 53, 53, 53, 53, 53, 53, 53, 53, 53, 53, 53, 53, 53, 53, 53, 53, 53, 53, 53, 53, 53, 53, 53, 53, 53, 53, 53, 53, 53, 53, 53, 53, 53, 53, 53, 53, 53, 53, 53, 53, 53, 53, 53, 53, 53, 53, 53, 53, 53, 53, 53, 53, 53, 53, 53, 53, 53, 53, 53, 53, 53, 53, 53, 53, 53, 53, 53, 53, 53, 53, 53, 53, 53, 53, 53, 53, 53, 53, 53, 53, 53, 53, 53, 53, 53, 53, 53, 60, 60, 60, 60, 60, 60, 60, 60, 60, 60, 60, 60, 60, 60, 60, 60, 60, 60, 60, 60, 60, 60, 60, 60, 60, 60, 60, 60, 60, 60, 60, 60, 60, 60, 60, 60, 60, 162, 162, 162, 162, 162, 162, 162, 162, 162, 162, 162, 162, 162, 162, 162, 162, 162, 162, 162, 162, 162, 162, 162, 162, 162, 162, 162, 162, 162, 162, 162, 162, 162, 162, 162, 162, 162, 162, 162, 162, 162, 162, 162, 162, 162, 65, 65, 65, 65, 65, 65, 65, 65, 65, 65, 65, 65, 65, 65, 65, 65, 65, 65, 65, 65, 65, 65, 65, 65, 65, 65, 65, 65, 65, 65, 65, 65, 65, 65, 65, 65, 65, 65, 65, 65, 65, 65, 65, 65, 65, 65, 65, 65, 65, 65, 65, 65, 65, 65, 65, 65, 65, 65, 65, 65, 65, 65, 65, 65, 65, 65, 65, 65, 65, 65, 65, 65, 65, 65, 65, 65, 65, 65, 65, 65, 65, 65, 65, 65, 65, 65, 65, 65, 65, 65, 65, 65, 65, 65, 65, 65, 65, 65, 65, 65, 65, 65, 68, 68, 68, 68, 68, 68, 68, 68, 68, 68, 68, 68, 68, 68, 68, 68, 68, 68, 68, 68, 68, 68, 68, 68, 68, 68, 68, 68, 68, 68, 68, 68, 68, 68, 68, 68, 68, 68, 68, 68, 68, 68, 68, 68, 68, 68, 68, 68, 68, 68, 68, 68, 68, 68, 68, 68, 68, 68, 68, 68, 68, 68, 68, 68, 68, 68, 68, 68, 68, 68, 68, 68, 68, 68, 68, 68, 68, 68, 68, 68, 68, 68, 68, 68, 68, 68, 68, 68, 68, 68, 68, 68, 68, 68, 68, 68, 68, 68, 68, 68, 68, 68, 68, 68, 68, 68, 68, 68, 68, 68, 68, 68, 68, 68, 68, 68, 68, 68, 68, 68, 68, 68, 68, 68, 68, 68, 68, 68, 68, 68, 68, 68, 68, 68, 68, 68, 68, 68, 68, 68, 68, 68, 68, 68, 68, 68, 68, 68, 68, 68, 68, 68, 68, 68, 68, 68, 68, 68, 68, 68, 68, 68, 68, 68, 68, 68, 68, 68, 68, 68, 68, 68, 68, 68, 68, 68, 68, 68, 68, 68, 68, 68, 68, 68, 68, 68, 68, 68, 68, 68, 68, 68, 68, 68, 68, 68, 68, 68, 68, 68, 68, 68, 68, 68, 68, 68, 68, 68, 68, 68, 68, 68, 68, 68, 68, 68, 68, 68, 68, 68, 68, 68, 68, 68, 68, 68, 68, 68, 68, 68, 68, 68, 68, 68, 68, 68, 68, 68, 68, 68, 68, 68, 68, 68, 68, 68, 68, 68, 68, 68, 68, 68, 68, 68, 68, 68, 68, 68, 68, 68, 68, 68, 68, 68, 68, 68, 68, 68, 68, 68, 68, 68, 68, 68, 68, 68, 68, 68, 68, 68, 68, 68, 68, 68, 68, 68, 68, 68, 68, 68, 68, 68, 68, 68, 68, 68, 68, 68, 68, 68, 68, 68, 68, 68, 68, 68, 68, 68, 68, 68, 68, 68, 68, 68, 68, 68, 68, 68, 68, 97, 97, 97, 97, 97, 97, 97, 97, 97, 97, 97, 97, 97, 97, 97, 97, 97, 97, 97, 97, 97, 97, 97, 97, 97, 97, 97, 97, 97, 97, 97, 97, 97, 97, 97, 97, 97, 97, 97, 97, 97, 97, 97, 97, 97, 97, 97, 97, 97, 97, 97, 97, 97, 97, 97, 97, 97, 97, 97, 97, 97, 97, 97, 97, 97, 97, 97, 97, 97, 97, 97, 97, 97, 97, 97, 97, 97, 97, 97, 97, 97, 97, 97, 97, 97, 97, 97, 97, 97, 97, 97, 97, 97, 97, 97, 97, 97, 97, 97, 97, 97, 97, 97, 97, 97, 97, 97, 97, 97, 97, 97, 97, 97, 97, 97, 97, 97, 97, 97, 97, 97, 97, 97, 97, 97, 97, 97, 97, 97, 97, 97, 97, 97, 97, 97, 97, 97, 97, 97, 97, 97, 97, 97, 97, 97, 97, 97, 97, 97, 97, 97, 97, 97, 97, 97, 97, 97, 97, 97, 97, 97, 97, 97, 97, 97, 97, 97, 97, 97, 97, 97, 97, 97, 97, 97, 97, 97, 97, 97, 97, 97, 97, 97, 97, 97, 97, 97, 97, 97, 97, 97, 97, 97, 97, 97, 97, 97, 97, 97, 97, 97, 97, 97, 97, 97, 97, 97, 97, 97, 97, 97, 97, 97, 97, 97, 97, 97, 97, 97, 97, 97, 97, 97, 97, 97, 97, 97, 97, 97, 97, 97, 97, 97, 97, 97, 97, 97, 97, 97, 97, 97, 97, 97, 97, 97, 97, 97, 97, 97, 97, 97, 97, 97, 97, 97, 97, 97, 97, 97, 97, 97, 97, 97, 97, 97, 97, 97, 97, 97, 97, 97, 97, 97, 97, 97, 97, 97, 97, 97, 97, 97, 97, 97, 97, 97, 97, 97, 97, 97, 97, 97, 97, 97, 97, 97, 97, 97, 97, 97, 97, 97, 97, 97, 97, 97, 97, 97, 97, 97, 97, 97, 97, 97, 97, 97, 97, 97, 97, 97, 97, 97, 97, 97, 97, 97, 97, 97, 97, 97, 97, 97, 97, 97, 97, 97, 97, 97, 97, 97, 97, 97, 97, 97, 97, 97, 97, 97, 97, 97, 97, 97, 97, 97, 97, 97, 97, 97, 97, 97, 97, 97, 97, 97, 97, 97, 97, 97, 97, 97, 97, 97, 97, 97, 97, 97, 97, 97, 97, 97, 97, 97, 97, 97, 97, 97, 97, 97, 97, 97, 97, 97, 97, 97, 97, 97, 97, 97, 97, 97, 97, 97, 97, 97, 97, 97, 97, 97, 97, 97, 97, 97, 97, 97, 97, 97, 97, 97, 97, 97, 97, 97, 97, 97, 97, 97, 97, 97, 97, 97, 97, 97, 97, 97, 97, 97, 97, 97, 97, 97, 97, 97, 97, 97, 97, 97, 97, 97, 112, 112, 112, 112, 112, 112, 112, 112, 112, 112, 112, 112, 112, 112, 112, 112, 112, 112, 112, 112, 112, 112, 112, 112, 112, 112, 112, 112, 112, 112, 112, 112, 112, 112, 112, 112, 112, 112, 112, 112, 112, 112, 112, 112, 112, 112, 112, 112, 112, 112, 112, 112, 112, 112, 112, 112, 112, 112, 112, 112, 112, 112, 112, 112, 112, 112, 112, 112, 112, 112, 112, 112, 112, 112, 112, 112, 112, 112, 112, 112, 112, 112, 112, 112, 112, 112, 112, 112, 112, 112, 112, 112, 112, 112, 112, 112, 112, 112, 112, 112, 112, 112, 112, 112, 112, 112, 112, 112, 112, 112, 112, 112, 112, 112, 112, 112, 112, 112, 112, 112, 112, 112, 112, 112, 112, 112, 112, 112, 112, 112, 112, 112, 112, 112, 112, 112, 112, 112, 112, 112, 112, 112, 112, 112, 112, 112, 112, 112, 112, 112, 112, 112, 112, 112, 112, 112, 112, 112, 112, 112, 112, 112, 112, 112, 112, 112, 112, 112, 112, 112, 112, 112, 112, 112, 112, 112, 112, 112, 112, 112, 112, 112, 112, 112, 112, 112, 112, 112, 112, 112, 112, 112, 112, 112, 112, 112, 112, 112, 112, 112, 112, 112, 112, 112, 112, 112, 112, 112, 112, 112, 112, 112, 112, 112, 112, 112, 112, 112, 112, 112, 112, 112, 112, 112, 112, 112, 112, 112, 112, 112, 112, 112, 112, 112, 112, 112, 112, 112, 112, 112, 112]}, {\"columnID\": \"terms\", \"columnHeader\": \"terms\", \"columnDtype\": \"int64\", \"columnData\": [3, 3, 3, 3, 3, 3, 3, 3, 3, 3, 3, 3, 3, 3, 3, 3, 3, 3, 3, 3, 3, 3, 3, 3, 3, 3, 3, 3, 3, 3, 3, 3, 3, 3, 3, 3, 3, 3, 3, 3, 3, 3, 3, 3, 3, 3, 3, 3, 3, 3, 3, 3, 3, 3, 3, 3, 3, 3, 3, 3, 3, 3, 3, 3, 3, 3, 3, 3, 3, 3, 3, 3, 3, 3, 3, 3, 3, 3, 3, 3, 3, 3, 3, 3, 3, 3, 3, 3, 3, 3, 3, 3, 3, 3, 3, 3, 3, 3, 3, 3, 3, 3, 3, 3, 3, 3, 3, 3, 3, 3, 3, 3, 3, 3, 3, 3, 3, 3, 3, 3, 3, 3, 3, 3, 3, 3, 3, 3, 3, 3, 3, 3, 3, 3, 3, 3, 3, 3, 3, 3, 3, 3, 3, 3, 3, 3, 3, 3, 3, 3, 3, 3, 3, 3, 3, 3, 3, 3, 3, 3, 3, 3, 3, 3, 3, 3, 3, 3, 3, 3, 3, 3, 3, 3, 3, 3, 3, 3, 3, 3, 3, 3, 3, 3, 3, 3, 3, 3, 3, 3, 3, 3, 3, 3, 3, 3, 3, 3, 3, 3, 3, 3, 3, 3, 3, 3, 3, 3, 3, 3, 3, 3, 3, 3, 3, 3, 3, 3, 3, 3, 3, 3, 3, 3, 3, 3, 3, 3, 3, 3, 3, 3, 3, 3, 3, 3, 3, 3, 3, 3, 3, 3, 3, 3, 3, 3, 3, 3, 3, 3, 3, 3, 3, 3, 3, 3, 3, 3, 3, 3, 3, 3, 3, 3, 3, 3, 3, 3, 3, 3, 3, 3, 3, 3, 3, 3, 3, 3, 3, 3, 3, 3, 3, 3, 3, 3, 3, 3, 3, 3, 3, 3, 3, 3, 3, 3, 3, 3, 3, 3, 3, 3, 3, 3, 3, 3, 3, 3, 3, 3, 3, 3, 3, 3, 3, 3, 3, 3, 3, 3, 3, 3, 3, 3, 3, 3, 3, 3, 3, 3, 3, 3, 3, 3, 3, 3, 3, 3, 3, 3, 3, 3, 3, 3, 3, 3, 3, 3, 3, 3, 3, 3, 3, 3, 3, 3, 3, 3, 3, 3, 3, 3, 3, 3, 3, 3, 3, 3, 3, 3, 3, 3, 3, 3, 3, 3, 3, 3, 3, 3, 3, 3, 3, 3, 3, 3, 3, 3, 3, 3, 3, 3, 3, 3, 3, 3, 3, 3, 3, 3, 3, 3, 3, 3, 3, 3, 3, 3, 3, 3, 3, 3, 3, 3, 3, 3, 3, 3, 3, 3, 3, 3, 3, 3, 3, 3, 3, 3, 3, 3, 3, 3, 3, 3, 3, 3, 3, 3, 3, 3, 3, 3, 3, 3, 3, 3, 3, 3, 3, 3, 3, 3, 3, 3, 3, 3, 3, 3, 3, 3, 3, 3, 3, 3, 3, 3, 3, 3, 3, 3, 3, 3, 3, 3, 3, 3, 3, 3, 3, 3, 3, 3, 3, 3, 3, 3, 3, 3, 3, 3, 3, 3, 3, 3, 3, 3, 3, 3, 3, 3, 3, 3, 3, 3, 3, 3, 3, 3, 3, 3, 3, 3, 3, 3, 3, 3, 3, 3, 3, 3, 3, 3, 3, 3, 3, 3, 3, 3, 3, 3, 3, 3, 3, 3, 3, 3, 3, 3, 3, 3, 3, 3, 3, 3, 3, 3, 3, 3, 3, 3, 3, 3, 3, 3, 3, 3, 3, 3, 3, 3, 3, 3, 3, 3, 3, 3, 3, 3, 3, 3, 3, 3, 3, 3, 3, 3, 3, 3, 3, 3, 3, 3, 3, 3, 3, 3, 3, 3, 3, 3, 3, 3, 3, 3, 3, 3, 3, 3, 3, 3, 3, 3, 3, 3, 3, 3, 3, 3, 3, 3, 3, 3, 3, 3, 3, 3, 3, 3, 3, 3, 3, 3, 3, 3, 3, 3, 3, 3, 3, 3, 3, 3, 3, 3, 3, 3, 3, 3, 3, 3, 3, 3, 3, 3, 3, 3, 3, 3, 3, 3, 3, 3, 3, 3, 3, 3, 3, 3, 3, 3, 3, 3, 3, 3, 3, 3, 3, 3, 3, 3, 3, 3, 3, 3, 3, 3, 3, 3, 3, 3, 3, 3, 3, 3, 3, 3, 3, 3, 3, 3, 3, 3, 3, 3, 3, 3, 3, 3, 3, 3, 3, 3, 3, 3, 3, 3, 3, 3, 3, 3, 3, 3, 3, 3, 3, 3, 3, 3, 3, 3, 3, 3, 3, 3, 3, 3, 3, 3, 3, 3, 3, 3, 3, 3, 3, 3, 3, 3, 3, 3, 3, 3, 3, 3, 3, 3, 3, 3, 3, 3, 3, 3, 3, 3, 3, 3, 3, 3, 3, 3, 3, 3, 3, 3, 3, 3, 3, 3, 3, 3, 3, 3, 3, 3, 3, 3, 3, 3, 3, 3, 3, 3, 3, 3, 3, 3, 3, 3, 3, 3, 3, 3, 3, 3, 3, 3, 3, 3, 3, 3, 3, 3, 3, 3, 3, 3, 3, 3, 3, 3, 3, 3, 3, 3, 3, 3, 3, 3, 3, 3, 3, 3, 3, 3, 3, 3, 3, 3, 3, 3, 3, 3, 3, 3, 3, 3, 3, 3, 3, 3, 3, 3, 3, 3, 3, 3, 3, 3, 3, 3, 3, 3, 3, 3, 3, 3, 3, 3, 3, 3, 3, 3, 3, 3, 3, 3, 3, 3, 3, 3, 3, 3, 3, 3, 3, 3, 3, 3, 3, 3, 3, 3, 3, 3, 3, 3, 3, 3, 3, 3, 3, 3, 3, 3, 3, 3, 3, 3, 3, 3, 3, 3, 3, 3, 3, 3, 3, 3, 3, 3, 3, 3, 3, 3, 3, 3, 3, 3, 3, 3, 3, 3, 3, 3, 3, 3, 3, 3, 3, 3, 3, 3, 3, 3, 3, 3, 3, 3, 3, 3, 3, 3, 3, 3, 3, 3, 3, 3, 3, 3, 3, 3, 3, 3, 3, 3, 3, 3, 3, 3, 3, 3, 3, 3, 3, 3, 3, 3, 3, 3, 3, 3, 3, 3, 3, 3, 3, 3, 3, 3, 3, 3, 3, 3, 3, 3, 3, 3, 3, 3, 3, 3, 3, 3, 3, 3, 3, 3, 3, 3, 3, 3, 3, 3, 3, 3, 3, 3, 3, 3, 3, 3, 3, 3, 3, 3, 3, 3, 3, 3, 3, 3, 3, 3, 3, 3, 3, 3, 3, 3, 3, 3, 3, 3, 3, 3, 3, 3, 3, 3, 3, 3, 3, 3, 3, 3, 3, 3, 3, 3, 3, 3, 3, 3, 3, 3, 3, 3, 3, 3, 3, 3, 3, 3, 3, 3, 3, 3, 3, 3, 3, 3, 3, 3, 3, 3, 3, 3, 3, 3, 3, 3, 3, 3, 3, 3, 3, 3, 3, 3, 3, 3, 3, 3, 3, 3, 3, 3, 3, 3, 3, 3, 3, 3, 3, 3, 3, 3, 3, 3, 3, 3, 3, 3, 3, 3, 3, 3, 3, 3, 3, 3, 3, 3, 3, 3, 3, 3, 3, 3, 3, 3, 3, 3, 3, 3, 3, 3, 3, 3, 3, 3, 3, 3, 3, 3, 3, 3, 3, 3, 3, 3, 3, 3, 3, 3, 3, 3, 3, 3, 3, 3, 3, 3, 3, 3, 3, 3, 3, 3, 3, 3, 3, 3, 3, 3, 3, 3, 3, 3, 3, 3, 3, 3, 3, 3, 3, 3, 3, 3, 3, 3, 3, 3, 3, 3, 3, 3, 3, 3, 3, 3, 3, 3, 3, 3, 3, 3, 3, 3, 3, 3, 3, 3, 3, 3, 3, 3, 3, 3, 3, 3, 3, 3, 3, 3, 3, 3, 3, 3, 3, 3, 3, 3, 3, 3, 3, 3, 3, 3, 3, 3, 3, 3, 3, 3, 3, 3, 3, 3, 3, 3, 3, 3, 3, 3, 3, 3, 3, 3, 3, 3, 3, 3, 3, 3, 3, 3, 3, 3, 3, 3, 3, 3, 3, 3, 3, 3, 3, 3, 3, 3, 3, 3, 3, 3, 3, 3, 3, 3, 3, 3, 3, 3, 3, 3, 3, 3, 3, 3, 3, 3, 3, 3, 3, 3, 3, 3, 3, 3, 3, 3, 3, 3, 3, 3, 3, 3, 3, 3, 3, 3, 3, 3, 3, 3, 3, 3, 3, 3, 3, 3, 3, 3, 3, 3, 3, 3, 3, 3, 3, 3, 3, 3, 3, 3, 3, 3, 3, 3, 3, 3, 3, 3, 3, 3, 3, 3, 3, 3, 3, 3, 3, 3, 3, 3, 3, 3, 3, 3, 3, 3, 3, 3, 3, 3, 3, 3, 3, 3, 3, 3, 3, 3, 3, 3, 3, 3, 3, 3, 3, 3, 3, 3, 3, 3, 3, 3, 3, 3, 3, 3, 3, 3, 3, 3, 3, 3, 3, 3, 3, 3, 3, 3, 3, 3, 3, 3, 3, 3, 3, 3, 3, 3, 3, 3, 3, 3, 3, 3, 3, 3, 3, 3, 3, 3, 3, 3, 3, 3, 3, 3, 3, 3, 3, 3, 3, 3, 3, 3, 3, 3, 3, 3, 3, 3, 3, 3, 3, 3, 3, 3, 3, 3, 3, 3, 3, 3, 3, 3, 3, 3, 3, 3, 3, 3, 3, 3, 3, 3, 3, 3, 3, 3, 3, 3, 3, 3, 3, 3, 3, 3, 3, 3, 3, 3, 3, 3, 3, 3]}, {\"columnID\": \"doctor_id\", \"columnHeader\": \"doctor_id\", \"columnDtype\": \"object\", \"columnData\": [\"035-508-952 59\", \"035-508-952 59\", \"035-508-952 59\", \"035-508-952 59\", \"035-508-952 59\", \"035-508-952 59\", \"035-508-952 59\", \"035-508-952 59\", \"035-508-952 59\", \"035-508-952 59\", \"035-508-952 59\", \"035-508-952 59\", \"035-508-952 59\", \"035-508-952 59\", \"035-508-952 59\", \"035-508-952 59\", \"035-508-952 59\", \"035-508-952 59\", \"035-508-952 59\", \"035-508-952 59\", \"035-508-952 59\", \"035-508-952 59\", \"035-508-952 59\", \"035-508-952 59\", \"035-508-952 59\", \"035-508-952 59\", \"035-508-952 59\", \"035-508-952 59\", \"035-508-952 59\", \"035-508-952 59\", \"035-508-952 59\", \"035-508-952 59\", \"035-508-952 59\", \"035-508-952 59\", \"035-508-952 59\", \"035-508-952 59\", \"035-508-952 59\", \"035-508-952 59\", \"035-508-952 59\", \"035-508-952 59\", \"035-508-952 59\", \"035-508-952 59\", \"035-508-952 59\", \"035-508-952 59\", \"035-508-952 59\", \"035-508-952 59\", \"035-508-952 59\", \"035-508-952 59\", \"035-508-952 59\", \"035-508-952 59\", \"035-508-952 59\", \"035-508-952 59\", \"035-508-952 59\", \"035-508-952 59\", \"035-508-952 59\", \"035-508-952 59\", \"035-508-952 59\", \"035-508-952 59\", \"035-508-952 59\", \"035-508-952 59\", \"035-508-952 59\", \"035-508-952 59\", \"035-508-952 59\", \"035-508-952 59\", \"035-508-952 59\", \"035-508-952 59\", \"035-508-952 59\", \"035-508-952 59\", \"035-508-952 59\", \"035-508-952 59\", \"035-508-952 59\", \"035-508-952 59\", \"035-508-952 59\", \"035-508-952 59\", \"035-508-952 59\", \"035-508-952 59\", \"035-508-952 59\", \"035-508-952 59\", \"035-508-952 59\", \"035-508-952 59\", \"035-508-952 59\", \"035-508-952 59\", \"035-508-952 59\", \"035-508-952 59\", \"035-508-952 59\", \"035-508-952 59\", \"035-508-952 59\", \"035-508-952 59\", \"035-508-952 59\", \"035-508-952 59\", \"035-508-952 59\", \"035-508-952 59\", \"035-508-952 59\", \"035-508-952 59\", \"035-508-952 59\", \"035-508-952 59\", \"035-508-952 59\", \"035-508-952 59\", \"035-508-952 59\", \"035-508-952 59\", \"035-508-952 59\", \"035-508-952 59\", \"035-508-952 59\", \"073-069-750 73\", \"073-069-750 73\", \"073-069-750 73\", \"073-069-750 73\", \"073-069-750 73\", \"073-069-750 73\", \"073-069-750 73\", \"073-069-750 73\", \"073-069-750 73\", \"073-069-750 73\", \"073-069-750 73\", \"073-069-750 73\", \"073-069-750 73\", \"073-069-750 73\", \"073-069-750 73\", \"073-069-750 73\", \"073-069-750 73\", \"073-069-750 73\", \"073-069-750 73\", \"073-069-750 73\", \"073-069-750 73\", \"073-069-750 73\", \"073-069-750 73\", \"073-069-750 73\", \"073-069-750 73\", \"073-069-750 73\", \"073-069-750 73\", \"073-069-750 73\", \"073-069-750 73\", \"073-069-750 73\", \"073-069-750 73\", \"073-069-750 73\", \"073-069-750 73\", \"073-069-750 73\", \"073-069-750 73\", \"073-069-750 73\", \"073-069-750 73\", \"073-069-750 73\", \"073-069-750 73\", \"073-069-750 73\", \"073-069-750 73\", \"073-069-750 73\", \"073-069-750 73\", \"073-069-750 73\", \"073-069-750 73\", \"073-069-750 73\", \"073-069-750 73\", \"073-069-750 73\", \"073-069-750 73\", \"073-069-750 73\", \"073-069-750 73\", \"073-069-750 73\", \"073-069-750 73\", \"073-069-750 73\", \"073-069-750 73\", \"073-069-750 73\", \"073-069-750 73\", \"073-069-750 73\", \"073-069-750 73\", \"073-069-750 73\", \"073-069-750 73\", \"073-069-750 73\", \"073-069-750 73\", \"073-069-750 73\", \"095-089-436 05\", \"095-089-436 05\", \"095-089-436 05\", \"095-089-436 05\", \"095-089-436 05\", \"095-089-436 05\", \"095-089-436 05\", \"095-089-436 05\", \"095-089-436 05\", \"095-089-436 05\", \"095-089-436 05\", \"095-089-436 05\", \"095-089-436 05\", \"095-089-436 05\", \"095-089-436 05\", \"095-089-436 05\", \"095-089-436 05\", \"095-089-436 05\", \"095-089-436 05\", \"095-089-436 05\", \"095-089-436 05\", \"095-089-436 05\", \"095-089-436 05\", \"095-089-436 05\", \"095-089-436 05\", \"095-089-436 05\", \"095-089-436 05\", \"095-089-436 05\", \"095-089-436 05\", \"030-808-398 38\", \"030-808-398 38\", \"030-808-398 38\", \"030-808-398 38\", \"030-808-398 38\", \"030-808-398 38\", \"030-808-398 38\", \"030-808-398 38\", \"030-808-398 38\", \"030-808-398 38\", \"030-808-398 38\", \"030-808-398 38\", \"030-808-398 38\", \"030-808-398 38\", \"030-808-398 38\", \"030-808-398 38\", \"030-808-398 38\", \"030-808-398 38\", \"030-808-398 38\", \"030-808-398 38\", \"030-808-398 38\", \"030-808-398 38\", \"030-808-398 38\", \"030-808-398 38\", \"030-808-398 38\", \"030-808-398 38\", \"030-808-398 38\", \"030-808-398 38\", \"030-808-398 38\", \"030-808-398 38\", \"030-808-398 38\", \"030-808-398 38\", \"030-808-398 38\", \"030-808-398 38\", \"030-808-398 38\", \"030-808-398 38\", \"030-808-398 38\", \"030-808-398 38\", \"030-808-398 38\", \"030-808-398 38\", \"030-808-398 38\", \"030-808-398 38\", \"030-808-398 38\", \"030-808-398 38\", \"030-808-398 38\", \"030-808-398 38\", \"030-808-398 38\", \"030-808-398 38\", \"030-808-398 38\", \"030-808-398 38\", \"030-808-398 38\", \"030-808-398 38\", \"030-808-398 38\", \"030-808-398 38\", \"030-808-398 38\", \"030-808-398 38\", \"030-808-398 38\", \"030-808-398 38\", \"030-808-398 38\", \"133-437-558 53\", \"171-213-762 35\", \"171-213-762 35\", \"171-213-762 35\", \"171-213-762 35\", \"171-213-762 35\", \"171-213-762 35\", \"171-213-762 35\", \"171-213-762 35\", \"171-213-762 35\", \"171-213-762 35\", \"171-213-762 35\", \"171-213-762 35\", \"171-213-762 35\", \"171-213-762 35\", \"171-213-762 35\", \"171-213-762 35\", \"171-213-762 35\", \"171-213-762 35\", \"171-213-762 35\", \"171-213-762 35\", \"171-213-762 35\", \"171-213-762 35\", \"171-213-762 35\", \"171-213-762 35\", \"171-213-762 35\", \"171-213-762 35\", \"171-213-762 35\", \"171-213-762 35\", \"171-213-762 35\", \"171-213-762 35\", \"171-213-762 35\", \"171-213-762 35\", \"171-213-762 35\", \"171-213-762 35\", \"171-213-762 35\", \"171-213-762 35\", \"171-213-762 35\", \"171-213-762 35\", \"171-213-762 35\", \"171-213-762 35\", \"171-213-762 35\", \"171-213-762 35\", \"171-213-762 35\", \"171-213-762 35\", \"171-213-762 35\", \"171-213-762 35\", \"171-213-762 35\", \"171-213-762 35\", \"171-213-762 35\", \"171-213-762 35\", \"171-213-762 35\", \"171-213-762 35\", \"171-213-762 35\", \"134-472-934 64\", \"134-472-934 64\", \"134-472-934 64\", \"134-472-934 64\", \"134-472-934 64\", \"134-472-934 64\", \"134-472-934 64\", \"134-472-934 64\", \"134-472-934 64\", \"134-472-934 64\", \"134-472-934 64\", \"134-472-934 64\", \"134-472-934 64\", \"134-472-934 64\", \"134-472-934 64\", \"134-472-934 64\", \"134-472-934 64\", \"134-472-934 64\", \"134-472-934 64\", \"134-472-934 64\", \"134-472-934 64\", \"134-472-934 64\", \"134-472-934 64\", \"134-472-934 64\", \"134-472-934 64\", \"134-472-934 64\", \"134-472-934 64\", \"134-472-934 64\", \"134-472-934 64\", \"134-472-934 64\", \"134-472-934 64\", \"134-472-934 64\", \"134-472-934 64\", \"134-472-934 64\", \"134-472-934 64\", \"134-472-934 64\", \"134-472-934 64\", \"132-858-612 73\", \"132-858-612 73\", \"132-858-612 73\", \"132-858-612 73\", \"132-858-612 73\", \"132-858-612 73\", \"132-858-612 73\", \"132-858-612 73\", \"132-858-612 73\", \"132-858-612 73\", \"132-858-612 73\", \"132-858-612 73\", \"132-858-612 73\", \"132-858-612 73\", \"132-858-612 73\", \"132-858-612 73\", \"132-858-612 73\", \"132-858-612 73\", \"132-858-612 73\", \"132-858-612 73\", \"132-858-612 73\", \"132-858-612 73\", \"132-858-612 73\", \"132-858-612 73\", \"132-858-612 73\", \"132-858-612 73\", \"132-858-612 73\", \"132-858-612 73\", \"132-858-612 73\", \"132-858-612 73\", \"132-858-612 73\", \"132-858-612 73\", \"132-858-612 73\", \"132-858-612 73\", \"132-858-612 73\", \"132-858-612 73\", \"132-858-612 73\", \"132-858-612 73\", \"132-858-612 73\", \"132-858-612 73\", \"132-858-612 73\", \"132-858-612 73\", \"132-858-612 73\", \"132-858-612 73\", \"132-858-612 73\", \"069-256-721 97\", \"069-256-721 97\", \"069-256-721 97\", \"069-256-721 97\", \"069-256-721 97\", \"069-256-721 97\", \"069-256-721 97\", \"069-256-721 97\", \"069-256-721 97\", \"069-256-721 97\", \"069-256-721 97\", \"069-256-721 97\", \"069-256-721 97\", \"069-256-721 97\", \"069-256-721 97\", \"069-256-721 97\", \"069-256-721 97\", \"069-256-721 97\", \"069-256-721 97\", \"069-256-721 97\", \"069-256-721 97\", \"069-256-721 97\", \"069-256-721 97\", \"069-256-721 97\", \"069-256-721 97\", \"069-256-721 97\", \"069-256-721 97\", \"069-256-721 97\", \"069-256-721 97\", \"069-256-721 97\", \"069-256-721 97\", \"069-256-721 97\", \"069-256-721 97\", \"069-256-721 97\", \"069-256-721 97\", \"069-256-721 97\", \"069-256-721 97\", \"069-256-721 97\", \"069-256-721 97\", \"069-256-721 97\", \"069-256-721 97\", \"069-256-721 97\", \"069-256-721 97\", \"069-256-721 97\", \"069-256-721 97\", \"069-256-721 97\", \"069-256-721 97\", \"069-256-721 97\", \"069-256-721 97\", \"069-256-721 97\", \"069-256-721 97\", \"069-256-721 97\", \"069-256-721 97\", \"069-256-721 97\", \"069-256-721 97\", \"069-256-721 97\", \"069-256-721 97\", \"069-256-721 97\", \"069-256-721 97\", \"069-256-721 97\", \"069-256-721 97\", \"069-256-721 97\", \"069-256-721 97\", \"069-256-721 97\", \"069-256-721 97\", \"069-256-721 97\", \"069-256-721 97\", \"069-256-721 97\", \"069-256-721 97\", \"069-256-721 97\", \"069-256-721 97\", \"069-256-721 97\", \"069-256-721 97\", \"069-256-721 97\", \"069-256-721 97\", \"069-256-721 97\", \"069-256-721 97\", \"069-256-721 97\", \"069-256-721 97\", \"069-256-721 97\", \"069-256-721 97\", \"069-256-721 97\", \"069-256-721 97\", \"069-256-721 97\", \"069-256-721 97\", \"069-256-721 97\", \"069-256-721 97\", \"069-256-721 97\", \"069-256-721 97\", \"069-256-721 97\", \"069-256-721 97\", \"069-256-721 97\", \"069-256-721 97\", \"069-256-721 97\", \"069-256-721 97\", \"069-256-721 97\", \"069-256-721 97\", \"069-256-721 97\", \"069-256-721 97\", \"069-256-721 97\", \"069-256-721 97\", \"069-256-721 97\", \"032-665-119 37\", \"032-665-119 37\", \"032-665-119 37\", \"032-665-119 37\", \"032-665-119 37\", \"032-665-119 37\", \"032-665-119 37\", \"032-665-119 37\", \"032-665-119 37\", \"032-665-119 37\", \"032-665-119 37\", \"032-665-119 37\", \"032-665-119 37\", \"032-665-119 37\", \"032-665-119 37\", \"032-665-119 37\", \"032-665-119 37\", \"032-665-119 37\", \"032-665-119 37\", \"032-665-119 37\", \"032-665-119 37\", \"032-665-119 37\", \"032-665-119 37\", \"032-665-119 37\", \"032-665-119 37\", \"032-665-119 37\", \"032-665-119 37\", \"032-665-119 37\", \"032-665-119 37\", \"032-665-119 37\", \"032-665-119 37\", \"032-665-119 37\", \"032-665-119 37\", \"032-665-119 37\", \"032-665-119 37\", \"032-665-119 37\", \"032-665-119 37\", \"032-665-119 37\", \"032-665-119 37\", \"032-665-119 37\", \"032-665-119 37\", \"032-665-119 37\", \"032-665-119 37\", \"032-665-119 37\", \"032-665-119 37\", \"032-665-119 37\", \"032-665-119 37\", \"032-665-119 37\", \"032-665-119 37\", \"032-665-119 37\", \"032-665-119 37\", \"032-665-119 37\", \"032-665-119 37\", \"032-665-119 37\", \"032-665-119 37\", \"032-665-119 37\", \"032-665-119 37\", \"032-665-119 37\", \"032-665-119 37\", \"032-665-119 37\", \"032-665-119 37\", \"032-665-119 37\", \"032-665-119 37\", \"032-665-119 37\", \"032-665-119 37\", \"032-665-119 37\", \"032-665-119 37\", \"032-665-119 37\", \"032-665-119 37\", \"032-665-119 37\", \"032-665-119 37\", \"032-665-119 37\", \"032-665-119 37\", \"032-665-119 37\", \"032-665-119 37\", \"032-665-119 37\", \"032-665-119 37\", \"032-665-119 37\", \"032-665-119 37\", \"032-665-119 37\", \"032-665-119 37\", \"032-665-119 37\", \"032-665-119 37\", \"032-665-119 37\", \"032-665-119 37\", \"032-665-119 37\", \"032-665-119 37\", \"032-665-119 37\", \"032-665-119 37\", \"032-665-119 37\", \"032-665-119 37\", \"032-665-119 37\", \"032-665-119 37\", \"032-665-119 37\", \"032-665-119 37\", \"032-665-119 37\", \"032-665-119 37\", \"114-942-659 63\", \"114-942-659 63\", \"114-942-659 63\", \"114-942-659 63\", \"114-942-659 63\", \"114-942-659 63\", \"114-942-659 63\", \"114-942-659 63\", \"114-942-659 63\", \"114-942-659 63\", \"114-942-659 63\", \"114-942-659 63\", \"114-942-659 63\", \"114-942-659 63\", \"114-942-659 63\", \"114-942-659 63\", \"114-942-659 63\", \"114-942-659 63\", \"114-942-659 63\", \"114-942-659 63\", \"114-942-659 63\", \"114-942-659 63\", \"114-942-659 63\", \"114-942-659 63\", \"114-942-659 63\", \"114-942-659 63\", \"114-942-659 63\", \"114-942-659 63\", \"114-942-659 63\", \"114-942-659 63\", \"114-942-659 63\", \"114-942-659 63\", \"114-942-659 63\", \"114-942-659 63\", \"114-942-659 63\", \"114-942-659 63\", \"114-942-659 63\", \"114-942-659 63\", \"114-942-659 63\", \"114-942-659 63\", \"114-942-659 63\", \"114-942-659 63\", \"114-942-659 63\", \"114-942-659 63\", \"114-942-659 63\", \"114-942-659 63\", \"114-942-659 63\", \"114-942-659 63\", \"114-942-659 63\", \"114-942-659 63\", \"114-942-659 63\", \"114-942-659 63\", \"114-942-659 63\", \"114-942-659 63\", \"114-942-659 63\", \"114-942-659 63\", \"114-942-659 63\", \"114-942-659 63\", \"114-942-659 63\", \"114-942-659 63\", \"114-942-659 63\", \"114-942-659 63\", \"114-942-659 63\", \"114-942-659 63\", \"114-942-659 63\", \"114-942-659 63\", \"114-942-659 63\", \"114-942-659 63\", \"114-942-659 63\", \"114-942-659 63\", \"114-942-659 63\", \"114-942-659 63\", \"114-942-659 63\", \"114-942-659 63\", \"114-942-659 63\", \"114-942-659 63\", \"114-942-659 63\", \"114-942-659 63\", \"114-942-659 63\", \"114-942-659 63\", \"114-942-659 63\", \"114-942-659 63\", \"114-942-659 63\", \"114-942-659 63\", \"135-868-498 14\", \"135-868-498 14\", \"135-868-498 14\", \"135-868-498 14\", \"135-868-498 14\", \"135-868-498 14\", \"135-868-498 14\", \"135-868-498 14\", \"135-868-498 14\", \"135-868-498 14\", \"135-868-498 14\", \"135-868-498 14\", \"135-868-498 14\", \"135-868-498 14\", \"135-868-498 14\", \"135-868-498 14\", \"135-868-498 14\", \"135-868-498 14\", \"135-868-498 14\", \"135-868-498 14\", \"135-868-498 14\", \"135-868-498 14\", \"135-868-498 14\", \"135-868-498 14\", \"135-868-498 14\", \"135-868-498 14\", \"135-868-498 14\", \"135-868-498 14\", \"135-868-498 14\", \"135-868-498 14\", \"135-868-498 14\", \"135-868-498 14\", \"135-868-498 14\", \"135-868-498 14\", \"135-868-498 14\", \"135-868-498 14\", \"135-868-498 14\", \"135-868-498 14\", \"135-868-498 14\", \"135-868-498 14\", \"135-868-498 14\", \"135-868-498 14\", \"135-868-498 14\", \"135-868-498 14\", \"135-868-498 14\", \"135-868-498 14\", \"135-868-498 14\", \"135-868-498 14\", \"135-868-498 14\", \"135-868-498 14\", \"135-868-498 14\", \"135-868-498 14\", \"135-868-498 14\", \"135-868-498 14\", \"135-868-498 14\", \"135-868-498 14\", \"135-868-498 14\", \"135-868-498 14\", \"135-868-498 14\", \"135-868-498 14\", \"135-868-498 14\", \"135-868-498 14\", \"135-868-498 14\", \"135-868-498 14\", \"135-868-498 14\", \"135-868-498 14\", \"135-868-498 14\", \"135-868-498 14\", \"135-868-498 14\", \"135-868-498 14\", \"135-868-498 14\", \"135-868-498 14\", \"135-868-498 14\", \"135-868-498 14\", \"135-868-498 14\", \"135-868-498 14\", \"135-868-498 14\", \"135-868-498 14\", \"135-868-498 14\", \"140-649-482 62\", \"140-649-482 62\", \"140-649-482 62\", \"140-649-482 62\", \"140-649-482 62\", \"140-649-482 62\", \"140-649-482 62\", \"140-649-482 62\", \"140-649-482 62\", \"140-649-482 62\", \"140-649-482 62\", \"140-649-482 62\", \"140-649-482 62\", \"140-649-482 62\", \"140-649-482 62\", \"140-649-482 62\", \"140-649-482 62\", \"140-649-482 62\", \"140-649-482 62\", \"140-649-482 62\", \"140-649-482 62\", \"140-649-482 62\", \"140-649-482 62\", \"140-649-482 62\", \"140-649-482 62\", \"140-649-482 62\", \"140-649-482 62\", \"140-649-482 62\", \"140-649-482 62\", \"140-649-482 62\", \"140-649-482 62\", \"140-649-482 62\", \"140-649-482 62\", \"140-649-482 62\", \"140-649-482 62\", \"140-649-482 62\", \"140-649-482 62\", \"140-649-482 62\", \"140-649-482 62\", \"140-649-482 62\", \"140-649-482 62\", \"140-649-482 62\", \"140-649-482 62\", \"140-649-482 62\", \"140-649-482 62\", \"140-649-482 62\", \"140-649-482 62\", \"140-649-482 62\", \"140-649-482 62\", \"140-649-482 62\", \"140-649-482 62\", \"140-649-482 62\", \"140-649-482 62\", \"140-649-482 62\", \"140-649-482 62\", \"140-649-482 62\", \"140-649-482 62\", \"140-649-482 62\", \"140-649-482 62\", \"035-508-912 51\", \"035-508-912 51\", \"035-508-912 51\", \"035-508-912 51\", \"035-508-912 51\", \"035-508-912 51\", \"035-508-912 51\", \"035-508-912 51\", \"035-508-912 51\", \"035-508-912 51\", \"035-508-912 51\", \"035-508-912 51\", \"035-508-912 51\", \"035-508-912 51\", \"035-508-912 51\", \"035-508-912 51\", \"035-508-912 51\", \"035-508-912 51\", \"035-508-912 51\", \"035-508-912 51\", \"035-508-912 51\", \"035-508-912 51\", \"035-508-912 51\", \"035-508-912 51\", \"035-508-912 51\", \"035-508-912 51\", \"035-508-912 51\", \"035-508-912 51\", \"035-508-912 51\", \"035-508-912 51\", \"035-508-912 51\", \"035-508-912 51\", \"035-508-912 51\", \"035-508-912 51\", \"035-508-912 51\", \"035-508-912 51\", \"035-508-912 51\", \"035-508-912 51\", \"035-508-912 51\", \"035-508-912 51\", \"035-508-912 51\", \"035-508-912 51\", \"035-508-912 51\", \"035-508-912 51\", \"035-508-912 51\", \"035-508-912 51\", \"035-508-912 51\", \"035-508-912 51\", \"035-508-912 51\", \"035-508-912 51\", \"035-508-912 51\", \"035-508-912 51\", \"035-508-912 51\", \"035-508-912 51\", \"035-508-912 51\", \"035-508-912 51\", \"035-508-912 51\", \"035-508-912 51\", \"035-508-912 51\", \"035-508-912 51\", \"035-508-912 51\", \"035-508-912 51\", \"035-508-912 51\", \"035-508-912 51\", \"035-508-912 51\", \"035-508-912 51\", \"035-508-912 51\", \"035-508-912 51\", \"035-508-912 51\", \"035-508-912 51\", \"035-508-912 51\", \"035-508-912 51\", \"035-508-912 51\", \"035-508-912 51\", \"035-508-912 51\", \"035-508-912 51\", \"035-508-912 51\", \"035-508-912 51\", \"035-508-912 51\", \"035-508-912 51\", \"035-508-912 51\", \"035-508-912 51\", \"035-508-912 51\", \"035-508-912 51\", \"035-508-912 51\", \"035-508-912 51\", \"035-508-912 51\", \"035-508-912 51\", \"035-508-912 51\", \"035-508-912 51\", \"035-508-912 51\", \"035-508-912 51\", \"035-508-912 51\", \"035-508-912 51\", \"035-508-912 51\", \"035-508-912 51\", \"035-508-912 51\", \"035-508-912 51\", \"035-508-912 51\", \"035-508-912 51\", \"035-508-912 51\", \"035-508-912 51\", \"035-508-912 51\", \"035-508-912 51\", \"035-508-912 51\", \"035-508-912 51\", \"035-508-912 51\", \"035-508-912 51\", \"035-508-912 51\", \"035-508-912 51\", \"035-508-912 51\", \"035-508-912 51\", \"035-508-912 51\", \"035-508-912 51\", \"035-508-912 51\", \"035-508-912 51\", \"035-508-912 51\", \"035-508-912 51\", \"035-508-912 51\", \"035-508-912 51\", \"035-508-912 51\", \"035-508-912 51\", \"035-508-912 51\", \"035-508-912 51\", \"035-508-912 51\", \"035-508-912 51\", \"035-508-912 51\", \"035-508-912 51\", \"035-508-912 51\", \"035-508-912 51\", \"035-508-912 51\", \"035-508-912 51\", \"035-508-912 51\", \"035-508-912 51\", \"035-508-912 51\", \"035-508-912 51\", \"035-508-912 51\", \"101-254-765 06\", \"101-254-765 06\", \"101-254-765 06\", \"101-254-765 06\", \"101-254-765 06\", \"101-254-765 06\", \"101-254-765 06\", \"101-254-765 06\", \"101-254-765 06\", \"101-254-765 06\", \"101-254-765 06\", \"101-254-765 06\", \"101-254-765 06\", \"101-254-765 06\", \"101-254-765 06\", \"101-254-765 06\", \"101-254-765 06\", \"101-254-765 06\", \"101-254-765 06\", \"154-608-980 87\", \"154-608-980 87\", \"154-608-980 87\", \"154-608-980 87\", \"154-608-980 87\", \"154-608-980 87\", \"154-608-980 87\", \"154-608-980 87\", \"154-608-980 87\", \"154-608-980 87\", \"154-608-980 87\", \"154-608-980 87\", \"154-608-980 87\", \"154-608-980 87\", \"154-608-980 87\", \"154-608-980 87\", \"154-608-980 87\", \"154-608-980 87\", \"154-608-980 87\", \"154-608-980 87\", \"154-608-980 87\", \"154-608-980 87\", \"154-608-980 87\", \"154-608-980 87\", \"154-608-980 87\", \"154-608-980 87\", \"154-608-980 87\", \"154-608-980 87\", \"154-608-980 87\", \"154-608-980 87\", \"154-608-980 87\", \"154-608-980 87\", \"154-608-980 87\", \"154-608-980 87\", \"154-608-980 87\", \"154-608-980 87\", \"154-608-980 87\", \"154-608-980 87\", \"154-608-980 87\", \"154-608-980 87\", \"154-608-980 87\", \"154-608-980 87\", \"154-608-980 87\", \"154-608-980 87\", \"154-608-980 87\", \"154-608-980 87\", \"154-608-980 87\", \"154-608-980 87\", \"154-608-980 87\", \"154-608-980 87\", \"154-608-980 87\", \"154-608-980 87\", \"154-608-980 87\", \"154-608-980 87\", \"154-608-980 87\", \"154-608-980 87\", \"154-608-980 87\", \"154-608-980 87\", \"154-608-980 87\", \"154-608-980 87\", \"154-608-980 87\", \"154-608-980 87\", \"154-608-980 87\", \"154-608-980 87\", \"154-608-980 87\", \"154-608-980 87\", \"154-608-980 87\", \"154-608-980 87\", \"154-608-980 87\", \"154-608-980 87\", \"154-608-980 87\", \"154-608-980 87\", \"154-608-980 87\", \"154-608-980 87\", \"154-608-980 87\", \"154-608-980 87\", \"154-608-980 87\", \"154-608-980 87\", \"154-608-980 87\", \"154-608-980 87\", \"154-608-980 87\", \"154-608-980 87\", \"154-608-980 87\", \"154-608-980 87\", \"154-608-980 87\", \"154-608-980 87\", \"154-608-980 87\", \"154-608-980 87\", \"154-608-980 87\", \"154-608-980 87\", \"154-608-980 87\", \"154-608-980 87\", \"154-608-980 87\", \"154-608-980 87\", \"154-608-980 87\", \"154-608-980 87\", \"154-608-980 87\", \"154-608-980 87\", \"154-608-980 87\", \"154-608-980 87\", \"154-608-980 87\", \"154-608-980 87\", \"154-608-980 87\", \"154-608-980 87\", \"154-608-980 87\", \"154-608-980 87\", \"154-608-980 87\", \"154-608-980 87\", \"154-608-980 87\", \"154-608-980 87\", \"154-608-980 87\", \"154-608-980 87\", \"154-608-980 87\", \"154-608-980 87\", \"154-608-980 87\", \"154-608-980 87\", \"154-608-980 87\", \"154-608-980 87\", \"154-608-980 87\", \"154-608-980 87\", \"154-608-980 87\", \"154-608-980 87\", \"154-608-980 87\", \"154-608-980 87\", \"154-608-980 87\", \"154-608-980 87\", \"154-608-980 87\", \"154-608-980 87\", \"154-608-980 87\", \"154-608-980 87\", \"154-608-980 87\", \"154-608-980 87\", \"154-608-980 87\", \"154-608-980 87\", \"154-608-980 87\", \"154-608-980 87\", \"154-608-980 87\", \"154-608-980 87\", \"154-608-980 87\", \"154-608-980 87\", \"154-608-980 87\", \"154-608-980 87\", \"154-608-980 87\", \"154-608-980 87\", \"154-608-980 87\", \"154-608-980 87\", \"154-608-980 87\", \"154-608-980 87\", \"154-608-980 87\", \"154-608-980 87\", \"154-608-980 87\", \"154-608-980 87\", \"154-608-980 87\", \"154-608-980 87\", \"154-608-980 87\", \"154-608-980 87\", \"154-608-980 87\", \"154-608-980 87\", \"154-608-980 87\", \"154-608-980 87\", \"154-608-980 87\", \"154-608-980 87\", \"154-608-980 87\", \"154-608-980 87\", \"154-608-980 87\", \"154-608-980 87\", \"154-608-980 87\", \"154-608-980 87\", \"154-608-980 87\", \"154-608-980 87\", \"154-608-980 87\", \"154-608-980 87\", \"154-608-980 87\", \"154-608-980 87\", \"154-608-980 87\", \"154-608-980 87\", \"154-608-980 87\", \"154-608-980 87\", \"154-608-980 87\", \"154-608-980 87\", \"154-608-980 87\", \"154-608-980 87\", \"154-608-980 87\", \"154-608-980 87\", \"154-608-980 87\", \"154-608-980 87\", \"154-608-980 87\", \"154-608-980 87\", \"154-608-980 87\", \"154-608-980 87\", \"154-608-980 87\", \"154-608-980 87\", \"154-608-980 87\", \"154-608-980 87\", \"154-608-980 87\", \"154-608-980 87\", \"157-524-235 70\", \"157-524-235 70\", \"157-524-235 70\", \"157-524-235 70\", \"157-524-235 70\", \"157-524-235 70\", \"157-524-235 70\", \"157-524-235 70\", \"157-524-235 70\", \"157-524-235 70\", \"157-524-235 70\", \"157-524-235 70\", \"157-524-235 70\", \"157-524-235 70\", \"157-524-235 70\", \"157-524-235 70\", \"157-524-235 70\", \"157-524-235 70\", \"157-524-235 70\", \"157-524-235 70\", \"157-524-235 70\", \"157-524-235 70\", \"157-524-235 70\", \"157-524-235 70\", \"157-524-235 70\", \"157-524-235 70\", \"157-524-235 70\", \"157-524-235 70\", \"157-524-235 70\", \"157-524-235 70\", \"157-524-235 70\", \"157-524-235 70\", \"157-524-235 70\", \"157-524-235 70\", \"157-524-235 70\", \"157-524-235 70\", \"157-524-235 70\", \"157-524-235 70\", \"157-524-235 70\", \"157-524-235 70\", \"157-524-235 70\", \"157-524-235 70\", \"157-524-235 70\", \"157-524-235 70\", \"157-524-235 70\", \"157-524-235 70\", \"157-524-235 70\", \"157-524-235 70\", \"157-524-235 70\", \"157-524-235 70\", \"157-524-235 70\", \"157-524-235 70\", \"157-524-235 70\", \"157-524-235 70\", \"157-524-235 70\", \"157-524-235 70\", \"157-524-235 70\", \"157-524-235 70\", \"157-524-235 70\", \"157-524-235 70\", \"157-524-235 70\", \"157-524-235 70\", \"157-524-235 70\", \"157-524-235 70\", \"157-524-235 70\", \"157-524-235 70\", \"157-524-235 70\", \"157-524-235 70\", \"157-524-235 70\", \"157-524-235 70\", \"157-524-235 70\", \"157-524-235 70\", \"157-524-235 70\", \"157-524-235 70\", \"157-524-235 70\", \"157-524-235 70\", \"157-524-235 70\", \"157-524-235 70\", \"157-524-235 70\", \"157-524-235 70\", \"157-524-235 70\", \"157-524-235 70\", \"157-524-235 70\", \"157-524-235 70\", \"157-524-235 70\", \"157-524-235 70\", \"157-524-235 70\", \"157-524-235 70\", \"157-524-235 70\", \"157-524-235 70\", \"157-524-235 70\", \"157-524-235 70\", \"157-524-235 70\", \"157-524-235 70\", \"157-524-235 70\", \"051-248-153 26\", \"051-248-153 26\", \"051-248-153 26\", \"051-248-153 26\", \"051-248-153 26\", \"051-248-153 26\", \"051-248-153 26\", \"051-248-153 26\", \"051-248-153 26\", \"051-248-153 26\", \"051-248-153 26\", \"051-248-153 26\", \"051-248-153 26\", \"051-248-153 26\", \"051-248-153 26\", \"051-248-153 26\", \"051-248-153 26\", \"051-248-153 26\", \"051-248-153 26\", \"051-248-153 26\", \"051-248-153 26\", \"051-248-153 26\", \"051-248-153 26\", \"051-248-153 26\", \"051-248-153 26\", \"051-248-153 26\", \"051-248-153 26\", \"051-248-153 26\", \"051-248-153 26\", \"051-248-153 26\", \"051-248-153 26\", \"051-248-153 26\", \"051-248-153 26\", \"051-248-153 26\", \"051-248-153 26\", \"051-248-153 26\", \"051-248-153 26\", \"051-248-153 26\", \"051-248-153 26\", \"051-248-153 26\", \"051-248-153 26\", \"051-248-153 26\", \"051-248-153 26\", \"051-248-153 26\", \"051-248-153 26\", \"051-248-153 26\", \"051-248-153 26\", \"051-248-153 26\", \"051-248-153 26\", \"051-248-153 26\", \"051-248-153 26\", \"051-248-153 26\", \"051-248-153 26\", \"051-248-153 26\", \"051-248-153 26\", \"051-248-153 26\", \"051-248-153 26\", \"051-248-153 26\", \"051-248-153 26\", \"051-248-153 26\", \"051-248-153 26\", \"051-248-153 26\", \"051-248-153 26\", \"051-248-153 26\", \"051-248-153 26\", \"051-248-153 26\", \"051-248-153 26\", \"051-248-153 26\", \"051-248-153 26\", \"051-248-153 26\", \"051-248-153 26\", \"051-248-153 26\", \"051-248-153 26\", \"051-248-153 26\", \"051-248-153 26\", \"051-248-153 26\", \"051-248-153 26\", \"051-248-153 26\", \"051-248-153 26\", \"051-248-153 26\", \"051-248-153 26\", \"051-248-153 26\", \"051-248-153 26\", \"051-248-153 26\", \"051-248-153 26\", \"051-248-153 26\", \"051-248-153 26\", \"051-248-153 26\", \"051-248-153 26\", \"051-248-153 26\", \"051-248-153 26\", \"051-248-153 26\", \"051-248-153 26\", \"051-248-153 26\", \"051-248-153 26\", \"051-248-153 26\", \"051-248-153 26\", \"051-248-153 26\", \"051-248-153 26\", \"051-248-153 26\", \"051-248-153 26\", \"051-248-153 26\", \"051-248-153 26\", \"051-248-153 26\", \"051-248-153 26\", \"051-248-153 26\", \"051-248-153 26\", \"051-248-153 26\", \"051-248-153 26\", \"051-248-153 26\", \"051-248-153 26\", \"051-248-153 26\", \"051-248-153 26\", \"051-248-153 26\", \"051-248-153 26\", \"051-248-153 26\", \"051-248-153 26\", \"051-248-153 26\", \"051-248-153 26\", \"051-248-153 26\", \"051-248-153 26\", \"051-248-153 26\", \"051-248-153 26\", \"051-248-153 26\", \"051-248-153 26\", \"051-248-153 26\", \"051-248-153 26\", \"051-248-153 26\", \"051-248-153 26\", \"051-248-153 26\", \"051-248-153 26\", \"051-248-153 26\", \"051-248-153 26\", \"051-248-153 26\", \"051-248-153 26\", \"051-248-153 26\", \"051-248-153 26\", \"051-248-153 26\", \"051-248-153 26\", \"051-248-153 26\", \"051-248-153 26\", \"051-248-153 26\", \"051-248-153 26\", \"051-248-153 26\", \"051-248-153 26\", \"051-248-153 26\", \"051-248-153 26\", \"051-248-153 26\", \"051-248-153 26\", \"051-248-153 26\", \"134-472-934 64\", \"134-472-934 64\", \"134-472-934 64\", \"134-472-934 64\", \"134-472-934 64\", \"134-472-934 64\", \"134-472-934 64\", \"134-472-934 64\", \"134-472-934 64\", \"134-472-934 64\", \"134-472-934 64\", \"134-472-934 64\", \"134-472-934 64\", \"134-472-934 64\", \"134-472-934 64\", \"134-472-934 64\", \"134-472-934 64\", \"134-472-934 64\", \"134-472-934 64\", \"134-472-934 64\", \"134-472-934 64\", \"134-472-934 64\", \"134-472-934 64\", \"134-472-934 64\", \"134-472-934 64\", \"134-472-934 64\", \"134-472-934 64\", \"134-472-934 64\", \"134-472-934 64\", \"134-472-934 64\", \"134-472-934 64\", \"134-472-934 64\", \"134-472-934 64\", \"134-472-934 64\", \"134-472-934 64\", \"134-472-934 64\", \"134-472-934 64\", \"134-472-934 64\", \"134-472-934 64\", \"134-472-934 64\", \"134-472-934 64\", \"134-472-934 64\", \"134-472-934 64\", \"134-472-934 64\", \"134-472-934 64\", \"134-472-934 64\", \"134-472-934 64\", \"134-472-934 64\", \"134-472-934 64\", \"134-472-934 64\", \"134-472-934 64\", \"134-472-934 64\", \"134-472-934 64\", \"134-472-934 64\", \"134-472-934 64\", \"134-472-934 64\", \"134-472-934 64\", \"134-472-934 64\", \"134-472-934 64\", \"134-472-934 64\", \"134-472-934 64\", \"134-472-934 64\", \"134-472-934 64\", \"134-472-934 64\", \"134-472-934 64\", \"134-472-934 64\", \"134-472-934 64\", \"134-472-934 64\", \"134-472-934 64\", \"134-472-934 64\", \"134-472-934 64\", \"134-472-934 64\", \"134-472-934 64\", \"134-472-934 64\", \"134-472-934 64\", \"134-472-934 64\", \"134-472-934 64\", \"134-472-934 64\", \"134-472-934 64\", \"134-472-934 64\", \"134-472-934 64\", \"134-472-934 64\", \"134-472-934 64\", \"134-472-934 64\", \"134-472-934 64\", \"134-472-934 64\", \"134-472-934 64\", \"134-472-934 64\", \"134-472-934 64\", \"134-472-934 64\", \"134-472-934 64\"]}, {\"columnID\": \"diagnosis\", \"columnHeader\": \"diagnosis\", \"columnDtype\": \"object\", \"columnData\": [\"D24\", \"D25.9\", \"D25.9\", \"D25.9\", \"D25.9\", \"D25.9\", \"D25.9\", \"D27\", \"D27\", \"E28.2\", \"E28.2\", \"N60.1\", \"N60.1\", \"N60.1\", \"N60.1\", \"N60.2\", \"N60.2\", \"N60.2\", \"N60.8\", \"N60.8\", \"N60.8\", \"N63\", \"N63\", \"N70.9\", \"N70.9\", \"N70.9\", \"N72\", \"N72\", \"N73.6\", \"N76.0\", \"N80.0\", \"N80.0\", \"N80.0\", \"N80.0\", \"N80.0\", \"N81.1\", \"N81.2\", \"N81.2\", \"N81.2\", \"N81.2\", \"N81.2\", \"N83.2\", \"N83.2\", \"N83.2\", \"N84.1\", \"N85.1\", \"N87.1\", \"N87.2\", \"N90.4\", \"N90.9\", \"N90.9\", \"N91.1\", \"N92.5\", \"N92.5\", \"N92.6\", \"N92.6\", \"N92.6\", \"N92.6\", \"N95.0\", \"N95.1\", \"N95.1\", \"N95.1\", \"N95.1\", \"N95.2\", \"N95.2\", \"N95.8\", \"O04.9\", \"O04.9\", \"O12.0\", \"O20.0\", \"O20.0\", \"O20.0\", \"O24.4\", \"O24.4\", \"O26.8\", \"O26.8\", \"O26.8\", \"O26.8\", \"O26.8\", \"O47.0\", \"O47.0\", \"O47.0\", \"O98.5\", \"O98.5\", \"O99.0\", \"O99.0\", \"O99.0\", \"O99.0\", \"O99.8\", \"O99.8\", \"O99.8\", \"O99.8\", \"O99.8\", \"O99.8\", \"O99.8\", \"Q51.8\", \"Q51.8\", \"Z01.4\", \"Z30.5\", \"Z34.0\", \"Z34.8\", \"Z34.9\", \"Z39.2\", \"D25.9\", \"D25.9\", \"D25.9\", \"D25.9\", \"D25.9\", \"D25.9\", \"D48.6\", \"N60.1\", \"N60.1\", \"N60.1\", \"N60.2\", \"N60.2\", \"N60.2\", \"N60.8\", \"N70.1\", \"N70.1\", \"N73.6\", \"N73.6\", \"N73.6\", \"N76.0\", \"N76.0\", \"N76.0\", \"N76.2\", \"N84.0\", \"N85.4\", \"N85.4\", \"N86\", \"N87.2\", \"N87.2\", \"N91.1\", \"N91.1\", \"N92.6\", \"N92.6\", \"N92.6\", \"N93.9\", \"N94.0\", \"N94.0\", \"N95.1\", \"N95.1\", \"N95.1\", \"O20.0\", \"O26.0\", \"O26.0\", \"O26.0\", \"O26.0\", \"O26.0\", \"O26.8\", \"O26.8\", \"O26.8\", \"O26.8\", \"O26.9\", \"O47.0\", \"O47.0\", \"O99.0\", \"O99.0\", \"O99.8\", \"O99.8\", \"O99.8\", \"Z01.4\", \"Z30.5\", \"Z34.0\", \"Z34.8\", \"Z34.9\", \"Z39.2\", \"B02.9\", \"B02.9\", \"B07\", \"B35.3\", \"B36.0\", \"D22.6\", \"D23.3\", \"D23.5\", \"D23.6\", \"D23.7\", \"K13.0\", \"L20.9\", \"L21.9\", \"L23.9\", \"L29.9\", \"L30.1\", \"L30.4\", \"L30.9\", \"L30.9\", \"L40.0\", \"L50.0\", \"L50.9\", \"L50.9\", \"L60.3\", \"L71.9\", \"L82\", \"L98.9\", \"Z00.0\", \"Z00.2\", \"G24.8\", \"G24.8\", \"G24.8\", \"G24.8\", \"G24.8\", \"G40.8\", \"G40.9\", \"G44.1\", \"G44.1\", \"G44.1\", \"G44.2\", \"G44.2\", \"G44.2\", \"G44.2\", \"G71.1\", \"G80.1\", \"G80.8\", \"G90.8\", \"G90.8\", \"G90.8\", \"G90.8\", \"G90.9\", \"G93.2\", \"G93.2\", \"G96.8\", \"G96.8\", \"G96.8\", \"G96.8\", \"G96.8\", \"G96.8\", \"M41.0\", \"M42.0\", \"M42.9\", \"M42.9\", \"M43.8\", \"M43.8\", \"M92.9\", \"M99.8\", \"M99.8\", \"M99.8\", \"N31.9\", \"R45.0\", \"R45.0\", \"R46.3\", \"R46.3\", \"R46.3\", \"R55\", \"R62.0\", \"S06.0\", \"S06.0\", \"S06.00\", \"S06.00\", \"T14.0\", \"Z00.1\", \"Z00.1\", \"Z00.1\", \"Z00.2\", \"Z00.3\", \"Z02.0\", \"M53.8\", \"D33.0\", \"D33.2\", \"D33.2\", \"E11.4\", \"E11.4\", \"G11.2\", \"G20\", \"G20\", \"G35\", \"G36.9\", \"G37.0\", \"G40.2\", \"G43.1\", \"G44.8\", \"G45.8\", \"G47.0\", \"G50.9\", \"G54.6\", \"G56.1\", \"G56.2\", \"G56.8\", \"G56.9\", \"G61.0\", \"G62.8\", \"G80.9\", \"G90.8\", \"G92\", \"G93.4\", \"G93.4\", \"G93.4\", \"G93.4\", \"G93.8\", \"I65.0\", \"I65.2\", \"I67.2\", \"I67.2\", \"I67.2\", \"I67.4\", \"I67.8\", \"I67.8\", \"I67.8\", \"I67.8\", \"M25.8\", \"M42.9\", \"M47.8\", \"M51.1\", \"M53.8\", \"M53.8\", \"M53.8\", \"M53.8\", \"M54.5\", \"S06.0\", \"Z00.0\", \"D12.5\", \"D14.3\", \"D17.9\", \"D18.0\", \"D23.3\", \"D23.5\", \"D23.9\", \"D24\", \"D24\", \"D33.2\", \"D35.0\", \"D35.9\", \"D38.1\", \"D38.1\", \"D41.0\", \"D41.0\", \"D48.1\", \"D48.6\", \"D48.9\", \"D64.9\", \"E04.9\", \"K31.7\", \"K51.9\", \"K51.9\", \"K63.5\", \"N20.0\", \"N40\", \"N41.1\", \"N60.1\", \"N60.8\", \"N60.8\", \"N60.9\", \"N61\", \"N62\", \"Z01.8\", \"Z03.8\", \"Z03.9\", \"H60.9\", \"H61.2\", \"H61.2\", \"H61.2\", \"H65.0\", \"H65.0\", \"H66.1\", \"H68.0\", \"H68.0\", \"H68.0\", \"H90.3\", \"H90.3\", \"H90.4\", \"H90.5\", \"H93.1\", \"J00\", \"J01.0\", \"J01.9\", \"J02.9\", \"J03.9\", \"J04.0\", \"J04.0\", \"J04.0\", \"J30.0\", \"J31.0\", \"J33.0\", \"J34.1\", \"J34.1\", \"J34.2\", \"J35.0\", \"J35.1\", \"J35.1\", \"J35.2\", \"J35.2\", \"J35.3\", \"J35.3\", \"J37.0\", \"K07.6\", \"K11.8\", \"R04.0\", \"Z01.0\", \"Z01.1\", \"Z01.1\", \"Z02.0\", \"Z03.8\", \"H00.0\", \"H00.0\", \"H00.0\", \"H00.0\", \"H04.1\", \"H04.6\", \"H05.2\", \"H05.2\", \"H10.0\", \"H10.0\", \"H10.2\", \"H10.5\", \"H10.5\", \"H11.3\", \"H16.2\", \"H16.8\", \"H17.8\", \"H17.8\", \"H17.8\", \"H20.1\", \"H20.1\", \"H20.1\", \"H20.1\", \"H21.3\", \"H25.0\", \"H25.0\", \"H25.0\", \"H25.0\", \"H25.0\", \"H25.8\", \"H25.8\", \"H25.8\", \"H25.8\", \"H25.8\", \"H25.8\", \"H26.2\", \"H26.2\", \"H26.2\", \"H26.2\", \"H26.4\", \"H26.4\", \"H26.4\", \"H26.4\", \"H26.8\", \"H26.8\", \"H26.8\", \"H31.8\", \"H33.3\", \"H33.3\", \"H33.5\", \"H34.8\", \"H34.8\", \"H35.0\", \"H35.3\", \"H35.3\", \"H35.3\", \"H35.3\", \"H35.3\", \"H40.0\", \"H40.0\", \"H40.0\", \"H40.0\", \"H40.0\", \"H40.1\", \"H40.1\", \"H40.1\", \"H40.1\", \"H40.1\", \"H40.1\", \"H40.2\", \"H40.3\", \"H40.3\", \"H40.5\", \"H40.5\", \"H44.2\", \"H47.2\", \"H50.0\", \"H50.0\", \"H50.1\", \"H52.0\", \"H52.0\", \"H52.1\", \"H52.1\", \"H52.1\", \"H52.1\", \"H52.1\", \"H52.1\", \"H52.2\", \"H52.2\", \"H52.2\", \"H52.2\", \"H52.2\", \"H52.2\", \"H52.4\", \"H52.4\", \"H52.4\", \"H52.5\", \"H52.5\", \"H52.5\", \"H52.5\", \"S05.1\", \"Z01.0\", \"A07.1\", \"A09.0\", \"B01.9\", \"D50.9\", \"D50.9\", \"D50.9\", \"E10.9\", \"E66.0\", \"E66.0\", \"G44.2\", \"G90.8\", \"G90.8\", \"G90.9\", \"G96.8\", \"H52.1\", \"H65.9\", \"H66.0\", \"J00\", \"J00\", \"J00\", \"J00\", \"J00\", \"J00\", \"J00\", \"J00\", \"J00\", \"J02.9\", \"J02.9\", \"J02.9\", \"J03.9\", \"J04.2\", \"J04.2\", \"J06.9\", \"J06.9\", \"J06.9\", \"J06.9\", \"J06.9\", \"J06.9\", \"J06.9\", \"J06.9\", \"J06.9\", \"J06.9\", \"J06.9\", \"J06.9\", \"J10.1\", \"J10.1\", \"J10.1\", \"J10.1\", \"J10.1\", \"J18.9\", \"J35.1\", \"J35.2\", \"K00.7\", \"K00.7\", \"K00.7\", \"K00.7\", \"K12.1\", \"K12.1\", \"K30\", \"K59.0\", \"K59.9\", \"L23.9\", \"L23.9\", \"L23.9\", \"M77.9\", \"M85.0\", \"N31.9\", \"N39.0\", \"N39.0\", \"N39.4\", \"P12.0\", \"Q66.8\", \"R04.0\", \"R10.4\", \"R10.4\", \"R10.4\", \"R10.4\", \"R10.4\", \"R50.9\", \"R55\", \"R94.3\", \"U07.1\", \"U07.1\", \"U07.1\", \"U07.1\", \"Z00.1\", \"Z00.2\", \"Z00.2\", \"Z00.3\", \"Z01.8\", \"Z03.8\", \"Z24.1\", \"Z24.6\", \"Z27.1\", \"Z27.4\", \"Z27.8\", \"Z27.8\", \"B01.9\", \"B01.9\", \"D50.9\", \"D50.9\", \"D50.9\", \"D69.3\", \"E10.9\", \"E66.9\", \"E74.0\", \"G90.8\", \"H66.0\", \"J00\", \"J00\", \"J00\", \"J00\", \"J00\", \"J00\", \"J00\", \"J02.9\", \"J02.9\", \"J02.9\", \"J02.9\", \"J04.0\", \"J04.0\", \"J04.0\", \"J04.1\", \"J04.1\", \"J04.1\", \"J04.1\", \"J04.2\", \"J06.8\", \"J06.8\", \"J06.8\", \"J06.9\", \"J06.9\", \"J06.9\", \"J06.9\", \"J06.9\", \"J06.9\", \"J06.9\", \"J06.9\", \"J06.9\", \"J06.9\", \"J06.9\", \"J06.9\", \"J09\", \"J20.9\", \"J20.9\", \"J20.9\", \"J39.3\", \"K30\", \"K30\", \"K30\", \"K59.0\", \"L30.9\", \"L30.9\", \"L50.9\", \"M41.1\", \"M42.9\", \"N30.9\", \"Q21.0\", \"R01.0\", \"R04.0\", \"R10.4\", \"R19.8\", \"R19.8\", \"R19.8\", \"R19.8\", \"U07.1\", \"U07.1\", \"U07.1\", \"U07.1\", \"Z00.1\", \"Z00.1\", \"Z00.1\", \"Z00.2\", \"Z00.3\", \"Z00.3\", \"Z03.8\", \"Z24.0\", \"Z24.1\", \"Z24.6\", \"Z27.4\", \"Z27.8\", \"D50.9\", \"E10.9\", \"E10.9\", \"E66.0\", \"J00\", \"J00\", \"J00\", \"J00\", \"J00\", \"J00\", \"J00\", \"J02.9\", \"J02.9\", \"J02.9\", \"J02.9\", \"J02.9\", \"J02.9\", \"J03.9\", \"J04.2\", \"J04.2\", \"J04.2\", \"J04.2\", \"J06.9\", \"J06.9\", \"J06.9\", \"J06.9\", \"J06.9\", \"J06.9\", \"J06.9\", \"J06.9\", \"J06.9\", \"J06.9\", \"J06.9\", \"J06.9\", \"J10.1\", \"J10.1\", \"J45.0\", \"K00.7\", \"K00.7\", \"K00.7\", \"K30\", \"K30\", \"K30\", \"K30\", \"K30\", \"K40.9\", \"K40.9\", \"K73.2\", \"K73.2\", \"K82.8\", \"K83.8\", \"L23.9\", \"L23.9\", \"L23.9\", \"L80\", \"L85.0\", \"M08.8\", \"M21.8\", \"M21.8\", \"N13.3\", \"N39.0\", \"R04.0\", \"R04.0\", \"U07.1\", \"U07.1\", \"U07.1\", \"Z00.1\", \"Z00.2\", \"Z00.2\", \"Z00.2\", \"Z00.3\", \"Z00.3\", \"Z01.0\", \"Z03.8\", \"Z23.8\", \"Z24.0\", \"Z24.1\", \"Z27.4\", \"Z27.8\", \"B01.9\", \"B01.9\", \"B37.0\", \"G40.0\", \"G90.8\", \"G90.8\", \"H65.9\", \"H65.9\", \"I49.3\", \"I83.1\", \"J00\", \"J00\", \"J00\", \"J00\", \"J00\", \"J00\", \"J00\", \"J02.9\", \"J02.9\", \"J03.9\", \"J03.9\", \"J06.9\", \"J06.9\", \"J06.9\", \"J06.9\", \"J06.9\", \"J06.9\", \"J06.9\", \"J06.9\", \"J06.9\", \"J06.9\", \"J06.9\", \"J06.9\", \"J10.1\", \"J10.8\", \"K59.9\", \"L23.9\", \"M08.4\", \"M41.1\", \"M41.9\", \"M41.9\", \"M41.9\", \"N30.9\", \"R10.4\", \"R10.4\", \"R10.4\", \"R16.0\", \"Z00.1\", \"Z00.1\", \"Z00.2\", \"Z00.2\", \"Z00.3\", \"Z00.3\", \"Z23.8\", \"Z24.0\", \"Z24.6\", \"Z27.1\", \"Z27.4\", \"Z27.8\", \"B18.2\", \"D23.5\", \"D33.2\", \"D35.2\", \"D41.4\", \"D64.9\", \"E04.9\", \"E11.2\", \"E11.4\", \"E11.4\", \"E11.5\", \"E11.6\", \"E11.6\", \"E11.7\", \"E11.7\", \"E11.8\", \"E11.8\", \"E11.8\", \"E11.8\", \"E11.9\", \"E11.9\", \"G10\", \"G20\", \"G90.8\", \"G92\", \"H25.8\", \"H60.9\", \"H90.8\", \"I08.0\", \"I10\", \"I10\", \"I20.0\", \"I25.1\", \"I25.2\", \"I25.2\", \"I25.2\", \"I25.2\", \"I25.6\", \"I25.8\", \"I25.8\", \"I25.8\", \"I25.9\", \"I25.9\", \"I25.9\", \"I31.8\", \"I42.9\", \"I67.2\", \"I67.2\", \"I67.4\", \"I67.4\", \"I67.4\", \"I67.4\", \"I67.4\", \"I67.4\", \"I67.4\", \"I67.4\", \"I67.8\", \"I67.8\", \"I67.8\", \"I67.8\", \"I69.3\", \"I70.2\", \"I70.2\", \"J01.8\", \"J01.9\", \"J04.0\", \"J04.1\", \"J04.1\", \"J06.9\", \"J06.9\", \"J06.9\", \"J06.9\", \"J06.9\", \"J06.9\", \"J09\", \"J10.1\", \"J10.1\", \"J10.1\", \"J10.8\", \"J20.9\", \"J31.2\", \"J35.0\", \"J35.0\", \"J37.0\", \"J37.0\", \"J42\", \"J44.8\", \"J44.8\", \"J44.8\", \"J45.0\", \"J45.9\", \"J45.9\", \"J45.9\", \"J47\", \"J84.8\", \"K29.5\", \"K29.9\", \"K29.9\", \"K52.3\", \"K74.5\", \"K80.1\", \"K85.9\", \"K85.9\", \"K85.9\", \"K86.1\", \"K86.8\", \"K86.9\", \"K86.9\", \"M05.3\", \"M05.8\", \"M05.9\", \"M06.0\", \"M06.0\", \"M06.0\", \"M06.0\", \"M06.9\", \"M10.9\", \"M17.9\", \"M19.9\", \"M42.1\", \"M42.1\", \"M53.8\", \"M53.8\", \"M53.8\", \"M53.8\", \"M53.8\", \"M53.8\", \"N20.9\", \"N30.9\", \"N30.9\", \"N41.1\", \"U07.1\", \"U07.1\", \"U07.1\", \"U11.9\", \"U11.9\", \"Z24.1\", \"D41.0\", \"E11.6\", \"E11.7\", \"G51.8\", \"H10.9\", \"I10\", \"I20.8\", \"I20.8\", \"I25.1\", \"I48.1\", \"I67.2\", \"I67.4\", \"J18.9\", \"M07.2\", \"M13.9\", \"M32.1\", \"M53.8\", \"M53.8\", \"U07.1\", \"B01.9\", \"D23.4\", \"D24\", \"D25.9\", \"D35.9\", \"D64.9\", \"E03.8\", \"E04.1\", \"E04.1\", \"E04.2\", \"E04.2\", \"E04.2\", \"E05.0\", \"E05.2\", \"E10.7\", \"E11.3\", \"E11.4\", \"E11.4\", \"E11.4\", \"E11.7\", \"E11.7\", \"E11.8\", \"E11.8\", \"E11.8\", \"E11.9\", \"E11.9\", \"E11.9\", \"E11.9\", \"E78.0\", \"E78.8\", \"E78.8\", \"E89.0\", \"G56.1\", \"G62.9\", \"G90.8\", \"G90.8\", \"G90.8\", \"G90.8\", \"G90.8\", \"H10.9\", \"H40.1\", \"H65.0\", \"H66.0\", \"H90.3\", \"I08.0\", \"I10\", \"I10\", \"I10\", \"I10\", \"I10\", \"I10\", \"I10\", \"I10\", \"I10\", \"I11.9\", \"I11.9\", \"I11.9\", \"I11.9\", \"I11.9\", \"I11.9\", \"I11.9\", \"I11.9\", \"I11.9\", \"I11.9\", \"I20.8\", \"I20.8\", \"I25.2\", \"I25.2\", \"I25.2\", \"I25.2\", \"I25.2\", \"I25.8\", \"I25.8\", \"I25.8\", \"I25.9\", \"I25.9\", \"I36.1\", \"I42.8\", \"I44.2\", \"I67.2\", \"I67.2\", \"I67.2\", \"I67.2\", \"I67.2\", \"I67.2\", \"I67.2\", \"I67.4\", \"I67.4\", \"I67.4\", \"I67.4\", \"I67.4\", \"I67.4\", \"I67.8\", \"I67.8\", \"I67.8\", \"I70.2\", \"I70.8\", \"J02.9\", \"J06.9\", \"J06.9\", \"J06.9\", \"J06.9\", \"J06.9\", \"J06.9\", \"J06.9\", \"J06.9\", \"J06.9\", \"J06.9\", \"J06.9\", \"J06.9\", \"J20.9\", \"J20.9\", \"J20.9\", \"J32.9\", \"J40\", \"J42\", \"J44.8\", \"J44.9\", \"J44.9\", \"J45.8\", \"J45.8\", \"J45.9\", \"K29.5\", \"K29.5\", \"K29.5\", \"K29.5\", \"K29.5\", \"K29.7\", \"K29.9\", \"K29.9\", \"K29.9\", \"K58.8\", \"K58.8\", \"K58.8\", \"K58.8\", \"K71.5\", \"K80.2\", \"K81.1\", \"K86.1\", \"K86.1\", \"K86.1\", \"K91.5\", \"L40.5\", \"M05.8\", \"M05.8\", \"M05.8\", \"M06.0\", \"M06.0\", \"M13.9\", \"M13.9\", \"M13.9\", \"M13.9\", \"M15.0\", \"M19.9\", \"M19.9\", \"M19.9\", \"M19.9\", \"M19.9\", \"M19.9\", \"M34.0\", \"M42.1\", \"M53.8\", \"M53.8\", \"M53.8\", \"M53.8\", \"M53.8\", \"M53.8\", \"M53.8\", \"M53.8\", \"M53.9\", \"M53.9\", \"M53.9\", \"M53.9\", \"M80.0\", \"N11.0\", \"N11.0\", \"N18.4\", \"N18.4\", \"N18.4\", \"N18.9\", \"N20.0\", \"N20.0\", \"N20.9\", \"N28.1\", \"N39.0\", \"N39.9\", \"N40\", \"O24.4\", \"R73.9\", \"U07.1\", \"U07.1\", \"U07.1\", \"U07.1\", \"U07.1\", \"U11.9\", \"Z34.0\", \"D50.9\", \"D50.9\", \"D64.9\", \"E06.3\", \"E11.4\", \"E11.7\", \"E11.8\", \"E11.8\", \"E11.8\", \"E11.9\", \"E11.9\", \"E11.9\", \"E89.0\", \"G90.8\", \"H05.2\", \"H25.8\", \"I10\", \"I10\", \"I10\", \"I10\", \"I11.9\", \"I11.9\", \"I25.2\", \"I25.2\", \"I25.2\", \"I25.2\", \"I25.8\", \"I25.8\", \"I25.9\", \"I25.9\", \"I25.9\", \"I25.9\", \"I25.9\", \"I35.0\", \"I42.8\", \"I48.0\", \"I48.0\", \"I48.0\", \"I48.9\", \"I48.9\", \"I67.2\", \"I67.2\", \"I67.4\", \"I67.4\", \"I67.4\", \"I67.4\", \"I67.4\", \"I97.1\", \"I97.1\", \"J06.9\", \"J06.9\", \"J06.9\", \"J06.9\", \"J06.9\", \"J06.9\", \"J20.9\", \"J42\", \"J42\", \"J44.8\", \"J45.8\", \"J45.9\", \"J45.9\", \"K21.0\", \"K29.1\", \"K29.6\", \"K29.9\", \"K29.9\", \"K29.9\", \"K29.9\", \"K74.6\", \"K81.9\", \"K86.1\", \"K86.1\", \"L40.9\", \"M05.8\", \"M06.0\", \"M19.0\", \"M42.1\", \"M42.1\", \"M45\", \"M53.8\", \"M53.8\", \"M53.8\", \"M53.8\", \"N11.1\", \"N30.9\", \"N30.9\", \"S72.0\", \"U07.1\", \"U07.1\", \"U07.1\", \"U07.1\", \"U07.1\", \"U07.1\", \"Z04.8\", \"D23.4\", \"D23.6\", \"D23.6\", \"D48.9\", \"D48.9\", \"D48.9\", \"D64.9\", \"G56.0\", \"I70.2\", \"I83.9\", \"I83.9\", \"K35.8\", \"K35.8\", \"K35.8\", \"K35.8\", \"K35.8\", \"K40.9\", \"K40.9\", \"K40.9\", \"K42.9\", \"K42.9\", \"K42.9\", \"K44.9\", \"K52.3\", \"K59.9\", \"K60.4\", \"K60.4\", \"K61.2\", \"K63.5\", \"K80.0\", \"K80.1\", \"K80.1\", \"K80.1\", \"K86.0\", \"L02.0\", \"L02.2\", \"L02.2\", \"L02.3\", \"L04.8\", \"L05.9\", \"L05.9\", \"L05.9\", \"L60.0\", \"M16.5\", \"M16.9\", \"M16.9\", \"M16.9\", \"M17.3\", \"M17.9\", \"M17.9\", \"M17.9\", \"M17.9\", \"M17.9\", \"M19.1\", \"M19.1\", \"M19.1\", \"M19.9\", \"M19.9\", \"M19.9\", \"M19.9\", \"M19.9\", \"M20.1\", \"M21.0\", \"M21.4\", \"M23.2\", \"M23.2\", \"M23.2\", \"M23.3\", \"M65.9\", \"M70.2\", \"M71.9\", \"M72.0\", \"M75.8\", \"M75.8\", \"M75.8\", \"M76.6\", \"M77.1\", \"M77.3\", \"M77.3\", \"M77.3\", \"N20.0\", \"N20.9\", \"N40\", \"N40\", \"N40\", \"N41.1\", \"N41.1\", \"N41.1\", \"N45.9\", \"R59.9\", \"S01.8\", \"S06.00\", \"S20.2\", \"S20.2\", \"S22.30\", \"S22.30\", \"S30.0\", \"S42.20\", \"S43.1\", \"S43.1\", \"S52.00\", \"S52.10\", \"S52.50\", \"S52.50\", \"S52.50\", \"S52.50\", \"S60.2\", \"S60.2\", \"S60.2\", \"S60.2\", \"S61.0\", \"S61.1\", \"S61.1\", \"S62.30\", \"S62.30\", \"S70.0\", \"S78.1\", \"S80.0\", \"S80.0\", \"S80.0\", \"S81.0\", \"S81.0\", \"S82.40\", \"S82.60\", \"S82.60\", \"S82.60\", \"S82.60\", \"S82.70\", \"S82.70\", \"S82.70\", \"S90.0\", \"S90.3\", \"S90.3\", \"S91.1\", \"S91.1\", \"S92.40\", \"S92.40\", \"T20.2\", \"T84.4\", \"T92.1\", \"T92.3\", \"T92.3\", \"T92.3\", \"T92.8\", \"T93.2\", \"T93.8\", \"T93.8\", \"T93.8\", \"T93.8\", \"T93.8\", \"D21.2\", \"D23.5\", \"D23.6\", \"D25.1\", \"D48.1\", \"D48.1\", \"D48.9\", \"D64.9\", \"G56.0\", \"G56.1\", \"I25.8\", \"I70.2\", \"I70.2\", \"I70.2\", \"I80.2\", \"I80.2\", \"I83.9\", \"I87.0\", \"I87.0\", \"I87.2\", \"J36\", \"K22.0\", \"K35.8\", \"K35.8\", \"K40.9\", \"K42.9\", \"K52.3\", \"K59.9\", \"K64.2\", \"K64.2\", \"K64.3\", \"K80.1\", \"K81.1\", \"K86.1\", \"L04.8\", \"L60.0\", \"L60.0\", \"L98.4\", \"M13.9\", \"M15.9\", \"M15.9\", \"M16.9\", \"M16.9\", \"M16.9\", \"M16.9\", \"M16.9\", \"M17.3\", \"M17.3\", \"M17.9\", \"M17.9\", \"M17.9\", \"M17.9\", \"M17.9\", \"M19.1\", \"M19.1\", \"M19.1\", \"M19.1\", \"M19.1\", \"M19.9\", \"M19.9\", \"M19.9\", \"M19.9\", \"M21.4\", \"M23.2\", \"M23.2\", \"M23.2\", \"M23.3\", \"M25.7\", \"M25.7\", \"M41.8\", \"M53.8\", \"M65.9\", \"M75.2\", \"M75.8\", \"M77.3\", \"M77.3\", \"M77.3\", \"M77.3\", \"N20.0\", \"N20.9\", \"N30.0\", \"N30.8\", \"N40\", \"N41.1\", \"N43.0\", \"N43.2\", \"N43.2\", \"N62\", \"N62\", \"Q43.8\", \"Q51.2\"]}, {\"columnID\": \"purpose\", \"columnHeader\": \"purpose\", \"columnDtype\": \"float64\", \"columnData\": [1.0, 1.0, 3.0, 3.0, 3.0, 3.0, 3.0, 3.0, 3.0, 3.0, 3.0, 1.0, 3.0, 3.0, 3.0, 1.0, 3.0, 3.0, 1.0, 3.0, 3.0, 3.0, 3.0, 1.0, 3.0, 3.0, 3.0, 3.0, 1.0, 1.0, 1.0, 3.0, 3.0, 3.0, 3.0, 1.0, 1.0, 3.0, 3.0, 3.0, 3.0, 1.0, 3.0, 3.0, 1.0, 1.0, 1.0, 1.0, 1.0, 3.0, 3.0, 1.0, 3.0, 3.0, 1.0, 3.0, 3.0, 3.0, 3.0, 1.0, 3.0, 3.0, 3.0, 3.0, 3.0, 1.0, 3.0, 3.0, 1.0, 1.0, 3.0, 3.0, 3.0, 3.0, 1.0, 3.0, 3.0, 3.0, 3.0, 1.0, 3.0, 3.0, 3.0, 3.0, 3.0, 3.0, 3.0, 3.0, 1.0, 3.0, 3.0, 3.0, 3.0, 3.0, 3.0, 3.0, 3.0, 2.6, 2.6, 2.6, 2.6, 2.6, 2.6, 1.0, 3.0, 3.0, 3.0, 3.0, 3.0, 1.0, 1.0, 3.0, 3.0, 1.0, 3.0, 3.0, 1.0, 3.0, 3.0, 1.0, 3.0, 3.0, 1.0, 3.0, 3.0, 1.0, 1.0, 3.0, 3.0, 1.0, 1.3, 1.3, 3.0, 3.0, 1.0, 3.0, 3.0, 1.0, 3.0, 3.0, 1.0, 3.0, 3.0, 1.0, 3.0, 3.0, 3.0, 3.0, 3.0, 1.0, 3.0, 3.0, 3.0, 1.0, 3.0, 3.0, 3.0, 3.0, 1.0, 3.0, 3.0, 2.6, 2.6, 2.6, 2.6, 2.6, 2.6, 1.0, 3.0, 1.0, 1.0, 1.0, 1.0, 1.0, 1.0, 1.0, 1.0, 3.0, 1.0, 1.0, 1.0, 1.0, 1.0, 1.0, 1.0, 3.0, 1.0, 1.0, 1.0, 3.0, 1.0, 1.0, 1.0, 1.0, 2.6, 2.6, 1.0, 1.0, 1.3, 3.0, 3.0, 1.3, 1.3, 1.0, 3.0, 3.0, 1.0, 1.3, 3.0, 3.0, 1.0, 1.3, 1.3, 1.0, 1.3, 3.0, 3.0, 1.0, 1.0, 1.3, 1.0, 1.0, 1.3, 3.0, 3.0, 3.0, 1.0, 1.3, 3.0, 3.0, 3.0, 3.0, 1.3, 1.0, 1.0, 1.3, 1.0, 1.0, 3.0, 1.0, 3.0, 3.0, 1.1, 1.0, 1.0, 1.3, 1.0, 1.3, 1.1, 2.6, 2.6, 2.6, 2.6, 2.6, 2.6, 1.0, 1.0, 1.0, 1.3, 1.0, 1.2, 3.0, 1.3, 1.3, 1.3, 1.0, 1.0, 1.0, 1.0, 3.0, 1.0, 1.0, 1.0, 1.2, 1.0, 1.0, 1.3, 1.0, 1.0, 1.2, 1.2, 1.0, 1.2, 1.0, 1.2, 1.3, 3.0, 1.0, 1.0, 1.0, 1.0, 1.2, 3.0, 1.0, 1.0, 1.0, 1.2, 1.3, 1.0, 3.0, 1.0, 1.0, 1.0, 1.2, 3.0, 3.0, 1.0, 1.0, 2.6, 1.0, 1.0, 1.0, 1.0, 1.0, 1.0, 1.0, 1.0, 1.0, 1.0, 3.0, 1.0, 1.0, 3.0, 1.0, 3.0, 1.0, 1.0, 1.0, 1.0, 1.0, 1.0, 1.0, 3.0, 1.0, 1.0, 1.0, 1.0, 1.0, 1.0, 1.0, 1.0, 1.0, 1.0, 2.6, 2.6, 2.6, 1.0, 1.0, 3.0, 3.0, 1.0, 3.0, 1.0, 1.0, 3.0, 3.0, 1.0, 1.0, 1.0, 1.0, 1.0, 1.0, 1.0, 1.0, 1.0, 1.0, 1.0, 3.0, 3.0, 1.0, 1.0, 1.0, 1.0, 3.0, 1.0, 1.0, 1.0, 3.0, 1.0, 3.0, 1.0, 3.0, 1.0, 1.0, 1.0, 1.0, 2.6, 2.6, 2.6, 2.6, 2.6, 1.0, 1.1, 3.0, 3.0, 1.0, 1.0, 3.0, 3.0, 1.0, 1.1, 1.1, 1.0, 1.1, 1.1, 1.1, 1.1, 1.0, 3.0, 3.0, 1.1, 1.3, 3.0, 3.0, 1.3, 1.0, 3.0, 3.0, 3.0, 3.0, 1.0, 3.0, 3.0, 3.0, 3.0, 3.0, 1.0, 3.0, 3.0, 3.0, 1.0, 3.0, 3.0, 3.0, 1.0, 3.0, 3.0, 3.0, 3.0, 3.0, 1.3, 3.0, 3.0, 1.0, 1.0, 1.3, 3.0, 3.0, 3.0, 1.0, 1.3, 3.0, 3.0, 3.0, 1.0, 1.3, 1.3, 3.0, 3.0, 3.0, 1.3, 3.0, 3.0, 1.0, 1.3, 1.3, 1.0, 3.0, 3.0, 1.3, 1.0, 1.3, 1.0, 1.3, 1.3, 3.0, 3.0, 3.0, 1.0, 1.3, 3.0, 3.0, 3.0, 3.0, 1.0, 3.0, 3.0, 1.0, 1.3, 3.0, 3.0, 1.1, 2.6, 1.0, 1.2, 1.1, 1.0, 1.0, 3.0, 1.0, 1.0, 1.0, 1.0, 1.0, 3.0, 1.0, 1.0, 1.0, 1.0, 3.0, 1.0, 1.1, 1.1, 1.2, 3.0, 3.0, 3.0, 3.0, 3.0, 1.0, 1.1, 3.0, 1.0, 3.0, 3.0, 1.0, 1.1, 1.1, 1.2, 3.0, 3.0, 3.0, 3.0, 3.0, 3.0, 3.0, 3.0, 1.0, 1.2, 3.0, 3.0, 3.0, 1.0, 1.0, 1.0, 1.0, 1.1, 1.1, 3.0, 1.0, 3.0, 1.0, 1.0, 1.1, 1.0, 3.0, 3.0, 3.0, 1.0, 1.0, 1.0, 1.3, 1.0, 1.2, 1.0, 3.0, 1.0, 1.1, 1.1, 1.2, 3.0, 3.0, 1.1, 1.0, 1.1, 3.0, 3.0, 3.0, 2.6, 2.6, 2.6, 2.6, 2.6, 2.6, 2.6, 2.6, 2.6, 2.6, 2.6, 2.6, 1.1, 3.0, 1.0, 1.2, 1.3, 1.3, 1.3, 1.3, 1.3, 1.0, 1.0, 1.0, 1.0, 1.1, 3.0, 3.0, 3.0, 3.0, 1.0, 3.0, 3.0, 3.0, 1.0, 3.0, 3.0, 1.0, 3.0, 3.0, 3.0, 3.0, 3.0, 3.0, 3.0, 1.0, 1.0, 1.1, 1.1, 1.2, 3.0, 3.0, 3.0, 3.0, 3.0, 3.0, 3.0, 3.0, 1.1, 1.1, 3.0, 1.3, 1.0, 3.0, 3.0, 1.0, 1.0, 1.0, 1.0, 1.3, 1.3, 1.0, 1.3, 1.0, 1.0, 1.0, 1.0, 1.1, 3.0, 3.0, 1.2, 3.0, 3.0, 3.0, 2.5, 2.5, 2.6, 2.6, 2.6, 2.6, 2.6, 2.6, 2.6, 2.6, 2.6, 2.6, 1.3, 1.0, 1.3, 1.3, 1.0, 1.1, 3.0, 3.0, 3.0, 3.0, 3.0, 1.0, 1.1, 3.0, 3.0, 3.0, 3.0, 1.0, 1.1, 3.0, 3.0, 3.0, 1.0, 1.0, 1.1, 1.1, 3.0, 3.0, 3.0, 3.0, 3.0, 3.0, 3.0, 3.0, 1.0, 1.0, 1.3, 1.1, 3.0, 3.0, 1.1, 1.2, 3.0, 3.0, 3.0, 3.0, 3.0, 3.0, 3.0, 1.0, 1.3, 1.0, 3.0, 3.0, 1.0, 1.3, 1.0, 1.0, 1.3, 1.3, 1.3, 3.0, 3.0, 3.0, 3.0, 3.0, 2.6, 2.6, 2.6, 2.6, 2.6, 2.6, 2.6, 2.6, 2.6, 2.6, 2.6, 2.6, 2.6, 1.0, 1.1, 1.0, 1.0, 1.0, 1.3, 3.0, 3.0, 1.0, 1.0, 1.0, 1.0, 1.1, 3.0, 3.0, 3.0, 3.0, 3.0, 3.0, 1.0, 1.1, 1.0, 1.0, 1.1, 3.0, 3.0, 3.0, 3.0, 3.0, 3.0, 3.0, 3.0, 3.0, 1.0, 3.0, 1.0, 1.0, 1.0, 1.0, 1.0, 3.0, 3.0, 1.1, 1.0, 1.0, 1.1, 1.0, 2.6, 2.6, 2.6, 2.6, 2.6, 2.6, 2.6, 2.6, 2.6, 2.6, 2.6, 2.6, 1.0, 3.0, 1.0, 1.0, 1.0, 1.0, 1.0, 1.0, 1.0, 3.0, 1.0, 1.0, 1.1, 1.0, 1.2, 1.0, 3.0, 3.0, 3.0, 1.0, 1.1, 1.0, 1.0, 1.0, 1.2, 1.0, 1.0, 1.0, 1.0, 1.0, 3.0, 1.1, 1.0, 1.0, 1.1, 1.3, 3.0, 1.0, 1.0, 1.1, 3.0, 1.0, 1.1, 1.3, 1.0, 1.1, 1.0, 1.2, 1.0, 1.1, 1.2, 1.3, 3.0, 3.0, 3.0, 3.0, 1.0, 1.1, 1.2, 1.3, 1.1, 1.0, 1.3, 1.0, 1.0, 1.0, 1.0, 3.0, 1.0, 1.1, 3.0, 3.0, 3.0, 3.0, 1.0, 1.0, 1.1, 3.0, 3.0, 3.0, 3.0, 1.0, 3.0, 1.0, 3.0, 1.1, 1.1, 3.0, 3.0, 1.0, 1.0, 3.0, 3.0, 1.0, 1.0, 1.0, 1.0, 3.0, 3.0, 1.0, 1.0, 1.0, 1.1, 3.0, 1.0, 1.0, 1.0, 3.0, 1.0, 1.0, 1.0, 1.0, 3.0, 3.0, 3.0, 3.0, 1.0, 1.1, 1.0, 1.0, 3.0, 1.0, 3.0, 3.0, 3.0, 3.0, 3.0, 1.0, 1.0, 3.0, 1.0, 1.0, 1.1, 3.0, 2.6, 2.6, 2.6, 1.0, 1.0, 1.0, 1.0, 1.1, 1.0, 1.0, 1.3, 1.0, 1.0, 1.0, 1.0, 1.1, 1.0, 1.0, 1.0, 1.0, 1.1, 1.0, 1.1, 1.0, 1.0, 1.0, 1.0, 1.0, 1.0, 1.0, 1.0, 1.0, 3.0, 3.0, 1.0, 1.0, 1.3, 1.3, 1.3, 3.0, 3.0, 1.1, 1.3, 1.0, 1.2, 1.3, 1.0, 1.0, 1.0, 1.3, 1.0, 3.0, 3.0, 1.0, 1.0, 1.0, 1.0, 1.0, 1.1, 3.0, 3.0, 1.0, 1.0, 1.0, 1.0, 1.0, 1.0, 1.0, 1.0, 1.0, 1.0, 1.1, 1.3, 3.0, 3.0, 3.0, 1.0, 1.0, 1.0, 1.1, 1.3, 1.3, 3.0, 3.0, 3.0, 3.0, 1.0, 1.3, 1.0, 1.0, 1.1, 1.3, 1.3, 1.0, 1.1, 1.3, 1.0, 1.3, 3.0, 1.0, 3.0, 1.0, 1.0, 1.1, 1.3, 3.0, 3.0, 3.0, 1.0, 1.1, 1.3, 3.0, 3.0, 3.0, 1.0, 1.0, 1.3, 1.1, 1.0, 1.0, 1.0, 1.0, 1.0, 1.0, 1.1, 3.0, 3.0, 3.0, 3.0, 3.0, 3.0, 3.0, 1.0, 3.0, 3.0, 1.0, 1.1, 1.0, 1.0, 1.1, 3.0, 1.0, 1.3, 1.3, 1.0, 1.0, 1.0, 3.0, 3.0, 1.0, 1.0, 1.0, 1.0, 1.0, 3.0, 3.0, 3.0, 1.0, 1.0, 1.0, 1.1, 3.0, 3.0, 1.0, 1.0, 1.0, 1.0, 1.1, 1.0, 1.0, 1.0, 3.0, 3.0, 3.0, 1.0, 1.0, 1.0, 3.0, 3.0, 3.0, 3.0, 1.0, 1.0, 1.0, 1.0, 1.1, 3.0, 3.0, 3.0, 3.0, 3.0, 1.0, 1.0, 3.0, 3.0, 1.0, 3.0, 3.0, 3.0, 3.0, 3.0, 1.0, 1.0, 1.0, 1.0, 1.0, 1.0, 1.0, 1.0, 1.0, 1.0, 1.0, 1.0, 1.0, 1.1, 3.0, 2.6, 2.6, 1.0, 1.1, 1.0, 1.0, 1.3, 1.0, 1.0, 1.0, 1.1, 1.0, 1.1, 1.3, 1.0, 1.0, 1.0, 1.0, 1.0, 1.0, 1.1, 1.3, 1.0, 1.0, 1.0, 1.3, 3.0, 3.0, 1.0, 1.3, 1.0, 1.0, 1.1, 1.3, 1.3, 1.0, 1.0, 1.1, 1.3, 3.0, 1.0, 1.1, 1.0, 1.3, 1.0, 1.0, 1.1, 1.3, 1.3, 3.0, 3.0, 1.0, 1.0, 1.1, 3.0, 3.0, 3.0, 1.0, 1.0, 1.0, 1.0, 1.0, 1.0, 1.3, 1.0, 1.0, 1.0, 1.0, 1.0, 3.0, 3.0, 1.0, 1.0, 1.0, 3.0, 1.0, 1.3, 1.3, 1.0, 3.0, 3.0, 1.0, 1.0, 3.0, 3.0, 3.0, 1.0, 1.0, 1.0, 1.1, 1.0, 1.0, 1.1, 3.0, 3.0, 3.0, 2.6, 1.0, 3.0, 3.0, 3.0, 3.0, 3.0, 1.0, 1.0, 1.0, 3.0, 3.0, 1.0, 3.0, 3.0, 3.0, 3.0, 1.0, 3.0, 3.0, 1.0, 3.0, 3.0, 1.0, 1.0, 1.0, 3.0, 3.0, 1.0, 1.0, 1.0, 1.0, 3.0, 3.0, 1.0, 1.1, 3.0, 3.0, 1.0, 1.0, 3.0, 3.0, 3.0, 1.0, 1.0, 1.0, 3.0, 3.0, 3.0, 1.0, 3.0, 3.0, 3.0, 3.0, 1.0, 3.0, 3.0, 1.0, 3.0, 3.0, 3.0, 3.0, 1.0, 1.0, 1.0, 1.0, 3.0, 3.0, 1.0, 1.0, 1.0, 1.0, 1.0, 1.0, 3.0, 3.0, 1.0, 1.0, 3.0, 3.0, 3.0, 1.0, 1.0, 1.0, 3.0, 3.0, 1.0, 3.0, 3.0, 1.0, 1.0, 1.1, 1.1, 3.0, 3.0, 3.0, 3.0, 1.0, 1.0, 3.0, 3.0, 1.0, 1.0, 3.0, 3.0, 3.0, 3.0, 1.0, 1.1, 3.0, 3.0, 1.1, 3.0, 3.0, 3.0, 3.0, 1.0, 1.0, 1.1, 3.0, 3.0, 3.0, 3.0, 1.0, 1.0, 3.0, 3.0, 3.0, 3.0, 3.0, 3.0, 1.0, 3.0, 3.0, 3.0, 3.0, 3.0, 3.0, 1.0, 1.0, 1.0, 3.0, 3.0, 3.0, 1.0, 1.0, 1.0, 3.0, 3.0, 3.0, 3.0, 1.0, 1.0, 1.0, 3.0, 3.0, 3.0, 1.0, 1.0, 3.0, 1.0, 1.0, 1.0, 3.0, 3.0, 3.0, 3.0, 1.0, 3.0, 3.0, 1.0, 1.1, 1.0, 3.0, 3.0, 1.0, 1.0, 1.0, 1.0, 3.0, 3.0, 1.0, 1.0, 3.0, 1.0, 3.0, 3.0, 3.0, 1.0, 1.0, 1.0, 3.0, 1.0, 3.0, 3.0, 3.0, 3.0, 3.0, 3.0, 1.0, 3.0, 3.0, 3.0, 3.0, 1.0, 3.0, 3.0, 3.0, 3.0, 1.0, 3.0, 3.0, 3.0, 1.0, 1.0, 3.0, 3.0, 1.0, 3.0, 3.0, 1.0, 1.0, 1.0, 1.0, 1.0, 1.0, 3.0, 3.0, 3.0, 1.0, 1.0, 1.0, 1.0, 1.0, 1.0, 1.0, 3.0, 3.0, 3.0, 3.0, 1.0, 1.0]}, {\"columnID\": \"service_id\", \"columnHeader\": \"service_id\", \"columnDtype\": \"object\", \"columnData\": [\"B01.001.001\", \"B01.001.001\", \"B01.001.001\", \"B01.001.001\", \"B01.001.001\", \"B01.001.002\", \"B01.001.002\", \"B01.001.001\", \"B01.001.002\", \"B01.001.001\", \"B01.001.002\", \"B01.001.001\", \"B01.001.001\", \"B01.001.001\", \"B01.001.002\", \"B01.001.001\", \"B01.001.001\", \"B01.001.002\", \"B01.001.001\", \"B01.001.001\", \"B01.001.002\", \"B01.001.001\", \"B01.001.002\", \"B01.001.001\", \"B01.001.001\", \"B01.001.002\", \"B01.001.001\", \"B01.001.002\", \"B01.001.001\", \"B01.001.001\", \"B01.001.001\", \"B01.001.001\", \"B01.001.002\", \"B01.001.002\", \"B04.001.002\", \"B01.001.001\", \"B01.001.001\", \"B01.001.001\", \"B01.001.001\", \"B01.001.002\", \"B01.001.002\", \"B01.001.001\", \"B01.001.001\", \"B01.001.002\", \"B01.001.001\", \"B01.001.001\", \"B01.001.001\", \"B01.001.002\", \"B01.001.001\", \"B01.001.001\", \"B01.001.002\", \"B01.001.001\", \"B01.001.001\", \"B01.001.002\", \"B01.001.001\", \"B01.001.001\", \"B01.001.002\", \"B01.001.002\", \"B01.001.001\", \"B01.001.001\", \"B01.001.001\", \"B01.001.001\", \"B01.001.002\", \"B01.001.001\", \"B01.001.002\", \"B01.001.001\", \"B01.001.001\", \"B01.001.002\", \"B01.001.001\", \"B01.001.001\", \"B01.001.001\", \"B01.001.002\", \"B01.001.001\", \"B01.001.002\", \"B01.001.001\", \"B01.001.001\", \"B01.001.001\", \"B01.001.002\", \"B01.001.002\", \"B01.001.001\", \"B01.001.001\", \"B01.001.002\", \"B01.001.001\", \"B01.001.002\", \"B01.001.001\", \"B01.001.001\", \"B01.001.002\", \"B01.001.002\", \"B01.001.001\", \"B01.001.001\", \"B01.001.001\", \"B01.001.001\", \"B01.001.002\", \"B01.001.002\", \"B01.001.002\", \"B01.001.001\", \"B01.001.002\", \"B01.001.001\", \"B01.001.001\", \"B01.001.001\", \"B01.001.001\", \"B01.001.001\", \"B01.001.001\", \"B01.001.001\", \"B01.001.001\", \"B01.001.002\", \"B01.001.002\", \"B01.001.002\", \"B01.001.002\", \"B01.001.001\", \"B01.001.001\", \"B01.001.001\", \"B01.001.002\", \"B01.001.001\", \"B01.001.001\", \"B01.001.002\", \"B01.001.001\", \"B01.001.001\", \"B01.001.002\", \"B01.001.001\", \"B01.001.001\", \"B01.001.002\", \"B01.001.001\", \"B01.001.001\", \"B01.001.002\", \"B01.001.001\", \"B01.001.001\", \"B01.001.001\", \"B01.001.002\", \"B01.001.001\", \"A08.20.017\", \"B04.001.001\", \"B01.001.001\", \"B01.001.002\", \"B01.001.001\", \"B01.001.001\", \"B01.001.002\", \"B01.001.001\", \"B01.001.001\", \"B01.001.002\", \"B01.001.001\", \"B01.001.001\", \"B01.001.002\", \"B01.001.001\", \"B01.001.001\", \"B01.001.001\", \"B01.001.002\", \"B01.001.002\", \"B01.001.002\", \"B01.001.001\", \"B01.001.001\", \"B01.001.001\", \"B01.001.002\", \"B01.001.001\", \"B01.001.001\", \"B01.001.002\", \"B01.001.001\", \"B01.001.002\", \"B01.001.001\", \"B01.001.001\", \"B01.001.002\", \"B01.001.001\", \"B01.001.001\", \"B01.001.001\", \"B01.001.001\", \"B01.001.001\", \"B01.001.001\", \"B01.008.001\", \"B01.008.001\", \"B01.008.001\", \"B01.008.001\", \"B01.008.001\", \"B01.008.001\", \"B01.008.001\", \"B01.008.001\", \"B01.008.001\", \"B01.008.001\", \"B01.008.001\", \"B01.008.001\", \"B01.008.001\", \"B01.008.001\", \"B01.008.001\", \"B01.008.001\", \"B01.008.001\", \"B01.008.001\", \"B01.008.001\", \"B01.008.001\", \"B01.008.001\", \"B01.008.001\", \"B01.008.001\", \"B01.008.001\", \"B01.008.001\", \"B01.008.001\", \"B01.008.001\", \"B01.008.001\", \"B01.008.001\", \"B01.023.001\", \"B01.023.002\", \"B04.023.001\", \"B01.023.001\", \"B01.023.002\", \"B04.023.001\", \"B04.023.001\", \"B01.023.002\", \"B01.023.001\", \"B01.023.002\", \"B01.023.001\", \"B04.023.001\", \"B01.023.001\", \"B01.023.002\", \"B01.023.001\", \"B04.023.001\", \"B04.023.001\", \"B01.023.001\", \"B04.023.001\", \"B01.023.002\", \"B01.035.001\", \"B01.023.001\", \"B01.023.001\", \"B04.023.001\", \"B01.023.001\", \"B01.023.002\", \"B04.023.001\", \"B01.023.001\", \"B01.023.001\", \"B01.023.002\", \"B01.023.001\", \"B04.023.001\", \"B01.023.001\", \"B01.023.002\", \"B01.023.001\", \"B01.023.002\", \"B04.023.001\", \"B01.023.001\", \"B04.023.001\", \"B04.023.001\", \"B01.023.001\", \"B01.023.001\", \"B01.023.001\", \"B01.023.001\", \"B01.023.001\", \"B01.023.002\", \"B01.023.001\", \"B01.023.001\", \"B01.023.001\", \"B04.023.001\", \"B01.023.001\", \"B04.023.001\", \"B01.023.001\", \"B01.023.001\", \"B04.023.002\", \"B04.035.002\", \"B04.023.002\", \"B04.023.002\", \"B04.023.002\", \"B01.023.001\", \"B01.023.001\", \"B01.023.001\", \"B04.023.001\", \"B01.023.001\", \"B01.023.001\", \"B01.023.001\", \"B01.023.001\", \"B04.023.001\", \"B04.023.001\", \"B01.023.001\", \"B01.023.001\", \"B01.023.001\", \"B01.023.001\", \"B01.023.001\", \"B01.023.001\", \"B01.023.001\", \"B01.023.001\", \"B01.023.001\", \"B01.023.001\", \"B01.023.001\", \"B04.023.001\", \"B01.023.001\", \"B01.023.001\", \"B01.023.001\", \"B01.023.001\", \"B01.023.001\", \"B01.023.001\", \"B01.023.001\", \"B01.023.001\", \"B04.023.001\", \"B01.023.001\", \"B01.023.001\", \"B01.023.001\", \"B01.023.001\", \"B01.023.001\", \"B01.023.001\", \"B01.023.001\", \"B01.023.001\", \"B01.023.001\", \"B04.023.001\", \"B01.023.001\", \"B04.023.001\", \"B01.023.001\", \"B01.023.001\", \"B01.023.001\", \"B01.023.001\", \"B01.023.001\", \"B01.023.001\", \"B01.023.001\", \"B01.023.001\", \"B01.023.001\", \"B01.023.001\", \"B01.023.001\", \"B01.027.001\", \"B01.027.001\", \"B01.009.001\", \"B01.027.001\", \"B01.027.001\", \"B01.027.001\", \"B01.027.001\", \"B01.009.001\", \"B01.027.001\", \"B01.027.001\", \"B01.027.001\", \"B01.027.001\", \"B01.027.001\", \"B01.027.001\", \"B01.027.001\", \"B01.027.001\", \"B01.027.001\", \"B01.027.001\", \"B01.027.001\", \"B01.027.001\", \"B01.027.001\", \"B01.027.001\", \"B01.027.001\", \"B01.027.001\", \"B01.009.001\", \"B01.027.001\", \"B01.027.001\", \"B01.027.001\", \"B01.027.001\", \"B01.009.001\", \"B01.027.001\", \"B01.027.001\", \"B01.027.001\", \"B01.027.001\", \"B01.027.001\", \"B01.027.001\", \"B01.027.001\", \"B01.028.001\", \"B01.028.001\", \"B01.028.001\", \"B01.028.002\", \"B01.028.001\", \"B01.028.001\", \"B01.028.001\", \"B01.028.001\", \"B01.028.001\", \"B01.028.002\", \"B01.028.001\", \"B04.028.002\", \"B01.028.001\", \"B01.028.001\", \"B01.028.001\", \"B01.028.001\", \"B01.028.001\", \"B01.028.001\", \"B01.028.001\", \"B01.028.001\", \"B01.028.001\", \"B01.028.001\", \"B01.028.002\", \"B01.028.001\", \"B01.028.001\", \"B01.028.001\", \"B01.028.001\", \"B01.028.001\", \"B01.028.001\", \"B01.028.001\", \"B01.028.001\", \"B01.028.001\", \"B01.028.001\", \"B01.028.001\", \"B01.028.001\", \"B01.028.001\", \"B01.028.001\", \"B01.028.001\", \"B01.028.001\", \"B01.028.001\", \"B04.028.002\", \"B01.028.001\", \"B04.028.002\", \"B01.028.001\", \"B01.028.001\", \"B01.029.001\", \"B01.029.001\", \"B01.029.001\", \"B01.029.002\", \"B01.029.001\", \"B01.029.001\", \"B01.029.001\", \"B01.029.002\", \"B01.029.001\", \"B01.029.001\", \"B01.029.001\", \"B01.029.001\", \"B01.029.001\", \"B01.029.001\", \"B01.029.001\", \"B01.029.001\", \"B01.029.001\", \"B01.029.001\", \"B01.029.002\", \"B01.029.001\", \"B04.029.001\", \"B01.029.001\", \"B01.029.002\", \"B04.029.001\", \"B01.029.001\", \"B01.029.001\", \"B01.029.002\", \"B01.029.002\", \"B01.029.002\", \"B01.029.001\", \"B01.029.001\", \"B01.029.001\", \"B01.029.002\", \"B01.029.002\", \"B01.029.002\", \"B01.029.001\", \"B01.029.001\", \"B01.029.002\", \"B01.029.002\", \"B01.029.001\", \"B01.029.001\", \"B01.029.002\", \"B01.029.002\", \"B01.029.001\", \"B01.029.001\", \"B01.029.002\", \"B01.029.002\", \"B01.029.001\", \"B01.029.002\", \"B04.029.001\", \"B01.029.001\", \"B01.029.002\", \"B01.029.001\", \"B01.029.001\", \"B04.029.001\", \"B01.029.001\", \"B01.029.002\", \"B01.029.002\", \"B01.029.001\", \"B01.029.001\", \"B01.029.001\", \"B01.029.002\", \"B01.029.002\", \"B01.029.001\", \"B01.029.001\", \"B04.029.001\", \"B01.029.001\", \"B01.029.002\", \"B01.029.002\", \"B04.029.001\", \"B01.029.001\", \"B01.029.002\", \"B01.029.001\", \"B04.029.001\", \"B04.029.001\", \"B01.029.001\", \"B01.029.001\", \"B01.029.002\", \"B04.029.001\", \"B01.029.001\", \"B04.029.001\", \"B01.029.001\", \"B04.029.001\", \"B04.029.003\", \"B01.029.001\", \"B01.029.002\", \"B01.029.002\", \"B01.029.001\", \"B04.029.001\", \"B01.029.001\", \"B01.029.002\", \"B01.029.002\", \"B01.029.002\", \"B01.029.001\", \"B01.029.001\", \"B01.029.002\", \"B01.029.001\", \"B04.029.001\", \"B01.029.001\", \"B01.029.002\", \"B01.029.001\", \"B01.029.001\", \"B01.031.003\", \"B01.031.003\", \"B01.031.003\", \"B01.031.001\", \"B01.031.003\", \"B01.031.003\", \"B01.031.001\", \"B01.031.001\", \"B01.031.003\", \"B01.031.003\", \"B01.031.003\", \"B01.031.003\", \"B01.031.003\", \"B01.031.003\", \"B01.031.003\", \"B01.031.003\", \"B01.031.003\", \"B01.031.003\", \"B01.031.001\", \"B01.031.003\", \"B01.031.004\", \"B01.031.003\", \"B01.031.003\", \"B01.031.003\", \"B01.031.003\", \"B01.031.004\", \"B01.031.003\", \"B01.031.003\", \"B01.031.003\", \"B01.031.003\", \"B01.031.003\", \"B01.031.003\", \"B01.031.003\", \"B01.031.001\", \"B01.031.003\", \"B01.031.003\", \"B01.031.003\", \"B01.031.003\", \"B01.031.003\", \"B01.031.003\", \"B01.031.003\", \"B01.031.003\", \"B01.031.004\", \"B01.031.004\", \"B01.031.003\", \"B01.031.003\", \"B01.031.002\", \"B01.031.003\", \"B01.031.003\", \"B01.031.003\", \"B01.031.003\", \"B01.031.003\", \"B01.031.003\", \"B01.031.001\", \"B01.031.003\", \"B01.031.003\", \"B01.031.003\", \"B01.031.003\", \"B01.031.003\", \"B01.031.003\", \"B01.031.003\", \"B01.031.003\", \"B01.031.003\", \"B04.031.004\", \"B01.031.003\", \"B01.031.003\", \"B01.031.003\", \"B01.031.001\", \"B04.031.003\", \"B01.031.003\", \"B01.031.003\", \"B01.031.003\", \"B01.031.003\", \"B01.031.003\", \"B01.031.001\", \"B01.031.003\", \"B01.031.003\", \"B01.031.003\", \"B01.031.003\", \"B04.031.004\", \"B01.031.003\", \"B01.031.003\", \"B01.031.003\", \"B01.031.003\", \"B01.031.004\", \"B04.031.004\", \"B01.031.003\", \"B04.031.004\", \"B04.031.004\", \"B04.031.004\", \"B04.031.004\", \"B04.031.004\", \"B04.031.004\", \"B04.031.004\", \"B04.031.004\", \"B01.031.001\", \"B04.031.004\", \"B01.031.003\", \"B01.031.004\", \"B01.031.003\", \"B01.031.003\", \"B04.031.003\", \"B04.031.003\", \"B04.031.003\", \"B04.031.003\", \"B04.031.003\", \"B01.031.003\", \"B01.031.003\", \"B01.031.003\", \"B01.031.004\", \"B01.031.003\", \"B01.031.003\", \"B01.031.003\", \"B01.031.004\", \"B01.031.004\", \"B01.031.003\", \"B01.031.003\", \"B01.031.004\", \"B01.031.004\", \"B01.031.004\", \"B01.031.003\", \"B01.031.004\", \"B01.031.004\", \"B01.031.003\", \"B01.031.004\", \"B01.031.004\", \"B01.031.004\", \"B01.031.003\", \"B01.031.004\", \"B01.031.004\", \"B01.031.003\", \"B01.031.004\", \"B01.031.003\", \"B01.031.004\", \"B01.031.004\", \"B01.031.003\", \"B01.031.003\", \"B01.031.004\", \"B01.031.004\", \"B01.031.004\", \"B01.031.004\", \"B01.031.004\", \"B01.031.004\", \"B01.031.003\", \"B01.031.004\", \"B01.031.004\", \"B04.031.003\", \"B01.031.004\", \"B01.031.003\", \"B01.031.004\", \"B01.031.003\", \"B01.031.003\", \"B01.031.004\", \"B01.031.003\", \"B04.031.003\", \"B04.031.003\", \"B01.031.004\", \"B01.031.003\", \"B01.031.003\", \"B01.031.003\", \"B01.031.003\", \"B01.031.004\", \"B01.031.003\", \"B01.031.003\", \"B01.031.004\", \"B01.031.004\", \"B01.031.004\", \"B01.031.004\", \"B01.031.004\", \"B01.031.003\", \"B04.031.004\", \"B04.031.004\", \"B04.031.004\", \"B01.031.003\", \"B04.031.004\", \"B04.031.004\", \"B04.031.004\", \"B04.031.004\", \"B04.031.004\", \"B04.031.004\", \"B04.031.004\", \"B04.031.003\", \"B01.031.003\", \"B04.031.003\", \"B04.031.003\", \"B01.031.004\", \"B01.031.003\", \"B01.031.003\", \"B01.031.003\", \"B01.031.004\", \"B01.031.004\", \"B01.031.004\", \"B01.031.004\", \"B01.031.003\", \"B01.031.003\", \"B01.031.004\", \"B01.031.004\", \"B01.031.004\", \"B01.031.004\", \"B01.031.003\", \"B01.031.003\", \"B01.031.004\", \"B01.031.004\", \"B01.031.003\", \"B01.031.004\", \"B01.031.003\", \"B01.031.004\", \"B01.031.003\", \"B01.031.003\", \"B01.031.004\", \"B01.031.004\", \"B01.031.004\", \"B01.031.004\", \"B01.031.004\", \"B01.031.004\", \"B01.031.003\", \"B01.031.004\", \"B04.031.003\", \"B01.031.003\", \"B01.031.004\", \"B01.031.004\", \"B01.031.003\", \"B01.031.004\", \"B01.031.003\", \"B01.031.004\", \"B01.031.004\", \"B01.031.003\", \"B01.031.004\", \"B01.031.003\", \"B01.031.004\", \"B01.031.003\", \"B04.031.003\", \"B01.031.003\", \"B01.031.003\", \"B01.031.004\", \"B01.031.003\", \"B04.031.003\", \"B01.031.003\", \"B01.031.004\", \"B04.031.003\", \"B04.031.003\", \"B04.031.003\", \"B01.031.003\", \"B01.031.004\", \"B01.031.003\", \"B01.031.004\", \"B01.031.004\", \"B04.031.004\", \"B01.031.003\", \"B04.031.003\", \"B04.031.004\", \"B01.031.003\", \"B04.031.004\", \"B04.031.004\", \"B04.031.004\", \"B04.031.004\", \"B04.031.004\", \"B04.031.004\", \"B04.031.004\", \"B04.031.004\", \"B01.031.004\", \"B01.031.003\", \"B01.031.003\", \"B01.031.003\", \"B01.031.003\", \"B01.031.003\", \"B01.031.003\", \"B01.031.004\", \"B01.031.003\", \"B01.031.003\", \"B01.031.003\", \"B01.031.004\", \"B01.031.003\", \"B01.031.001\", \"B01.031.003\", \"B01.031.004\", \"B01.031.004\", \"B01.031.003\", \"B01.031.004\", \"B01.031.004\", \"B01.031.003\", \"B01.031.003\", \"B01.031.004\", \"B01.031.003\", \"B01.031.003\", \"B01.031.003\", \"B01.031.003\", \"B01.031.003\", \"B01.031.004\", \"B01.031.004\", \"B01.031.004\", \"B01.031.004\", \"B01.031.004\", \"B01.031.004\", \"B01.031.004\", \"B01.031.003\", \"B01.031.003\", \"B01.031.003\", \"B01.031.003\", \"B01.031.003\", \"B01.031.003\", \"B01.031.004\", \"B01.031.003\", \"B01.031.003\", \"B01.031.004\", \"B01.031.003\", \"B01.031.003\", \"B01.031.003\", \"B04.031.004\", \"B01.031.003\", \"B04.031.004\", \"B01.031.003\", \"B04.031.004\", \"B04.031.004\", \"B04.031.004\", \"B04.031.004\", \"B04.031.002\", \"B04.031.004\", \"B04.031.004\", \"B01.047.005\", \"B01.047.005\", \"B01.047.005\", \"B01.047.005\", \"B01.047.005\", \"B01.047.005\", \"B01.047.005\", \"B01.047.005\", \"B01.047.005\", \"B01.047.005\", \"B01.047.005\", \"B01.047.005\", \"B01.047.005\", \"B01.047.005\", \"B01.047.005\", \"B01.047.005\", \"B01.047.005\", \"B01.047.005\", \"B01.047.006\", \"B01.047.005\", \"B01.047.005\", \"B01.047.005\", \"B01.047.005\", \"B01.047.005\", \"B01.047.005\", \"B01.047.005\", \"B01.047.005\", \"B01.047.005\", \"B01.047.005\", \"B01.047.005\", \"B01.047.005\", \"B01.047.005\", \"B01.047.005\", \"B01.047.005\", \"B01.047.005\", \"B04.047.003\", \"B01.047.005\", \"B01.047.005\", \"B01.047.005\", \"B01.047.005\", \"B01.047.005\", \"B01.047.005\", \"B01.047.005\", \"B04.047.003\", \"B01.047.005\", \"B01.047.005\", \"B01.047.005\", \"B01.047.005\", \"B01.047.005\", \"B01.047.005\", \"B01.047.005\", \"B04.047.003\", \"B01.047.005\", \"B01.047.005\", \"B01.047.005\", \"B01.047.006\", \"B01.047.005\", \"B01.047.005\", \"B01.047.005\", \"B04.047.003\", \"B01.047.005\", \"B01.047.005\", \"B04.047.003\", \"B01.047.005\", \"B01.047.005\", \"B01.047.005\", \"B01.047.005\", \"B01.047.005\", \"B01.047.005\", \"B01.047.005\", \"B01.047.005\", \"B01.047.005\", \"B01.047.005\", \"B01.047.006\", \"B01.047.005\", \"B01.047.005\", \"B01.047.005\", \"B01.047.005\", \"B01.047.005\", \"B01.047.005\", \"B01.047.005\", \"B01.047.005\", \"B01.047.005\", \"B01.047.005\", \"B01.047.005\", \"B01.047.005\", \"B01.047.005\", \"B01.047.005\", \"B01.047.005\", \"B01.047.005\", \"B01.047.005\", \"B01.047.005\", \"B01.047.005\", \"B01.047.005\", \"B01.047.005\", \"B01.047.005\", \"B01.047.005\", \"B01.047.005\", \"B01.047.005\", \"B01.047.005\", \"B01.047.005\", \"B01.047.005\", \"B01.047.005\", \"B01.047.005\", \"B01.047.005\", \"B01.047.005\", \"B01.047.005\", \"B01.047.005\", \"B01.047.005\", \"B01.047.005\", \"B01.047.005\", \"B01.047.005\", \"B01.047.005\", \"B01.047.005\", \"B01.047.006\", \"B01.047.005\", \"B01.047.005\", \"B01.047.005\", \"B01.047.005\", \"B01.047.005\", \"B01.047.005\", \"B01.047.005\", \"B01.047.005\", \"B01.047.005\", \"B01.047.005\", \"B01.047.005\", \"B01.047.006\", \"B01.047.005\", \"B01.047.005\", \"B01.047.005\", \"B01.047.005\", \"B01.047.005\", \"B01.047.005\", \"B01.047.005\", \"B01.047.005\", \"B04.047.004\", \"B04.047.004\", \"B01.047.005\", \"B01.047.005\", \"B01.047.005\", \"B01.047.005\", \"B01.047.005\", \"B01.047.005\", \"B01.047.005\", \"B04.047.003\", \"B01.047.005\", \"B01.047.005\", \"B01.047.005\", \"B01.047.005\", \"B01.047.005\", \"B01.047.005\", \"B01.047.005\", \"B01.047.005\", \"B01.047.005\", \"B01.047.005\", \"B01.047.005\", \"B01.047.005\", \"B01.047.005\", \"B01.047.001\", \"B01.047.005\", \"B01.047.005\", \"B01.047.005\", \"B01.047.005\", \"B01.047.001\", \"B01.047.005\", \"B01.047.005\", \"B01.047.001\", \"B01.047.006\", \"B01.047.005\", \"B01.047.001\", \"B04.047.003\", \"B04.047.003\", \"B04.047.003\", \"B01.047.005\", \"B01.047.006\", \"B01.047.005\", \"B04.047.003\", \"B01.047.005\", \"B01.047.005\", \"B04.047.003\", \"B01.047.001\", \"B01.047.002\", \"B01.047.005\", \"B04.047.003\", \"B01.047.005\", \"B01.047.001\", \"B01.047.006\", \"B01.047.005\", \"B01.047.005\", \"B01.047.005\", \"B01.047.001\", \"B01.047.005\", \"B01.047.005\", \"B01.047.001\", \"B01.047.006\", \"B01.047.001\", \"B01.047.001\", \"B01.047.005\", \"B01.047.001\", \"B01.047.005\", \"B01.047.005\", \"B01.047.001\", \"B01.047.002\", \"B01.047.005\", \"B01.047.006\", \"B01.047.005\", \"B04.047.003\", \"B01.047.001\", \"B01.047.005\", \"B01.047.006\", \"B01.047.001\", \"B01.047.005\", \"B01.047.006\", \"B01.047.005\", \"B01.047.005\", \"B04.047.003\", \"B01.047.001\", \"B01.047.002\", \"B01.047.005\", \"B01.047.006\", \"B04.047.003\", \"B04.047.003\", \"B01.047.005\", \"B01.047.006\", \"B01.047.005\", \"B01.047.005\", \"B04.047.003\", \"B01.047.001\", \"B01.047.005\", \"B04.047.003\", \"B01.047.001\", \"B04.047.003\", \"B01.047.002\", \"B01.047.005\", \"B01.047.006\", \"B01.047.001\", \"B01.047.005\", \"B01.047.005\", \"B04.047.003\", \"B01.047.004\", \"B01.047.005\", \"B01.047.006\", \"B01.047.001\", \"B01.047.005\", \"B04.047.003\", \"B01.047.001\", \"B01.047.005\", \"B01.047.006\", \"B01.047.001\", \"B01.047.005\", \"B04.047.003\", \"B01.047.005\", \"B01.047.005\", \"B01.047.001\", \"B01.047.001\", \"B01.047.002\", \"B01.047.005\", \"B01.047.006\", \"B01.047.005\", \"B01.047.001\", \"B01.047.001\", \"B01.047.002\", \"B01.047.002\", \"B01.047.005\", \"B01.047.006\", \"B01.047.006\", \"B01.047.005\", \"B01.047.005\", \"B01.047.006\", \"B01.047.001\", \"B01.047.005\", \"B01.047.006\", \"B01.047.005\", \"B01.047.005\", \"B01.047.006\", \"B01.047.005\", \"B04.047.003\", \"B04.047.003\", \"B01.047.001\", \"B01.047.002\", \"B01.047.005\", \"B01.047.001\", \"B01.047.006\", \"B01.047.001\", \"B01.047.001\", \"B01.047.005\", \"B01.047.006\", \"B01.047.005\", \"B01.047.001\", \"B01.047.005\", \"B01.047.006\", \"B01.047.005\", \"B01.047.001\", \"B01.047.005\", \"B01.047.005\", \"B01.047.001\", \"B01.047.006\", \"B01.047.005\", \"B01.047.005\", \"B01.047.001\", \"B01.047.005\", \"B01.047.005\", \"B01.047.001\", \"B01.047.005\", \"B01.047.001\", \"B01.047.001\", \"B01.047.005\", \"B01.047.006\", \"B01.047.001\", \"B01.047.001\", \"B01.047.005\", \"B01.047.001\", \"B01.047.005\", \"B01.047.006\", \"B01.047.006\", \"B01.047.001\", \"B01.047.002\", \"B01.047.001\", \"B01.047.005\", \"B01.047.005\", \"B01.047.001\", \"B01.047.005\", \"B01.047.005\", \"B01.047.006\", \"B01.047.006\", \"B01.047.005\", \"B01.047.006\", \"B01.047.005\", \"B01.047.006\", \"B01.047.001\", \"B01.047.001\", \"B01.047.006\", \"B01.047.001\", \"B01.047.002\", \"B01.047.005\", \"B01.047.005\", \"B01.047.005\", \"B01.047.006\", \"B01.047.001\", \"B01.047.005\", \"B01.047.001\", \"B01.047.001\", \"B01.047.005\", \"B01.047.005\", \"B01.047.002\", \"B01.047.001\", \"B01.047.005\", \"B01.047.006\", \"B01.047.005\", \"B01.047.002\", \"B01.047.005\", \"B01.047.005\", \"B01.047.005\", \"B01.047.006\", \"B01.047.005\", \"B01.047.005\", \"B04.047.003\", \"B01.047.005\", \"B01.047.005\", \"B01.047.006\", \"B01.047.005\", \"B01.047.005\", \"B01.047.005\", \"B04.047.003\", \"B01.047.006\", \"B01.047.005\", \"B01.047.005\", \"B01.047.005\", \"B01.047.005\", \"B01.047.006\", \"B01.047.005\", \"B04.047.003\", \"B01.047.005\", \"B01.047.006\", \"B01.047.005\", \"B04.047.003\", \"B01.047.005\", \"B01.047.006\", \"B01.047.005\", \"B04.047.003\", \"B01.047.005\", \"B01.047.006\", \"B01.047.005\", \"B01.047.006\", \"B04.047.003\", \"B01.047.006\", \"B01.047.005\", \"B01.047.006\", \"B04.047.003\", \"B01.047.006\", \"B01.047.006\", \"B01.047.005\", \"B01.047.005\", \"B04.047.003\", \"B01.047.005\", \"B01.047.006\", \"B01.047.005\", \"B01.047.005\", \"B04.047.003\", \"B01.047.001\", \"B01.047.006\", \"B01.047.005\", \"B01.047.006\", \"B01.047.005\", \"B01.047.005\", \"B01.047.006\", \"B01.047.006\", \"B01.047.006\", \"B01.047.005\", \"B01.047.006\", \"B01.047.005\", \"B01.047.006\", \"B01.047.005\", \"B04.047.003\", \"B01.047.006\", \"B01.047.005\", \"B01.047.005\", \"B01.047.005\", \"B01.047.006\", \"B01.047.005\", \"B01.047.006\", \"B01.047.005\", \"B01.047.005\", \"B01.047.005\", \"B01.047.006\", \"B01.047.005\", \"B04.047.003\", \"B04.047.003\", \"B01.047.006\", \"B01.047.006\", \"B01.047.006\", \"B01.047.005\", \"B01.047.005\", \"B01.047.005\", \"B01.047.005\", \"B01.047.006\", \"B01.047.005\", \"B01.047.005\", \"B01.047.006\", \"B01.047.005\", \"B01.047.005\", \"B01.047.006\", \"B01.047.005\", \"B01.047.005\", \"B01.047.006\", \"B01.047.006\", \"B04.047.004\", \"B01.057.001\", \"B01.057.001\", \"B01.057.001\", \"B01.057.001\", \"B01.057.001\", \"B01.057.002\", \"B01.057.001\", \"B01.057.001\", \"B01.057.001\", \"B01.057.001\", \"B01.057.002\", \"B01.057.001\", \"B01.057.001\", \"B01.057.002\", \"B01.057.002\", \"B01.057.002\", \"B01.057.001\", \"B01.057.001\", \"B01.057.002\", \"B01.057.001\", \"B01.057.001\", \"B01.057.001\", \"B01.057.001\", \"B01.057.001\", \"B01.057.001\", \"B01.057.001\", \"B01.057.002\", \"B01.057.001\", \"B01.057.001\", \"B01.057.001\", \"B01.057.001\", \"B01.057.001\", \"B01.057.001\", \"B01.057.001\", \"B01.057.001\", \"B01.057.001\", \"B01.057.002\", \"B01.057.001\", \"B01.057.001\", \"B01.057.001\", \"B01.057.002\", \"B01.057.002\", \"B01.057.001\", \"B01.057.001\", \"B01.057.001\", \"B01.057.001\", \"B01.057.002\", \"B01.057.001\", \"B01.057.001\", \"B01.057.001\", \"B01.057.001\", \"B01.057.001\", \"B01.057.002\", \"B01.057.001\", \"B01.057.001\", \"B01.057.002\", \"B01.057.001\", \"B01.057.001\", \"B01.057.001\", \"B01.057.001\", \"B01.057.002\", \"B01.057.001\", \"B01.057.001\", \"B01.057.001\", \"B01.057.001\", \"B01.057.001\", \"B01.057.002\", \"B01.057.001\", \"B01.057.001\", \"B01.057.001\", \"B01.057.001\", \"B01.057.001\", \"B01.057.001\", \"B01.057.001\", \"B01.057.001\", \"B01.057.001\", \"B01.057.001\", \"B01.057.001\", \"B01.057.001\", \"B01.057.002\", \"B01.057.001\", \"B01.057.001\", \"B01.057.001\", \"B01.057.001\", \"B01.057.002\", \"B01.057.001\", \"B01.057.001\", \"B01.057.001\", \"B01.057.001\", \"B01.057.001\", \"B01.057.001\", \"B01.057.001\", \"B01.057.001\", \"B01.057.002\", \"B01.057.001\", \"B01.057.002\", \"B01.057.001\", \"B01.057.001\", \"B01.057.001\", \"B01.057.002\", \"B01.057.001\", \"B01.057.001\", \"B01.057.001\", \"B01.057.001\", \"B01.057.001\", \"B01.057.002\", \"B01.057.001\", \"B01.057.001\", \"B01.057.001\", \"B01.057.001\", \"B01.057.001\", \"B01.057.001\", \"B01.057.002\", \"B01.057.001\", \"B01.057.002\", \"B01.057.001\", \"B01.057.001\", \"B01.057.001\", \"B01.057.001\", \"B01.057.002\", \"B01.057.001\", \"B01.057.002\", \"B01.057.001\", \"B01.057.001\", \"B01.057.001\", \"B01.057.002\", \"B01.057.002\", \"B01.057.001\", \"B01.057.002\", \"B01.057.002\", \"B01.057.001\", \"B01.057.001\", \"B01.057.002\", \"B01.057.001\", \"B01.057.002\", \"B01.057.001\", \"B01.057.002\", \"B01.057.001\", \"B01.057.001\", \"B01.057.001\", \"B01.057.001\", \"B01.057.002\", \"B01.057.002\", \"B01.057.001\", \"B01.057.001\", \"B01.057.001\", \"B01.057.001\", \"B01.057.001\", \"B01.057.002\", \"B01.057.002\", \"B01.057.001\", \"B01.057.001\", \"B01.057.001\", \"B01.057.001\", \"B01.057.001\", \"B01.057.001\", \"B01.057.001\", \"B01.057.001\", \"B01.057.001\", \"B01.057.001\", \"B01.057.001\", \"B01.057.001\", \"B01.057.001\", \"B01.057.001\", \"B01.057.001\", \"B01.057.002\", \"B01.057.001\", \"B01.057.001\", \"B01.057.001\", \"B01.057.001\", \"B01.057.001\", \"B01.057.001\", \"B01.057.001\", \"B01.057.002\", \"B01.057.001\", \"B01.057.001\", \"B01.057.001\", \"B01.057.001\", \"B01.057.001\", \"B01.057.002\", \"B01.057.001\", \"B01.057.001\", \"B01.057.001\", \"B01.057.001\", \"B01.057.001\", \"B01.057.001\", \"B01.057.002\", \"B01.057.001\", \"B01.057.001\", \"B01.057.001\", \"B01.057.001\", \"B01.057.001\", \"B01.057.001\", \"B01.057.001\", \"B01.057.001\", \"B01.057.002\", \"B01.057.001\", \"B01.057.002\", \"B01.057.001\", \"B01.057.001\", \"B01.057.001\", \"B01.057.002\", \"B01.057.002\", \"B01.057.001\", \"B01.057.001\", \"B01.057.001\", \"B01.057.001\", \"B01.057.002\", \"B01.057.001\", \"B01.057.001\", \"B01.057.001\", \"B01.057.002\", \"B01.057.001\", \"B01.057.001\", \"B01.057.001\", \"B01.057.002\", \"B01.057.001\", \"B01.057.001\", \"B01.057.001\", \"B01.057.001\", \"B01.057.001\", \"B01.057.001\", \"B01.057.001\", \"B01.057.001\", \"B01.057.001\", \"B01.057.001\", \"B01.057.001\", \"B01.057.002\", \"B01.057.001\", \"B01.057.001\", \"B01.057.001\", \"B01.057.001\", \"B01.057.001\", \"B01.057.001\", \"B01.057.001\", \"B01.057.001\", \"B01.057.002\", \"B01.057.001\", \"B01.057.002\", \"B01.057.001\", \"B01.057.001\"]}, {\"columnID\": \"usl_service_id\", \"columnHeader\": \"usl_service_id\", \"columnDtype\": \"object\", \"columnData\": [\"035-508-952 59\", \"035-508-952 59\", \"035-508-952 59\", \"035-508-952 59\", \"073-069-750 73\", \"035-508-952 59\", \"035-508-952 59\", \"035-508-952 59\", \"035-508-952 59\", \"035-508-952 59\", \"035-508-952 59\", \"035-508-952 59\", \"035-508-952 59\", \"035-508-952 59\", \"035-508-952 59\", \"035-508-952 59\", \"035-508-952 59\", \"035-508-952 59\", \"035-508-952 59\", \"035-508-952 59\", \"035-508-952 59\", \"035-508-952 59\", \"035-508-952 59\", \"035-508-952 59\", \"035-508-952 59\", \"035-508-952 59\", \"035-508-952 59\", \"035-508-952 59\", \"035-508-952 59\", \"035-508-952 59\", \"035-508-952 59\", \"035-508-952 59\", \"035-508-952 59\", \"035-508-952 59\", \"035-508-952 59\", \"035-508-952 59\", \"035-508-952 59\", \"035-508-952 59\", \"073-069-750 73\", \"035-508-952 59\", \"073-069-750 73\", \"035-508-952 59\", \"035-508-952 59\", \"035-508-952 59\", \"035-508-952 59\", \"035-508-952 59\", \"035-508-952 59\", \"035-508-952 59\", \"035-508-952 59\", \"035-508-952 59\", \"035-508-952 59\", \"035-508-952 59\", \"035-508-952 59\", \"035-508-952 59\", \"035-508-952 59\", \"035-508-952 59\", \"035-508-952 59\", \"035-508-952 59\", \"035-508-952 59\", \"035-508-952 59\", \"035-508-952 59\", \"035-508-952 59\", \"035-508-952 59\", \"035-508-952 59\", \"035-508-952 59\", \"035-508-952 59\", \"035-508-952 59\", \"035-508-952 59\", \"035-508-952 59\", \"035-508-952 59\", \"035-508-952 59\", \"035-508-952 59\", \"035-508-952 59\", \"035-508-952 59\", \"035-508-952 59\", \"035-508-952 59\", \"073-069-750 73\", \"035-508-952 59\", \"073-069-750 73\", \"035-508-952 59\", \"035-508-952 59\", \"035-508-952 59\", \"035-508-952 59\", \"035-508-952 59\", \"035-508-952 59\", \"073-069-750 73\", \"035-508-952 59\", \"073-069-750 73\", \"035-508-952 59\", \"035-508-952 59\", \"035-508-952 59\", \"073-069-750 73\", \"035-508-952 59\", \"035-508-952 59\", \"073-069-750 73\", \"035-508-952 59\", \"035-508-952 59\", \"035-508-952 59\", \"035-508-952 59\", \"035-508-952 59\", \"035-508-952 59\", \"035-508-952 59\", \"035-508-952 59\", \"073-069-750 73\", \"073-069-750 73\", \"035-508-952 59\", \"073-069-750 73\", \"073-069-750 73\", \"073-069-750 73\", \"073-069-750 73\", \"073-069-750 73\", \"073-069-750 73\", \"073-069-750 73\", \"073-069-750 73\", \"073-069-750 73\", \"073-069-750 73\", \"073-069-750 73\", \"073-069-750 73\", \"073-069-750 73\", \"073-069-750 73\", \"073-069-750 73\", \"073-069-750 73\", \"073-069-750 73\", \"073-069-750 73\", \"073-069-750 73\", \"073-069-750 73\", \"073-069-750 73\", \"073-069-750 73\", \"073-069-750 73\", \"073-069-750 73\", \"073-069-750 73\", \"073-069-750 73\", \"073-069-750 73\", \"073-069-750 73\", \"073-069-750 73\", \"073-069-750 73\", \"073-069-750 73\", \"073-069-750 73\", \"073-069-750 73\", \"073-069-750 73\", \"073-069-750 73\", \"073-069-750 73\", \"073-069-750 73\", \"073-069-750 73\", \"035-508-952 59\", \"073-069-750 73\", \"035-508-952 59\", \"073-069-750 73\", \"073-069-750 73\", \"073-069-750 73\", \"035-508-952 59\", \"073-069-750 73\", \"073-069-750 73\", \"073-069-750 73\", \"073-069-750 73\", \"073-069-750 73\", \"035-508-952 59\", \"073-069-750 73\", \"073-069-750 73\", \"073-069-750 73\", \"073-069-750 73\", \"073-069-750 73\", \"073-069-750 73\", \"073-069-750 73\", \"073-069-750 73\", \"073-069-750 73\", \"073-069-750 73\", \"095-089-436 05\", \"095-089-436 05\", \"095-089-436 05\", \"095-089-436 05\", \"095-089-436 05\", \"095-089-436 05\", \"095-089-436 05\", \"095-089-436 05\", \"095-089-436 05\", \"095-089-436 05\", \"095-089-436 05\", \"095-089-436 05\", \"095-089-436 05\", \"095-089-436 05\", \"095-089-436 05\", \"095-089-436 05\", \"095-089-436 05\", \"095-089-436 05\", \"095-089-436 05\", \"095-089-436 05\", \"095-089-436 05\", \"095-089-436 05\", \"095-089-436 05\", \"095-089-436 05\", \"095-089-436 05\", \"095-089-436 05\", \"095-089-436 05\", \"095-089-436 05\", \"095-089-436 05\", \"030-808-398 38\", \"030-808-398 38\", \"030-808-398 38\", \"030-808-398 38\", \"030-808-398 38\", \"030-808-398 38\", \"030-808-398 38\", \"030-808-398 38\", \"030-808-398 38\", \"030-808-398 38\", \"030-808-398 38\", \"030-808-398 38\", \"030-808-398 38\", \"030-808-398 38\", \"030-808-398 38\", \"030-808-398 38\", \"030-808-398 38\", \"030-808-398 38\", \"030-808-398 38\", \"030-808-398 38\", \"030-808-398 38\", \"030-808-398 38\", \"030-808-398 38\", \"030-808-398 38\", \"030-808-398 38\", \"030-808-398 38\", \"030-808-398 38\", \"030-808-398 38\", \"030-808-398 38\", \"030-808-398 38\", \"030-808-398 38\", \"030-808-398 38\", \"030-808-398 38\", \"030-808-398 38\", \"030-808-398 38\", \"030-808-398 38\", \"030-808-398 38\", \"030-808-398 38\", \"030-808-398 38\", \"030-808-398 38\", \"030-808-398 38\", \"030-808-398 38\", \"030-808-398 38\", \"030-808-398 38\", \"030-808-398 38\", \"030-808-398 38\", \"030-808-398 38\", \"030-808-398 38\", \"030-808-398 38\", \"030-808-398 38\", \"030-808-398 38\", \"030-808-398 38\", \"030-808-398 38\", \"030-808-398 38\", \"030-808-398 38\", \"030-808-398 38\", \"030-808-398 38\", \"030-808-398 38\", \"030-808-398 38\", \"133-437-558 53\", \"171-213-762 35\", \"171-213-762 35\", \"171-213-762 35\", \"171-213-762 35\", \"171-213-762 35\", \"171-213-762 35\", \"171-213-762 35\", \"171-213-762 35\", \"171-213-762 35\", \"171-213-762 35\", \"171-213-762 35\", \"171-213-762 35\", \"171-213-762 35\", \"171-213-762 35\", \"171-213-762 35\", \"171-213-762 35\", \"171-213-762 35\", \"171-213-762 35\", \"171-213-762 35\", \"171-213-762 35\", \"171-213-762 35\", \"171-213-762 35\", \"171-213-762 35\", \"171-213-762 35\", \"171-213-762 35\", \"171-213-762 35\", \"171-213-762 35\", \"171-213-762 35\", \"171-213-762 35\", \"171-213-762 35\", \"171-213-762 35\", \"171-213-762 35\", \"171-213-762 35\", \"171-213-762 35\", \"171-213-762 35\", \"171-213-762 35\", \"171-213-762 35\", \"171-213-762 35\", \"171-213-762 35\", \"171-213-762 35\", \"171-213-762 35\", \"171-213-762 35\", \"171-213-762 35\", \"171-213-762 35\", \"171-213-762 35\", \"171-213-762 35\", \"171-213-762 35\", \"171-213-762 35\", \"171-213-762 35\", \"171-213-762 35\", \"171-213-762 35\", \"171-213-762 35\", \"171-213-762 35\", \"134-472-934 64\", \"134-472-934 64\", \"134-472-934 64\", \"134-472-934 64\", \"134-472-934 64\", \"134-472-934 64\", \"134-472-934 64\", \"134-472-934 64\", \"134-472-934 64\", \"134-472-934 64\", \"134-472-934 64\", \"134-472-934 64\", \"134-472-934 64\", \"134-472-934 64\", \"134-472-934 64\", \"134-472-934 64\", \"134-472-934 64\", \"134-472-934 64\", \"134-472-934 64\", \"134-472-934 64\", \"134-472-934 64\", \"134-472-934 64\", \"134-472-934 64\", \"134-472-934 64\", \"134-472-934 64\", \"134-472-934 64\", \"134-472-934 64\", \"134-472-934 64\", \"134-472-934 64\", \"134-472-934 64\", \"134-472-934 64\", \"134-472-934 64\", \"134-472-934 64\", \"134-472-934 64\", \"134-472-934 64\", \"134-472-934 64\", \"134-472-934 64\", \"132-858-612 73\", \"132-858-612 73\", \"132-858-612 73\", \"132-858-612 73\", \"132-858-612 73\", \"132-858-612 73\", \"132-858-612 73\", \"132-858-612 73\", \"132-858-612 73\", \"132-858-612 73\", \"132-858-612 73\", \"132-858-612 73\", \"132-858-612 73\", \"132-858-612 73\", \"132-858-612 73\", \"132-858-612 73\", \"132-858-612 73\", \"132-858-612 73\", \"132-858-612 73\", \"132-858-612 73\", \"132-858-612 73\", \"132-858-612 73\", \"132-858-612 73\", \"132-858-612 73\", \"132-858-612 73\", \"132-858-612 73\", \"132-858-612 73\", \"132-858-612 73\", \"132-858-612 73\", \"132-858-612 73\", \"132-858-612 73\", \"132-858-612 73\", \"132-858-612 73\", \"132-858-612 73\", \"132-858-612 73\", \"132-858-612 73\", \"132-858-612 73\", \"132-858-612 73\", \"132-858-612 73\", \"132-858-612 73\", \"132-858-612 73\", \"132-858-612 73\", \"132-858-612 73\", \"132-858-612 73\", \"132-858-612 73\", \"069-256-721 97\", \"069-256-721 97\", \"069-256-721 97\", \"069-256-721 97\", \"069-256-721 97\", \"069-256-721 97\", \"069-256-721 97\", \"069-256-721 97\", \"069-256-721 97\", \"069-256-721 97\", \"069-256-721 97\", \"069-256-721 97\", \"069-256-721 97\", \"069-256-721 97\", \"069-256-721 97\", \"069-256-721 97\", \"069-256-721 97\", \"069-256-721 97\", \"069-256-721 97\", \"069-256-721 97\", \"069-256-721 97\", \"069-256-721 97\", \"069-256-721 97\", \"069-256-721 97\", \"069-256-721 97\", \"069-256-721 97\", \"069-256-721 97\", \"069-256-721 97\", \"069-256-721 97\", \"069-256-721 97\", \"069-256-721 97\", \"069-256-721 97\", \"069-256-721 97\", \"069-256-721 97\", \"069-256-721 97\", \"069-256-721 97\", \"069-256-721 97\", \"069-256-721 97\", \"069-256-721 97\", \"069-256-721 97\", \"069-256-721 97\", \"069-256-721 97\", \"069-256-721 97\", \"069-256-721 97\", \"069-256-721 97\", \"069-256-721 97\", \"069-256-721 97\", \"069-256-721 97\", \"069-256-721 97\", \"069-256-721 97\", \"069-256-721 97\", \"069-256-721 97\", \"069-256-721 97\", \"069-256-721 97\", \"069-256-721 97\", \"069-256-721 97\", \"069-256-721 97\", \"069-256-721 97\", \"069-256-721 97\", \"069-256-721 97\", \"069-256-721 97\", \"069-256-721 97\", \"069-256-721 97\", \"069-256-721 97\", \"069-256-721 97\", \"069-256-721 97\", \"069-256-721 97\", \"069-256-721 97\", \"069-256-721 97\", \"069-256-721 97\", \"069-256-721 97\", \"069-256-721 97\", \"069-256-721 97\", \"069-256-721 97\", \"069-256-721 97\", \"069-256-721 97\", \"069-256-721 97\", \"069-256-721 97\", \"069-256-721 97\", \"069-256-721 97\", \"069-256-721 97\", \"069-256-721 97\", \"069-256-721 97\", \"069-256-721 97\", \"069-256-721 97\", \"069-256-721 97\", \"069-256-721 97\", \"069-256-721 97\", \"069-256-721 97\", \"069-256-721 97\", \"069-256-721 97\", \"069-256-721 97\", \"069-256-721 97\", \"069-256-721 97\", \"069-256-721 97\", \"069-256-721 97\", \"069-256-721 97\", \"069-256-721 97\", \"069-256-721 97\", \"069-256-721 97\", \"069-256-721 97\", \"069-256-721 97\", \"032-665-119 37\", \"032-665-119 37\", \"032-665-119 37\", \"032-665-119 37\", \"032-665-119 37\", \"032-665-119 37\", \"032-665-119 37\", \"032-665-119 37\", \"032-665-119 37\", \"032-665-119 37\", \"032-665-119 37\", \"032-665-119 37\", \"032-665-119 37\", \"032-665-119 37\", \"032-665-119 37\", \"032-665-119 37\", \"032-665-119 37\", \"032-665-119 37\", \"032-665-119 37\", \"032-665-119 37\", \"032-665-119 37\", \"032-665-119 37\", \"032-665-119 37\", \"032-665-119 37\", \"032-665-119 37\", \"032-665-119 37\", \"032-665-119 37\", \"032-665-119 37\", \"032-665-119 37\", \"032-665-119 37\", \"032-665-119 37\", \"032-665-119 37\", \"032-665-119 37\", \"032-665-119 37\", \"032-665-119 37\", \"032-665-119 37\", \"032-665-119 37\", \"032-665-119 37\", \"032-665-119 37\", \"032-665-119 37\", \"032-665-119 37\", \"114-942-659 63\", \"032-665-119 37\", \"114-942-659 63\", \"032-665-119 37\", \"032-665-119 37\", \"032-665-119 37\", \"032-665-119 37\", \"032-665-119 37\", \"032-665-119 37\", \"032-665-119 37\", \"032-665-119 37\", \"032-665-119 37\", \"032-665-119 37\", \"032-665-119 37\", \"032-665-119 37\", \"032-665-119 37\", \"032-665-119 37\", \"032-665-119 37\", \"032-665-119 37\", \"032-665-119 37\", \"032-665-119 37\", \"032-665-119 37\", \"032-665-119 37\", \"032-665-119 37\", \"032-665-119 37\", \"032-665-119 37\", \"032-665-119 37\", \"032-665-119 37\", \"032-665-119 37\", \"032-665-119 37\", \"032-665-119 37\", \"032-665-119 37\", \"032-665-119 37\", \"032-665-119 37\", \"032-665-119 37\", \"032-665-119 37\", \"032-665-119 37\", \"032-665-119 37\", \"032-665-119 37\", \"032-665-119 37\", \"032-665-119 37\", \"032-665-119 37\", \"032-665-119 37\", \"032-665-119 37\", \"032-665-119 37\", \"032-665-119 37\", \"032-665-119 37\", \"032-665-119 37\", \"032-665-119 37\", \"032-665-119 37\", \"032-665-119 37\", \"032-665-119 37\", \"032-665-119 37\", \"032-665-119 37\", \"032-665-119 37\", \"032-665-119 37\", \"114-942-659 63\", \"114-942-659 63\", \"114-942-659 63\", \"114-942-659 63\", \"114-942-659 63\", \"114-942-659 63\", \"114-942-659 63\", \"114-942-659 63\", \"114-942-659 63\", \"114-942-659 63\", \"114-942-659 63\", \"114-942-659 63\", \"114-942-659 63\", \"114-942-659 63\", \"114-942-659 63\", \"135-868-498 14\", \"114-942-659 63\", \"114-942-659 63\", \"114-942-659 63\", \"114-942-659 63\", \"114-942-659 63\", \"114-942-659 63\", \"114-942-659 63\", \"114-942-659 63\", \"114-942-659 63\", \"114-942-659 63\", \"114-942-659 63\", \"114-942-659 63\", \"114-942-659 63\", \"114-942-659 63\", \"114-942-659 63\", \"114-942-659 63\", \"114-942-659 63\", \"114-942-659 63\", \"114-942-659 63\", \"114-942-659 63\", \"114-942-659 63\", \"114-942-659 63\", \"114-942-659 63\", \"140-649-482 62\", \"114-942-659 63\", \"114-942-659 63\", \"114-942-659 63\", \"114-942-659 63\", \"140-649-482 62\", \"114-942-659 63\", \"114-942-659 63\", \"114-942-659 63\", \"114-942-659 63\", \"114-942-659 63\", \"114-942-659 63\", \"114-942-659 63\", \"114-942-659 63\", \"114-942-659 63\", \"114-942-659 63\", \"114-942-659 63\", \"114-942-659 63\", \"114-942-659 63\", \"114-942-659 63\", \"114-942-659 63\", \"114-942-659 63\", \"114-942-659 63\", \"114-942-659 63\", \"114-942-659 63\", \"114-942-659 63\", \"114-942-659 63\", \"114-942-659 63\", \"114-942-659 63\", \"114-942-659 63\", \"114-942-659 63\", \"114-942-659 63\", \"114-942-659 63\", \"114-942-659 63\", \"114-942-659 63\", \"114-942-659 63\", \"114-942-659 63\", \"114-942-659 63\", \"114-942-659 63\", \"114-942-659 63\", \"114-942-659 63\", \"114-942-659 63\", \"114-942-659 63\", \"114-942-659 63\", \"114-942-659 63\", \"135-868-498 14\", \"135-868-498 14\", \"135-868-498 14\", \"135-868-498 14\", \"135-868-498 14\", \"135-868-498 14\", \"135-868-498 14\", \"140-649-482 62\", \"135-868-498 14\", \"135-868-498 14\", \"135-868-498 14\", \"135-868-498 14\", \"135-868-498 14\", \"135-868-498 14\", \"135-868-498 14\", \"135-868-498 14\", \"135-868-498 14\", \"135-868-498 14\", \"135-868-498 14\", \"135-868-498 14\", \"135-868-498 14\", \"135-868-498 14\", \"135-868-498 14\", \"135-868-498 14\", \"135-868-498 14\", \"135-868-498 14\", \"135-868-498 14\", \"140-649-482 62\", \"135-868-498 14\", \"135-868-498 14\", \"135-868-498 14\", \"140-649-482 62\", \"140-649-482 62\", \"140-649-482 62\", \"135-868-498 14\", \"135-868-498 14\", \"135-868-498 14\", \"135-868-498 14\", \"135-868-498 14\", \"135-868-498 14\", \"135-868-498 14\", \"135-868-498 14\", \"135-868-498 14\", \"135-868-498 14\", \"135-868-498 14\", \"140-649-482 62\", \"135-868-498 14\", \"140-649-482 62\", \"135-868-498 14\", \"135-868-498 14\", \"135-868-498 14\", \"135-868-498 14\", \"135-868-498 14\", \"135-868-498 14\", \"135-868-498 14\", \"135-868-498 14\", \"135-868-498 14\", \"135-868-498 14\", \"135-868-498 14\", \"135-868-498 14\", \"135-868-498 14\", \"135-868-498 14\", \"135-868-498 14\", \"135-868-498 14\", \"135-868-498 14\", \"135-868-498 14\", \"135-868-498 14\", \"135-868-498 14\", \"135-868-498 14\", \"135-868-498 14\", \"135-868-498 14\", \"135-868-498 14\", \"135-868-498 14\", \"135-868-498 14\", \"135-868-498 14\", \"135-868-498 14\", \"135-868-498 14\", \"135-868-498 14\", \"135-868-498 14\", \"140-649-482 62\", \"140-649-482 62\", \"140-649-482 62\", \"140-649-482 62\", \"140-649-482 62\", \"140-649-482 62\", \"140-649-482 62\", \"140-649-482 62\", \"140-649-482 62\", \"140-649-482 62\", \"140-649-482 62\", \"140-649-482 62\", \"140-649-482 62\", \"140-649-482 62\", \"140-649-482 62\", \"140-649-482 62\", \"140-649-482 62\", \"135-868-498 14\", \"140-649-482 62\", \"140-649-482 62\", \"140-649-482 62\", \"140-649-482 62\", \"140-649-482 62\", \"140-649-482 62\", \"032-665-119 37\", \"114-942-659 63\", \"135-868-498 14\", \"140-649-482 62\", \"135-868-498 14\", \"135-868-498 14\", \"140-649-482 62\", \"140-649-482 62\", \"140-649-482 62\", \"140-649-482 62\", \"140-649-482 62\", \"140-649-482 62\", \"140-649-482 62\", \"140-649-482 62\", \"140-649-482 62\", \"140-649-482 62\", \"140-649-482 62\", \"140-649-482 62\", \"140-649-482 62\", \"140-649-482 62\", \"140-649-482 62\", \"140-649-482 62\", \"140-649-482 62\", \"140-649-482 62\", \"140-649-482 62\", \"140-649-482 62\", \"140-649-482 62\", \"140-649-482 62\", \"140-649-482 62\", \"140-649-482 62\", \"140-649-482 62\", \"140-649-482 62\", \"140-649-482 62\", \"140-649-482 62\", \"140-649-482 62\", \"035-508-912 51\", \"035-508-912 51\", \"035-508-912 51\", \"035-508-912 51\", \"035-508-912 51\", \"035-508-912 51\", \"035-508-912 51\", \"035-508-912 51\", \"035-508-912 51\", \"035-508-912 51\", \"035-508-912 51\", \"035-508-912 51\", \"035-508-912 51\", \"035-508-912 51\", \"035-508-912 51\", \"035-508-912 51\", \"035-508-912 51\", \"035-508-912 51\", \"035-508-912 51\", \"035-508-912 51\", \"035-508-912 51\", \"035-508-912 51\", \"035-508-912 51\", \"035-508-912 51\", \"035-508-912 51\", \"035-508-912 51\", \"035-508-912 51\", \"035-508-912 51\", \"035-508-912 51\", \"035-508-912 51\", \"035-508-912 51\", \"035-508-912 51\", \"035-508-912 51\", \"035-508-912 51\", \"035-508-912 51\", \"035-508-912 51\", \"035-508-912 51\", \"035-508-912 51\", \"035-508-912 51\", \"035-508-912 51\", \"035-508-912 51\", \"035-508-912 51\", \"035-508-912 51\", \"035-508-912 51\", \"035-508-912 51\", \"035-508-912 51\", \"035-508-912 51\", \"035-508-912 51\", \"035-508-912 51\", \"035-508-912 51\", \"035-508-912 51\", \"035-508-912 51\", \"035-508-912 51\", \"035-508-912 51\", \"035-508-912 51\", \"035-508-912 51\", \"035-508-912 51\", \"035-508-912 51\", \"035-508-912 51\", \"035-508-912 51\", \"035-508-912 51\", \"035-508-912 51\", \"035-508-912 51\", \"035-508-912 51\", \"035-508-912 51\", \"035-508-912 51\", \"035-508-912 51\", \"035-508-912 51\", \"035-508-912 51\", \"035-508-912 51\", \"035-508-912 51\", \"035-508-912 51\", \"035-508-912 51\", \"035-508-912 51\", \"035-508-912 51\", \"035-508-912 51\", \"035-508-912 51\", \"035-508-912 51\", \"035-508-912 51\", \"035-508-912 51\", \"035-508-912 51\", \"035-508-912 51\", \"035-508-912 51\", \"035-508-912 51\", \"035-508-912 51\", \"035-508-912 51\", \"035-508-912 51\", \"035-508-912 51\", \"035-508-912 51\", \"035-508-912 51\", \"035-508-912 51\", \"035-508-912 51\", \"154-608-980 87\", \"035-508-912 51\", \"035-508-912 51\", \"035-508-912 51\", \"035-508-912 51\", \"035-508-912 51\", \"035-508-912 51\", \"035-508-912 51\", \"035-508-912 51\", \"035-508-912 51\", \"035-508-912 51\", \"035-508-912 51\", \"035-508-912 51\", \"035-508-912 51\", \"035-508-912 51\", \"035-508-912 51\", \"035-508-912 51\", \"035-508-912 51\", \"035-508-912 51\", \"035-508-912 51\", \"035-508-912 51\", \"035-508-912 51\", \"035-508-912 51\", \"035-508-912 51\", \"035-508-912 51\", \"035-508-912 51\", \"035-508-912 51\", \"035-508-912 51\", \"035-508-912 51\", \"035-508-912 51\", \"035-508-912 51\", \"035-508-912 51\", \"035-508-912 51\", \"035-508-912 51\", \"035-508-912 51\", \"035-508-912 51\", \"035-508-912 51\", \"035-508-912 51\", \"035-508-912 51\", \"035-508-912 51\", \"035-508-912 51\", \"035-508-912 51\", \"035-508-912 51\", \"035-508-912 51\", \"035-508-912 51\", \"101-254-765 06\", \"101-254-765 06\", \"101-254-765 06\", \"101-254-765 06\", \"101-254-765 06\", \"101-254-765 06\", \"101-254-765 06\", \"101-254-765 06\", \"101-254-765 06\", \"101-254-765 06\", \"101-254-765 06\", \"101-254-765 06\", \"101-254-765 06\", \"101-254-765 06\", \"101-254-765 06\", \"101-254-765 06\", \"101-254-765 06\", \"101-254-765 06\", \"101-254-765 06\", \"154-608-980 87\", \"154-608-980 87\", \"154-608-980 87\", \"154-608-980 87\", \"154-608-980 87\", \"154-608-980 87\", \"154-608-980 87\", \"154-608-980 87\", \"154-608-980 87\", \"154-608-980 87\", \"154-608-980 87\", \"154-608-980 87\", \"154-608-980 87\", \"154-608-980 87\", \"154-608-980 87\", \"154-608-980 87\", \"154-608-980 87\", \"154-608-980 87\", \"154-608-980 87\", \"154-608-980 87\", \"154-608-980 87\", \"154-608-980 87\", \"154-608-980 87\", \"154-608-980 87\", \"154-608-980 87\", \"154-608-980 87\", \"154-608-980 87\", \"154-608-980 87\", \"154-608-980 87\", \"154-608-980 87\", \"154-608-980 87\", \"154-608-980 87\", \"154-608-980 87\", \"154-608-980 87\", \"154-608-980 87\", \"154-608-980 87\", \"154-608-980 87\", \"154-608-980 87\", \"154-608-980 87\", \"154-608-980 87\", \"154-608-980 87\", \"154-608-980 87\", \"154-608-980 87\", \"154-608-980 87\", \"154-608-980 87\", \"154-608-980 87\", \"154-608-980 87\", \"154-608-980 87\", \"154-608-980 87\", \"154-608-980 87\", \"154-608-980 87\", \"154-608-980 87\", \"154-608-980 87\", \"154-608-980 87\", \"154-608-980 87\", \"154-608-980 87\", \"154-608-980 87\", \"154-608-980 87\", \"154-608-980 87\", \"154-608-980 87\", \"154-608-980 87\", \"154-608-980 87\", \"154-608-980 87\", \"154-608-980 87\", \"154-608-980 87\", \"154-608-980 87\", \"154-608-980 87\", \"154-608-980 87\", \"154-608-980 87\", \"154-608-980 87\", \"154-608-980 87\", \"154-608-980 87\", \"154-608-980 87\", \"154-608-980 87\", \"154-608-980 87\", \"154-608-980 87\", \"154-608-980 87\", \"154-608-980 87\", \"154-608-980 87\", \"154-608-980 87\", \"154-608-980 87\", \"154-608-980 87\", \"154-608-980 87\", \"154-608-980 87\", \"154-608-980 87\", \"154-608-980 87\", \"154-608-980 87\", \"154-608-980 87\", \"154-608-980 87\", \"154-608-980 87\", \"154-608-980 87\", \"154-608-980 87\", \"154-608-980 87\", \"154-608-980 87\", \"154-608-980 87\", \"154-608-980 87\", \"154-608-980 87\", \"154-608-980 87\", \"154-608-980 87\", \"154-608-980 87\", \"154-608-980 87\", \"154-608-980 87\", \"154-608-980 87\", \"154-608-980 87\", \"154-608-980 87\", \"154-608-980 87\", \"154-608-980 87\", \"154-608-980 87\", \"154-608-980 87\", \"154-608-980 87\", \"154-608-980 87\", \"154-608-980 87\", \"154-608-980 87\", \"154-608-980 87\", \"154-608-980 87\", \"154-608-980 87\", \"154-608-980 87\", \"154-608-980 87\", \"154-608-980 87\", \"154-608-980 87\", \"154-608-980 87\", \"154-608-980 87\", \"154-608-980 87\", \"154-608-980 87\", \"154-608-980 87\", \"154-608-980 87\", \"154-608-980 87\", \"154-608-980 87\", \"154-608-980 87\", \"154-608-980 87\", \"154-608-980 87\", \"154-608-980 87\", \"154-608-980 87\", \"154-608-980 87\", \"154-608-980 87\", \"154-608-980 87\", \"154-608-980 87\", \"154-608-980 87\", \"154-608-980 87\", \"154-608-980 87\", \"154-608-980 87\", \"154-608-980 87\", \"154-608-980 87\", \"154-608-980 87\", \"154-608-980 87\", \"154-608-980 87\", \"154-608-980 87\", \"154-608-980 87\", \"154-608-980 87\", \"154-608-980 87\", \"154-608-980 87\", \"154-608-980 87\", \"154-608-980 87\", \"154-608-980 87\", \"154-608-980 87\", \"154-608-980 87\", \"154-608-980 87\", \"154-608-980 87\", \"154-608-980 87\", \"154-608-980 87\", \"154-608-980 87\", \"154-608-980 87\", \"154-608-980 87\", \"154-608-980 87\", \"154-608-980 87\", \"154-608-980 87\", \"154-608-980 87\", \"154-608-980 87\", \"154-608-980 87\", \"154-608-980 87\", \"154-608-980 87\", \"154-608-980 87\", \"154-608-980 87\", \"154-608-980 87\", \"154-608-980 87\", \"154-608-980 87\", \"154-608-980 87\", \"154-608-980 87\", \"154-608-980 87\", \"154-608-980 87\", \"154-608-980 87\", \"154-608-980 87\", \"154-608-980 87\", \"154-608-980 87\", \"154-608-980 87\", \"154-608-980 87\", \"154-608-980 87\", \"154-608-980 87\", \"154-608-980 87\", \"154-608-980 87\", \"154-608-980 87\", \"154-608-980 87\", \"154-608-980 87\", \"154-608-980 87\", \"154-608-980 87\", \"154-608-980 87\", \"157-524-235 70\", \"157-524-235 70\", \"157-524-235 70\", \"157-524-235 70\", \"157-524-235 70\", \"157-524-235 70\", \"157-524-235 70\", \"157-524-235 70\", \"157-524-235 70\", \"157-524-235 70\", \"157-524-235 70\", \"157-524-235 70\", \"157-524-235 70\", \"157-524-235 70\", \"157-524-235 70\", \"157-524-235 70\", \"157-524-235 70\", \"157-524-235 70\", \"157-524-235 70\", \"157-524-235 70\", \"157-524-235 70\", \"157-524-235 70\", \"157-524-235 70\", \"157-524-235 70\", \"035-508-912 51\", \"157-524-235 70\", \"157-524-235 70\", \"157-524-235 70\", \"157-524-235 70\", \"157-524-235 70\", \"157-524-235 70\", \"157-524-235 70\", \"157-524-235 70\", \"157-524-235 70\", \"157-524-235 70\", \"157-524-235 70\", \"157-524-235 70\", \"157-524-235 70\", \"157-524-235 70\", \"157-524-235 70\", \"157-524-235 70\", \"157-524-235 70\", \"157-524-235 70\", \"157-524-235 70\", \"157-524-235 70\", \"157-524-235 70\", \"157-524-235 70\", \"154-608-980 87\", \"157-524-235 70\", \"157-524-235 70\", \"157-524-235 70\", \"157-524-235 70\", \"157-524-235 70\", \"157-524-235 70\", \"157-524-235 70\", \"157-524-235 70\", \"157-524-235 70\", \"157-524-235 70\", \"157-524-235 70\", \"157-524-235 70\", \"157-524-235 70\", \"157-524-235 70\", \"157-524-235 70\", \"157-524-235 70\", \"157-524-235 70\", \"157-524-235 70\", \"157-524-235 70\", \"157-524-235 70\", \"157-524-235 70\", \"157-524-235 70\", \"157-524-235 70\", \"157-524-235 70\", \"157-524-235 70\", \"157-524-235 70\", \"157-524-235 70\", \"157-524-235 70\", \"157-524-235 70\", \"157-524-235 70\", \"157-524-235 70\", \"157-524-235 70\", \"157-524-235 70\", \"157-524-235 70\", \"157-524-235 70\", \"157-524-235 70\", \"157-524-235 70\", \"157-524-235 70\", \"157-524-235 70\", \"157-524-235 70\", \"157-524-235 70\", \"157-524-235 70\", \"157-524-235 70\", \"157-524-235 70\", \"157-524-235 70\", \"157-524-235 70\", \"157-524-235 70\", \"051-248-153 26\", \"051-248-153 26\", \"134-472-934 64\", \"051-248-153 26\", \"134-472-934 64\", \"134-472-934 64\", \"051-248-153 26\", \"051-248-153 26\", \"051-248-153 26\", \"134-472-934 64\", \"051-248-153 26\", \"051-248-153 26\", \"134-472-934 64\", \"051-248-153 26\", \"134-472-934 64\", \"134-472-934 64\", \"051-248-153 26\", \"134-472-934 64\", \"051-248-153 26\", \"051-248-153 26\", \"051-248-153 26\", \"134-472-934 64\", \"051-248-153 26\", \"051-248-153 26\", \"051-248-153 26\", \"134-472-934 64\", \"051-248-153 26\", \"051-248-153 26\", \"051-248-153 26\", \"051-248-153 26\", \"051-248-153 26\", \"051-248-153 26\", \"134-472-934 64\", \"051-248-153 26\", \"051-248-153 26\", \"134-472-934 64\", \"051-248-153 26\", \"051-248-153 26\", \"051-248-153 26\", \"051-248-153 26\", \"051-248-153 26\", \"134-472-934 64\", \"051-248-153 26\", \"051-248-153 26\", \"051-248-153 26\", \"134-472-934 64\", \"051-248-153 26\", \"051-248-153 26\", \"051-248-153 26\", \"051-248-153 26\", \"051-248-153 26\", \"134-472-934 64\", \"134-472-934 64\", \"051-248-153 26\", \"134-472-934 64\", \"051-248-153 26\", \"051-248-153 26\", \"051-248-153 26\", \"051-248-153 26\", \"134-472-934 64\", \"134-472-934 64\", \"051-248-153 26\", \"051-248-153 26\", \"051-248-153 26\", \"051-248-153 26\", \"051-248-153 26\", \"134-472-934 64\", \"051-248-153 26\", \"051-248-153 26\", \"051-248-153 26\", \"051-248-153 26\", \"051-248-153 26\", \"051-248-153 26\", \"051-248-153 26\", \"134-472-934 64\", \"051-248-153 26\", \"051-248-153 26\", \"134-472-934 64\", \"134-472-934 64\", \"051-248-153 26\", \"051-248-153 26\", \"051-248-153 26\", \"051-248-153 26\", \"134-472-934 64\", \"051-248-153 26\", \"051-248-153 26\", \"051-248-153 26\", \"134-472-934 64\", \"051-248-153 26\", \"051-248-153 26\", \"051-248-153 26\", \"051-248-153 26\", \"134-472-934 64\", \"051-248-153 26\", \"134-472-934 64\", \"051-248-153 26\", \"051-248-153 26\", \"051-248-153 26\", \"134-472-934 64\", \"051-248-153 26\", \"051-248-153 26\", \"051-248-153 26\", \"051-248-153 26\", \"134-472-934 64\", \"134-472-934 64\", \"051-248-153 26\", \"051-248-153 26\", \"051-248-153 26\", \"051-248-153 26\", \"134-472-934 64\", \"051-248-153 26\", \"051-248-153 26\", \"051-248-153 26\", \"134-472-934 64\", \"051-248-153 26\", \"051-248-153 26\", \"051-248-153 26\", \"051-248-153 26\", \"134-472-934 64\", \"051-248-153 26\", \"134-472-934 64\", \"051-248-153 26\", \"051-248-153 26\", \"051-248-153 26\", \"134-472-934 64\", \"051-248-153 26\", \"134-472-934 64\", \"134-472-934 64\", \"051-248-153 26\", \"134-472-934 64\", \"051-248-153 26\", \"134-472-934 64\", \"051-248-153 26\", \"134-472-934 64\", \"051-248-153 26\", \"134-472-934 64\", \"051-248-153 26\", \"051-248-153 26\", \"051-248-153 26\", \"051-248-153 26\", \"134-472-934 64\", \"051-248-153 26\", \"134-472-934 64\", \"051-248-153 26\", \"051-248-153 26\", \"051-248-153 26\", \"051-248-153 26\", \"134-472-934 64\", \"051-248-153 26\", \"134-472-934 64\", \"134-472-934 64\", \"134-472-934 64\", \"134-472-934 64\", \"134-472-934 64\", \"051-248-153 26\", \"134-472-934 64\", \"134-472-934 64\", \"134-472-934 64\", \"134-472-934 64\", \"134-472-934 64\", \"134-472-934 64\", \"134-472-934 64\", \"051-248-153 26\", \"134-472-934 64\", \"051-248-153 26\", \"134-472-934 64\", \"134-472-934 64\", \"051-248-153 26\", \"134-472-934 64\", \"134-472-934 64\", \"134-472-934 64\", \"134-472-934 64\", \"134-472-934 64\", \"134-472-934 64\", \"134-472-934 64\", \"134-472-934 64\", \"134-472-934 64\", \"134-472-934 64\", \"134-472-934 64\", \"134-472-934 64\", \"134-472-934 64\", \"134-472-934 64\", \"134-472-934 64\", \"134-472-934 64\", \"134-472-934 64\", \"134-472-934 64\", \"134-472-934 64\", \"134-472-934 64\", \"134-472-934 64\", \"134-472-934 64\", \"134-472-934 64\", \"134-472-934 64\", \"051-248-153 26\", \"134-472-934 64\", \"134-472-934 64\", \"134-472-934 64\", \"051-248-153 26\", \"134-472-934 64\", \"134-472-934 64\", \"051-248-153 26\", \"134-472-934 64\", \"134-472-934 64\", \"134-472-934 64\", \"134-472-934 64\", \"051-248-153 26\", \"134-472-934 64\", \"134-472-934 64\", \"134-472-934 64\", \"134-472-934 64\", \"134-472-934 64\", \"134-472-934 64\", \"134-472-934 64\", \"134-472-934 64\", \"134-472-934 64\", \"051-248-153 26\", \"134-472-934 64\", \"134-472-934 64\", \"051-248-153 26\", \"134-472-934 64\", \"134-472-934 64\", \"134-472-934 64\", \"134-472-934 64\", \"134-472-934 64\", \"134-472-934 64\", \"134-472-934 64\", \"051-248-153 26\", \"134-472-934 64\", \"134-472-934 64\", \"134-472-934 64\", \"134-472-934 64\", \"134-472-934 64\", \"134-472-934 64\", \"134-472-934 64\", \"134-472-934 64\", \"134-472-934 64\", \"134-472-934 64\", \"134-472-934 64\", \"051-248-153 26\", \"134-472-934 64\", \"134-472-934 64\", \"134-472-934 64\"]}, {\"columnID\": \"usl_doctor_specialty\", \"columnHeader\": \"usl_doctor_specialty\", \"columnDtype\": \"int64\", \"columnData\": [2, 2, 2, 2, 2, 2, 2, 2, 2, 2, 2, 2, 2, 2, 2, 2, 2, 2, 2, 2, 2, 2, 2, 2, 2, 2, 2, 2, 2, 2, 2, 2, 2, 2, 2, 2, 2, 2, 2, 2, 2, 2, 2, 2, 2, 2, 2, 2, 2, 2, 2, 2, 2, 2, 2, 2, 2, 2, 2, 2, 2, 2, 2, 2, 2, 2, 2, 2, 2, 2, 2, 2, 2, 2, 2, 2, 2, 2, 2, 2, 2, 2, 2, 2, 2, 2, 2, 2, 2, 2, 2, 2, 2, 2, 2, 2, 2, 2, 2, 2, 2, 2, 2, 2, 2, 2, 2, 2, 2, 2, 2, 2, 2, 2, 2, 2, 2, 2, 2, 2, 2, 2, 2, 2, 2, 2, 2, 2, 2, 2, 2, 2, 2, 2, 2, 2, 2, 2, 2, 2, 2, 2, 2, 2, 2, 2, 2, 2, 2, 2, 2, 2, 2, 2, 2, 2, 2, 2, 2, 2, 2, 2, 2, 2, 2, 2, 2, 17, 17, 17, 17, 17, 17, 17, 17, 17, 17, 17, 17, 17, 17, 17, 17, 17, 17, 17, 17, 17, 17, 17, 17, 17, 17, 17, 17, 17, 35, 35, 35, 35, 35, 35, 35, 35, 35, 35, 35, 35, 35, 35, 35, 35, 35, 35, 35, 35, 35, 35, 35, 35, 35, 35, 35, 35, 35, 35, 35, 35, 35, 35, 35, 35, 35, 35, 35, 35, 35, 35, 35, 35, 35, 35, 35, 35, 35, 35, 35, 35, 35, 35, 35, 35, 35, 35, 35, 35, 35, 35, 35, 35, 35, 35, 35, 35, 35, 35, 35, 35, 35, 35, 35, 35, 35, 35, 35, 35, 35, 35, 35, 35, 35, 35, 35, 35, 35, 35, 35, 35, 35, 35, 35, 35, 35, 35, 35, 35, 35, 35, 35, 35, 35, 35, 35, 35, 35, 35, 35, 35, 35, 41, 41, 41, 41, 41, 41, 41, 41, 41, 41, 41, 41, 41, 41, 41, 41, 41, 41, 41, 41, 41, 41, 41, 41, 41, 41, 41, 41, 41, 41, 41, 41, 41, 41, 41, 41, 41, 45, 45, 45, 45, 45, 45, 45, 45, 45, 45, 45, 45, 45, 45, 45, 45, 45, 45, 45, 45, 45, 45, 45, 45, 45, 45, 45, 45, 45, 45, 45, 45, 45, 45, 45, 45, 45, 45, 45, 45, 45, 45, 45, 45, 45, 46, 46, 46, 46, 46, 46, 46, 46, 46, 46, 46, 46, 46, 46, 46, 46, 46, 46, 46, 46, 46, 46, 46, 46, 46, 46, 46, 46, 46, 46, 46, 46, 46, 46, 46, 46, 46, 46, 46, 46, 46, 46, 46, 46, 46, 46, 46, 46, 46, 46, 46, 46, 46, 46, 46, 46, 46, 46, 46, 46, 46, 46, 46, 46, 46, 46, 46, 46, 46, 46, 46, 46, 46, 46, 46, 46, 46, 46, 46, 46, 46, 46, 46, 46, 46, 46, 46, 46, 46, 46, 46, 46, 46, 46, 46, 46, 46, 46, 46, 46, 46, 46, 49, 49, 49, 49, 49, 49, 49, 49, 49, 49, 49, 49, 49, 49, 49, 49, 49, 49, 49, 49, 49, 49, 49, 49, 49, 49, 49, 49, 49, 49, 49, 49, 49, 49, 49, 49, 49, 49, 49, 49, 49, 49, 49, 49, 49, 49, 49, 49, 49, 49, 49, 49, 49, 49, 49, 49, 49, 49, 49, 49, 49, 49, 49, 49, 49, 49, 49, 49, 49, 49, 49, 49, 49, 49, 49, 49, 49, 49, 49, 49, 49, 49, 49, 49, 49, 49, 49, 49, 49, 49, 49, 49, 49, 49, 49, 49, 49, 49, 49, 49, 49, 49, 49, 49, 49, 49, 49, 49, 49, 49, 49, 49, 49, 49, 49, 49, 49, 49, 49, 49, 49, 49, 49, 49, 49, 49, 49, 49, 49, 49, 49, 49, 49, 49, 49, 49, 49, 49, 49, 49, 49, 49, 49, 49, 49, 49, 49, 49, 49, 49, 49, 49, 49, 49, 49, 49, 49, 49, 49, 49, 49, 49, 49, 49, 49, 49, 49, 49, 49, 49, 49, 49, 49, 49, 49, 49, 49, 49, 49, 49, 49, 49, 49, 49, 49, 49, 49, 49, 49, 49, 49, 49, 49, 49, 49, 49, 49, 49, 49, 49, 49, 49, 49, 49, 49, 49, 49, 49, 49, 49, 49, 49, 49, 49, 49, 49, 49, 49, 49, 49, 49, 49, 49, 49, 49, 49, 49, 49, 49, 49, 49, 49, 49, 49, 49, 49, 49, 49, 49, 49, 49, 49, 49, 49, 49, 49, 49, 49, 49, 49, 49, 49, 49, 49, 49, 49, 49, 49, 49, 49, 49, 49, 49, 49, 49, 49, 49, 49, 49, 49, 49, 49, 49, 49, 49, 49, 49, 49, 49, 49, 49, 49, 49, 49, 49, 49, 49, 49, 49, 49, 49, 49, 49, 49, 49, 49, 49, 49, 49, 49, 49, 49, 49, 49, 49, 49, 49, 49, 49, 49, 49, 49, 49, 49, 49, 49, 49, 49, 49, 76, 76, 76, 76, 76, 76, 76, 76, 76, 76, 76, 76, 76, 76, 76, 76, 76, 76, 76, 76, 76, 76, 76, 76, 76, 76, 76, 76, 76, 76, 76, 76, 76, 76, 76, 76, 76, 76, 76, 76, 76, 76, 76, 76, 76, 76, 76, 76, 76, 76, 76, 76, 76, 76, 76, 76, 76, 76, 76, 76, 76, 76, 76, 76, 76, 76, 76, 76, 76, 76, 76, 76, 76, 76, 76, 76, 76, 76, 76, 76, 76, 76, 76, 76, 76, 76, 76, 76, 76, 76, 76, 76, 76, 76, 76, 76, 76, 76, 76, 76, 76, 76, 76, 76, 76, 76, 76, 76, 76, 76, 76, 76, 76, 76, 76, 76, 76, 76, 76, 76, 76, 76, 76, 76, 76, 76, 76, 76, 76, 76, 76, 76, 76, 76, 76, 76, 76, 76, 76, 76, 76, 76, 76, 76, 76, 76, 76, 76, 76, 76, 76, 76, 76, 76, 76, 76, 76, 76, 76, 76, 76, 76, 76, 76, 76, 76, 76, 76, 76, 76, 76, 76, 76, 76, 76, 76, 76, 76, 76, 76, 76, 76, 76, 76, 76, 76, 76, 76, 76, 76, 76, 76, 76, 76, 76, 76, 76, 76, 76, 76, 76, 76, 76, 76, 76, 76, 76, 76, 76, 76, 76, 76, 76, 76, 76, 76, 76, 76, 76, 76, 76, 76, 76, 76, 76, 76, 76, 76, 76, 76, 76, 76, 76, 76, 76, 76, 76, 76, 76, 76, 76, 76, 76, 76, 76, 76, 76, 76, 76, 76, 76, 76, 76, 76, 76, 76, 76, 76, 76, 76, 76, 76, 76, 76, 76, 76, 76, 76, 76, 76, 76, 76, 76, 76, 76, 76, 76, 76, 76, 76, 76, 76, 76, 76, 76, 76, 76, 76, 76, 76, 76, 76, 76, 76, 76, 76, 76, 76, 76, 76, 76, 76, 76, 76, 76, 76, 76, 76, 76, 76, 76, 76, 76, 76, 76, 76, 76, 76, 76, 76, 76, 76, 76, 76, 76, 76, 76, 76, 76, 76, 76, 76, 76, 76, 76, 76, 76, 76, 76, 76, 76, 76, 76, 76, 76, 76, 76, 76, 76, 76, 76, 76, 76, 76, 76, 76, 76, 76, 76, 76, 76, 76, 76, 76, 76, 76, 76, 76, 76, 76, 76, 76, 76, 76, 76, 76, 76, 76, 76, 76, 76, 76, 76, 76, 76, 76, 76, 76, 76, 76, 76, 76, 76, 76, 76, 76, 76, 76, 76, 76, 76, 76, 76, 76, 76, 76, 76, 76, 76, 76, 76, 76, 76, 76, 76, 76, 76, 76, 76, 76, 76, 76, 76, 76, 76, 76, 76, 76, 76, 76, 76, 76, 76, 76, 76, 76, 76, 76, 76, 76, 76, 76, 76, 76, 76, 76, 76, 90, 90, 90, 90, 90, 90, 90, 90, 90, 90, 90, 90, 90, 90, 90, 90, 90, 90, 90, 90, 90, 90, 90, 90, 90, 90, 90, 90, 90, 90, 90, 90, 90, 90, 90, 90, 90, 90, 90, 90, 90, 90, 90, 90, 90, 90, 90, 90, 90, 90, 90, 90, 90, 90, 90, 90, 90, 90, 90, 90, 90, 90, 90, 90, 90, 90, 90, 90, 90, 90, 90, 90, 90, 90, 90, 90, 90, 90, 90, 90, 90, 90, 90, 90, 90, 90, 90, 90, 90, 90, 90, 90, 90, 90, 90, 90, 90, 90, 90, 90, 90, 90, 90, 90, 90, 90, 90, 90, 90, 90, 90, 90, 90, 90, 90, 90, 90, 90, 90, 90, 90, 90, 90, 90, 90, 90, 90, 90, 90, 90, 90, 90, 90, 90, 90, 90, 90, 90, 90, 90, 90, 90, 90, 90, 90, 90, 90, 90, 90, 90, 90, 90, 90, 90, 90, 90, 90, 90, 90, 90, 90, 90, 90, 90, 90, 90, 90, 90, 90, 90, 90, 90, 90, 90, 90, 90, 90, 90, 90, 90, 90, 90, 90, 90, 90, 90, 90, 90, 90, 90, 90, 90, 90, 90, 90, 90, 90, 90, 90, 90, 90, 90, 90, 90, 90, 90, 90, 90, 90, 90, 90, 90, 90, 90, 90, 90, 90, 90, 90, 90, 90, 90, 90, 90, 90, 90, 90, 90, 90, 90, 90, 90, 90, 90, 90, 90, 90, 90, 90, 90, 90]}, {\"columnID\": \"usl_clinic\", \"columnHeader\": \"usl_clinic\", \"columnDtype\": \"int64\", \"columnData\": [110001, 110001, 110001, 110001, 110001, 110001, 110001, 110001, 110001, 110001, 110001, 110001, 110001, 110001, 110001, 110001, 110001, 110001, 110001, 110001, 110001, 110001, 110001, 110001, 110001, 110001, 110001, 110001, 110001, 110001, 110001, 110001, 110001, 110001, 110001, 110001, 110001, 110001, 110001, 110001, 110001, 110001, 110001, 110001, 110001, 110001, 110001, 110001, 110001, 110001, 110001, 110001, 110001, 110001, 110001, 110001, 110001, 110001, 110001, 110001, 110001, 110001, 110001, 110001, 110001, 110001, 110001, 110001, 110001, 110001, 110001, 110001, 110001, 110001, 110001, 110001, 110001, 110001, 110001, 110001, 110001, 110001, 110001, 110001, 110001, 110001, 110001, 110001, 110001, 110001, 110001, 110001, 110001, 110001, 110001, 110001, 110001, 110001, 110001, 110001, 110001, 110001, 110001, 110001, 110001, 110001, 110001, 110001, 110001, 110001, 110001, 110001, 110001, 110001, 110001, 110001, 110001, 110001, 110001, 110001, 110001, 110001, 110001, 110001, 110001, 110001, 110001, 110001, 110001, 110001, 110001, 110001, 110001, 110001, 110001, 110001, 110001, 110001, 110001, 110001, 110001, 110001, 110001, 110001, 110001, 110001, 110001, 110001, 110001, 110001, 110001, 110001, 110001, 110001, 110001, 110001, 110001, 110001, 110001, 110001, 110001, 110001, 110001, 110001, 110001, 110001, 110001, 110001, 110001, 110001, 110001, 110001, 110001, 110001, 110001, 110001, 110001, 110001, 110001, 110001, 110001, 110001, 110001, 110001, 110001, 110001, 110001, 110001, 110001, 110001, 110001, 110001, 110001, 110001, 110001, 110001, 110001, 110001, 110001, 110001, 110001, 110001, 110001, 110001, 110001, 110001, 110001, 110001, 110001, 110001, 110001, 110001, 110001, 110001, 110001, 110001, 110001, 110001, 110001, 110001, 110001, 110001, 110001, 110001, 110001, 110001, 110001, 110001, 110001, 110001, 110001, 110001, 110001, 110001, 110001, 110001, 110001, 110001, 110001, 110001, 110001, 110001, 110001, 110001, 110001, 110001, 110001, 110001, 110001, 110001, 110001, 110001, 110001, 110001, 110001, 110001, 110001, 110001, 110001, 110001, 110001, 110001, 110001, 110001, 110001, 110001, 110001, 110001, 110001, 110001, 110001, 110001, 110001, 110001, 110001, 110001, 110001, 110001, 110001, 110001, 110001, 110001, 110001, 110001, 110001, 110001, 110001, 110001, 110001, 110001, 110001, 110001, 110001, 110001, 110001, 110001, 110001, 110001, 110001, 110001, 110001, 110001, 110001, 110001, 110001, 110001, 110001, 110001, 110001, 110001, 110001, 110001, 110001, 110001, 110001, 110001, 110001, 110001, 110001, 110001, 110001, 110001, 110001, 110001, 110001, 110001, 110001, 110001, 110001, 110001, 110001, 110001, 110001, 110001, 110001, 110001, 110001, 110001, 110001, 110001, 110001, 110001, 110001, 110001, 110001, 110001, 110001, 110001, 110001, 110001, 110001, 110001, 110001, 110001, 110001, 110001, 110001, 110001, 110001, 110001, 110001, 110001, 110001, 110001, 110001, 110001, 110001, 110001, 110001, 110001, 110001, 110001, 110001, 110001, 110001, 110001, 110001, 110001, 110001, 110001, 110001, 110001, 110001, 110001, 110001, 110001, 110001, 110001, 110001, 110001, 110001, 110001, 110001, 110001, 110001, 110001, 110001, 110001, 110001, 110001, 110001, 110001, 110001, 110001, 110001, 110001, 110001, 110001, 110001, 110001, 110001, 110001, 110001, 110001, 110001, 110001, 110001, 110001, 110001, 110001, 110001, 110001, 110001, 110001, 110001, 110001, 110001, 110001, 110001, 110001, 110001, 110001, 110001, 110001, 110001, 110001, 110001, 110001, 110001, 110001, 110001, 110001, 110001, 110001, 110001, 110001, 110001, 110001, 110001, 110001, 110001, 110001, 110001, 110001, 110001, 110001, 110001, 110001, 110001, 110001, 110001, 110001, 110001, 110001, 110001, 110001, 110001, 110001, 110001, 110001, 110001, 110001, 110001, 110001, 110001, 110001, 110001, 110001, 110001, 110001, 110001, 110001, 110001, 110001, 110001, 110001, 110001, 110001, 110001, 110001, 110001, 110001, 110001, 110001, 110001, 110001, 110001, 110001, 110001, 110001, 110001, 110001, 110001, 110001, 110001, 110001, 110001, 110001, 110001, 110001, 110001, 110001, 110001, 110001, 110001, 110001, 110001, 110001, 110001, 110001, 110001, 110001, 110001, 110001, 110001, 110001, 110001, 110001, 110001, 110001, 110001, 110001, 110001, 110001, 110001, 110001, 110001, 110001, 110001, 110001, 110001, 110001, 110001, 110001, 110001, 110001, 110001, 110001, 110001, 110001, 110001, 110001, 110001, 110001, 110001, 110001, 110001, 110001, 110001, 110001, 110001, 110001, 110001, 110001, 110001, 110001, 110001, 110001, 110001, 110001, 110001, 110001, 110001, 110001, 110001, 110001, 110001, 110001, 110001, 110001, 110001, 110001, 110001, 110001, 110001, 110001, 110001, 110001, 110001, 110001, 110001, 110001, 110001, 110001, 110001, 110001, 110001, 110001, 110001, 110001, 110001, 110001, 110001, 110001, 110001, 110001, 110001, 110001, 110001, 110001, 110001, 110001, 110001, 110001, 110001, 110001, 110001, 110001, 110001, 110001, 110001, 110001, 110001, 110001, 110001, 110001, 110001, 110001, 110001, 110001, 110001, 110001, 110001, 110001, 110001, 110001, 110001, 110001, 110001, 110001, 110001, 110001, 110001, 110001, 110001, 110001, 110001, 110001, 110001, 110001, 110001, 110001, 110001, 110001, 110001, 110001, 110001, 110001, 110001, 110001, 110001, 110001, 110001, 110001, 110001, 110001, 110001, 110001, 110001, 110001, 110001, 110001, 110001, 110001, 110001, 110001, 110001, 110001, 110001, 110001, 110001, 110001, 110001, 110001, 110001, 110001, 110001, 110001, 110001, 110001, 110001, 110001, 110001, 110001, 110001, 110001, 110001, 110001, 110001, 110001, 110001, 110001, 110001, 110001, 110001, 110001, 110001, 110001, 110001, 110001, 110001, 110001, 110001, 110001, 110001, 110001, 110001, 110001, 110001, 110001, 110001, 110001, 110001, 110001, 110001, 110001, 110001, 110001, 110001, 110001, 110001, 110001, 110001, 110001, 110001, 110001, 110001, 110001, 110001, 110001, 110001, 110001, 110001, 110001, 110001, 110001, 110001, 110001, 110001, 110001, 110001, 110001, 110001, 110001, 110001, 110001, 110001, 110001, 110001, 110001, 110001, 110001, 110001, 110001, 110001, 110001, 110001, 110001, 110001, 110001, 110001, 110001, 110001, 110001, 110001, 110001, 110001, 110001, 110001, 110001, 110001, 110001, 110001, 110001, 110001, 110001, 110001, 110001, 110001, 110001, 110001, 110001, 110001, 110001, 110001, 110001, 110001, 110001, 110001, 110001, 110001, 110001, 110001, 110001, 110001, 110001, 110001, 110001, 110001, 110001, 110001, 110001, 110001, 110001, 110001, 110001, 110001, 110001, 110001, 110001, 110001, 110001, 110001, 110001, 110001, 110001, 110001, 110001, 110001, 110001, 110001, 110001, 110001, 110001, 110001, 110001, 110001, 110001, 110001, 110001, 110001, 110001, 110001, 110001, 110001, 110001, 110001, 110001, 110001, 110001, 110001, 110001, 110001, 110001, 110001, 110001, 110001, 110001, 110001, 110001, 110001, 110001, 110001, 110001, 110001, 110001, 110001, 110001, 110001, 110001, 110001, 110001, 110001, 110001, 110001, 110001, 110001, 110001, 110001, 110001, 110001, 110001, 110001, 110001, 110001, 110001, 110001, 110001, 110001, 110001, 110001, 110001, 110001, 110001, 110001, 110001, 110001, 110001, 110001, 110001, 110001, 110001, 110001, 110001, 110001, 110001, 110001, 110001, 110001, 110001, 110001, 110001, 110001, 110001, 110001, 110001, 110001, 110001, 110001, 110001, 110001, 110001, 110001, 110001, 110001, 110001, 110001, 110001, 110001, 110001, 110001, 110001, 110001, 110001, 110001, 110001, 110001, 110001, 110001, 110001, 110001, 110001, 110001, 110001, 110001, 110001, 110001, 110001, 110001, 110001, 110001, 110001, 110001, 110001, 110001, 110001, 110001, 110001, 110001, 110001, 110001, 110001, 110001, 110001, 110001, 110001, 110001, 110001, 110001, 110001, 110001, 110001, 110001, 110001, 110001, 110001, 110001, 110001, 110001, 110001, 110001, 110001, 110001, 110001, 110001, 110001, 110001, 110001, 110001, 110001, 110001, 110001, 110001, 110001, 110001, 110001, 110001, 110001, 110001, 110001, 110001, 110001, 110001, 110001, 110001, 110001, 110001, 110001, 110001, 110001, 110001, 110001, 110001, 110001, 110001, 110001, 110001, 110001, 110001, 110001, 110001, 110001, 110001, 110001, 110001, 110001, 110001, 110001, 110001, 110001, 110001, 110001, 110001, 110001, 110001, 110001, 110001, 110001, 110001, 110001, 110001, 110001, 110001, 110001, 110001, 110001, 110001, 110001, 110001, 110001, 110001, 110001, 110001, 110001, 110001, 110001, 110001, 110001, 110001, 110001, 110001, 110001, 110001, 110001, 110001, 110001, 110001, 110001, 110001, 110001, 110001, 110001, 110001, 110001, 110001, 110001, 110001, 110001, 110001, 110001, 110001, 110001, 110001, 110001, 110001, 110001, 110001, 110001, 110001, 110001, 110001, 110001, 110001, 110001, 110001, 110001, 110001, 110001, 110001, 110001, 110001, 110001, 110001, 110001, 110001, 110001, 110001, 110001, 110001, 110001, 110001, 110001, 110001, 110001, 110001, 110001, 110001, 110001, 110001, 110001, 110001, 110001, 110001, 110001, 110001, 110001, 110001, 110001, 110001, 110001, 110001, 110001, 110001, 110001, 110001, 110001, 110001, 110001, 110001, 110001, 110001, 110001, 110001, 110001, 110001, 110001, 110001, 110001, 110001, 110001, 110001, 110001, 110001, 110001, 110001, 110001, 110001, 110001, 110001, 110001, 110001, 110001, 110001, 110001, 110001, 110001, 110001, 110001, 110001, 110001, 110001, 110001, 110001, 110001, 110001, 110001, 110001, 110001, 110001, 110001, 110001, 110001, 110001, 110001, 110001, 110001, 110001, 110001, 110001, 110001, 110001, 110001, 110001, 110001, 110001, 110001, 110001, 110001, 110001, 110001, 110001, 110001, 110001, 110001, 110001, 110001, 110001, 110001, 110001, 110001, 110001, 110001, 110001, 110001, 110001, 110001, 110001, 110001, 110001, 110001, 110001, 110001, 110001, 110001, 110001, 110001, 110001, 110001, 110001, 110001, 110001, 110001, 110001, 110001, 110001, 110001, 110001, 110001, 110001, 110001, 110001, 110001, 110001, 110001, 110001, 110001, 110001, 110001, 110001, 110001, 110001, 110001, 110001, 110001, 110001, 110001, 110001, 110001, 110001, 110001, 110001, 110001, 110001, 110001, 110001, 110001, 110001, 110001, 110001, 110001, 110001, 110001, 110001, 110001, 110001, 110001, 110001, 110001, 110001, 110001, 110001, 110001, 110001, 110001, 110001, 110001, 110001, 110001, 110001, 110001, 110001, 110001, 110001, 110001, 110001, 110001, 110001, 110001, 110001, 110001, 110001, 110001, 110001, 110001, 110001, 110001, 110001, 110001, 110001, 110001, 110001, 110001, 110001, 110001, 110001, 110001, 110001, 110001, 110001, 110001, 110001, 110001, 110001, 110001, 110001, 110001, 110001, 110001, 110001, 110001, 110001, 110001, 110001, 110001, 110001, 110001, 110001, 110001, 110001, 110001, 110001, 110001, 110001, 110001, 110001, 110001, 110001, 110001, 110001, 110001, 110001, 110001, 110001, 110001, 110001, 110001, 110001, 110001, 110001, 110001, 110001, 110001, 110001, 110001, 110001, 110001, 110001, 110001, 110001, 110001, 110001, 110001, 110001, 110001, 110001, 110001, 110001, 110001, 110001, 110001, 110001, 110001, 110001, 110001, 110001, 110001, 110001, 110001, 110001, 110001, 110001, 110001, 110001, 110001, 110001, 110001, 110001, 110001, 110001, 110001, 110001, 110001, 110001, 110001, 110001, 110001, 110001, 110001, 110001, 110001, 110001, 110001, 110001, 110001, 110001, 110001, 110001, 110001, 110001, 110001, 110001, 110001, 110001, 110001, 110001, 110001, 110001, 110001, 110001, 110001, 110001, 110001, 110001, 110001, 110001, 110001, 110001, 110001, 110001, 110001, 110001, 110001, 110001, 110001, 110001, 110001, 110001, 110001, 110001, 110001, 110001, 110001, 110001, 110001, 110001, 110001, 110001, 110001, 110001, 110001, 110001, 110001, 110001, 110001, 110001, 110001, 110001, 110001, 110001, 110001, 110001, 110001, 110001, 110001, 110001, 110001, 110001, 110001, 110001, 110001, 110001, 110001, 110001, 110001, 110001, 110001, 110001, 110001, 110001, 110001, 110001, 110001, 110001, 110001, 110001, 110001, 110001, 110001, 110001, 110001]}, {\"columnID\": \"usl_depart\", \"columnHeader\": \"usl_depart\", \"columnDtype\": \"int64\", \"columnData\": [11000100, 11000100, 11000100, 11000100, 11000100, 11000100, 11000100, 11000100, 11000100, 11000100, 11000100, 11000100, 11000100, 11000100, 11000100, 11000100, 11000100, 11000100, 11000100, 11000100, 11000100, 11000100, 11000100, 11000100, 11000100, 11000100, 11000100, 11000100, 11000100, 11000100, 11000100, 11000100, 11000100, 11000100, 11000100, 11000100, 11000100, 11000100, 11000100, 11000100, 11000100, 11000100, 11000100, 11000100, 11000100, 11000100, 11000100, 11000100, 11000100, 11000100, 11000100, 11000100, 11000100, 11000100, 11000100, 11000100, 11000100, 11000100, 11000100, 11000100, 11000100, 11000100, 11000100, 11000100, 11000100, 11000100, 11000100, 11000100, 11000100, 11000100, 11000100, 11000100, 11000100, 11000100, 11000100, 11000100, 11000100, 11000100, 11000100, 11000100, 11000100, 11000100, 11000100, 11000100, 11000100, 11000100, 11000100, 11000100, 11000100, 11000100, 11000100, 11000100, 11000100, 11000100, 11000100, 11000100, 11000100, 11000100, 11000100, 11000100, 11000100, 11000100, 11000100, 11000100, 11000100, 11000100, 11000100, 11000100, 11000100, 11000100, 11000100, 11000100, 11000100, 11000100, 11000100, 11000100, 11000100, 11000100, 11000100, 11000100, 11000100, 11000100, 11000100, 11000100, 11000100, 11000100, 11000100, 11000100, 11000100, 11000100, 11000100, 11000100, 11000100, 11000100, 11000100, 11000100, 11000100, 11000100, 11000100, 11000100, 11000100, 11000100, 11000100, 11000100, 11000100, 11000100, 11000100, 11000100, 11000100, 11000100, 11000100, 11000100, 11000100, 11000100, 11000100, 11000100, 11000100, 11000100, 11000100, 11000100, 11000100, 11000100, 11000100, 11000100, 11000100, 11000100, 11000100, 11000100, 11000100, 11000100, 11000100, 11000100, 11000100, 11000100, 11000100, 11000100, 11000100, 11000100, 11000100, 11000100, 11000100, 11000100, 11000100, 11000100, 11000100, 11000100, 11000100, 11000100, 11000100, 11000100, 11000100, 11000100, 11000100, 11000100, 11000100, 11000100, 11000100, 11000100, 11000100, 11000100, 11000100, 11000100, 11000100, 11000100, 11000100, 11000100, 11000100, 11000100, 11000100, 11000100, 11000100, 11000100, 11000100, 11000100, 11000100, 11000100, 11000100, 11000100, 11000100, 11000100, 11000100, 11000100, 11000100, 11000100, 11000100, 11000100, 11000100, 11000100, 11000100, 11000100, 11000100, 11000100, 11000100, 11000100, 11000100, 11000100, 11000100, 11000100, 11000100, 11000100, 11000100, 11000100, 11000100, 11000100, 11000100, 11000100, 11000100, 11000100, 11000100, 11000100, 11000100, 11000100, 11000100, 11000100, 11000100, 11000100, 11000100, 11000100, 11000100, 11000100, 11000100, 11000100, 11000100, 11000100, 11000100, 11000100, 11000100, 11000100, 11000100, 11000100, 11000100, 11000100, 11000100, 11000100, 11000100, 11000100, 11000100, 11000100, 11000100, 11000100, 11000100, 11000100, 11000100, 11000100, 11000100, 11000100, 11000100, 11000100, 11000100, 11000100, 11000100, 11000100, 11000100, 11000100, 11000100, 11000100, 11000100, 11000100, 11000100, 11000100, 11000100, 11000100, 11000100, 11000100, 11000100, 11000100, 11000100, 11000100, 11000100, 11000100, 11000100, 11000100, 11000100, 11000100, 11000100, 11000100, 11000100, 11000100, 11000100, 11000100, 11000100, 11000100, 11000100, 11000100, 11000100, 11000100, 11000100, 11000100, 11000100, 11000100, 11000100, 11000100, 11000100, 11000100, 11000100, 11000100, 11000100, 11000100, 11000100, 11000100, 11000100, 11000100, 11000100, 11000100, 11000100, 11000100, 11000100, 11000100, 11000100, 11000100, 11000100, 11000100, 11000100, 11000100, 11000100, 11000100, 11000100, 11000100, 11000100, 11000100, 11000100, 11000100, 11000100, 11000100, 11000100, 11000100, 11000100, 11000100, 11000100, 11000100, 11000100, 11000100, 11000100, 11000100, 11000100, 11000100, 11000100, 11000100, 11000100, 11000100, 11000100, 11000100, 11000100, 11000100, 11000100, 11000100, 11000100, 11000100, 11000100, 11000100, 11000100, 11000100, 11000100, 11000100, 11000100, 11000100, 11000100, 11000100, 11000100, 11000100, 11000100, 11000100, 11000100, 11000100, 11000100, 11000100, 11000100, 11000100, 11000100, 11000100, 11000100, 11000100, 11000100, 11000100, 11000100, 11000100, 11000100, 11000100, 11000100, 11000100, 11000100, 11000100, 11000100, 11000100, 11000100, 11000100, 11000100, 11000100, 11000100, 11000100, 11000100, 11000100, 11000100, 11000100, 11000100, 11000100, 11000100, 11000100, 11000100, 11000100, 11000100, 11000100, 11000100, 11000100, 11000100, 11000100, 11000100, 11000100, 11000100, 11000100, 11000100, 11000100, 11000100, 11000100, 11000100, 11000100, 11000100, 11000100, 11000100, 11000100, 11000100, 11000100, 11000100, 11000100, 11000100, 11000100, 11000100, 11000100, 11000100, 11000100, 11000100, 11000100, 11000100, 11000100, 11000100, 11000100, 11000100, 11000100, 11000100, 11000100, 11000100, 11000100, 11000100, 11000100, 11000100, 11000100, 11000100, 11000100, 11000100, 11000100, 11000100, 11000100, 11000100, 11000100, 11000100, 11000100, 11000100, 11000100, 11000100, 11000100, 11000100, 11000100, 11000100, 11000100, 11000100, 11000100, 11000100, 11000100, 11000100, 11000100, 11000100, 11000100, 11000100, 11000100, 11000100, 11000100, 11000100, 11000100, 11000100, 11000100, 11000100, 11000100, 11000100, 11000100, 11000100, 11000100, 11000100, 11000100, 11000100, 11000100, 11000100, 11000100, 11000100, 11000100, 11000100, 11000100, 11000100, 11000100, 11000100, 11000100, 11000100, 11000100, 11000100, 11000100, 11000100, 11000100, 11000100, 11000100, 11000100, 11000100, 11000100, 11000100, 11000100, 11000100, 11000100, 11000100, 11000100, 11000100, 11000100, 11000100, 11000100, 11000100, 11000100, 11000100, 11000100, 11000100, 11000100, 11000100, 11000100, 11000100, 11000100, 11000100, 11000100, 11000100, 11000100, 11000100, 11000100, 11000100, 11000100, 11000100, 11000100, 11000100, 11000100, 11000100, 11000100, 11000100, 11000100, 11000100, 11000100, 11000100, 11000100, 11000100, 11000100, 11000100, 11000100, 11000100, 11000100, 11000100, 11000100, 11000100, 11000100, 11000100, 11000100, 11000100, 11000100, 11000100, 11000100, 11000100, 11000100, 11000100, 11000100, 11000100, 11000100, 11000100, 11000100, 11000100, 11000100, 11000100, 11000100, 11000100, 11000100, 11000100, 11000100, 11000100, 11000100, 11000100, 11000100, 11000100, 11000100, 11000100, 11000100, 11000100, 11000100, 11000100, 11000100, 11000100, 11000100, 11000100, 11000100, 11000100, 11000100, 11000100, 11000100, 11000100, 11000100, 11000100, 11000100, 11000100, 11000100, 11000100, 11000100, 11000100, 11000100, 11000100, 11000100, 11000100, 11000100, 11000100, 11000100, 11000100, 11000100, 11000100, 11000100, 11000100, 11000100, 11000100, 11000100, 11000100, 11000100, 11000100, 11000100, 11000100, 11000100, 11000100, 11000100, 11000100, 11000100, 11000100, 11000100, 11000100, 11000100, 11000100, 11000100, 11000100, 11000100, 11000100, 11000100, 11000100, 11000100, 11000100, 11000100, 11000100, 11000100, 11000100, 11000100, 11000100, 11000100, 11000100, 11000100, 11000100, 11000100, 11000100, 11000100, 11000100, 11000100, 11000100, 11000100, 11000100, 11000100, 11000100, 11000100, 11000100, 11000100, 11000100, 11000100, 11000100, 11000100, 11000100, 11000100, 11000100, 11000100, 11000100, 11000100, 11000100, 11000100, 11000100, 11000100, 11000100, 11000100, 11000100, 11000100, 11000100, 11000100, 11000100, 11000100, 11000100, 11000100, 11000100, 11000100, 11000100, 11000100, 11000100, 11000100, 11000100, 11000100, 11000100, 11000100, 11000100, 11000100, 11000100, 11000100, 11000100, 11000100, 11000100, 11000100, 11000100, 11000100, 11000100, 11000100, 11000100, 11000100, 11000100, 11000100, 11000100, 11000100, 11000100, 11000100, 11000100, 11000100, 11000100, 11000100, 11000100, 11000100, 11000100, 11000100, 11000100, 11000100, 11000100, 11000100, 11000100, 11000100, 11000100, 11000100, 11000100, 11000100, 11000100, 11000100, 11000100, 11000100, 11000100, 11000100, 11000100, 11000100, 11000100, 11000100, 11000100, 11000100, 11000100, 11000100, 11000100, 11000100, 11000100, 11000100, 11000100, 11000100, 11000100, 11000100, 11000100, 11000100, 11000100, 11000100, 11000100, 11000100, 11000100, 11000100, 11000100, 11000100, 11000100, 11000100, 11000100, 11000100, 11000100, 11000100, 11000100, 11000100, 11000100, 11000100, 11000100, 11000100, 11000100, 11000100, 11000100, 11000100, 11000100, 11000100, 11000100, 11000100, 11000100, 11000100, 11000100, 11000100, 11000100, 11000100, 11000100, 11000100, 11000100, 11000100, 11000100, 11000100, 11000100, 11000100, 11000100, 11000100, 11000100, 11000100, 11000100, 11000100, 11000100, 11000100, 11000100, 11000100, 11000100, 11000100, 11000100, 11000100, 11000100, 11000100, 11000100, 11000100, 11000100, 11000100, 11000100, 11000100, 11000100, 11000100, 11000100, 11000100, 11000100, 11000100, 11000100, 11000100, 11000100, 11000100, 11000100, 11000100, 11000100, 11000100, 11000100, 11000100, 11000100, 11000100, 11000100, 11000100, 11000100, 11000100, 11000100, 11000100, 11000100, 11000100, 11000100, 11000100, 11000100, 11000100, 11000100, 11000100, 11000100, 11000100, 11000100, 11000100, 11000100, 11000100, 11000100, 11000100, 11000100, 11000100, 11000100, 11000100, 11000100, 11000100, 11000100, 11000100, 11000100, 11000100, 11000100, 11000100, 11000100, 11000100, 11000100, 11000100, 11000100, 11000100, 11000100, 11000100, 11000100, 11000100, 11000100, 11000100, 11000100, 11000100, 11000100, 11000100, 11000100, 11000100, 11000100, 11000100, 11000100, 11000100, 11000100, 11000100, 11000100, 11000100, 11000100, 11000100, 11000100, 11000100, 11000100, 11000100, 11000100, 11000100, 11000100, 11000100, 11000100, 11000100, 11000100, 11000100, 11000100, 11000100, 11000100, 11000100, 11000100, 11000100, 11000100, 11000100, 11000100, 11000100, 11000100, 11000100, 11000100, 11000100, 11000100, 11000100, 11000100, 11000100, 11000100, 11000100, 11000100, 11000100, 11000100, 11000100, 11000100, 11000100, 11000100, 11000100, 11000100, 11000100, 11000100, 11000100, 11000100, 11000100, 11000100, 11000100, 11000100, 11000100, 11000100, 11000100, 11000100, 11000100, 11000100, 11000100, 11000100, 11000100, 11000100, 11000100, 11000100, 11000100, 11000100, 11000100, 11000100, 11000100, 11000100, 11000100, 11000100, 11000100, 11000100, 11000100, 11000100, 11000100, 11000100, 11000100, 11000100, 11000100, 11000100, 11000100, 11000100, 11000100, 11000100, 11000100, 11000100, 11000100, 11000100, 11000100, 11000100, 11000100, 11000100, 11000100, 11000100, 11000100, 11000100, 11000100, 11000100, 11000100, 11000100, 11000100, 11000100, 11000100, 11000100, 11000100, 11000100, 11000100, 11000100, 11000100, 11000100, 11000100, 11000100, 11000100, 11000100, 11000100, 11000100, 11000100, 11000100, 11000100, 11000100, 11000100, 11000100, 11000100, 11000100, 11000100, 11000100, 11000100, 11000100, 11000100, 11000100, 11000100, 11000100, 11000100, 11000100, 11000100, 11000100, 11000100, 11000100, 11000100, 11000100, 11000100, 11000100, 11000100, 11000100, 11000100, 11000100, 11000100, 11000100, 11000100, 11000100, 11000100, 11000100, 11000100, 11000100, 11000100, 11000100, 11000100, 11000100, 11000100, 11000100, 11000100, 11000100, 11000100, 11000100, 11000100, 11000100, 11000100, 11000100, 11000100, 11000100, 11000100, 11000100, 11000100, 11000100, 11000100, 11000100, 11000100, 11000100, 11000100, 11000100, 11000100, 11000100, 11000100, 11000100, 11000100, 11000100, 11000100, 11000100, 11000100, 11000100, 11000100, 11000100, 11000100, 11000100, 11000100, 11000100, 11000100, 11000100, 11000100, 11000100, 11000100, 11000100, 11000100, 11000100, 11000100, 11000100, 11000100, 11000100, 11000100, 11000100, 11000100, 11000100, 11000100, 11000100, 11000100, 11000100, 11000100, 11000100, 11000100, 11000100, 11000100, 11000100, 11000100, 11000100, 11000100, 11000100, 11000100, 11000100, 11000100, 11000100, 11000100, 11000100, 11000100, 11000100, 11000100, 11000100, 11000100, 11000100, 11000100, 11000100, 11000100, 11000100, 11000100, 11000100, 11000100, 11000100, 11000100, 11000100, 11000100, 11000100, 11000100, 11000100, 11000100, 11000100, 11000100, 11000100, 11000100, 11000100, 11000100, 11000100, 11000100, 11000100, 11000100, 11000100, 11000100, 11000100, 11000100, 11000100, 11000100, 11000100, 11000100, 11000100, 11000100, 11000100, 11000100, 11000100, 11000100, 11000100, 11000100, 11000100, 11000100, 11000100, 11000100, 11000100, 11000100, 11000100, 11000100, 11000100, 11000100, 11000100, 11000100, 11000100, 11000100, 11000100, 11000100, 11000100, 11000100, 11000100, 11000100, 11000100, 11000100, 11000100, 11000100, 11000100, 11000100, 11000100, 11000100, 11000100, 11000100, 11000100, 11000100, 11000100, 11000100, 11000100, 11000100, 11000100, 11000100, 11000100, 11000100, 11000100, 11000100, 11000100, 11000100, 11000100, 11000100, 11000100, 11000100, 11000100, 11000100, 11000100, 11000100, 11000100, 11000100, 11000100, 11000100, 11000100, 11000100, 11000100, 11000100, 11000100, 11000100, 11000100, 11000100, 11000100, 11000100, 11000100, 11000100, 11000100, 11000100, 11000100, 11000100, 11000100, 11000100, 11000100, 11000100, 11000100, 11000100, 11000100, 11000100, 11000100, 11000100, 11000100, 11000100, 11000100, 11000100, 11000100, 11000100, 11000100, 11000100, 11000100, 11000100, 11000100, 11000100, 11000100, 11000100, 11000100, 11000100, 11000100, 11000100, 11000100, 11000100, 11000100, 11000100, 11000100, 11000100, 11000100, 11000100, 11000100, 11000100, 11000100, 11000100, 11000100, 11000100, 11000100, 11000100, 11000100, 11000100, 11000100, 11000100, 11000100, 11000100, 11000100, 11000100, 11000100, 11000100, 11000100, 11000100, 11000100, 11000100, 11000100, 11000100, 11000100, 11000100, 11000100, 11000100, 11000100, 11000100, 11000100, 11000100, 11000100, 11000100, 11000100, 11000100, 11000100, 11000100, 11000100, 11000100, 11000100, 11000100, 11000100, 11000100, 11000100, 11000100, 11000100, 11000100, 11000100, 11000100, 11000100, 11000100, 11000100, 11000100, 11000100, 11000100, 11000100, 11000100, 11000100, 11000100, 11000100, 11000100, 11000100, 11000100, 11000100, 11000100, 11000100, 11000100, 11000100, 11000100, 11000100, 11000100, 11000100, 11000100, 11000100, 11000100, 11000100, 11000100, 11000100, 11000100, 11000100, 11000100, 11000100, 11000100, 11000100, 11000100, 11000100, 11000100, 11000100, 11000100, 11000100, 11000100, 11000100, 11000100, 11000100, 11000100, 11000100, 11000100, 11000100, 11000100, 11000100, 11000100, 11000100, 11000100, 11000100, 11000100, 11000100, 11000100, 11000100, 11000100, 11000100, 11000100, 11000100, 11000100, 11000100, 11000100, 11000100, 11000100, 11000100, 11000100, 11000100, 11000100, 11000100, 11000100, 11000100, 11000100, 11000100, 11000100, 11000100, 11000100, 11000100, 11000100, 11000100, 11000100, 11000100, 11000100, 11000100, 11000100, 11000100, 11000100, 11000100, 11000100, 11000100, 11000100, 11000100, 11000100, 11000100, 11000100, 11000100, 11000100, 11000100, 11000100, 11000100, 11000100, 11000100, 11000100, 11000100, 11000100, 11000100, 11000100, 11000100]}, {\"columnID\": \"sl_id\", \"columnHeader\": \"sl_id\", \"columnDtype\": \"int64\", \"columnData\": [1, 4, 3, 2, 1, 4, 1, 1, 1, 1, 1, 2, 6, 1, 6, 7, 3, 3, 2, 1, 1, 3, 3, 1, 1, 1, 3, 3, 2, 2, 1, 2, 2, 1, 1, 1, 2, 4, 1, 3, 1, 1, 1, 1, 1, 1, 1, 1, 4, 1, 1, 1, 1, 1, 1, 4, 3, 1, 1, 4, 15, 1, 15, 1, 1, 1, 1, 1, 1, 2, 1, 1, 1, 1, 2, 2, 2, 4, 2, 1, 1, 1, 1, 1, 1, 1, 2, 2, 2, 3, 1, 5, 7, 2, 1, 1, 1, 6, 1, 1, 13, 1, 2, 3, 9, 1, 6, 2, 1, 1, 9, 1, 1, 15, 1, 1, 1, 1, 1, 2, 2, 2, 1, 2, 2, 1, 1, 1, 1, 1, 1, 1, 2, 2, 1, 2, 2, 1, 1, 1, 6, 5, 5, 2, 3, 1, 1, 1, 3, 1, 1, 1, 2, 1, 1, 1, 1, 1, 1, 1, 1, 2, 1, 1, 2, 5, 1, 1, 1, 12, 1, 1, 1, 1, 3, 1, 1, 1, 1, 4, 7, 1, 2, 1, 9, 1, 4, 1, 3, 1, 2, 1, 2, 1, 15, 1, 2, 1, 3, 2, 2, 6, 1, 1, 1, 1, 1, 1, 2, 2, 1, 1, 2, 3, 2, 1, 1, 1, 1, 1, 2, 3, 11, 1, 1, 1, 1, 1, 1, 1, 1, 1, 1, 2, 1, 12, 2, 3, 1, 1, 1, 1, 1, 3, 1, 2, 2, 1, 1, 1, 19, 2, 5, 2, 1, 1, 1, 2, 1, 1, 3, 1, 1, 3, 1, 1, 1, 1, 1, 1, 1, 1, 1, 1, 1, 2, 1, 1, 1, 1, 2, 4, 1, 4, 4, 1, 1, 1, 1, 1, 25, 27, 1, 7, 7, 1, 22, 4, 2, 1, 1, 1, 68, 4, 11, 3, 1, 1, 1, 1, 1, 1, 1, 1, 3, 1, 3, 2, 1, 2, 1, 1, 1, 1, 1, 1, 2, 3, 4, 1, 1, 1, 1, 1, 1, 1, 3, 1, 1, 1, 3, 1, 1, 4, 2, 1, 2, 10, 1, 1, 5, 1, 5, 8, 1, 1, 2, 1, 1, 2, 1, 1, 7, 1, 1, 2, 1, 1, 1, 6, 3, 1, 1, 1, 2, 2, 3, 1, 2, 1, 2, 1, 4, 1, 1, 2, 1, 2, 9, 1, 1, 1, 3, 1, 1, 1, 1, 1, 1, 2, 6, 2, 1, 2, 2, 2, 2, 1, 1, 1, 1, 1, 1, 1, 1, 22, 8, 2, 5, 1, 40, 7, 1, 2, 4, 1, 2, 2, 1, 1, 5, 6, 2, 4, 7, 4, 4, 1, 1, 1, 1, 1, 1, 13, 1, 6, 3, 2, 1, 1, 1, 2, 1, 1, 4, 1, 8, 3, 2, 1, 1, 1, 1, 1, 1, 1, 2, 2, 2, 1, 2, 3, 4, 44, 1, 10, 3, 7, 3, 5, 4, 3, 1, 1, 2, 3, 3, 2, 1, 1, 1, 1, 11, 1, 1, 1, 1, 1, 1, 1, 1, 1, 1, 1, 1, 1, 4, 1, 1, 1, 11, 1, 8, 1, 1, 5, 1, 1, 1, 4, 1, 1, 2, 1, 1, 27, 2, 27, 1, 2, 17, 2, 1, 1, 1, 1, 1, 2, 1, 1, 2, 1, 1, 1, 3, 1, 1, 3, 1, 1, 1, 1, 1, 1, 1, 2, 1, 1, 1, 1, 1, 1, 1, 1, 1, 1, 5, 1, 3, 1, 1, 1, 1, 1, 2, 2, 1, 1, 32, 1, 17, 6, 3, 3, 2, 2, 3, 2, 1, 14, 2, 1, 1, 1, 1, 1, 1, 2, 1, 1, 1, 4, 3, 6, 3, 1, 3, 4, 2, 3, 3, 1, 1, 1, 1, 1, 1, 1, 1, 1, 1, 1, 1, 9, 22, 31, 1, 2, 37, 4, 32, 22, 3, 1, 3, 1, 1, 1, 1, 1, 1, 1, 1, 1, 1, 1, 1, 1, 1, 1, 1, 1, 1, 1, 1, 1, 1, 1, 1, 2, 1, 1, 8, 1, 31, 34, 1, 8, 13, 1, 3, 1, 1, 28, 2, 2, 3, 1, 1, 3, 5, 2, 6, 4, 1, 4, 14, 18, 13, 9, 1, 2, 1, 1, 1, 1, 1, 17, 15, 1, 25, 7, 23, 26, 3, 4, 3, 1, 1, 1, 1, 1, 1, 1, 2, 1, 4, 3, 1, 1, 1, 1, 1, 2, 1, 1, 1, 1, 1, 2, 1, 1, 1, 1, 2, 1, 1, 3, 2, 1, 28, 2, 1, 64, 1, 5, 1, 9, 5, 1, 1, 3, 10, 1, 1, 1, 1, 1, 1, 1, 1, 1, 1, 3, 4, 2, 1, 1, 2, 1, 1, 1, 2, 2, 6, 28, 17, 1, 1, 2, 14, 2, 1, 14, 13, 2, 1, 1, 1, 1, 1, 1, 2, 1, 1, 1, 1, 4, 1, 1, 1, 21, 2, 14, 1, 11, 2, 1, 1, 1, 2, 8, 2, 1, 1, 1, 1, 10, 3, 1, 2, 1, 1, 1, 2, 3, 1, 7, 1, 1, 1, 10, 3, 1, 1, 5, 1, 1, 1, 1, 1, 7, 1, 1, 1, 4, 2, 1, 4, 2, 7, 1, 1, 6, 1, 2, 1, 1, 1, 2, 56, 15, 3, 3, 1, 7, 2, 1, 7, 6, 5, 1, 1, 1, 1, 1, 1, 1, 2, 2, 23, 6, 1, 11, 2, 2, 1, 1, 1, 1, 1, 1, 1, 1, 1, 1, 1, 1, 1, 2, 1, 2, 2, 1, 1, 2, 1, 2, 14, 3, 1, 1, 1, 1, 1, 1, 1, 1, 16, 1, 1, 4, 1, 2, 1, 1, 1, 1, 1, 2, 1, 1, 3, 43, 2, 5, 3, 1, 2, 2, 3, 1, 1, 10, 10, 3, 1, 4, 1, 1, 1, 1, 1, 1, 1, 1, 1, 1, 1, 2, 7, 1, 1, 1, 1, 2, 1, 1, 1, 1, 1, 1, 1, 1, 2, 2, 1, 1, 1, 1, 1, 1, 1, 1, 3, 1, 1, 1, 7, 1, 1, 9, 2, 1, 1, 9, 1, 1, 1, 1, 1, 1, 1, 4, 2, 1, 1, 1, 1, 1, 1, 1, 1, 2, 1, 2, 1, 3, 13, 1, 1, 2, 4, 11, 1, 4, 1, 24, 4, 1, 2, 5, 1, 2, 2, 3, 1, 1, 11, 1, 1, 3, 1, 6, 1, 1, 1, 1, 3, 2, 2, 1, 2, 1, 3, 2, 1, 1, 2, 1, 1, 3, 5, 1, 1, 1, 4, 2, 11, 4, 17, 3, 2, 1, 2, 4, 9, 5, 1, 1, 1, 1, 1, 1, 1, 1, 1, 1, 2, 2, 1, 1, 2, 1, 1, 1, 1, 4, 1, 1, 1, 1, 2, 1, 1, 1, 1, 1, 1, 1, 1, 1, 2, 1, 1, 3, 1, 1, 1, 2, 2, 1, 2, 1, 1, 1, 1, 1, 2, 2, 5, 6, 4, 4, 2, 5, 6, 1, 2, 1, 1, 1, 1, 1, 1, 1, 1, 1, 1, 1, 1, 1, 1, 1, 1, 2, 1, 1, 3, 1, 14, 1, 11, 1, 1, 1, 1, 1, 2, 1, 3, 2, 1, 6, 2, 5, 1, 1, 1, 1, 11, 5, 1, 5, 2, 1, 2, 3, 1, 1, 1, 1, 3, 1, 1, 1, 1, 1, 1, 1, 1, 1, 1, 1, 2, 1, 4, 7, 1, 1, 3, 1, 1, 9, 7, 1, 2, 2, 1, 1, 1, 2, 1, 1, 1, 1, 1, 1, 1, 1, 1, 1, 1, 1, 1, 1, 1, 1, 1, 1, 1, 1, 1, 1, 5, 1, 1, 1, 1, 1, 1, 1, 1, 2, 7, 1, 1, 1, 4, 1, 1, 1, 1, 1, 1, 1, 1, 4, 1, 1, 1, 2, 2, 1, 1, 1, 1, 1, 2, 1, 1, 1, 1, 1, 1, 1, 1, 2, 1, 1, 1, 1, 1, 1, 1, 1, 2, 1, 1, 1, 1, 1, 1, 3, 1, 1, 1, 4, 1, 1, 1, 1, 3, 2, 2, 3, 1, 1, 1, 1, 1, 1, 1, 1, 1, 1, 1, 1, 1, 1, 1, 3, 1, 1, 1, 2, 2, 1, 3, 1, 1, 3, 1, 1, 7, 1, 1, 1, 1, 1, 1, 1, 1, 1, 1, 1, 3, 1, 1, 1, 1, 2, 1, 1, 2, 1, 1, 1, 1, 1, 1, 1, 1, 1, 1, 1, 1, 1, 1, 1, 1, 1, 1, 2, 2, 1, 1, 1, 1, 1, 1, 1, 1, 1, 1, 1, 1, 1, 1, 1, 1, 1, 1, 1, 1, 1, 1, 2, 1, 1, 2, 1, 1, 1, 1, 2, 1, 1, 1, 1, 2, 1, 1, 1, 1, 6, 1, 2, 1, 1, 1, 1, 1, 2, 1, 3, 1, 1, 1, 1, 4, 1, 2, 1, 1, 1, 1, 2, 1, 1, 4, 1, 5, 2, 4, 1, 1, 10, 3, 11, 13, 1, 2, 2, 1, 1, 2, 5, 1, 1, 1, 1, 1, 1, 1, 1, 1, 1, 1, 1, 1, 1, 2, 3, 1, 3, 2, 5, 1, 1, 1, 4, 6, 1, 1, 1, 1, 1, 1, 1]}, {\"columnID\": \"code_usl\", \"columnHeader\": \"code_usl\", \"columnDtype\": \"int64\", \"columnData\": [1, 1, 1, 2, 1, 1, 4, 1, 2, 1, 1, 1, 1, 2, 1, 1, 1, 1, 1, 1, 1, 1, 1, 1, 1, 1, 1, 1, 1, 1, 1, 1, 1, 2, 1, 1, 1, 1, 1, 1, 1, 1, 1, 1, 1, 1, 1, 1, 1, 2, 1, 1, 1, 1, 1, 1, 1, 2, 2, 1, 1, 2, 1, 1, 1, 1, 1, 1, 1, 1, 1, 1, 1, 2, 1, 1, 1, 1, 1, 1, 1, 3, 1, 1, 1, 1, 1, 1, 1, 1, 2, 1, 1, 2, 1, 2, 2, 1, 1, 1, 1, 1, 1, 1, 1, 1, 1, 2, 3, 1, 1, 1, 1, 1, 1, 1, 1, 1, 1, 1, 1, 1, 1, 1, 1, 1, 1, 1, 1, 1, 1, 1, 1, 1, 1, 1, 1, 1, 1, 1, 1, 1, 1, 1, 1, 1, 1, 1, 2, 1, 1, 1, 1, 1, 1, 1, 1, 1, 1, 1, 2, 1, 1, 1, 1, 1, 1, 1, 2, 1, 1, 1, 1, 1, 1, 1, 1, 2, 1, 1, 1, 1, 1, 1, 1, 3, 1, 1, 1, 2, 1, 1, 1, 1, 1, 1, 1, 1, 1, 1, 1, 1, 1, 1, 1, 1, 1, 1, 1, 1, 1, 1, 1, 1, 1, 1, 1, 1, 1, 1, 1, 1, 1, 1, 3, 1, 1, 1, 1, 1, 1, 1, 1, 1, 1, 1, 1, 1, 2, 1, 1, 1, 1, 1, 1, 1, 1, 1, 1, 1, 1, 1, 1, 1, 1, 1, 1, 1, 1, 1, 1, 3, 1, 1, 1, 1, 1, 1, 1, 2, 1, 1, 1, 1, 1, 1, 1, 1, 1, 1, 1, 1, 1, 1, 1, 1, 2, 1, 1, 1, 1, 1, 2, 1, 1, 1, 1, 1, 1, 2, 1, 1, 1, 1, 2, 3, 1, 1, 1, 1, 1, 1, 1, 1, 1, 1, 1, 1, 1, 2, 1, 1, 2, 1, 2, 1, 1, 1, 1, 1, 1, 1, 2, 1, 1, 1, 1, 1, 1, 1, 1, 1, 1, 1, 1, 1, 1, 1, 1, 1, 1, 2, 1, 1, 1, 1, 1, 1, 1, 1, 1, 1, 1, 1, 1, 1, 1, 1, 1, 1, 1, 1, 1, 2, 1, 1, 1, 2, 1, 2, 1, 2, 1, 1, 1, 1, 1, 1, 1, 1, 1, 1, 1, 1, 1, 1, 1, 1, 1, 1, 1, 1, 1, 1, 1, 1, 1, 1, 1, 1, 1, 1, 1, 2, 1, 1, 1, 1, 2, 3, 1, 1, 2, 1, 2, 3, 1, 1, 1, 2, 1, 1, 1, 2, 1, 1, 1, 2, 1, 2, 1, 1, 2, 1, 1, 1, 1, 1, 2, 1, 1, 1, 1, 3, 1, 1, 1, 1, 1, 2, 1, 1, 1, 1, 1, 1, 1, 1, 2, 1, 1, 1, 1, 1, 1, 1, 1, 2, 1, 1, 1, 1, 2, 3, 1, 1, 2, 1, 1, 1, 1, 1, 1, 1, 1, 1, 1, 1, 2, 1, 1, 1, 1, 1, 2, 1, 1, 1, 1, 2, 1, 1, 1, 1, 1, 2, 3, 4, 1, 1, 1, 2, 1, 2, 4, 1, 1, 1, 1, 1, 2, 3, 4, 5, 1, 1, 1, 1, 1, 1, 2, 4, 1, 1, 1, 1, 1, 1, 2, 1, 2, 1, 1, 1, 1, 2, 1, 2, 1, 1, 1, 1, 1, 1, 1, 2, 1, 1, 1, 1, 3, 2, 1, 1, 1, 2, 4, 2, 1, 1, 1, 1, 1, 1, 1, 1, 1, 1, 1, 1, 1, 3, 1, 1, 1, 1, 1, 1, 1, 1, 1, 1, 1, 1, 1, 1, 1, 2, 1, 1, 1, 2, 1, 1, 2, 1, 1, 1, 2, 4, 1, 2, 6, 1, 1, 1, 1, 1, 1, 1, 1, 2, 3, 4, 1, 3, 1, 1, 2, 1, 1, 1, 1, 1, 1, 1, 1, 1, 1, 1, 1, 1, 1, 1, 1, 1, 1, 2, 1, 2, 3, 4, 1, 1, 1, 1, 1, 1, 1, 1, 1, 1, 1, 1, 1, 1, 1, 1, 1, 1, 1, 1, 1, 2, 3, 1, 1, 1, 1, 2, 3, 1, 1, 1, 1, 2, 1, 1, 1, 1, 1, 1, 1, 2, 3, 1, 2, 3, 1, 1, 1, 1, 2, 3, 1, 1, 1, 1, 2, 1, 1, 1, 1, 1, 1, 1, 1, 1, 1, 1, 1, 1, 1, 1, 1, 1, 1, 1, 1, 2, 1, 1, 1, 1, 1, 1, 1, 1, 1, 1, 1, 1, 1, 1, 1, 1, 1, 1, 1, 1, 1, 1, 1, 1, 1, 1, 1, 1, 1, 2, 1, 1, 1, 1, 1, 1, 1, 1, 1, 1, 1, 1, 2, 1, 2, 3, 1, 2, 1, 1, 1, 1, 1, 1, 1, 1, 1, 1, 1, 1, 1, 1, 1, 1, 1, 1, 1, 1, 1, 1, 1, 1, 1, 2, 1, 1, 1, 1, 1, 1, 1, 2, 1, 1, 1, 1, 1, 1, 1, 2, 1, 1, 1, 1, 1, 1, 1, 1, 1, 1, 1, 1, 3, 1, 1, 1, 1, 1, 2, 1, 1, 1, 2, 1, 1, 1, 1, 1, 1, 1, 1, 1, 1, 1, 1, 2, 3, 1, 1, 1, 1, 1, 1, 1, 1, 1, 1, 1, 1, 2, 1, 1, 1, 2, 3, 1, 1, 1, 1, 2, 2, 3, 2, 1, 2, 1, 2, 1, 1, 2, 3, 1, 1, 1, 1, 1, 1, 1, 1, 2, 2, 1, 1, 1, 1, 3, 1, 1, 1, 2, 1, 1, 1, 1, 1, 2, 1, 2, 1, 1, 1, 1, 2, 1, 1, 2, 3, 4, 1, 1, 1, 2, 1, 1, 1, 2, 1, 1, 1, 1, 1, 1, 1, 1, 1, 1, 1, 1, 1, 1, 1, 1, 1, 1, 1, 1, 1, 1, 1, 1, 1, 1, 1, 1, 1, 1, 1, 1, 1, 1, 1, 1, 1, 1, 1, 1, 1, 1, 1, 1, 1, 1, 1, 1, 1, 1, 1, 1, 1, 1, 1, 1, 1, 1, 1, 1, 1, 1, 1, 1, 1, 1, 1, 1, 1, 1, 1, 1, 1, 1, 1, 1, 1, 1, 1, 1, 1, 1, 1, 1, 1, 1, 1, 1, 1, 1, 1, 1, 1, 1, 1, 1, 1, 1, 2, 1, 2, 1, 1, 1, 1, 1, 1, 1, 1, 1, 1, 1, 1, 1, 1, 1, 1, 1, 1, 1, 1, 1, 1, 1, 1, 1, 2, 1, 2, 1, 1, 2, 1, 1, 1, 1, 1, 1, 1, 1, 2, 1, 1, 1, 1, 1, 1, 1, 1, 1, 1, 1, 1, 1, 1, 1, 1, 1, 1, 1, 1, 1, 1, 1, 1, 1, 1, 1, 1, 1, 1, 1, 1, 1, 1, 1, 1, 1, 1, 1, 2, 1, 1, 1, 1, 1, 1, 1, 2, 1, 2, 1, 1, 1, 1, 1, 1, 1, 1, 1, 1, 1, 1, 1, 1, 1, 1, 1, 1, 1, 1, 1, 1, 1, 1, 2, 1, 1, 1, 1, 1, 1, 1, 1, 1, 1, 1, 1, 1, 1, 1, 1, 1, 1, 1, 1, 1, 1, 1, 1, 1, 1, 1, 1, 1, 1, 1, 1, 1, 1, 1, 1, 1, 1, 1, 2, 1, 1, 1, 1, 1, 1, 1, 1, 1, 1, 1, 1, 1, 1, 1, 1, 2, 1, 1, 1, 1, 1, 1, 1, 1, 1, 1, 1, 1, 1, 1, 1, 1, 1, 2, 1, 1, 1, 1, 2, 3, 1, 1, 1, 2, 1, 1, 1, 1, 1, 1, 1, 1, 1, 1, 2, 1, 1, 1, 1, 1, 2, 1, 1, 1, 1, 2, 1, 1, 1, 1, 1, 2, 1, 2, 1, 1, 1, 1, 1, 1, 1, 1, 1, 1, 1, 1, 1, 2, 1, 1, 1, 1, 2, 1, 1, 2, 2, 1, 1, 1, 1, 1, 1, 2, 1, 1, 2, 1, 1, 1, 1, 1, 1, 1, 2, 1, 1, 1, 1, 1, 1, 2, 1, 1, 1, 1, 1, 1, 1, 1, 2, 1, 1, 1, 2, 1, 1, 1, 1, 1, 2, 1, 1, 1, 1, 1, 1, 1, 1, 1, 1, 1, 1, 1, 1, 1, 1, 1, 2, 1, 2, 1, 1, 1, 1, 1, 1, 1, 1, 1, 1, 1, 1, 1, 1, 1, 1, 1, 1, 1, 1, 1, 2, 1, 1, 1, 1, 1, 1, 1, 1, 1, 1, 1, 1, 1, 1, 1, 1, 1, 1, 1, 1, 1, 1, 2, 1, 1, 1, 2, 1, 1, 1, 1, 2, 1, 1, 1, 1, 1, 1, 2, 1, 1, 2, 1, 1, 1, 1, 1, 1, 1, 1, 1, 1, 1, 1, 1, 2, 1, 2, 1, 1, 1, 1, 1, 2, 1, 1, 1, 2, 1, 1, 1, 1, 1, 1, 1, 2, 1, 1, 1, 2, 1, 1, 1, 2, 1, 1, 1, 1, 1, 1, 1, 1, 1, 1, 1, 1, 1, 1, 1, 2, 1, 1, 1, 1, 1, 1, 1, 1, 1, 1, 1, 1, 1, 1]}, {\"columnID\": \"kol_usl\", \"columnHeader\": \"kol_usl\", \"columnDtype\": \"int64\", \"columnData\": [1, 1, 1, 1, 1, 1, 1, 1, 1, 1, 1, 1, 1, 1, 1, 1, 1, 1, 1, 1, 1, 1, 1, 1, 1, 1, 1, 1, 1, 1, 1, 1, 1, 1, 1, 1, 1, 1, 1, 1, 1, 1, 1, 1, 1, 1, 1, 1, 1, 1, 1, 1, 1, 1, 1, 1, 1, 1, 1, 1, 1, 1, 1, 1, 1, 1, 1, 1, 1, 1, 1, 1, 1, 1, 1, 1, 1, 1, 1, 1, 1, 1, 1, 1, 1, 1, 1, 1, 1, 1, 1, 1, 1, 1, 1, 1, 1, 1, 1, 1, 1, 1, 1, 1, 1, 1, 1, 1, 1, 1, 1, 1, 1, 1, 1, 1, 1, 1, 1, 1, 1, 1, 1, 1, 1, 1, 1, 1, 1, 1, 1, 1, 1, 1, 1, 1, 1, 1, 1, 1, 1, 1, 1, 1, 1, 1, 1, 1, 1, 1, 1, 1, 1, 1, 1, 1, 1, 1, 1, 1, 1, 1, 1, 1, 1, 1, 1, 1, 1, 1, 1, 1, 1, 1, 1, 1, 1, 1, 1, 1, 1, 1, 1, 1, 1, 1, 1, 1, 1, 1, 1, 1, 1, 1, 1, 1, 1, 1, 1, 1, 1, 1, 1, 1, 1, 1, 1, 1, 1, 1, 1, 1, 1, 1, 1, 1, 1, 1, 1, 1, 1, 1, 1, 1, 1, 1, 1, 1, 1, 1, 1, 1, 1, 1, 1, 1, 1, 1, 1, 1, 1, 1, 1, 1, 1, 1, 1, 1, 1, 1, 1, 1, 1, 1, 1, 1, 1, 1, 1, 1, 1, 1, 1, 1, 1, 1, 1, 1, 1, 1, 1, 1, 1, 1, 1, 1, 1, 1, 1, 1, 1, 1, 1, 1, 1, 1, 1, 1, 1, 1, 1, 1, 1, 1, 1, 1, 1, 1, 1, 1, 1, 1, 1, 1, 1, 1, 1, 1, 1, 1, 1, 1, 1, 1, 1, 1, 1, 1, 1, 1, 1, 1, 1, 1, 1, 1, 1, 1, 1, 1, 1, 1, 1, 1, 1, 1, 1, 1, 1, 1, 1, 1, 1, 1, 1, 1, 1, 1, 1, 1, 1, 1, 1, 1, 1, 1, 1, 1, 1, 1, 1, 1, 1, 1, 1, 1, 1, 1, 1, 1, 1, 1, 1, 1, 1, 1, 1, 1, 1, 1, 1, 1, 1, 1, 1, 1, 1, 1, 1, 1, 1, 1, 1, 1, 1, 1, 1, 1, 1, 1, 1, 1, 1, 1, 1, 1, 1, 1, 1, 1, 1, 1, 1, 1, 1, 1, 1, 1, 1, 1, 1, 1, 1, 1, 1, 1, 1, 1, 1, 1, 1, 1, 1, 1, 1, 1, 1, 1, 1, 1, 1, 1, 1, 1, 1, 1, 1, 1, 1, 1, 1, 1, 1, 1, 1, 1, 1, 1, 1, 1, 1, 1, 1, 1, 1, 1, 1, 1, 1, 1, 1, 1, 1, 1, 1, 1, 1, 1, 1, 1, 1, 1, 1, 1, 1, 1, 1, 1, 1, 1, 1, 1, 1, 1, 1, 1, 1, 1, 1, 1, 1, 1, 1, 1, 1, 1, 1, 1, 1, 1, 1, 1, 1, 1, 1, 1, 1, 1, 1, 1, 1, 1, 1, 1, 1, 1, 1, 1, 1, 1, 1, 1, 1, 1, 1, 1, 1, 1, 1, 1, 1, 1, 1, 1, 1, 1, 1, 1, 1, 1, 1, 1, 1, 1, 1, 1, 1, 1, 1, 1, 1, 1, 1, 1, 1, 1, 1, 1, 1, 1, 1, 1, 1, 1, 1, 1, 1, 1, 1, 1, 1, 1, 1, 1, 1, 1, 1, 1, 1, 1, 1, 1, 1, 1, 1, 1, 1, 1, 1, 1, 1, 1, 1, 1, 1, 1, 1, 1, 1, 1, 1, 1, 1, 1, 1, 1, 1, 1, 1, 1, 1, 1, 1, 1, 1, 1, 1, 1, 1, 1, 1, 1, 1, 1, 1, 1, 1, 1, 1, 1, 1, 1, 1, 1, 1, 1, 1, 1, 1, 1, 1, 1, 1, 1, 1, 1, 1, 1, 1, 1, 1, 1, 1, 1, 1, 1, 1, 1, 1, 1, 1, 1, 1, 1, 1, 1, 1, 1, 1, 1, 1, 1, 1, 1, 1, 1, 1, 1, 1, 1, 1, 1, 1, 1, 1, 1, 1, 1, 1, 1, 1, 1, 1, 1, 1, 1, 1, 1, 1, 1, 1, 1, 1, 1, 1, 1, 1, 1, 1, 1, 1, 1, 1, 1, 1, 1, 1, 1, 1, 1, 1, 1, 1, 1, 1, 1, 1, 1, 1, 1, 1, 1, 1, 1, 1, 1, 1, 1, 1, 1, 1, 1, 1, 1, 1, 1, 1, 1, 1, 1, 1, 1, 1, 1, 1, 1, 1, 1, 1, 1, 1, 1, 1, 1, 1, 1, 1, 1, 1, 1, 1, 1, 1, 1, 1, 1, 1, 1, 1, 1, 1, 1, 1, 1, 1, 1, 1, 1, 1, 1, 1, 1, 1, 1, 1, 1, 1, 1, 1, 1, 1, 1, 1, 1, 1, 1, 1, 1, 1, 1, 1, 1, 1, 1, 1, 1, 1, 1, 1, 1, 1, 1, 1, 1, 1, 1, 1, 1, 1, 1, 1, 1, 1, 1, 1, 1, 1, 1, 1, 1, 1, 1, 1, 1, 1, 1, 1, 1, 1, 1, 1, 1, 1, 1, 1, 1, 1, 1, 1, 1, 1, 1, 1, 1, 1, 1, 1, 1, 1, 1, 1, 1, 1, 1, 1, 1, 1, 1, 1, 1, 1, 1, 1, 1, 1, 1, 1, 1, 1, 1, 1, 1, 1, 1, 1, 1, 1, 1, 1, 1, 1, 1, 1, 1, 1, 1, 1, 1, 1, 1, 1, 1, 1, 1, 1, 1, 1, 1, 1, 1, 1, 1, 1, 1, 1, 1, 1, 1, 1, 1, 1, 1, 1, 1, 1, 1, 1, 1, 1, 1, 1, 1, 1, 1, 1, 1, 1, 1, 1, 1, 1, 1, 1, 1, 1, 1, 1, 1, 1, 1, 1, 1, 1, 1, 1, 1, 1, 1, 1, 1, 1, 1, 1, 1, 1, 1, 1, 1, 1, 1, 1, 1, 1, 1, 1, 1, 1, 1, 1, 1, 1, 1, 1, 1, 1, 1, 1, 1, 1, 1, 1, 1, 1, 1, 1, 1, 1, 1, 1, 1, 1, 1, 1, 1, 1, 1, 1, 1, 1, 1, 1, 1, 1, 1, 1, 1, 1, 1, 1, 1, 1, 1, 1, 1, 1, 1, 1, 1, 1, 1, 1, 1, 1, 1, 1, 1, 1, 1, 1, 1, 1, 1, 1, 1, 1, 1, 1, 1, 1, 1, 1, 1, 1, 1, 1, 1, 1, 1, 1, 1, 1, 1, 1, 1, 1, 1, 1, 1, 1, 1, 1, 1, 1, 1, 1, 1, 1, 1, 1, 1, 1, 1, 1, 1, 1, 1, 1, 1, 1, 1, 1, 1, 1, 1, 1, 1, 1, 1, 1, 1, 1, 1, 1, 1, 1, 1, 1, 1, 1, 1, 1, 1, 1, 1, 1, 1, 1, 1, 1, 1, 1, 1, 1, 1, 1, 1, 1, 1, 1, 1, 1, 1, 1, 1, 1, 1, 1, 1, 1, 1, 1, 1, 1, 1, 1, 1, 1, 1, 1, 1, 1, 1, 1, 1, 1, 1, 1, 1, 1, 1, 1, 1, 1, 1, 1, 1, 1, 1, 1, 1, 1, 1, 1, 1, 1, 1, 1, 1, 1, 1, 1, 1, 1, 1, 1, 1, 1, 1, 1, 1, 1, 1, 1, 1, 1, 1, 1, 1, 1, 1, 1, 1, 1, 1, 1, 1, 1, 1, 1, 1, 1, 1, 1, 1, 1, 1, 1, 1, 1, 1, 1, 1, 1, 1, 1, 1, 1, 1, 1, 1, 1, 1, 1, 1, 1, 1, 1, 1, 1, 1, 1, 1, 1, 1, 1, 1, 1, 1, 1, 1, 1, 1, 1, 1, 1, 1, 1, 1, 1, 1, 1, 1, 1, 1, 1, 1, 1, 1, 1, 1, 1, 1, 1, 1, 1, 1, 1, 1, 1, 1, 1, 1, 1, 1, 1, 1, 1, 1, 1, 1, 1, 1, 1, 1, 1, 1, 1, 1, 1, 1, 1, 1, 1, 1, 1, 1, 1, 1, 1, 1, 1, 1, 1, 1, 1, 1, 1, 1, 1, 1, 1, 1, 1, 1, 1, 1, 1, 1, 1, 1, 1, 1, 1, 1, 1, 1, 1, 1, 1, 1, 1, 1, 1, 1, 1, 1, 1, 1, 1, 1, 1, 1, 1, 1, 1, 1, 1, 1, 1, 1, 1, 1, 1, 1, 1, 1, 1, 1, 1, 1, 1, 1, 1, 1, 1, 1, 1, 1, 1, 1, 1, 1, 1, 1, 1, 1, 1, 1, 1, 1, 1, 1, 1, 1, 1, 1, 1, 1, 1, 1, 1, 1, 1, 1, 1, 1, 1, 1, 1, 1, 1, 1, 1, 1, 1, 1, 1, 1, 1, 1, 1, 1, 1, 1, 1, 1, 1, 1, 1, 1, 1, 1, 1, 1, 1, 1, 1, 1, 1, 1, 1, 1, 1, 1, 1, 1, 1, 1, 1, 1, 1, 1, 1, 1, 1, 1, 1, 1, 1, 1, 1, 1, 1, 1, 1, 1, 1, 1, 1, 1, 1, 1, 1, 1, 1, 1, 1, 1, 1, 1]}, {\"columnID\": \"yet_sum\", \"columnHeader\": \"yet_sum\", \"columnDtype\": \"float64\", \"columnData\": [0.0, 0.0, 0.0, 0.0, 0.0, 0.0, 0.0, 0.0, 0.0, 0.0, 0.0, 0.0, 0.0, 0.0, 0.0, 0.0, 0.0, 0.0, 0.0, 0.0, 0.0, 0.0, 0.0, 0.0, 0.0, 0.0, 0.0, 0.0, 0.0, 0.0, 0.0, 0.0, 0.0, 0.0, 0.0, 0.0, 0.0, 0.0, 0.0, 0.0, 0.0, 0.0, 0.0, 0.0, 0.0, 0.0, 0.0, 0.0, 0.0, 0.0, 0.0, 0.0, 0.0, 0.0, 0.0, 0.0, 0.0, 0.0, 0.0, 0.0, 0.0, 0.0, 0.0, 0.0, 0.0, 0.0, 0.0, 0.0, 0.0, 0.0, 0.0, 0.0, 0.0, 0.0, 0.0, 0.0, 0.0, 0.0, 0.0, 0.0, 0.0, 0.0, 0.0, 0.0, 0.0, 0.0, 0.0, 0.0, 0.0, 0.0, 0.0, 0.0, 0.0, 0.0, 0.0, 0.0, 0.0, 0.0, 0.0, 0.0, 0.0, 0.0, 0.0, 0.0, 0.0, 0.0, 0.0, 0.0, 0.0, 0.0, 0.0, 0.0, 0.0, 0.0, 0.0, 0.0, 0.0, 0.0, 0.0, 0.0, 0.0, 0.0, 0.0, 0.0, 0.0, 0.0, 0.0, 0.0, 0.0, 0.0, 0.0, 0.0, 0.0, 0.0, 0.0, 0.0, 0.0, 0.0, 0.0, 0.0, 0.0, 0.0, 0.0, 0.0, 0.0, 0.0, 0.0, 0.0, 0.0, 0.0, 0.0, 0.0, 0.0, 0.0, 0.0, 0.0, 0.0, 0.0, 0.0, 0.0, 0.0, 0.0, 0.0, 0.0, 0.0, 0.0, 0.0, 0.0, 0.0, 0.0, 0.0, 0.0, 0.0, 0.0, 0.0, 0.0, 0.0, 0.0, 0.0, 0.0, 0.0, 0.0, 0.0, 0.0, 0.0, 0.0, 0.0, 0.0, 0.0, 0.0, 0.0, 0.0, 0.0, 0.0, 0.0, 0.0, 0.0, 0.0, 0.0, 0.0, 0.0, 0.0, 0.0, 0.0, 0.0, 0.0, 0.0, 0.0, 0.0, 0.0, 0.0, 0.0, 0.0, 0.0, 0.0, 0.0, 0.0, 0.0, 0.0, 0.0, 0.0, 0.0, 0.0, 0.0, 0.0, 0.0, 0.0, 0.0, 0.0, 0.0, 0.0, 0.0, 0.0, 0.0, 0.0, 0.0, 0.0, 0.0, 0.0, 0.0, 0.0, 0.0, 0.0, 0.0, 0.0, 0.0, 0.0, 0.0, 0.0, 0.0, 0.0, 0.0, 0.0, 0.0, 0.0, 0.0, 0.0, 0.0, 0.0, 0.0, 0.0, 0.0, 0.0, 0.0, 0.0, 0.0, 0.0, 0.0, 0.0, 0.0, 0.0, 0.0, 0.0, 0.0, 0.0, 0.0, 0.0, 0.0, 0.0, 0.0, 0.0, 0.0, 0.0, 0.0, 0.0, 0.0, 0.0, 0.0, 0.0, 0.0, 0.0, 0.0, 0.0, 0.0, 0.0, 0.0, 0.0, 0.0, 0.0, 0.0, 0.0, 0.0, 0.0, 0.0, 0.0, 0.0, 0.0, 0.0, 0.0, 0.0, 0.0, 0.0, 0.0, 0.0, 0.0, 0.0, 0.0, 0.0, 0.0, 0.0, 0.0, 0.0, 0.0, 0.0, 0.0, 0.0, 0.0, 0.0, 0.0, 0.0, 0.0, 0.0, 0.0, 0.0, 0.0, 0.0, 0.0, 0.0, 0.0, 0.0, 0.0, 0.0, 0.0, 0.0, 0.0, 0.0, 0.0, 0.0, 0.0, 0.0, 0.0, 0.0, 0.0, 0.0, 0.0, 0.0, 0.0, 0.0, 0.0, 0.0, 0.0, 0.0, 0.0, 0.0, 0.0, 0.0, 0.0, 0.0, 0.0, 0.0, 0.0, 0.0, 0.0, 0.0, 0.0, 0.0, 0.0, 0.0, 0.0, 0.0, 0.0, 0.0, 0.0, 0.0, 0.0, 0.0, 0.0, 0.0, 0.0, 0.0, 0.0, 0.0, 0.0, 0.0, 0.0, 0.0, 0.0, 0.0, 0.0, 0.0, 0.0, 0.0, 0.0, 0.0, 0.0, 0.0, 0.0, 0.0, 0.0, 0.0, 0.0, 0.0, 0.0, 0.0, 0.0, 0.0, 0.0, 0.0, 0.0, 0.0, 0.0, 0.0, 0.0, 0.0, 0.0, 0.0, 0.0, 0.0, 0.0, 0.0, 0.0, 0.0, 0.0, 0.0, 0.0, 0.0, 0.0, 0.0, 0.0, 0.0, 0.0, 0.0, 0.0, 0.0, 0.0, 0.0, 0.0, 0.0, 0.0, 0.0, 0.0, 0.0, 0.0, 0.0, 0.0, 0.0, 0.0, 0.0, 0.0, 0.0, 0.0, 0.0, 0.0, 0.0, 0.0, 0.0, 0.0, 0.0, 0.0, 0.0, 0.0, 0.0, 0.0, 0.0, 0.0, 0.0, 0.0, 0.0, 0.0, 0.0, 0.0, 0.0, 0.0, 0.0, 0.0, 0.0, 0.0, 0.0, 0.0, 0.0, 0.0, 0.0, 0.0, 0.0, 0.0, 0.0, 0.0, 0.0, 0.0, 0.0, 0.0, 0.0, 0.0, 0.0, 0.0, 0.0, 0.0, 0.0, 0.0, 0.0, 0.0, 0.0, 0.0, 0.0, 0.0, 0.0, 0.0, 0.0, 0.0, 0.0, 0.0, 0.0, 0.0, 0.0, 0.0, 0.0, 0.0, 0.0, 0.0, 0.0, 0.0, 0.0, 0.0, 0.0, 0.0, 0.0, 0.0, 0.0, 0.0, 0.0, 0.0, 0.0, 0.0, 0.0, 0.0, 0.0, 0.0, 0.0, 0.0, 0.0, 0.0, 0.0, 0.0, 0.0, 0.0, 0.0, 0.0, 0.0, 0.0, 0.0, 0.0, 0.0, 0.0, 0.0, 0.0, 0.0, 0.0, 0.0, 0.0, 0.0, 0.0, 0.0, 0.0, 0.0, 0.0, 0.0, 0.0, 0.0, 0.0, 0.0, 0.0, 0.0, 0.0, 0.0, 0.0, 0.0, 0.0, 0.0, 0.0, 0.0, 0.0, 0.0, 0.0, 0.0, 0.0, 0.0, 0.0, 0.0, 0.0, 0.0, 0.0, 0.0, 0.0, 0.0, 0.0, 0.0, 0.0, 0.0, 0.0, 0.0, 0.0, 0.0, 0.0, 0.0, 0.0, 0.0, 0.0, 0.0, 0.0, 0.0, 0.0, 0.0, 0.0, 0.0, 0.0, 0.0, 0.0, 0.0, 0.0, 0.0, 0.0, 0.0, 0.0, 0.0, 0.0, 0.0, 0.0, 0.0, 0.0, 0.0, 0.0, 0.0, 0.0, 0.0, 0.0, 0.0, 0.0, 0.0, 0.0, 0.0, 0.0, 0.0, 0.0, 0.0, 0.0, 0.0, 0.0, 0.0, 0.0, 0.0, 0.0, 0.0, 0.0, 0.0, 0.0, 0.0, 0.0, 0.0, 0.0, 0.0, 0.0, 0.0, 0.0, 0.0, 0.0, 0.0, 0.0, 0.0, 0.0, 0.0, 0.0, 0.0, 0.0, 0.0, 0.0, 0.0, 0.0, 0.0, 0.0, 0.0, 0.0, 0.0, 0.0, 0.0, 0.0, 0.0, 0.0, 0.0, 0.0, 0.0, 0.0, 0.0, 0.0, 0.0, 0.0, 0.0, 0.0, 0.0, 0.0, 0.0, 0.0, 0.0, 0.0, 0.0, 0.0, 0.0, 0.0, 0.0, 0.0, 0.0, 0.0, 0.0, 0.0, 0.0, 0.0, 0.0, 0.0, 0.0, 0.0, 0.0, 0.0, 0.0, 0.0, 0.0, 0.0, 0.0, 0.0, 0.0, 0.0, 0.0, 0.0, 0.0, 0.0, 0.0, 0.0, 0.0, 0.0, 0.0, 0.0, 0.0, 0.0, 0.0, 0.0, 0.0, 0.0, 0.0, 0.0, 0.0, 0.0, 0.0, 0.0, 0.0, 0.0, 0.0, 0.0, 0.0, 0.0, 0.0, 0.0, 0.0, 0.0, 0.0, 0.0, 0.0, 0.0, 0.0, 0.0, 0.0, 0.0, 0.0, 0.0, 0.0, 0.0, 0.0, 0.0, 0.0, 0.0, 0.0, 0.0, 0.0, 0.0, 0.0, 0.0, 0.0, 0.0, 0.0, 0.0, 0.0, 0.0, 0.0, 0.0, 0.0, 0.0, 0.0, 0.0, 0.0, 0.0, 0.0, 0.0, 0.0, 0.0, 0.0, 0.0, 0.0, 0.0, 0.0, 0.0, 0.0, 0.0, 0.0, 0.0, 0.0, 0.0, 0.0, 0.0, 0.0, 0.0, 0.0, 0.0, 0.0, 0.0, 0.0, 0.0, 0.0, 0.0, 0.0, 0.0, 0.0, 0.0, 0.0, 0.0, 0.0, 0.0, 0.0, 0.0, 0.0, 0.0, 0.0, 0.0, 0.0, 0.0, 0.0, 0.0, 0.0, 0.0, 0.0, 0.0, 0.0, 0.0, 0.0, 0.0, 0.0, 0.0, 0.0, 0.0, 0.0, 0.0, 0.0, 0.0, 0.0, 0.0, 0.0, 0.0, 0.0, 0.0, 0.0, 0.0, 0.0, 0.0, 0.0, 0.0, 0.0, 0.0, 0.0, 0.0, 0.0, 0.0, 0.0, 0.0, 0.0, 0.0, 0.0, 0.0, 0.0, 0.0, 0.0, 0.0, 0.0, 0.0, 0.0, 0.0, 0.0, 0.0, 0.0, 0.0, 0.0, 0.0, 0.0, 0.0, 0.0, 0.0, 0.0, 0.0, 0.0, 0.0, 0.0, 0.0, 0.0, 0.0, 0.0, 0.0, 0.0, 0.0, 0.0, 0.0, 0.0, 0.0, 0.0, 0.0, 0.0, 0.0, 0.0, 0.0, 0.0, 0.0, 0.0, 0.0, 0.0, 0.0, 0.0, 0.0, 0.0, 0.0, 0.0, 0.0, 0.0, 0.0, 0.0, 0.0, 0.0, 0.0, 0.0, 0.0, 0.0, 0.0, 0.0, 0.0, 0.0, 0.0, 0.0, 0.0, 0.0, 0.0, 0.0, 0.0, 0.0, 0.0, 0.0, 0.0, 0.0, 0.0, 0.0, 0.0, 0.0, 0.0, 0.0, 0.0, 0.0, 0.0, 0.0, 0.0, 0.0, 0.0, 0.0, 0.0, 0.0, 0.0, 0.0, 0.0, 0.0, 0.0, 0.0, 0.0, 0.0, 0.0, 0.0, 0.0, 0.0, 0.0, 0.0, 0.0, 0.0, 0.0, 0.0, 0.0, 0.0, 0.0, 0.0, 0.0, 0.0, 0.0, 0.0, 0.0, 0.0, 0.0, 0.0, 0.0, 0.0, 0.0, 0.0, 0.0, 0.0, 0.0, 0.0, 0.0, 0.0, 0.0, 0.0, 0.0, 0.0, 0.0, 0.0, 0.0, 0.0, 0.0, 0.0, 0.0, 0.0, 0.0, 0.0, 0.0, 0.0, 0.0, 0.0, 0.0, 0.0, 0.0, 0.0, 0.0, 0.0, 0.0, 0.0, 0.0, 0.0, 0.0, 0.0, 0.0, 0.0, 0.0, 0.0, 0.0, 0.0, 0.0, 0.0, 0.0, 0.0, 0.0, 0.0, 0.0, 0.0, 0.0, 0.0, 0.0, 0.0, 0.0, 0.0, 0.0, 0.0, 0.0, 0.0, 0.0, 0.0, 0.0, 0.0, 0.0, 0.0, 0.0, 0.0, 0.0, 0.0, 0.0, 0.0, 0.0, 0.0, 0.0, 0.0, 0.0, 0.0, 0.0, 0.0, 0.0, 0.0, 0.0, 0.0, 0.0, 0.0, 0.0, 0.0, 0.0, 0.0, 0.0, 0.0, 0.0, 0.0, 0.0, 0.0, 0.0, 0.0, 0.0, 0.0, 0.0, 0.0, 0.0, 0.0, 0.0, 0.0, 0.0, 0.0, 0.0, 0.0, 0.0, 0.0, 0.0, 0.0, 0.0, 0.0, 0.0, 0.0, 0.0, 0.0, 0.0, 0.0, 0.0, 0.0, 0.0, 0.0, 0.0, 0.0, 0.0, 0.0, 0.0, 0.0, 0.0, 0.0, 0.0, 0.0, 0.0, 0.0, 0.0, 0.0, 0.0, 0.0, 0.0, 0.0, 0.0, 0.0, 0.0, 0.0, 0.0, 0.0, 0.0, 0.0, 0.0, 0.0, 0.0, 0.0, 0.0, 0.0, 0.0, 0.0, 0.0, 0.0, 0.0, 0.0, 0.0, 0.0, 0.0, 0.0, 0.0, 0.0, 0.0, 0.0, 0.0, 0.0, 0.0, 0.0, 0.0, 0.0, 0.0, 0.0, 0.0, 0.0, 0.0, 0.0, 0.0, 0.0, 0.0, 0.0, 0.0, 0.0, 0.0, 0.0, 0.0, 0.0, 0.0, 0.0, 0.0, 0.0, 0.0, 0.0, 0.0, 0.0, 0.0, 0.0, 0.0, 0.0, 0.0, 0.0, 0.0, 0.0, 0.0, 0.0, 0.0, 0.0, 0.0, 0.0, 0.0, 0.0, 0.0, 0.0, 0.0, 0.0, 0.0, 0.0, 0.0, 0.0, 0.0, 0.0, 0.0, 0.0, 0.0, 0.0, 0.0, 0.0, 0.0, 0.0, 0.0, 0.0, 0.0, 0.0, 0.0, 0.0, 0.0, 0.0, 0.0, 0.0, 0.0, 0.0, 0.0, 0.0, 0.0, 0.0, 0.0, 0.0, 0.0, 0.0, 0.0, 0.0, 0.0, 0.0, 0.0, 0.0, 0.0, 0.0, 0.0, 0.0, 0.0, 0.0, 0.0, 0.0, 0.0, 0.0, 0.0, 0.0, 0.0, 0.0, 0.0, 0.0, 0.0, 0.0, 0.0, 0.0, 0.0, 0.0, 0.0, 0.0, 0.0, 0.0, 0.0, 0.0, 0.0, 0.0, 0.0, 0.0, 0.0, 0.0, 0.0, 0.0, 0.0, 0.0, 0.0, 0.0, 0.0, 0.0, 0.0, 0.0, 0.0, 0.0, 0.0, 0.0, 0.0, 0.0, 0.0, 0.0, 0.0, 0.0, 0.0, 0.0, 0.0, 0.0, 0.0, 0.0, 0.0, 0.0, 0.0, 0.0, 0.0, 0.0, 0.0, 0.0, 0.0, 0.0, 0.0, 0.0, 0.0, 0.0, 0.0, 0.0, 0.0, 0.0, 0.0, 0.0, 0.0, 0.0, 0.0, 0.0, 0.0, 0.0, 0.0, 0.0, 0.0, 0.0, 0.0, 0.0, 0.0, 0.0, 0.0, 0.0, 0.0, 0.0, 0.0, 0.0, 0.0, 0.0, 0.0, 0.0, 0.0, 0.0, 0.0, 0.0, 0.0, 0.0, 0.0, 0.0, 0.0, 0.0, 0.0, 0.0, 0.0, 0.0, 0.0, 0.0, 0.0, 0.0, 0.0, 0.0, 0.0, 0.0, 0.0, 0.0, 0.0, 0.0, 0.0, 0.0, 0.0, 0.0, 0.0, 0.0, 0.0, 0.0, 0.0, 0.0, 0.0, 0.0, 0.0, 0.0, 0.0, 0.0, 0.0, 0.0, 0.0, 0.0, 0.0, 0.0, 0.0, 0.0, 0.0, 0.0, 0.0, 0.0, 0.0, 0.0, 0.0, 0.0, 0.0, 0.0, 0.0, 0.0, 0.0, 0.0, 0.0, 0.0, 0.0, 0.0, 0.0, 0.0, 0.0, 0.0, 0.0, 0.0, 0.0, 0.0, 0.0, 0.0, 0.0, 0.0, 0.0, 0.0, 0.0, 0.0, 0.0, 0.0, 0.0, 0.0, 0.0, 0.0, 0.0, 0.0, 0.0, 0.0, 0.0, 0.0, 0.0, 0.0, 0.0, 0.0, 0.0, 0.0, 0.0, 0.0, 0.0, 0.0, 0.0, 0.0, 0.0, 0.0, 0.0, 0.0, 0.0, 0.0]}], \"columnIDsMap\": {\"year\": \"year\", \"month\": \"month\", \"region\": \"region\", \"clinic\": \"clinic\", \"oid\": \"oid\", \"depart\": \"depart\", \"branch\": \"branch\", \"doctor_specialty\": \"doctor_specialty\", \"doctor_profile\": \"doctor_profile\", \"terms\": \"terms\", \"doctor_id\": \"doctor_id\", \"diagnosis\": \"diagnosis\", \"purpose\": \"purpose\", \"service_id\": \"service_id\", \"usl_service_id\": \"usl_service_id\", \"usl_doctor_specialty\": \"usl_doctor_specialty\", \"usl_clinic\": \"usl_clinic\", \"usl_depart\": \"usl_depart\", \"sl_id\": \"sl_id\", \"code_usl\": \"code_usl\", \"kol_usl\": \"kol_usl\", \"yet_sum\": \"yet_sum\"}, \"columnSpreadsheetCodeMap\": {\"year\": \"\", \"month\": \"\", \"region\": \"\", \"clinic\": \"\", \"oid\": \"\", \"depart\": \"\", \"branch\": \"\", \"doctor_specialty\": \"\", \"doctor_profile\": \"\", \"terms\": \"\", \"doctor_id\": \"\", \"diagnosis\": \"\", \"purpose\": \"\", \"service_id\": \"\", \"usl_service_id\": \"\", \"usl_doctor_specialty\": \"\", \"usl_clinic\": \"\", \"usl_depart\": \"\", \"sl_id\": \"\", \"code_usl\": \"\", \"kol_usl\": \"\", \"yet_sum\": \"\"}, \"columnFiltersMap\": {\"year\": {\"operator\": \"And\", \"filters\": []}, \"month\": {\"operator\": \"And\", \"filters\": []}, \"region\": {\"operator\": \"And\", \"filters\": []}, \"clinic\": {\"operator\": \"And\", \"filters\": []}, \"oid\": {\"operator\": \"And\", \"filters\": []}, \"depart\": {\"operator\": \"And\", \"filters\": []}, \"branch\": {\"operator\": \"And\", \"filters\": []}, \"doctor_specialty\": {\"operator\": \"And\", \"filters\": []}, \"doctor_profile\": {\"operator\": \"And\", \"filters\": []}, \"terms\": {\"operator\": \"And\", \"filters\": []}, \"doctor_id\": {\"operator\": \"And\", \"filters\": []}, \"diagnosis\": {\"operator\": \"And\", \"filters\": []}, \"purpose\": {\"operator\": \"And\", \"filters\": []}, \"service_id\": {\"operator\": \"And\", \"filters\": []}, \"usl_service_id\": {\"operator\": \"And\", \"filters\": []}, \"usl_doctor_specialty\": {\"operator\": \"And\", \"filters\": []}, \"usl_clinic\": {\"operator\": \"And\", \"filters\": []}, \"usl_depart\": {\"operator\": \"And\", \"filters\": []}, \"sl_id\": {\"operator\": \"And\", \"filters\": []}, \"code_usl\": {\"operator\": \"And\", \"filters\": []}, \"kol_usl\": {\"operator\": \"And\", \"filters\": []}, \"yet_sum\": {\"operator\": \"And\", \"filters\": []}}, \"columnDtypeMap\": {\"year\": \"int64\", \"month\": \"int64\", \"region\": \"int64\", \"clinic\": \"int64\", \"oid\": \"object\", \"depart\": \"int64\", \"branch\": \"float64\", \"doctor_specialty\": \"int64\", \"doctor_profile\": \"int64\", \"terms\": \"int64\", \"doctor_id\": \"object\", \"diagnosis\": \"object\", \"purpose\": \"float64\", \"service_id\": \"object\", \"usl_service_id\": \"object\", \"usl_doctor_specialty\": \"int64\", \"usl_clinic\": \"int64\", \"usl_depart\": \"int64\", \"sl_id\": \"int64\", \"code_usl\": \"int64\", \"kol_usl\": \"int64\", \"yet_sum\": \"float64\"}, \"index\": [0, 1, 2, 3, 4, 5, 6, 7, 8, 9, 10, 11, 12, 13, 14, 15, 16, 17, 18, 19, 20, 21, 22, 23, 24, 25, 26, 27, 28, 29, 30, 31, 32, 33, 34, 35, 36, 37, 38, 39, 40, 41, 42, 43, 44, 45, 46, 47, 48, 49, 50, 51, 52, 53, 54, 55, 56, 57, 58, 59, 60, 61, 62, 63, 64, 65, 66, 67, 68, 69, 70, 71, 72, 73, 74, 75, 76, 77, 78, 79, 80, 81, 82, 83, 84, 85, 86, 87, 88, 89, 90, 91, 92, 93, 94, 95, 96, 97, 98, 99, 100, 101, 102, 103, 104, 105, 106, 107, 108, 109, 110, 111, 112, 113, 114, 115, 116, 117, 118, 119, 120, 121, 122, 123, 124, 125, 126, 127, 128, 129, 130, 131, 132, 133, 134, 135, 136, 137, 138, 139, 140, 141, 142, 143, 144, 145, 146, 147, 148, 149, 150, 151, 152, 153, 154, 155, 156, 157, 158, 159, 160, 161, 162, 163, 164, 165, 166, 167, 168, 169, 170, 171, 172, 173, 174, 175, 176, 177, 178, 179, 180, 181, 182, 183, 184, 185, 186, 187, 188, 189, 190, 191, 192, 193, 194, 195, 196, 197, 198, 199, 200, 201, 202, 203, 204, 205, 206, 207, 208, 209, 210, 211, 212, 213, 214, 215, 216, 217, 218, 219, 220, 221, 222, 223, 224, 225, 226, 227, 228, 229, 230, 231, 232, 233, 234, 235, 236, 237, 238, 239, 240, 241, 242, 243, 244, 245, 246, 247, 248, 249, 250, 251, 252, 253, 254, 255, 256, 257, 258, 259, 260, 261, 262, 263, 264, 265, 266, 267, 268, 269, 270, 271, 272, 273, 274, 275, 276, 277, 278, 279, 280, 281, 282, 283, 284, 285, 286, 287, 288, 289, 290, 291, 292, 293, 294, 295, 296, 297, 298, 299, 300, 301, 302, 303, 304, 305, 306, 307, 308, 309, 310, 311, 312, 313, 314, 315, 316, 317, 318, 319, 320, 321, 322, 323, 324, 325, 326, 327, 328, 329, 330, 331, 332, 333, 334, 335, 336, 337, 338, 339, 340, 341, 342, 343, 344, 345, 346, 347, 348, 349, 350, 351, 352, 353, 354, 355, 356, 357, 358, 359, 360, 361, 362, 363, 364, 365, 366, 367, 368, 369, 370, 371, 372, 373, 374, 375, 376, 377, 378, 379, 380, 381, 382, 383, 384, 385, 386, 387, 388, 389, 390, 391, 392, 393, 394, 395, 396, 397, 398, 399, 400, 401, 402, 403, 404, 405, 406, 407, 408, 409, 410, 411, 412, 413, 414, 415, 416, 417, 418, 419, 420, 421, 422, 423, 424, 425, 426, 427, 428, 429, 430, 431, 432, 433, 434, 435, 436, 437, 438, 439, 440, 441, 442, 443, 444, 445, 446, 447, 448, 449, 450, 451, 452, 453, 454, 455, 456, 457, 458, 459, 460, 461, 462, 463, 464, 465, 466, 467, 468, 469, 470, 471, 472, 473, 474, 475, 476, 477, 478, 479, 480, 481, 482, 483, 484, 485, 486, 487, 488, 489, 490, 491, 492, 493, 494, 495, 496, 497, 498, 499, 500, 501, 502, 503, 504, 505, 506, 507, 508, 509, 510, 511, 512, 513, 514, 515, 516, 517, 518, 519, 520, 521, 522, 523, 524, 525, 526, 527, 528, 529, 530, 531, 532, 533, 534, 535, 536, 537, 538, 539, 540, 541, 542, 543, 544, 545, 546, 547, 548, 549, 550, 551, 552, 553, 554, 555, 556, 557, 558, 559, 560, 561, 562, 563, 564, 565, 566, 567, 568, 569, 570, 571, 572, 573, 574, 575, 576, 577, 578, 579, 580, 581, 582, 583, 584, 585, 586, 587, 588, 589, 590, 591, 592, 593, 594, 595, 596, 597, 598, 599, 600, 601, 602, 603, 604, 605, 606, 607, 608, 609, 610, 611, 612, 613, 614, 615, 616, 617, 618, 619, 620, 621, 622, 623, 624, 625, 626, 627, 628, 629, 630, 631, 632, 633, 634, 635, 636, 637, 638, 639, 640, 641, 642, 643, 644, 645, 646, 647, 648, 649, 650, 651, 652, 653, 654, 655, 656, 657, 658, 659, 660, 661, 662, 663, 664, 665, 666, 667, 668, 669, 670, 671, 672, 673, 674, 675, 676, 677, 678, 679, 680, 681, 682, 683, 684, 685, 686, 687, 688, 689, 690, 691, 692, 693, 694, 695, 696, 697, 698, 699, 700, 701, 702, 703, 704, 705, 706, 707, 708, 709, 710, 711, 712, 713, 714, 715, 716, 717, 718, 719, 720, 721, 722, 723, 724, 725, 726, 727, 728, 729, 730, 731, 732, 733, 734, 735, 736, 737, 738, 739, 740, 741, 742, 743, 744, 745, 746, 747, 748, 749, 750, 751, 752, 753, 754, 755, 756, 757, 758, 759, 760, 761, 762, 763, 764, 765, 766, 767, 768, 769, 770, 771, 772, 773, 774, 775, 776, 777, 778, 779, 780, 781, 782, 783, 784, 785, 786, 787, 788, 789, 790, 791, 792, 793, 794, 795, 796, 797, 798, 799, 800, 801, 802, 803, 804, 805, 806, 807, 808, 809, 810, 811, 812, 813, 814, 815, 816, 817, 818, 819, 820, 821, 822, 823, 824, 825, 826, 827, 828, 829, 830, 831, 832, 833, 834, 835, 836, 837, 838, 839, 840, 841, 842, 843, 844, 845, 846, 847, 848, 849, 850, 851, 852, 853, 854, 855, 856, 857, 858, 859, 860, 861, 862, 863, 864, 865, 866, 867, 868, 869, 870, 871, 872, 873, 874, 875, 876, 877, 878, 879, 880, 881, 882, 883, 884, 885, 886, 887, 888, 889, 890, 891, 892, 893, 894, 895, 896, 897, 898, 899, 900, 901, 902, 903, 904, 905, 906, 907, 908, 909, 910, 911, 912, 913, 914, 915, 916, 917, 918, 919, 920, 921, 922, 923, 924, 925, 926, 927, 928, 929, 930, 931, 932, 933, 934, 935, 936, 937, 938, 939, 940, 941, 942, 943, 944, 945, 946, 947, 948, 949, 950, 951, 952, 953, 954, 955, 956, 957, 958, 959, 960, 961, 962, 963, 964, 965, 966, 967, 968, 969, 970, 971, 972, 973, 974, 975, 976, 977, 978, 979, 980, 981, 982, 983, 984, 985, 986, 987, 988, 989, 990, 991, 992, 993, 994, 995, 996, 997, 998, 999, 1000, 1001, 1002, 1003, 1004, 1005, 1006, 1007, 1008, 1009, 1010, 1011, 1012, 1013, 1014, 1015, 1016, 1017, 1018, 1019, 1020, 1021, 1022, 1023, 1024, 1025, 1026, 1027, 1028, 1029, 1030, 1031, 1032, 1033, 1034, 1035, 1036, 1037, 1038, 1039, 1040, 1041, 1042, 1043, 1044, 1045, 1046, 1047, 1048, 1049, 1050, 1051, 1052, 1053, 1054, 1055, 1056, 1057, 1058, 1059, 1060, 1061, 1062, 1063, 1064, 1065, 1066, 1067, 1068, 1069, 1070, 1071, 1072, 1073, 1074, 1075, 1076, 1077, 1078, 1079, 1080, 1081, 1082, 1083, 1084, 1085, 1086, 1087, 1088, 1089, 1090, 1091, 1092, 1093, 1094, 1095, 1096, 1097, 1098, 1099, 1100, 1101, 1102, 1103, 1104, 1105, 1106, 1107, 1108, 1109, 1110, 1111, 1112, 1113, 1114, 1115, 1116, 1117, 1118, 1119, 1120, 1121, 1122, 1123, 1124, 1125, 1126, 1127, 1128, 1129, 1130, 1131, 1132, 1133, 1134, 1135, 1136, 1137, 1138, 1139, 1140, 1141, 1142, 1143, 1144, 1145, 1146, 1147, 1148, 1149, 1150, 1151, 1152, 1153, 1154, 1155, 1156, 1157, 1158, 1159, 1160, 1161, 1162, 1163, 1164, 1165, 1166, 1167, 1168, 1169, 1170, 1171, 1172, 1173, 1174, 1175, 1176, 1177, 1178, 1179, 1180, 1181, 1182, 1183, 1184, 1185, 1186, 1187, 1188, 1189, 1190, 1191, 1192, 1193, 1194, 1195, 1196, 1197, 1198, 1199, 1200, 1201, 1202, 1203, 1204, 1205, 1206, 1207, 1208, 1209, 1210, 1211, 1212, 1213, 1214, 1215, 1216, 1217, 1218, 1219, 1220, 1221, 1222, 1223, 1224, 1225, 1226, 1227, 1228, 1229, 1230, 1231, 1232, 1233, 1234, 1235, 1236, 1237, 1238, 1239, 1240, 1241, 1242, 1243, 1244, 1245, 1246, 1247, 1248, 1249, 1250, 1251, 1252, 1253, 1254, 1255, 1256, 1257, 1258, 1259, 1260, 1261, 1262, 1263, 1264, 1265, 1266, 1267, 1268, 1269, 1270, 1271, 1272, 1273, 1274, 1275, 1276, 1277, 1278, 1279, 1280, 1281, 1282, 1283, 1284, 1285, 1286, 1287, 1288, 1289, 1290, 1291, 1292, 1293, 1294, 1295, 1296, 1297, 1298, 1299, 1300, 1301, 1302, 1303, 1304, 1305, 1306, 1307, 1308, 1309, 1310, 1311, 1312, 1313, 1314, 1315, 1316, 1317, 1318, 1319, 1320, 1321, 1322, 1323, 1324, 1325, 1326, 1327, 1328, 1329, 1330, 1331, 1332, 1333, 1334, 1335, 1336, 1337, 1338, 1339, 1340, 1341, 1342, 1343, 1344, 1345, 1346, 1347, 1348, 1349, 1350, 1351, 1352, 1353, 1354, 1355, 1356, 1357, 1358, 1359, 1360, 1361, 1362, 1363, 1364, 1365, 1366, 1367, 1368, 1369, 1370, 1371, 1372, 1373, 1374, 1375, 1376, 1377, 1378, 1379, 1380, 1381, 1382, 1383, 1384, 1385, 1386, 1387, 1388, 1389, 1390, 1391, 1392, 1393, 1394, 1395, 1396, 1397, 1398, 1399, 1400, 1401, 1402, 1403, 1404, 1405, 1406, 1407, 1408, 1409, 1410, 1411, 1412, 1413, 1414, 1415, 1416, 1417, 1418, 1419, 1420, 1421, 1422, 1423, 1424, 1425, 1426, 1427, 1428, 1429, 1430, 1431, 1432, 1433, 1434, 1435, 1436, 1437, 1438, 1439, 1440, 1441, 1442, 1443, 1444, 1445, 1446, 1447, 1448, 1449, 1450, 1451, 1452, 1453, 1454, 1455, 1456, 1457, 1458, 1459, 1460, 1461, 1462, 1463, 1464, 1465, 1466, 1467, 1468, 1469, 1470, 1471, 1472, 1473, 1474, 1475, 1476, 1477, 1478, 1479, 1480, 1481, 1482, 1483, 1484, 1485, 1486, 1487, 1488, 1489, 1490, 1491, 1492, 1493, 1494, 1495, 1496, 1497, 1498, 1499], \"dfFormat\": {\"columns\": {}, \"headers\": {}, \"rows\": {\"even\": {}, \"odd\": {}}, \"border\": {}, \"conditional_formats\": []}, \"conditionalFormattingResult\": {\"invalid_conditional_formats\": {}, \"results\": {}}}]",
       "user_profile_json": "{\"userEmail\": \"sk27101971@yandex.ru\", \"receivedTours\": [\"Intro\"], \"receivedChecklists\": {}, \"isPro\": false, \"telemetryEnabled\": true, \"excelImportEnabled\": true, \"isLocalDeployment\": true, \"shouldUpgradeMitosheet\": false, \"numUsages\": 7, \"mitoConfig\": {\"mec_version\": 1, \"support_email\": \"founders@sagacollab.com\"}}"
      }
     }
    },
    "version_major": 2,
    "version_minor": 0
   }
  }
 },
 "nbformat": 4,
 "nbformat_minor": 5
}
