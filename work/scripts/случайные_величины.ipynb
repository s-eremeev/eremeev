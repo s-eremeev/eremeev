{
  "cells": [
    {
      "cell_type": "markdown",
      "id": "204d7f8a-17cc-4960-8acf-211311071e94",
      "metadata": {
        "id": "204d7f8a-17cc-4960-8acf-211311071e94"
      },
      "source": [
        "# **Отчёт о выполнении домашнего задания к лекции «Случайные события. Случайные величины»**\n",
        "\n",
        "![](https://drive.google.com/uc?export=view&id=1lP1CQVkp4aotQEcAJQUUu9tH74f8aXRR)"
      ]
    },
    {
      "cell_type": "code",
      "execution_count": null,
      "id": "cb5f8443-83ea-430e-8a5f-5f78de6f7822",
      "metadata": {
        "id": "cb5f8443-83ea-430e-8a5f-5f78de6f7822",
        "outputId": "14662b87-4937-46bd-baad-a81eddbb87d7"
      },
      "outputs": [
        {
          "name": "stdout",
          "output_type": "stream",
          "text": [
            "The lab_black extension is already loaded. To reload it, use:\n",
            "  %reload_ext lab_black\n"
          ]
        }
      ],
      "source": [
        "import numpy as np\n",
        "\n",
        "%load_ext lab_black"
      ]
    },
    {
      "cell_type": "markdown",
      "id": "3e1e1a2f-588e-47b6-8931-644cb19ad200",
      "metadata": {
        "id": "3e1e1a2f-588e-47b6-8931-644cb19ad200"
      },
      "source": [
        "## Смоделировать игру против лотерейного автомата типа “777”. Игрок платит 1 руб., после чего выпадает случайное целое число, равномерно распределенное от 0 до 999. При некоторых значениях числа игрок получает выигрыш.\n",
        "\n",
        "- 777: 200 руб.\n",
        "- 999: 100 руб.\n",
        "- 555: 50 руб.\n",
        "- 333: 15 руб.\n",
        "- 111: 10 руб.\n",
        "- *77: 5 руб.\n",
        "- **7: 3 руб.\n",
        "- *00: 2 руб.\n",
        "- **0: 1 руб.     \n",
        "> (*) - любая цифра\n",
        "\n",
        "## Вопросы:\n",
        "\n",
        "1. Выгодна ли игра игроку?\n",
        "2. Сколько в среднем приобретает или теряет игрок за одну игру?\n",
        "\n",
        "## **Дополнительное задание повышенной сложности.**\n",
        "\n",
        "Теоретически рассчитать средний выигрыш (проигрыш) и сравнить с результатами моделирования\n",
        "***"
      ]
    },
    {
      "cell_type": "code",
      "execution_count": null,
      "id": "84210b50-8739-4bdb-a174-905233fcae7a",
      "metadata": {
        "id": "84210b50-8739-4bdb-a174-905233fcae7a"
      },
      "outputs": [],
      "source": [
        "def gambler(trials):\n",
        "\n",
        "    \"\"\"функция возвращает результат trials игр при стоимости каждой игры 1 рубль\"\"\"\n",
        "\n",
        "    # математическое ожидание выигрыша на 1 игру\n",
        "    mo = (\n",
        "        0.001 * (200 + 100 + 50 + 15 + 10)\n",
        "        + (9 / 1000) * 5\n",
        "        + (10 / 1000) * 2\n",
        "        + ((99 - 9) / 1000) * 3\n",
        "        + ((100 - 10) / 1000) * 1\n",
        "    )\n",
        "\n",
        "    result = 0\n",
        "    for i in range(trials):\n",
        "        random_score = np.random.randint(0, 1000)\n",
        "        if random_score == 999:\n",
        "            result += 100\n",
        "        elif random_score == 777:\n",
        "            result += 200\n",
        "        elif random_score == 555:\n",
        "            result += 50\n",
        "        elif random_score == 333:\n",
        "            result += 15\n",
        "        elif random_score == 111:\n",
        "            result += 10\n",
        "        elif random_score % 100 == 77:\n",
        "            result += 5\n",
        "        elif random_score % 10 == 7:\n",
        "            result += 3\n",
        "        elif random_score % 100 == 0:\n",
        "            result += 2\n",
        "        elif random_score % 10 == 0:\n",
        "            result += 1\n",
        "        else:\n",
        "            pass\n",
        "\n",
        "    profit = result - trials\n",
        "    if profit > 0:\n",
        "        print(\n",
        "            f\"Игра выгодна: выигрыш составит {profit} руб., средний выигрыш: {round(profit / trials, 2)} руб. за 1 игру\"\n",
        "        )\n",
        "    elif profit < 0:\n",
        "        print(\n",
        "            f\"Игра не выгодна: выигрыш составит {profit} руб., средний выигрыш: {round(profit / trials, 2)} руб. за 1 игру\"\n",
        "        )\n",
        "    else:\n",
        "        print(\"Игра с нулевым результатом.\")\n",
        "    print(f\"Расчётный средний выигрыш: -{round(1-mo, 2)} руб. за 1 игру\")"
      ]
    },
    {
      "cell_type": "code",
      "execution_count": null,
      "id": "b5137c03-00cc-4cf9-9a7a-b8fe42895697",
      "metadata": {
        "id": "b5137c03-00cc-4cf9-9a7a-b8fe42895697",
        "outputId": "991539e3-fbba-4b05-bd2f-10069024d527"
      },
      "outputs": [
        {
          "name": "stdout",
          "output_type": "stream",
          "text": [
            "Игра не выгодна: выигрыш составит -191995 руб., средний выигрыш: -0.19 руб. за 1 игру\n",
            "Расчётный средний выигрыш: -0.2 руб. за 1 игру\n"
          ]
        }
      ],
      "source": [
        "gambler(trials=1000000)"
      ]
    },
    {
      "cell_type": "code",
      "execution_count": null,
      "id": "14346c72-fb6e-457c-a2d4-e26101751aea",
      "metadata": {
        "id": "14346c72-fb6e-457c-a2d4-e26101751aea"
      },
      "outputs": [],
      "source": []
    }
  ],
  "metadata": {
    "kernelspec": {
      "display_name": "Python 3 (ipykernel)",
      "language": "python",
      "name": "python3"
    },
    "language_info": {
      "codemirror_mode": {
        "name": "ipython",
        "version": 3
      },
      "file_extension": ".py",
      "mimetype": "text/x-python",
      "name": "python",
      "nbconvert_exporter": "python",
      "pygments_lexer": "ipython3",
      "version": "3.8.13"
    },
    "colab": {
      "provenance": []
    }
  },
  "nbformat": 4,
  "nbformat_minor": 5
}