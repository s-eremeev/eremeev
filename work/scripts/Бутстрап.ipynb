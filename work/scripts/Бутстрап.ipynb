{
 "cells": [
  {
   "cell_type": "markdown",
   "metadata": {
    "id": "QnMkHjSZZEFX"
   },
   "source": [
    " # Пример использования бутстрапа"
   ]
  },
  {
   "cell_type": "markdown",
   "metadata": {
    "id": "EKKUIroEZEFc"
   },
   "source": [
    "Загрузим библиотеки"
   ]
  },
  {
   "cell_type": "code",
   "execution_count": null,
   "metadata": {
    "id": "X3Vjw63CZEFc"
   },
   "outputs": [],
   "source": [
    "import pandas as pd"
   ]
  },
  {
   "cell_type": "code",
   "execution_count": null,
   "metadata": {
    "id": "Ek2uWpnPZEFe"
   },
   "outputs": [],
   "source": [
    "import numpy as np"
   ]
  },
  {
   "cell_type": "code",
   "execution_count": null,
   "metadata": {
    "id": "NrS5xgeaZEFe"
   },
   "outputs": [],
   "source": [
    "import matplotlib.pyplot as plt"
   ]
  },
  {
   "cell_type": "markdown",
   "metadata": {
    "id": "lHsR2SebZEFf"
   },
   "source": [
    "Сформируем рандомные датасеты. Пусть есть две выборки событий конверсий (1 и 0). У одной выборки средняя конверсия 12%, а у другой - 15%. Выборки почти одного размера."
   ]
  },
  {
   "cell_type": "code",
   "execution_count": null,
   "metadata": {
    "id": "nzSqhW8iZEFf"
   },
   "outputs": [],
   "source": [
    "convert_1=0.12"
   ]
  },
  {
   "cell_type": "code",
   "execution_count": null,
   "metadata": {
    "id": "TBgaNYxTZEFg"
   },
   "outputs": [],
   "source": [
    "convert_2=0.15"
   ]
  },
  {
   "cell_type": "code",
   "execution_count": null,
   "metadata": {
    "id": "czaq2xQyZEFg"
   },
   "outputs": [],
   "source": [
    "size_old=125000"
   ]
  },
  {
   "cell_type": "code",
   "execution_count": null,
   "metadata": {
    "id": "WljvajHhZEFh"
   },
   "outputs": [],
   "source": [
    "size_new=150000"
   ]
  },
  {
   "cell_type": "code",
   "execution_count": null,
   "metadata": {
    "id": "gn2a6zkxZEFh"
   },
   "outputs": [],
   "source": [
    "new_page_converted = np.random.binomial(1, convert_1, size_new)\n",
    "old_page_converted = np.random.binomial(1, convert_2, size_old)"
   ]
  },
  {
   "cell_type": "code",
   "execution_count": null,
   "metadata": {
    "id": "B-L8IkW4ZEFi"
   },
   "outputs": [],
   "source": [
    "new_page_converted=pd.DataFrame(new_page_converted)\n",
    "old_page_converted=pd.DataFrame(old_page_converted)"
   ]
  },
  {
   "cell_type": "code",
   "execution_count": null,
   "metadata": {
    "id": "fglCswjKZEFi"
   },
   "outputs": [],
   "source": [
    "new_page_converted.columns=['target_metric']\n",
    "old_page_converted.columns=['target_metric']"
   ]
  },
  {
   "cell_type": "markdown",
   "metadata": {
    "id": "tFi7BrecZEFj"
   },
   "source": [
    "Необходимо проверить, значима ли эта разница или нет. При этом мы закладываем определенный уровень alpha"
   ]
  },
  {
   "cell_type": "code",
   "execution_count": null,
   "metadata": {
    "id": "ozz5jsYaZEFj"
   },
   "outputs": [],
   "source": [
    "alpha=0.05"
   ]
  },
  {
   "cell_type": "markdown",
   "metadata": {
    "id": "GPKebA2GZEFj"
   },
   "source": [
    "Метод бутстрапа заключается в том, что мы формируем выборки, проводя семплирование с возвратом из исходных выборок, и считаем разницу между средним этих новых выборок. А далее рассчитываем доверительные интервалы и проверяем попал ли 0 в этот доверительный интервал или нет."
   ]
  },
  {
   "cell_type": "markdown",
   "metadata": {
    "id": "6YC8ixHKZEFk"
   },
   "source": [
    "В следующем коде мы формируем эти рандомные выборки размера первоначальных выборок. Формируем мы 100 раз. Так что отмечу, что бутстрап позволяет делать выборки размера меньше, чем изначальные выборки."
   ]
  },
  {
   "cell_type": "code",
   "execution_count": null,
   "metadata": {
    "id": "Y2ruicNgZEFk"
   },
   "outputs": [],
   "source": [
    "p_diffs = []\n",
    "for i in range(100):\n",
    "    sample_new_mean = new_page_converted.sample(frac=1, replace=True)['target_metric'].mean()\n",
    "    sample_old_mean = old_page_converted.sample(frac=1, replace=True)['target_metric'].mean()\n",
    "    p_diffs.append(sample_new_mean - sample_old_mean)"
   ]
  },
  {
   "cell_type": "code",
   "execution_count": null,
   "metadata": {
    "id": "4OnnRgmDZEFk",
    "outputId": "4b83b2ae-ad3c-4452-ac6a-0e97049a0c5a"
   },
   "outputs": [
    {
     "data": {
      "text/plain": [
       "(array([ 7.,  8.,  9., 16., 17., 17., 13.,  6.,  4.,  3.]),\n",
       " array([-0.030956  , -0.03036173, -0.02976747, -0.0291732 , -0.02857893,\n",
       "        -0.02798467, -0.0273904 , -0.02679613, -0.02620187, -0.0256076 ,\n",
       "        -0.02501333]),\n",
       " <BarContainer object of 10 artists>)"
      ]
     },
     "execution_count": 192,
     "metadata": {},
     "output_type": "execute_result"
    },
    {
     "data": {
      "image/png": "[encoded data removed]",
      "text/plain": [
       "<Figure size 432x288 with 1 Axes>"
      ]
     },
     "metadata": {
      "needs_background": "light"
     },
     "output_type": "display_data"
    }
   ],
   "source": [
    "plt.hist(p_diffs)"
   ]
  },
  {
   "cell_type": "code",
   "execution_count": null,
   "metadata": {
    "id": "iyas1_nIZEFl"
   },
   "outputs": [],
   "source": [
    "p_diffs=pd.DataFrame(p_diffs)\n",
    "p_diffs.columns=['mean_of_metric']"
   ]
  },
  {
   "cell_type": "markdown",
   "metadata": {
    "id": "_tJj_-QKZEFm"
   },
   "source": [
    "**Расчет границ доверительного интервала**"
   ]
  },
  {
   "cell_type": "markdown",
   "metadata": {
    "id": "qeQh1PZ2ZEFm"
   },
   "source": [
    "Так как у нас двустор"
   ]
  },
  {
   "cell_type": "code",
   "execution_count": null,
   "metadata": {
    "id": "oitfsX8vZEFm"
   },
   "outputs": [],
   "source": [
    "A=p_diffs['mean_of_metric'].quantile(alpha/2)"
   ]
  },
  {
   "cell_type": "code",
   "execution_count": null,
   "metadata": {
    "id": "haQ3Hs4LZEFm"
   },
   "outputs": [],
   "source": [
    "B= p_diffs['mean_of_metric'].quantile(1-alpha/2)"
   ]
  },
  {
   "cell_type": "code",
   "execution_count": null,
   "metadata": {
    "id": "Gb7VkR3WZEFn",
    "outputId": "34c21fa4-ad7f-4e86-dd36-5dc0dcd068f6"
   },
   "outputs": [
    {
     "name": "stdout",
     "output_type": "stream",
     "text": [
      "Граница доверительного интервала: -0.03070366666666667 -0.02561893333333334\n"
     ]
    }
   ],
   "source": [
    "print('Граница доверительного интервала:',A,B)"
   ]
  },
  {
   "cell_type": "markdown",
   "metadata": {
    "id": "NcDwAv_RZEFn"
   },
   "source": [
    "Если 0 попадает в доверительный интервал, то разницы в средних нет. Если нет, то разница существует и мы должны принять альтернативную гипотезу."
   ]
  },
  {
   "cell_type": "markdown",
   "metadata": {
    "id": "eSkdzbROZEFn"
   },
   "source": [
    "В нашем случае 0 не попадает в доверительный интервал, а значит разница существует"
   ]
  }
 ],
 "metadata": {
  "colab": {
   "name": "Бутстрап.ipynb",
   "provenance": []
  },
  "kernelspec": {
   "display_name": "Python 3 (ipykernel)",
   "language": "python",
   "name": "python3"
  },
  "language_info": {
   "codemirror_mode": {
    "name": "ipython",
    "version": 3
   },
   "file_extension": ".py",
   "mimetype": "text/x-python",
   "name": "python",
   "nbconvert_exporter": "python",
   "pygments_lexer": "ipython3",
   "version": "3.8.13"
  }
 },
 "nbformat": 4,
 "nbformat_minor": 4
}
