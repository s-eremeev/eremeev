{
 "cells": [
  {
   "cell_type": "markdown",
   "metadata": {},
   "source": [
    "## Чат-бот новый"
   ]
  },
  {
   "cell_type": "markdown",
   "metadata": {},
   "source": [
    "![alt text](itile_pic-1.jpg)"
   ]
  },
  {
   "cell_type": "code",
   "execution_count": 1,
   "metadata": {},
   "outputs": [],
   "source": [
    "import pandas as pd\n",
    "import numpy as np\n",
    "# from datetime import date\n",
    "# import datetime\n",
    "import os\n",
    "import sys\n",
    "# from IPython.display import clear_output\n",
    "# from geopy.distance import geodesic as GD\n",
    "# import difflib\n",
    "# import openpyxl as xl\n",
    "import telebot\n",
    "from telebot import types"
   ]
  },
  {
   "cell_type": "code",
   "execution_count": 7,
   "metadata": {},
   "outputs": [
    {
     "data": {
      "text/plain": [
       "'c:/work/pkz_bot/data/'"
      ]
     },
     "execution_count": 7,
     "metadata": {},
     "output_type": "execute_result"
    }
   ],
   "source": [
    "# пути\n",
    "dir_path = os.getcwd().replace(\"\\\\\", \"/\")+\"/\"\n",
    "db_path = dir_path+\"db.sqlite\"\n",
    "data_path = dir_path+\"data/\"\n",
    "data_path"
   ]
  },
  {
   "cell_type": "code",
   "execution_count": 28,
   "metadata": {},
   "outputs": [
    {
     "name": "stdout",
     "output_type": "stream",
     "text": [
      "В целом по РФ\n",
      "В разрезе субъектов РФ\n",
      "В разрезе субъектов РФ\n"
     ]
    }
   ],
   "source": [
    "bot = telebot.TeleBot('7391660043:AAHcyL_Ktum99zjUPruQ3_QD6XzEBJ2sQHk')\n",
    "\n",
    "@bot.message_handler(commands=[\"start\"])\n",
    "def begin(message):\n",
    "    global answers\n",
    "    answers = []\n",
    "    markup=types.ReplyKeyboardMarkup(resize_keyboard=True)\n",
    "    item1=types.KeyboardButton(\"В целом по РФ\")\n",
    "    item2=types.KeyboardButton(\"В разрезе субъектов РФ\")\n",
    "    markup.add(item1)\n",
    "    markup.add(item2)\n",
    "    # answers.append(message.text)\n",
    "    # bot.send_message(message.chat.id, text=\"{0.first_name}, какую информацию хочешь получить?\".format(message.from_user),  reply_markup=markup)\n",
    "    send = bot.send_message(message.chat.id, text=\"{0.first_name}, какую информацию хочешь получить?\".format(message.from_user),  reply_markup=markup)\n",
    "    bot.register_next_step_handler(send, tlk)\n",
    "    \n",
    "# @bot.message_handler(content_types=[\"text\"])\n",
    "def tlk(message):\n",
    "    answers.append(message.text)\n",
    "    if (message.text == \"В целом по РФ\"):\n",
    "        print(message.text)\n",
    "        markup=types.ReplyKeyboardMarkup(resize_keyboard=True)\n",
    "        item1=types.KeyboardButton(\"Общая ПКЗ\")\n",
    "        item2=types.KeyboardButton(\"ТОП-10 субъектов\")\n",
    "        markup.add(item1)\n",
    "        markup.add(item2)\n",
    "    elif (message.text == \"В разрезе субъектов РФ\"):\n",
    "        print(message.text)\n",
    "        markup=types.ReplyKeyboardMarkup(resize_keyboard=True)\n",
    "        item1=types.KeyboardButton(\"Общая ПКЗ\")\n",
    "        item2=types.KeyboardButton(\"ТОП-10 субъектов\")\n",
    "        markup.add(item1)\n",
    "        markup.add(item2)\n",
    "\n",
    "# def q_2(message):\n",
    "#     markup = types.ReplyKeyboardMarkup(resize_keyboard=True)\n",
    "#     btn1 = types.KeyboardButton(\"В целом по РФ\")\n",
    "#     btn2 = types.KeyboardButton(\"В разрезе субъектов РФ\")\n",
    "#     markup.add(btn1, btn2)\n",
    "#     first_answer = message.text\n",
    "#     answers.append(first_answer)\n",
    "\n",
    "#     send = bot.send_message(message.chat.id, 'Выбери разрез по показателю')\n",
    "#     # bot.register_next_step_handler(send, three_q)\n",
    "\n",
    "# def q_3(message):\n",
    "#     send = bot.send_message(message.chat.id, 'Напиши название субъекта')\n",
    "\n",
    "# Запускаем бота\n",
    "bot.polling(none_stop=True, interval=0)"
   ]
  },
  {
   "cell_type": "code",
   "execution_count": 25,
   "metadata": {},
   "outputs": [
    {
     "data": {
      "text/plain": [
       "['В разрезе субъектов РФ']"
      ]
     },
     "execution_count": 25,
     "metadata": {},
     "output_type": "execute_result"
    }
   ],
   "source": [
    "answers"
   ]
  },
  {
   "cell_type": "code",
   "execution_count": null,
   "metadata": {},
   "outputs": [],
   "source": [
    "bot = telebot.TeleBot('7213028141:AAGztt3IBI8wDipz_gmXmbNhVagpnDqfwzU')\n",
    "# Команда start\n",
    "# @bot.message_handler(commands=[\"start\"])\n",
    "# def start(m, res=False):\n",
    "#         # Добавляем nhb кнопки\n",
    "#         markup=types.ReplyKeyboardMarkup(resize_keyboard=True)\n",
    "#         item1=types.KeyboardButton(\"Пустой бланк\")\n",
    "#         item2=types.KeyboardButton(\"Красивая картинка\")\n",
    "#         item3=types.KeyboardButton(\"Резюме\")\n",
    "#         markup.add(item1)\n",
    "#         markup.add(item2)\n",
    "#         markup.add(item3)\n",
    "#         bot.send_message(m.chat.id, 'Нажми: \\nПустой бланк для получения пустого бланка\\nКрасивая картинка для получения бланка с информацией\\nРезюме для получения резюме',  reply_markup=markup)\n",
    "reg_dict = {\"1\": \"Астраханская область\",\n",
    "            \"2\": \"Белгородская область\",\n",
    "            \"3\": \"Брянская область\",\n",
    "            \"4\": \"Владимирская область\",\n",
    "            \"5\": \"Волгоградская область\",\n",
    "            \"6\": \"Вологодская область\",\n",
    "            \"7\": \"Воронежская область\"}\n",
    "@bot.message_handler(commands=[\"1\", \"2\", \"3\", \"4\", \"5\", \"6\", \"7\"])\n",
    "def start(m, res=False):\n",
    "        region_number = m.text.strip().replace('/', '')\n",
    "        print(region_number)\n",
    "        # Добавляем 3 кнопки\n",
    "        markup=types.ReplyKeyboardMarkup(resize_keyboard=True)\n",
    "        item1=types.KeyboardButton(\"Пустой бланк\")\n",
    "        item2=types.KeyboardButton(\"Красивая картинка\")\n",
    "        item3=types.KeyboardButton(\"Резюме\")\n",
    "        markup.add(item1)\n",
    "        markup.add(item2)\n",
    "        markup.add(item3)\n",
    "        bot.send_message(m.chat.id, reg_dict[region_number],  reply_markup=markup)\n",
    "\n",
    "# Получение сообщений от юзера\n",
    "@bot.message_handler(content_types=[\"text\"])\n",
    "def handle_text(message):\n",
    "        if message.text.strip() == 'Пустой бланк' :\n",
    "                answer = open('C:/work/new_bot/bot1py/img/test_img.png', 'rb')\n",
    "        elif message.text.strip() == 'Красивая картинка':\n",
    "                answer = open('C:/work/new_bot/bot1py/img/result_img.png', 'rb')\n",
    "        elif message.text.strip() == 'Резюме':\n",
    "                answer = open('C:/work/new_bot/bot1py/img/r_img.png', 'rb')\n",
    "        elif message.text.strip() == 'Алтайский край':\n",
    "                answer = open('C:/work/new_bot/bot1py/img/test_img_0.png', 'rb')\n",
    "    # Отсылаем юзеру сообщение в его чат\n",
    "        bot.send_photo(message.chat.id, answer)\n",
    "# Запускаем бота\n",
    "bot.polling(none_stop=True, interval=0)"
   ]
  },
  {
   "cell_type": "code",
   "execution_count": 29,
   "metadata": {},
   "outputs": [
    {
     "name": "stdout",
     "output_type": "stream",
     "text": [
      "ПКЗ\n",
      "Доходит\n"
     ]
    },
    {
     "ename": "NameError",
     "evalue": "name 'm' is not defined",
     "output_type": "error",
     "traceback": [
      "\u001b[1;31m---------------------------------------------------------------------------\u001b[0m",
      "\u001b[1;31mNameError\u001b[0m                                 Traceback (most recent call last)",
      "Cell \u001b[1;32mIn[29], line 29\u001b[0m\n\u001b[0;32m     26\u001b[0m         bot\u001b[38;5;241m.\u001b[39msend_message(m\u001b[38;5;241m.\u001b[39mchat\u001b[38;5;241m.\u001b[39mid, \u001b[38;5;124m'\u001b[39m\u001b[38;5;124mВыбери разрез показателя\u001b[39m\u001b[38;5;124m'\u001b[39m,  reply_markup\u001b[38;5;241m=\u001b[39mmarkup)\n\u001b[0;32m     28\u001b[0m \u001b[38;5;66;03m# Запускаем бота\u001b[39;00m\n\u001b[1;32m---> 29\u001b[0m \u001b[43mbot\u001b[49m\u001b[38;5;241;43m.\u001b[39;49m\u001b[43mpolling\u001b[49m\u001b[43m(\u001b[49m\u001b[43mnone_stop\u001b[49m\u001b[38;5;241;43m=\u001b[39;49m\u001b[38;5;28;43;01mTrue\u001b[39;49;00m\u001b[43m,\u001b[49m\u001b[43m \u001b[49m\u001b[43minterval\u001b[49m\u001b[38;5;241;43m=\u001b[39;49m\u001b[38;5;241;43m0\u001b[39;49m\u001b[43m)\u001b[49m\n",
      "File \u001b[1;32m~\\AppData\\Local\\Packages\\PythonSoftwareFoundation.Python.3.11_qbz5n2kfra8p0\\LocalCache\\local-packages\\Python311\\site-packages\\telebot\\__init__.py:1043\u001b[0m, in \u001b[0;36mTeleBot.polling\u001b[1;34m(self, non_stop, skip_pending, interval, timeout, long_polling_timeout, logger_level, allowed_updates, none_stop, restart_on_change, path_to_watch)\u001b[0m\n\u001b[0;32m   1040\u001b[0m logger\u001b[38;5;241m.\u001b[39minfo(\u001b[38;5;124m'\u001b[39m\u001b[38;5;124mStarting your bot with username: [@\u001b[39m\u001b[38;5;132;01m%s\u001b[39;00m\u001b[38;5;124m]\u001b[39m\u001b[38;5;124m'\u001b[39m, \u001b[38;5;28mself\u001b[39m\u001b[38;5;241m.\u001b[39muser\u001b[38;5;241m.\u001b[39musername)\n\u001b[0;32m   1042\u001b[0m \u001b[38;5;28;01mif\u001b[39;00m \u001b[38;5;28mself\u001b[39m\u001b[38;5;241m.\u001b[39mthreaded:\n\u001b[1;32m-> 1043\u001b[0m     \u001b[38;5;28;43mself\u001b[39;49m\u001b[38;5;241;43m.\u001b[39;49m\u001b[43m__threaded_polling\u001b[49m\u001b[43m(\u001b[49m\u001b[43mnon_stop\u001b[49m\u001b[38;5;241;43m=\u001b[39;49m\u001b[43mnon_stop\u001b[49m\u001b[43m,\u001b[49m\u001b[43m \u001b[49m\u001b[43minterval\u001b[49m\u001b[38;5;241;43m=\u001b[39;49m\u001b[43minterval\u001b[49m\u001b[43m,\u001b[49m\u001b[43m \u001b[49m\u001b[43mtimeout\u001b[49m\u001b[38;5;241;43m=\u001b[39;49m\u001b[43mtimeout\u001b[49m\u001b[43m,\u001b[49m\u001b[43m \u001b[49m\u001b[43mlong_polling_timeout\u001b[49m\u001b[38;5;241;43m=\u001b[39;49m\u001b[43mlong_polling_timeout\u001b[49m\u001b[43m,\u001b[49m\n\u001b[0;32m   1044\u001b[0m \u001b[43m                            \u001b[49m\u001b[43mlogger_level\u001b[49m\u001b[38;5;241;43m=\u001b[39;49m\u001b[43mlogger_level\u001b[49m\u001b[43m,\u001b[49m\u001b[43m \u001b[49m\u001b[43mallowed_updates\u001b[49m\u001b[38;5;241;43m=\u001b[39;49m\u001b[43mallowed_updates\u001b[49m\u001b[43m)\u001b[49m\n\u001b[0;32m   1045\u001b[0m \u001b[38;5;28;01melse\u001b[39;00m:\n\u001b[0;32m   1046\u001b[0m     \u001b[38;5;28mself\u001b[39m\u001b[38;5;241m.\u001b[39m__non_threaded_polling(non_stop\u001b[38;5;241m=\u001b[39mnon_stop, interval\u001b[38;5;241m=\u001b[39minterval, timeout\u001b[38;5;241m=\u001b[39mtimeout, long_polling_timeout\u001b[38;5;241m=\u001b[39mlong_polling_timeout,\n\u001b[0;32m   1047\u001b[0m                                 logger_level\u001b[38;5;241m=\u001b[39mlogger_level, allowed_updates\u001b[38;5;241m=\u001b[39mallowed_updates)\n",
      "File \u001b[1;32m~\\AppData\\Local\\Packages\\PythonSoftwareFoundation.Python.3.11_qbz5n2kfra8p0\\LocalCache\\local-packages\\Python311\\site-packages\\telebot\\__init__.py:1118\u001b[0m, in \u001b[0;36mTeleBot.__threaded_polling\u001b[1;34m(self, non_stop, interval, timeout, long_polling_timeout, logger_level, allowed_updates)\u001b[0m\n\u001b[0;32m   1116\u001b[0m     polling_thread\u001b[38;5;241m.\u001b[39mclear_exceptions()   \u001b[38;5;66;03m#*\u001b[39;00m\n\u001b[0;32m   1117\u001b[0m     \u001b[38;5;28mself\u001b[39m\u001b[38;5;241m.\u001b[39mworker_pool\u001b[38;5;241m.\u001b[39mclear_exceptions() \u001b[38;5;66;03m#*\u001b[39;00m\n\u001b[1;32m-> 1118\u001b[0m     \u001b[38;5;28;01mraise\u001b[39;00m e\n\u001b[0;32m   1119\u001b[0m \u001b[38;5;28;01melse\u001b[39;00m:\n\u001b[0;32m   1120\u001b[0m     polling_thread\u001b[38;5;241m.\u001b[39mclear_exceptions()\n",
      "File \u001b[1;32m~\\AppData\\Local\\Packages\\PythonSoftwareFoundation.Python.3.11_qbz5n2kfra8p0\\LocalCache\\local-packages\\Python311\\site-packages\\telebot\\__init__.py:1074\u001b[0m, in \u001b[0;36mTeleBot.__threaded_polling\u001b[1;34m(self, non_stop, interval, timeout, long_polling_timeout, logger_level, allowed_updates)\u001b[0m\n\u001b[0;32m   1072\u001b[0m     or_event\u001b[38;5;241m.\u001b[39mwait()  \u001b[38;5;66;03m# wait for polling thread finish, polling thread error or thread pool error\u001b[39;00m\n\u001b[0;32m   1073\u001b[0m     polling_thread\u001b[38;5;241m.\u001b[39mraise_exceptions()\n\u001b[1;32m-> 1074\u001b[0m     \u001b[38;5;28;43mself\u001b[39;49m\u001b[38;5;241;43m.\u001b[39;49m\u001b[43mworker_pool\u001b[49m\u001b[38;5;241;43m.\u001b[39;49m\u001b[43mraise_exceptions\u001b[49m\u001b[43m(\u001b[49m\u001b[43m)\u001b[49m\n\u001b[0;32m   1075\u001b[0m     error_interval \u001b[38;5;241m=\u001b[39m \u001b[38;5;241m0.25\u001b[39m\n\u001b[0;32m   1076\u001b[0m \u001b[38;5;28;01mexcept\u001b[39;00m apihelper\u001b[38;5;241m.\u001b[39mApiException \u001b[38;5;28;01mas\u001b[39;00m e:\n",
      "File \u001b[1;32m~\\AppData\\Local\\Packages\\PythonSoftwareFoundation.Python.3.11_qbz5n2kfra8p0\\LocalCache\\local-packages\\Python311\\site-packages\\telebot\\util.py:147\u001b[0m, in \u001b[0;36mThreadPool.raise_exceptions\u001b[1;34m(self)\u001b[0m\n\u001b[0;32m    145\u001b[0m \u001b[38;5;28;01mdef\u001b[39;00m \u001b[38;5;21mraise_exceptions\u001b[39m(\u001b[38;5;28mself\u001b[39m):\n\u001b[0;32m    146\u001b[0m     \u001b[38;5;28;01mif\u001b[39;00m \u001b[38;5;28mself\u001b[39m\u001b[38;5;241m.\u001b[39mexception_event\u001b[38;5;241m.\u001b[39mis_set():\n\u001b[1;32m--> 147\u001b[0m         \u001b[38;5;28;01mraise\u001b[39;00m \u001b[38;5;28mself\u001b[39m\u001b[38;5;241m.\u001b[39mexception_info\n",
      "File \u001b[1;32m~\\AppData\\Local\\Packages\\PythonSoftwareFoundation.Python.3.11_qbz5n2kfra8p0\\LocalCache\\local-packages\\Python311\\site-packages\\telebot\\util.py:90\u001b[0m, in \u001b[0;36mWorkerThread.run\u001b[1;34m(self)\u001b[0m\n\u001b[0;32m     87\u001b[0m logger\u001b[38;5;241m.\u001b[39mdebug(\u001b[38;5;124m\"\u001b[39m\u001b[38;5;124mReceived task\u001b[39m\u001b[38;5;124m\"\u001b[39m)\n\u001b[0;32m     88\u001b[0m \u001b[38;5;28mself\u001b[39m\u001b[38;5;241m.\u001b[39mreceived_task_event\u001b[38;5;241m.\u001b[39mset()\n\u001b[1;32m---> 90\u001b[0m \u001b[43mtask\u001b[49m\u001b[43m(\u001b[49m\u001b[38;5;241;43m*\u001b[39;49m\u001b[43margs\u001b[49m\u001b[43m,\u001b[49m\u001b[43m \u001b[49m\u001b[38;5;241;43m*\u001b[39;49m\u001b[38;5;241;43m*\u001b[39;49m\u001b[43mkwargs\u001b[49m\u001b[43m)\u001b[49m\n\u001b[0;32m     91\u001b[0m logger\u001b[38;5;241m.\u001b[39mdebug(\u001b[38;5;124m\"\u001b[39m\u001b[38;5;124mTask complete\u001b[39m\u001b[38;5;124m\"\u001b[39m)\n\u001b[0;32m     92\u001b[0m \u001b[38;5;28mself\u001b[39m\u001b[38;5;241m.\u001b[39mdone_event\u001b[38;5;241m.\u001b[39mset()\n",
      "File \u001b[1;32m~\\AppData\\Local\\Packages\\PythonSoftwareFoundation.Python.3.11_qbz5n2kfra8p0\\LocalCache\\local-packages\\Python311\\site-packages\\telebot\\__init__.py:6801\u001b[0m, in \u001b[0;36mTeleBot._run_middlewares_and_handler\u001b[1;34m(self, message, handlers, middlewares, update_type)\u001b[0m\n\u001b[0;32m   6799\u001b[0m     result \u001b[38;5;241m=\u001b[39m handler[\u001b[38;5;124m'\u001b[39m\u001b[38;5;124mfunction\u001b[39m\u001b[38;5;124m'\u001b[39m](message, bot\u001b[38;5;241m=\u001b[39m\u001b[38;5;28mself\u001b[39m)\n\u001b[0;32m   6800\u001b[0m \u001b[38;5;28;01melse\u001b[39;00m:\n\u001b[1;32m-> 6801\u001b[0m     result \u001b[38;5;241m=\u001b[39m \u001b[43mhandler\u001b[49m\u001b[43m[\u001b[49m\u001b[38;5;124;43m'\u001b[39;49m\u001b[38;5;124;43mfunction\u001b[39;49m\u001b[38;5;124;43m'\u001b[39;49m\u001b[43m]\u001b[49m\u001b[43m(\u001b[49m\u001b[43mmessage\u001b[49m\u001b[43m)\u001b[49m\n\u001b[0;32m   6802\u001b[0m \u001b[38;5;28;01mif\u001b[39;00m \u001b[38;5;129;01mnot\u001b[39;00m \u001b[38;5;28misinstance\u001b[39m(result, ContinueHandling):\n\u001b[0;32m   6803\u001b[0m     \u001b[38;5;28;01mbreak\u001b[39;00m\n",
      "Cell \u001b[1;32mIn[29], line 26\u001b[0m, in \u001b[0;36mhandle_text\u001b[1;34m(message)\u001b[0m\n\u001b[0;32m     24\u001b[0m markup\u001b[38;5;241m.\u001b[39madd(item1)\n\u001b[0;32m     25\u001b[0m markup\u001b[38;5;241m.\u001b[39madd(item2)\n\u001b[1;32m---> 26\u001b[0m bot\u001b[38;5;241m.\u001b[39msend_message(\u001b[43mm\u001b[49m\u001b[38;5;241m.\u001b[39mchat\u001b[38;5;241m.\u001b[39mid, \u001b[38;5;124m'\u001b[39m\u001b[38;5;124mВыбери разрез показателя\u001b[39m\u001b[38;5;124m'\u001b[39m,  reply_markup\u001b[38;5;241m=\u001b[39mmarkup)\n",
      "\u001b[1;31mNameError\u001b[0m: name 'm' is not defined"
     ]
    }
   ],
   "source": [
    "bot = telebot.TeleBot('7213028141:AAGztt3IBI8wDipz_gmXmbNhVagpnDqfwzU')\n",
    "# Команда start\n",
    "@bot.message_handler(commands=[\"start\"])\n",
    "def start(m, res=False):\n",
    "    # Добавляем кнопки\n",
    "    markup=types.ReplyKeyboardMarkup(resize_keyboard=True)\n",
    "    item1=types.KeyboardButton(\"ПКЗ\")\n",
    "    item2=types.KeyboardButton(\"Ничего\")\n",
    "    markup.add(item1)\n",
    "    markup.add(item2)\n",
    "    bot.send_message(m.chat.id, 'Выбери показатель, по котрому хочешь узнать информацию',  reply_markup=markup)\n",
    "\n",
    "# Получение сообщений от юзера\n",
    "@bot.message_handler(content_types=[\"text\"])\n",
    "def handle_text(message):\n",
    "    print(message.text.strip())\n",
    "    bot.send_message(message.chat.id, \"Умничка!\")\n",
    "    if message.text.strip() == \"ПКЗ\":\n",
    "        print(\"Доходит\")\n",
    "        def step_1(m, res=False):\n",
    "            # Добавляем кнопки\n",
    "            markup=types.ReplyKeyboardMarkup(resize_keyboard=True)\n",
    "            item1=types.KeyboardButton(\"В целом по Российской Федерации\")\n",
    "            item2=types.KeyboardButton(\"По субъектам Российской Федерации\")\n",
    "            markup.add(item1)\n",
    "            markup.add(item2)\n",
    "            bot.send_message(m.chat.id, 'Выбери разрез показателя',  reply_markup=markup)\n",
    "\n",
    "# Запускаем бота\n",
    "bot.polling(none_stop=True, interval=0)"
   ]
  },
  {
   "cell_type": "code",
   "execution_count": 1,
   "metadata": {},
   "outputs": [
    {
     "name": "stdout",
     "output_type": "stream",
     "text": [
      "['Получить информацию']\n",
      "['ПКЗ в разрезе субъектов']\n",
      "['Получить информацию']\n",
      "['ПКЗ в целом по РФ']\n"
     ]
    },
    {
     "ename": "",
     "evalue": "",
     "output_type": "error",
     "traceback": [
      "\u001b[1;31mПри выполнении кода в текущей ячейке или предыдущей ячейке ядро аварийно завершило работу. \n",
      "\u001b[1;31mПроверьте код в ячейках, чтобы определить возможную причину сбоя. \n",
      "\u001b[1;31mЩелкните <a href='https://aka.ms/vscodeJupyterKernelCrash'>здесь</a>, чтобы получить дополнительные сведения. \n",
      "\u001b[1;31mПодробнее см. в <a href='command:jupyter.viewOutput'>журнале Jupyter</a>."
     ]
    }
   ],
   "source": [
    "import telebot\n",
    "from telebot import types # для указание типов\n",
    "# import config\n",
    "\n",
    "bot = telebot.TeleBot('7391660043:AAHcyL_Ktum99zjUPruQ3_QD6XzEBJ2sQHk')\n",
    "\n",
    "@bot.message_handler(commands=['start'])\n",
    "def start(message):\n",
    "    global answers\n",
    "    answers = []\n",
    "    markup = types.ReplyKeyboardMarkup(resize_keyboard=True)\n",
    "    btn1 = types.KeyboardButton(\"Получить информацию\")\n",
    "    btn2 = types.KeyboardButton(\"Ничего не хочу\")\n",
    "    markup.add(btn1, btn2)\n",
    "    answer_0 = message.text\n",
    "    answers.append(answer_0)\n",
    "    bot.send_message(message.chat.id, text=\"Привет, {0.first_name}! Чо те надо?\".format(message.from_user), reply_markup=markup)\n",
    "    \n",
    "@bot.message_handler(content_types=['text'])\n",
    "def func(message):\n",
    "    # global answers\n",
    "    answers = []\n",
    "    if(message.text == \"Ничего не хочу\"):\n",
    "        bot.send_message(message.chat.id, text=\"Ну, давай до свиданья\")\n",
    "\n",
    "    elif(message.text == \"Получить информацию\"):\n",
    "        markup = types.ReplyKeyboardMarkup(resize_keyboard=True)\n",
    "        btn1 = types.KeyboardButton(\"ПКЗ в целом по РФ\")\n",
    "        btn2 = types.KeyboardButton(\"ПКЗ в разрезе субъектов\")\n",
    "        markup.add(btn1, btn2)\n",
    "        answer_1 = message.text\n",
    "        answers.append(answer_1)\n",
    "        print(answers)\n",
    "        bot.send_message(message.chat.id, text=\"Что интересует?\", reply_markup=markup)\n",
    "    \n",
    "    elif(message.text == \"ПКЗ в целом по РФ\"):\n",
    "        answer_2 = message.text\n",
    "        answers.append(answer_2)\n",
    "        print(answers)\n",
    "        bot.send_message(message.chat.id, \"В разработке\")\n",
    "    \n",
    "    elif(message.text == \"ПКЗ в разрезе субъектов\"):\n",
    "        answer_3 = message.text\n",
    "        answers.append(answer_3)\n",
    "        print(answers)\n",
    "        bot.send_message(message.chat.id, text=\"Напиши название субъекта\")\n",
    "        \n",
    "    \n",
    "    # elif (message.text == \"Вернуться в главное меню\"):\n",
    "    #     markup = types.ReplyKeyboardMarkup(resize_keyboard=True)\n",
    "    #     button1 = types.KeyboardButton(\"👋 Поздороваться\")\n",
    "    #     button2 = types.KeyboardButton(\"❓ Задать вопрос\")\n",
    "    #     markup.add(button1, button2)\n",
    "    #     bot.send_message(message.chat.id, text=\"Вы вернулись в главное меню\", reply_markup=markup)\n",
    "    else:\n",
    "        bot.send_message(message.chat.id, text=\"Ну, чего ты начинаешь, нормально же общались...\")\n",
    "\n",
    "bot.polling(none_stop=True)"
   ]
  },
  {
   "cell_type": "code",
   "execution_count": 31,
   "metadata": {},
   "outputs": [],
   "source": [
    "import telebot\n",
    "from telebot import types # для указание типов\n",
    "\n",
    "bot = telebot.TeleBot('7391660043:AAHcyL_Ktum99zjUPruQ3_QD6XzEBJ2sQHk')\n",
    "\n",
    "@bot.message_handler(commands=['start'])\n",
    "def first_q(message):\n",
    "    global answers\n",
    "    answers = []\n",
    "    _first_answer = message.text\n",
    "    markup = types.ReplyKeyboardMarkup(resize_keyboard=True)\n",
    "    btn1 = types.KeyboardButton(\"ПКЗ\")\n",
    "    btn2 = types.KeyboardButton(\"Ничего\")\n",
    "    markup.add(btn1, btn2)\n",
    "    answers.append(_first_answer)\n",
    "    send = bot.send_message(message.chat.id, text=\"Привет, {0.first_name}! По какому вопросу хочешь получить информацию?\".format(message.from_user), reply_markup=markup)\n",
    "    bot.register_next_step_handler(send, two_q)\n",
    "\n",
    "def two_q(message):\n",
    "    # global answers\n",
    "    # answers = []\n",
    "    markup = types.ReplyKeyboardMarkup(resize_keyboard=True)\n",
    "    btn1 = types.KeyboardButton(\"В целом по РФ\")\n",
    "    btn2 = types.KeyboardButton(\"В разрезе субъектов РФ\")\n",
    "    markup.add(btn1, btn2)\n",
    "    first_answer = message.text\n",
    "    answers.append(first_answer)\n",
    "\n",
    "    send = bot.send_message(message.chat.id, 'Выбери разрез по показателю')\n",
    "    bot.register_next_step_handler(send, three_q)\n",
    "\n",
    "\n",
    "def three_q(message):\n",
    "    two_answer = message.text\n",
    "    answers.append(two_answer)\n",
    "\n",
    "    send = bot.send_message(message.chat.id, 'третий вопрос')\n",
    "    bot.register_next_step_handler(send, four_q)\n",
    "\n",
    "\n",
    "def four_q(message):\n",
    "    three_answer = message.text\n",
    "    answers.append(three_answer)\n",
    "\n",
    "    send = bot.send_message(message.chat.id, 'четвёртый вопрос')\n",
    "    bot.register_next_step_handler(send, end)\n",
    "\n",
    "\n",
    "def end(message):\n",
    "    four_answer = message.text\n",
    "    answers.append(four_answer)\n",
    "\n",
    "    bot.send_message(message.chat.id, '{}'.format(''.join(answers)))\n",
    "\n",
    "bot.polling(none_stop=True)"
   ]
  },
  {
   "cell_type": "code",
   "execution_count": 30,
   "metadata": {},
   "outputs": [
    {
     "data": {
      "text/plain": [
       "['/start', 'ПКЗ', 'ПКЗ', 'Ничего', 'ПКЗ']"
      ]
     },
     "execution_count": 30,
     "metadata": {},
     "output_type": "execute_result"
    }
   ],
   "source": [
    "answers"
   ]
  },
  {
   "cell_type": "code",
   "execution_count": 33,
   "metadata": {},
   "outputs": [],
   "source": [
    "import telebot\n",
    "from telebot import types # для указание типов\n",
    "# import config\n",
    "\n",
    "bot = telebot.TeleBot('7391660043:AAHcyL_Ktum99zjUPruQ3_QD6XzEBJ2sQHk')\n",
    "\n",
    "@bot.message_handler(commands=['start'])\n",
    "def start(message):\n",
    "    global answers\n",
    "    answers = []\n",
    "    markup = types.ReplyKeyboardMarkup(resize_keyboard=True)\n",
    "    btn1 = types.KeyboardButton(\"Получить информацию\")\n",
    "    btn2 = types.KeyboardButton(\"Ничего не хочу\")\n",
    "    markup.add(btn1, btn2)\n",
    "    # answer_0 = message.text\n",
    "    # answers.append(answer_0)\n",
    "    bot.send_message(message.chat.id, text=\"Привет, {0.first_name}! Чо те надо?\".format(message.from_user), reply_markup=markup)\n",
    "\n",
    "    if(message.text == \"Ничего не хочу\"):\n",
    "        bot.send_message(message.chat.id, text=\"Ну, давай до свиданья\")\n",
    "    elif (message.text == \"Получить информацию\"):\n",
    "        send = bot.send_message(message.chat.id, 'Ага')\n",
    "        bot.register_next_step_handler(send, q_1)\n",
    "\n",
    "def q_1(message):\n",
    "    markup = types.ReplyKeyboardMarkup(resize_keyboard=True)\n",
    "    btn1 = types.KeyboardButton(\"ПКЗ целом по РФ\")\n",
    "    btn2 = types.KeyboardButton(\"ПКЗ в разрезе субъектов РФ\")\n",
    "    markup.add(btn1, btn2)\n",
    "    answer_1 = message.text\n",
    "    answers.append(answer_1)\n",
    "    send = bot.send_message(message.chat.id, 'Выбери разрез по показателю')\n",
    "    bot.register_next_step_handler(send, q_2)\n",
    "\n",
    "def q_2(message):\n",
    "    markup = types.ReplyKeyboardMarkup(resize_keyboard=True)\n",
    "    btn1 = types.KeyboardButton(\"ПКЗ целом по РФ\")\n",
    "    btn2 = types.KeyboardButton(\"ПКЗ в разрезе субъектов РФ\")\n",
    "    markup.add(btn1, btn2)\n",
    "    answer_2 = message.text\n",
    "    answers.append(answer_2)\n",
    "    send = bot.send_message(message.chat.id, 'Выбери разрез по показателю')\n",
    "    # bot.register_next_step_handler(send, three_q)\n",
    "\n",
    "bot.polling(none_stop=True)"
   ]
  },
  {
   "cell_type": "code",
   "execution_count": 34,
   "metadata": {},
   "outputs": [
    {
     "data": {
      "text/plain": [
       "[]"
      ]
     },
     "execution_count": 34,
     "metadata": {},
     "output_type": "execute_result"
    }
   ],
   "source": [
    "answers"
   ]
  },
  {
   "cell_type": "code",
   "execution_count": 53,
   "metadata": {},
   "outputs": [
    {
     "name": "stdout",
     "output_type": "stream",
     "text": [
      "42\n",
      "42\n",
      "42\n"
     ]
    }
   ],
   "source": [
    "# Принимает два обязательных аргументы первый это message, а второй это function.\n",
    "# Работает таким образом, он ждёт сообщение пользователя и потом вызывает указанную функцию с аргументом message\n",
    "# Пример использования:\n",
    "\n",
    "bot = telebot.TeleBot('7391660043:AAHcyL_Ktum99zjUPruQ3_QD6XzEBJ2sQHk')\n",
    "@bot.message_handler(commands=['start'])\n",
    "@bot.message_handler(content_types=['text'])\n",
    "def welcome(message):\n",
    "    global asc\n",
    "    asc = []\n",
    "    mesg = bot.send_message(message.chat.id,'Напиши сообщение')\n",
    "    if message.text.strip() == '42':\n",
    "        print(message.text.strip())\n",
    "        bot.register_next_step_handler(mesg,test_42)\n",
    "    elif message.text.strip() == '56':\n",
    "        print(message.text.strip())\n",
    "        bot.register_next_step_handler(mesg,test_56)\n",
    "    asc.append(message.text)\n",
    "\n",
    "def test_42(message):\n",
    "    bot.send_message(message.chat.id, f'Ты написал сообщение {message.text}')\n",
    "    asc.append(message.text)\n",
    "\n",
    "def test_56(message):\n",
    "    bot.send_message(message.chat.id, f'Ты написал сообщение {message.text}')\n",
    "    asc.append(message.text)\n",
    "\n",
    "bot.polling(none_stop=True)"
   ]
  },
  {
   "cell_type": "code",
   "execution_count": 54,
   "metadata": {},
   "outputs": [
    {
     "data": {
      "text/plain": [
       "['67']"
      ]
     },
     "execution_count": 54,
     "metadata": {},
     "output_type": "execute_result"
    }
   ],
   "source": [
    "asc"
   ]
  },
  {
   "cell_type": "code",
   "execution_count": 55,
   "metadata": {},
   "outputs": [
    {
     "name": "stderr",
     "output_type": "stream",
     "text": [
      "2024-06-11 16:40:22,871 (__init__.py:966 MainThread) ERROR - TeleBot: \"Infinity polling: polling exited\"\n",
      "2024-06-11 16:40:22,873 (__init__.py:968 MainThread) ERROR - TeleBot: \"Break infinity polling\"\n"
     ]
    }
   ],
   "source": [
    "# -*- coding: utf-8 -*-\n",
    "\"\"\"\n",
    "This Example will show you how to use register_next_step handler.\n",
    "\"\"\"\n",
    "\n",
    "import telebot\n",
    "from telebot import types\n",
    "\n",
    "API_TOKEN = '7391660043:AAHcyL_Ktum99zjUPruQ3_QD6XzEBJ2sQHk'\n",
    "\n",
    "bot = telebot.TeleBot(API_TOKEN)\n",
    "\n",
    "user_dict = {}\n",
    "\n",
    "\n",
    "class User:\n",
    "    def __init__(self, name):\n",
    "        self.name = name\n",
    "        self.age = None\n",
    "        self.sex = None\n",
    "\n",
    "\n",
    "# Handle '/start' and '/help'\n",
    "@bot.message_handler(commands=['help', 'start'])\n",
    "def send_welcome(message):\n",
    "    msg = bot.reply_to(message, \"\"\"\\\n",
    "Hi there, I am Example bot.\n",
    "What's your name?\n",
    "\"\"\")\n",
    "    bot.register_next_step_handler(msg, process_name_step)\n",
    "\n",
    "\n",
    "def process_name_step(message):\n",
    "    try:\n",
    "        chat_id = message.chat.id\n",
    "        name = message.text\n",
    "        user = User(name)\n",
    "        user_dict[chat_id] = user\n",
    "        msg = bot.reply_to(message, 'How old are you?')\n",
    "        bot.register_next_step_handler(msg, process_age_step)\n",
    "    except Exception as e:\n",
    "        bot.reply_to(message, 'oooops')\n",
    "\n",
    "\n",
    "def process_age_step(message):\n",
    "    try:\n",
    "        chat_id = message.chat.id\n",
    "        age = message.text\n",
    "        if not age.isdigit():\n",
    "            msg = bot.reply_to(message, 'Age should be a number. How old are you?')\n",
    "            bot.register_next_step_handler(msg, process_age_step)\n",
    "            return\n",
    "        user = user_dict[chat_id]\n",
    "        user.age = age\n",
    "        markup = types.ReplyKeyboardMarkup(one_time_keyboard=True)\n",
    "        markup.add('Male', 'Female')\n",
    "        msg = bot.reply_to(message, 'What is your gender', reply_markup=markup)\n",
    "        bot.register_next_step_handler(msg, process_sex_step)\n",
    "    except Exception as e:\n",
    "        bot.reply_to(message, 'oooops')\n",
    "\n",
    "\n",
    "def process_sex_step(message):\n",
    "    try:\n",
    "        chat_id = message.chat.id\n",
    "        sex = message.text\n",
    "        user = user_dict[chat_id]\n",
    "        if (sex == u'Male') or (sex == u'Female'):\n",
    "            user.sex = sex\n",
    "        else:\n",
    "            raise Exception(\"Unknown sex\")\n",
    "        bot.send_message(chat_id, 'Nice to meet you ' + user.name + '\\n Age:' + str(user.age) + '\\n Sex:' + user.sex)\n",
    "    except Exception as e:\n",
    "        bot.reply_to(message, 'oooops')\n",
    "\n",
    "\n",
    "# Enable saving next step handlers to file \"./.handlers-saves/step.save\".\n",
    "# Delay=2 means that after any change in next step handlers (e.g. calling register_next_step_handler())\n",
    "# saving will hapen after delay 2 seconds.\n",
    "bot.enable_save_next_step_handlers(delay=2)\n",
    "\n",
    "# Load next_step_handlers from save file (default \"./.handlers-saves/step.save\")\n",
    "# WARNING It will work only if enable_save_next_step_handlers was called!\n",
    "bot.load_next_step_handlers()\n",
    "\n",
    "bot.infinity_polling()"
   ]
  },
  {
   "cell_type": "code",
   "execution_count": 2,
   "metadata": {},
   "outputs": [],
   "source": [
    "from fpdf import FPDF\n",
    "import fpdf\n",
    "\n",
    "pdf = fpdf.FPDF()\n",
    "# подключаем шрифт Verdana.ttf и даем ему имя \"Verdana\"\n",
    "pdf.add_font(\"Verdana\", style=\"\", fname=\"C:/work/new_bot/bot1py/font/Verdana.ttf\", uni=True)\n",
    "# подключаем жирный шрифт \"Verdana\"\n",
    "pdf.add_font(\"Verdana\", style=\"B\", fname=\"C:/work/new_bot/bot1py/font/Verdana-Bold.ttf\", uni=True)\n",
    "# подключаем наклонный шрифт \"Verdana\"\n",
    "pdf.add_font(\"Verdana\", style=\"I\", fname=\"C:/work/new_bot/bot1py/font/Verdana-Italic.ttf\", uni=True)\n",
    "# подключаем жирный-наклонный шрифт \"Verdana\"\n",
    "pdf.add_font(\"Verdana\", style=\"BI\", fname=\"C:/work/new_bot/bot1py/font/Verdana-BoldItalic.ttf\", uni=True)\n",
    "# установить подключенный шрифт \"Verdana\" по умолчанию для всего документа \n",
    "pdf.set_font(\"Verdana\")"
   ]
  },
  {
   "cell_type": "code",
   "execution_count": 3,
   "metadata": {},
   "outputs": [
    {
     "data": {
      "text/plain": [
       "''"
      ]
     },
     "execution_count": 3,
     "metadata": {},
     "output_type": "execute_result"
    }
   ],
   "source": [
    "\n",
    "pdf = FPDF(orientation='L', unit='mm', format='A5')\n",
    "# подключаем шрифт Verdana.ttf и даем ему имя \"Verdana\"\n",
    "pdf.add_font(\"Verdana\", style=\"\", fname=\"C:/work/new_bot/bot1py/font/Verdana.ttf\", uni=True)\n",
    "# подключаем жирный шрифт \"Verdana\"\n",
    "pdf.add_font(\"Verdana\", style=\"B\", fname=\"C:/work/new_bot/bot1py/font/Verdana-Bold.ttf\", uni=True)\n",
    "# подключаем наклонный шрифт \"Verdana\"\n",
    "pdf.add_font(\"Verdana\", style=\"I\", fname=\"C:/work/new_bot/bot1py/font/Verdana-Italic.ttf\", uni=True)\n",
    "# подключаем жирный-наклонный шрифт \"Verdana\"\n",
    "pdf.add_font(\"Verdana\", style=\"BI\", fname=\"C:/work/new_bot/bot1py/font/Verdana-BoldItalic.ttf\", uni=True)\n",
    "# установить подключенный шрифт \"Verdana\" по умолчанию для всего документа \n",
    "# pdf.set_font(\"Verdana\")\n",
    "pdf.add_page()\n",
    "pdf.set_font(\"Verdana\", size=12)\n",
    "pdf.set_draw_color(0, 80, 180)\n",
    "pdf.set_fill_color(230, 230, 50)\n",
    "pdf.set_text_color(220, 50, 50)\n",
    "pdf.ln(10)\n",
    "pdf.cell(10, 100, txt=\"Пример текста на странице, говон всякое, пятое-десятое, 1 всё такое и прочий хлам. Ешьте, дети, гуталин, пейте, дети, водку\", ln=1, align=\"E\")\n",
    "pdf.cell(20, 100, 'Powered by FPDF.', align='C')\n",
    "# pdf.drawString(100, 700, \"Пример текста на странице\")\n",
    "pdf.image(\"C:/Users/Admin/Pictures/csv.png\", x=10, y=8, w=10)\n",
    "pdf.output(\"C:/Users/Admin/Desktop/demo.pdf\")"
   ]
  },
  {
   "cell_type": "code",
   "execution_count": 1,
   "metadata": {},
   "outputs": [
    {
     "name": "stderr",
     "output_type": "stream",
     "text": [
      "2024-06-13 09:08:05,292 (__init__.py:966 MainThread) ERROR - TeleBot: \"Infinity polling: polling exited\"\n",
      "2024-06-13 09:08:05,292 (__init__.py:968 MainThread) ERROR - TeleBot: \"Break infinity polling\"\n"
     ]
    }
   ],
   "source": [
    "import telebot\n",
    "\n",
    "# Токен вашего бота, полученный при создании на сайте Telegram BotFather\n",
    "TOKEN = '7391660043:AAHcyL_Ktum99zjUPruQ3_QD6XzEBJ2sQHk'\n",
    "\n",
    "# Создание экземпляра бота\n",
    "bot = telebot.TeleBot(TOKEN)\n",
    "\n",
    "# Функция для обработки сообщений пользователя\n",
    "def process_user_input(message):\n",
    "    user_response = message.text.lower()\n",
    "    \n",
    "    # Первый уровень вложенности\n",
    "    if user_response == 'да':\n",
    "        bot.send_message(message.chat.id, \"Отлично! Что ты хочешь узнать?\")\n",
    "        \n",
    "        # Второй уровень вложенности\n",
    "        def second_level_processing(message):\n",
    "            user_response = message.text.lower()\n",
    "            \n",
    "            if user_response == 'что-то конкретное':\n",
    "                bot.send_message(message.chat.id, \"Могу рассказать про это подробнее.\")\n",
    "                \n",
    "                # Третий уровень вложенности\n",
    "                def third_level_processing(message):\n",
    "                    user_response = message.text.lower()\n",
    "                    \n",
    "                    if user_response == 'да':\n",
    "                        bot.send_message(message.chat.id, \"Это очень интересно.\")\n",
    "                    else:\n",
    "                        bot.send_message(message.chat.id, \"Хорошо, тогда расскажу про что-то другое.\")\n",
    "                        return\n",
    "                \n",
    "                # Обработка сообщений на третьем уровне\n",
    "                bot.message_handler(content_types=['text'])(third_level_processing)\n",
    "                \n",
    "            else:\n",
    "                bot.send_message(message.chat.id, \"Не совсем понимаю, что ты имеешь в виду.\")\n",
    "                \n",
    "        # Обработка сообщений на втором уровне\n",
    "        bot.message_handler(content_types=['text'])(second_level_processing)\n",
    "        \n",
    "    else:\n",
    "        bot.send_message(message.chat.id, \"Хорошо! Если передумаешь, просто дай знать.\")\n",
    "\n",
    "# Обработка команд /start и /help\n",
    "@bot.message_handler(commands=['start', 'help'])\n",
    "def send_welcome(message):\n",
    "    bot.reply_to(message, \"Привет! Я могу помочь тебе с чем-нибудь?\")\n",
    "\n",
    "# Обработка текстовых сообщений\n",
    "@bot.message_handler(content_types=['text'])\n",
    "def handle_message(message):\n",
    "    process_user_input(message)\n",
    "\n",
    "# Запуск бота\n",
    "bot.infinity_polling()\n"
   ]
  },
  {
   "cell_type": "markdown",
   "metadata": {},
   "source": [
    "***"
   ]
  },
  {
   "cell_type": "markdown",
   "metadata": {},
   "source": [
    "# **Чат-бот для ПКЗ**"
   ]
  },
  {
   "cell_type": "markdown",
   "metadata": {},
   "source": [
    "![alt text](free-png.ru-22-1.png)"
   ]
  },
  {
   "cell_type": "code",
   "execution_count": 13,
   "metadata": {},
   "outputs": [
    {
     "name": "stderr",
     "output_type": "stream",
     "text": [
      "2024-06-18 17:12:06,948 (__init__.py:966 MainThread) ERROR - TeleBot: \"Infinity polling: polling exited\"\n",
      "2024-06-18 17:12:06,948 (__init__.py:968 MainThread) ERROR - TeleBot: \"Break infinity polling\"\n"
     ]
    }
   ],
   "source": [
    "import pandas as pd\n",
    "import numpy as np\n",
    "import os\n",
    "import sys\n",
    "import sqlite3\n",
    "import telebot\n",
    "from telebot import types\n",
    "from requests.exceptions import ConnectionError\n",
    "import time\n",
    "import datetime\n",
    "from datetime import datetime\n",
    "\n",
    "# Токен\n",
    "TOKEN = '7391660043:AAHcyL_Ktum99zjUPruQ3_QD6XzEBJ2sQHk'\n",
    "\n",
    "# пути\n",
    "dir_path = os.getcwd().replace(\"\\\\\", \"/\")+\"/\"\n",
    "db_path = dir_path+\"db.sqlite\"\n",
    "data_path = dir_path+\"data/\"\n",
    "\n",
    "# Создание экземпляра бота\n",
    "# bot = telebot.TeleBot(TOKEN, parse_mode='MARKDOWN')\n",
    "bot = telebot.TeleBot(TOKEN)\n",
    "\n",
    "slit = \"\"\n",
    "reg_name = \"\"\n",
    "mess_name_all = \"\"\n",
    "mess_name_sub = \"\"\n",
    "\n",
    "def al(message):\n",
    "    global mess_name_all\n",
    "    mess_name_all = message.text\n",
    "    markup = types.ReplyKeyboardMarkup(resize_keyboard=True)\n",
    "    btn1 = types.KeyboardButton(\"Общая ПКЗ\")\n",
    "    btn2 = types.KeyboardButton(\"ТОП-10 субъектов\\nс max ПКЗ\")\n",
    "    btn3 = types.KeyboardButton(\"Перечень субъектов\\nс ПКЗ\")\n",
    "    btn4 = types.KeyboardButton(\"Динамика ПКЗ\")\n",
    "    btn5 = types.KeyboardButton(\"ТК 'ПКЗ относительно\\nсубвенции'\")\n",
    "    markup.add(btn1, btn2, btn3, btn4, btn5)\n",
    "    bot.send_message(message.chat.id, '*Отчёт в целом по Российской Федерации:*', reply_markup=markup, parse_mode=\"Markdown\")\n",
    "\n",
    "def su(message):\n",
    "    global reg_name, slit\n",
    "    slit = message.text\n",
    "    bot.send_message(message.chat.id, 'Укажите в строке сообщения название субъекта РФ:')\n",
    "\n",
    "def for_sub(message):\n",
    "    global reg_name, slit, db_path\n",
    "    conn = sqlite3.connect(db_path)\n",
    "    cur = conn.cursor()\n",
    "    qwery = \"select rr.reg_name_rus, rr.reg_name_eng from reg_ref rr\"\n",
    "    df_valid_regions = pd.DataFrame(cur.execute(qwery).fetchall())\n",
    "    valid_regions_list_rus = df_valid_regions[0].tolist()\n",
    "    user = message.from_user.last_name\n",
    "    user_id = message.from_user.id\n",
    "    time = datetime.fromtimestamp(message.date).strftime('%Y-%m-%d %H:%M:%S')\n",
    "    if message.text not in [\"Динамика ПКЗ\", \"ТОП МО с\\nmax ПКЗ\", \"Перечень МО\\nс ПКЗ\", \"Структура ПКЗ\", \"Структура ПКЗ\\nпо МО\"]:\n",
    "        reg_name = message.text\n",
    "    if reg_name in valid_regions_list_rus:\n",
    "        markup = types.ReplyKeyboardMarkup(resize_keyboard=True)\n",
    "        btn1 = types.KeyboardButton(\"Динамика ПКЗ\")\n",
    "        btn2 = types.KeyboardButton(\"ТОП МО с\\nmax ПКЗ\")\n",
    "        btn3 = types.KeyboardButton(\"Перечень МО\\nс ПКЗ\")\n",
    "        btn4 = types.KeyboardButton(\"Структура ПКЗ\")\n",
    "        btn5 = types.KeyboardButton(\"Структура ПКЗ\\nпо МО\")\n",
    "        markup.add(btn1, btn2, btn3, btn4, btn5)\n",
    "        bot.send_message(message.chat.id, f'*Отчёт по выбранному субъекту Российской Федерации:* _{reg_name}_', reply_markup=markup, parse_mode=\"Markdown\")\n",
    "    else:\n",
    "        answer = open(\"C:/work/pkz_bot/data/TestRegion/oyi.png\", 'rb')\n",
    "        bot.send_photo(message.chat.id, answer)\n",
    "        bot.send_message(message.chat.id, 'Субъект не найден, попробуйте ещё раз')\n",
    "        # bot.send_message(message.chat.id, f'for_sub reg_name = {reg_name}, slit = {slit}, user = {user} ({user_id}), time = {time}') # тестирование\n",
    "        bad_list = [reg_name, user, user_id, time]\n",
    "        df_bad_region_name = pd.DataFrame([bad_list])\n",
    "        df_bad_region_name.columns = [\"reg_name\", \"user_name\", \"user_id\", \"datetime\"]\n",
    "        df_bad_region_name.to_sql(\"bad_region_names\", conn, if_exists=\"append\", index=False)\n",
    "\n",
    "# это ПО СУБЪЕКТАМ\n",
    "def select_1(message):\n",
    "    global reg_name, slit, db_path, data_path\n",
    "    global mess_name_sub\n",
    "    mess_name_sub = message.text\n",
    "    mess_name_dict = {\n",
    "        \"Динамика ПКЗ\": \"M0.png\",\n",
    "        \"ТОП МО с\\nmax ПКЗ\": \"M1.png\",\n",
    "        \"Перечень МО\\nс ПКЗ\": \"M2.png\",\n",
    "        \"Структура ПКЗ\": \"M3.png\",\n",
    "        \"Структура ПКЗ\\nпо МО\": \"M4.png\"\n",
    "    }\n",
    "    # это вот всё надо только для отладочного сообщения\n",
    "    user = message.from_user.last_name\n",
    "    user_id = message.from_user.id\n",
    "    time = datetime.fromtimestamp(message.date).strftime('%Y-%m-%d %H:%M:%S')\n",
    "\n",
    "    conn = sqlite3.connect(db_path)\n",
    "    cur = conn.cursor()\n",
    "    qwery = \"select rr.reg_name_eng from reg_ref rr where rr.reg_name_rus = '\" + reg_name + \"'\"\n",
    "    reg_part = cur.execute(qwery).fetchall()[0][0] # импортное название субъекта для формирования пути\n",
    "    \n",
    "    if reg_name == mess_name_sub:\n",
    "        answer_path = data_path + reg_part + \"/\" + \"title.png\"\n",
    "    else:\n",
    "        answer_path = data_path + reg_part + \"/\" + mess_name_dict[mess_name_sub]\n",
    "    \n",
    "    # answer = open(answer_path, 'rb') # это нужно раскоментить для работы, когла всё заработает\n",
    "\n",
    "    # когда всё заработает, оставить только эту отправлялку:\n",
    "    # bot.send_photo(message.chat.id, answer)\n",
    "\n",
    "    #это временно\n",
    "    if reg_name == mess_name_sub:\n",
    "        # bot.send_message(message.chat.id, \"Здесь будет плашка с реквизитом субъекта\")\n",
    "        answer = open(\"C:/work/pkz_bot/data/TestRegion/title_region_test.png\", 'rb')\n",
    "        bot.send_photo(message.chat.id, answer)\n",
    "    else:\n",
    "        # bot.send_message(message.chat.id, \"Здесь будет запрошенный отчёт\")\n",
    "        answer = open(\"C:/work/pkz_bot/data/TestRegion/report_region_test.png\", 'rb')\n",
    "        bot.send_photo(message.chat.id, answer)\n",
    "    bot.send_message(message.chat.id, f'select_1 reg_name = {reg_name}, answer_path = {answer_path}, slit = {slit}, mess_name_sub = {mess_name_sub}, user = {user}, user_id = {user_id}, time = {time}')\n",
    "    #это временно\n",
    "    \n",
    "\n",
    "# ЭТО ВСЯ РОССИЯ\n",
    "def select_2(message):\n",
    "    global reg_name, slit, mess_name_all\n",
    "    # global mess_name_all\n",
    "    mess_name_all = message.text\n",
    "    mess_name_dict = {\n",
    "        \"Да\": \"Russia/title.png\",\n",
    "        \"Общая ПКЗ\": \"Russia/M0.png\",\n",
    "        \"ТОП-10 субъектов\\nс max ПКЗ\": \"Russia/M1.png\",\n",
    "        \"Перечень субъектов\\nс ПКЗ\": \"Russia/M2.png\",\n",
    "        \"Динамика ПКЗ\": \"Russia/M3.png\",\n",
    "        \"ТК 'ПКЗ относительно\\nсубвенции'\": \"Russia/M4.png\"\n",
    "    }\n",
    "    if reg_name == \"\" and slit == \"all\"and mess_name_all in mess_name_dict.keys():\n",
    "        answer_path = data_path + mess_name_dict[mess_name_all]\n",
    "        answer = open(answer_path, 'rb')\n",
    "        bot.send_photo(message.chat.id, answer)\n",
    "        bot.send_message(message.chat.id, f'select_2, reg_name = {reg_name}, answer_path = {answer_path}, slit = {slit}, mess_name_all = {mess_name_all}') # это отладночное для Олега\n",
    "    elif reg_name == \"\" and slit == \"all\"and mess_name_all != \"\":\n",
    "        bot.delete_message(message.chat.id, message.message_id + 1)\n",
    "        bot.send_message(message.chat.id, f'Отчёт \"{mess_name_all}\" для РФ не предусмотрен.\\nЕсли хотите получить данные по субъекту РФ, воспользуйтесть меню.')\n",
    "    else:\n",
    "        bot.send_message(message.chat.id, f'reg_name = {reg_name}, slit = {slit}, mess_name_all = {mess_name_all}')\n",
    "\n",
    "\n",
    "    # if reg_name == \"\" and slit == \"all\"and mess_name_all == \"Да\":\n",
    "    #     answer = open(\"C:/work/pkz_bot/data/Russia/title.png\", 'rb')\n",
    "    #     bot.send_photo(message.chat.id, answer)\n",
    "    # elif reg_name == \"\" and slit == \"all\"and mess_name_all == \"Общая ПКЗ\":\n",
    "    #     answer = open(\"C:/work/pkz_bot/data/Russia/M0.png\", 'rb')\n",
    "    #     bot.send_photo(message.chat.id, answer)\n",
    "    # elif reg_name == \"\" and slit == \"all\"and mess_name_all == \"ТОП-10 субъектов\\nс max ПКЗ\":\n",
    "    #     answer = open(\"C:/work/pkz_bot/data/Russia/M1.png\", 'rb')\n",
    "    #     bot.send_photo(message.chat.id, answer)\n",
    "    # elif reg_name == \"\" and slit == \"all\"and mess_name_all == \"Перечень субъектов\\nс ПКЗ\":\n",
    "    #     answer = open(\"C:/work/pkz_bot/data/Russia/M2.png\", 'rb')\n",
    "    #     bot.send_photo(message.chat.id, answer)\n",
    "    # elif reg_name == \"\" and slit == \"all\"and mess_name_all == \"Динамика ПКЗ\":\n",
    "    #     answer = open(\"C:/work/pkz_bot/data/Russia/M3.png\", 'rb')\n",
    "    #     bot.send_photo(message.chat.id, answer)\n",
    "    # elif reg_name == \"\" and slit == \"all\"and mess_name_all == \"ТК 'ПКЗ относительно\\nсубвенции'\":\n",
    "    #     answer = open(\"C:/work/pkz_bot/data/Russia/M4.png\", 'rb')\n",
    "    #     bot.send_photo(message.chat.id, answer)\n",
    "    # # тут!\n",
    "    # elif reg_name == \"\" and slit == \"all\"and mess_name_all != \"\":\n",
    "    #     bot.delete_message(message.chat.id, message.message_id + 1)\n",
    "    #     bot.send_message(message.chat.id, f'Отчёт \"{mess_name_all}\" для РФ не предусмотрен.\\nЕсли хотите получить данные по субъекту РФ, воспользуйтесть меню.')\n",
    "    # else:\n",
    "    #     bot.send_message(message.chat.id, f'reg_name = {reg_name}, slit = {slit}, mess_name_all = {mess_name_all}')\n",
    "        \n",
    "\n",
    "def select_0(message):\n",
    "    conn = sqlite3.connect(db_path)\n",
    "    cur = conn.cursor()\n",
    "    qwery = \"select rr.reg_name_rus, rr.reg_name_eng from reg_ref rr\"\n",
    "    df_valid_regions = pd.DataFrame(cur.execute(qwery).fetchall())\n",
    "    valid_regions_list_rus = df_valid_regions[0].tolist()\n",
    "    if slit == \"sub\":\n",
    "        su(message)\n",
    "    elif slit == \"all\":\n",
    "        al(message)\n",
    "    else:\n",
    "        for_sub(message)\n",
    "    if reg_name != \"\" and slit == \"Да\" and reg_name in valid_regions_list_rus:\n",
    "        select_1(message)\n",
    "    if reg_name == \"\" and slit == \"all\" and mess_name_all != \"\":\n",
    "        select_2(message)\n",
    "    \n",
    "# БОТ\n",
    "# Обработка команд меню\n",
    "@bot.message_handler(commands=['start'])\n",
    "def start(message):\n",
    "    bot.send_message(message.chat.id, text=\"{0.first_name}, используя меню, укажите требуемый разрез данных\\nвернуться в меню можно на любом этапе\".format(message.from_user))\n",
    "\n",
    "@bot.message_handler(commands=['all_states'])\n",
    "def all(message):\n",
    "    markup = types.ReplyKeyboardMarkup(resize_keyboard=True)\n",
    "    btn1 = types.KeyboardButton(\"Да\")\n",
    "    markup.add(btn1)\n",
    "    global slit, reg_name\n",
    "    reg_name = \"\"\n",
    "    slit = \"all\"\n",
    "    bot.send_message(message.chat.id, 'Получить обобщённую информацию по Российской Федерации?', reply_markup=markup)\n",
    "\n",
    "@bot.message_handler(commands=['sub_states'])\n",
    "def sub(message):\n",
    "    markup = types.ReplyKeyboardMarkup(resize_keyboard=True)\n",
    "    btn1 = types.KeyboardButton(\"Да\")\n",
    "    markup.add(btn1)\n",
    "    global slit, reg_name\n",
    "    reg_name = \"\"\n",
    "    slit = \"sub\"\n",
    "    bot.send_message(message.chat.id, 'Получить информацию по субъектам Российской Федерации?', reply_markup=markup)\n",
    "\n",
    "# обработка сообщений\n",
    "@bot.message_handler(content_types=['text'])\n",
    "def handle_message(message):\n",
    "    select_0(message)\n",
    "\n",
    "# Запуск бота\n",
    "bot.infinity_polling()"
   ]
  },
  {
   "cell_type": "code",
   "execution_count": 48,
   "metadata": {},
   "outputs": [
    {
     "name": "stdout",
     "output_type": "stream",
     "text": [
      "all\n"
     ]
    }
   ],
   "source": [
    "print(slit)"
   ]
  },
  {
   "cell_type": "code",
   "execution_count": 54,
   "metadata": {},
   "outputs": [
    {
     "data": {
      "text/plain": [
       "''"
      ]
     },
     "execution_count": 54,
     "metadata": {},
     "output_type": "execute_result"
    }
   ],
   "source": [
    "mess_name_all"
   ]
  },
  {
   "cell_type": "code",
   "execution_count": 50,
   "metadata": {},
   "outputs": [
    {
     "data": {
      "text/plain": [
       "''"
      ]
     },
     "execution_count": 50,
     "metadata": {},
     "output_type": "execute_result"
    }
   ],
   "source": [
    "reg_name"
   ]
  },
  {
   "cell_type": "code",
   "execution_count": 4,
   "metadata": {},
   "outputs": [],
   "source": [
    "# делание папок\n",
    "# создание папки для сохранения маленьких справочников\n",
    "# df_dirname = pd.read_csv(r\"C:\\work\\error_log\\reg_ref.csv\", sep = \";\")\n",
    "# list_dirname = df_dirname[\"reg_name_eng\"].tolist()\n",
    "# path_0 = \"C:/work/pkz_bot/data/\"\n",
    "# for element in list_dirname:\n",
    "#     dir_name = path_0 + element\n",
    "#     try:\n",
    "#         os.mkdir(dir_name)\n",
    "#     except Exception:\n",
    "#         pass\n",
    "# list_dirname"
   ]
  },
  {
   "cell_type": "code",
   "execution_count": null,
   "metadata": {},
   "outputs": [],
   "source": [
    "# эта функция и также должна наделать путей к картинкам - оригинал\n",
    "def select_1(message):\n",
    "    global reg_name, slit, cur\n",
    "    global mess_name_sub\n",
    "    mess_name_sub = message.text\n",
    "    \n",
    "    bot.send_message(message.chat.id, f'reg_name = {reg_name}, slit = {slit}, mess_name_sub = {mess_name_sub}')"
   ]
  },
  {
   "cell_type": "code",
   "execution_count": 10,
   "metadata": {},
   "outputs": [
    {
     "data": {
      "text/html": [
       "<div>\n",
       "<style scoped>\n",
       "    .dataframe tbody tr th:only-of-type {\n",
       "        vertical-align: middle;\n",
       "    }\n",
       "\n",
       "    .dataframe tbody tr th {\n",
       "        vertical-align: top;\n",
       "    }\n",
       "\n",
       "    .dataframe thead th {\n",
       "        text-align: right;\n",
       "    }\n",
       "</style>\n",
       "<table border=\"1\" class=\"dataframe\">\n",
       "  <thead>\n",
       "    <tr style=\"text-align: right;\">\n",
       "      <th></th>\n",
       "      <th>0</th>\n",
       "      <th>1</th>\n",
       "    </tr>\n",
       "  </thead>\n",
       "  <tbody>\n",
       "    <tr>\n",
       "      <th>0</th>\n",
       "      <td>Алтайский край</td>\n",
       "      <td>AltaiskiyKray</td>\n",
       "    </tr>\n",
       "    <tr>\n",
       "      <th>1</th>\n",
       "      <td>Амурская область</td>\n",
       "      <td>AmurskayaOblast</td>\n",
       "    </tr>\n",
       "    <tr>\n",
       "      <th>2</th>\n",
       "      <td>Архангельская область</td>\n",
       "      <td>ArhangelskayaOblast</td>\n",
       "    </tr>\n",
       "    <tr>\n",
       "      <th>3</th>\n",
       "      <td>Астраханская область</td>\n",
       "      <td>AstrahanskayaOblast</td>\n",
       "    </tr>\n",
       "    <tr>\n",
       "      <th>4</th>\n",
       "      <td>Белгородская область</td>\n",
       "      <td>BelgorodskayaOblast</td>\n",
       "    </tr>\n",
       "    <tr>\n",
       "      <th>...</th>\n",
       "      <td>...</td>\n",
       "      <td>...</td>\n",
       "    </tr>\n",
       "    <tr>\n",
       "      <th>82</th>\n",
       "      <td>Чукотский автономный округ</td>\n",
       "      <td>ChukotskiyAO</td>\n",
       "    </tr>\n",
       "    <tr>\n",
       "      <th>83</th>\n",
       "      <td>Ямало-Ненецкий автономный округ</td>\n",
       "      <td>YamaloNenetskiyAO</td>\n",
       "    </tr>\n",
       "    <tr>\n",
       "      <th>84</th>\n",
       "      <td>Ярославская область</td>\n",
       "      <td>YaroslavskayaOblast</td>\n",
       "    </tr>\n",
       "    <tr>\n",
       "      <th>85</th>\n",
       "      <td>г. Байконур</td>\n",
       "      <td>Baikonur</td>\n",
       "    </tr>\n",
       "    <tr>\n",
       "      <th>86</th>\n",
       "      <td>Кемская волость</td>\n",
       "      <td>NoRegion</td>\n",
       "    </tr>\n",
       "  </tbody>\n",
       "</table>\n",
       "<p>87 rows × 2 columns</p>\n",
       "</div>"
      ],
      "text/plain": [
       "                                  0                    1\n",
       "0                    Алтайский край        AltaiskiyKray\n",
       "1                  Амурская область      AmurskayaOblast\n",
       "2             Архангельская область  ArhangelskayaOblast\n",
       "3              Астраханская область  AstrahanskayaOblast\n",
       "4              Белгородская область  BelgorodskayaOblast\n",
       "..                              ...                  ...\n",
       "82       Чукотский автономный округ         ChukotskiyAO\n",
       "83  Ямало-Ненецкий автономный округ    YamaloNenetskiyAO\n",
       "84              Ярославская область  YaroslavskayaOblast\n",
       "85                      г. Байконур             Baikonur\n",
       "86                  Кемская волость             NoRegion\n",
       "\n",
       "[87 rows x 2 columns]"
      ]
     },
     "execution_count": 10,
     "metadata": {},
     "output_type": "execute_result"
    }
   ],
   "source": [
    "# настройка db\n",
    "import pandas as pd\n",
    "import numpy as np\n",
    "import os\n",
    "import sys\n",
    "import sqlite3\n",
    "\n",
    "dir_path = os.getcwd().replace(\"\\\\\", \"/\")+\"/\"\n",
    "db_path = dir_path+\"db.sqlite\"\n",
    "# подключение к базе данных\n",
    "conn = sqlite3.connect(db_path)\n",
    "# создание курсора\n",
    "cur = conn.cursor()\n",
    "\n",
    "mess_name_sub = \"Кран\"\n",
    "\n",
    "# qwery = \"select * from reg_ref rr where rr.reg_name_rus like '%\" + mess_name_sub + \"%';\"\n",
    "qwery = \"select rr.reg_name_rus, reg_name_eng from reg_ref rr\"\n",
    "df_rr = pd.DataFrame(cur.execute(qwery).fetchall())\n",
    "# if df_rr.shape[0] == 1:\n",
    "#     mess_name_sub = df_rr.loc[0, 1]\n",
    "# elif df_rr.shape[0] > 1:\n",
    "#     mess_name_sub = \"NoRegion\"\n",
    "#     answer_str = \"Уточните: \" + \"? \".join(df_rr[0].tolist()) + \"?\"\n",
    "# else:\n",
    "#     answer_str = f\"Ничего похожего на '{mess_name_sub}' не найдено\"\n",
    "#     mess_name_sub = \"NoRegion\"\n",
    "\n",
    "\n",
    "df_rr"
   ]
  },
  {
   "cell_type": "code",
   "execution_count": 73,
   "metadata": {},
   "outputs": [
    {
     "name": "stdout",
     "output_type": "stream",
     "text": [
      "удаляем\n"
     ]
    }
   ],
   "source": [
    "from datetime import date\n",
    "old_date_test = \"2100-01-01\"\n",
    "two_week_ago = date.today() - timedelta(days=2) # дата, раннее которой надо всё удалить из БД\n",
    "two_week_ago.strftime(\"%Y-%m-%d\")\n",
    "conn = sqlite3.connect(db_path)\n",
    "cur = conn.cursor()\n",
    "qwery = \"select min(brn.datetime) from bad_region_names brn\"\n",
    "old_date_db = cur.execute(qwery).fetchall()[0][0]\n",
    "old_date_db = pd.to_datetime(old_date_db, format=\"%Y-%m-%d %H:%M:%S\").date()\n",
    "# .strftime(\"%Y-%m-%d\") # дата самой ранней запсис в БД\n",
    "\n",
    "if old_date_db <= two_week_ago:\n",
    "# .strftime(\"%Y-%m-%d\"):\n",
    "    print(\"удаляем\")"
   ]
  },
  {
   "cell_type": "code",
   "execution_count": 71,
   "metadata": {},
   "outputs": [
    {
     "data": {
      "text/plain": [
       "datetime.date(2024, 6, 13)"
      ]
     },
     "execution_count": 71,
     "metadata": {},
     "output_type": "execute_result"
    }
   ],
   "source": [
    "two_week_ago"
   ]
  },
  {
   "cell_type": "code",
   "execution_count": 72,
   "metadata": {},
   "outputs": [
    {
     "data": {
      "text/plain": [
       "datetime.date(2024, 6, 14)"
      ]
     },
     "execution_count": 72,
     "metadata": {},
     "output_type": "execute_result"
    }
   ],
   "source": [
    "old_date_db"
   ]
  },
  {
   "cell_type": "code",
   "execution_count": 47,
   "metadata": {},
   "outputs": [
    {
     "name": "stdout",
     "output_type": "stream",
     "text": [
      "Исходная дата: 2024-06-17 13:07:28.273284\n",
      "Дата после вычитания: 2024-06-16 13:07:28.273284\n"
     ]
    }
   ],
   "source": [
    "from datetime import datetime, timedelta\n",
    " \n",
    "# текущая дата\n",
    "date = datetime.now()\n",
    " \n",
    "# вычитание одного дня\n",
    "new_date = date - timedelta(days=1)\n",
    " \n",
    "print(f'Исходная дата: {date}')\n",
    "print(f'Дата после вычитания: {new_date}')"
   ]
  },
  {
   "cell_type": "markdown",
   "metadata": {},
   "source": [
    "***"
   ]
  },
  {
   "cell_type": "markdown",
   "metadata": {},
   "source": [
    "## Надписи на картинку"
   ]
  },
  {
   "cell_type": "code",
   "execution_count": 2,
   "metadata": {},
   "outputs": [],
   "source": [
    "\n",
    "def polistring(str, simbol_count):\n",
    "    \"\"\"нарезает длиииииинннную строку,\n",
    "    помещая внутрь ея символы пробелом\"\"\"\n",
    "    str = str.replace(\"-\", \" - \")\n",
    "    str_list = str.split(\" \")\n",
    "    full_List = []\n",
    "    tmp_List = []\n",
    "    str_len = 0\n",
    "    for element in str_list:\n",
    "        str_len += len(element)\n",
    "        if str_len < simbol_count:\n",
    "            tmp_List.append(element)\n",
    "        else:\n",
    "            tmp_List.append(element)\n",
    "            full_List.append(tmp_List)\n",
    "            tmp_List = []\n",
    "            str_len = 0\n",
    "    end_list = str.split(\" \")[len(sum(full_List, [])):]\n",
    "    if not not end_list:\n",
    "        full_List.append(end_list)\n",
    "    strings = [\" \".join(x) for x in full_List]\n",
    "    return \"\\n\".join(strings)"
   ]
  },
  {
   "cell_type": "code",
   "execution_count": 3,
   "metadata": {},
   "outputs": [],
   "source": [
    "str_title = 'СОСТОЯНИЕ ДЕЛ В ЭТОЙ ВОТ СФЕРЕ'\n",
    "str_1 = 'Лечебно-хирургическое отделение, КГБУЗ \"СТОМАТОЛОГИЧЕСКАЯ ПОЛИКЛИНИКА, Г. РУБЦОВСК\", КГБУЗ \"СТОМАТОЛОГИЯ Г. РУБЦОВСКА\" - 5 человек'\n",
    "str_2 = 'Поликлиника п. Научный Городок, 37, КГБУЗ \"ДЕТСКАЯ ГОРОДСКАЯ ПОЛИКЛИНИКА № 5, Г. БАРНАУЛ\" - 17 капельниц (вчера было 3 фюзеляжа, рост на 1 кукуху в час)'\n",
    "str_3 = 'Поликлиника, КГБУЗ \"ТЮМЕНЦЕВСКАЯ ЦЕНТРАЛЬНАЯ РАЙОННАЯ БОЛЬНИЦА\" ИЛИ КГБУЗ \"ТЮМЕНЦЕВСКАЯ ЦРБ\" - 8 валенок и т.д.'\n",
    "str_4 = 'Поликлиника (амбулаторные подразделения), КГБУЗ \"ШИПУНОВСКАЯ ЦРБ\" - занято 3 ставки специалистов по обслуживанию других специалистов'\n",
    "str_5 = 'ЧАСТНОЕ УЧРЕЖДЕНИЕ ЗДРАВООХРАНЕНИЯ \"КЛИНИЧЕСКАЯ БОЛЬНИЦА \"РЖД-МЕДИЦИНА\" ГОРОДА ЧЕЛЯБИНСК\" - 1 нога'"
   ]
  },
  {
   "cell_type": "code",
   "execution_count": 4,
   "metadata": {},
   "outputs": [
    {
     "data": {
      "text/plain": [
       "'Это говно всякое и безосновательные какахи, просто так уж вышло.\\nМного текста. В этом месте начинающий дизайнер Серёжа решил таки\\nпонять, что будет с длинным фрагментом текста, который решительно\\nне поместится на эту вашу картинку. Конечно, порой это непросто.\\nЭто не просто, а очень просто. Это треш и угар во мраке ада, тащемта.'"
      ]
     },
     "execution_count": 4,
     "metadata": {},
     "output_type": "execute_result"
    }
   ],
   "source": [
    "str = \"Это говно всякое и безосновательные какахи, просто так уж вышло. Много текста. В этом месте начинающий дизайнер Серёжа решил таки понять, что будет с длинным фрагментом текста, который решительно не поместится на эту вашу картинку. Конечно, порой это непросто. Это не просто, а очень просто. Это треш и угар во мраке ада, тащемта.\"\n",
    "simbol_count = 55\n",
    "r = polistring(str, simbol_count)\n",
    "r\n",
    "str_0 = \"На самом деле в качестве фонового изображения может использоваться всё, что угодно.\"\n",
    "simbol_count = 55\n",
    "r_0 = polistring(str_0, simbol_count)\n",
    "r"
   ]
  },
  {
   "cell_type": "code",
   "execution_count": 6,
   "metadata": {},
   "outputs": [],
   "source": [
    "from PIL import Image\n",
    "from PIL import Image, ImageDraw, ImageFont\n",
    "# import telepot\n",
    "\n",
    "im = Image.open(\"C:/work/new_bot/bot1py/img/test_img.png\")\n",
    "im.show()"
   ]
  },
  {
   "cell_type": "code",
   "execution_count": 7,
   "metadata": {},
   "outputs": [],
   "source": [
    "draw_text = ImageDraw.Draw(im)\n",
    "font = ImageFont.truetype('C:/work/new_bot/bot1py/font/Verdana.ttf', size=14)\n",
    "font_title = ImageFont.truetype('C:/work/new_bot/bot1py/font/Verdana-Bold.ttf', size=22)\n",
    "font_date = ImageFont.truetype('C:/work/new_bot/bot1py/font/Verdana.ttf', size=12)\n",
    "now = date.today().strftime(\"%d.%m.%Y\")\n",
    "simbol_count = 55\n",
    "draw_text.text(\n",
    "    (180,40),\n",
    "    str_title,\n",
    "    fill=('#ffffff'),\n",
    "    font = font_title\n",
    "    )\n",
    "draw_text.text(\n",
    "    (30,83),\n",
    "    \"1. \" + polistring(str_1, simbol_count),\n",
    "    fill=('#9933cc'),\n",
    "    font = font\n",
    "    )\n",
    "draw_text.text(\n",
    "    (30,143),\n",
    "    \"2. \" + polistring(str_2, simbol_count),\n",
    "    fill=('#ff0000'),\n",
    "    font = font\n",
    "    )\n",
    "draw_text.text(\n",
    "    (30,203),\n",
    "    \"3. \" + polistring(str_3, simbol_count),\n",
    "    fill=('#f4731c'),\n",
    "    font = font\n",
    "    )\n",
    "draw_text.text(\n",
    "    (30,263),\n",
    "    \"4. \" + polistring(str_4, simbol_count),\n",
    "    fill=('#8cc63f'),\n",
    "    font = font\n",
    "    )\n",
    "draw_text.text(\n",
    "    (30,323),\n",
    "    \"5. \" + polistring(str_5, simbol_count),\n",
    "    fill=('#0081ab'),\n",
    "    font = font\n",
    "    )\n",
    "draw_text.text(\n",
    "    (610,365),\n",
    "    now,\n",
    "    fill=('#ffffff'),\n",
    "    font = font_date\n",
    "    )\n",
    "im.show()"
   ]
  },
  {
   "cell_type": "code",
   "execution_count": 54,
   "metadata": {},
   "outputs": [],
   "source": [
    "im_r = Image.open(\"C:/work/new_bot/bot1py/img/test_img.png\")\n",
    "draw_text = ImageDraw.Draw(im_r)\n",
    "simbol_count = 64\n",
    "str_r = \"Одним словом, на бланк-подолжку можно поместить любой требуемый текст. Если названия показателей не меняются, меняется только значение - значительно проще. Если меняется весть текст целиком (например, перечень чего-нибудь) нескольтко сложнее, но решаемо. Где-то так. Трабл только лишь в том, что всё это великолепие должно постоянно жить на каком-то сервере, а иначе с чего бы ему работать? Разослал и забыл не получится.\"\n",
    "draw_text.text(\n",
    "    (25,83),\n",
    "    polistring(str_r, simbol_count),\n",
    "    fill=('#ffffff'),\n",
    "    font = font\n",
    "    )\n",
    "im_r.save(\"C:/work/new_bot/bot1py/img/r_img.png\")\n",
    "im_r.show()"
   ]
  },
  {
   "cell_type": "code",
   "execution_count": 75,
   "metadata": {},
   "outputs": [],
   "source": [
    "text_color_dict = {\n",
    "    1: \"#ffffff\",\n",
    "    2: \"#9933cc\",\n",
    "    3: \"#ff0000\",\n",
    "    4: \"#f4731c\",\n",
    "    5: \"#8cc63f\",\n",
    "    6: \"#0081ab\",\n",
    "}\n",
    "title_dict = {\n",
    "    1: \"ПОЛОЖЕНИЕ ДЕЛ В ЭТОЙ СФЕРЕ\",\n",
    "    2: \"ЧЕГО ПЛАНИРУЕМ МЫ ДОСТИЧЬ\",\n",
    "    3: \"КАК НАМ РЕОГРАНИЗОВАТЬ РАБКРИН\",\n",
    "    4: \"КТО ВИНОВАТ?\",\n",
    "    5: \"ЧТО ДЕЛАТЬ?\",\n",
    "    6: \"ВОСПРОИЗВОДСТВО МЫШЕЙ\",\n",
    "}\n",
    "text_string_list = [str_1, str_2, str_3, str_4, str_5]\n",
    "line = 0\n",
    "\n",
    "# делаем шаблоны сообщений\n"
   ]
  },
  {
   "cell_type": "code",
   "execution_count": 8,
   "metadata": {},
   "outputs": [],
   "source": [
    "im_1 = im.copy()\n",
    "im_1.show()"
   ]
  },
  {
   "cell_type": "code",
   "execution_count": 8,
   "metadata": {},
   "outputs": [],
   "source": [
    "# str = \"В этом месте начинающий дизайнер Серёжа решил таки понять, что будет с длинным фрагментом текста, который решительно не поместится на эту вашу картинку. Оно Конечно, порой это непросто. Это не просто, а очень просто. Оно треш и угар во мраке ада, тащемта.\"\n",
    "# str_list = str.split(\" \")\n",
    "# full_List = []\n",
    "# tmp_List = []\n",
    "# str_len = 0\n",
    "# for element in str_list:\n",
    "#     str_len += len(element)\n",
    "#     if str_len < 55:\n",
    "#         tmp_List.append(element)\n",
    "#     else:\n",
    "#         tmp_List.append(element)\n",
    "#         full_List.append(tmp_List)\n",
    "#         tmp_List = []\n",
    "#         str_len = 0\n",
    "# # end_list = [x for x in str.split(\" \") + sum(full_List, []) if x not in str.split(\" \") or x not in sum(full_List, [])]\n",
    "# # end_list = [i for i in str.split(\" \") if not i in sum(full_List, []) or sum(full_List, []).remove(i)]\n",
    "# end_list = str.split(\" \")[len(sum(full_List, [])):]\n",
    "# if not not end_list:\n",
    "#     full_List.append(end_list)\n",
    "# strings = [\" \".join(x) for x in full_List]\n",
    "# \"\\n\".join(strings)\n"
   ]
  },
  {
   "cell_type": "code",
   "execution_count": 9,
   "metadata": {},
   "outputs": [],
   "source": [
    "\n",
    "im.save(\"C:/work/new_bot/bot1py/img/result_img.png\")"
   ]
  },
  {
   "cell_type": "code",
   "execution_count": 38,
   "metadata": {},
   "outputs": [],
   "source": [
    "# отправка в Телеграм\n",
    "# import telepot\n",
    "# bot = telepot.Bot('6171322173:AAFHeWDbAC7uKiByFVauWt6lA-anNTuXH9U')\n",
    "\n",
    "# bot.sendPhoto(1236685176, photo=open('C:/work/new_bot/bot1py/img/result_img.png', 'rb'))\n",
    "# bot.sendPhoto(-1001703020082, photo=open('C:/work/new_bot/bot1py/img/result_img.png', 'rb')) # это канал Чат-бот КЦ МЗ РФ"
   ]
  },
  {
   "cell_type": "markdown",
   "metadata": {},
   "source": [
    "1236685176"
   ]
  },
  {
   "cell_type": "code",
   "execution_count": 26,
   "metadata": {},
   "outputs": [
    {
     "name": "stdout",
     "output_type": "stream",
     "text": [
      "6\n",
      "1\n",
      "6\n",
      "4\n",
      "7\n",
      "5\n",
      "6\n",
      "4\n",
      "1\n",
      "7\n",
      "7\n",
      "4\n",
      "1\n",
      "6\n",
      "3\n"
     ]
    }
   ],
   "source": [
    "# DoctorApBot\n",
    "import telebot\n",
    "from telebot import types\n",
    "\n",
    "bot = telebot.TeleBot('7213028141:AAGztt3IBI8wDipz_gmXmbNhVagpnDqfwzU')\n",
    "# Команда start\n",
    "# @bot.message_handler(commands=[\"start\"])\n",
    "# def start(m, res=False):\n",
    "#         # Добавляем nhb кнопки\n",
    "#         markup=types.ReplyKeyboardMarkup(resize_keyboard=True)\n",
    "#         item1=types.KeyboardButton(\"Пустой бланк\")\n",
    "#         item2=types.KeyboardButton(\"Красивая картинка\")\n",
    "#         item3=types.KeyboardButton(\"Резюме\")\n",
    "#         markup.add(item1)\n",
    "#         markup.add(item2)\n",
    "#         markup.add(item3)\n",
    "#         bot.send_message(m.chat.id, 'Нажми: \\nПустой бланк для получения пустого бланка\\nКрасивая картинка для получения бланка с информацией\\nРезюме для получения резюме',  reply_markup=markup)\n",
    "reg_dict = {\"1\": \"Астраханская область\",\n",
    "            \"2\": \"Белгородская область\",\n",
    "            \"3\": \"Брянская область\",\n",
    "            \"4\": \"Владимирская область\",\n",
    "            \"5\": \"Волгоградская область\",\n",
    "            \"6\": \"Вологодская область\",\n",
    "            \"7\": \"Воронежская область\"}\n",
    "@bot.message_handler(commands=[\"1\", \"2\", \"3\", \"4\", \"5\", \"6\", \"7\"])\n",
    "def start(m, res=False):\n",
    "        region_number = m.text.strip().replace('/', '')\n",
    "        print(region_number)\n",
    "        # Добавляем 3 кнопки\n",
    "        markup=types.ReplyKeyboardMarkup(resize_keyboard=True)\n",
    "        item1=types.KeyboardButton(\"Пустой бланк\")\n",
    "        item2=types.KeyboardButton(\"Красивая картинка\")\n",
    "        item3=types.KeyboardButton(\"Резюме\")\n",
    "        markup.add(item1)\n",
    "        markup.add(item2)\n",
    "        markup.add(item3)\n",
    "        bot.send_message(m.chat.id, reg_dict[region_number],  reply_markup=markup)\n",
    "\n",
    "# Получение сообщений от юзера\n",
    "@bot.message_handler(content_types=[\"text\"])\n",
    "def handle_text(message):\n",
    "        if message.text.strip() == 'Пустой бланк' :\n",
    "                answer = open('C:/work/new_bot/bot1py/img/test_img.png', 'rb')\n",
    "        elif message.text.strip() == 'Красивая картинка':\n",
    "                answer = open('C:/work/new_bot/bot1py/img/result_img.png', 'rb')\n",
    "        elif message.text.strip() == 'Резюме':\n",
    "                answer = open('C:/work/new_bot/bot1py/img/r_img.png', 'rb')\n",
    "        elif message.text.strip() == 'Алтайский край':\n",
    "                answer = open('C:/work/new_bot/bot1py/img/test_img_0.png', 'rb')\n",
    "    # Отсылаем юзеру сообщение в его чат\n",
    "        bot.send_photo(message.chat.id, answer)\n",
    "# Запускаем бота\n",
    "bot.polling(none_stop=True, interval=0)"
   ]
  }
 ],
 "metadata": {
  "kernelspec": {
   "display_name": "Python 3",
   "language": "python",
   "name": "python3"
  },
  "language_info": {
   "codemirror_mode": {
    "name": "ipython",
    "version": 3
   },
   "file_extension": ".py",
   "mimetype": "text/x-python",
   "name": "python",
   "nbconvert_exporter": "python",
   "pygments_lexer": "ipython3",
   "version": "3.11.9"
  }
 },
 "nbformat": 4,
 "nbformat_minor": 2
}
