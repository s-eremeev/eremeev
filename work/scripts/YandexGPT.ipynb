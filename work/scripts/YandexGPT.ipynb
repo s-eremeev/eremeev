{
 "cells": [
  {
   "cell_type": "markdown",
   "metadata": {},
   "source": [
    "# **YandexGPT**\n",
    "![alt text](i.png)"
   ]
  },
  {
   "cell_type": "code",
   "execution_count": 2,
   "metadata": {},
   "outputs": [],
   "source": [
    "from yandexgptlite import YandexGPTLite\n",
    "account = YandexGPTLite('b1g40ih9vkcl3ce44hob', 'y0_AgAAAABDOmatAATuwQAAAAEM6u7IAAA3BzDC5OJHoImEL0vYxPon0E1tfQ')"
   ]
  },
  {
   "cell_type": "markdown",
   "metadata": {},
   "source": [
    "`folder` - это ID папки на Yandex Cloud, в рамках которой вы общаетесь с моделью;   \n",
    "`token` - полученный токен к вашему аккаунту на Яндексе;   \n",
    "`prompt` - основной промпт;   \n",
    "`temperature` - уровень творчества модели от 0 до 1 где 0 это максимально сухо, а 1 - это максимум творчества;   \n",
    "`system_prompt` - системный промпт, где можно указывать стилистику ответа и другие пожелания не загружая основной промпт;   \n",
    "`max_tokens` - ограничение расхода токенов (если кто-то захочет ограничить модель в использовании токенов);   \n",
    "`model` - выбор своей модели: если вы используете дообученную модель, укажите \"ds://<идентификатор_дообученной_модели>\".   "
   ]
  },
  {
   "cell_type": "code",
   "execution_count": 3,
   "metadata": {},
   "outputs": [
    {
     "name": "stdout",
     "output_type": "stream",
     "text": [
      "К сожалению, я не могу дать вам точный ответ на этот вопрос, так как не имею доступа к актуальным данным о смертности в рамках получения помощи по КСГ 23.003 в Чувашии и Удмуртии. Однако, если у вас есть возможность обратиться к официальным источникам, таким как статистические данные или отчёты медицинских организаций, вы сможете найти более точную информацию о смертности в этих регионах.\n",
      "\n",
      "Обратите внимание, что КСГ 23.003 может относиться к определённой категории медицинской помощи, и для получения более точной информации о смертности в этом контексте, возможно, потребуется обратиться к специалистам в области здравоохранения или изучить соответствующие документы и отчёты.\n"
     ]
    }
   ],
   "source": [
    "text = account.create_completion('где больше умерших в рамках получения помощи по КСГ 23.003 в возрасте 15-49 лет: в чувашии или удмуртии?', '0.6', system_prompt = 'отвечай на русском')\n",
    "print(text)"
   ]
  }
 ],
 "metadata": {
  "kernelspec": {
   "display_name": "Python 3",
   "language": "python",
   "name": "python3"
  },
  "language_info": {
   "codemirror_mode": {
    "name": "ipython",
    "version": 3
   },
   "file_extension": ".py",
   "mimetype": "text/x-python",
   "name": "python",
   "nbconvert_exporter": "python",
   "pygments_lexer": "ipython3",
   "version": "3.11.9"
  }
 },
 "nbformat": 4,
 "nbformat_minor": 2
}
