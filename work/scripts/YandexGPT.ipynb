{
 "cells": [
  {
   "cell_type": "markdown",
   "metadata": {},
   "source": [
    "# **YandexGPT**"
   ]
  },
  {
   "cell_type": "code",
   "execution_count": 5,
   "metadata": {},
   "outputs": [],
   "source": [
    "from yandexgptlite import YandexGPTLite\n",
    "account = YandexGPTLite('b1g40ih9vkcl3ce44hob', 'y0_AgAAAABDOmatAATuwQAAAAEM6u7IAAA3BzDC5OJHoImEL0vYxPon0E1tfQ')"
   ]
  },
  {
   "cell_type": "markdown",
   "metadata": {},
   "source": [
    "`folder` - это ID папки на Yandex Cloud, в рамках которой вы общаетесь с моделью;   \n",
    "`token` - полученный токен к вашему аккаунту на Яндексе;   \n",
    "`prompt` - основной промпт;   \n",
    "`temperature` - уровень творчества модели от 0 до 1 где 0 это максимально сухо, а 1 - это максимум творчества;   \n",
    "`system_prompt` - системный промпт, где можно указывать стилистику ответа и другие пожелания не загружая основной промпт;   \n",
    "`max_tokens` - ограничение расхода токенов (если кто-то захочет ограничить модель в использовании токенов);   \n",
    "`model` - выбор своей модели: если вы используете дообученную модель, укажите \"ds://<идентификатор_дообученной_модели>\".   "
   ]
  },
  {
   "cell_type": "code",
   "execution_count": 7,
   "metadata": {},
   "outputs": [
    {
     "name": "stdout",
     "output_type": "stream",
     "text": [
      "Всё будет хорошо! Желаю вам прекрасного дня, наполненного радостью и удачей! Вы заслуживаете счастья, поэтому верьте в себя и смело идите к своим целям. У вас всё получится!\n"
     ]
    }
   ],
   "source": [
    "text = account.create_completion('скажи мне что-нибудь хорошее', '0.6', system_prompt = 'отвечай на русском')\n",
    "print(text)"
   ]
  }
 ],
 "metadata": {
  "kernelspec": {
   "display_name": "Python 3",
   "language": "python",
   "name": "python3"
  },
  "language_info": {
   "codemirror_mode": {
    "name": "ipython",
    "version": 3
   },
   "file_extension": ".py",
   "mimetype": "text/x-python",
   "name": "python",
   "nbconvert_exporter": "python",
   "pygments_lexer": "ipython3",
   "version": "3.11.9"
  }
 },
 "nbformat": 4,
 "nbformat_minor": 2
}
