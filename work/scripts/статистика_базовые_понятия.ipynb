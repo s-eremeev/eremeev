{
  "cells": [
    {
      "cell_type": "markdown",
      "id": "204d7f8a-17cc-4960-8acf-211311071e94",
      "metadata": {
        "id": "204d7f8a-17cc-4960-8acf-211311071e94"
      },
      "source": [
        "# **Отчёт о выполнении домашнего задания к лекции «Базовые понятия статистики»**\n",
        "![](https://drive.google.com/uc?export=view&id=185xljuXFwrUYcKAr9GNCcwMb10NaPgb5)"
      ]
    },
    {
      "cell_type": "code",
      "execution_count": null,
      "id": "cb5f8443-83ea-430e-8a5f-5f78de6f7822",
      "metadata": {
        "id": "cb5f8443-83ea-430e-8a5f-5f78de6f7822"
      },
      "outputs": [],
      "source": [
        "import pandas as pd\n",
        "import numpy as np\n",
        "import seaborn as sns\n",
        "\n",
        "%load_ext lab_black"
      ]
    },
    {
      "cell_type": "markdown",
      "id": "686ae90a-2cd3-4987-8f79-d9d88f41cbab",
      "metadata": {
        "id": "686ae90a-2cd3-4987-8f79-d9d88f41cbab"
      },
      "source": [
        "<div class=\"alert alert-block alert-info\">\n",
        "\n",
        "## **Задание 1. Загрузка данных**"
      ]
    },
    {
      "cell_type": "markdown",
      "id": "3e1e1a2f-588e-47b6-8931-644cb19ad200",
      "metadata": {
        "id": "3e1e1a2f-588e-47b6-8931-644cb19ad200"
      },
      "source": [
        "### Изучить представленный набор данных на основе [описания его столбцов](https://raw.githubusercontent.com/obulygin/pyda_homeworks/master/statistics_basics/horse_data.names), загрузить его и оставить 8 столбцов для дальнейшего изучения: surgery, age, rectal temperature, pulse, respiratory rate, temperature of extremities, pain, outcome."
      ]
    },
    {
      "cell_type": "code",
      "execution_count": null,
      "id": "b5f2d6ee-80de-4805-9c7f-5f78e7b17e56",
      "metadata": {
        "id": "b5f2d6ee-80de-4805-9c7f-5f78e7b17e56"
      },
      "outputs": [],
      "source": [
        "# загрузка данных\n",
        "df_horse = pd.read_csv(\n",
        "    \"/home/sk27/learning/STPY-37/bcs/data/horse_data.csv\",\n",
        "    dtype={24: \"object\", 25: \"object\", 26: \"object\"},\n",
        "    sep=\",\",\n",
        "    na_values=\"?\",\n",
        ").apply(pd.to_numeric, errors=\"ignore\")"
      ]
    },
    {
      "cell_type": "markdown",
      "id": "9ed62518-437b-4a39-ac16-ca3a85f0768c",
      "metadata": {
        "id": "9ed62518-437b-4a39-ac16-ca3a85f0768c"
      },
      "source": [
        "### Описание используемых столбцов на русском языке:\n",
        "- surgery: хирургическое вмешательство (1 - да, 2 - лечение без хирургического вмешательства);   \n",
        "- age: возраст лошади, лет (1 - взрослая лошадь, 9 - молодая(< 6 месяцев));\n",
        "- rectal_temperature: температура, ищмеренная в прямой кишке, градусов Цельсия;\n",
        "- pulse: пульс, ударов в минуту;\n",
        "- respiratory rate: частота дыхания, вдохов-выдохов в минуту;\n",
        "- temperature of extremities: температрура каонечностей (1 - нормальные, 2 - горячие, 3 - прохладные, 4 - холодные);\n",
        "- pain: субъективное суждение об уровне боли лошади (1 - возбуждена при отсутствии боли, 2 - подавленое состояние, 3 - периодическая легкая боль, 4 - периодическая сильная боль, 5 - непрерывная сильная боль);\n",
        "- outcome: исход (1 - выжила, 2 - погибла, 3 - умершвлена)"
      ]
    },
    {
      "cell_type": "code",
      "execution_count": null,
      "id": "d90df79e-4bb1-44a6-bf45-da09c7bb832d",
      "metadata": {
        "id": "d90df79e-4bb1-44a6-bf45-da09c7bb832d",
        "outputId": "d7ed30e8-8bc0-4aec-eb1c-f161e7fda54f"
      },
      "outputs": [
        {
          "name": "stdout",
          "output_type": "stream",
          "text": [
            "0 surgery\n",
            "1 age\n",
            "2 hospital_number\n",
            "3 rectal_temperature\n",
            "4 pulse\n",
            "5 respiratory_rate\n",
            "6 temperature_extremities\n",
            "7 peripheral_pulse\n",
            "8 mucous_membranes\n",
            "9 capillary_refill_time\n",
            "10 pain\n",
            "11 peristalsis\n",
            "12 abdominal_distension\n",
            "13 nasogastric_tube\n",
            "14 nasogastric_reflux\n",
            "15 nasogastric_reflux_PH\n",
            "16 rectal_examination\n",
            "17 abdomen\n",
            "18 packed_cell_volume\n",
            "19 total_protein\n",
            "20 abdominocentesis_appearance\n",
            "21 abdomcentesis_total_protein\n",
            "22 outcome\n",
            "23 surgical_lesion\n",
            "24 lesion_type_0\n",
            "25 lesion_type_1\n",
            "26 lesion_type_2\n",
            "27 cp_data\n"
          ]
        }
      ],
      "source": [
        "# список столбцов исходного dataframe с индексами для удобства дальнейшей работы\n",
        "col = df_horse.columns\n",
        "for index, name in enumerate(col):\n",
        "    print(index, name)"
      ]
    },
    {
      "cell_type": "code",
      "execution_count": null,
      "id": "348363bd-6916-456a-bb58-65c6260beeee",
      "metadata": {
        "id": "348363bd-6916-456a-bb58-65c6260beeee"
      },
      "outputs": [],
      "source": [
        "# отбор необходимых столбцов\n",
        "df_horse = df_horse[[col[0], col[1], col[3], col[4], col[5], col[6], col[10], col[22]]]"
      ]
    },
    {
      "cell_type": "code",
      "execution_count": null,
      "id": "95affb94-2240-48bb-9c25-83fa1f52ccb5",
      "metadata": {
        "id": "95affb94-2240-48bb-9c25-83fa1f52ccb5",
        "outputId": "68ecc708-35af-4225-cc4a-cf12b859969c"
      },
      "outputs": [
        {
          "data": {
            "text/html": [
              "<div><div id=4cc928cb-81f3-4e68-a578-f2a624b4e950 style=\"display:none; background-color:#9D6CFF; color:white; width:200px; height:30px; padding-left:5px; border-radius:4px; flex-direction:row; justify-content:space-around; align-items:center;\" onmouseover=\"this.style.backgroundColor='#BA9BF8'\" onmouseout=\"this.style.backgroundColor='#9D6CFF'\" onclick=\"window.commands?.execute('create-mitosheet-from-dataframe-output');\">See Full Dataframe in Mito</div> <script> if (window.commands?.hasCommand('create-mitosheet-from-dataframe-output')) document.getElementById('4cc928cb-81f3-4e68-a578-f2a624b4e950').style.display = 'flex' </script> <table border=\"1\" class=\"dataframe\">\n",
              "  <thead>\n",
              "    <tr style=\"text-align: right;\">\n",
              "      <th></th>\n",
              "      <th>surgery</th>\n",
              "      <th>age</th>\n",
              "      <th>rectal_temperature</th>\n",
              "      <th>pulse</th>\n",
              "      <th>respiratory_rate</th>\n",
              "      <th>temperature_extremities</th>\n",
              "      <th>pain</th>\n",
              "      <th>outcome</th>\n",
              "    </tr>\n",
              "  </thead>\n",
              "  <tbody>\n",
              "    <tr>\n",
              "      <th>0</th>\n",
              "      <td>2.0</td>\n",
              "      <td>1</td>\n",
              "      <td>38.5</td>\n",
              "      <td>66.0</td>\n",
              "      <td>28.0</td>\n",
              "      <td>3.0</td>\n",
              "      <td>5.0</td>\n",
              "      <td>2.0</td>\n",
              "    </tr>\n",
              "    <tr>\n",
              "      <th>1</th>\n",
              "      <td>1.0</td>\n",
              "      <td>1</td>\n",
              "      <td>39.2</td>\n",
              "      <td>88.0</td>\n",
              "      <td>20.0</td>\n",
              "      <td>NaN</td>\n",
              "      <td>3.0</td>\n",
              "      <td>3.0</td>\n",
              "    </tr>\n",
              "    <tr>\n",
              "      <th>2</th>\n",
              "      <td>2.0</td>\n",
              "      <td>1</td>\n",
              "      <td>38.3</td>\n",
              "      <td>40.0</td>\n",
              "      <td>24.0</td>\n",
              "      <td>1.0</td>\n",
              "      <td>3.0</td>\n",
              "      <td>1.0</td>\n",
              "    </tr>\n",
              "    <tr>\n",
              "      <th>3</th>\n",
              "      <td>1.0</td>\n",
              "      <td>9</td>\n",
              "      <td>39.1</td>\n",
              "      <td>164.0</td>\n",
              "      <td>84.0</td>\n",
              "      <td>4.0</td>\n",
              "      <td>2.0</td>\n",
              "      <td>2.0</td>\n",
              "    </tr>\n",
              "    <tr>\n",
              "      <th>4</th>\n",
              "      <td>2.0</td>\n",
              "      <td>1</td>\n",
              "      <td>37.3</td>\n",
              "      <td>104.0</td>\n",
              "      <td>35.0</td>\n",
              "      <td>NaN</td>\n",
              "      <td>NaN</td>\n",
              "      <td>2.0</td>\n",
              "    </tr>\n",
              "    <tr>\n",
              "      <th>...</th>\n",
              "      <td>...</td>\n",
              "      <td>...</td>\n",
              "      <td>...</td>\n",
              "      <td>...</td>\n",
              "      <td>...</td>\n",
              "      <td>...</td>\n",
              "      <td>...</td>\n",
              "      <td>...</td>\n",
              "    </tr>\n",
              "    <tr>\n",
              "      <th>295</th>\n",
              "      <td>1.0</td>\n",
              "      <td>1</td>\n",
              "      <td>NaN</td>\n",
              "      <td>120.0</td>\n",
              "      <td>70.0</td>\n",
              "      <td>4.0</td>\n",
              "      <td>2.0</td>\n",
              "      <td>3.0</td>\n",
              "    </tr>\n",
              "    <tr>\n",
              "      <th>296</th>\n",
              "      <td>2.0</td>\n",
              "      <td>1</td>\n",
              "      <td>37.2</td>\n",
              "      <td>72.0</td>\n",
              "      <td>24.0</td>\n",
              "      <td>3.0</td>\n",
              "      <td>4.0</td>\n",
              "      <td>3.0</td>\n",
              "    </tr>\n",
              "    <tr>\n",
              "      <th>297</th>\n",
              "      <td>1.0</td>\n",
              "      <td>1</td>\n",
              "      <td>37.5</td>\n",
              "      <td>72.0</td>\n",
              "      <td>30.0</td>\n",
              "      <td>4.0</td>\n",
              "      <td>4.0</td>\n",
              "      <td>2.0</td>\n",
              "    </tr>\n",
              "    <tr>\n",
              "      <th>298</th>\n",
              "      <td>1.0</td>\n",
              "      <td>1</td>\n",
              "      <td>36.5</td>\n",
              "      <td>100.0</td>\n",
              "      <td>24.0</td>\n",
              "      <td>3.0</td>\n",
              "      <td>3.0</td>\n",
              "      <td>1.0</td>\n",
              "    </tr>\n",
              "    <tr>\n",
              "      <th>299</th>\n",
              "      <td>1.0</td>\n",
              "      <td>1</td>\n",
              "      <td>37.2</td>\n",
              "      <td>40.0</td>\n",
              "      <td>20.0</td>\n",
              "      <td>NaN</td>\n",
              "      <td>NaN</td>\n",
              "      <td>3.0</td>\n",
              "    </tr>\n",
              "  </tbody>\n",
              "</table></div>"
            ],
            "text/plain": [
              "     surgery  age  rectal_temperature  pulse  respiratory_rate  \\\n",
              "0        2.0    1                38.5   66.0              28.0   \n",
              "1        1.0    1                39.2   88.0              20.0   \n",
              "2        2.0    1                38.3   40.0              24.0   \n",
              "3        1.0    9                39.1  164.0              84.0   \n",
              "4        2.0    1                37.3  104.0              35.0   \n",
              "..       ...  ...                 ...    ...               ...   \n",
              "295      1.0    1                 NaN  120.0              70.0   \n",
              "296      2.0    1                37.2   72.0              24.0   \n",
              "297      1.0    1                37.5   72.0              30.0   \n",
              "298      1.0    1                36.5  100.0              24.0   \n",
              "299      1.0    1                37.2   40.0              20.0   \n",
              "\n",
              "     temperature_extremities  pain  outcome  \n",
              "0                        3.0   5.0      2.0  \n",
              "1                        NaN   3.0      3.0  \n",
              "2                        1.0   3.0      1.0  \n",
              "3                        4.0   2.0      2.0  \n",
              "4                        NaN   NaN      2.0  \n",
              "..                       ...   ...      ...  \n",
              "295                      4.0   2.0      3.0  \n",
              "296                      3.0   4.0      3.0  \n",
              "297                      4.0   4.0      2.0  \n",
              "298                      3.0   3.0      1.0  \n",
              "299                      NaN   NaN      3.0  \n",
              "\n",
              "[300 rows x 8 columns]"
            ]
          },
          "execution_count": 5,
          "metadata": {},
          "output_type": "execute_result"
        }
      ],
      "source": [
        "df_horse"
      ]
    },
    {
      "cell_type": "code",
      "execution_count": null,
      "id": "292800be-8c53-4ac6-bff1-765dc840f2c6",
      "metadata": {
        "id": "292800be-8c53-4ac6-bff1-765dc840f2c6",
        "outputId": "6472b7de-56bf-48cf-cd7e-cea19652249d"
      },
      "outputs": [
        {
          "name": "stdout",
          "output_type": "stream",
          "text": [
            "<class 'pandas.core.frame.DataFrame'>\n",
            "RangeIndex: 300 entries, 0 to 299\n",
            "Data columns (total 8 columns):\n",
            " #   Column                   Non-Null Count  Dtype  \n",
            "---  ------                   --------------  -----  \n",
            " 0   surgery                  299 non-null    float64\n",
            " 1   age                      300 non-null    int64  \n",
            " 2   rectal_temperature       240 non-null    float64\n",
            " 3   pulse                    276 non-null    float64\n",
            " 4   respiratory_rate         242 non-null    float64\n",
            " 5   temperature_extremities  244 non-null    float64\n",
            " 6   pain                     245 non-null    float64\n",
            " 7   outcome                  299 non-null    float64\n",
            "dtypes: float64(7), int64(1)\n",
            "memory usage: 18.9 KB\n"
          ]
        }
      ],
      "source": [
        "df_horse.info()"
      ]
    },
    {
      "cell_type": "markdown",
      "id": "645a11b2-3490-4f04-a726-1c6008335982",
      "metadata": {
        "id": "645a11b2-3490-4f04-a726-1c6008335982"
      },
      "source": [
        "### Исходя из физического смысла показателей во всех столбцах, помимо rectal_temperature, должны быть целочисленные значения. Однако наличие пустых значений и имеющиеся ограничения не позволяют это сделать прямо сейчас без ненужного усложнения."
      ]
    },
    {
      "cell_type": "markdown",
      "id": "bd2737ce-7426-475d-8410-a7d4e9a4a653",
      "metadata": {
        "id": "bd2737ce-7426-475d-8410-a7d4e9a4a653"
      },
      "source": [
        "<div class=\"alert alert-block alert-info\">\n",
        "\n",
        "## **Задание 2. Первичное изучение данных**"
      ]
    },
    {
      "cell_type": "markdown",
      "id": "090d4a6e-845a-4b94-904b-005744919313",
      "metadata": {
        "id": "090d4a6e-845a-4b94-904b-005744919313"
      },
      "source": [
        "### Проанализировать значения по столбцам, рассчитать базовые статистики, найти выбросы."
      ]
    },
    {
      "cell_type": "markdown",
      "id": "03f92804-2b46-40c1-9f4d-0945ba693ec5",
      "metadata": {
        "id": "03f92804-2b46-40c1-9f4d-0945ba693ec5"
      },
      "source": [
        "### 2.1. Базовые статистики"
      ]
    },
    {
      "cell_type": "code",
      "execution_count": null,
      "id": "1c09e415-68fd-4d19-85a9-09c5e162a4bf",
      "metadata": {
        "id": "1c09e415-68fd-4d19-85a9-09c5e162a4bf"
      },
      "outputs": [],
      "source": [
        "# метод describe() позволяет получить только чать основных статистик, напишем свою функцию\n",
        "def bs(df):\n",
        "    \"\"\"функция возвращает значения базовых статистик для всех столбцов заданного фрейма данных\"\"\"\n",
        "    df_stat = pd.DataFrame()\n",
        "    col = df.columns\n",
        "    for column in col:\n",
        "        row = {\n",
        "            \"column\": column,\n",
        "            \"not_null\": df[column].count(),\n",
        "            \"null_count\": df[column].isna().count() - df[column].count(),\n",
        "            \"min\": df[column].min(),\n",
        "            \"max\": df[column].max(),\n",
        "            \"range\": df[column].max() - df[column].min(),\n",
        "            \"mode\": df[column].mode()[0],\n",
        "            \"mean\": df[column].mean(),\n",
        "            \"median\": df[column].median(),\n",
        "            \"std\": df[column].std(),\n",
        "            \"var\": df[column].var(),\n",
        "            \"25%\": df[column].quantile(0.25),\n",
        "            \"75%\": df[column].quantile(0.75),\n",
        "            \"IQR\": df[column].quantile(0.75) - df[column].quantile(0.25),\n",
        "        }\n",
        "        df_stat = pd.concat([df_stat, pd.DataFrame([row])])\n",
        "    return df_stat.reset_index(drop=True)"
      ]
    },
    {
      "cell_type": "code",
      "execution_count": null,
      "id": "dac8462d-9874-41b0-bc80-147df8160c30",
      "metadata": {
        "id": "dac8462d-9874-41b0-bc80-147df8160c30",
        "outputId": "6effeb06-0e40-4a17-929a-330385077366"
      },
      "outputs": [
        {
          "data": {
            "text/html": [
              "<div><div id=e0c20aa1-6af2-47d1-86e4-adbb3dbe643e style=\"display:none; background-color:#9D6CFF; color:white; width:200px; height:30px; padding-left:5px; border-radius:4px; flex-direction:row; justify-content:space-around; align-items:center;\" onmouseover=\"this.style.backgroundColor='#BA9BF8'\" onmouseout=\"this.style.backgroundColor='#9D6CFF'\" onclick=\"window.commands?.execute('create-mitosheet-from-dataframe-output');\">See Full Dataframe in Mito</div> <script> if (window.commands?.hasCommand('create-mitosheet-from-dataframe-output')) document.getElementById('e0c20aa1-6af2-47d1-86e4-adbb3dbe643e').style.display = 'flex' </script> <table border=\"1\" class=\"dataframe\">\n",
              "  <thead>\n",
              "    <tr style=\"text-align: right;\">\n",
              "      <th></th>\n",
              "      <th>column</th>\n",
              "      <th>not_null</th>\n",
              "      <th>null_count</th>\n",
              "      <th>min</th>\n",
              "      <th>max</th>\n",
              "      <th>range</th>\n",
              "      <th>mode</th>\n",
              "      <th>mean</th>\n",
              "      <th>median</th>\n",
              "      <th>std</th>\n",
              "      <th>var</th>\n",
              "      <th>25%</th>\n",
              "      <th>75%</th>\n",
              "      <th>IQR</th>\n",
              "    </tr>\n",
              "  </thead>\n",
              "  <tbody>\n",
              "    <tr>\n",
              "      <th>0</th>\n",
              "      <td>surgery</td>\n",
              "      <td>299</td>\n",
              "      <td>1</td>\n",
              "      <td>1.0</td>\n",
              "      <td>2.0</td>\n",
              "      <td>1.0</td>\n",
              "      <td>1.0</td>\n",
              "      <td>1.397993</td>\n",
              "      <td>1.0</td>\n",
              "      <td>0.490305</td>\n",
              "      <td>0.240399</td>\n",
              "      <td>1.0</td>\n",
              "      <td>2.0</td>\n",
              "      <td>1.0</td>\n",
              "    </tr>\n",
              "    <tr>\n",
              "      <th>1</th>\n",
              "      <td>age</td>\n",
              "      <td>300</td>\n",
              "      <td>0</td>\n",
              "      <td>1.0</td>\n",
              "      <td>9.0</td>\n",
              "      <td>8.0</td>\n",
              "      <td>1.0</td>\n",
              "      <td>1.640000</td>\n",
              "      <td>1.0</td>\n",
              "      <td>2.173972</td>\n",
              "      <td>4.726154</td>\n",
              "      <td>1.0</td>\n",
              "      <td>1.0</td>\n",
              "      <td>0.0</td>\n",
              "    </tr>\n",
              "    <tr>\n",
              "      <th>2</th>\n",
              "      <td>rectal_temperature</td>\n",
              "      <td>240</td>\n",
              "      <td>60</td>\n",
              "      <td>35.4</td>\n",
              "      <td>40.8</td>\n",
              "      <td>5.4</td>\n",
              "      <td>38.0</td>\n",
              "      <td>38.167917</td>\n",
              "      <td>38.2</td>\n",
              "      <td>0.732289</td>\n",
              "      <td>0.536247</td>\n",
              "      <td>37.8</td>\n",
              "      <td>38.5</td>\n",
              "      <td>0.7</td>\n",
              "    </tr>\n",
              "    <tr>\n",
              "      <th>3</th>\n",
              "      <td>pulse</td>\n",
              "      <td>276</td>\n",
              "      <td>24</td>\n",
              "      <td>30.0</td>\n",
              "      <td>184.0</td>\n",
              "      <td>154.0</td>\n",
              "      <td>48.0</td>\n",
              "      <td>71.913043</td>\n",
              "      <td>64.0</td>\n",
              "      <td>28.630557</td>\n",
              "      <td>819.708775</td>\n",
              "      <td>48.0</td>\n",
              "      <td>88.0</td>\n",
              "      <td>40.0</td>\n",
              "    </tr>\n",
              "    <tr>\n",
              "      <th>4</th>\n",
              "      <td>respiratory_rate</td>\n",
              "      <td>242</td>\n",
              "      <td>58</td>\n",
              "      <td>8.0</td>\n",
              "      <td>96.0</td>\n",
              "      <td>88.0</td>\n",
              "      <td>20.0</td>\n",
              "      <td>30.417355</td>\n",
              "      <td>24.5</td>\n",
              "      <td>17.642231</td>\n",
              "      <td>311.248328</td>\n",
              "      <td>18.5</td>\n",
              "      <td>36.0</td>\n",
              "      <td>17.5</td>\n",
              "    </tr>\n",
              "    <tr>\n",
              "      <th>5</th>\n",
              "      <td>temperature_extremities</td>\n",
              "      <td>244</td>\n",
              "      <td>56</td>\n",
              "      <td>1.0</td>\n",
              "      <td>4.0</td>\n",
              "      <td>3.0</td>\n",
              "      <td>3.0</td>\n",
              "      <td>2.348361</td>\n",
              "      <td>3.0</td>\n",
              "      <td>1.045054</td>\n",
              "      <td>1.092137</td>\n",
              "      <td>1.0</td>\n",
              "      <td>3.0</td>\n",
              "      <td>2.0</td>\n",
              "    </tr>\n",
              "    <tr>\n",
              "      <th>6</th>\n",
              "      <td>pain</td>\n",
              "      <td>245</td>\n",
              "      <td>55</td>\n",
              "      <td>1.0</td>\n",
              "      <td>5.0</td>\n",
              "      <td>4.0</td>\n",
              "      <td>3.0</td>\n",
              "      <td>2.951020</td>\n",
              "      <td>3.0</td>\n",
              "      <td>1.307940</td>\n",
              "      <td>1.710706</td>\n",
              "      <td>2.0</td>\n",
              "      <td>4.0</td>\n",
              "      <td>2.0</td>\n",
              "    </tr>\n",
              "    <tr>\n",
              "      <th>7</th>\n",
              "      <td>outcome</td>\n",
              "      <td>299</td>\n",
              "      <td>1</td>\n",
              "      <td>1.0</td>\n",
              "      <td>3.0</td>\n",
              "      <td>2.0</td>\n",
              "      <td>1.0</td>\n",
              "      <td>1.551839</td>\n",
              "      <td>1.0</td>\n",
              "      <td>0.737187</td>\n",
              "      <td>0.543445</td>\n",
              "      <td>1.0</td>\n",
              "      <td>2.0</td>\n",
              "      <td>1.0</td>\n",
              "    </tr>\n",
              "  </tbody>\n",
              "</table></div>"
            ],
            "text/plain": [
              "                    column  not_null  null_count   min    max  range  mode  \\\n",
              "0                  surgery       299           1   1.0    2.0    1.0   1.0   \n",
              "1                      age       300           0   1.0    9.0    8.0   1.0   \n",
              "2       rectal_temperature       240          60  35.4   40.8    5.4  38.0   \n",
              "3                    pulse       276          24  30.0  184.0  154.0  48.0   \n",
              "4         respiratory_rate       242          58   8.0   96.0   88.0  20.0   \n",
              "5  temperature_extremities       244          56   1.0    4.0    3.0   3.0   \n",
              "6                     pain       245          55   1.0    5.0    4.0   3.0   \n",
              "7                  outcome       299           1   1.0    3.0    2.0   1.0   \n",
              "\n",
              "        mean  median        std         var   25%   75%   IQR  \n",
              "0   1.397993     1.0   0.490305    0.240399   1.0   2.0   1.0  \n",
              "1   1.640000     1.0   2.173972    4.726154   1.0   1.0   0.0  \n",
              "2  38.167917    38.2   0.732289    0.536247  37.8  38.5   0.7  \n",
              "3  71.913043    64.0  28.630557  819.708775  48.0  88.0  40.0  \n",
              "4  30.417355    24.5  17.642231  311.248328  18.5  36.0  17.5  \n",
              "5   2.348361     3.0   1.045054    1.092137   1.0   3.0   2.0  \n",
              "6   2.951020     3.0   1.307940    1.710706   2.0   4.0   2.0  \n",
              "7   1.551839     1.0   0.737187    0.543445   1.0   2.0   1.0  "
            ]
          },
          "execution_count": 8,
          "metadata": {},
          "output_type": "execute_result"
        }
      ],
      "source": [
        "bs(df_horse)"
      ]
    },
    {
      "cell_type": "markdown",
      "id": "aef6442c-dd8d-4373-a5c5-52f5a1131268",
      "metadata": {
        "id": "aef6442c-dd8d-4373-a5c5-52f5a1131268"
      },
      "source": [
        "### 2.2. Оценка выбросов"
      ]
    },
    {
      "cell_type": "code",
      "execution_count": null,
      "id": "128dea97-61b4-4fca-bfcb-b62f8ad8f8aa",
      "metadata": {
        "id": "128dea97-61b4-4fca-bfcb-b62f8ad8f8aa",
        "outputId": "e0abf439-de3f-4d9d-ff9a-d1d4e018dbf1"
      },
      "outputs": [
        {
          "data": {
            "image/png": "[encoded data removed]",
            "text/plain": [
              "<Figure size 640x480 with 1 Axes>"
            ]
          },
          "metadata": {},
          "output_type": "display_data"
        }
      ],
      "source": [
        "df_horse[\n",
        "    [\n",
        "        \"pulse\",\n",
        "        \"respiratory_rate\",\n",
        "    ]\n",
        "].plot(kind=\"box\", title=\"оценка выбросов (pulse, respiratory_rate)\", grid=True)"
      ]
    },
    {
      "cell_type": "code",
      "execution_count": null,
      "id": "4339aba7-1f09-4b60-9ed7-02ff8fe1805f",
      "metadata": {
        "id": "4339aba7-1f09-4b60-9ed7-02ff8fe1805f",
        "outputId": "d2dae87d-5ffd-47c3-adec-6fffbbde9182"
      },
      "outputs": [
        {
          "data": {
            "image/png": "[encoded data removed]",
            "text/plain": [
              "<Figure size 640x480 with 1 Axes>"
            ]
          },
          "metadata": {},
          "output_type": "display_data"
        }
      ],
      "source": [
        "df_horse[\"rectal_temperature\"].plot(\n",
        "    kind=\"box\", title=\"оценка выбросов (rectal_temperature)\", grid=True\n",
        ")"
      ]
    },
    {
      "cell_type": "markdown",
      "id": "f9c30f18-0fba-49e1-b502-dd63fcb114c8",
      "metadata": {
        "id": "f9c30f18-0fba-49e1-b502-dd63fcb114c8"
      },
      "source": [
        "### Оценка выбросов по столбцам surgery, age, temperature_extremities, pain, outcome, содержащих номинальные данные, не имеет физического смысла."
      ]
    },
    {
      "cell_type": "markdown",
      "id": "e721c19b-2fa4-441b-8a9e-821e7e9a9de0",
      "metadata": {
        "id": "e721c19b-2fa4-441b-8a9e-821e7e9a9de0"
      },
      "source": [
        "<div class=\"alert alert-block alert-info\">\n",
        "\n",
        "## **Задание 3**"
      ]
    },
    {
      "cell_type": "markdown",
      "id": "c5017ab3-5853-4a35-85f6-edd3a72470fa",
      "metadata": {
        "id": "c5017ab3-5853-4a35-85f6-edd3a72470fa"
      },
      "source": [
        "### Рассчитать количество пропусков для всех выбранных столбцов. Принять и обосновать решение о методе заполнения пропусков по каждому столбцу на основе рассчитанных статистик и возможной взаимосвязи значений в них. Сформировать датафрейм, в котором пропуски будут отсутствовать."
      ]
    },
    {
      "cell_type": "markdown",
      "id": "fc2886ea-53f8-4b5b-a264-c40631bdcc34",
      "metadata": {
        "id": "fc2886ea-53f8-4b5b-a264-c40631bdcc34"
      },
      "source": [
        "### 3.1. Количество пропусков"
      ]
    },
    {
      "cell_type": "code",
      "execution_count": null,
      "id": "72b2146a-3128-4881-bc50-e9109a8fc10f",
      "metadata": {
        "id": "72b2146a-3128-4881-bc50-e9109a8fc10f",
        "outputId": "6a537f56-6f0d-4a0e-dd32-6c4320a48359"
      },
      "outputs": [
        {
          "data": {
            "text/html": [
              "<div><div id=070f7d9c-c019-4f68-9b6b-2a7f12849675 style=\"display:none; background-color:#9D6CFF; color:white; width:200px; height:30px; padding-left:5px; border-radius:4px; flex-direction:row; justify-content:space-around; align-items:center;\" onmouseover=\"this.style.backgroundColor='#BA9BF8'\" onmouseout=\"this.style.backgroundColor='#9D6CFF'\" onclick=\"window.commands?.execute('create-mitosheet-from-dataframe-output');\">See Full Dataframe in Mito</div> <script> if (window.commands?.hasCommand('create-mitosheet-from-dataframe-output')) document.getElementById('070f7d9c-c019-4f68-9b6b-2a7f12849675').style.display = 'flex' </script> <table border=\"1\" class=\"dataframe\">\n",
              "  <thead>\n",
              "    <tr style=\"text-align: right;\">\n",
              "      <th></th>\n",
              "      <th>column</th>\n",
              "      <th>null_count</th>\n",
              "      <th>null_ratio, %</th>\n",
              "    </tr>\n",
              "  </thead>\n",
              "  <tbody>\n",
              "    <tr>\n",
              "      <th>0</th>\n",
              "      <td>surgery</td>\n",
              "      <td>1</td>\n",
              "      <td>0.33</td>\n",
              "    </tr>\n",
              "    <tr>\n",
              "      <th>1</th>\n",
              "      <td>age</td>\n",
              "      <td>0</td>\n",
              "      <td>0.00</td>\n",
              "    </tr>\n",
              "    <tr>\n",
              "      <th>2</th>\n",
              "      <td>rectal_temperature</td>\n",
              "      <td>60</td>\n",
              "      <td>20.00</td>\n",
              "    </tr>\n",
              "    <tr>\n",
              "      <th>3</th>\n",
              "      <td>pulse</td>\n",
              "      <td>24</td>\n",
              "      <td>8.00</td>\n",
              "    </tr>\n",
              "    <tr>\n",
              "      <th>4</th>\n",
              "      <td>respiratory_rate</td>\n",
              "      <td>58</td>\n",
              "      <td>19.33</td>\n",
              "    </tr>\n",
              "    <tr>\n",
              "      <th>5</th>\n",
              "      <td>temperature_extremities</td>\n",
              "      <td>56</td>\n",
              "      <td>18.67</td>\n",
              "    </tr>\n",
              "    <tr>\n",
              "      <th>6</th>\n",
              "      <td>pain</td>\n",
              "      <td>55</td>\n",
              "      <td>18.33</td>\n",
              "    </tr>\n",
              "    <tr>\n",
              "      <th>7</th>\n",
              "      <td>outcome</td>\n",
              "      <td>1</td>\n",
              "      <td>0.33</td>\n",
              "    </tr>\n",
              "  </tbody>\n",
              "</table></div>"
            ],
            "text/plain": [
              "                    column  null_count  null_ratio, %\n",
              "0                  surgery           1           0.33\n",
              "1                      age           0           0.00\n",
              "2       rectal_temperature          60          20.00\n",
              "3                    pulse          24           8.00\n",
              "4         respiratory_rate          58          19.33\n",
              "5  temperature_extremities          56          18.67\n",
              "6                     pain          55          18.33\n",
              "7                  outcome           1           0.33"
            ]
          },
          "execution_count": 12,
          "metadata": {},
          "output_type": "execute_result"
        }
      ],
      "source": [
        "df_isna = pd.DataFrame()\n",
        "col_new = df_horse.columns\n",
        "for column in col_new:\n",
        "    row = {\n",
        "        \"column\": column,\n",
        "        \"null_count\": df_horse[column].isna().count() - df_horse[column].count(),\n",
        "        \"null_ratio, %\": (df_horse[column].isna().mean() * 100).round(2),\n",
        "    }\n",
        "    df_isna = pd.concat([df_isna, pd.DataFrame([row])])\n",
        "df_isna.reset_index(drop=True)"
      ]
    },
    {
      "cell_type": "markdown",
      "id": "131d6ad2-f621-461f-bf01-b103371238c9",
      "metadata": {
        "id": "131d6ad2-f621-461f-bf01-b103371238c9"
      },
      "source": [
        "### 3.2. Заполнение пропусков   \n",
        "Заполнение пропусков данных различными способами, иногда без учёта физического смысла показателей"
      ]
    },
    {
      "cell_type": "markdown",
      "id": "67755568-c406-4156-909b-3da114bc7d40",
      "metadata": {
        "id": "67755568-c406-4156-909b-3da114bc7d40"
      },
      "source": [
        "### Для наглядной оценки линейной взаимосвязи между показателями визуализируем корреляционную матрицу"
      ]
    },
    {
      "cell_type": "code",
      "execution_count": null,
      "id": "0a9700a5-aa67-475d-af77-16ed0113dcab",
      "metadata": {
        "id": "0a9700a5-aa67-475d-af77-16ed0113dcab",
        "outputId": "9d3ce431-bd25-4a79-a0fa-64ac3a2e66aa"
      },
      "outputs": [
        {
          "data": {
            "image/png": "[encoded data removed]",
            "text/plain": [
              "<Figure size 800x600 with 2 Axes>"
            ]
          },
          "metadata": {},
          "output_type": "display_data"
        }
      ],
      "source": [
        "# корреляционная матрица (которая впоследствие нигде не упоминается, хотя и использовалась)\n",
        "cols = [\n",
        "    \"surgery\",\n",
        "    \"age\",\n",
        "    \"rectal_temperature\",\n",
        "    \"pulse\",\n",
        "    \"respiratory_rate\",\n",
        "    \"temperature_extremities\",\n",
        "    \"pain\",\n",
        "    \"outcome\",\n",
        "]\n",
        "sns.set(rc={\"figure.figsize\": (8, 6)})\n",
        "hm = sns.heatmap(df_horse[cols].corr(), cbar=True, annot=True)"
      ]
    },
    {
      "cell_type": "code",
      "execution_count": null,
      "id": "2eca2339-bb1e-4a9c-8471-a19aace690b8",
      "metadata": {
        "id": "2eca2339-bb1e-4a9c-8471-a19aace690b8"
      },
      "outputs": [],
      "source": [
        "df_happy_horse = df_horse.copy()"
      ]
    },
    {
      "cell_type": "markdown",
      "id": "5ba57c30-873f-4a77-a321-214c3b27ff44",
      "metadata": {
        "id": "5ba57c30-873f-4a77-a321-214c3b27ff44"
      },
      "source": [
        "### 3.2.1. Создадим копию набора данных для заполнения пропусков"
      ]
    },
    {
      "cell_type": "code",
      "execution_count": null,
      "id": "2e152e47-2d6c-4199-98d6-4947e88d23a0",
      "metadata": {
        "id": "2e152e47-2d6c-4199-98d6-4947e88d23a0",
        "outputId": "a3711c43-bbb6-497e-8ea6-367ef4e0a561"
      },
      "outputs": [
        {
          "name": "stdout",
          "output_type": "stream",
          "text": [
            "<class 'pandas.core.frame.DataFrame'>\n",
            "RangeIndex: 300 entries, 0 to 299\n",
            "Data columns (total 8 columns):\n",
            " #   Column                   Non-Null Count  Dtype  \n",
            "---  ------                   --------------  -----  \n",
            " 0   surgery                  299 non-null    float64\n",
            " 1   age                      300 non-null    int64  \n",
            " 2   rectal_temperature       240 non-null    float64\n",
            " 3   pulse                    276 non-null    float64\n",
            " 4   respiratory_rate         242 non-null    float64\n",
            " 5   temperature_extremities  244 non-null    float64\n",
            " 6   pain                     245 non-null    float64\n",
            " 7   outcome                  299 non-null    float64\n",
            "dtypes: float64(7), int64(1)\n",
            "memory usage: 18.9 KB\n"
          ]
        }
      ],
      "source": [
        "df_happy_horse.info()"
      ]
    },
    {
      "cell_type": "markdown",
      "id": "7b0a149f-040f-43da-b691-ed4aa06ee029",
      "metadata": {
        "id": "7b0a149f-040f-43da-b691-ed4aa06ee029"
      },
      "source": [
        "### 3.2.2. В одном случае отсутствует информация о хирургическом вмешательстве (было или нет)"
      ]
    },
    {
      "cell_type": "code",
      "execution_count": null,
      "id": "fefcb1d4-530d-4fd9-9478-4441960db3b8",
      "metadata": {
        "id": "fefcb1d4-530d-4fd9-9478-4441960db3b8",
        "outputId": "bfd878c4-bfff-4303-f5c3-579d33dc00bb"
      },
      "outputs": [
        {
          "data": {
            "text/html": [
              "<div><div id=68103d92-6d61-467a-82be-791027e3ab75 style=\"display:none; background-color:#9D6CFF; color:white; width:200px; height:30px; padding-left:5px; border-radius:4px; flex-direction:row; justify-content:space-around; align-items:center;\" onmouseover=\"this.style.backgroundColor='#BA9BF8'\" onmouseout=\"this.style.backgroundColor='#9D6CFF'\" onclick=\"window.commands?.execute('create-mitosheet-from-dataframe-output');\">See Full Dataframe in Mito</div> <script> if (window.commands?.hasCommand('create-mitosheet-from-dataframe-output')) document.getElementById('68103d92-6d61-467a-82be-791027e3ab75').style.display = 'flex' </script> <table border=\"1\" class=\"dataframe\">\n",
              "  <thead>\n",
              "    <tr style=\"text-align: right;\">\n",
              "      <th></th>\n",
              "      <th>surgery</th>\n",
              "      <th>age</th>\n",
              "      <th>rectal_temperature</th>\n",
              "      <th>pulse</th>\n",
              "      <th>respiratory_rate</th>\n",
              "      <th>temperature_extremities</th>\n",
              "      <th>pain</th>\n",
              "      <th>outcome</th>\n",
              "    </tr>\n",
              "  </thead>\n",
              "  <tbody>\n",
              "    <tr>\n",
              "      <th>132</th>\n",
              "      <td>NaN</td>\n",
              "      <td>1</td>\n",
              "      <td>38.0</td>\n",
              "      <td>48.0</td>\n",
              "      <td>20.0</td>\n",
              "      <td>3.0</td>\n",
              "      <td>4.0</td>\n",
              "      <td>NaN</td>\n",
              "    </tr>\n",
              "  </tbody>\n",
              "</table></div>"
            ],
            "text/plain": [
              "     surgery  age  rectal_temperature  pulse  respiratory_rate  \\\n",
              "132      NaN    1                38.0   48.0              20.0   \n",
              "\n",
              "     temperature_extremities  pain  outcome  \n",
              "132                      3.0   4.0      NaN  "
            ]
          },
          "execution_count": 16,
          "metadata": {},
          "output_type": "execute_result"
        }
      ],
      "source": [
        "df_happy_horse[df_happy_horse.surgery.isna()]"
      ]
    },
    {
      "cell_type": "markdown",
      "id": "f43fcb0e-4647-4cfc-b46b-ebb364e6eec9",
      "metadata": {
        "id": "f43fcb0e-4647-4cfc-b46b-ebb364e6eec9"
      },
      "source": [
        "#### Предположим, что показания к хирургическому вмешательству обычно сопроводжаются схожими симптомами - температурой, пульсом и частотой дыхания"
      ]
    },
    {
      "cell_type": "code",
      "execution_count": null,
      "id": "3a102bbf-ca7a-4f68-9afe-fffd9dde3d28",
      "metadata": {
        "id": "3a102bbf-ca7a-4f68-9afe-fffd9dde3d28",
        "outputId": "5c75e01c-e288-475d-afcb-a37c00913ffe"
      },
      "outputs": [
        {
          "data": {
            "text/html": [
              "<div><div id=47ef647c-7f16-4795-8a73-46ea9057c064 style=\"display:none; background-color:#9D6CFF; color:white; width:200px; height:30px; padding-left:5px; border-radius:4px; flex-direction:row; justify-content:space-around; align-items:center;\" onmouseover=\"this.style.backgroundColor='#BA9BF8'\" onmouseout=\"this.style.backgroundColor='#9D6CFF'\" onclick=\"window.commands?.execute('create-mitosheet-from-dataframe-output');\">See Full Dataframe in Mito</div> <script> if (window.commands?.hasCommand('create-mitosheet-from-dataframe-output')) document.getElementById('47ef647c-7f16-4795-8a73-46ea9057c064').style.display = 'flex' </script> <table border=\"1\" class=\"dataframe\">\n",
              "  <thead>\n",
              "    <tr style=\"text-align: right;\">\n",
              "      <th></th>\n",
              "      <th>surgery</th>\n",
              "      <th>age</th>\n",
              "      <th>rectal_temperature</th>\n",
              "      <th>pulse</th>\n",
              "      <th>respiratory_rate</th>\n",
              "      <th>temperature_extremities</th>\n",
              "      <th>pain</th>\n",
              "      <th>outcome</th>\n",
              "    </tr>\n",
              "  </thead>\n",
              "  <tbody>\n",
              "    <tr>\n",
              "      <th>132</th>\n",
              "      <td>NaN</td>\n",
              "      <td>1</td>\n",
              "      <td>38.0</td>\n",
              "      <td>48.0</td>\n",
              "      <td>20.0</td>\n",
              "      <td>3.0</td>\n",
              "      <td>4.0</td>\n",
              "      <td>NaN</td>\n",
              "    </tr>\n",
              "    <tr>\n",
              "      <th>155</th>\n",
              "      <td>2.0</td>\n",
              "      <td>1</td>\n",
              "      <td>38.0</td>\n",
              "      <td>48.0</td>\n",
              "      <td>20.0</td>\n",
              "      <td>3.0</td>\n",
              "      <td>1.0</td>\n",
              "      <td>1.0</td>\n",
              "    </tr>\n",
              "  </tbody>\n",
              "</table></div>"
            ],
            "text/plain": [
              "     surgery  age  rectal_temperature  pulse  respiratory_rate  \\\n",
              "132      NaN    1                38.0   48.0              20.0   \n",
              "155      2.0    1                38.0   48.0              20.0   \n",
              "\n",
              "     temperature_extremities  pain  outcome  \n",
              "132                      3.0   4.0      NaN  \n",
              "155                      3.0   1.0      1.0  "
            ]
          },
          "execution_count": 17,
          "metadata": {},
          "output_type": "execute_result"
        }
      ],
      "source": [
        "df_happy_horse[\n",
        "    (df_happy_horse.rectal_temperature == 38)\n",
        "    & (df_happy_horse.pulse == 48)\n",
        "    & (df_happy_horse.respiratory_rate == 20)\n",
        "]"
      ]
    },
    {
      "cell_type": "markdown",
      "id": "b289a426-d672-47c3-9680-59fae464d460",
      "metadata": {
        "id": "b289a426-d672-47c3-9680-59fae464d460"
      },
      "source": [
        "#### В аналогичном случае хирургическое вмешательство не требовалось. Считаем, что в рассматриваемом случае его тоже не было"
      ]
    },
    {
      "cell_type": "code",
      "execution_count": null,
      "id": "07d2d6e1-e032-4cf8-9d0d-3ecc8e32c323",
      "metadata": {
        "id": "07d2d6e1-e032-4cf8-9d0d-3ecc8e32c323"
      },
      "outputs": [],
      "source": [
        "df_happy_horse[\"surgery\"] = df_happy_horse[\"surgery\"].fillna(2)"
      ]
    },
    {
      "cell_type": "markdown",
      "id": "4b471961-aa3a-42c5-8115-3b540ac6fdba",
      "metadata": {
        "id": "4b471961-aa3a-42c5-8115-3b540ac6fdba"
      },
      "source": [
        "### 3.2.3. Заполним данных о температруре значением средней температуры по больнице (понимаю, что чепуха какая-то, но ничего не поделаешь, это традиционная для температуры мера центральной тенденции)"
      ]
    },
    {
      "cell_type": "code",
      "execution_count": null,
      "id": "e14f6817-6da6-43a0-bb31-838857cbbb87",
      "metadata": {
        "id": "e14f6817-6da6-43a0-bb31-838857cbbb87"
      },
      "outputs": [],
      "source": [
        "df_happy_horse[\"rectal_temperature\"] = df_happy_horse[\"rectal_temperature\"].fillna(\n",
        "    df_happy_horse[\"rectal_temperature\"].mean().round(2)\n",
        ")"
      ]
    },
    {
      "cell_type": "markdown",
      "id": "a7e00d62-23f8-4a49-93cf-1c575987fe9f",
      "metadata": {
        "id": "a7e00d62-23f8-4a49-93cf-1c575987fe9f"
      },
      "source": [
        "### 3.2.4. Записи, в которых пропущена практически вся значимая информация"
      ]
    },
    {
      "cell_type": "code",
      "execution_count": null,
      "id": "dfa187f4-0794-4ff8-9621-b0cea0c890ca",
      "metadata": {
        "id": "dfa187f4-0794-4ff8-9621-b0cea0c890ca",
        "outputId": "d805a7b8-4095-41a5-b59e-0fe71e1b757d"
      },
      "outputs": [
        {
          "data": {
            "text/html": [
              "<div><div id=d6bc7030-9aec-447b-9368-66705a02aa50 style=\"display:none; background-color:#9D6CFF; color:white; width:200px; height:30px; padding-left:5px; border-radius:4px; flex-direction:row; justify-content:space-around; align-items:center;\" onmouseover=\"this.style.backgroundColor='#BA9BF8'\" onmouseout=\"this.style.backgroundColor='#9D6CFF'\" onclick=\"window.commands?.execute('create-mitosheet-from-dataframe-output');\">See Full Dataframe in Mito</div> <script> if (window.commands?.hasCommand('create-mitosheet-from-dataframe-output')) document.getElementById('d6bc7030-9aec-447b-9368-66705a02aa50').style.display = 'flex' </script> <table border=\"1\" class=\"dataframe\">\n",
              "  <thead>\n",
              "    <tr style=\"text-align: right;\">\n",
              "      <th></th>\n",
              "      <th>surgery</th>\n",
              "      <th>age</th>\n",
              "      <th>rectal_temperature</th>\n",
              "      <th>pulse</th>\n",
              "      <th>respiratory_rate</th>\n",
              "      <th>temperature_extremities</th>\n",
              "      <th>pain</th>\n",
              "      <th>outcome</th>\n",
              "    </tr>\n",
              "  </thead>\n",
              "  <tbody>\n",
              "    <tr>\n",
              "      <th>28</th>\n",
              "      <td>1.0</td>\n",
              "      <td>1</td>\n",
              "      <td>38.17</td>\n",
              "      <td>NaN</td>\n",
              "      <td>NaN</td>\n",
              "      <td>NaN</td>\n",
              "      <td>NaN</td>\n",
              "      <td>2.0</td>\n",
              "    </tr>\n",
              "    <tr>\n",
              "      <th>56</th>\n",
              "      <td>1.0</td>\n",
              "      <td>1</td>\n",
              "      <td>38.17</td>\n",
              "      <td>NaN</td>\n",
              "      <td>NaN</td>\n",
              "      <td>NaN</td>\n",
              "      <td>NaN</td>\n",
              "      <td>1.0</td>\n",
              "    </tr>\n",
              "    <tr>\n",
              "      <th>74</th>\n",
              "      <td>1.0</td>\n",
              "      <td>9</td>\n",
              "      <td>38.17</td>\n",
              "      <td>NaN</td>\n",
              "      <td>NaN</td>\n",
              "      <td>NaN</td>\n",
              "      <td>NaN</td>\n",
              "      <td>2.0</td>\n",
              "    </tr>\n",
              "    <tr>\n",
              "      <th>160</th>\n",
              "      <td>1.0</td>\n",
              "      <td>1</td>\n",
              "      <td>38.17</td>\n",
              "      <td>NaN</td>\n",
              "      <td>NaN</td>\n",
              "      <td>NaN</td>\n",
              "      <td>4.0</td>\n",
              "      <td>1.0</td>\n",
              "    </tr>\n",
              "    <tr>\n",
              "      <th>175</th>\n",
              "      <td>1.0</td>\n",
              "      <td>1</td>\n",
              "      <td>38.17</td>\n",
              "      <td>NaN</td>\n",
              "      <td>NaN</td>\n",
              "      <td>NaN</td>\n",
              "      <td>NaN</td>\n",
              "      <td>1.0</td>\n",
              "    </tr>\n",
              "    <tr>\n",
              "      <th>207</th>\n",
              "      <td>1.0</td>\n",
              "      <td>1</td>\n",
              "      <td>38.17</td>\n",
              "      <td>NaN</td>\n",
              "      <td>NaN</td>\n",
              "      <td>NaN</td>\n",
              "      <td>NaN</td>\n",
              "      <td>2.0</td>\n",
              "    </tr>\n",
              "    <tr>\n",
              "      <th>216</th>\n",
              "      <td>2.0</td>\n",
              "      <td>1</td>\n",
              "      <td>38.17</td>\n",
              "      <td>NaN</td>\n",
              "      <td>NaN</td>\n",
              "      <td>NaN</td>\n",
              "      <td>NaN</td>\n",
              "      <td>1.0</td>\n",
              "    </tr>\n",
              "    <tr>\n",
              "      <th>227</th>\n",
              "      <td>1.0</td>\n",
              "      <td>9</td>\n",
              "      <td>38.17</td>\n",
              "      <td>NaN</td>\n",
              "      <td>NaN</td>\n",
              "      <td>NaN</td>\n",
              "      <td>NaN</td>\n",
              "      <td>1.0</td>\n",
              "    </tr>\n",
              "    <tr>\n",
              "      <th>288</th>\n",
              "      <td>1.0</td>\n",
              "      <td>1</td>\n",
              "      <td>38.17</td>\n",
              "      <td>NaN</td>\n",
              "      <td>NaN</td>\n",
              "      <td>NaN</td>\n",
              "      <td>NaN</td>\n",
              "      <td>1.0</td>\n",
              "    </tr>\n",
              "  </tbody>\n",
              "</table></div>"
            ],
            "text/plain": [
              "     surgery  age  rectal_temperature  pulse  respiratory_rate  \\\n",
              "28       1.0    1               38.17    NaN               NaN   \n",
              "56       1.0    1               38.17    NaN               NaN   \n",
              "74       1.0    9               38.17    NaN               NaN   \n",
              "160      1.0    1               38.17    NaN               NaN   \n",
              "175      1.0    1               38.17    NaN               NaN   \n",
              "207      1.0    1               38.17    NaN               NaN   \n",
              "216      2.0    1               38.17    NaN               NaN   \n",
              "227      1.0    9               38.17    NaN               NaN   \n",
              "288      1.0    1               38.17    NaN               NaN   \n",
              "\n",
              "     temperature_extremities  pain  outcome  \n",
              "28                       NaN   NaN      2.0  \n",
              "56                       NaN   NaN      1.0  \n",
              "74                       NaN   NaN      2.0  \n",
              "160                      NaN   4.0      1.0  \n",
              "175                      NaN   NaN      1.0  \n",
              "207                      NaN   NaN      2.0  \n",
              "216                      NaN   NaN      1.0  \n",
              "227                      NaN   NaN      1.0  \n",
              "288                      NaN   NaN      1.0  "
            ]
          },
          "execution_count": 20,
          "metadata": {},
          "output_type": "execute_result"
        }
      ],
      "source": [
        "df_unknown_horse = df_happy_horse[\n",
        "    (df_happy_horse.pulse.isna())\n",
        "    & (df_happy_horse.respiratory_rate.isna())\n",
        "    & (df_happy_horse.temperature_extremities.isna())\n",
        "]\n",
        "df_unknown_horse"
      ]
    },
    {
      "cell_type": "markdown",
      "id": "e9aec6f4-6200-4d4b-a21b-dd79ef86a387",
      "metadata": {
        "id": "e9aec6f4-6200-4d4b-a21b-dd79ef86a387"
      },
      "source": [
        "#### Удалим их"
      ]
    },
    {
      "cell_type": "code",
      "execution_count": null,
      "id": "4d149b2b-ee8f-4957-afff-701b068c07a1",
      "metadata": {
        "id": "4d149b2b-ee8f-4957-afff-701b068c07a1"
      },
      "outputs": [],
      "source": [
        "df_happy_horse = df_happy_horse.drop(\n",
        "    df_happy_horse.index[list(df_unknown_horse.index)]\n",
        ").reset_index(drop=True)"
      ]
    },
    {
      "cell_type": "markdown",
      "id": "1818c8b2-341d-423c-9c3a-ec7272f36b9d",
      "metadata": {
        "id": "1818c8b2-341d-423c-9c3a-ec7272f36b9d"
      },
      "source": [
        "### 3.2.5. С единственным пропуском в столбце outcome поступим аналогично пропуску в столбце surgery"
      ]
    },
    {
      "cell_type": "code",
      "execution_count": null,
      "id": "b8a7dda0-afba-4590-b221-56ecbb5298fc",
      "metadata": {
        "id": "b8a7dda0-afba-4590-b221-56ecbb5298fc",
        "outputId": "42d58cdf-48de-44cb-9f2e-ef17a8450ead"
      },
      "outputs": [
        {
          "data": {
            "text/html": [
              "<div><div id=659ddc27-3f63-4ff6-b0bc-86fd55166ab2 style=\"display:none; background-color:#9D6CFF; color:white; width:200px; height:30px; padding-left:5px; border-radius:4px; flex-direction:row; justify-content:space-around; align-items:center;\" onmouseover=\"this.style.backgroundColor='#BA9BF8'\" onmouseout=\"this.style.backgroundColor='#9D6CFF'\" onclick=\"window.commands?.execute('create-mitosheet-from-dataframe-output');\">See Full Dataframe in Mito</div> <script> if (window.commands?.hasCommand('create-mitosheet-from-dataframe-output')) document.getElementById('659ddc27-3f63-4ff6-b0bc-86fd55166ab2').style.display = 'flex' </script> <table border=\"1\" class=\"dataframe\">\n",
              "  <thead>\n",
              "    <tr style=\"text-align: right;\">\n",
              "      <th></th>\n",
              "      <th>surgery</th>\n",
              "      <th>age</th>\n",
              "      <th>rectal_temperature</th>\n",
              "      <th>pulse</th>\n",
              "      <th>respiratory_rate</th>\n",
              "      <th>temperature_extremities</th>\n",
              "      <th>pain</th>\n",
              "      <th>outcome</th>\n",
              "    </tr>\n",
              "  </thead>\n",
              "  <tbody>\n",
              "    <tr>\n",
              "      <th>126</th>\n",
              "      <td>2.0</td>\n",
              "      <td>1</td>\n",
              "      <td>38.0</td>\n",
              "      <td>48.0</td>\n",
              "      <td>20.0</td>\n",
              "      <td>3.0</td>\n",
              "      <td>4.0</td>\n",
              "      <td>NaN</td>\n",
              "    </tr>\n",
              "  </tbody>\n",
              "</table></div>"
            ],
            "text/plain": [
              "     surgery  age  rectal_temperature  pulse  respiratory_rate  \\\n",
              "126      2.0    1                38.0   48.0              20.0   \n",
              "\n",
              "     temperature_extremities  pain  outcome  \n",
              "126                      3.0   4.0      NaN  "
            ]
          },
          "execution_count": 25,
          "metadata": {},
          "output_type": "execute_result"
        }
      ],
      "source": [
        "df_happy_horse[df_happy_horse.outcome.isna()]"
      ]
    },
    {
      "cell_type": "markdown",
      "id": "d35710be-b6d0-4d3b-9854-118e2320b10e",
      "metadata": {
        "id": "d35710be-b6d0-4d3b-9854-118e2320b10e"
      },
      "source": [
        "#### Информацией о болевом синдроме вынужденно придётся пренебречь"
      ]
    },
    {
      "cell_type": "code",
      "execution_count": null,
      "id": "f2f02abf-9e16-4843-a423-2fdebbb80179",
      "metadata": {
        "id": "f2f02abf-9e16-4843-a423-2fdebbb80179",
        "outputId": "844e6f49-c352-4638-dddf-17ba58b07ee5"
      },
      "outputs": [
        {
          "data": {
            "text/html": [
              "<div><div id=fc4a0e26-7bc8-49e9-a62d-c4ef76db16e8 style=\"display:none; background-color:#9D6CFF; color:white; width:200px; height:30px; padding-left:5px; border-radius:4px; flex-direction:row; justify-content:space-around; align-items:center;\" onmouseover=\"this.style.backgroundColor='#BA9BF8'\" onmouseout=\"this.style.backgroundColor='#9D6CFF'\" onclick=\"window.commands?.execute('create-mitosheet-from-dataframe-output');\">See Full Dataframe in Mito</div> <script> if (window.commands?.hasCommand('create-mitosheet-from-dataframe-output')) document.getElementById('fc4a0e26-7bc8-49e9-a62d-c4ef76db16e8').style.display = 'flex' </script> <table border=\"1\" class=\"dataframe\">\n",
              "  <thead>\n",
              "    <tr style=\"text-align: right;\">\n",
              "      <th></th>\n",
              "      <th>surgery</th>\n",
              "      <th>age</th>\n",
              "      <th>rectal_temperature</th>\n",
              "      <th>pulse</th>\n",
              "      <th>respiratory_rate</th>\n",
              "      <th>temperature_extremities</th>\n",
              "      <th>pain</th>\n",
              "      <th>outcome</th>\n",
              "    </tr>\n",
              "  </thead>\n",
              "  <tbody>\n",
              "    <tr>\n",
              "      <th>126</th>\n",
              "      <td>2.0</td>\n",
              "      <td>1</td>\n",
              "      <td>38.0</td>\n",
              "      <td>48.0</td>\n",
              "      <td>20.0</td>\n",
              "      <td>3.0</td>\n",
              "      <td>4.0</td>\n",
              "      <td>NaN</td>\n",
              "    </tr>\n",
              "    <tr>\n",
              "      <th>149</th>\n",
              "      <td>2.0</td>\n",
              "      <td>1</td>\n",
              "      <td>38.0</td>\n",
              "      <td>48.0</td>\n",
              "      <td>20.0</td>\n",
              "      <td>3.0</td>\n",
              "      <td>1.0</td>\n",
              "      <td>1.0</td>\n",
              "    </tr>\n",
              "  </tbody>\n",
              "</table></div>"
            ],
            "text/plain": [
              "     surgery  age  rectal_temperature  pulse  respiratory_rate  \\\n",
              "126      2.0    1                38.0   48.0              20.0   \n",
              "149      2.0    1                38.0   48.0              20.0   \n",
              "\n",
              "     temperature_extremities  pain  outcome  \n",
              "126                      3.0   4.0      NaN  \n",
              "149                      3.0   1.0      1.0  "
            ]
          },
          "execution_count": 26,
          "metadata": {},
          "output_type": "execute_result"
        }
      ],
      "source": [
        "df_happy_horse[\n",
        "    (df_happy_horse.rectal_temperature == 38)\n",
        "    & (df_happy_horse.pulse == 48)\n",
        "    & (df_happy_horse.respiratory_rate == 20)\n",
        "    & (df_happy_horse.surgery == 2)\n",
        "    & (df_happy_horse.age == 1)\n",
        "]"
      ]
    },
    {
      "cell_type": "code",
      "execution_count": null,
      "id": "40191f82-d4ac-478d-b321-d84fa37fdb6f",
      "metadata": {
        "id": "40191f82-d4ac-478d-b321-d84fa37fdb6f"
      },
      "outputs": [],
      "source": [
        "df_happy_horse[\"outcome\"] = df_happy_horse[\"outcome\"].fillna(1)"
      ]
    },
    {
      "cell_type": "markdown",
      "id": "581b2f86-8be6-44e9-a78e-746e4edb8d98",
      "metadata": {
        "id": "581b2f86-8be6-44e9-a78e-746e4edb8d98"
      },
      "source": [
        "### 3.2.6. Значения пульса, частоты дыхания, представленные непрерывными переменными, заполним средним значением, рассчитанным с группировкой по наличию хирургического вмешательства, возрастной группе и исходу лечения"
      ]
    },
    {
      "cell_type": "code",
      "execution_count": null,
      "id": "1966f890-2dc8-48c8-9d5b-a7c4815fefb0",
      "metadata": {
        "id": "1966f890-2dc8-48c8-9d5b-a7c4815fefb0"
      },
      "outputs": [],
      "source": [
        "df_happy_horse[\"pulse\"] = df_happy_horse[\"pulse\"].fillna(\n",
        "    df_happy_horse.groupby([\"surgery\", \"age\", \"outcome\"])[\"pulse\"]\n",
        "    .transform(\"mean\")\n",
        "    .round(0)\n",
        ")\n",
        "df_happy_horse[\"respiratory_rate\"] = df_happy_horse[\"respiratory_rate\"].fillna(\n",
        "    df_happy_horse.groupby([\"surgery\", \"age\", \"outcome\"])[\"respiratory_rate\"]\n",
        "    .transform(\"mean\")\n",
        "    .round(0)\n",
        ")"
      ]
    },
    {
      "cell_type": "markdown",
      "id": "a5dcc297-2522-4d98-9ba0-f10426a8e794",
      "metadata": {
        "id": "a5dcc297-2522-4d98-9ba0-f10426a8e794"
      },
      "source": [
        "#### Тем не менее, одна запись осталась не обработана"
      ]
    },
    {
      "cell_type": "code",
      "execution_count": null,
      "id": "e0aa2dc9-0ac9-4bd9-b6d8-a5e3295eeb9b",
      "metadata": {
        "id": "e0aa2dc9-0ac9-4bd9-b6d8-a5e3295eeb9b",
        "outputId": "a789bf5b-4d6d-4122-b41c-a63723c011c7"
      },
      "outputs": [
        {
          "name": "stdout",
          "output_type": "stream",
          "text": [
            "<class 'pandas.core.frame.DataFrame'>\n",
            "RangeIndex: 291 entries, 0 to 290\n",
            "Data columns (total 8 columns):\n",
            " #   Column                   Non-Null Count  Dtype  \n",
            "---  ------                   --------------  -----  \n",
            " 0   surgery                  291 non-null    float64\n",
            " 1   age                      291 non-null    int64  \n",
            " 2   rectal_temperature       291 non-null    float64\n",
            " 3   pulse                    291 non-null    float64\n",
            " 4   respiratory_rate         290 non-null    float64\n",
            " 5   temperature_extremities  244 non-null    float64\n",
            " 6   pain                     244 non-null    float64\n",
            " 7   outcome                  291 non-null    float64\n",
            "dtypes: float64(7), int64(1)\n",
            "memory usage: 18.3 KB\n"
          ]
        }
      ],
      "source": [
        "df_happy_horse.info()"
      ]
    },
    {
      "cell_type": "markdown",
      "id": "4cfd4c9c-c0a9-4e3a-83c8-66a27f705e15",
      "metadata": {
        "id": "4cfd4c9c-c0a9-4e3a-83c8-66a27f705e15"
      },
      "source": [
        "#### Не обработана запись для surgery==1, age==9, outcome==3. Что с ней не так?"
      ]
    },
    {
      "cell_type": "code",
      "execution_count": null,
      "id": "c2ff2a18-0d77-456c-afba-7aefc3f4bb8f",
      "metadata": {
        "id": "c2ff2a18-0d77-456c-afba-7aefc3f4bb8f",
        "outputId": "48feddd5-5946-4a51-85d7-e444205f2030"
      },
      "outputs": [
        {
          "data": {
            "text/plain": [
              "surgery  age  outcome\n",
              "1.0      1    1.0        30.0\n",
              "              2.0        29.0\n",
              "              3.0        35.0\n",
              "         9    1.0        66.0\n",
              "              2.0        55.0\n",
              "              3.0         NaN\n",
              "2.0      1    1.0        25.0\n",
              "              2.0        29.0\n",
              "              3.0        25.0\n",
              "         9    1.0        44.0\n",
              "              2.0        28.0\n",
              "Name: respiratory_rate, dtype: float64"
            ]
          },
          "execution_count": 28,
          "metadata": {},
          "output_type": "execute_result"
        }
      ],
      "source": [
        "df_happy_horse.groupby([\"surgery\", \"age\", \"outcome\"])[\"respiratory_rate\"].mean().round(\n",
        "    0\n",
        ")"
      ]
    },
    {
      "cell_type": "markdown",
      "id": "417ab4e8-7d8c-419c-9add-1822758dab54",
      "metadata": {
        "id": "417ab4e8-7d8c-419c-9add-1822758dab54"
      },
      "source": [
        "#### Эта запись единственная!"
      ]
    },
    {
      "cell_type": "code",
      "execution_count": null,
      "id": "d6b96bec-111a-4d98-aca4-43f2c3f3fe6f",
      "metadata": {
        "id": "d6b96bec-111a-4d98-aca4-43f2c3f3fe6f",
        "outputId": "63363701-b127-4ab8-e603-d86384566967"
      },
      "outputs": [
        {
          "data": {
            "text/html": [
              "<div><div id=16da4153-285a-4b92-a4a2-fa85f5f96b4d style=\"display:none; background-color:#9D6CFF; color:white; width:200px; height:30px; padding-left:5px; border-radius:4px; flex-direction:row; justify-content:space-around; align-items:center;\" onmouseover=\"this.style.backgroundColor='#BA9BF8'\" onmouseout=\"this.style.backgroundColor='#9D6CFF'\" onclick=\"window.commands?.execute('create-mitosheet-from-dataframe-output');\">See Full Dataframe in Mito</div> <script> if (window.commands?.hasCommand('create-mitosheet-from-dataframe-output')) document.getElementById('16da4153-285a-4b92-a4a2-fa85f5f96b4d').style.display = 'flex' </script> <table border=\"1\" class=\"dataframe\">\n",
              "  <thead>\n",
              "    <tr style=\"text-align: right;\">\n",
              "      <th></th>\n",
              "      <th>surgery</th>\n",
              "      <th>age</th>\n",
              "      <th>rectal_temperature</th>\n",
              "      <th>pulse</th>\n",
              "      <th>respiratory_rate</th>\n",
              "      <th>temperature_extremities</th>\n",
              "      <th>pain</th>\n",
              "      <th>outcome</th>\n",
              "    </tr>\n",
              "  </thead>\n",
              "  <tbody>\n",
              "    <tr>\n",
              "      <th>72</th>\n",
              "      <td>1.0</td>\n",
              "      <td>9</td>\n",
              "      <td>39.7</td>\n",
              "      <td>100.0</td>\n",
              "      <td>NaN</td>\n",
              "      <td>3.0</td>\n",
              "      <td>2.0</td>\n",
              "      <td>3.0</td>\n",
              "    </tr>\n",
              "  </tbody>\n",
              "</table></div>"
            ],
            "text/plain": [
              "    surgery  age  rectal_temperature  pulse  respiratory_rate  \\\n",
              "72      1.0    9                39.7  100.0               NaN   \n",
              "\n",
              "    temperature_extremities  pain  outcome  \n",
              "72                      3.0   2.0      3.0  "
            ]
          },
          "execution_count": 137,
          "metadata": {},
          "output_type": "execute_result"
        }
      ],
      "source": [
        "df_happy_horse[\n",
        "    (df_happy_horse.surgery == 1)\n",
        "    & (df_happy_horse.age == 9)\n",
        "    & (df_happy_horse.outcome == 3)\n",
        "]"
      ]
    },
    {
      "cell_type": "markdown",
      "id": "9eeb80ad-1804-4c5c-aa3f-21b4f7f05b28",
      "metadata": {
        "id": "9eeb80ad-1804-4c5c-aa3f-21b4f7f05b28"
      },
      "source": [
        "#### Просто удалим её"
      ]
    },
    {
      "cell_type": "code",
      "execution_count": null,
      "id": "4d07bdcc-8805-4aff-bb63-80d4c9e842ad",
      "metadata": {
        "id": "4d07bdcc-8805-4aff-bb63-80d4c9e842ad"
      },
      "outputs": [],
      "source": [
        "df_happy_horse = df_happy_horse.drop(df_happy_horse.index[72]).reset_index(drop=True)"
      ]
    },
    {
      "cell_type": "markdown",
      "id": "cb92a530-8c11-4ed9-b98d-473799973119",
      "metadata": {
        "id": "cb92a530-8c11-4ed9-b98d-473799973119"
      },
      "source": [
        "### 3.2.7. Остались невыясненными сведения о болевом синдроме и температуре конечностей. Эти показатели описываются номинативными переменными, потому поступим аналогично случаю с пульсом и частотой дыхания, используя в качестве агрегатной функции медиану"
      ]
    },
    {
      "cell_type": "code",
      "execution_count": null,
      "id": "07cba933-e962-4e76-aca6-3225fddccf0d",
      "metadata": {
        "id": "07cba933-e962-4e76-aca6-3225fddccf0d"
      },
      "outputs": [],
      "source": [
        "df_happy_horse[\"pain\"] = df_happy_horse[\"pain\"].fillna(\n",
        "    df_happy_horse.groupby([\"surgery\", \"age\", \"outcome\"])[\"pain\"].transform(\"median\")\n",
        ")\n",
        "df_happy_horse[\"temperature_extremities\"] = df_happy_horse[\n",
        "    \"temperature_extremities\"\n",
        "].fillna(\n",
        "    df_happy_horse.groupby([\"surgery\", \"age\", \"outcome\"])[\n",
        "        \"temperature_extremities\"\n",
        "    ].transform(\"median\")\n",
        ")"
      ]
    },
    {
      "cell_type": "markdown",
      "id": "19afd4fa-e83b-4fc5-aa5e-9b9f41e186d3",
      "metadata": {
        "id": "19afd4fa-e83b-4fc5-aa5e-9b9f41e186d3"
      },
      "source": [
        "### Результаты очистки данных"
      ]
    },
    {
      "cell_type": "code",
      "execution_count": null,
      "id": "67c93eda-312c-480b-a6ab-fbf10a1f0a31",
      "metadata": {
        "id": "67c93eda-312c-480b-a6ab-fbf10a1f0a31",
        "outputId": "f4abf106-790f-4388-e3a9-afba7d402063"
      },
      "outputs": [
        {
          "name": "stdout",
          "output_type": "stream",
          "text": [
            "<class 'pandas.core.frame.DataFrame'>\n",
            "RangeIndex: 290 entries, 0 to 289\n",
            "Data columns (total 8 columns):\n",
            " #   Column                   Non-Null Count  Dtype  \n",
            "---  ------                   --------------  -----  \n",
            " 0   surgery                  290 non-null    float64\n",
            " 1   age                      290 non-null    int64  \n",
            " 2   rectal_temperature       290 non-null    float64\n",
            " 3   pulse                    290 non-null    float64\n",
            " 4   respiratory_rate         290 non-null    float64\n",
            " 5   temperature_extremities  290 non-null    float64\n",
            " 6   pain                     290 non-null    float64\n",
            " 7   outcome                  290 non-null    float64\n",
            "dtypes: float64(7), int64(1)\n",
            "memory usage: 18.2 KB\n"
          ]
        }
      ],
      "source": [
        "df_happy_horse.info()"
      ]
    },
    {
      "cell_type": "code",
      "execution_count": null,
      "id": "82029a10-acb8-4d61-ac58-ca5be13b1799",
      "metadata": {
        "id": "82029a10-acb8-4d61-ac58-ca5be13b1799",
        "outputId": "8fd2ec93-a877-46ec-de84-c14cd5f760cf"
      },
      "outputs": [
        {
          "data": {
            "text/html": [
              "<div><div id=eac24918-bac8-486c-b0e9-b90e484a7285 style=\"display:none; background-color:#9D6CFF; color:white; width:200px; height:30px; padding-left:5px; border-radius:4px; flex-direction:row; justify-content:space-around; align-items:center;\" onmouseover=\"this.style.backgroundColor='#BA9BF8'\" onmouseout=\"this.style.backgroundColor='#9D6CFF'\" onclick=\"window.commands?.execute('create-mitosheet-from-dataframe-output');\">See Full Dataframe in Mito</div> <script> if (window.commands?.hasCommand('create-mitosheet-from-dataframe-output')) document.getElementById('eac24918-bac8-486c-b0e9-b90e484a7285').style.display = 'flex' </script> <table border=\"1\" class=\"dataframe\">\n",
              "  <thead>\n",
              "    <tr style=\"text-align: right;\">\n",
              "      <th></th>\n",
              "      <th>surgery</th>\n",
              "      <th>age</th>\n",
              "      <th>rectal_temperature</th>\n",
              "      <th>pulse</th>\n",
              "      <th>respiratory_rate</th>\n",
              "      <th>temperature_extremities</th>\n",
              "      <th>pain</th>\n",
              "      <th>outcome</th>\n",
              "    </tr>\n",
              "  </thead>\n",
              "  <tbody>\n",
              "    <tr>\n",
              "      <th>count</th>\n",
              "      <td>290.000000</td>\n",
              "      <td>290.000000</td>\n",
              "      <td>290.000000</td>\n",
              "      <td>290.000000</td>\n",
              "      <td>290.000000</td>\n",
              "      <td>290.000000</td>\n",
              "      <td>290.000000</td>\n",
              "      <td>290.000000</td>\n",
              "    </tr>\n",
              "    <tr>\n",
              "      <th>mean</th>\n",
              "      <td>1.410345</td>\n",
              "      <td>1.579310</td>\n",
              "      <td>38.163000</td>\n",
              "      <td>71.734483</td>\n",
              "      <td>30.151724</td>\n",
              "      <td>2.394828</td>\n",
              "      <td>2.993103</td>\n",
              "      <td>1.551724</td>\n",
              "    </tr>\n",
              "    <tr>\n",
              "      <th>std</th>\n",
              "      <td>0.492747</td>\n",
              "      <td>2.076959</td>\n",
              "      <td>0.659792</td>\n",
              "      <td>27.999293</td>\n",
              "      <td>16.182707</td>\n",
              "      <td>0.994000</td>\n",
              "      <td>1.245040</td>\n",
              "      <td>0.738755</td>\n",
              "    </tr>\n",
              "    <tr>\n",
              "      <th>min</th>\n",
              "      <td>1.000000</td>\n",
              "      <td>1.000000</td>\n",
              "      <td>35.400000</td>\n",
              "      <td>30.000000</td>\n",
              "      <td>8.000000</td>\n",
              "      <td>1.000000</td>\n",
              "      <td>1.000000</td>\n",
              "      <td>1.000000</td>\n",
              "    </tr>\n",
              "    <tr>\n",
              "      <th>25%</th>\n",
              "      <td>1.000000</td>\n",
              "      <td>1.000000</td>\n",
              "      <td>37.825000</td>\n",
              "      <td>48.000000</td>\n",
              "      <td>20.000000</td>\n",
              "      <td>1.000000</td>\n",
              "      <td>2.000000</td>\n",
              "      <td>1.000000</td>\n",
              "    </tr>\n",
              "    <tr>\n",
              "      <th>50%</th>\n",
              "      <td>1.000000</td>\n",
              "      <td>1.000000</td>\n",
              "      <td>38.170000</td>\n",
              "      <td>64.000000</td>\n",
              "      <td>28.000000</td>\n",
              "      <td>3.000000</td>\n",
              "      <td>3.000000</td>\n",
              "      <td>1.000000</td>\n",
              "    </tr>\n",
              "    <tr>\n",
              "      <th>75%</th>\n",
              "      <td>2.000000</td>\n",
              "      <td>1.000000</td>\n",
              "      <td>38.500000</td>\n",
              "      <td>88.000000</td>\n",
              "      <td>35.750000</td>\n",
              "      <td>3.000000</td>\n",
              "      <td>4.000000</td>\n",
              "      <td>2.000000</td>\n",
              "    </tr>\n",
              "    <tr>\n",
              "      <th>max</th>\n",
              "      <td>2.000000</td>\n",
              "      <td>9.000000</td>\n",
              "      <td>40.800000</td>\n",
              "      <td>184.000000</td>\n",
              "      <td>96.000000</td>\n",
              "      <td>4.000000</td>\n",
              "      <td>5.000000</td>\n",
              "      <td>3.000000</td>\n",
              "    </tr>\n",
              "  </tbody>\n",
              "</table></div>"
            ],
            "text/plain": [
              "          surgery         age  rectal_temperature       pulse  \\\n",
              "count  290.000000  290.000000          290.000000  290.000000   \n",
              "mean     1.410345    1.579310           38.163000   71.734483   \n",
              "std      0.492747    2.076959            0.659792   27.999293   \n",
              "min      1.000000    1.000000           35.400000   30.000000   \n",
              "25%      1.000000    1.000000           37.825000   48.000000   \n",
              "50%      1.000000    1.000000           38.170000   64.000000   \n",
              "75%      2.000000    1.000000           38.500000   88.000000   \n",
              "max      2.000000    9.000000           40.800000  184.000000   \n",
              "\n",
              "       respiratory_rate  temperature_extremities        pain     outcome  \n",
              "count        290.000000               290.000000  290.000000  290.000000  \n",
              "mean          30.151724                 2.394828    2.993103    1.551724  \n",
              "std           16.182707                 0.994000    1.245040    0.738755  \n",
              "min            8.000000                 1.000000    1.000000    1.000000  \n",
              "25%           20.000000                 1.000000    2.000000    1.000000  \n",
              "50%           28.000000                 3.000000    3.000000    1.000000  \n",
              "75%           35.750000                 3.000000    4.000000    2.000000  \n",
              "max           96.000000                 4.000000    5.000000    3.000000  "
            ]
          },
          "execution_count": 141,
          "metadata": {},
          "output_type": "execute_result"
        }
      ],
      "source": [
        "df_happy_horse.describe()"
      ]
    },
    {
      "cell_type": "markdown",
      "id": "eb24874b-bc71-4269-8f8b-985bdacbb05b",
      "metadata": {
        "id": "eb24874b-bc71-4269-8f8b-985bdacbb05b"
      },
      "source": [
        "#### Сравним результаты"
      ]
    },
    {
      "cell_type": "code",
      "execution_count": null,
      "id": "8dd1e6f1-1686-4937-949a-a86f0b69ffd3",
      "metadata": {
        "id": "8dd1e6f1-1686-4937-949a-a86f0b69ffd3",
        "outputId": "5a673337-d8f3-4492-abf7-db940539b6e5"
      },
      "outputs": [
        {
          "data": {
            "text/html": [
              "<div><div id=be137dd7-4b8e-440c-ab11-323493577536 style=\"display:none; background-color:#9D6CFF; color:white; width:200px; height:30px; padding-left:5px; border-radius:4px; flex-direction:row; justify-content:space-around; align-items:center;\" onmouseover=\"this.style.backgroundColor='#BA9BF8'\" onmouseout=\"this.style.backgroundColor='#9D6CFF'\" onclick=\"window.commands?.execute('create-mitosheet-from-dataframe-output');\">See Full Dataframe in Mito</div> <script> if (window.commands?.hasCommand('create-mitosheet-from-dataframe-output')) document.getElementById('be137dd7-4b8e-440c-ab11-323493577536').style.display = 'flex' </script> <table border=\"1\" class=\"dataframe\">\n",
              "  <thead>\n",
              "    <tr style=\"text-align: right;\">\n",
              "      <th></th>\n",
              "      <th>column</th>\n",
              "      <th>not_null</th>\n",
              "      <th>null_count</th>\n",
              "      <th>min</th>\n",
              "      <th>max</th>\n",
              "      <th>range</th>\n",
              "      <th>mode</th>\n",
              "      <th>mean</th>\n",
              "      <th>median</th>\n",
              "      <th>std</th>\n",
              "      <th>var</th>\n",
              "      <th>25%</th>\n",
              "      <th>75%</th>\n",
              "      <th>IQR</th>\n",
              "    </tr>\n",
              "  </thead>\n",
              "  <tbody>\n",
              "    <tr>\n",
              "      <th>0</th>\n",
              "      <td>surgery</td>\n",
              "      <td>299</td>\n",
              "      <td>1</td>\n",
              "      <td>1.0</td>\n",
              "      <td>2.0</td>\n",
              "      <td>1.0</td>\n",
              "      <td>1.0</td>\n",
              "      <td>1.397993</td>\n",
              "      <td>1.0</td>\n",
              "      <td>0.490305</td>\n",
              "      <td>0.240399</td>\n",
              "      <td>1.0</td>\n",
              "      <td>2.0</td>\n",
              "      <td>1.0</td>\n",
              "    </tr>\n",
              "    <tr>\n",
              "      <th>1</th>\n",
              "      <td>age</td>\n",
              "      <td>300</td>\n",
              "      <td>0</td>\n",
              "      <td>1.0</td>\n",
              "      <td>9.0</td>\n",
              "      <td>8.0</td>\n",
              "      <td>1.0</td>\n",
              "      <td>1.640000</td>\n",
              "      <td>1.0</td>\n",
              "      <td>2.173972</td>\n",
              "      <td>4.726154</td>\n",
              "      <td>1.0</td>\n",
              "      <td>1.0</td>\n",
              "      <td>0.0</td>\n",
              "    </tr>\n",
              "    <tr>\n",
              "      <th>2</th>\n",
              "      <td>rectal_temperature</td>\n",
              "      <td>240</td>\n",
              "      <td>60</td>\n",
              "      <td>35.4</td>\n",
              "      <td>40.8</td>\n",
              "      <td>5.4</td>\n",
              "      <td>38.0</td>\n",
              "      <td>38.167917</td>\n",
              "      <td>38.2</td>\n",
              "      <td>0.732289</td>\n",
              "      <td>0.536247</td>\n",
              "      <td>37.8</td>\n",
              "      <td>38.5</td>\n",
              "      <td>0.7</td>\n",
              "    </tr>\n",
              "    <tr>\n",
              "      <th>3</th>\n",
              "      <td>pulse</td>\n",
              "      <td>276</td>\n",
              "      <td>24</td>\n",
              "      <td>30.0</td>\n",
              "      <td>184.0</td>\n",
              "      <td>154.0</td>\n",
              "      <td>48.0</td>\n",
              "      <td>71.913043</td>\n",
              "      <td>64.0</td>\n",
              "      <td>28.630557</td>\n",
              "      <td>819.708775</td>\n",
              "      <td>48.0</td>\n",
              "      <td>88.0</td>\n",
              "      <td>40.0</td>\n",
              "    </tr>\n",
              "    <tr>\n",
              "      <th>4</th>\n",
              "      <td>respiratory_rate</td>\n",
              "      <td>242</td>\n",
              "      <td>58</td>\n",
              "      <td>8.0</td>\n",
              "      <td>96.0</td>\n",
              "      <td>88.0</td>\n",
              "      <td>20.0</td>\n",
              "      <td>30.417355</td>\n",
              "      <td>24.5</td>\n",
              "      <td>17.642231</td>\n",
              "      <td>311.248328</td>\n",
              "      <td>18.5</td>\n",
              "      <td>36.0</td>\n",
              "      <td>17.5</td>\n",
              "    </tr>\n",
              "    <tr>\n",
              "      <th>5</th>\n",
              "      <td>temperature_extremities</td>\n",
              "      <td>244</td>\n",
              "      <td>56</td>\n",
              "      <td>1.0</td>\n",
              "      <td>4.0</td>\n",
              "      <td>3.0</td>\n",
              "      <td>3.0</td>\n",
              "      <td>2.348361</td>\n",
              "      <td>3.0</td>\n",
              "      <td>1.045054</td>\n",
              "      <td>1.092137</td>\n",
              "      <td>1.0</td>\n",
              "      <td>3.0</td>\n",
              "      <td>2.0</td>\n",
              "    </tr>\n",
              "    <tr>\n",
              "      <th>6</th>\n",
              "      <td>pain</td>\n",
              "      <td>245</td>\n",
              "      <td>55</td>\n",
              "      <td>1.0</td>\n",
              "      <td>5.0</td>\n",
              "      <td>4.0</td>\n",
              "      <td>3.0</td>\n",
              "      <td>2.951020</td>\n",
              "      <td>3.0</td>\n",
              "      <td>1.307940</td>\n",
              "      <td>1.710706</td>\n",
              "      <td>2.0</td>\n",
              "      <td>4.0</td>\n",
              "      <td>2.0</td>\n",
              "    </tr>\n",
              "    <tr>\n",
              "      <th>7</th>\n",
              "      <td>outcome</td>\n",
              "      <td>299</td>\n",
              "      <td>1</td>\n",
              "      <td>1.0</td>\n",
              "      <td>3.0</td>\n",
              "      <td>2.0</td>\n",
              "      <td>1.0</td>\n",
              "      <td>1.551839</td>\n",
              "      <td>1.0</td>\n",
              "      <td>0.737187</td>\n",
              "      <td>0.543445</td>\n",
              "      <td>1.0</td>\n",
              "      <td>2.0</td>\n",
              "      <td>1.0</td>\n",
              "    </tr>\n",
              "  </tbody>\n",
              "</table></div>"
            ],
            "text/plain": [
              "                    column  not_null  null_count   min    max  range  mode  \\\n",
              "0                  surgery       299           1   1.0    2.0    1.0   1.0   \n",
              "1                      age       300           0   1.0    9.0    8.0   1.0   \n",
              "2       rectal_temperature       240          60  35.4   40.8    5.4  38.0   \n",
              "3                    pulse       276          24  30.0  184.0  154.0  48.0   \n",
              "4         respiratory_rate       242          58   8.0   96.0   88.0  20.0   \n",
              "5  temperature_extremities       244          56   1.0    4.0    3.0   3.0   \n",
              "6                     pain       245          55   1.0    5.0    4.0   3.0   \n",
              "7                  outcome       299           1   1.0    3.0    2.0   1.0   \n",
              "\n",
              "        mean  median        std         var   25%   75%   IQR  \n",
              "0   1.397993     1.0   0.490305    0.240399   1.0   2.0   1.0  \n",
              "1   1.640000     1.0   2.173972    4.726154   1.0   1.0   0.0  \n",
              "2  38.167917    38.2   0.732289    0.536247  37.8  38.5   0.7  \n",
              "3  71.913043    64.0  28.630557  819.708775  48.0  88.0  40.0  \n",
              "4  30.417355    24.5  17.642231  311.248328  18.5  36.0  17.5  \n",
              "5   2.348361     3.0   1.045054    1.092137   1.0   3.0   2.0  \n",
              "6   2.951020     3.0   1.307940    1.710706   2.0   4.0   2.0  \n",
              "7   1.551839     1.0   0.737187    0.543445   1.0   2.0   1.0  "
            ]
          },
          "execution_count": 142,
          "metadata": {},
          "output_type": "execute_result"
        }
      ],
      "source": [
        "bs(df_horse)"
      ]
    },
    {
      "cell_type": "code",
      "execution_count": null,
      "id": "18662499-b3aa-4822-8f33-fa4ae785403e",
      "metadata": {
        "id": "18662499-b3aa-4822-8f33-fa4ae785403e",
        "outputId": "9fe49ccc-a8cb-4a01-da28-93a00f6b35f4"
      },
      "outputs": [
        {
          "data": {
            "text/html": [
              "<div><div id=e3a6e56f-a0d9-42b3-9364-b2cdac150157 style=\"display:none; background-color:#9D6CFF; color:white; width:200px; height:30px; padding-left:5px; border-radius:4px; flex-direction:row; justify-content:space-around; align-items:center;\" onmouseover=\"this.style.backgroundColor='#BA9BF8'\" onmouseout=\"this.style.backgroundColor='#9D6CFF'\" onclick=\"window.commands?.execute('create-mitosheet-from-dataframe-output');\">See Full Dataframe in Mito</div> <script> if (window.commands?.hasCommand('create-mitosheet-from-dataframe-output')) document.getElementById('e3a6e56f-a0d9-42b3-9364-b2cdac150157').style.display = 'flex' </script> <table border=\"1\" class=\"dataframe\">\n",
              "  <thead>\n",
              "    <tr style=\"text-align: right;\">\n",
              "      <th></th>\n",
              "      <th>column</th>\n",
              "      <th>not_null</th>\n",
              "      <th>null_count</th>\n",
              "      <th>min</th>\n",
              "      <th>max</th>\n",
              "      <th>range</th>\n",
              "      <th>mode</th>\n",
              "      <th>mean</th>\n",
              "      <th>median</th>\n",
              "      <th>std</th>\n",
              "      <th>var</th>\n",
              "      <th>25%</th>\n",
              "      <th>75%</th>\n",
              "      <th>IQR</th>\n",
              "    </tr>\n",
              "  </thead>\n",
              "  <tbody>\n",
              "    <tr>\n",
              "      <th>0</th>\n",
              "      <td>surgery</td>\n",
              "      <td>290</td>\n",
              "      <td>0</td>\n",
              "      <td>1.0</td>\n",
              "      <td>2.0</td>\n",
              "      <td>1.0</td>\n",
              "      <td>1.00</td>\n",
              "      <td>1.410345</td>\n",
              "      <td>1.00</td>\n",
              "      <td>0.492747</td>\n",
              "      <td>0.242799</td>\n",
              "      <td>1.000</td>\n",
              "      <td>2.00</td>\n",
              "      <td>1.000</td>\n",
              "    </tr>\n",
              "    <tr>\n",
              "      <th>1</th>\n",
              "      <td>age</td>\n",
              "      <td>290</td>\n",
              "      <td>0</td>\n",
              "      <td>1.0</td>\n",
              "      <td>9.0</td>\n",
              "      <td>8.0</td>\n",
              "      <td>1.00</td>\n",
              "      <td>1.579310</td>\n",
              "      <td>1.00</td>\n",
              "      <td>2.076959</td>\n",
              "      <td>4.313757</td>\n",
              "      <td>1.000</td>\n",
              "      <td>1.00</td>\n",
              "      <td>0.000</td>\n",
              "    </tr>\n",
              "    <tr>\n",
              "      <th>2</th>\n",
              "      <td>rectal_temperature</td>\n",
              "      <td>290</td>\n",
              "      <td>0</td>\n",
              "      <td>35.4</td>\n",
              "      <td>40.8</td>\n",
              "      <td>5.4</td>\n",
              "      <td>38.17</td>\n",
              "      <td>38.163000</td>\n",
              "      <td>38.17</td>\n",
              "      <td>0.659792</td>\n",
              "      <td>0.435325</td>\n",
              "      <td>37.825</td>\n",
              "      <td>38.50</td>\n",
              "      <td>0.675</td>\n",
              "    </tr>\n",
              "    <tr>\n",
              "      <th>3</th>\n",
              "      <td>pulse</td>\n",
              "      <td>290</td>\n",
              "      <td>0</td>\n",
              "      <td>30.0</td>\n",
              "      <td>184.0</td>\n",
              "      <td>154.0</td>\n",
              "      <td>48.00</td>\n",
              "      <td>71.734483</td>\n",
              "      <td>64.00</td>\n",
              "      <td>27.999293</td>\n",
              "      <td>783.960399</td>\n",
              "      <td>48.000</td>\n",
              "      <td>88.00</td>\n",
              "      <td>40.000</td>\n",
              "    </tr>\n",
              "    <tr>\n",
              "      <th>4</th>\n",
              "      <td>respiratory_rate</td>\n",
              "      <td>290</td>\n",
              "      <td>0</td>\n",
              "      <td>8.0</td>\n",
              "      <td>96.0</td>\n",
              "      <td>88.0</td>\n",
              "      <td>30.00</td>\n",
              "      <td>30.151724</td>\n",
              "      <td>28.00</td>\n",
              "      <td>16.182707</td>\n",
              "      <td>261.880014</td>\n",
              "      <td>20.000</td>\n",
              "      <td>35.75</td>\n",
              "      <td>15.750</td>\n",
              "    </tr>\n",
              "    <tr>\n",
              "      <th>5</th>\n",
              "      <td>temperature_extremities</td>\n",
              "      <td>290</td>\n",
              "      <td>0</td>\n",
              "      <td>1.0</td>\n",
              "      <td>4.0</td>\n",
              "      <td>3.0</td>\n",
              "      <td>3.00</td>\n",
              "      <td>2.394828</td>\n",
              "      <td>3.00</td>\n",
              "      <td>0.994000</td>\n",
              "      <td>0.988035</td>\n",
              "      <td>1.000</td>\n",
              "      <td>3.00</td>\n",
              "      <td>2.000</td>\n",
              "    </tr>\n",
              "    <tr>\n",
              "      <th>6</th>\n",
              "      <td>pain</td>\n",
              "      <td>290</td>\n",
              "      <td>0</td>\n",
              "      <td>1.0</td>\n",
              "      <td>5.0</td>\n",
              "      <td>4.0</td>\n",
              "      <td>3.00</td>\n",
              "      <td>2.993103</td>\n",
              "      <td>3.00</td>\n",
              "      <td>1.245040</td>\n",
              "      <td>1.550125</td>\n",
              "      <td>2.000</td>\n",
              "      <td>4.00</td>\n",
              "      <td>2.000</td>\n",
              "    </tr>\n",
              "    <tr>\n",
              "      <th>7</th>\n",
              "      <td>outcome</td>\n",
              "      <td>290</td>\n",
              "      <td>0</td>\n",
              "      <td>1.0</td>\n",
              "      <td>3.0</td>\n",
              "      <td>2.0</td>\n",
              "      <td>1.00</td>\n",
              "      <td>1.551724</td>\n",
              "      <td>1.00</td>\n",
              "      <td>0.738755</td>\n",
              "      <td>0.545758</td>\n",
              "      <td>1.000</td>\n",
              "      <td>2.00</td>\n",
              "      <td>1.000</td>\n",
              "    </tr>\n",
              "  </tbody>\n",
              "</table></div>"
            ],
            "text/plain": [
              "                    column  not_null  null_count   min    max  range   mode  \\\n",
              "0                  surgery       290           0   1.0    2.0    1.0   1.00   \n",
              "1                      age       290           0   1.0    9.0    8.0   1.00   \n",
              "2       rectal_temperature       290           0  35.4   40.8    5.4  38.17   \n",
              "3                    pulse       290           0  30.0  184.0  154.0  48.00   \n",
              "4         respiratory_rate       290           0   8.0   96.0   88.0  30.00   \n",
              "5  temperature_extremities       290           0   1.0    4.0    3.0   3.00   \n",
              "6                     pain       290           0   1.0    5.0    4.0   3.00   \n",
              "7                  outcome       290           0   1.0    3.0    2.0   1.00   \n",
              "\n",
              "        mean  median        std         var     25%    75%     IQR  \n",
              "0   1.410345    1.00   0.492747    0.242799   1.000   2.00   1.000  \n",
              "1   1.579310    1.00   2.076959    4.313757   1.000   1.00   0.000  \n",
              "2  38.163000   38.17   0.659792    0.435325  37.825  38.50   0.675  \n",
              "3  71.734483   64.00  27.999293  783.960399  48.000  88.00  40.000  \n",
              "4  30.151724   28.00  16.182707  261.880014  20.000  35.75  15.750  \n",
              "5   2.394828    3.00   0.994000    0.988035   1.000   3.00   2.000  \n",
              "6   2.993103    3.00   1.245040    1.550125   2.000   4.00   2.000  \n",
              "7   1.551724    1.00   0.738755    0.545758   1.000   2.00   1.000  "
            ]
          },
          "execution_count": 143,
          "metadata": {},
          "output_type": "execute_result"
        }
      ],
      "source": [
        "bs(df_happy_horse)"
      ]
    },
    {
      "cell_type": "markdown",
      "id": "6b2d9e5f-1ec8-4180-a19f-36f4f9a8a88f",
      "metadata": {
        "id": "6b2d9e5f-1ec8-4180-a19f-36f4f9a8a88f"
      },
      "source": [
        "### Преобразуем данные в тот формат, в котором им надлежит быть по их природе"
      ]
    },
    {
      "cell_type": "code",
      "execution_count": null,
      "id": "741cb92a-92dc-4270-a2e4-31831d13b57a",
      "metadata": {
        "id": "741cb92a-92dc-4270-a2e4-31831d13b57a"
      },
      "outputs": [],
      "source": [
        "df_happy_horse = df_happy_horse.astype(\n",
        "    {\n",
        "        \"surgery\": \"int\",\n",
        "        \"pulse\": \"int\",\n",
        "        \"respiratory_rate\": \"int\",\n",
        "        \"temperature_extremities\": \"int\",\n",
        "        \"pain\": \"int\",\n",
        "        \"outcome\": \"int\",\n",
        "    }\n",
        ")"
      ]
    },
    {
      "cell_type": "code",
      "execution_count": null,
      "id": "a1bfc68d-82d9-40b9-89e1-ac347b96f26a",
      "metadata": {
        "id": "a1bfc68d-82d9-40b9-89e1-ac347b96f26a",
        "outputId": "8292812e-3fc6-4906-a65e-227e5ee0f06e"
      },
      "outputs": [
        {
          "name": "stdout",
          "output_type": "stream",
          "text": [
            "<class 'pandas.core.frame.DataFrame'>\n",
            "RangeIndex: 290 entries, 0 to 289\n",
            "Data columns (total 8 columns):\n",
            " #   Column                   Non-Null Count  Dtype  \n",
            "---  ------                   --------------  -----  \n",
            " 0   surgery                  290 non-null    int64  \n",
            " 1   age                      290 non-null    int64  \n",
            " 2   rectal_temperature       290 non-null    float64\n",
            " 3   pulse                    290 non-null    int64  \n",
            " 4   respiratory_rate         290 non-null    int64  \n",
            " 5   temperature_extremities  290 non-null    int64  \n",
            " 6   pain                     290 non-null    int64  \n",
            " 7   outcome                  290 non-null    int64  \n",
            "dtypes: float64(1), int64(7)\n",
            "memory usage: 18.2 KB\n"
          ]
        }
      ],
      "source": [
        "df_happy_horse.info()"
      ]
    },
    {
      "cell_type": "code",
      "execution_count": null,
      "id": "9e729b60-c605-4d03-a94f-90622580fcca",
      "metadata": {
        "id": "9e729b60-c605-4d03-a94f-90622580fcca",
        "outputId": "322246c9-ae89-42da-e807-bd153dc87b66"
      },
      "outputs": [
        {
          "data": {
            "text/html": [
              "<div><div id=7c76cbed-b8e2-4131-ba33-752deda9022a style=\"display:none; background-color:#9D6CFF; color:white; width:200px; height:30px; padding-left:5px; border-radius:4px; flex-direction:row; justify-content:space-around; align-items:center;\" onmouseover=\"this.style.backgroundColor='#BA9BF8'\" onmouseout=\"this.style.backgroundColor='#9D6CFF'\" onclick=\"window.commands?.execute('create-mitosheet-from-dataframe-output');\">See Full Dataframe in Mito</div> <script> if (window.commands?.hasCommand('create-mitosheet-from-dataframe-output')) document.getElementById('7c76cbed-b8e2-4131-ba33-752deda9022a').style.display = 'flex' </script> <table border=\"1\" class=\"dataframe\">\n",
              "  <thead>\n",
              "    <tr style=\"text-align: right;\">\n",
              "      <th></th>\n",
              "      <th>surgery</th>\n",
              "      <th>age</th>\n",
              "      <th>rectal_temperature</th>\n",
              "      <th>pulse</th>\n",
              "      <th>respiratory_rate</th>\n",
              "      <th>temperature_extremities</th>\n",
              "      <th>pain</th>\n",
              "      <th>outcome</th>\n",
              "    </tr>\n",
              "  </thead>\n",
              "  <tbody>\n",
              "    <tr>\n",
              "      <th>0</th>\n",
              "      <td>2</td>\n",
              "      <td>1</td>\n",
              "      <td>38.50</td>\n",
              "      <td>66</td>\n",
              "      <td>28</td>\n",
              "      <td>3</td>\n",
              "      <td>5</td>\n",
              "      <td>2</td>\n",
              "    </tr>\n",
              "    <tr>\n",
              "      <th>1</th>\n",
              "      <td>1</td>\n",
              "      <td>1</td>\n",
              "      <td>39.20</td>\n",
              "      <td>88</td>\n",
              "      <td>20</td>\n",
              "      <td>3</td>\n",
              "      <td>3</td>\n",
              "      <td>3</td>\n",
              "    </tr>\n",
              "    <tr>\n",
              "      <th>2</th>\n",
              "      <td>2</td>\n",
              "      <td>1</td>\n",
              "      <td>38.30</td>\n",
              "      <td>40</td>\n",
              "      <td>24</td>\n",
              "      <td>1</td>\n",
              "      <td>3</td>\n",
              "      <td>1</td>\n",
              "    </tr>\n",
              "    <tr>\n",
              "      <th>3</th>\n",
              "      <td>1</td>\n",
              "      <td>9</td>\n",
              "      <td>39.10</td>\n",
              "      <td>164</td>\n",
              "      <td>84</td>\n",
              "      <td>4</td>\n",
              "      <td>2</td>\n",
              "      <td>2</td>\n",
              "    </tr>\n",
              "    <tr>\n",
              "      <th>4</th>\n",
              "      <td>2</td>\n",
              "      <td>1</td>\n",
              "      <td>37.30</td>\n",
              "      <td>104</td>\n",
              "      <td>35</td>\n",
              "      <td>3</td>\n",
              "      <td>4</td>\n",
              "      <td>2</td>\n",
              "    </tr>\n",
              "    <tr>\n",
              "      <th>...</th>\n",
              "      <td>...</td>\n",
              "      <td>...</td>\n",
              "      <td>...</td>\n",
              "      <td>...</td>\n",
              "      <td>...</td>\n",
              "      <td>...</td>\n",
              "      <td>...</td>\n",
              "      <td>...</td>\n",
              "    </tr>\n",
              "    <tr>\n",
              "      <th>285</th>\n",
              "      <td>1</td>\n",
              "      <td>1</td>\n",
              "      <td>38.17</td>\n",
              "      <td>120</td>\n",
              "      <td>70</td>\n",
              "      <td>4</td>\n",
              "      <td>2</td>\n",
              "      <td>3</td>\n",
              "    </tr>\n",
              "    <tr>\n",
              "      <th>286</th>\n",
              "      <td>2</td>\n",
              "      <td>1</td>\n",
              "      <td>37.20</td>\n",
              "      <td>72</td>\n",
              "      <td>24</td>\n",
              "      <td>3</td>\n",
              "      <td>4</td>\n",
              "      <td>3</td>\n",
              "    </tr>\n",
              "    <tr>\n",
              "      <th>287</th>\n",
              "      <td>1</td>\n",
              "      <td>1</td>\n",
              "      <td>37.50</td>\n",
              "      <td>72</td>\n",
              "      <td>30</td>\n",
              "      <td>4</td>\n",
              "      <td>4</td>\n",
              "      <td>2</td>\n",
              "    </tr>\n",
              "    <tr>\n",
              "      <th>288</th>\n",
              "      <td>1</td>\n",
              "      <td>1</td>\n",
              "      <td>36.50</td>\n",
              "      <td>100</td>\n",
              "      <td>24</td>\n",
              "      <td>3</td>\n",
              "      <td>3</td>\n",
              "      <td>1</td>\n",
              "    </tr>\n",
              "    <tr>\n",
              "      <th>289</th>\n",
              "      <td>1</td>\n",
              "      <td>1</td>\n",
              "      <td>37.20</td>\n",
              "      <td>40</td>\n",
              "      <td>20</td>\n",
              "      <td>3</td>\n",
              "      <td>4</td>\n",
              "      <td>3</td>\n",
              "    </tr>\n",
              "  </tbody>\n",
              "</table></div>"
            ],
            "text/plain": [
              "     surgery  age  rectal_temperature  pulse  respiratory_rate  \\\n",
              "0          2    1               38.50     66                28   \n",
              "1          1    1               39.20     88                20   \n",
              "2          2    1               38.30     40                24   \n",
              "3          1    9               39.10    164                84   \n",
              "4          2    1               37.30    104                35   \n",
              "..       ...  ...                 ...    ...               ...   \n",
              "285        1    1               38.17    120                70   \n",
              "286        2    1               37.20     72                24   \n",
              "287        1    1               37.50     72                30   \n",
              "288        1    1               36.50    100                24   \n",
              "289        1    1               37.20     40                20   \n",
              "\n",
              "     temperature_extremities  pain  outcome  \n",
              "0                          3     5        2  \n",
              "1                          3     3        3  \n",
              "2                          1     3        1  \n",
              "3                          4     2        2  \n",
              "4                          3     4        2  \n",
              "..                       ...   ...      ...  \n",
              "285                        4     2        3  \n",
              "286                        3     4        3  \n",
              "287                        4     4        2  \n",
              "288                        3     3        1  \n",
              "289                        3     4        3  \n",
              "\n",
              "[290 rows x 8 columns]"
            ]
          },
          "execution_count": 148,
          "metadata": {},
          "output_type": "execute_result"
        }
      ],
      "source": [
        "df_happy_horse"
      ]
    },
    {
      "cell_type": "code",
      "execution_count": null,
      "id": "6af66252-7880-43a1-b68f-34520c688b18",
      "metadata": {
        "id": "6af66252-7880-43a1-b68f-34520c688b18"
      },
      "outputs": [],
      "source": []
    }
  ],
  "metadata": {
    "kernelspec": {
      "display_name": "Python 3 (ipykernel)",
      "language": "python",
      "name": "python3"
    },
    "language_info": {
      "codemirror_mode": {
        "name": "ipython",
        "version": 3
      },
      "file_extension": ".py",
      "mimetype": "text/x-python",
      "name": "python",
      "nbconvert_exporter": "python",
      "pygments_lexer": "ipython3",
      "version": "3.8.13"
    },
    "colab": {
      "provenance": [],
      "collapsed_sections": [
        "f43fcb0e-4647-4cfc-b46b-ebb364e6eec9",
        "b289a426-d672-47c3-9680-59fae464d460",
        "e9aec6f4-6200-4d4b-a21b-dd79ef86a387",
        "d35710be-b6d0-4d3b-9854-118e2320b10e",
        "a5dcc297-2522-4d98-9ba0-f10426a8e794",
        "4cfd4c9c-c0a9-4e3a-83c8-66a27f705e15",
        "417ab4e8-7d8c-419c-9add-1822758dab54",
        "9eeb80ad-1804-4c5c-aa3f-21b4f7f05b28",
        "eb24874b-bc71-4269-8f8b-985bdacbb05b"
      ]
    }
  },
  "nbformat": 4,
  "nbformat_minor": 5
}