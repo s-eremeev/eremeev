{
 "cells": [
  {
   "cell_type": "markdown",
   "id": "d290baea-21dd-434c-a670-68c6cecb8fbf",
   "metadata": {},
   "source": [
    "## Прверка результатов работы макроса"
   ]
  },
  {
   "cell_type": "code",
   "execution_count": 2,
   "id": "1f9aa142-8f1b-4237-a7f2-2bf0402b13a7",
   "metadata": {
    "tags": []
   },
   "outputs": [],
   "source": [
    "import pandas as pd\n",
    "import numpy as np\n",
    "import os\n",
    "\n",
    "# from pprint import pprint\n",
    "\n",
    "# игнорирование предупреждения о формате при импорте из excel\n",
    "import warnings\n",
    "\n",
    "warnings.simplefilter(\"ignore\")"
   ]
  },
  {
   "cell_type": "code",
   "execution_count": 14,
   "id": "1eb228c1-7761-4787-acb5-d2b57b325d8b",
   "metadata": {
    "tags": []
   },
   "outputs": [
    {
     "name": "stdout",
     "output_type": "stream",
     "text": [
      "Collecting openpyxl\n",
      "  Using cached openpyxl-3.1.2-py2.py3-none-any.whl (249 kB)\n",
      "Collecting et-xmlfile\n",
      "  Using cached et_xmlfile-1.1.0-py3-none-any.whl (4.7 kB)\n",
      "Installing collected packages: et-xmlfile, openpyxl\n",
      "Successfully installed et-xmlfile-1.1.0 openpyxl-3.1.2\n",
      "Note: you may need to restart the kernel to use updated packages.\n"
     ]
    },
    {
     "name": "stderr",
     "output_type": "stream",
     "text": [
      "\n",
      "[notice] A new release of pip available: 22.3.1 -> 23.1.1\n",
      "[notice] To update, run: C:\\Users\\Admin\\AppData\\Local\\Microsoft\\WindowsApps\\PythonSoftwareFoundation.Python.3.11_qbz5n2kfra8p0\\python.exe -m pip install --upgrade pip\n"
     ]
    }
   ],
   "source": [
    "# pip install openpyxl"
   ]
  },
  {
   "cell_type": "code",
   "execution_count": 9,
   "id": "5f7b17cf-98d3-4526-897b-b465d43cad12",
   "metadata": {
    "tags": []
   },
   "outputs": [],
   "source": [
    "path_macros = input(\"укажите путь к папке макроса (например, C:/work/)\")\n",
    "path_suc = input(\"укажите путь к папке с файлом, содержащим успешные записи (например, C:/work/suc/)\")\n",
    "path_err = input(\"укажите путь к папке с файлом, содержащим записи c ошибками (например, C:/work/error/)\")\n",
    "path_last = input(\"укажите путь к папке с файлами, загруженными повторно после окончания работы маркоса (например, C:/work/last/)\")\n",
    "dir_list = os.listdir(path_macros)\n",
    "path_e = path_macros"
   ]
  },
  {
   "cell_type": "code",
   "execution_count": 6,
   "id": "ceae5ce4-6bb5-4910-bb8e-d689efb404c6",
   "metadata": {
    "tags": []
   },
   "outputs": [
    {
     "name": "stdout",
     "output_type": "stream",
     "text": [
      "control_files\n",
      "error\n",
      "good\n",
      "ЭЗ_бот_230412_инструкция_01.xlsm\n"
     ]
    }
   ],
   "source": [
    "bot_path = \"C:/work/\"\n",
    "for element in os.listdir(bot_path):\n",
    "    print(element)\n",
    "    if element.split(\".\")[-1] == \"xlsm\" and element.split(\"$\")[0] != \"~\":\n",
    "        bot_file_path = bot_path + element"
   ]
  },
  {
   "cell_type": "code",
   "execution_count": 7,
   "id": "128bae89-6e2f-4d77-85f3-a7f8a8f48810",
   "metadata": {
    "tags": []
   },
   "outputs": [
    {
     "data": {
      "text/plain": [
       "'C:/work/ЭЗ_бот_230412_инструкция_01.xlsm'"
      ]
     },
     "execution_count": 7,
     "metadata": {},
     "output_type": "execute_result"
    }
   ],
   "source": [
    "bot_file_path"
   ]
  },
  {
   "cell_type": "code",
   "execution_count": 8,
   "id": "c508319f-cad8-4e57-9757-e485dae63da3",
   "metadata": {
    "tags": []
   },
   "outputs": [],
   "source": [
    "df_test = pd.read_excel(bot_file_path, sheet_name = 'ТАБ')\n",
    "df_test = df_test.drop(index=[0, 1, 2])\n",
    "df_test = df_test.drop(df_test.columns[0],axis=1).reset_index(drop=True)\n",
    "df_test = df_test.rename(columns={\"Unnamed: 1\": \"region\",\n",
    "                                  \"Unnamed: 2\": \"successful_count\",\n",
    "                                  \"Unnamed: 3\": \"successful_rate\",\n",
    "                                  \"Unnamed: 4\": \"org_error_count\",\n",
    "                                  \"Unnamed: 5\": \"org_error_rate\",\n",
    "                                  \"Unnamed: 6\": \"tech_error_count\",\n",
    "                                  \"Unnamed: 7\": \"tech_error_rate\"})"
   ]
  },
  {
   "cell_type": "code",
   "execution_count": 9,
   "id": "e42b0ce6-1965-4445-b5f9-20a777fba7fa",
   "metadata": {
    "tags": []
   },
   "outputs": [
    {
     "data": {
      "text/html": [
       "<div>\n",
       "<style scoped>\n",
       "    .dataframe tbody tr th:only-of-type {\n",
       "        vertical-align: middle;\n",
       "    }\n",
       "\n",
       "    .dataframe tbody tr th {\n",
       "        vertical-align: top;\n",
       "    }\n",
       "\n",
       "    .dataframe thead th {\n",
       "        text-align: right;\n",
       "    }\n",
       "</style>\n",
       "<table border=\"1\" class=\"dataframe\">\n",
       "  <thead>\n",
       "    <tr style=\"text-align: right;\">\n",
       "      <th></th>\n",
       "      <th>region</th>\n",
       "      <th>successful_count</th>\n",
       "      <th>successful_rate</th>\n",
       "      <th>org_error_count</th>\n",
       "      <th>org_error_rate</th>\n",
       "      <th>tech_error_count</th>\n",
       "      <th>tech_error_rate</th>\n",
       "    </tr>\n",
       "  </thead>\n",
       "  <tbody>\n",
       "    <tr>\n",
       "      <th>0</th>\n",
       "      <td>Карачаево-Черкесская Республика</td>\n",
       "      <td>NaN</td>\n",
       "      <td>0.902017</td>\n",
       "      <td>NaN</td>\n",
       "      <td>0.060519</td>\n",
       "      <td>13</td>\n",
       "      <td>0.037464</td>\n",
       "    </tr>\n",
       "    <tr>\n",
       "      <th>1</th>\n",
       "      <td>Республика Бурятия</td>\n",
       "      <td>1889</td>\n",
       "      <td>0.853207</td>\n",
       "      <td>209</td>\n",
       "      <td>0.094399</td>\n",
       "      <td>116</td>\n",
       "      <td>0.052394</td>\n",
       "    </tr>\n",
       "    <tr>\n",
       "      <th>2</th>\n",
       "      <td>Чувашская Республика</td>\n",
       "      <td>2300</td>\n",
       "      <td>0.835452</td>\n",
       "      <td>126</td>\n",
       "      <td>0.045768</td>\n",
       "      <td>327</td>\n",
       "      <td>0.118780</td>\n",
       "    </tr>\n",
       "    <tr>\n",
       "      <th>3</th>\n",
       "      <td>Алтайский край</td>\n",
       "      <td>3333</td>\n",
       "      <td>0.800625</td>\n",
       "      <td>320</td>\n",
       "      <td>0.076868</td>\n",
       "      <td>510</td>\n",
       "      <td>0.122508</td>\n",
       "    </tr>\n",
       "    <tr>\n",
       "      <th>4</th>\n",
       "      <td>Кабардино-Балкарская Республика</td>\n",
       "      <td>6</td>\n",
       "      <td>0.750000</td>\n",
       "      <td>1</td>\n",
       "      <td>0.125000</td>\n",
       "      <td>1</td>\n",
       "      <td>0.125000</td>\n",
       "    </tr>\n",
       "    <tr>\n",
       "      <th>5</th>\n",
       "      <td>Ненецкий автономный округ</td>\n",
       "      <td>3</td>\n",
       "      <td>0.750000</td>\n",
       "      <td>0</td>\n",
       "      <td>0.000000</td>\n",
       "      <td>1</td>\n",
       "      <td>0.250000</td>\n",
       "    </tr>\n",
       "    <tr>\n",
       "      <th>6</th>\n",
       "      <td>Республика Тыва</td>\n",
       "      <td>937</td>\n",
       "      <td>0.746019</td>\n",
       "      <td>116</td>\n",
       "      <td>0.092357</td>\n",
       "      <td>203</td>\n",
       "      <td>0.161624</td>\n",
       "    </tr>\n",
       "    <tr>\n",
       "      <th>7</th>\n",
       "      <td>Чеченская Республика</td>\n",
       "      <td>NaN</td>\n",
       "      <td>0.738084</td>\n",
       "      <td>65</td>\n",
       "      <td>NaN</td>\n",
       "      <td>490</td>\n",
       "      <td>0.231241</td>\n",
       "    </tr>\n",
       "    <tr>\n",
       "      <th>8</th>\n",
       "      <td>г. Севастополь</td>\n",
       "      <td>1271</td>\n",
       "      <td>0.735107</td>\n",
       "      <td>247</td>\n",
       "      <td>0.142857</td>\n",
       "      <td>211</td>\n",
       "      <td>0.122036</td>\n",
       "    </tr>\n",
       "    <tr>\n",
       "      <th>9</th>\n",
       "      <td>Республика Дагестан</td>\n",
       "      <td>162</td>\n",
       "      <td>0.689362</td>\n",
       "      <td>40</td>\n",
       "      <td>0.170213</td>\n",
       "      <td>33</td>\n",
       "      <td>0.140426</td>\n",
       "    </tr>\n",
       "  </tbody>\n",
       "</table>\n",
       "</div>"
      ],
      "text/plain": [
       "                            region successful_count  successful_rate  \\\n",
       "0  Карачаево-Черкесская Республика              NaN         0.902017   \n",
       "1               Республика Бурятия             1889         0.853207   \n",
       "2             Чувашская Республика             2300         0.835452   \n",
       "3                   Алтайский край             3333         0.800625   \n",
       "4  Кабардино-Балкарская Республика                6         0.750000   \n",
       "5        Ненецкий автономный округ                3         0.750000   \n",
       "6                  Республика Тыва              937         0.746019   \n",
       "7             Чеченская Республика              NaN         0.738084   \n",
       "8                   г. Севастополь             1271         0.735107   \n",
       "9              Республика Дагестан              162         0.689362   \n",
       "\n",
       "  org_error_count  org_error_rate tech_error_count  tech_error_rate  \n",
       "0             NaN        0.060519               13         0.037464  \n",
       "1             209        0.094399              116         0.052394  \n",
       "2             126        0.045768              327         0.118780  \n",
       "3             320        0.076868              510         0.122508  \n",
       "4               1        0.125000                1         0.125000  \n",
       "5               0        0.000000                1         0.250000  \n",
       "6             116        0.092357              203         0.161624  \n",
       "7              65             NaN              490         0.231241  \n",
       "8             247        0.142857              211         0.122036  \n",
       "9              40        0.170213               33         0.140426  "
      ]
     },
     "execution_count": 9,
     "metadata": {},
     "output_type": "execute_result"
    }
   ],
   "source": [
    "df_test.head(10)"
   ]
  },
  {
   "cell_type": "code",
   "execution_count": 10,
   "id": "cc097832-7347-4ff9-9f34-4422f9639577",
   "metadata": {
    "tags": []
   },
   "outputs": [
    {
     "data": {
      "text/html": [
       "<div>\n",
       "<style scoped>\n",
       "    .dataframe tbody tr th:only-of-type {\n",
       "        vertical-align: middle;\n",
       "    }\n",
       "\n",
       "    .dataframe tbody tr th {\n",
       "        vertical-align: top;\n",
       "    }\n",
       "\n",
       "    .dataframe thead th {\n",
       "        text-align: right;\n",
       "    }\n",
       "</style>\n",
       "<table border=\"1\" class=\"dataframe\">\n",
       "  <thead>\n",
       "    <tr style=\"text-align: right;\">\n",
       "      <th></th>\n",
       "      <th>region</th>\n",
       "      <th>successful_count</th>\n",
       "      <th>successful_rate</th>\n",
       "      <th>org_error_count</th>\n",
       "      <th>org_error_rate</th>\n",
       "      <th>tech_error_count</th>\n",
       "      <th>tech_error_rate</th>\n",
       "    </tr>\n",
       "  </thead>\n",
       "  <tbody>\n",
       "    <tr>\n",
       "      <th>0</th>\n",
       "      <td>Карачаево-Черкесская Республика</td>\n",
       "      <td>NaN</td>\n",
       "      <td>0.902017</td>\n",
       "      <td>NaN</td>\n",
       "      <td>0.060519</td>\n",
       "      <td>13</td>\n",
       "      <td>0.037464</td>\n",
       "    </tr>\n",
       "    <tr>\n",
       "      <th>7</th>\n",
       "      <td>Чеченская Республика</td>\n",
       "      <td>NaN</td>\n",
       "      <td>0.738084</td>\n",
       "      <td>65</td>\n",
       "      <td>NaN</td>\n",
       "      <td>490</td>\n",
       "      <td>0.231241</td>\n",
       "    </tr>\n",
       "  </tbody>\n",
       "</table>\n",
       "</div>"
      ],
      "text/plain": [
       "                            region successful_count  successful_rate  \\\n",
       "0  Карачаево-Черкесская Республика              NaN         0.902017   \n",
       "7             Чеченская Республика              NaN         0.738084   \n",
       "\n",
       "  org_error_count  org_error_rate tech_error_count  tech_error_rate  \n",
       "0             NaN        0.060519               13         0.037464  \n",
       "7              65             NaN              490         0.231241  "
      ]
     },
     "execution_count": 10,
     "metadata": {},
     "output_type": "execute_result"
    }
   ],
   "source": [
    "df_test[df_test['successful_count'].isnull()]"
   ]
  },
  {
   "cell_type": "code",
   "execution_count": 11,
   "id": "eb2a15c3-bc83-463a-bab5-a85fdaff81e8",
   "metadata": {
    "tags": []
   },
   "outputs": [
    {
     "name": "stdout",
     "output_type": "stream",
     "text": [
      "ошибка в Карачаево-Черкесская Республика, показатель successful_count: nan\n",
      "ошибка в Карачаево-Черкесская Республика, показатель org_error_count: nan\n"
     ]
    },
    {
     "ename": "KeyError",
     "evalue": "0",
     "output_type": "error",
     "traceback": [
      "\u001b[1;31m---------------------------------------------------------------------------\u001b[0m",
      "\u001b[1;31mKeyError\u001b[0m                                  Traceback (most recent call last)",
      "File \u001b[1;32m~\\AppData\\Roaming\\jupyterlab-desktop\\jlab_server\\lib\\site-packages\\pandas\\core\\indexes\\base.py:3802\u001b[0m, in \u001b[0;36mIndex.get_loc\u001b[1;34m(self, key, method, tolerance)\u001b[0m\n\u001b[0;32m   3801\u001b[0m \u001b[38;5;28;01mtry\u001b[39;00m:\n\u001b[1;32m-> 3802\u001b[0m     \u001b[38;5;28;01mreturn\u001b[39;00m \u001b[38;5;28;43mself\u001b[39;49m\u001b[38;5;241;43m.\u001b[39;49m\u001b[43m_engine\u001b[49m\u001b[38;5;241;43m.\u001b[39;49m\u001b[43mget_loc\u001b[49m\u001b[43m(\u001b[49m\u001b[43mcasted_key\u001b[49m\u001b[43m)\u001b[49m\n\u001b[0;32m   3803\u001b[0m \u001b[38;5;28;01mexcept\u001b[39;00m \u001b[38;5;167;01mKeyError\u001b[39;00m \u001b[38;5;28;01mas\u001b[39;00m err:\n",
      "File \u001b[1;32m~\\AppData\\Roaming\\jupyterlab-desktop\\jlab_server\\lib\\site-packages\\pandas\\_libs\\index.pyx:138\u001b[0m, in \u001b[0;36mpandas._libs.index.IndexEngine.get_loc\u001b[1;34m()\u001b[0m\n",
      "File \u001b[1;32m~\\AppData\\Roaming\\jupyterlab-desktop\\jlab_server\\lib\\site-packages\\pandas\\_libs\\index.pyx:165\u001b[0m, in \u001b[0;36mpandas._libs.index.IndexEngine.get_loc\u001b[1;34m()\u001b[0m\n",
      "File \u001b[1;32mpandas\\_libs\\hashtable_class_helper.pxi:2263\u001b[0m, in \u001b[0;36mpandas._libs.hashtable.Int64HashTable.get_item\u001b[1;34m()\u001b[0m\n",
      "File \u001b[1;32mpandas\\_libs\\hashtable_class_helper.pxi:2273\u001b[0m, in \u001b[0;36mpandas._libs.hashtable.Int64HashTable.get_item\u001b[1;34m()\u001b[0m\n",
      "\u001b[1;31mKeyError\u001b[0m: 0",
      "\nThe above exception was the direct cause of the following exception:\n",
      "\u001b[1;31mKeyError\u001b[0m                                  Traceback (most recent call last)",
      "Cell \u001b[1;32mIn[11], line 5\u001b[0m\n\u001b[0;32m      2\u001b[0m df_row \u001b[38;5;241m=\u001b[39m pd\u001b[38;5;241m.\u001b[39mDataFrame(row)\u001b[38;5;241m.\u001b[39mT\n\u001b[0;32m      3\u001b[0m \u001b[38;5;28;01mfor\u001b[39;00m column \u001b[38;5;129;01min\u001b[39;00m df_row\u001b[38;5;241m.\u001b[39mcolumns\u001b[38;5;241m.\u001b[39mto_list():\n\u001b[0;32m      4\u001b[0m     \u001b[38;5;66;03m# print(column, df_row[column])\u001b[39;00m\n\u001b[1;32m----> 5\u001b[0m     \u001b[38;5;28;01mif\u001b[39;00m \u001b[38;5;28mstr\u001b[39m(\u001b[43mdf_row\u001b[49m\u001b[43m[\u001b[49m\u001b[43mcolumn\u001b[49m\u001b[43m]\u001b[49m\u001b[43m[\u001b[49m\u001b[38;5;241;43m0\u001b[39;49m\u001b[43m]\u001b[49m) \u001b[38;5;241m==\u001b[39m \u001b[38;5;124m\"\u001b[39m\u001b[38;5;124mnan\u001b[39m\u001b[38;5;124m\"\u001b[39m:\n\u001b[0;32m      6\u001b[0m         name \u001b[38;5;241m=\u001b[39m df_row[\u001b[38;5;124m\"\u001b[39m\u001b[38;5;124mregion\u001b[39m\u001b[38;5;124m\"\u001b[39m]\n\u001b[0;32m      7\u001b[0m         \u001b[38;5;28mprint\u001b[39m(\u001b[38;5;124mf\u001b[39m\u001b[38;5;124m\"\u001b[39m\u001b[38;5;124mошибка в \u001b[39m\u001b[38;5;132;01m{\u001b[39;00mname[\u001b[38;5;241m0\u001b[39m]\u001b[38;5;132;01m}\u001b[39;00m\u001b[38;5;124m, показатель \u001b[39m\u001b[38;5;132;01m{\u001b[39;00mcolumn\u001b[38;5;132;01m}\u001b[39;00m\u001b[38;5;124m: \u001b[39m\u001b[38;5;132;01m{\u001b[39;00m\u001b[38;5;28mstr\u001b[39m(df_row[column][\u001b[38;5;241m0\u001b[39m])\u001b[38;5;132;01m}\u001b[39;00m\u001b[38;5;124m\"\u001b[39m)\n",
      "File \u001b[1;32m~\\AppData\\Roaming\\jupyterlab-desktop\\jlab_server\\lib\\site-packages\\pandas\\core\\series.py:981\u001b[0m, in \u001b[0;36mSeries.__getitem__\u001b[1;34m(self, key)\u001b[0m\n\u001b[0;32m    978\u001b[0m     \u001b[38;5;28;01mreturn\u001b[39;00m \u001b[38;5;28mself\u001b[39m\u001b[38;5;241m.\u001b[39m_values[key]\n\u001b[0;32m    980\u001b[0m \u001b[38;5;28;01melif\u001b[39;00m key_is_scalar:\n\u001b[1;32m--> 981\u001b[0m     \u001b[38;5;28;01mreturn\u001b[39;00m \u001b[38;5;28;43mself\u001b[39;49m\u001b[38;5;241;43m.\u001b[39;49m\u001b[43m_get_value\u001b[49m\u001b[43m(\u001b[49m\u001b[43mkey\u001b[49m\u001b[43m)\u001b[49m\n\u001b[0;32m    983\u001b[0m \u001b[38;5;28;01mif\u001b[39;00m is_hashable(key):\n\u001b[0;32m    984\u001b[0m     \u001b[38;5;66;03m# Otherwise index.get_value will raise InvalidIndexError\u001b[39;00m\n\u001b[0;32m    985\u001b[0m     \u001b[38;5;28;01mtry\u001b[39;00m:\n\u001b[0;32m    986\u001b[0m         \u001b[38;5;66;03m# For labels that don't resolve as scalars like tuples and frozensets\u001b[39;00m\n",
      "File \u001b[1;32m~\\AppData\\Roaming\\jupyterlab-desktop\\jlab_server\\lib\\site-packages\\pandas\\core\\series.py:1089\u001b[0m, in \u001b[0;36mSeries._get_value\u001b[1;34m(self, label, takeable)\u001b[0m\n\u001b[0;32m   1086\u001b[0m     \u001b[38;5;28;01mreturn\u001b[39;00m \u001b[38;5;28mself\u001b[39m\u001b[38;5;241m.\u001b[39m_values[label]\n\u001b[0;32m   1088\u001b[0m \u001b[38;5;66;03m# Similar to Index.get_value, but we do not fall back to positional\u001b[39;00m\n\u001b[1;32m-> 1089\u001b[0m loc \u001b[38;5;241m=\u001b[39m \u001b[38;5;28;43mself\u001b[39;49m\u001b[38;5;241;43m.\u001b[39;49m\u001b[43mindex\u001b[49m\u001b[38;5;241;43m.\u001b[39;49m\u001b[43mget_loc\u001b[49m\u001b[43m(\u001b[49m\u001b[43mlabel\u001b[49m\u001b[43m)\u001b[49m\n\u001b[0;32m   1090\u001b[0m \u001b[38;5;28;01mreturn\u001b[39;00m \u001b[38;5;28mself\u001b[39m\u001b[38;5;241m.\u001b[39mindex\u001b[38;5;241m.\u001b[39m_get_values_for_loc(\u001b[38;5;28mself\u001b[39m, loc, label)\n",
      "File \u001b[1;32m~\\AppData\\Roaming\\jupyterlab-desktop\\jlab_server\\lib\\site-packages\\pandas\\core\\indexes\\base.py:3804\u001b[0m, in \u001b[0;36mIndex.get_loc\u001b[1;34m(self, key, method, tolerance)\u001b[0m\n\u001b[0;32m   3802\u001b[0m     \u001b[38;5;28;01mreturn\u001b[39;00m \u001b[38;5;28mself\u001b[39m\u001b[38;5;241m.\u001b[39m_engine\u001b[38;5;241m.\u001b[39mget_loc(casted_key)\n\u001b[0;32m   3803\u001b[0m \u001b[38;5;28;01mexcept\u001b[39;00m \u001b[38;5;167;01mKeyError\u001b[39;00m \u001b[38;5;28;01mas\u001b[39;00m err:\n\u001b[1;32m-> 3804\u001b[0m     \u001b[38;5;28;01mraise\u001b[39;00m \u001b[38;5;167;01mKeyError\u001b[39;00m(key) \u001b[38;5;28;01mfrom\u001b[39;00m \u001b[38;5;21;01merr\u001b[39;00m\n\u001b[0;32m   3805\u001b[0m \u001b[38;5;28;01mexcept\u001b[39;00m \u001b[38;5;167;01mTypeError\u001b[39;00m:\n\u001b[0;32m   3806\u001b[0m     \u001b[38;5;66;03m# If we have a listlike key, _check_indexing_error will raise\u001b[39;00m\n\u001b[0;32m   3807\u001b[0m     \u001b[38;5;66;03m#  InvalidIndexError. Otherwise we fall through and re-raise\u001b[39;00m\n\u001b[0;32m   3808\u001b[0m     \u001b[38;5;66;03m#  the TypeError.\u001b[39;00m\n\u001b[0;32m   3809\u001b[0m     \u001b[38;5;28mself\u001b[39m\u001b[38;5;241m.\u001b[39m_check_indexing_error(key)\n",
      "\u001b[1;31mKeyError\u001b[0m: 0"
     ]
    }
   ],
   "source": [
    "for index, row in df_test.iterrows():\n",
    "    df_row = pd.DataFrame(row).T\n",
    "    for column in df_row.columns.to_list():\n",
    "        # print(column, df_row[column])\n",
    "        if str(df_row[column][0]) == \"nan\":\n",
    "            name = df_row[\"region\"]\n",
    "            print(f\"ошибка в {name[0]}, показатель {column}: {str(df_row[column][0])}\")"
   ]
  },
  {
   "cell_type": "code",
   "execution_count": 5,
   "id": "50449094-b8ee-42f9-98bd-11fa6eda4d7f",
   "metadata": {
    "tags": []
   },
   "outputs": [
    {
     "ename": "NameError",
     "evalue": "name 'df_row' is not defined",
     "output_type": "error",
     "traceback": [
      "\u001b[1;31m---------------------------------------------------------------------------\u001b[0m",
      "\u001b[1;31mNameError\u001b[0m                                 Traceback (most recent call last)",
      "Cell \u001b[1;32mIn[5], line 1\u001b[0m\n\u001b[1;32m----> 1\u001b[0m \u001b[43mdf_row\u001b[49m\n",
      "\u001b[1;31mNameError\u001b[0m: name 'df_row' is not defined"
     ]
    }
   ],
   "source": [
    "df_row"
   ]
  },
  {
   "cell_type": "code",
   "execution_count": 57,
   "id": "02eb09bb-1283-45c3-ac20-9851f0ec612e",
   "metadata": {
    "tags": []
   },
   "outputs": [
    {
     "data": {
      "text/plain": [
       "['region',\n",
       " 'successful_count',\n",
       " 'successful_rate',\n",
       " 'org_error_count',\n",
       " 'org_error_rate',\n",
       " 'tech_error_count',\n",
       " 'tech_error_rate']"
      ]
     },
     "execution_count": 57,
     "metadata": {},
     "output_type": "execute_result"
    }
   ],
   "source": [
    "df_test.columns.to_list()"
   ]
  },
  {
   "cell_type": "code",
   "execution_count": 12,
   "id": "cd4a32ba-37c5-478f-ad89-f7883a1fffba",
   "metadata": {
    "tags": []
   },
   "outputs": [
    {
     "name": "stdout",
     "output_type": "stream",
     "text": [
      "Файл 22.02.csv:\n",
      "- контрольная сумма по полю 'step_id': 574049, изменение: 0\n",
      "- контрольная сумма по полю 'error_code': 288321, изменение: 0\n",
      "- общее число строк: 175858, изменение: 0\n",
      "Файл И38_успешные_сессии_20230422.csv:\n",
      "- контрольное среднее значение по полю 'session_id': 2995509778.0150895, изменение: 0.0\n",
      "- контрольная сумма по полю 'Тип записи': 109122, изменение: 0\n",
      "- общее число строк: 36515, изменение: 0\n"
     ]
    }
   ],
   "source": [
    "# загрузка файлов ошибок\n",
    "df_e = pd.read_csv(r\"C:/work/control_files/22.04.csv\", sep=\";\", index_col=0)\n",
    "df_e_new = pd.read_csv(r\"C:/work/control_files/22.04_new.csv\", sep=\";\", index_col=0)\n",
    "# загрузка успешных файлов\n",
    "df_s = pd.read_csv(r\"C:/work/control_files/И38_успешные_сессии_20230422.csv\", sep=\";\", index_col=0)\n",
    "df_s_new = pd.read_csv(r\"C:/work/control_files/И38_успешные_сессии_20230422_new.csv\", sep=\";\", index_col=0)\n",
    "# начальное состояние файла\n",
    "e_step_id_sum = df_e[\"step_id\"].sum()\n",
    "e_erroe_code_sum = df_e[\"error_code\"].sum()\n",
    "s_session_id_mean = df_s[\"session_id\"].mean()\n",
    "s_type_sum = df_s[\"Тип записи\"].sum()\n",
    "# конечное состояние файла (добавить к прежнему названию _new)\n",
    "e_step_id_sum_new = df_e_new[\"step_id\"].sum()\n",
    "e_erroe_code_sum_new = df_e_new[\"error_code\"].sum()\n",
    "s_session_id_mean_new = df_s_new[\"session_id\"].mean()\n",
    "s_type_sum_new = df_s_new[\"Тип записи\"].sum()\n",
    "print(f\"Файл 22.02.csv:\\n- контрольная сумма по полю 'step_id': {e_step_id_sum_new}, изменение: {e_step_id_sum_new - e_step_id_sum}\\n- контрольная сумма по полю 'error_code': {e_erroe_code_sum_new}, изменение: {e_erroe_code_sum_new - e_erroe_code_sum}\\n- общее число строк: {df_e_new.shape[0]}, изменение: {df_e_new.shape[0] - df_e.shape[0]}\")\n",
    "print(f\"Файл И38_успешные_сессии_20230422.csv:\\n- контрольное среднее значение по полю 'session_id': {s_session_id_mean_new}, изменение: {s_session_id_mean_new - s_session_id_mean}\\n- контрольная сумма по полю 'Тип записи': {s_type_sum_new}, изменение: {s_type_sum_new - s_type_sum}\\n- общее число строк: {df_s_new.shape[0]}, изменение: {df_s_new.shape[0] - df_s.shape[0]}\")"
   ]
  },
  {
   "cell_type": "code",
   "execution_count": null,
   "id": "2d30df27-10fd-4b83-8e1d-410e1fc1a46e",
   "metadata": {},
   "outputs": [],
   "source": []
  },
  {
   "cell_type": "code",
   "execution_count": null,
   "id": "989232ac-e73c-40a1-be73-42890c175b05",
   "metadata": {},
   "outputs": [],
   "source": []
  },
  {
   "cell_type": "code",
   "execution_count": null,
   "id": "49eeed4c-f3d4-4df4-9617-42b6c737cc6f",
   "metadata": {},
   "outputs": [],
   "source": []
  },
  {
   "cell_type": "code",
   "execution_count": null,
   "id": "45a6f455-661c-4de6-839f-6ed0e1590134",
   "metadata": {},
   "outputs": [],
   "source": []
  }
 ],
 "metadata": {
  "kernelspec": {
   "display_name": "Python 3 (ipykernel)",
   "language": "python",
   "name": "python3"
  },
  "language_info": {
   "codemirror_mode": {
    "name": "ipython",
    "version": 3
   },
   "file_extension": ".py",
   "mimetype": "text/x-python",
   "name": "python",
   "nbconvert_exporter": "python",
   "pygments_lexer": "ipython3",
   "version": "3.8.16"
  },
  "widgets": {
   "application/vnd.jupyter.widget-state+json": {
    "state": {},
    "version_major": 2,
    "version_minor": 0
   }
  }
 },
 "nbformat": 4,
 "nbformat_minor": 5
}
