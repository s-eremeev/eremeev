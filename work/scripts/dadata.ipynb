{
 "cells": [
  {
   "cell_type": "code",
   "execution_count": 13,
   "metadata": {},
   "outputs": [],
   "source": [
    "# https://github.com/hflabs/dadata-py\n",
    "\n",
    "from dadata import Dadata\n",
    "\n",
    "token = \"edf41a5fb5c5986b34e54bc3dd0200acb59fc674\"\n",
    "dadata = Dadata(token)\n",
    "result = dadata.geolocate(\n",
    "    name=\"address\", lat=41.378069, lon=47.444603, radius_meters=100\n",
    ")"
   ]
  },
  {
   "cell_type": "code",
   "execution_count": 18,
   "metadata": {},
   "outputs": [
    {
     "data": {
      "text/plain": [
       "'368743, Респ Дагестан, Ахтынский р-н, село Хнов'"
      ]
     },
     "execution_count": 18,
     "metadata": {},
     "output_type": "execute_result"
    }
   ],
   "source": [
    "result[0][\"unrestricted_value\"]"
   ]
  },
  {
   "cell_type": "code",
   "execution_count": 37,
   "metadata": {},
   "outputs": [],
   "source": [
    "# https://github.com/hflabs/dadata-py\n",
    "\n",
    "from dadata import Dadata\n",
    "\n",
    "token = \"edf41a5fb5c5986b34e54bc3dd0200acb59fc674\"\n",
    "dadata = Dadata(token)\n",
    "result = dadata.find_by_id(\"fias\", \"0006f280-04dd-470c-bcf9-f5d1b2e4c49a\")"
   ]
  },
  {
   "cell_type": "code",
   "execution_count": 38,
   "metadata": {},
   "outputs": [
    {
     "data": {
      "text/plain": [
       "'село Хмелёвка'"
      ]
     },
     "execution_count": 38,
     "metadata": {},
     "output_type": "execute_result"
    }
   ],
   "source": [
    "result[0][\"data\"][\"settlement_type_full\"] + \" \" + result[0][\"data\"][\"settlement\"]"
   ]
  },
  {
   "cell_type": "code",
   "execution_count": 33,
   "metadata": {},
   "outputs": [
    {
     "data": {
      "text/plain": [
       "{'postal_code': '652472',\n",
       " 'region_fias_id': '393aeccb-89ef-4a7e-ae42-08d5cebc2e30',\n",
       " 'region_kladr_id': '4200000000000',\n",
       " 'region_with_type': 'Кемеровская область - Кузбасс',\n",
       " 'region_type': 'обл',\n",
       " 'region_type_full': 'область',\n",
       " 'region': 'Кемеровская область - Кузбасс',\n",
       " 'area_fias_id': None,\n",
       " 'area_kladr_id': None,\n",
       " 'area_with_type': None,\n",
       " 'area_type': None,\n",
       " 'area_type_full': None,\n",
       " 'area': None,\n",
       " 'city_fias_id': '8a5314a4-903e-475c-a4db-8f03db3b793f',\n",
       " 'city_kladr_id': '4200000200000',\n",
       " 'city_with_type': 'г Анжеро-Судженск',\n",
       " 'city_type': 'г',\n",
       " 'city_type_full': 'город',\n",
       " 'city': 'Анжеро-Судженск',\n",
       " 'city_district_fias_id': None,\n",
       " 'city_district_kladr_id': None,\n",
       " 'city_district_with_type': None,\n",
       " 'city_district_type': None,\n",
       " 'city_district_type_full': None,\n",
       " 'city_district': None,\n",
       " 'settlement_fias_id': '0015d112-44b9-4cfe-8950-c7e24db37b21',\n",
       " 'settlement_kladr_id': '4200000200700',\n",
       " 'settlement_with_type': 'село Лебедянка',\n",
       " 'settlement_type': 'с',\n",
       " 'settlement_type_full': 'село',\n",
       " 'settlement': 'Лебедянка',\n",
       " 'planning_structure_fias_id': None,\n",
       " 'planning_structure_kladr_id': None,\n",
       " 'planning_structure_with_type': None,\n",
       " 'planning_structure_type': None,\n",
       " 'planning_structure_type_full': None,\n",
       " 'planning_structure': None,\n",
       " 'street_fias_id': None,\n",
       " 'street_kladr_id': None,\n",
       " 'street_with_type': None,\n",
       " 'street_type': None,\n",
       " 'street_type_full': None,\n",
       " 'street': None,\n",
       " 'house_fias_id': None,\n",
       " 'house_kladr_id': None,\n",
       " 'house_type': None,\n",
       " 'house': None,\n",
       " 'block': None,\n",
       " 'building_type': None,\n",
       " 'building': None,\n",
       " 'fias_id': '0015d112-44b9-4cfe-8950-c7e24db37b21',\n",
       " 'fias_code': '4200000200700000000',\n",
       " 'fias_level': '6',\n",
       " 'fias_actuality_state': '0',\n",
       " 'kladr_id': '4200000200700',\n",
       " 'capital_marker': '0',\n",
       " 'okato': '32404000002',\n",
       " 'oktmo': '32704000116',\n",
       " 'cadastral_number': None,\n",
       " 'tax_office': '4246',\n",
       " 'tax_office_legal': '4246',\n",
       " 'history_values': None,\n",
       " 'source': None,\n",
       " 'qc': None}"
      ]
     },
     "execution_count": 33,
     "metadata": {},
     "output_type": "execute_result"
    }
   ],
   "source": [
    "result[0][\"data\"]"
   ]
  }
 ],
 "metadata": {
  "kernelspec": {
   "display_name": "Python 3",
   "language": "python",
   "name": "python3"
  },
  "language_info": {
   "codemirror_mode": {
    "name": "ipython",
    "version": 3
   },
   "file_extension": ".py",
   "mimetype": "text/x-python",
   "name": "python",
   "nbconvert_exporter": "python",
   "pygments_lexer": "ipython3",
   "version": "3.11.6"
  }
 },
 "nbformat": 4,
 "nbformat_minor": 2
}
