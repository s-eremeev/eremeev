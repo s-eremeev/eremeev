{
 "cells": [
  {
   "cell_type": "code",
   "execution_count": 6,
   "metadata": {},
   "outputs": [],
   "source": [
    "# https://github.com/hflabs/dadata-py\n",
    "\n",
    "from dadata import Dadata\n",
    "\n",
    "token = \"edf41a5fb5c5986b34e54bc3dd0200acb59fc674\"\n",
    "dadata = Dadata(token)\n",
    "result = dadata.geolocate(\n",
    "    name=\"address\", lat=53.34357, lon=83.668475, radius_meters=10, division=\"municipal\"\n",
    ")\n",
    "\n",
    "#lat=53.34357, lon=83.668475\n",
    "#52.668633\t84.944711"
   ]
  },
  {
   "cell_type": "code",
   "execution_count": 32,
   "metadata": {},
   "outputs": [
    {
     "name": "stdout",
     "output_type": "stream",
     "text": [
      "городской округ город Барнаул\n"
     ]
    }
   ],
   "source": [
    "print(result[0]['data'][\"area_type_full\"], result[0]['data'][\"area\"])"
   ]
  },
  {
   "cell_type": "code",
   "execution_count": 33,
   "metadata": {},
   "outputs": [
    {
     "data": {
      "text/plain": [
       "2"
      ]
     },
     "execution_count": 33,
     "metadata": {},
     "output_type": "execute_result"
    }
   ],
   "source": [
    "len(result)"
   ]
  },
  {
   "cell_type": "markdown",
   "metadata": {},
   "source": [
    "administrative"
   ]
  },
  {
   "cell_type": "code",
   "execution_count": 8,
   "metadata": {},
   "outputs": [],
   "source": [
    "# https://github.com/hflabs/dadata-py\n",
    "\n",
    "from dadata import Dadata\n",
    "\n",
    "token = \"edf41a5fb5c5986b34e54bc3dd0200acb59fc674\"\n",
    "dadata = Dadata(token)\n",
    "result = dadata.find_by_id(\"address\", \"b3132f05-ac36-4bf7-ad0e-2c01d3926ee8\", division=\"municipal\")"
   ]
  },
  {
   "cell_type": "code",
   "execution_count": 10,
   "metadata": {},
   "outputs": [],
   "source": [
    "from dadata import Dadata\n",
    "\n",
    "token = \"edf41a5fb5c5986b34e54bc3dd0200acb59fc674\"\n",
    "dadata = Dadata(token)\n",
    "result = dadata.find_by_id(\"address\", \"b3132f05-ac36-4bf7-ad0e-2c01d3926ee8\", division=\"administrative\")"
   ]
  },
  {
   "cell_type": "code",
   "execution_count": 11,
   "metadata": {},
   "outputs": [
    {
     "data": {
      "text/plain": [
       "[{'value': 'Ставропольский край, г Железноводск, ул Чапаева, д 5',\n",
       "  'unrestricted_value': '357401, Ставропольский край, г Железноводск, ул Чапаева, д 5',\n",
       "  'data': {'postal_code': '357401',\n",
       "   'country': 'Россия',\n",
       "   'country_iso_code': 'RU',\n",
       "   'federal_district': 'Северо-Кавказский',\n",
       "   'region_fias_id': '327a060b-878c-4fb4-8dc4-d5595871a3d8',\n",
       "   'region_kladr_id': '2600000000000',\n",
       "   'region_iso_code': 'RU-STA',\n",
       "   'region_with_type': 'Ставропольский край',\n",
       "   'region_type': 'край',\n",
       "   'region_type_full': 'край',\n",
       "   'region': 'Ставропольский',\n",
       "   'area_fias_id': None,\n",
       "   'area_kladr_id': None,\n",
       "   'area_with_type': None,\n",
       "   'area_type': None,\n",
       "   'area_type_full': None,\n",
       "   'area': None,\n",
       "   'city_fias_id': 'f231a6e9-5631-44a6-80bf-585e9491165e',\n",
       "   'city_kladr_id': '2600000300000',\n",
       "   'city_with_type': 'г Железноводск',\n",
       "   'city_type': 'г',\n",
       "   'city_type_full': 'город',\n",
       "   'city': 'Железноводск',\n",
       "   'city_area': None,\n",
       "   'city_district_fias_id': None,\n",
       "   'city_district_kladr_id': None,\n",
       "   'city_district_with_type': None,\n",
       "   'city_district_type': None,\n",
       "   'city_district_type_full': None,\n",
       "   'city_district': None,\n",
       "   'settlement_fias_id': None,\n",
       "   'settlement_kladr_id': None,\n",
       "   'settlement_with_type': None,\n",
       "   'settlement_type': None,\n",
       "   'settlement_type_full': None,\n",
       "   'settlement': None,\n",
       "   'street_fias_id': '98cfbd60-7e8d-4bdb-b000-9502e54d87ff',\n",
       "   'street_kladr_id': '26000003000004400',\n",
       "   'street_with_type': 'ул Чапаева',\n",
       "   'street_type': 'ул',\n",
       "   'street_type_full': 'улица',\n",
       "   'street': 'Чапаева',\n",
       "   'stead_fias_id': None,\n",
       "   'stead_cadnum': None,\n",
       "   'stead_type': None,\n",
       "   'stead_type_full': None,\n",
       "   'stead': None,\n",
       "   'house_fias_id': 'b3132f05-ac36-4bf7-ad0e-2c01d3926ee8',\n",
       "   'house_kladr_id': '2600000300000440039',\n",
       "   'house_cadnum': None,\n",
       "   'house_flat_count': None,\n",
       "   'house_type': 'д',\n",
       "   'house_type_full': 'дом',\n",
       "   'house': '5',\n",
       "   'block_type': None,\n",
       "   'block_type_full': None,\n",
       "   'block': None,\n",
       "   'entrance': None,\n",
       "   'floor': None,\n",
       "   'flat_fias_id': None,\n",
       "   'flat_cadnum': None,\n",
       "   'flat_type': None,\n",
       "   'flat_type_full': None,\n",
       "   'flat': None,\n",
       "   'flat_area': None,\n",
       "   'square_meter_price': None,\n",
       "   'flat_price': None,\n",
       "   'room_fias_id': None,\n",
       "   'room_cadnum': None,\n",
       "   'room_type': None,\n",
       "   'room_type_full': None,\n",
       "   'room': None,\n",
       "   'postal_box': None,\n",
       "   'fias_id': 'b3132f05-ac36-4bf7-ad0e-2c01d3926ee8',\n",
       "   'fias_code': None,\n",
       "   'fias_level': '8',\n",
       "   'fias_actuality_state': '0',\n",
       "   'kladr_id': '2600000300000440039',\n",
       "   'geoname_id': '463340',\n",
       "   'capital_marker': '0',\n",
       "   'okato': '07412000000',\n",
       "   'oktmo': '07712000001',\n",
       "   'tax_office': '2649',\n",
       "   'tax_office_legal': '2649',\n",
       "   'timezone': None,\n",
       "   'geo_lat': '44.145702',\n",
       "   'geo_lon': '43.017857',\n",
       "   'beltway_hit': None,\n",
       "   'beltway_distance': None,\n",
       "   'metro': None,\n",
       "   'divisions': None,\n",
       "   'qc_geo': '0',\n",
       "   'qc_complete': None,\n",
       "   'qc_house': None,\n",
       "   'history_values': None,\n",
       "   'unparsed_parts': None,\n",
       "   'source': None,\n",
       "   'qc': None}}]"
      ]
     },
     "execution_count": 11,
     "metadata": {},
     "output_type": "execute_result"
    }
   ],
   "source": [
    "result"
   ]
  },
  {
   "cell_type": "code",
   "execution_count": 13,
   "metadata": {},
   "outputs": [
    {
     "data": {
      "text/plain": [
       "'край Ставропольский'"
      ]
     },
     "execution_count": 13,
     "metadata": {},
     "output_type": "execute_result"
    }
   ],
   "source": [
    "result[0][\"data\"][\"region_type_full\"] + \" \" + result[0][\"data\"][\"region\"]"
   ]
  },
  {
   "cell_type": "code",
   "execution_count": 58,
   "metadata": {},
   "outputs": [
    {
     "data": {
      "text/plain": [
       "'городской округ Тейково'"
      ]
     },
     "execution_count": 58,
     "metadata": {},
     "output_type": "execute_result"
    }
   ],
   "source": [
    "result[0][\"data\"][\"area_type_full\"] + \" \" + result[0][\"data\"][\"area\"]"
   ]
  },
  {
   "cell_type": "code",
   "execution_count": 59,
   "metadata": {},
   "outputs": [
    {
     "ename": "TypeError",
     "evalue": "unsupported operand type(s) for +: 'NoneType' and 'str'",
     "output_type": "error",
     "traceback": [
      "\u001b[1;31m---------------------------------------------------------------------------\u001b[0m",
      "\u001b[1;31mTypeError\u001b[0m                                 Traceback (most recent call last)",
      "Cell \u001b[1;32mIn[59], line 1\u001b[0m\n\u001b[1;32m----> 1\u001b[0m \u001b[43mresult\u001b[49m\u001b[43m[\u001b[49m\u001b[38;5;241;43m0\u001b[39;49m\u001b[43m]\u001b[49m\u001b[43m[\u001b[49m\u001b[38;5;124;43m\"\u001b[39;49m\u001b[38;5;124;43mdata\u001b[39;49m\u001b[38;5;124;43m\"\u001b[39;49m\u001b[43m]\u001b[49m\u001b[43m[\u001b[49m\u001b[38;5;124;43m\"\u001b[39;49m\u001b[38;5;124;43msub_area_type_full\u001b[39;49m\u001b[38;5;124;43m\"\u001b[39;49m\u001b[43m]\u001b[49m\u001b[43m \u001b[49m\u001b[38;5;241;43m+\u001b[39;49m\u001b[43m \u001b[49m\u001b[38;5;124;43m\"\u001b[39;49m\u001b[38;5;124;43m \u001b[39;49m\u001b[38;5;124;43m\"\u001b[39;49m \u001b[38;5;241m+\u001b[39m result[\u001b[38;5;241m0\u001b[39m][\u001b[38;5;124m\"\u001b[39m\u001b[38;5;124mdata\u001b[39m\u001b[38;5;124m\"\u001b[39m][\u001b[38;5;124m\"\u001b[39m\u001b[38;5;124msub_area\u001b[39m\u001b[38;5;124m\"\u001b[39m]\n",
      "\u001b[1;31mTypeError\u001b[0m: unsupported operand type(s) for +: 'NoneType' and 'str'"
     ]
    }
   ],
   "source": [
    "result[0][\"data\"][\"sub_area_type_full\"] + \" \" + result[0][\"data\"][\"sub_area\"]"
   ]
  },
  {
   "cell_type": "code",
   "execution_count": 60,
   "metadata": {},
   "outputs": [],
   "source": [
    "def multymun(kode):\n",
    "    result = dadata.find_by_id(\"address\", kode, division=\"municipal\")\n",
    "    try:\n",
    "        m_1 = result[0][\"data\"][\"region_type_full\"] + \" \" + result[0][\"data\"][\"region\"]\n",
    "    except Exception:\n",
    "        m_1 = \"\"\n",
    "    try:\n",
    "        m_2 = result[0][\"data\"][\"area_type_full\"] + \" \" + result[0][\"data\"][\"area\"]\n",
    "    except Exception:\n",
    "        m_2 = \"\"\n",
    "    try:\n",
    "        m_3 = result[0][\"data\"][\"sub_area_type_full\"] + \" \" + result[0][\"data\"][\"sub_area\"]\n",
    "    except Exception:\n",
    "        m_3 = \"\"\n",
    "    return [m_1, m_2, m_3]"
   ]
  },
  {
   "cell_type": "code",
   "execution_count": 67,
   "metadata": {},
   "outputs": [
    {
     "data": {
      "text/plain": [
       "''"
      ]
     },
     "execution_count": 67,
     "metadata": {},
     "output_type": "execute_result"
    }
   ],
   "source": [
    "kode = \"aa9df167-87a8-45b6-b034-1c930cdece16\"\n",
    "multymun(kode)[2]"
   ]
  },
  {
   "cell_type": "code",
   "execution_count": 13,
   "metadata": {},
   "outputs": [
    {
     "ename": "HTTPStatusError",
     "evalue": "Client error '401 ' for url 'https://cleaner.dadata.ru/api/v1/clean/address'\nFor more information check: https://developer.mozilla.org/en-US/docs/Web/HTTP/Status/401",
     "output_type": "error",
     "traceback": [
      "\u001b[1;31m---------------------------------------------------------------------------\u001b[0m",
      "\u001b[1;31mHTTPStatusError\u001b[0m                           Traceback (most recent call last)",
      "Cell \u001b[1;32mIn[13], line 7\u001b[0m\n\u001b[0;32m      5\u001b[0m token \u001b[38;5;241m=\u001b[39m \u001b[38;5;124m\"\u001b[39m\u001b[38;5;124medf41a5fb5c5986b34e54bc3dd0200acb59fc674\u001b[39m\u001b[38;5;124m\"\u001b[39m\n\u001b[0;32m      6\u001b[0m dadata \u001b[38;5;241m=\u001b[39m Dadata(token)\n\u001b[1;32m----> 7\u001b[0m result \u001b[38;5;241m=\u001b[39m \u001b[43mdadata\u001b[49m\u001b[38;5;241;43m.\u001b[39;49m\u001b[43mclean\u001b[49m\u001b[43m(\u001b[49m\u001b[38;5;124;43m\"\u001b[39;49m\u001b[38;5;124;43maddress\u001b[39;49m\u001b[38;5;124;43m\"\u001b[39;49m\u001b[43m,\u001b[49m\u001b[43m \u001b[49m\u001b[38;5;124;43m\"\u001b[39;49m\u001b[38;5;124;43m299014, г. Севастополь, Российская Федерация, ул. Рыбаков, д. 5-А, нежилые помещения третьего этажа\u001b[39;49m\u001b[38;5;124;43m\"\u001b[39;49m\u001b[43m)\u001b[49m\n\u001b[0;32m      8\u001b[0m result\n",
      "File \u001b[1;32m~\\AppData\\Local\\Packages\\PythonSoftwareFoundation.Python.3.11_qbz5n2kfra8p0\\LocalCache\\local-packages\\Python311\\site-packages\\dadata\\sync.py:166\u001b[0m, in \u001b[0;36mDadataClient.clean\u001b[1;34m(self, name, source)\u001b[0m\n\u001b[0;32m    164\u001b[0m \u001b[38;5;28;01mdef\u001b[39;00m \u001b[38;5;21mclean\u001b[39m(\u001b[38;5;28mself\u001b[39m, name: \u001b[38;5;28mstr\u001b[39m, source: \u001b[38;5;28mstr\u001b[39m) \u001b[38;5;241m-\u001b[39m\u001b[38;5;241m>\u001b[39m Optional[Dict]:\n\u001b[0;32m    165\u001b[0m \u001b[38;5;250m    \u001b[39m\u001b[38;5;124;03m\"\"\"Cleanse `source` as `name` data type.\"\"\"\u001b[39;00m\n\u001b[1;32m--> 166\u001b[0m     \u001b[38;5;28;01mreturn\u001b[39;00m \u001b[38;5;28;43mself\u001b[39;49m\u001b[38;5;241;43m.\u001b[39;49m\u001b[43m_cleaner\u001b[49m\u001b[38;5;241;43m.\u001b[39;49m\u001b[43mclean\u001b[49m\u001b[43m(\u001b[49m\u001b[43mname\u001b[49m\u001b[38;5;241;43m=\u001b[39;49m\u001b[43mname\u001b[49m\u001b[43m,\u001b[49m\u001b[43m \u001b[49m\u001b[43msource\u001b[49m\u001b[38;5;241;43m=\u001b[39;49m\u001b[43msource\u001b[49m\u001b[43m)\u001b[49m\n",
      "File \u001b[1;32m~\\AppData\\Local\\Packages\\PythonSoftwareFoundation.Python.3.11_qbz5n2kfra8p0\\LocalCache\\local-packages\\Python311\\site-packages\\dadata\\sync.py:59\u001b[0m, in \u001b[0;36mCleanClient.clean\u001b[1;34m(self, name, source)\u001b[0m\n\u001b[0;32m     57\u001b[0m url \u001b[38;5;241m=\u001b[39m \u001b[38;5;124mf\u001b[39m\u001b[38;5;124m\"\u001b[39m\u001b[38;5;124mclean/\u001b[39m\u001b[38;5;132;01m{\u001b[39;00mname\u001b[38;5;132;01m}\u001b[39;00m\u001b[38;5;124m\"\u001b[39m\n\u001b[0;32m     58\u001b[0m data \u001b[38;5;241m=\u001b[39m [source]\n\u001b[1;32m---> 59\u001b[0m response \u001b[38;5;241m=\u001b[39m \u001b[38;5;28;43mself\u001b[39;49m\u001b[38;5;241;43m.\u001b[39;49m\u001b[43m_post\u001b[49m\u001b[43m(\u001b[49m\u001b[43murl\u001b[49m\u001b[43m,\u001b[49m\u001b[43m \u001b[49m\u001b[43mdata\u001b[49m\u001b[43m)\u001b[49m\n\u001b[0;32m     60\u001b[0m \u001b[38;5;28;01mreturn\u001b[39;00m response[\u001b[38;5;241m0\u001b[39m] \u001b[38;5;28;01mif\u001b[39;00m response \u001b[38;5;28;01melse\u001b[39;00m \u001b[38;5;28;01mNone\u001b[39;00m\n",
      "File \u001b[1;32m~\\AppData\\Local\\Packages\\PythonSoftwareFoundation.Python.3.11_qbz5n2kfra8p0\\LocalCache\\local-packages\\Python311\\site-packages\\dadata\\sync.py:43\u001b[0m, in \u001b[0;36mClientBase._post\u001b[1;34m(self, url, data, timeout)\u001b[0m\n\u001b[0;32m     41\u001b[0m \u001b[38;5;250m\u001b[39m\u001b[38;5;124;03m\"\"\"POST request to Dadata API\"\"\"\u001b[39;00m\n\u001b[0;32m     42\u001b[0m response \u001b[38;5;241m=\u001b[39m \u001b[38;5;28mself\u001b[39m\u001b[38;5;241m.\u001b[39m_client\u001b[38;5;241m.\u001b[39mpost(url, json\u001b[38;5;241m=\u001b[39mdata, timeout\u001b[38;5;241m=\u001b[39mtimeout)\n\u001b[1;32m---> 43\u001b[0m \u001b[43mresponse\u001b[49m\u001b[38;5;241;43m.\u001b[39;49m\u001b[43mraise_for_status\u001b[49m\u001b[43m(\u001b[49m\u001b[43m)\u001b[49m\n\u001b[0;32m     44\u001b[0m \u001b[38;5;28;01mreturn\u001b[39;00m response\u001b[38;5;241m.\u001b[39mjson()\n",
      "File \u001b[1;32m~\\AppData\\Local\\Packages\\PythonSoftwareFoundation.Python.3.11_qbz5n2kfra8p0\\LocalCache\\local-packages\\Python311\\site-packages\\httpx\\_models.py:758\u001b[0m, in \u001b[0;36mResponse.raise_for_status\u001b[1;34m(self)\u001b[0m\n\u001b[0;32m    756\u001b[0m error_type \u001b[38;5;241m=\u001b[39m error_types\u001b[38;5;241m.\u001b[39mget(status_class, \u001b[38;5;124m\"\u001b[39m\u001b[38;5;124mInvalid status code\u001b[39m\u001b[38;5;124m\"\u001b[39m)\n\u001b[0;32m    757\u001b[0m message \u001b[38;5;241m=\u001b[39m message\u001b[38;5;241m.\u001b[39mformat(\u001b[38;5;28mself\u001b[39m, error_type\u001b[38;5;241m=\u001b[39merror_type)\n\u001b[1;32m--> 758\u001b[0m \u001b[38;5;28;01mraise\u001b[39;00m HTTPStatusError(message, request\u001b[38;5;241m=\u001b[39mrequest, response\u001b[38;5;241m=\u001b[39m\u001b[38;5;28mself\u001b[39m)\n",
      "\u001b[1;31mHTTPStatusError\u001b[0m: Client error '401 ' for url 'https://cleaner.dadata.ru/api/v1/clean/address'\nFor more information check: https://developer.mozilla.org/en-US/docs/Web/HTTP/Status/401"
     ]
    }
   ],
   "source": [
    "# https://github.com/hflabs/dadata-py\n",
    "\n",
    "from dadata import Dadata\n",
    "\n",
    "token = \"edf41a5fb5c5986b34e54bc3dd0200acb59fc674\"\n",
    "dadata = Dadata(token)\n",
    "result = dadata.clean(\"address\", \"299014, г. Севастополь, Российская Федерация, ул. Рыбаков, д. 5-А, нежилые помещения третьего этажа\")\n",
    "result"
   ]
  }
 ],
 "metadata": {
  "kernelspec": {
   "display_name": "Python 3",
   "language": "python",
   "name": "python3"
  },
  "language_info": {
   "codemirror_mode": {
    "name": "ipython",
    "version": 3
   },
   "file_extension": ".py",
   "mimetype": "text/x-python",
   "name": "python",
   "nbconvert_exporter": "python",
   "pygments_lexer": "ipython3",
   "version": "3.11.6"
  }
 },
 "nbformat": 4,
 "nbformat_minor": 2
}
