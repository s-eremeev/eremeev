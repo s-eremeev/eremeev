{
 "cells": [
  {
   "cell_type": "code",
   "execution_count": 14,
   "metadata": {},
   "outputs": [
    {
     "name": "stdout",
     "output_type": "stream",
     "text": [
      "CPU times: total: 0 ns\n",
      "Wall time: 4 ms\n"
     ]
    }
   ],
   "source": [
    "%%time\n",
    "\n",
    "# импорт библиотек\n",
    "import pandas as pd\n",
    "import numpy as np\n",
    "from datetime import date\n",
    "import os\n",
    "import shutil # упаковка в архив\n",
    "import warnings # игнорирование предупреждения о формате при импорте из excel\n",
    "\n",
    "warnings.simplefilter(\"ignore\")\n",
    "\n",
    "path_birki = \"C:/work/test/birki.csv\"\n",
    "\n",
    "df_birki = pd.read_csv(path_birki, sep=\";\", dtype=object, header=None)\n",
    "# удаление полностью пустых строк\n",
    "df_birki = df_birki.dropna(how=\"all\").reset_index(drop=True)"
   ]
  },
  {
   "cell_type": "code",
   "execution_count": 48,
   "metadata": {},
   "outputs": [
    {
     "name": "stdout",
     "output_type": "stream",
     "text": [
      "0                            МО/Отделение\n",
      "1                                    Врач\n",
      "2                               Должность\n",
      "3                                  Ставка\n",
      "4     Количество выложенных к врачу бирок\n",
      "5                                     NaN\n",
      "6                          в т.ч. обычных\n",
      "7                                     NaN\n",
      "8                        в т.ч. резервных\n",
      "9                                     NaN\n",
      "10               в т.ч. для Центра записи\n",
      "11                                    NaN\n",
      "12                 в т.ч.  по направлению\n",
      "13                                    NaN\n",
      "14             в т.ч. для врачей своей МО\n",
      "15                                    NaN\n",
      "16        в т.ч для записи через интернет\n",
      "17                                    NaN\n",
      "18         в т.ч для записи через инфомат\n",
      "19                                    NaN\n",
      "20                          в т.ч платных\n",
      "21                                    NaN\n",
      "22                         в т. ч. прочие\n",
      "23                                    NaN\n",
      "24     Количество посещений в поликлинике\n",
      "25                                    NaN\n",
      "26                                    NaN\n",
      "27                                 Неявка\n",
      "28    Количес-\\nтво посещ-\\nений\\nна дому\n",
      "Name: 0, dtype: object\n"
     ]
    },
    {
     "ename": "IndexError",
     "evalue": "list index out of range",
     "output_type": "error",
     "traceback": [
      "\u001b[1;31m---------------------------------------------------------------------------\u001b[0m",
      "\u001b[1;31mIndexError\u001b[0m                                Traceback (most recent call last)",
      "Cell \u001b[1;32mIn[48], line 4\u001b[0m\n\u001b[0;32m      1\u001b[0m df_birki_test \u001b[39m=\u001b[39m df_birki\u001b[39m.\u001b[39mdrop(index \u001b[39m=\u001b[39m [\u001b[39m0\u001b[39m, \u001b[39m1\u001b[39m, \u001b[39m2\u001b[39m, \u001b[39m3\u001b[39m])\u001b[39m.\u001b[39mreset_index(drop\u001b[39m=\u001b[39m\u001b[39mTrue\u001b[39;00m)\n\u001b[0;32m      2\u001b[0m \u001b[39mfor\u001b[39;00m col \u001b[39min\u001b[39;00m df_birki_test\u001b[39m.\u001b[39mcolumns:\n\u001b[0;32m      3\u001b[0m     \u001b[39m# if df_birki_test.iloc[[0][col]][0] == \"\":\u001b[39;00m\n\u001b[1;32m----> 4\u001b[0m         \u001b[39mprint\u001b[39m (df_birki_test\u001b[39m.\u001b[39miloc[[\u001b[39m0\u001b[39;49m][col]])\n\u001b[0;32m      5\u001b[0m         \u001b[39m# print(df_birki_test.iloc[[0], [col]])\u001b[39;00m\n\u001b[0;32m      6\u001b[0m     \u001b[39m# if np.isnan(value):\u001b[39;00m\n\u001b[0;32m      7\u001b[0m     \u001b[39m#     print(df_birki_test.iloc[[0], [col]].values[0][0])\u001b[39;00m\n\u001b[0;32m      8\u001b[0m     \u001b[39m#     df_birki_test.iloc[[0], [col]] = df_birki_test.iloc[[1], [col]]\u001b[39;00m\n\u001b[0;32m      9\u001b[0m \u001b[39m# df_birki_test.iloc[[0]] = df_birki_test.iloc[[0]].apply(lambda row: df_birki_test.iloc[[1], [row]] if df_birki_test.iloc[[0]].isna() else df_birki_test.iloc[[0]])\u001b[39;00m\n\u001b[0;32m     10\u001b[0m df_birki_test\n",
      "\u001b[1;31mIndexError\u001b[0m: list index out of range"
     ]
    }
   ],
   "source": [
    "df_birki_test = df_birki.drop(index = [0, 1, 2, 3]).reset_index(drop=True)\n",
    "for col in df_birki_test.columns:\n",
    "    # if df_birki_test.iloc[[0][col]][0] == \"\":\n",
    "        print (df_birki_test.iloc[[0][col]])\n",
    "        # print(df_birki_test.iloc[[0], [col]])\n",
    "    # if np.isnan(value):\n",
    "    #     print(df_birki_test.iloc[[0], [col]].values[0][0])\n",
    "    #     df_birki_test.iloc[[0], [col]] = df_birki_test.iloc[[1], [col]]\n",
    "# df_birki_test.iloc[[0]] = df_birki_test.iloc[[0]].apply(lambda row: df_birki_test.iloc[[1], [row]] if df_birki_test.iloc[[0]].isna() else df_birki_test.iloc[[0]])\n",
    "df_birki_test"
   ]
  }
 ],
 "metadata": {
  "kernelspec": {
   "display_name": "Python 3",
   "language": "python",
   "name": "python3"
  },
  "language_info": {
   "codemirror_mode": {
    "name": "ipython",
    "version": 3
   },
   "file_extension": ".py",
   "mimetype": "text/x-python",
   "name": "python",
   "nbconvert_exporter": "python",
   "pygments_lexer": "ipython3",
   "version": "3.11.5"
  },
  "orig_nbformat": 4
 },
 "nbformat": 4,
 "nbformat_minor": 2
}
