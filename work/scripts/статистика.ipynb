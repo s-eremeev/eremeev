{
  "cells": [
    {
      "cell_type": "markdown",
      "metadata": {
        "id": "R1qmmbMYLxsz"
      },
      "source": [
        "# Задания для самостоятельного решения\n"
      ]
    },
    {
      "cell_type": "code",
      "execution_count": null,
      "metadata": {
        "id": "7UgDrZABLxs1",
        "outputId": "1caae2ad-5211-4e22-8982-3c67dc85a901"
      },
      "outputs": [
        {
          "name": "stdout",
          "output_type": "stream",
          "text": [
            "The lab_black extension is already loaded. To reload it, use:\n",
            "  %reload_ext lab_black\n"
          ]
        }
      ],
      "source": [
        "import numpy as np\n",
        "import pandas as pd\n",
        "from scipy import stats\n",
        "import matplotlib.pyplot as plt\n",
        "\n",
        "import seaborn as sns\n",
        "\n",
        "%load_ext lab_black"
      ]
    },
    {
      "cell_type": "code",
      "execution_count": null,
      "metadata": {
        "id": "dv8HmxBQLxs2"
      },
      "outputs": [],
      "source": [
        "def mean_confidence_interval(data, confidence=0.95):\n",
        "    \"\"\"функция из лекции для определения границ доверительного интервала\"\"\"\n",
        "    n = len(data)\n",
        "    m, se = np.mean(data), stats.sem(data)\n",
        "    h = se * stats.t.ppf((1 + confidence) / 2, n)\n",
        "    return m - h, m, m + h"
      ]
    },
    {
      "cell_type": "markdown",
      "metadata": {
        "id": "K8s1D5y3Lxs2"
      },
      "source": [
        "<div class=\"alert alert-info\">\n",
        "<b>Задание № 0</b>\n",
        "\n",
        "Найдите минимально необходимый объем выборки для построения интервальной оценки среднего.\n",
        "\n",
        "- желаемая точность $\\Delta$ = 3;\n",
        "- дисперсия $\\sigma^2$  = 225;\n",
        "- уровень доверия $\\beta$ = 0.95.\n",
        "    \n",
        "Ответ округлите до целого\n",
        "</div>"
      ]
    },
    {
      "cell_type": "code",
      "execution_count": null,
      "metadata": {
        "id": "3wqf8VBeLxs2",
        "outputId": "0bf8a8fe-a587-4df4-d595-1d621bb23c61"
      },
      "outputs": [
        {
          "name": "stdout",
          "output_type": "stream",
          "text": [
            "Минимально необходимый объем выборки для построения интервальной оценки среднего: 96\n"
          ]
        }
      ],
      "source": [
        "### Ваши код/вычисления...\n",
        "sigma = 225**0.5  # Стандартное отклонение\n",
        "Z = 1.96  #  %   # Квантиль нормального распределения.\n",
        "Delta = 3  #%         #Погрешность\n",
        "\n",
        "n = int(((sigma * Z) / Delta) ** 2)  # Запишите в эту переменную ваш высчитанный ответ!\n",
        "print(\n",
        "    f\"Минимально необходимый объем выборки для построения интервальной оценки среднего: {n}\"\n",
        ")"
      ]
    },
    {
      "cell_type": "markdown",
      "metadata": {
        "id": "jUc86RAQLxs3"
      },
      "source": [
        "<div class=\"alert alert-info\">\n",
        "<b>Задание № 1</b>\n",
        "\n",
        "Постройте `98% доверительный интервал` для среднего значения, если известно, что\n",
        "\n",
        "- объем выборки n = 25;\n",
        "- среднее значение по выборке $\\overline x$ = 130;\n",
        "- Из достоверных источников известно стандартное отклонение $\\sigma = 15$.\n",
        "    \n",
        "В ответ укажите длину полученного доверительного интервала (разницу между правым и левым концом), окруленную до целого\n",
        "</div>"
      ]
    },
    {
      "cell_type": "code",
      "execution_count": null,
      "metadata": {
        "id": "CNLAQICGLxs3",
        "outputId": "7e917da7-b151-4806-9c08-1d8d8057a1d7"
      },
      "outputs": [
        {
          "name": "stdout",
          "output_type": "stream",
          "text": [
            "Левая граница доверительного интервала: 122.272\n",
            "Правая граница доверительного интервала: 137.728\n",
            "Длина доверительного интервала: 15\n"
          ]
        }
      ],
      "source": [
        "### Ваши код/вычесления...\n",
        "# 1 - alfa/2 = 1 - (100-98)/2 = 0.99, из таблицы z = 2.576\n",
        "n = 25\n",
        "sigma = 15\n",
        "x_mean = 130\n",
        "z = 2.576\n",
        "delta = (sigma / n**0.5) * z\n",
        "L_0 = x_mean - delta\n",
        "L_1 = x_mean + delta\n",
        "L = int(2 * delta)\n",
        "print(\n",
        "    f\"Левая граница доверительного интервала: {L_0}\\nПравая граница доверительного интервала: {L_1}\\nДлина доверительного интервала: {L}\"\n",
        ")"
      ]
    },
    {
      "cell_type": "markdown",
      "metadata": {
        "id": "mwZAGB-gLxs3"
      },
      "source": [
        "### 2. Вам даны две выборки роста мужчин и женщин. Докажите, используя t-Тест Стьдента, что различия между выборками незначительно, если уровень значимости равен 0.001"
      ]
    },
    {
      "cell_type": "markdown",
      "metadata": {
        "id": "Bn2oTpjlLxs4"
      },
      "source": [
        "<div class=\"alert alert-info\">\n",
        "<b>Задание № 2</b>\n",
        "\n",
        "Даны две выборки роста мужчин и женщин.\n",
        "- Докажите, используя `t-Тест Стьдента`, что различие между выборками незначительно, если уровень значимости равен $\\alpha$ `= 0.001`.\n",
        "- Покажите различия визуально\n",
        "</div>"
      ]
    },
    {
      "cell_type": "code",
      "execution_count": null,
      "metadata": {
        "id": "-laiFKq7Lxs4",
        "outputId": "d0e93540-4f55-41f1-bdec-eeb9b38a49c7"
      },
      "outputs": [
        {
          "data": {
            "text/plain": [
              "(array([3.0000e+00, 1.1000e+01, 5.0000e+01, 1.3000e+02, 3.9200e+02,\n",
              "        8.8000e+02, 2.0060e+03, 3.8910e+03, 6.9940e+03, 1.0830e+04,\n",
              "        1.5273e+04, 1.8787e+04, 2.0337e+04, 1.9964e+04, 1.7262e+04,\n",
              "        1.3184e+04, 9.1370e+03, 5.5330e+03, 2.9950e+03, 1.3980e+03,\n",
              "        6.3400e+02, 2.1300e+02, 6.8000e+01, 2.5000e+01, 3.0000e+00]),\n",
              " array([-271.38859664, -236.8555874 , -202.32257816, -167.78956892,\n",
              "        -133.25655968,  -98.72355044,  -64.1905412 ,  -29.65753196,\n",
              "           4.87547728,   39.40848652,   73.94149577,  108.47450501,\n",
              "         143.00751425,  177.54052349,  212.07353273,  246.60654197,\n",
              "         281.13955121,  315.67256045,  350.20556969,  384.73857893,\n",
              "         419.27158817,  453.80459741,  488.33760666,  522.8706159 ,\n",
              "         557.40362514,  591.93663438]),\n",
              " <BarContainer object of 25 artists>)"
            ]
          },
          "execution_count": 32,
          "metadata": {},
          "output_type": "execute_result"
        },
        {
          "data": {
            "image/png": "[encoded data removed]",
            "text/plain": [
              "<Figure size 640x480 with 1 Axes>"
            ]
          },
          "metadata": {},
          "output_type": "display_data"
        }
      ],
      "source": [
        "import scipy.stats as stats\n",
        "\n",
        "np.random.seed(42)  # фиксация случайности\n",
        "\n",
        "# Выборка мужчин со средним ростом 171\n",
        "mens = stats.norm.rvs(loc=171, scale=100, size=150000)\n",
        "\n",
        "# Выборка женщин со средним ростом 170\n",
        "women = stats.norm.rvs(loc=170, scale=100, size=150000)\n",
        "\n",
        "# В двух строчках выше генерируется две выбороки, где loc это среднее значение, а scale это дисперсия\n",
        "\n",
        "# убедимся, что распределение весьма близко к нормальному и критерий Стьюдента применим:\n",
        "plt.hist(mens, bins=25, color=\"r\", alpha=0.5)\n",
        "plt.hist(women, bins=25, color=\"b\", alpha=0.5)"
      ]
    },
    {
      "cell_type": "code",
      "execution_count": null,
      "metadata": {
        "id": "ok6AZfTDLxs4",
        "outputId": "ff8eee8e-8c74-4278-87e2-a058c748363b"
      },
      "outputs": [
        {
          "data": {
            "text/plain": [
              "{'whiskers': [<matplotlib.lines.Line2D at 0x7f725a05ff70>,\n",
              "  <matplotlib.lines.Line2D at 0x7f725a06a280>],\n",
              " 'caps': [<matplotlib.lines.Line2D at 0x7f725a06a550>,\n",
              "  <matplotlib.lines.Line2D at 0x7f725a06a820>],\n",
              " 'boxes': [<matplotlib.lines.Line2D at 0x7f725a05fca0>],\n",
              " 'medians': [<matplotlib.lines.Line2D at 0x7f725a06aaf0>],\n",
              " 'fliers': [<matplotlib.lines.Line2D at 0x7f725a06adc0>],\n",
              " 'means': []}"
            ]
          },
          "execution_count": 33,
          "metadata": {},
          "output_type": "execute_result"
        },
        {
          "data": {
            "image/png": "[encoded data removed]",
            "text/plain": [
              "<Figure size 640x480 with 1 Axes>"
            ]
          },
          "metadata": {},
          "output_type": "display_data"
        }
      ],
      "source": [
        "plt.boxplot(mens)\n",
        "plt.boxplot(women)"
      ]
    },
    {
      "cell_type": "markdown",
      "metadata": {
        "id": "Lsm1EMrGLxs4"
      },
      "source": [
        "#### Мы располагаем двумя выборками и в качестве Н0 примем уотверждение о том, что выборки (каких-либо их характеристики, например среднее) не различаются. Теперь, если значение p-value окажется ниже заданного уровня значимости, Н0 должна быть отклонена. Если ниже - не должна. Так ведь?"
      ]
    },
    {
      "cell_type": "code",
      "execution_count": null,
      "metadata": {
        "id": "FSh7mNiDLxs4",
        "outputId": "39fd4b63-c4d9-4711-896d-f8448a8be984"
      },
      "outputs": [
        {
          "name": "stdout",
          "output_type": "stream",
          "text": [
            "Statistics=3.6636, p-value=0.0002\n",
            "Отичия статистически значимы\n"
          ]
        }
      ],
      "source": [
        "# t-критерий Стьюдента\n",
        "stat, p = stats.ttest_ind(mens, women)\n",
        "print(\"Statistics=%.4f, p-value=%.4f\" % (stat, p))\n",
        "alpha = 0.001\n",
        "if p > alpha:\n",
        "    print(\"Отичия статистически незначимы\")\n",
        "else:\n",
        "    print(\"Отичия статистически значимы\")"
      ]
    },
    {
      "cell_type": "markdown",
      "metadata": {
        "id": "ElZxdwMhLxs5"
      },
      "source": [
        "#### Вероятность получить такие или ещё большие различия между выбоорками при условии верности Н0 (различие между выборками незначительно) ниже заданного уровня значимости, значит отклоняем Н0 и доказать, что различие между выборками незначительно, невозможно. Различие **статистически значимо**.\n",
        "#### **Но всё это как-то странно... Вель визуализация показывает, что выборки очень похожи**"
      ]
    },
    {
      "cell_type": "code",
      "execution_count": null,
      "metadata": {
        "id": "Y5XO3qvmLxs5",
        "outputId": "249fe69e-fc78-4544-e929-90b28695d3d7"
      },
      "outputs": [
        {
          "name": "stdout",
          "output_type": "stream",
          "text": [
            "Statistics=3.6636, p-value=0.0002\n",
            "Отичия статистически незначимы\n"
          ]
        }
      ],
      "source": [
        "# может быть, в задании ошибка, и alpha должна быть равна 0.0001? Вот тогда:\n",
        "stat, p = stats.ttest_ind(mens, women)\n",
        "print(\"Statistics=%.4f, p-value=%.4f\" % (stat, p))\n",
        "alpha = 0.0001\n",
        "if p > alpha:\n",
        "    print(\"Отичия статистически незначимы\")\n",
        "else:\n",
        "    print(\"Отичия статистически значимы\")"
      ]
    },
    {
      "cell_type": "markdown",
      "metadata": {
        "id": "Un_gL6awLxs5"
      },
      "source": [
        "### 3. Определите объем необходимой выборки для исследования среднего чека за кофе в случайном городе, если известно, что в этом городе стандартное отклонение = 150, уровень доверия = 95%. Погрешность 50 рублей."
      ]
    },
    {
      "cell_type": "markdown",
      "metadata": {
        "id": "XBcDJwdrLxs5"
      },
      "source": [
        "<div class=\"alert alert-info\">\n",
        "<b>Задание № 3</b>\n",
        "\n",
        "Определите объем необходимой выборки для исследования среднего чека за кофе в случайном городе если известно, что в этом городе:\n",
        "\n",
        "- стандартное отклонение $\\sigma = 150$;\n",
        "- уровень доверия $\\beta$  = 95%;\n",
        "- Погрешность $\\Delta = 50$ рублей.\n",
        "</div>"
      ]
    },
    {
      "cell_type": "code",
      "execution_count": null,
      "metadata": {
        "id": "lAts_BwdLxs5",
        "outputId": "3411c39c-46ed-4200-f2be-30a3b646b152"
      },
      "outputs": [
        {
          "name": "stdout",
          "output_type": "stream",
          "text": [
            "Минимально необходимый объем выборки: 34\n"
          ]
        }
      ],
      "source": [
        "### Ваш код...\n",
        "sigma = 150  # Стандартное отклонение\n",
        "Z = 1.96  #  %   # Квантиль нормального распределения.\n",
        "Delta = 50  #         #Погрешность\n",
        "\n",
        "n = int(((sigma * Z) / Delta) ** 2)  # Запишите в эту переменную ваш высчитанный ответ!\n",
        "print(f\"Минимально необходимый объем выборки: {n}\")"
      ]
    },
    {
      "cell_type": "markdown",
      "metadata": {
        "id": "kQ0axsv-Lxs5"
      },
      "source": [
        "#### В задании 0 погрешность задана в %, здесь в абсолютных величинах. Насколько я понял, правильно задавать её в абсолютных величинах и в задании 0 опечатка. Или нет?"
      ]
    },
    {
      "cell_type": "markdown",
      "metadata": {
        "id": "6PTcWOQzLxs5"
      },
      "source": [
        "<div class=\"alert alert-info\">\n",
        "<b>Задание № 4</b>\n",
        "\n",
        "Представьте, что вы хотите разоблачить \"волшебника\" который считает, что умеет предсказывать погоду на завтра, отвечая просто: дождь или солнце. Вы пронаблюдали за ответами \"волшебника\" в течении какого-то периода времени и получили некие результаты (см.ниже).\n",
        "\n",
        "Можно ли сказать, что маг действительно умеет предсказывать погоду? Уровень значимости принять за `0.05` ($\\alpha=0.05$).\n",
        "</div>"
      ]
    },
    {
      "cell_type": "code",
      "execution_count": null,
      "metadata": {
        "id": "kOAhZMolLxs5",
        "outputId": "9ec108a0-bd09-4ec6-83a9-ea0b5aec2d1d"
      },
      "outputs": [
        {
          "data": {
            "text/html": [
              "<div><div id=7563678c-afba-4f4e-9636-9891ec821466 style=\"display:none; background-color:#9D6CFF; color:white; width:200px; height:30px; padding-left:5px; border-radius:4px; flex-direction:row; justify-content:space-around; align-items:center;\" onmouseover=\"this.style.backgroundColor='#BA9BF8'\" onmouseout=\"this.style.backgroundColor='#9D6CFF'\" onclick=\"window.commands?.execute('create-mitosheet-from-dataframe-output');\">See Full Dataframe in Mito</div> <script> if (window.commands?.hasCommand('create-mitosheet-from-dataframe-output')) document.getElementById('7563678c-afba-4f4e-9636-9891ec821466').style.display = 'flex' </script> <table border=\"1\" class=\"dataframe\">\n",
              "  <thead>\n",
              "    <tr style=\"text-align: right;\">\n",
              "      <th></th>\n",
              "      <th>Верные ответы волшебника</th>\n",
              "      <th>Неверные ответы</th>\n",
              "    </tr>\n",
              "  </thead>\n",
              "  <tbody>\n",
              "    <tr>\n",
              "      <th>Дождь</th>\n",
              "      <td>10</td>\n",
              "      <td>15</td>\n",
              "    </tr>\n",
              "    <tr>\n",
              "      <th>Солнце</th>\n",
              "      <td>39</td>\n",
              "      <td>34</td>\n",
              "    </tr>\n",
              "  </tbody>\n",
              "</table></div>"
            ],
            "text/plain": [
              "        Верные ответы волшебника  Неверные ответы\n",
              "Дождь                         10               15\n",
              "Солнце                        39               34"
            ]
          },
          "execution_count": 37,
          "metadata": {},
          "output_type": "execute_result"
        }
      ],
      "source": [
        "observations = pd.DataFrame(\n",
        "    [[10, 15], [39, 34]],\n",
        "    index=[\"Дождь\", \"Солнце\"],\n",
        "    columns=[\"Верные ответы волшебника\", \"Неверные ответы\"],\n",
        ")\n",
        "observations"
      ]
    },
    {
      "cell_type": "code",
      "execution_count": null,
      "metadata": {
        "id": "FuYqQKf_Lxs6",
        "outputId": "7a3d84e8-b0ab-4731-b66e-aa09fb38345a"
      },
      "outputs": [
        {
          "name": "stdout",
          "output_type": "stream",
          "text": [
            "Отношение шансов: 0.5811965811965812, p_value: 0.35417955365927123\n"
          ]
        }
      ],
      "source": [
        "import scipy.stats as stats\n",
        "\n",
        "# Учтите, что у стат. тестов, в том числе и точного теста Фишера под нулевой гипотезой подразумевается случайность/отсутсвие эффекта\n",
        "\n",
        "oddsratio, pvalue = stats.fisher_exact(observations)  # Возможно пригодится эта функция.\n",
        "\n",
        "print(f\"Отношение шансов: {oddsratio}, p_value: {pvalue}\")"
      ]
    },
    {
      "cell_type": "markdown",
      "metadata": {
        "id": "0YKVSb7MLxs6"
      },
      "source": [
        "#### Отношение шансов < 1, p-value значительно больше уровня значимости: значит, получить такие результаты предсказания погоды случайным образом весьма вероятно. Н0 верна, волшебьник шарлатан или заблуждается."
      ]
    },
    {
      "cell_type": "markdown",
      "metadata": {
        "id": "ZEn3bZ5kLxs8"
      },
      "source": [
        "<div class=\"alert alert-info\">\n",
        "<b>Задание № 5</b>\n",
        "\n",
        "Используя функцию mean_confidence_interval(data, confidence), постройте доверительный интервал с уровнем доверия $\\beta = 90\\%$ для выборки:\n",
        "\n",
        "</div>"
      ]
    },
    {
      "cell_type": "code",
      "execution_count": null,
      "metadata": {
        "id": "fqfmM6KFLxs8",
        "outputId": "605b5072-448f-4bc9-ad36-0f69476bdc16"
      },
      "outputs": [
        {
          "name": "stdout",
          "output_type": "stream",
          "text": [
            "Левая граница доверительного интервала: 6.074, середина: 6.629, правая граница доверительного интервала: 7.183\n"
          ]
        }
      ],
      "source": [
        "data = [\n",
        "    4,\n",
        "    5,\n",
        "    8,\n",
        "    9,\n",
        "    6,\n",
        "    7,\n",
        "    5,\n",
        "    6,\n",
        "    7,\n",
        "    8,\n",
        "    5,\n",
        "    6,\n",
        "    7,\n",
        "    0,\n",
        "    9,\n",
        "    8,\n",
        "    4,\n",
        "    6,\n",
        "    7,\n",
        "    9,\n",
        "    8,\n",
        "    6,\n",
        "    5,\n",
        "    7,\n",
        "    8,\n",
        "    9,\n",
        "    6,\n",
        "    7,\n",
        "    5,\n",
        "    8,\n",
        "    6,\n",
        "    7,\n",
        "    9,\n",
        "    5,\n",
        "    10,\n",
        "]\n",
        "\n",
        "### Ваш код...\n",
        "L_0, mean, L_1 = mean_confidence_interval(data, confidence=0.9)\n",
        "print(\n",
        "    f\"Левая граница доверительного интервала: {L_0.round(3)}, середина: {mean.round(3)}, правая граница доверительного интервала: {L_1.round(3)}\"\n",
        ")"
      ]
    },
    {
      "cell_type": "markdown",
      "metadata": {
        "id": "s_y6X-DVLxs8"
      },
      "source": [
        "<div class=\"alert alert-info\">\n",
        "<b>Задание № 6</b>\n",
        "\n",
        "Принадлежат ли выборки `A` и `B` одному множеству?\n",
        "    \n",
        "- Оцените это с помощью известных вам тестов для проверок статистических гипотез;\n",
        "- Покажите различия визуально.\n",
        "</div>"
      ]
    },
    {
      "cell_type": "code",
      "execution_count": null,
      "metadata": {
        "jupyter": {
          "source_hidden": true
        },
        "scrolled": true,
        "tags": [],
        "id": "kLTQd8w-Lxs8"
      },
      "outputs": [],
      "source": [
        "A = [\n",
        "    4,\n",
        "    5,\n",
        "    8,\n",
        "    9,\n",
        "    6,\n",
        "    7,\n",
        "    5,\n",
        "    6,\n",
        "    7,\n",
        "    6,\n",
        "    8,\n",
        "    5,\n",
        "    6,\n",
        "    7,\n",
        "    8,\n",
        "    4,\n",
        "    6,\n",
        "    7,\n",
        "    9,\n",
        "    8,\n",
        "    6,\n",
        "    5,\n",
        "    7,\n",
        "    8,\n",
        "    6,\n",
        "    7,\n",
        "    5,\n",
        "    6,\n",
        "    8,\n",
        "    6,\n",
        "    7,\n",
        "    5,\n",
        "    4,\n",
        "    5,\n",
        "    8,\n",
        "    9,\n",
        "    6,\n",
        "    7,\n",
        "    5,\n",
        "    6,\n",
        "    7,\n",
        "    6,\n",
        "    8,\n",
        "    5,\n",
        "    6,\n",
        "    7,\n",
        "    8,\n",
        "    4,\n",
        "    6,\n",
        "    7,\n",
        "    9,\n",
        "    8,\n",
        "    6,\n",
        "    5,\n",
        "    7,\n",
        "    8,\n",
        "    6,\n",
        "    7,\n",
        "    5,\n",
        "    6,\n",
        "    8,\n",
        "    6,\n",
        "    7,\n",
        "    5,\n",
        "    4,\n",
        "    5,\n",
        "    8,\n",
        "    9,\n",
        "    6,\n",
        "    7,\n",
        "    5,\n",
        "    6,\n",
        "    7,\n",
        "    6,\n",
        "    8,\n",
        "    5,\n",
        "    6,\n",
        "    7,\n",
        "    8,\n",
        "    4,\n",
        "    6,\n",
        "    7,\n",
        "    9,\n",
        "    8,\n",
        "    6,\n",
        "    5,\n",
        "    7,\n",
        "    8,\n",
        "    6,\n",
        "    7,\n",
        "    5,\n",
        "    6,\n",
        "    8,\n",
        "    6,\n",
        "    7,\n",
        "    5,\n",
        "    4,\n",
        "    5,\n",
        "    8,\n",
        "    9,\n",
        "    6,\n",
        "    7,\n",
        "    5,\n",
        "    6,\n",
        "    7,\n",
        "    6,\n",
        "    8,\n",
        "    5,\n",
        "    6,\n",
        "    7,\n",
        "    8,\n",
        "    4,\n",
        "]\n",
        "\n",
        "B = [\n",
        "    5,\n",
        "    6,\n",
        "    7,\n",
        "    8,\n",
        "    4,\n",
        "    6,\n",
        "    7,\n",
        "    2,\n",
        "    6,\n",
        "    5,\n",
        "    7,\n",
        "    5,\n",
        "    3,\n",
        "    5,\n",
        "    3,\n",
        "    5,\n",
        "    3,\n",
        "    5,\n",
        "    5,\n",
        "    8,\n",
        "    7,\n",
        "    6,\n",
        "    4,\n",
        "    5,\n",
        "    3,\n",
        "    5,\n",
        "    4,\n",
        "    6,\n",
        "    4,\n",
        "    5,\n",
        "    3,\n",
        "    2,\n",
        "    6,\n",
        "    4,\n",
        "    3,\n",
        "    5,\n",
        "    4,\n",
        "    3,\n",
        "    4,\n",
        "    5,\n",
        "    4,\n",
        "    3,\n",
        "    4,\n",
        "    5,\n",
        "    4,\n",
        "    3,\n",
        "    4,\n",
        "    2,\n",
        "    6,\n",
        "    4,\n",
        "    3,\n",
        "    5,\n",
        "    4,\n",
        "    3,\n",
        "    4,\n",
        "    5,\n",
        "    4,\n",
        "    3,\n",
        "    4,\n",
        "    5,\n",
        "    4,\n",
        "    3,\n",
        "    4,\n",
        "    3,\n",
        "    4,\n",
        "    4,\n",
        "    1,\n",
        "    2,\n",
        "    4,\n",
        "    3,\n",
        "    2,\n",
        "    4,\n",
        "    3,\n",
        "    2,\n",
        "    1,\n",
        "    5,\n",
        "    3,\n",
        "    4,\n",
        "    6,\n",
        "    3,\n",
        "    2,\n",
        "    4,\n",
        "    5,\n",
        "    6,\n",
        "    4,\n",
        "    3,\n",
        "    3,\n",
        "    5,\n",
        "    3,\n",
        "    4,\n",
        "    4,\n",
        "    4,\n",
        "    2,\n",
        "    5,\n",
        "    3,\n",
        "]\n",
        "\n",
        "# Ваш код: в следующих ячейках"
      ]
    },
    {
      "cell_type": "code",
      "execution_count": null,
      "metadata": {
        "id": "JbgM5qFyLxs9",
        "outputId": "86c59ce7-2ac3-413a-f9a9-b5cbad2354f0"
      },
      "outputs": [
        {
          "data": {
            "text/plain": [
              "(array([10., 22., 48.,  9.,  6.]),\n",
              " array([1. , 2.4, 3.8, 5.2, 6.6, 8. ]),\n",
              " <BarContainer object of 5 artists>)"
            ]
          },
          "execution_count": 47,
          "metadata": {},
          "output_type": "execute_result"
        },
        {
          "data": {
            "image/png": "[encoded data removed]",
            "text/plain": [
              "<Figure size 640x480 with 1 Axes>"
            ]
          },
          "metadata": {},
          "output_type": "display_data"
        }
      ],
      "source": [
        "plt.hist(A, bins=5, color=\"r\", alpha=0.5)\n",
        "plt.hist(B, bins=5, color=\"b\", alpha=0.5)"
      ]
    },
    {
      "cell_type": "code",
      "execution_count": null,
      "metadata": {
        "id": "60Jmw8CZLxs9",
        "outputId": "c00f20d4-1838-4564-986a-480534ff794d"
      },
      "outputs": [
        {
          "name": "stdout",
          "output_type": "stream",
          "text": [
            "Для выборки A\n",
            "Statistics=0.936, p-value=0.000\n",
            "Отклонить гипотезу о нормальности\n",
            "Для выборки B\n",
            "Statistics=0.949, p-value=0.001\n",
            "Отклонить гипотезу о нормальности\n"
          ]
        }
      ],
      "source": [
        "# проверим на нормальность распределения (критерий Шапиро-Уилка)\n",
        "# примем alpha = 0.05\n",
        "import scipy\n",
        "import scipy.stats as stats\n",
        "\n",
        "for data in [A, B]:\n",
        "    name = \"A\" if data == A else \"B\"\n",
        "    print(f\"Для выборки {name}\")\n",
        "    stat, p = scipy.stats.shapiro(data)\n",
        "    print(\"Statistics=%.3f, p-value=%.3f\" % (stat, p))\n",
        "    alpha = 0.05\n",
        "    if p > alpha:\n",
        "        print(\"Принять гипотезу о нормальности\")\n",
        "    else:\n",
        "        print(\"Отклонить гипотезу о нормальности\")"
      ]
    },
    {
      "cell_type": "code",
      "execution_count": null,
      "metadata": {
        "id": "eWw6SNLvLxs9",
        "outputId": "1a199be5-bcc6-4630-c4aa-1dafaf4336ff"
      },
      "outputs": [
        {
          "data": {
            "text/plain": [
              "{'whiskers': [<matplotlib.lines.Line2D at 0x7f72598be130>,\n",
              "  <matplotlib.lines.Line2D at 0x7f72598be400>],\n",
              " 'caps': [<matplotlib.lines.Line2D at 0x7f72598be6d0>,\n",
              "  <matplotlib.lines.Line2D at 0x7f72598bea00>],\n",
              " 'boxes': [<matplotlib.lines.Line2D at 0x7f72598b3e20>],\n",
              " 'medians': [<matplotlib.lines.Line2D at 0x7f72598becd0>],\n",
              " 'fliers': [<matplotlib.lines.Line2D at 0x7f72598befa0>],\n",
              " 'means': []}"
            ]
          },
          "execution_count": 49,
          "metadata": {},
          "output_type": "execute_result"
        },
        {
          "data": {
            "image/png": "[encoded data removed]",
            "text/plain": [
              "<Figure size 640x480 with 1 Axes>"
            ]
          },
          "metadata": {},
          "output_type": "display_data"
        }
      ],
      "source": [
        "# при этом среднее и прочие квантили существенно разнятся\n",
        "plt.boxplot(A)\n",
        "plt.boxplot(B)"
      ]
    },
    {
      "cell_type": "code",
      "execution_count": null,
      "metadata": {
        "id": "G41c25yKLxs9",
        "outputId": "20d58ee4-a33e-43e7-8364-a83f4c2da88e"
      },
      "outputs": [
        {
          "name": "stdout",
          "output_type": "stream",
          "text": [
            "statistic=9280.500, p-value=0.000\n",
            "Отклонить гипотезу об однородности выборок\n"
          ]
        }
      ],
      "source": [
        "# Для распределения, отличного от нормального, возможно использовать критерий Манна-Уитни (непараметрический)\n",
        "# 1. В качестве H0 рассматриваем утверждение о том, что медианы тестовой и контрольной выборки равны (проавда, уже на визуализациях видно, что это не так);\n",
        "# 2. Применяем двусторонний тест, поскольку величина медиан может отличаться как в меньную, так и в большую сторону;\n",
        "# 3. Принимаем значение alpha = 0.05.\n",
        "stat, p = stats.mannwhitneyu(A, B, alternative=\"two-sided\")\n",
        "print(\"statistic=%.3f, p-value=%.3f\" % (stat, p))\n",
        "alpha = 0.05\n",
        "if p > alpha:\n",
        "    print(\"Принять гипотезу об однородности выборок\")\n",
        "else:\n",
        "    print(\"Отклонить гипотезу об однородности выборок\")"
      ]
    },
    {
      "cell_type": "code",
      "execution_count": null,
      "metadata": {
        "id": "j8ZIKfEKLxs9",
        "outputId": "a107c353-e23e-4248-fef5-d1efb2a01c3b"
      },
      "outputs": [
        {
          "name": "stdout",
          "output_type": "stream",
          "text": [
            "Statistics=11.865, p-value=0.000\n",
            "Отклонить гипотезу об однородности выборок\n"
          ]
        }
      ],
      "source": [
        "# Но можно использовать и критерий Стьюдента (параметрический), он тоже подойдёт\n",
        "stat, p = stats.ttest_ind(A, B)\n",
        "print(\"Statistics=%.3f, p-value=%.3f\" % (stat, p))\n",
        "alpha = 0.05\n",
        "if p > alpha:\n",
        "    print(\"Принять гипотезу об однородности выборок\")\n",
        "else:\n",
        "    print(\"Отклонить гипотезу об однородности выборок\")"
      ]
    },
    {
      "cell_type": "markdown",
      "metadata": {
        "id": "4_ObkwhnLxs9"
      },
      "source": [
        "<div class=\"alert alert-info\">\n",
        "<b>Задание № 7 (задание без подвоха)</b>\n",
        "\n",
        "На примере датасета про жилье в New York City, мы сталкивались с примером, когда переменная имеет не совсем нормальное распределение.\n",
        "\n",
        "- Предположим, Вы сформировали две гипотезы:\n",
        "    - нулевая гипотеза - распределение нормальное;\n",
        "    - альтернативная гипотеза - распределение ненормальное.\n",
        "- допустим, вы применили какой-то тест (сейчас неважно какой), который показал уровень значимости  `p-value = 0.03`. Каковы будут ваши выводы? Будем считать что у нас нормальное распределение или все-таки нет?)\n",
        "    \n",
        "</div>"
      ]
    },
    {
      "cell_type": "markdown",
      "metadata": {
        "id": "NHujg5ukLxs9"
      },
      "source": [
        "### **Ваши выводы:**\n",
        "#### Тест показывает p-value, а уровень значимости задаётся. Допустим, уровень значимости 0.05, а Н0 - распределение нормальное. Тогда p-value это веротность того, что при условии нормальности распределения величины (верности Н0) может быть получено распределение, отклоняющееся от нормального так, или ещё более сильно, чем отклоняется от нормального распределение исследуемого набора данных. Если эта вероятность низкая (ниже уровня значимости), значит, отклонение от нормального распределения не может возникнуть случайно и Н0 верна. Если вероятность отклонения от нормального распределения высока (выше уровня значимости), значит, это отклонение может возникнуть случайно и принимается Н1.\n",
        "#### Другими словами: **если при постулировании некоторого утверждения (Н0) оказалось, что факты не соответствуют этому утверждению с высокой вероятностью, утверждение отклоняется.**"
      ]
    },
    {
      "cell_type": "markdown",
      "metadata": {
        "id": "X_2OKx9NLxs-"
      },
      "source": [
        "<div class=\"alert alert-info\">\n",
        "<b>Задание № 8</b>\n",
        "    \n",
        "Первая выборка — это пациенты, которых лечили препаратом `А`.  Вторая выборка — пациенты, которых лечили препаратом `B`.\n",
        "\n",
        "Значения в выборках — это некоторая характеристика эффективности лечения (уровень метаболита в крови, температура через три дня после начала лечения, срок выздоровления, число койко-дней, и т.д.)\n",
        "\n",
        "- Требуется выяснить, имеется ли значимое различие эффективности препаратов `А` и `B`, или различия являются чисто случайными и объясняются «естественной» дисперсией выбранной характеристики?  (`уровень значимости принять за 0.05 (5%)`)\n",
        "\n",
        "- При каком минимальном p-value различия были бы уже значимы?\n",
        "    \n",
        "- Если выборки незначительно отличаются, то продемонстрируйте это визуально\n",
        "</div>"
      ]
    },
    {
      "cell_type": "code",
      "execution_count": null,
      "metadata": {
        "id": "2k8u4_iTLxs-"
      },
      "outputs": [],
      "source": [
        "np.random.seed(11)\n",
        "A = stats.norm.rvs(scale=15, loc=169, size=300)\n",
        "B = stats.norm.rvs(scale=14, loc=171.4, size=300)\n",
        "\n",
        "### Ваш код:\n",
        "# Подсказка, обратите внимание на Two-sample T-test"
      ]
    },
    {
      "cell_type": "code",
      "execution_count": null,
      "metadata": {
        "id": "Uw4pthioLxs-",
        "outputId": "180b0fc9-27b8-4379-85c4-30aff15cbe7a"
      },
      "outputs": [
        {
          "data": {
            "text/plain": [
              "(array([ 1.,  3., 11., 29., 40., 76., 69., 38., 23., 10.]),\n",
              " array([122.95604119, 131.18964287, 139.42324455, 147.65684623,\n",
              "        155.89044792, 164.1240496 , 172.35765128, 180.59125296,\n",
              "        188.82485464, 197.05845633, 205.29205801]),\n",
              " <BarContainer object of 10 artists>)"
            ]
          },
          "execution_count": 53,
          "metadata": {},
          "output_type": "execute_result"
        },
        {
          "data": {
            "image/png": "[encoded data removed]",
            "text/plain": [
              "<Figure size 640x480 with 1 Axes>"
            ]
          },
          "metadata": {},
          "output_type": "display_data"
        }
      ],
      "source": [
        "# визуализируем распределение\n",
        "plt.hist(A, bins=10, color=\"r\", alpha=0.5)\n",
        "plt.hist(B, bins=10, color=\"b\", alpha=0.5)"
      ]
    },
    {
      "cell_type": "code",
      "execution_count": null,
      "metadata": {
        "id": "TOxYDeFQLxs-",
        "outputId": "c67c6d40-93ee-4d36-d8b6-37050d6ca896"
      },
      "outputs": [
        {
          "data": {
            "text/plain": [
              "{'whiskers': [<matplotlib.lines.Line2D at 0x7f7259571d30>,\n",
              "  <matplotlib.lines.Line2D at 0x7f725957c040>],\n",
              " 'caps': [<matplotlib.lines.Line2D at 0x7f725957c310>,\n",
              "  <matplotlib.lines.Line2D at 0x7f725957c5e0>],\n",
              " 'boxes': [<matplotlib.lines.Line2D at 0x7f7259571a60>],\n",
              " 'medians': [<matplotlib.lines.Line2D at 0x7f725957c8b0>],\n",
              " 'fliers': [<matplotlib.lines.Line2D at 0x7f725957cb80>],\n",
              " 'means': []}"
            ]
          },
          "execution_count": 54,
          "metadata": {},
          "output_type": "execute_result"
        },
        {
          "data": {
            "image/png": "[encoded data removed]",
            "text/plain": [
              "<Figure size 640x480 with 1 Axes>"
            ]
          },
          "metadata": {},
          "output_type": "display_data"
        }
      ],
      "source": [
        "plt.boxplot(A)\n",
        "plt.boxplot(B)"
      ]
    },
    {
      "cell_type": "code",
      "execution_count": null,
      "metadata": {
        "id": "HzEp_2_nLxs-",
        "outputId": "df3ce6e5-e510-4fd9-cffb-9228549d1b21"
      },
      "outputs": [
        {
          "name": "stdout",
          "output_type": "stream",
          "text": [
            "Для выборки A\n",
            "Statistics=0.993, p-value=0.191\n",
            "Принять гипотезу о нормальности\n",
            "Для выборки B\n",
            "Statistics=0.996, p-value=0.700\n",
            "Принять гипотезу о нормальности\n"
          ]
        }
      ],
      "source": [
        "# проверим выборки на нормальность распределения (критерий Шапиро-Уилка) для уровня значимости 0.05\n",
        "for data in [A, B]:\n",
        "    name = \"A\" if data in A else \"B\"\n",
        "    print(f\"Для выборки {name}\")\n",
        "    stat, p = scipy.stats.shapiro(data)\n",
        "    print(\"Statistics=%.3f, p-value=%.3f\" % (stat, p))\n",
        "    alpha = 0.05\n",
        "    if p > alpha:\n",
        "        print(\"Принять гипотезу о нормальности\")\n",
        "    else:\n",
        "        print(\"Отклонить гипотезу о нормальности\")"
      ]
    },
    {
      "cell_type": "code",
      "execution_count": null,
      "metadata": {
        "id": "9dl9vxr1LxtE",
        "outputId": "c35c5ab6-07f7-44cd-9651-e5ab328558cb"
      },
      "outputs": [
        {
          "name": "stdout",
          "output_type": "stream",
          "text": [
            "Statistics=-1.953, p-value=0.051\n",
            "Различия статистически значимы\n"
          ]
        }
      ],
      "source": [
        "# Стандартный независимый t-критерий с двумя выборками, который предполагает равные дисперсии генеральной совокупности.\n",
        "# Если equal_var=False, выполняется t-критерий Уэлча , который не предполагает равных дисперсий генеральной совокупности.\n",
        "stat, p = stats.ttest_ind(A, B, equal_var=True)\n",
        "print(\"Statistics=%.3f, p-value=%.3f\" % (stat, p))\n",
        "alpha = 0.05\n",
        "if p > alpha:\n",
        "    print(\"Различия статистически значимы\")\n",
        "else:\n",
        "    print(\"Различия статистически незначимы\")"
      ]
    },
    {
      "cell_type": "markdown",
      "metadata": {
        "id": "OileQiPbLxtE"
      },
      "source": [
        "### **Выводы:**\n",
        "#### 1. Эффективность препаратов А и В имеет статистически значимое отличие;\n",
        "#### 2. Рассчитанное значение  p-value=0.051 как раз и есть то минимальное значение, при котором различие эффективности препаратов следует признать статистически значимым."
      ]
    },
    {
      "cell_type": "code",
      "execution_count": null,
      "metadata": {
        "id": "hHXiaZikLxtF"
      },
      "outputs": [],
      "source": []
    }
  ],
  "metadata": {
    "kernelspec": {
      "display_name": "Python 3 (ipykernel)",
      "language": "python",
      "name": "python3"
    },
    "language_info": {
      "codemirror_mode": {
        "name": "ipython",
        "version": 3
      },
      "file_extension": ".py",
      "mimetype": "text/x-python",
      "name": "python",
      "nbconvert_exporter": "python",
      "pygments_lexer": "ipython3",
      "version": "3.8.13"
    },
    "toc": {
      "base_numbering": 1,
      "nav_menu": {},
      "number_sections": true,
      "sideBar": true,
      "skip_h1_title": false,
      "title_cell": "Table of Contents",
      "title_sidebar": "Contents",
      "toc_cell": false,
      "toc_position": {},
      "toc_section_display": true,
      "toc_window_display": false
    },
    "colab": {
      "provenance": []
    }
  },
  "nbformat": 4,
  "nbformat_minor": 0
}