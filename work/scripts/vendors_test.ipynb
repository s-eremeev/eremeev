{
 "cells": [
  {
   "cell_type": "code",
   "execution_count": 2,
   "metadata": {},
   "outputs": [],
   "source": [
    "# импорт библиотек\n",
    "import pandas as pd\n",
    "import numpy as np\n",
    "import os\n",
    "import sys"
   ]
  },
  {
   "cell_type": "code",
<<<<<<< HEAD
   "execution_count": 3,
=======
   "execution_count": 6,
>>>>>>> c624a81e835e5e591ec66bd08936c3b548612e5c
   "metadata": {},
   "outputs": [
    {
     "name": "stdout",
     "output_type": "stream",
     "text": [
      "<class 'pandas.core.frame.DataFrame'>\n",
      "RangeIndex: 123549 entries, 0 to 123548\n",
      "Data columns (total 18 columns):\n",
      " #   Column                               Non-Null Count   Dtype  \n",
      "---  ------                               --------------   -----  \n",
      " 0   Субъект РФ                           123549 non-null  object \n",
      " 1   OID МО                               123549 non-null  object \n",
      " 2   Сокращенное наименование МО          123549 non-null  object \n",
      " 3   OID СП                               123549 non-null  object \n",
      " 4   Наименование СП                      123549 non-null  object \n",
      " 5   Внутренний ID работника              123549 non-null  int64  \n",
      " 6   ФИО Медперсонала                     123549 non-null  object \n",
      " 7   Дата отчета                          123549 non-null  object \n",
      " 8   Должность                            123549 non-null  object \n",
      " 9   Занимаемое кол-во ставок             123549 non-null  float64\n",
      " 10  Тип слота (Доступен для записи чер   123549 non-null  object \n",
      " 11  Признак: только для записи по напр   123549 non-null  object \n",
      " 12  Шаг слота, минут                     123549 non-null  int64  \n",
      " 13  Создано слотов на дату               123549 non-null  int64  \n",
      " 14  Занято слотов на дату                123549 non-null  int64  \n",
      " 15  От числа свободных на дату, бывших   123549 non-null  int64  \n",
      " 16  Количество неявок                    123549 non-null  int64  \n",
      " 17  Количество посещений                 123549 non-null  int64  \n",
      "dtypes: float64(1), int64(7), object(10)\n",
      "memory usage: 17.0+ MB\n"
     ]
    }
   ],
   "source": [
    "df_vendor = pd.read_csv(\n",
    "    \"C:/test/Липецк I38_SLOTS_48_20_12_2023_20231220_0814.csv\", sep=\";\"\n",
    ")\n",
    "df_vendor.info()"
   ]
  },
  {
   "cell_type": "code",
<<<<<<< HEAD
   "execution_count": 28,
   "metadata": {},
   "outputs": [
    {
     "data": {
      "text/plain": [
       "numpy.int64"
      ]
     },
     "execution_count": 28,
     "metadata": {},
     "output_type": "execute_result"
    }
   ],
   "source": [
    "# try:\n",
    "#     df_vendor[\"Занимаемое кол-во ставок\"].astype(int)\n",
    "# except TypeError as e:\n",
    "#     print(e)\n",
    "type(df_vendor.loc[1, \"Занято слотов на дату\"])"
   ]
  },
  {
   "cell_type": "code",
   "execution_count": null,
   "metadata": {},
   "outputs": [],
   "source": []
=======
   "execution_count": null,
   "metadata": {},
   "outputs": [],
   "source": [
    "for index, row in df_vendor:\n",
    "    "
   ]
>>>>>>> c624a81e835e5e591ec66bd08936c3b548612e5c
  },
  {
   "cell_type": "markdown",
   "metadata": {},
   "source": [
    "***"
   ]
  },
  {
   "cell_type": "code",
   "execution_count": null,
   "metadata": {},
   "outputs": [],
   "source": [
    "\n",
    "df_l[\"Дата отчета\"].unique()\n",
    "df_l[\"Дата отчета\"] = pd.to_datetime(df_l[\"Дата отчета\"], format=\"ISO8601\")\n",
    "df_l[\"Дата отчета\"].unique()"
   ]
  },
  {
   "cell_type": "code",
   "execution_count": 3,
   "metadata": {},
   "outputs": [
    {
     "data": {
      "text/plain": [
       "<DatetimeArray>\n",
       "['2023-12-06 00:00:00', '2023-12-07 00:00:00', '2023-12-08 00:00:00',\n",
       " '2023-12-11 00:00:00', '2023-12-12 00:00:00', '2023-12-13 00:00:00',\n",
       " '2023-12-14 00:00:00', '2023-12-15 00:00:00', '2023-12-18 00:00:00',\n",
       " '2023-12-19 00:00:00']\n",
       "Length: 10, dtype: datetime64[ns]"
      ]
     },
     "execution_count": 3,
     "metadata": {},
     "output_type": "execute_result"
    }
   ],
   "source": [
    "df_l[\"Дата отчета\"].unique()\n",
    "d_list = [\n",
    "    \"2023-12-06\",\n",
    "    \"2023-12-07\",\n",
    "    \"2023-12-08\",\n",
    "    \"2023-12-11\",\n",
    "    \"2023-12-12\",\n",
    "    \"2023-12-13\",\n",
    "    \"2023-12-14\",\n",
    "    \"2023-12-15\",\n",
    "    \"2023-12-18\",\n",
    "    \"2023-12-19\",\n",
    "]\n",
    "df_l = df_l[df_l[\"Дата отчета\"].isin(d_list)]\n",
    "df_l[\"Дата отчета\"].unique()"
   ]
  }
 ],
 "metadata": {
  "kernelspec": {
   "display_name": "Python 3",
   "language": "python",
   "name": "python3"
  },
  "language_info": {
   "codemirror_mode": {
    "name": "ipython",
    "version": 3
   },
   "file_extension": ".py",
   "mimetype": "text/x-python",
   "name": "python",
   "nbconvert_exporter": "python",
   "pygments_lexer": "ipython3",
   "version": "3.11.6"
  }
 },
 "nbformat": 4,
 "nbformat_minor": 2
}
