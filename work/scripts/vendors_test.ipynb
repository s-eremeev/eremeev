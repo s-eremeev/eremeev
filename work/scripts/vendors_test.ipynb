{
 "cells": [
  {
   "cell_type": "code",
   "execution_count": 1,
   "metadata": {},
   "outputs": [],
   "source": [
    "# импорт библиотек\n",
    "import pandas as pd\n",
    "import numpy as np\n",
    "import os\n",
    "import sys"
   ]
  },
  {
   "cell_type": "code",
   "execution_count": 15,
   "metadata": {},
   "outputs": [
    {
     "data": {
      "text/plain": [
       "<DatetimeArray>\n",
       "['2023-12-06 00:00:00', '2023-12-07 00:00:00', '2023-12-08 00:00:00',\n",
       " '2023-12-11 00:00:00', '2023-12-12 00:00:00', '2023-12-13 00:00:00',\n",
       " '2023-12-14 00:00:00', '2023-12-15 00:00:00', '2023-12-18 00:00:00',\n",
       " '2023-12-19 00:00:00', '2023-12-20 00:00:00', '2023-12-21 00:00:00',\n",
       " '2023-12-22 00:00:00', '2023-12-25 00:00:00', '2023-12-26 00:00:00',\n",
       " '2023-12-27 00:00:00', '2023-12-28 00:00:00', '2023-12-29 00:00:00',\n",
       " '2023-12-09 00:00:00', '2023-12-16 00:00:00', '2023-12-23 00:00:00',\n",
       " '2023-12-10 00:00:00', '2023-12-17 00:00:00', '2023-12-30 00:00:00',\n",
       " '2023-12-24 00:00:00', '2023-12-31 00:00:00', '2024-01-02 00:00:00',\n",
       " '2024-01-03 00:00:00', '2024-01-01 00:00:00']\n",
       "Length: 29, dtype: datetime64[ns]"
      ]
     },
     "execution_count": 15,
     "metadata": {},
     "output_type": "execute_result"
    }
   ],
   "source": [
    "df_l = pd.read_csv(\"C:/test/Липецк I38_SLOTS_48_20_12_2023_20231220_0814.csv\", sep=\";\")\n",
    "df_l[\"Дата отчета\"].unique()\n",
    "df_l[\"Дата отчета\"] = pd.to_datetime(df_l[\"Дата отчета\"], format=\"ISO8601\")\n",
    "df_l[\"Дата отчета\"].unique()"
   ]
  },
  {
   "cell_type": "code",
   "execution_count": null,
   "metadata": {},
   "outputs": [],
   "source": [
    "df_l[\"Дата отчета\"].unique()\n",
    "d_list = [\n",
    "    \"2023-12-06\",\n",
    "    \"2023-12-07\",\n",
    "    \"2023-12-08\",\n",
    "    \"2023-12-11\",\n",
    "    \"2023-12-12\",\n",
    "    \"2023-12-13\",\n",
    "    \"2023-12-14\",\n",
    "    \"2023-12-15\",\n",
    "    \"2023-12-18\",\n",
    "    \"2023-12-19\",\n",
    "]\n",
    "df_l = df_l[df_l[\"Дата отчета\"].isin(d_list)]\n",
    "df_l[\"Дата отчета\"].unique()"
   ]
  }
 ],
 "metadata": {
  "kernelspec": {
   "display_name": "Python 3",
   "language": "python",
   "name": "python3"
  },
  "language_info": {
   "codemirror_mode": {
    "name": "ipython",
    "version": 3
   },
   "file_extension": ".py",
   "mimetype": "text/x-python",
   "name": "python",
   "nbconvert_exporter": "python",
   "pygments_lexer": "ipython3",
   "version": "3.11.6"
  }
 },
 "nbformat": 4,
 "nbformat_minor": 2
}
