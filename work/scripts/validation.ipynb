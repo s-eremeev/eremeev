{
 "cells": [
  {
   "cell_type": "markdown",
   "id": "d290baea-21dd-434c-a670-68c6cecb8fbf",
   "metadata": {},
   "source": [
    "## Проверка данных о посещении врачей, представленных ФОМС"
   ]
  },
  {
   "cell_type": "code",
   "execution_count": 1,
   "id": "1f9aa142-8f1b-4237-a7f2-2bf0402b13a7",
   "metadata": {
    "tags": []
   },
   "outputs": [],
   "source": [
    "import pandas as pd\n",
    "import numpy as np\n",
    "import os\n",
    "import random\n",
    "\n",
    "# игнорирование предупреждения о формате при импорте из excel\n",
    "import warnings\n",
    "\n",
    "warnings.simplefilter(\"ignore\")"
   ]
  },
  {
   "cell_type": "code",
   "execution_count": 2,
   "id": "989232ac-e73c-40a1-be73-42890c175b05",
   "metadata": {
    "tags": []
   },
   "outputs": [],
   "source": [
    "df_test = pd.read_csv('C:/work/med/test/52000.csv', sep=';', dtype=object, header=None)"
   ]
  },
  {
   "cell_type": "code",
   "execution_count": 3,
   "id": "49eeed4c-f3d4-4df4-9617-42b6c737cc6f",
   "metadata": {
    "tags": []
   },
   "outputs": [
    {
     "data": {
      "text/html": [
       "<div>\n",
       "<style scoped>\n",
       "    .dataframe tbody tr th:only-of-type {\n",
       "        vertical-align: middle;\n",
       "    }\n",
       "\n",
       "    .dataframe tbody tr th {\n",
       "        vertical-align: top;\n",
       "    }\n",
       "\n",
       "    .dataframe thead th {\n",
       "        text-align: right;\n",
       "    }\n",
       "</style>\n",
       "<table border=\"1\" class=\"dataframe\">\n",
       "  <thead>\n",
       "    <tr style=\"text-align: right;\">\n",
       "      <th></th>\n",
       "      <th>0</th>\n",
       "      <th>1</th>\n",
       "      <th>2</th>\n",
       "      <th>3</th>\n",
       "      <th>4</th>\n",
       "      <th>5</th>\n",
       "      <th>6</th>\n",
       "      <th>7</th>\n",
       "      <th>8</th>\n",
       "      <th>9</th>\n",
       "      <th>10</th>\n",
       "      <th>11</th>\n",
       "      <th>12</th>\n",
       "      <th>13</th>\n",
       "      <th>14</th>\n",
       "    </tr>\n",
       "  </thead>\n",
       "  <tbody>\n",
       "    <tr>\n",
       "      <th>0</th>\n",
       "      <td>2023</td>\n",
       "      <td>1</td>\n",
       "      <td>NaN</td>\n",
       "      <td>555508</td>\n",
       "      <td>1.2.643.5.1.13.13.12.2.55.5446</td>\n",
       "      <td>55550800</td>\n",
       "      <td>55080007</td>\n",
       "      <td>46</td>\n",
       "      <td>65</td>\n",
       "      <td>3</td>\n",
       "      <td>5500000001130322</td>\n",
       "      <td>H10.9</td>\n",
       "      <td>1.1</td>\n",
       "      <td>NaN</td>\n",
       "      <td>0.00</td>\n",
       "    </tr>\n",
       "    <tr>\n",
       "      <th>1</th>\n",
       "      <td>2023</td>\n",
       "      <td>1</td>\n",
       "      <td>NaN</td>\n",
       "      <td>555508</td>\n",
       "      <td>1.2.643.5.1.13.13.12.2.55.5446</td>\n",
       "      <td>55550800</td>\n",
       "      <td>55080007</td>\n",
       "      <td>46</td>\n",
       "      <td>65</td>\n",
       "      <td>3</td>\n",
       "      <td>5500000001066333</td>\n",
       "      <td>T15.0</td>\n",
       "      <td>1.1</td>\n",
       "      <td>NaN</td>\n",
       "      <td>0.00</td>\n",
       "    </tr>\n",
       "    <tr>\n",
       "      <th>2</th>\n",
       "      <td>2023</td>\n",
       "      <td>1</td>\n",
       "      <td>52000</td>\n",
       "      <td>555508</td>\n",
       "      <td>1.2.643.5.1.13.13.12.2.55.5446</td>\n",
       "      <td>55550801</td>\n",
       "      <td>55080101</td>\n",
       "      <td>46</td>\n",
       "      <td>65</td>\n",
       "      <td>3</td>\n",
       "      <td>5500000001065937</td>\n",
       "      <td>H40.1</td>\n",
       "      <td>1.0</td>\n",
       "      <td>1</td>\n",
       "      <td>0.00</td>\n",
       "    </tr>\n",
       "    <tr>\n",
       "      <th>3</th>\n",
       "      <td>2023</td>\n",
       "      <td>1</td>\n",
       "      <td>52000</td>\n",
       "      <td>555508</td>\n",
       "      <td>1.2.643.5.1.13.13.12.2.55.5446</td>\n",
       "      <td>55550801</td>\n",
       "      <td>55080101</td>\n",
       "      <td>46</td>\n",
       "      <td>65</td>\n",
       "      <td>3</td>\n",
       "      <td>5500000001131483</td>\n",
       "      <td>H26.2</td>\n",
       "      <td>1.0</td>\n",
       "      <td>1</td>\n",
       "      <td>0.00</td>\n",
       "    </tr>\n",
       "    <tr>\n",
       "      <th>4</th>\n",
       "      <td>2023</td>\n",
       "      <td>1</td>\n",
       "      <td>52000</td>\n",
       "      <td>555508</td>\n",
       "      <td>1.2.643.5.1.13.13.12.2.55.5446</td>\n",
       "      <td>55550801</td>\n",
       "      <td>55080101</td>\n",
       "      <td>46</td>\n",
       "      <td>65</td>\n",
       "      <td>3</td>\n",
       "      <td>5500000001065937</td>\n",
       "      <td>H40.1</td>\n",
       "      <td>1.0</td>\n",
       "      <td>1</td>\n",
       "      <td>0.00</td>\n",
       "    </tr>\n",
       "  </tbody>\n",
       "</table>\n",
       "</div>"
      ],
      "text/plain": [
       "     0  1      2       3                               4         5         6    \n",
       "0  2023  1    NaN  555508  1.2.643.5.1.13.13.12.2.55.5446  55550800  55080007  \\\n",
       "1  2023  1    NaN  555508  1.2.643.5.1.13.13.12.2.55.5446  55550800  55080007   \n",
       "2  2023  1  52000  555508  1.2.643.5.1.13.13.12.2.55.5446  55550801  55080101   \n",
       "3  2023  1  52000  555508  1.2.643.5.1.13.13.12.2.55.5446  55550801  55080101   \n",
       "4  2023  1  52000  555508  1.2.643.5.1.13.13.12.2.55.5446  55550801  55080101   \n",
       "\n",
       "   7   8  9                 10     11   12   13    14  \n",
       "0  46  65  3  5500000001130322  H10.9  1.1  NaN  0.00  \n",
       "1  46  65  3  5500000001066333  T15.0  1.1  NaN  0.00  \n",
       "2  46  65  3  5500000001065937  H40.1  1.0    1  0.00  \n",
       "3  46  65  3  5500000001131483  H26.2  1.0    1  0.00  \n",
       "4  46  65  3  5500000001065937  H40.1  1.0    1  0.00  "
      ]
     },
     "execution_count": 3,
     "metadata": {},
     "output_type": "execute_result"
    }
   ],
   "source": [
    "df_test.head()"
   ]
  },
  {
   "cell_type": "code",
   "execution_count": 4,
   "id": "45a6f455-661c-4de6-839f-6ed0e1590134",
   "metadata": {
    "tags": []
   },
   "outputs": [],
   "source": [
    "# проверка количества столбцов\n",
    "e_0 = \"\\t- число столбцов \"+str(df_test.shape[1])+\" не соответствует модели\" if df_test.shape[1]!=15 else \"\"\n"
   ]
  },
  {
   "cell_type": "code",
   "execution_count": 5,
   "id": "2767c82e-43aa-46d1-b32c-05a62af30c28",
   "metadata": {
    "tags": []
   },
   "outputs": [],
   "source": [
    "# проверка столбца 9 на \"3\"\n",
    "e_test_3_1=\"\"\n",
    "try:\n",
    "    e_test_3=\"\\t- не все коды условий оказания МП равны 3\" if df_test[9].unique().astype(\"int\").sum()!=3 else \"\"\n",
    "except Exception:\n",
    "    e_test_3_1=\"\\t- в кодах условий оказания МП присутствуют нечисловые или нецелые значения\""
   ]
  },
  {
   "cell_type": "code",
   "execution_count": 6,
   "id": "abaf3e08-9130-42d9-953f-60ad23f7e01e",
   "metadata": {
    "tags": []
   },
   "outputs": [],
   "source": [
    "# правильные названия столбцов\n",
    "dict_columns={0: \"year\",\n",
    "             1: \"monht\",\n",
    "             2: \"oktmo\",\n",
    "             3: \"id_mo\",\n",
    "             4: \"id_oid\",\n",
    "             5: \"id_d\",\n",
    "             6: \"id_r\",\n",
    "             7: \"id_spec\",\n",
    "             8: \"id_pr\",\n",
    "             9: \"id_ump\",\n",
    "             10: \"id_doc\",\n",
    "             11: \"id_ds\",\n",
    "             12: \"id_pc\",\n",
    "             13: \"v_count\",\n",
    "             14: \"yet_sum\",}"
   ]
  },
  {
   "cell_type": "code",
   "execution_count": 7,
   "id": "3ebe99b7-661d-4b98-bbb9-925de0b8804e",
   "metadata": {
    "tags": []
   },
   "outputs": [
    {
     "name": "stdout",
     "output_type": "stream",
     "text": [
      "\t- столбец oktmo:\tпустых значений 2\n",
      "\t- столбец v_count:\tпустых значений 2\n"
     ]
    }
   ],
   "source": [
    "# проверка пустых значений\n",
    "for column in df_test.columns:\n",
    "    if df_test[column].isnull().sum()!=0:\n",
    "        print(f\"\\t- столбец {dict_columns[column]}:\\tпустых значений {df_test[column].isnull().sum()}\")"
   ]
  },
  {
   "cell_type": "code",
   "execution_count": 8,
   "id": "13a708a2-f91c-4916-814d-9487a150e698",
   "metadata": {
    "tags": []
   },
   "outputs": [],
   "source": [
    "df_test[9] = df_test[9].astype('int')"
   ]
  },
  {
   "cell_type": "code",
   "execution_count": 9,
   "id": "0fe772c6-02e7-44d5-b3df-a1b2af462ac4",
   "metadata": {
    "tags": []
   },
   "outputs": [
    {
     "name": "stdout",
     "output_type": "stream",
     "text": [
      "<class 'pandas.core.frame.DataFrame'>\n",
      "RangeIndex: 2572558 entries, 0 to 2572557\n",
      "Data columns (total 15 columns):\n",
      " #   Column  Dtype \n",
      "---  ------  ----- \n",
      " 0   0       object\n",
      " 1   1       object\n",
      " 2   2       object\n",
      " 3   3       object\n",
      " 4   4       object\n",
      " 5   5       object\n",
      " 6   6       object\n",
      " 7   7       object\n",
      " 8   8       object\n",
      " 9   9       int32 \n",
      " 10  10      object\n",
      " 11  11      object\n",
      " 12  12      object\n",
      " 13  13      object\n",
      " 14  14      object\n",
      "dtypes: int32(1), object(14)\n",
      "memory usage: 284.6+ MB\n"
     ]
    }
   ],
   "source": [
    "df_test.info()"
   ]
  },
  {
   "cell_type": "code",
   "execution_count": 10,
   "id": "cdf26313-f923-4e71-b494-8fa120e24dfb",
   "metadata": {
    "tags": []
   },
   "outputs": [],
   "source": [
    "# генератор индексов для случайного перебора строк в наборе\n",
    "rate_n=0.03\n",
    "test_list = random.sample(range(0, df_test.shape[0]), int(df_test.shape[0]*rate_n))"
   ]
  },
  {
   "cell_type": "code",
   "execution_count": 11,
   "id": "65db31a4-ca40-418d-a41a-b34cb526835f",
   "metadata": {
    "tags": []
   },
   "outputs": [
    {
     "name": "stdout",
     "output_type": "stream",
     "text": [
      "True\n"
     ]
    }
   ],
   "source": [
    "print(len(test_list) == len(set(test_list)))"
   ]
  },
  {
   "cell_type": "code",
   "execution_count": 13,
   "id": "717edaf8-15ae-4220-8182-d9504ff08cfb",
   "metadata": {
    "tags": []
   },
   "outputs": [
    {
     "name": "stdout",
     "output_type": "stream",
     "text": [
      "На тестовой выборке N=3.0% от набора данных:\n",
      "\t- не обнаружено нарушений диапазона значений года\n",
      "\t- не обнаружено нарушений диапазона значений месяца\n",
      "\t- не обнаружено нарушений структуры oid\n",
      "\t- обнаружены нарушения значений кода ОКТМО: количество символов не равно 11\n",
      "CPU times: total: 6.47 s\n",
      "Wall time: 12.7 s\n"
     ]
    }
   ],
   "source": [
    "%%time\n",
    "\n",
    "for test_index in test_list:\n",
    "    e_oid=\"\"\n",
    "    if len(df_test.loc[test_index][4].split(\".\"))!=11:\n",
    "        print(test_index, df_test.loc[test_index][4], \"неверное число групп\")\n",
    "        e_oid = \"нарушение структуры oid\"\n",
    "    e_year=\"\"\n",
    "    if df_test.loc[test_index][0] not in [\"2022\", \"2023\"]:\n",
    "        print(f\"нарушение целостности данных в строке {test_index}: год = \", df_test.loc[test_index][0])\n",
    "        e_year = \"нарушение диапазона значений года\"\n",
    "    e_month=\"\"\n",
    "    if df_test.loc[test_index][1] not in [\"1\",\n",
    "                                          \"01\",\n",
    "                                          \"2\",\n",
    "                                          \"02\",\n",
    "                                          \"3\",\n",
    "                                          \"03\",\n",
    "                                          \"4\",\n",
    "                                          \"04\",\n",
    "                                          \"5\",\n",
    "                                          \"05\",\n",
    "                                          \"6\",\n",
    "                                          \"06\",\n",
    "                                          \"7\",\n",
    "                                          \"07\",\n",
    "                                          \"8\",\n",
    "                                          \"08\",\n",
    "                                          \"9\",\n",
    "                                          \"09\",\n",
    "                                          \"10\",\n",
    "                                          \"11\",\n",
    "                                          \"12\"]:\n",
    "        print(f\"нарушение целостности данных в строке {test_index}: месяц = \", df_test.loc[test_index][1])\n",
    "        e_month = \"нарушение диапазона значений месяца\"\n",
    "    e_oktmo=\"\"\n",
    "    if len(df_test.loc[test_index][3])!=11:\n",
    "        e_oktmo=\"\\t- обнаружены нарушения значений кода ОКТМО: количество символов не равно 11\"\n",
    "print(f\"На тестовой выборке N={rate_n*100}% от набора данных:\")\n",
    "if e_year==\"\":\n",
    "    print(\"\\t- не обнаружено нарушений диапазона значений года\")\n",
    "else:\n",
    "    print(\"\\t- обнаружены нарушения диапазина значенй года\")\n",
    "if e_month==\"\":\n",
    "    print(\"\\t- не обнаружено нарушений диапазона значений месяца\")\n",
    "else:\n",
    "    print(\"\\t- обнаружены нарушения диапазона значений месяца\")\n",
    "if e_oid==\"\":\n",
    "    print(\"\\t- не обнаружено нарушений структуры oid\")\n",
    "else:\n",
    "    print(\"\\t- обнаружены нарушения структуры oid\")\n",
    "if e_oktmo==\"\":\n",
    "    print(\"\\t- не обнаружено нарушений структуры кода ОКТМО\")\n",
    "else:\n",
    "    print(e_oktmo)"
   ]
  },
  {
   "cell_type": "code",
   "execution_count": null,
   "id": "9aaaa108-d5a7-4048-85dd-0451275a7e98",
   "metadata": {},
   "outputs": [],
   "source": []
  }
 ],
 "metadata": {
  "kernelspec": {
   "display_name": "Python 3 (ipykernel)",
   "language": "python",
   "name": "python3"
  },
  "language_info": {
   "codemirror_mode": {
    "name": "ipython",
    "version": 3
   },
   "file_extension": ".py",
   "mimetype": "text/x-python",
   "name": "python",
   "nbconvert_exporter": "python",
   "pygments_lexer": "ipython3",
   "version": "3.11.6"
  },
  "widgets": {
   "application/vnd.jupyter.widget-state+json": {
    "state": {},
    "version_major": 2,
    "version_minor": 0
   }
  }
 },
 "nbformat": 4,
 "nbformat_minor": 5
}
