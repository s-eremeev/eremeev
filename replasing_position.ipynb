{
 "cells": [
  {
   "cell_type": "markdown",
   "id": "5c739ead-4be9-49ac-bd66-5773b1cf2609",
   "metadata": {},
   "source": [
    "# Как поменять местами долготу и широту?\n",
    "## Дан json, в котором определены границы некоторых полигонов через географические координаты вершин, при этом первой координатой указана долгота. Необходимо преобразовать данные так, чтобы первой была широта."
   ]
  },
  {
   "cell_type": "markdown",
   "id": "07815a23-37a3-4426-b681-a8bd89eae2ad",
   "metadata": {},
   "source": [
    "## Вариант исходный"
   ]
  },
  {
   "cell_type": "markdown",
   "id": "e7a0f675-52fc-46b1-a1b8-2940127d7f05",
   "metadata": {},
   "source": [
    "Исходные данные:"
   ]
  },
  {
   "cell_type": "code",
   "execution_count": 1,
   "id": "d3841496-06cc-48a9-9de1-cb8124eb404e",
   "metadata": {},
   "outputs": [],
   "source": [
    "test = {\"coordinates\": [\n",
    "    [[46.7005199,43.510489], [46.6990608,43.5172441], [46.6990723,43.5250906], [46.7005199,43.510489]],\n",
    "    [[47.4580961,43.2763076], [47.4539241,43.2912428], [47.4580961,43.2763076]]\n",
    "]}"
   ]
  },
  {
   "cell_type": "code",
   "execution_count": 2,
   "id": "9ca727cc-f64a-49d9-a483-c51b6d5c9a66",
   "metadata": {},
   "outputs": [],
   "source": [
    "# преобразуем весь словарь в строку и добавим служебные символы (в данном случае *) перед и после собственно координат\n",
    "example = (str (test ['coordinates'])).replace ('[4', '[*4', 100)\n",
    "for i in range (len (example)):\n",
    "    if example [i] in ['0', '1', '2', '3', '4', '5', '6', '7', '8', '9', '0'] and example [i + 1] == ']':\n",
    "        example = example.replace ((str (example [i: i + 2])), (str (example [i: i + 2])) [0] + '*' + (str (example [i: i + 2])) [1], 1)\n",
    "    else:\n",
    "        pass"
   ]
  },
  {
   "cell_type": "code",
   "execution_count": 3,
   "id": "f013fc03-cdff-456b-8689-45936a03ba16",
   "metadata": {},
   "outputs": [
    {
     "data": {
      "text/plain": [
       "'[[[*46.7005199, 43.510489*], [*46.6990608, 43.5172441*], [*46.6990723, 43.5250906*], [*46.7005199, 43.510489*]], [[*47.4580961, 43.2763076*], [*47.4539241, 43.2912428*], [*47.4580961, 43.2763076]]]'"
      ]
     },
     "execution_count": 3,
     "metadata": {},
     "output_type": "execute_result"
    }
   ],
   "source": [
    "# результат преобразования строки\n",
    "example"
   ]
  },
  {
   "cell_type": "code",
   "execution_count": 4,
   "id": "74c994bd-08a5-43b8-9480-25a123221dbc",
   "metadata": {},
   "outputs": [],
   "source": [
    "# при помощи срезов \"разберём\" строки, склеим в нужной последовательности и оформим словарём\n",
    "replasing_position = {}\n",
    "for i in range ( len (example)):\n",
    "    try:\n",
    "        if example [i] == '*' and example [i + 23] == ']':\n",
    "            position = example [i: i + 23]\n",
    "            real_position = position [12:100] + ', ' + position [1:11]\n",
    "            real_position = real_position.replace ('*, ', ', ', 1)\n",
    "            replasing_position [position] = real_position\n",
    "        elif example [i] == '*' and example [i + 24] == ']':\n",
    "            position = example [i: i + 24]\n",
    "            real_position = position [12:100] + ', ' + position [1:11]\n",
    "            real_position = real_position.replace ('*, ', ', ', 1)\n",
    "            replasing_position [position] = real_position\n",
    "    except:\n",
    "        pass"
   ]
  },
  {
   "cell_type": "code",
   "execution_count": 5,
   "id": "a7f014cc-6cec-4922-ac40-d3c58a152c01",
   "metadata": {},
   "outputs": [
    {
     "data": {
      "text/plain": [
       "{'*46.7005199, 43.510489*': ' 43.510489, 46.7005199',\n",
       " '*46.6990608, 43.5172441*': ' 43.5172441, 46.6990608',\n",
       " '*46.6990723, 43.5250906*': ' 43.5250906, 46.6990723',\n",
       " '*47.4580961, 43.2763076*': ' 43.2763076, 47.4580961',\n",
       " '*47.4539241, 43.2912428*': ' 43.2912428, 47.4539241',\n",
       " '*47.4580961, 43.2763076': ' 43.2763076, 47.4580961'}"
      ]
     },
     "execution_count": 5,
     "metadata": {},
     "output_type": "execute_result"
    }
   ],
   "source": [
    "# словарь\n",
    "replasing_position"
   ]
  },
  {
   "cell_type": "code",
   "execution_count": 6,
   "id": "020e2d91-1471-4a99-b6e8-c980458cc411",
   "metadata": {},
   "outputs": [],
   "source": [
    "# избавимся от мусора\n",
    "result = {}\n",
    "for key, value in replasing_position.items ():\n",
    "    result [key.strip ('*')] = value.strip ('*').replace (' ', '', 1)"
   ]
  },
  {
   "cell_type": "code",
   "execution_count": 7,
   "id": "00cbd332-ba72-4d24-826f-d89e9cb3525b",
   "metadata": {},
   "outputs": [
    {
     "data": {
      "text/plain": [
       "{'46.7005199, 43.510489': '43.510489, 46.7005199',\n",
       " '46.6990608, 43.5172441': '43.5172441, 46.6990608',\n",
       " '46.6990723, 43.5250906': '43.5250906, 46.6990723',\n",
       " '47.4580961, 43.2763076': '43.2763076, 47.4580961',\n",
       " '47.4539241, 43.2912428': '43.2912428, 47.4539241'}"
      ]
     },
     "execution_count": 7,
     "metadata": {},
     "output_type": "execute_result"
    }
   ],
   "source": [
    "result"
   ]
  },
  {
   "cell_type": "code",
   "execution_count": 8,
   "id": "f73abc68-70ad-4347-97a9-84c16e0722f2",
   "metadata": {},
   "outputs": [],
   "source": [
    "# изменим в исходной строке прежние пары координат на новые (для этого и нужны были служебные символы)\n",
    "new_srting = ''\n",
    "for element in example.split ('*'):\n",
    "    if element not in result:\n",
    "        new_srting += element\n",
    "    else:\n",
    "        new_srting += result [element]"
   ]
  },
  {
   "cell_type": "code",
   "execution_count": 9,
   "id": "2874657e-bab2-411f-9660-47d03b54d36d",
   "metadata": {},
   "outputs": [
    {
     "data": {
      "text/plain": [
       "'[[[43.510489, 46.7005199], [43.5172441, 46.6990608], [43.5250906, 46.6990723], [43.510489, 46.7005199]], [[43.2763076, 47.4580961], [43.2912428, 47.4539241], [47.4580961, 43.2763076]]]'"
      ]
     },
     "execution_count": 9,
     "metadata": {},
     "output_type": "execute_result"
    }
   ],
   "source": [
    "# строка в котрой полностью сохранена структура исходного словаря, а пары координат заменены на пары \"наоборот\"\n",
    "new_srting"
   ]
  },
  {
   "cell_type": "code",
   "execution_count": 10,
   "id": "b3e8e668-b161-45b9-8b34-ab524218b455",
   "metadata": {},
   "outputs": [],
   "source": [
    "import json"
   ]
  },
  {
   "cell_type": "code",
   "execution_count": 11,
   "id": "b0610074-cad6-4374-8e36-35deb7dd4df3",
   "metadata": {},
   "outputs": [],
   "source": [
    "# вернём строку в формат списка и создадим словарь\n",
    "res = {}\n",
    "res [\"coordinates\"] = json.loads(new_srting)"
   ]
  },
  {
   "cell_type": "code",
   "execution_count": 12,
   "id": "3fed6123-aee1-410c-a143-d9b055ccce16",
   "metadata": {},
   "outputs": [
    {
     "data": {
      "text/plain": [
       "{'coordinates': [[[43.510489, 46.7005199],\n",
       "   [43.5172441, 46.6990608],\n",
       "   [43.5250906, 46.6990723],\n",
       "   [43.510489, 46.7005199]],\n",
       "  [[43.2763076, 47.4580961],\n",
       "   [43.2912428, 47.4539241],\n",
       "   [47.4580961, 43.2763076]]]}"
      ]
     },
     "execution_count": 12,
     "metadata": {},
     "output_type": "execute_result"
    }
   ],
   "source": [
    "res"
   ]
  },
  {
   "cell_type": "markdown",
   "id": "e33d41d7-d414-44ab-a73a-6b8b16a516d3",
   "metadata": {},
   "source": [
    "Строке безразлична структура и иерархия, это же просто строка. Важно только правильно расставить служебные символы и определить индексы срезов. Но поскольку изначально опираемся мы не на индексы, а на сочетания символов, код должен работать, по идее, с любой структурой."
   ]
  },
  {
   "cell_type": "markdown",
   "id": "b097c2bb-35ed-4f0e-8f40-45263518d506",
   "metadata": {},
   "source": [
    "***"
   ]
  },
  {
   "cell_type": "markdown",
   "id": "9600fa1f-807a-40f6-8c86-4915d78f0880",
   "metadata": {},
   "source": [
    "## Вариант покороче, но по сути то же самое"
   ]
  },
  {
   "cell_type": "code",
   "execution_count": 75,
   "id": "05fcb6b5-f346-423f-844c-9c24ef5d618b",
   "metadata": {},
   "outputs": [],
   "source": [
    "# на выбор любой test\n",
    "test = {\"coordinates\": [\n",
    "    [[46.7005199,43.510489], [46.6990608,43.5172441], [46.6990723,43.5250906], [46.7005199,43.510489]],\n",
    "    [[47.4580961,43.2763076], [47.4539241,43.2912428], [47.4580961,43.2763076]]\n",
    "]}"
   ]
  },
  {
   "cell_type": "code",
   "execution_count": 78,
   "id": "ebbd21e4-4517-43c7-893e-8b066979e913",
   "metadata": {},
   "outputs": [],
   "source": [
    "test = {\"coordinates\": [\n",
    "    [[[46.7005199,43.510489], [46.6990608,43.5172441]], [[46.6990723,43.5250906], [46.7005199,43.510489]]],\n",
    "    [[47.4580961,43.2763076], [[47.4539241,43.2912428], [47.4580961,43.2763076]]],\n",
    "    [[47.4580961,43.2763076], [[47.4539241,43.2912428], [47.4580961,43.2763076]]]\n",
    "]}"
   ]
  },
  {
   "cell_type": "code",
   "execution_count": 79,
   "id": "b628a356-44d2-4fe9-8b93-fedec151e3b7",
   "metadata": {},
   "outputs": [],
   "source": [
    "import json\n",
    "\n",
    "string = str (test ['coordinates'])\n",
    "for i in range (len (string)):\n",
    "    if string [i] in ['0', '1', '2', '3', '4', '5', '6', '7', '8', '9', '0'] and string [i - 1] == '[':\n",
    "        string = string.replace (str (string [i - 1] + string [i]), str ('[|' + string [i]), 3)\n",
    "    elif string [i] in ['0', '1', '2', '3', '4', '5', '6', '7', '8', '9', '0'] and string [i + 1] == ']':\n",
    "        string = string.replace (str (string [i] + string [i + 1]), str (string [i] + '|]'), 3)\n",
    "        \n",
    "list_ = string.split ('|')\n",
    "for element in list_:\n",
    "    if len (element) > 10:\n",
    "        list_element = element.split (', ')\n",
    "        new_element = list_element [1] + ', ' + list_element [0]\n",
    "        string = string.replace (element, new_element, 1)\n",
    "    else:\n",
    "        pass\n",
    "    \n",
    "string = string.replace ('|', '', 20)\n",
    "res = {}\n",
    "res [\"coordinates\"] = json.loads(string)"
   ]
  },
  {
   "cell_type": "code",
   "execution_count": 80,
   "id": "faee0eb0-afd1-4a95-bbd0-1575aa46dcf9",
   "metadata": {},
   "outputs": [
    {
     "data": {
      "text/plain": [
       "{'coordinates': [[[[43.510489, 46.7005199], [43.5172441, 46.6990608]],\n",
       "   [[43.5250906, 46.6990723], [43.510489, 46.7005199]]],\n",
       "  [[43.2763076, 47.4580961],\n",
       "   [[43.2912428, 47.4539241], [43.2763076, 47.4580961]]],\n",
       "  [[43.2763076, 47.4580961],\n",
       "   [[43.2912428, 47.4539241], [43.2763076, 47.4580961]]]]}"
      ]
     },
     "execution_count": 80,
     "metadata": {},
     "output_type": "execute_result"
    }
   ],
   "source": [
    "res"
   ]
  },
  {
   "cell_type": "markdown",
   "id": "dbc23f1e-d0df-43a2-af66-66f2cfcd83b9",
   "metadata": {},
   "source": [
    "***"
   ]
  },
  {
   "cell_type": "markdown",
   "id": "f48e39ca-b6ef-4457-96fa-26d7bd60fa37",
   "metadata": {},
   "source": [
    "## **Регулярные выражения**"
   ]
  },
  {
   "cell_type": "code",
   "execution_count": 12,
   "id": "d35e4a12-7034-4951-8ca5-a52eeadfbcb1",
   "metadata": {},
   "outputs": [],
   "source": [
    "import re\n",
    "import json"
   ]
  },
  {
   "cell_type": "code",
   "execution_count": 26,
   "id": "def0e321-09e7-4b39-ac49-c017d858e45d",
   "metadata": {},
   "outputs": [],
   "source": [
    "position = {'coordinates': [\n",
    "    [[46.7005199, 43.510489], [46.6990608, 43.5172441], [46.6990723, 43.5250906], [46.7005199, 43.510489]],\n",
    "    [[47.4580961, 43.2763076], [47.4539241, 43.2912428], [47.4580961, 43.2763076]]\n",
    "]}"
   ]
  },
  {
   "cell_type": "code",
   "execution_count": 27,
   "id": "538113f3-9802-476f-a15c-c9c37466bab7",
   "metadata": {},
   "outputs": [
    {
     "data": {
      "text/plain": [
       "{'coordinates': [[[46.7005199, 43.510489],\n",
       "   [46.6990608, 43.5172441],\n",
       "   [46.6990723, 43.5250906],\n",
       "   [46.7005199, 43.510489]],\n",
       "  [[47.4580961, 43.2763076],\n",
       "   [47.4539241, 43.2912428],\n",
       "   [47.4580961, 43.2763076]]]}"
      ]
     },
     "execution_count": 27,
     "metadata": {},
     "output_type": "execute_result"
    }
   ],
   "source": [
    "position"
   ]
  },
  {
   "cell_type": "code",
   "execution_count": 28,
   "id": "2f4859d0-7c6c-474d-8818-e2aa2f7c5710",
   "metadata": {},
   "outputs": [],
   "source": [
    "# в одну строчку! В одну строчку, Карл!\n",
    "def rep_pos (position):\n",
    "    \"\"\"\n",
    "    функция принимает на вход словарь любой вложенности с географическими координтами вида:\n",
    "    position = {'coordinates': [[[46.7005199, 43.510489], [46.6990608, 43.5172441], [46.6990723, 43.5250906], [46.7005199, 43.510489]],\n",
    "    [[47.4580961, 43.2763076], [47.4539241, 43.2912428], [47.4580961, 43.2763076]]]}\n",
    "    и возвращает такой же словарь, в котором широта и долгота поменяны местами\n",
    "    \"\"\"\n",
    "    position ['coordinates'] = json.loads(re.sub (r'(\\d\\d\\.\\d{6,7})(,\\s)(\\d\\d\\.\\d{6,7})', r'\\3\\2\\1', str (position['coordinates'])))\n",
    "    return position"
   ]
  },
  {
   "cell_type": "code",
   "execution_count": 29,
   "id": "131638db-4d17-4448-b444-ce3415e1669e",
   "metadata": {},
   "outputs": [
    {
     "data": {
      "text/plain": [
       "{'coordinates': [[[43.510489, 46.7005199],\n",
       "   [43.5172441, 46.6990608],\n",
       "   [43.5250906, 46.6990723],\n",
       "   [43.510489, 46.7005199]],\n",
       "  [[43.2763076, 47.4580961],\n",
       "   [43.2912428, 47.4539241],\n",
       "   [43.2763076, 47.4580961]]]}"
      ]
     },
     "execution_count": 29,
     "metadata": {},
     "output_type": "execute_result"
    }
   ],
   "source": [
    "rep_pos (position)"
   ]
  },
  {
   "cell_type": "code",
   "execution_count": 24,
   "id": "43140578-6379-4270-a9c6-febf0ee4a868",
   "metadata": {},
   "outputs": [],
   "source": [
    "test = {\"coordinates\": [\n",
    "    [[[46.7005199,43.510489], [46.6990608,43.5172441]], [[46.6990723,43.5250906], [46.7005199,43.510489]]],\n",
    "    [[47.4580961,43.2763076], [[47.4539241,43.2912428], [47.4580961,43.2763076]]],\n",
    "    [[47.4580961,43.2763076], [[47.4539241,43.2912428], [47.4580961,43.2763076]]]\n",
    "]}"
   ]
  },
  {
   "cell_type": "code",
   "execution_count": 25,
   "id": "e525c401-996a-4ce5-9abd-14751c6736ef",
   "metadata": {},
   "outputs": [
    {
     "data": {
      "text/plain": [
       "{'coordinates': [[[[43.510489, 46.7005199], [43.5172441, 46.6990608]],\n",
       "   [[43.5250906, 46.6990723], [43.510489, 46.7005199]]],\n",
       "  [[43.2763076, 47.4580961],\n",
       "   [[43.2912428, 47.4539241], [43.2763076, 47.4580961]]],\n",
       "  [[43.2763076, 47.4580961],\n",
       "   [[43.2912428, 47.4539241], [43.2763076, 47.4580961]]]]}"
      ]
     },
     "execution_count": 25,
     "metadata": {},
     "output_type": "execute_result"
    }
   ],
   "source": [
    "rep_pos (test)"
   ]
  },
  {
   "cell_type": "code",
   "execution_count": null,
   "id": "77463eef-c953-4131-bc61-d50d37a60972",
   "metadata": {},
   "outputs": [],
   "source": []
  }
 ],
 "metadata": {
  "kernelspec": {
   "display_name": "Python 3 (ipykernel)",
   "language": "python",
   "name": "python3"
  },
  "language_info": {
   "codemirror_mode": {
    "name": "ipython",
    "version": 3
   },
   "file_extension": ".py",
   "mimetype": "text/x-python",
   "name": "python",
   "nbconvert_exporter": "python",
   "pygments_lexer": "ipython3",
   "version": "3.8.13"
  },
  "widgets": {
   "application/vnd.jupyter.widget-state+json": {
    "state": {},
    "version_major": 2,
    "version_minor": 0
   }
  }
 },
 "nbformat": 4,
 "nbformat_minor": 5
}
